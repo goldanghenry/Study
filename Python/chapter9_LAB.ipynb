{
 "cells": [
  {
   "cell_type": "markdown",
   "metadata": {},
   "source": [
    "# Chapter9 LAB\n",
    "- 9.1 객체 지향 프로그래밍과 객체\n",
    "- 객체 : 다양한 기능을 수행하도록 속성과 메소드를 가진 요소\n",
    "- 문자열str 이라는 클래스 자료형에 문자와 관련된 다양한 처리기능이 미리 잘 정의되어 있어 여러 메소드를 사용할 수 있다.\n",
    "- type()은 객체의 자료형을 알려주는 함수, id()는 객체의 id 값을 반환함\n",
    "객체마다 고유한 id 값을 가진다\n",
    "- python3 부터는 \\__div__() 메소드 대신, \\__truedic__()사용한다. 전자는 오류.\n",
    "- dir(class)는 class의 속성과 메소드를 반환"
   ]
  },
  {
   "cell_type": "markdown",
   "metadata": {},
   "source": [
    "### LAB 9.1 객체와 메소드 호출"
   ]
  },
  {
   "cell_type": "code",
   "execution_count": 3,
   "metadata": {},
   "outputs": [
    {
     "name": "stdout",
     "output_type": "stream",
     "text": [
      "100\n",
      "20000\n",
      "2.0\n",
      "40\n"
     ]
    },
    {
     "data": {
      "text/plain": [
       "['__add__',\n",
       " '__class__',\n",
       " '__class_getitem__',\n",
       " '__contains__',\n",
       " '__delattr__',\n",
       " '__delitem__',\n",
       " '__dir__',\n",
       " '__doc__',\n",
       " '__eq__',\n",
       " '__format__',\n",
       " '__ge__',\n",
       " '__getattribute__',\n",
       " '__getitem__',\n",
       " '__gt__',\n",
       " '__hash__',\n",
       " '__iadd__',\n",
       " '__imul__',\n",
       " '__init__',\n",
       " '__init_subclass__',\n",
       " '__iter__',\n",
       " '__le__',\n",
       " '__len__',\n",
       " '__lt__',\n",
       " '__mul__',\n",
       " '__ne__',\n",
       " '__new__',\n",
       " '__reduce__',\n",
       " '__reduce_ex__',\n",
       " '__repr__',\n",
       " '__reversed__',\n",
       " '__rmul__',\n",
       " '__setattr__',\n",
       " '__setitem__',\n",
       " '__sizeof__',\n",
       " '__str__',\n",
       " '__subclasshook__',\n",
       " 'append',\n",
       " 'clear',\n",
       " 'copy',\n",
       " 'count',\n",
       " 'extend',\n",
       " 'index',\n",
       " 'insert',\n",
       " 'pop',\n",
       " 'remove',\n",
       " 'reverse',\n",
       " 'sort']"
      ]
     },
     "execution_count": 3,
     "metadata": {},
     "output_type": "execute_result"
    }
   ],
   "source": [
    "# 1. 다음 메소드 호출 결과는 무엇인가?\n",
    "print((200).__sub__(100))\n",
    "print((200).__mul__(100))\n",
    "print((200).__truediv__(100))\n",
    "\n",
    "# 2. 다음 메소드 호출 결과는 무엇인가?\n",
    "print([10,20,30,40].pop())\n",
    "\n",
    "# 3. 다음 중 리스트 객체가 호출할 수 없는 메소드는 무엇인가?\n",
    "# print([10,20,30,40].keys())\n",
    "\n",
    "# 4. 다음과 같은 방법으로 int 클래스의 메소드와 속성을 조사하여라.\n",
    "dir(int)\n",
    "\n",
    "# 5. 다음과 같은 방법으로 list 클래스의 메소드와 속성을 조사하라.\n",
    "dir(list)"
   ]
  },
  {
   "cell_type": "markdown",
   "metadata": {},
   "source": [
    "### LAB 9.2\n",
    "1. 다음 용어들을 정의하라\n",
    "- 객체 지향 프로그래밍 : object oriented programming, 프로그램을 실제 세상에 가깝게 모델링하는 기법\n",
    "- 절차적 프로그래밍 : 함수나 모듈을 문제해결 순서에 맞게 호출해 수행하는 기법\n",
    "- 그래픽 사용자 인터페이스 : 다양한 그래픽 요소들을 통해 명령을 내리는 등 작업을 처리한다.\n",
    "\n",
    "2. 객체 지향 프로그래밍 기법과 절차적 기법의 차이점을 기술하라<br>\n",
    ": 절차적 기법은 현실 세계를 모델링 할 때, 그 의미를 변수의 이름에 의존하는데, 정보 사이의 관계를 모델링하기 어렵다. 또한 자료의 값 또는 종류에 따른 함수 호출 문제로 제어구조가 복잡한다. 따라서 대규모 프로젝트에서는 큰 어려움이 있다. <br>\n",
    " 반면 객체 지향 프로그래밍은 클래스를 이용해 객체를 생성한다. 클래스는 속성과 행위를 가지도록 설계하고 이 클래스를 이용해 상호작용하는 개체를 만들어서 프로그램에 적용시키는 방법을 사용한다. 유지보수 비용이 적다."
   ]
  },
  {
   "cell_type": "markdown",
   "metadata": {},
   "source": [
    "### LAB 9.3\n",
    "1. 다음 용어를 정의하여라.\n",
    "- 클래스 : 프로그램 상에서 사용되는 속성과 행위를 모아놓은 집합체, 설계도, 청사진, 템플릿\n",
    "- 객체 : 하나의 사물\n",
    "- 인스턴스 : 어떤 클래스에 의해 만들어진 사물, 서로 다른 인스턴스는 다른 속성 값을 가질 수 있다.\n",
    "- 클래스의 속성 : 각각의 인스턴스들이 개별적으로 가지는 속성을 저장하는 변수\n",
    "- 클래스의 동작(메소드, 멤버함수) : 클래스 내부에서 정의되어 클래스나 클래스 인스턴스가 사용하는 함수\n",
    "<br><br>\n",
    "- 메소드의 매개변수인 self 자기 자신을 참조하는 변수, 첫 번째로 반드시 들어가야 한다.\n",
    "- 인스턴스의 메소드 호출법"
   ]
  },
  {
   "cell_type": "markdown",
   "metadata": {},
   "source": [
    "### LAB 9.4\n",
    "1. 다음 기능을 가진 Dog 클래스와 객체를 생성하라."
   ]
  },
  {
   "cell_type": "code",
   "execution_count": 4,
   "metadata": {},
   "outputs": [
    {
     "name": "stdout",
     "output_type": "stream",
     "text": [
      "멍멍~~\n"
     ]
    }
   ],
   "source": [
    "class Dog:\n",
    "    def bark(self):\n",
    "        print(\"멍멍~~\")\n",
    "\n",
    "my_dog = Dog()\n",
    "my_dog.bark()"
   ]
  },
  {
   "cell_type": "markdown",
   "metadata": {},
   "source": [
    "### LAB 9.5\n",
    "1. 다음 기능을 가진 Dog 클래스를 생성하고 인스턴스와 메소드를 호출하여라."
   ]
  },
  {
   "cell_type": "code",
   "execution_count": 5,
   "metadata": {},
   "outputs": [
    {
     "name": "stdout",
     "output_type": "stream",
     "text": [
      "멍멍~~\n"
     ]
    }
   ],
   "source": [
    "class Dog:\n",
    "    # 생성자 혹은 초기화 메소드\n",
    "    # 파이썬은 하나의 생성자만 허용함. 디폴트 매개변수를 통해 여러가지 객체 생성 가능\n",
    "    def __init__(self, name):\n",
    "        self.name = name    # 인스턴스 변수 or 멤버 변수 or 필드 or 속성\n",
    "    def bark(self):\n",
    "        print(\"멍멍~~\")\n",
    "\n",
    "my_dog = Dog('Jinho')\n",
    "my_dog.bark()"
   ]
  },
  {
   "cell_type": "markdown",
   "metadata": {},
   "source": [
    "### LAB 9.6\n",
    "- \\__str__() 메서드 : 어떤 객체의 문자열 표현 방식을 정의하는데 반환 값은 문자열\n",
    "\n",
    "1. 다음 기능을 가진 Dog 클래스를 생성하고 인스턴스와 메소드를 호출하라."
   ]
  },
  {
   "cell_type": "code",
   "execution_count": 6,
   "metadata": {},
   "outputs": [
    {
     "name": "stdout",
     "output_type": "stream",
     "text": [
      "my_dog의 정보 : Dog(name = Jinho)\n"
     ]
    }
   ],
   "source": [
    "class Dog:\n",
    "    def __init__(self, name):\n",
    "        self.name = name\n",
    "    def __str__(self):\n",
    "        return 'my_dog의 정보 : Dog(name = '+self.name+')'\n",
    "\n",
    "my_dog = Dog('Jinho')\n",
    "print(my_dog)"
   ]
  },
  {
   "cell_type": "markdown",
   "metadata": {},
   "source": [
    "### LAB 9.7\n",
    "- 캡슐화(encapsulation) : 메소드와 변수를 외부에서 함부로 조작하는 것을 제한함\n",
    "- 객체의 아이덴티티 연산(identity operator) : is, is not<br>\n",
    "두 인스턴스가 같으면 True, 다르면 False<br>\n",
    "-> 내용이 같더라도 id 값이 다르다(서로 다른 메모리 위치에 저장됨).\n",
    "- == 연산자는 두 인스턴스의 속성 값 즉 인스턴스 변수 값이 서로 일치하는지 확인\n",
    "<br> -> str 객체는 메모리를 절약하기 위해 같은 객체를 사용한다.\n",
    "1. 다음 코드의 수행 결과는 무엇인가? 결과를 적고 그 이유를 설명하라."
   ]
  },
  {
   "cell_type": "code",
   "execution_count": 5,
   "metadata": {},
   "outputs": [
    {
     "name": "stdout",
     "output_type": "stream",
     "text": [
      "n is m\n",
      "3140065365328\n",
      "3140065365328\n",
      "3140065362224\n"
     ]
    }
   ],
   "source": [
    "n = 100\n",
    "m = 100\n",
    "if n is m:\n",
    "    print('n is m')\n",
    "else:\n",
    "    print('n is not m')\n",
    "# int 객체는 str객체와 마찬가지로 같은 내용이라면 같은 메모리를 참조한다."
   ]
  },
  {
   "cell_type": "code",
   "execution_count": 3,
   "metadata": {},
   "outputs": [
    {
     "name": "stdout",
     "output_type": "stream",
     "text": [
      "Cat(name=나비, age=3)\n"
     ]
    }
   ],
   "source": [
    "# property encapsulation\n",
    "class CAT:\n",
    "    def __init__(self, name, age):\n",
    "        self.__name = name  \n",
    "        self.__age = age\n",
    "    def __str__(self):\n",
    "        return 'Cat(name='+self.__name+', age='+str(self.__age)+')' # str로 변환\n",
    "    def set_age(self, age):\n",
    "        if age > 0:\n",
    "            self.__age = age\n",
    "    def get_age(self):\n",
    "        return self.__age\n",
    "\n",
    "nabi = CAT('나비', 3)\n",
    "print(nabi)"
   ]
  },
  {
   "cell_type": "markdown",
   "metadata": {},
   "source": [
    "### LAB 9.8\n",
    "- 특수 메소드\n",
    "- \\__pow__()\n",
    "- \\__floordiv__() : 몫\n",
    "- \\__pos__() : +x\n"
   ]
  },
  {
   "cell_type": "code",
   "execution_count": 1,
   "metadata": {},
   "outputs": [
    {
     "name": "stdout",
     "output_type": "stream",
     "text": [
      "(1)\n",
      "v1 * v2 = (300, 800)\n",
      "v1 / v2 = (3.0, 2.0)\n",
      "(2)\n",
      "-v1 = (-10, -20)\n"
     ]
    }
   ],
   "source": [
    "class Vector2D:\n",
    "    def __init__(self, x, y):\n",
    "        self.x = x\n",
    "        self.y = y\n",
    "    def __add__(self, other):\n",
    "        return Vector2D(self.x + other.x, self.y + other.y)\n",
    "    def __sub__(self, other):\n",
    "        return Vector2D(self.x - other.x, self.y - other.y)\n",
    "    def __mul__(self, other):\n",
    "        return Vector2D(self.x * other.x, self.y * other.y)\n",
    "    def __truediv__(self, other):\n",
    "        return Vector2D(self.x / other.x, self.y / other.y)\n",
    "    def __str__(self):\n",
    "        return \"({}, {})\".format(self.x, self.y)\n",
    "    def __neg__(self):\n",
    "        return Vector2D(-self.x, -self.y)\n",
    "\n",
    "v1 = Vector2D(30, 40)\n",
    "v2 = Vector2D(10, 20)\n",
    "v3 = v1 * v2\n",
    "print('(1)')\n",
    "print('v1 * v2 =', v3)\n",
    "v4 = v1 / v2\n",
    "print('v1 / v2 =', v4)\n",
    "print('(2)')\n",
    "v1 = Vector2D(10, 20)\n",
    "print('-v1 =', -v1)"
   ]
  },
  {
   "cell_type": "markdown",
   "metadata": {},
   "source": [
    "### LAB 9.9"
   ]
  },
  {
   "cell_type": "markdown",
   "metadata": {},
   "source": [
    "** 비교 연산자에 해당하는 특수 메소드\n",
    "- x < y : \\__lt__(self, other)\n",
    "- x <= y : \\__le__(self, other)\n",
    "- x >= y : \\__ge__(self, other)\n",
    "- x > y : \\__gt__(self, other)\n",
    "- x == y : \\__eq__(self, other)\n",
    "- x != y : \\__ne__(self, other)"
   ]
  },
  {
   "cell_type": "code",
   "execution_count": 8,
   "metadata": {},
   "outputs": [
    {
     "name": "stdout",
     "output_type": "stream",
     "text": [
      "v1 > v2 = True\n",
      "v1 >= v2 = True\n",
      "v1 < v2 = False\n",
      "v1 <= v2 = False\n"
     ]
    }
   ],
   "source": [
    "class Vector:\n",
    "    def __init__(self, x,y):\n",
    "        self.x = x\n",
    "        self.y = y\n",
    "    def __gt__(self, other):\n",
    "        if self.x > other.x and self.y > other.y:\n",
    "            return 'True'\n",
    "        else:\n",
    "            return 'False'\n",
    "    def __ge__(self, other):\n",
    "        if self.x >= other.x and self.y >= other.y:\n",
    "            return 'True'\n",
    "        else:\n",
    "            return 'False'\n",
    "    def __lt__(self, other):\n",
    "        if self.x < other.x and self.y < other.y:\n",
    "            return 'True'\n",
    "        else:\n",
    "            return 'False'\n",
    "    def __le__(self, other):\n",
    "        if self.x <= other.x and self.y <= other.y:\n",
    "            return 'True'\n",
    "        else:\n",
    "            return 'False'\n",
    "\n",
    "v1 = Vector(30,40)\n",
    "v2 = Vector(10,20)\n",
    "\n",
    "print('v1 > v2 =', v1 > v2)\n",
    "print('v1 >= v2 =', v1 >= v2)\n",
    "print('v1 < v2 =', v1 < v2)\n",
    "print('v1 <= v2 =', v1 <= v2)"
   ]
  },
  {
   "cell_type": "markdown",
   "metadata": {},
   "source": [
    "### LAB 9.10"
   ]
  },
  {
   "cell_type": "code",
   "execution_count": 18,
   "metadata": {},
   "outputs": [
    {
     "name": "stdout",
     "output_type": "stream",
     "text": [
      "c1의 면적 : 50.264\n",
      "{'name': 'c1', '_Circle__radius': 4}\n",
      "c1\n"
     ]
    }
   ],
   "source": [
    "# 클래스 변수는 개별 인스턴스가 모두 공유해 가지도록 하는 것. <-> 속성\n",
    "# 클래스의 가장 상단에 선언\n",
    "class Circle:\n",
    "    PI = 3.1415\n",
    "    def __init__(self, name, radius):\n",
    "        self.name = name\n",
    "        self.__radius = radius\n",
    "    def area(self):\n",
    "        return Circle.PI * self.__radius **2    # 클래스 변수를 사용할 때는 클래스.변수이름\n",
    "    \n",
    "c1 = Circle(\"c1\", 4)\n",
    "print(\"c1의 면적 :\", c1.area())\n",
    "print(c1.__dict__)  # dict를 이용해 인스턴스의 속성값을 볼 수 있다.\n",
    "print(c1.__dict__['name'])"
   ]
  },
  {
   "cell_type": "code",
   "execution_count": 15,
   "metadata": {},
   "outputs": [
    {
     "name": "stdout",
     "output_type": "stream",
     "text": [
      "{'width': 100, 'height': 200}\n",
      "100\n"
     ]
    }
   ],
   "source": [
    "# 다음과 같은 코드의 수행 결과는 무엇인가?\n",
    "class Rect:\n",
    "    def __init__(self, width, height):\n",
    "        self.width = width\n",
    "        self.height = height\n",
    "        \n",
    "r1 = Rect(100,200)\n",
    "print(r1.__dict__)\n",
    "print(r1.__dict__['width'])\n"
   ]
  },
  {
   "cell_type": "code",
   "execution_count": 20,
   "metadata": {},
   "outputs": [
    {
     "name": "stdout",
     "output_type": "stream",
     "text": [
      "{'_Rect__width': 100, '_Rect__height': 200}\n",
      "100\n"
     ]
    }
   ],
   "source": [
    "# 다음과 같은 코드의 수행 결과는 무엇인가?\n",
    "class Rect:\n",
    "    def __init__(self, width, height):\n",
    "        self.__width = width\n",
    "        self.__height = height\n",
    "        \n",
    "r1 = Rect(100,200)\n",
    "print(r1.__dict__)\n",
    "print(r1.__dict__['_Rect__width'])\n",
    "# print(r1.__dict__['width'])"
   ]
  },
  {
   "cell_type": "code",
   "execution_count": 21,
   "metadata": {},
   "outputs": [
    {
     "name": "stdout",
     "output_type": "stream",
     "text": [
      "3140065365328\n",
      "3140065365328\n"
     ]
    }
   ],
   "source": [
    "# 객에와 참조, 할당연산의 의미\n",
    "n = 100 # 변수명이란 객체에 대한 참조명, 즉 100이란 객체를 n이라는 이름의 변수를 통해서 접근\n",
    "print(id(100))  \n",
    "print(id(n))\n",
    "print()\n",
    "m = n # 할당 연산자 =는 객체에 대한 참조와 재참조를 수행, 두 변수가 동일한 객체를 참조하는 관계\n",
    "\n",
    "# 불변 속성을 가진 객체 참조\n",
    "# 정수, 실수, 문자열, 부울, 투플 객체는 불변형 객체이다. 따라서 참조와 재참조를 수행하는 =연산을 수행할 경우 \n",
    "# 동일한 객체를 참조하게 된다.\n",
    "\n",
    "n = 200\n",
    "print(id(n))\n",
    "print(id(m))\n",
    "\n",
    "# n을 200으로 변경하면 객체 100을 참조하는 변수가 존재하지 않기 때문에 메모리 낭비 -> 가비지\n",
    "# 가비지를 정리하는 메모리관리 절차를 가바지 수집(garbage collection)이라 한다.\n"
   ]
  }
 ],
 "metadata": {
  "kernelspec": {
   "display_name": "Python 3.10.6 64-bit",
   "language": "python",
   "name": "python3"
  },
  "language_info": {
   "codemirror_mode": {
    "name": "ipython",
    "version": 3
   },
   "file_extension": ".py",
   "mimetype": "text/x-python",
   "name": "python",
   "nbconvert_exporter": "python",
   "pygments_lexer": "ipython3",
   "version": "3.10.6 (tags/v3.10.6:9c7b4bd, Aug  1 2022, 21:53:49) [MSC v.1932 64 bit (AMD64)]"
  },
  "orig_nbformat": 4,
  "vscode": {
   "interpreter": {
    "hash": "20c9d94bea3bcd43e69d1e5f02ce962985699c48de0c68502218d203d4c4e41a"
   }
  }
 },
 "nbformat": 4,
 "nbformat_minor": 2
}
