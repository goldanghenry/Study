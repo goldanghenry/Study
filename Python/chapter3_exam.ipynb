{
 "cells": [
  {
   "cell_type": "markdown",
   "metadata": {},
   "source": [
    "## Chapter3 Control Statement\n",
    "- <b>notice</b><br>\n",
    "-들여쓰기 : space*4 or tab<br>\n",
    "-for는 횟수, while은 조건부 반복<br>\n",
    "-pass : 클래스와 함수 등을 구현할 때, 나중에 구현할 부분에 pass를 넣으면 오류없이 실행할 수 있다<br>\n",
    "-input() : str으로 입력 받음<br>"
   ]
  },
  {
   "cell_type": "markdown",
   "metadata": {},
   "source": [
    "### 2022 spring semester mid-term & final exam"
   ]
  },
  {
   "cell_type": "markdown",
   "metadata": {},
   "source": [
    "1. 섭씨온도(Celsius)를 화씨온도(Fahrenheit)로 변환하는 식은 아래와 같다. <br>Fahrenheit = (9/5) * Celsius + 32 <br>이 식을 바탕으로 섭씨온도를 0도에서 50도까지 5도 단위로 증가시키면서<br> 이에 해당하는 화씨온도를 계산하여, 섭씨온도와 화씨온도의 값을 보여주는 프로그램을 작성하시오. "
   ]
  },
  {
   "cell_type": "code",
   "execution_count": null,
   "metadata": {},
   "outputs": [
    {
     "name": "stdout",
     "output_type": "stream",
     "text": [
      "섭씨\t 화씨\t\n",
      "0 \t 32.0\n",
      "5 \t 41.0\n",
      "10 \t 50.0\n",
      "15 \t 59.0\n",
      "20 \t 68.0\n",
      "25 \t 77.0\n",
      "30 \t 86.0\n",
      "35 \t 95.0\n",
      "40 \t 104.0\n",
      "45 \t 113.0\n",
      "50 \t 122.0\n"
     ]
    }
   ],
   "source": [
    "print('섭씨\\t', '화씨\\t')   # 제목 줄 출력\n",
    "for i in range(0,51, 5):    # 0~50도, step += 5\n",
    "    print(i, '\\t', (9/5)*i+32) "
   ]
  },
  {
   "cell_type": "markdown",
   "metadata": {},
   "source": [
    "2. 아래의 실행 결과를 적으세요."
   ]
  },
  {
   "cell_type": "code",
   "execution_count": null,
   "metadata": {},
   "outputs": [
    {
     "name": "stdout",
     "output_type": "stream",
     "text": [
      "2\n",
      "3\n",
      "2 3\n"
     ]
    }
   ],
   "source": [
    "a = 2*2//2  # //는 몫을 구하는 연산자\n",
    "print(a)\n",
    "b = 3//2*3  # 3//2 = 1\n",
    "print(b)\n",
    "print(a,b)"
   ]
  },
  {
   "cell_type": "markdown",
   "metadata": {},
   "source": [
    "3. 10 미만의 자연수에서 3과 5의 배수를 구하면 3, 5, 6, 9이다. <br>\n",
    "이들의 총합은 23이다. 1000미만의 자연수에서 3의 배수와 5의 배수의 총합을 구하시오."
   ]
  },
  {
   "cell_type": "code",
   "execution_count": 1,
   "metadata": {},
   "outputs": [
    {
     "name": "stdout",
     "output_type": "stream",
     "text": [
      "233168\n"
     ]
    }
   ],
   "source": [
    "sum = 0\n",
    "for i in range(1,1000): # 1~999의 자연수\n",
    "    if i % 3 == 0:\n",
    "        sum += i\n",
    "        continue    # 3과 5의 공배수인 15가 중복으로 더해지는 것을 막기 위해\n",
    "    if i % 5 == 0:\n",
    "        sum+= i\n",
    "print(sum)"
   ]
  },
  {
   "cell_type": "markdown",
   "metadata": {},
   "source": [
    "## 점프 투 파이썬"
   ]
  },
  {
   "cell_type": "markdown",
   "metadata": {},
   "source": [
    "1. 다음 코드의 결과 값은 무엇일까?"
   ]
  },
  {
   "cell_type": "code",
   "execution_count": 1,
   "metadata": {},
   "outputs": [
    {
     "name": "stdout",
     "output_type": "stream",
     "text": [
      "shirt\n"
     ]
    }
   ],
   "source": [
    "a = \"Life is too short, you need python\"\n",
    "\n",
    "# wife가 string a에 있으면 wife 출력\n",
    "if \"wife\" in a: print(\"wife\")   # False\n",
    "# wife가 없고, python이 a에 있고, you가 a에 없다면 python 출력\n",
    "elif \"python\" in a and \"you\" not in a: print(\"python\")  # True and False = False\n",
    "elif \"shirt\" not in a: print(\"shirt\")   # shirt가 a에 없다면 shirt 출력 : True\n",
    "elif \"need\" in a: print(\"need\")         # need가 a에 있지만(True), 위의 elif 문이 실행됐기에 도달x\n",
    "else: print(\"none\")                     # 도달x"
   ]
  },
  {
   "cell_type": "markdown",
   "metadata": {},
   "source": [
    "2. while문을 사용해 1부터 1000까지의 자연수 중 3의 배수의 합을 구해 보자."
   ]
  },
  {
   "cell_type": "code",
   "execution_count": 4,
   "metadata": {},
   "outputs": [
    {
     "name": "stdout",
     "output_type": "stream",
     "text": [
      "166833\n"
     ]
    }
   ],
   "source": [
    "result = 0          # 합계 저장\n",
    "i = 1               # init\n",
    "while(i<1001):      # i가 1001보다 작을 때까지 반복\n",
    "    if i%3 == 0:    # i가 3의 배수이면\n",
    "        result += i\n",
    "    i+=1            # i값 +1\n",
    "print(result)"
   ]
  },
  {
   "cell_type": "markdown",
   "metadata": {},
   "source": [
    "3. while문을 사용하여 다음과 같이 별(*)을 표시하는 프로그램을 작성해 보자."
   ]
  },
  {
   "cell_type": "code",
   "execution_count": 5,
   "metadata": {},
   "outputs": [
    {
     "name": "stdout",
     "output_type": "stream",
     "text": [
      "*\n",
      "**\n",
      "***\n",
      "****\n",
      "*****\n"
     ]
    }
   ],
   "source": [
    "i = 1               # 줄 반복을 위한 변수\n",
    "while(i<=5):        # 5줄까지 반복\n",
    "    j = 1           # 별 표시를 위한 변수, 1부터 시작\n",
    "    while(j<=i):    # i랑 같아질 때까지 반복( 2번째 줄 -> 별 2개 )\n",
    "        print('*', end='')\n",
    "        j+=1        # 무한루프 방지\n",
    "    print()\n",
    "    i+=1\n"
   ]
  },
  {
   "cell_type": "markdown",
   "metadata": {},
   "source": [
    "4. for문을 사용해 1부터 100까지의 숫자를 출력해 보자."
   ]
  },
  {
   "cell_type": "code",
   "execution_count": 6,
   "metadata": {},
   "outputs": [
    {
     "name": "stdout",
     "output_type": "stream",
     "text": [
      "1 2 3 4 5 6 7 8 9 10 11 12 13 14 15 16 17 18 19 20 21 22 23 24 25 26 27 28 29 30 31 32 33 34 35 36 37 38 39 40 41 42 43 44 45 46 47 48 49 50 51 52 53 54 55 56 57 58 59 60 61 62 63 64 65 66 67 68 69 70 71 72 73 74 75 76 77 78 79 80 81 82 83 84 85 86 87 88 89 90 91 92 93 94 95 96 97 98 99 100 "
     ]
    }
   ],
   "source": [
    "for i in range(1,101):  # 1~100, step = +1\n",
    "    print(i, end=' ')"
   ]
  },
  {
   "cell_type": "markdown",
   "metadata": {},
   "source": [
    "5. A 학급에 총 10명의 학생이 있다. 이 학생들의 중간고사 점수는 다음과 같다.<br>\n",
    "<br>\n",
    "[70, 60, 55, 75, 95, 90, 80, 80, 85, 100]<br>\n",
    "<br>\n",
    "for문을 사용하여 A 학급의 평균 점수를 구해 보자.<br>"
   ]
  },
  {
   "cell_type": "code",
   "execution_count": 9,
   "metadata": {},
   "outputs": [
    {
     "name": "stdout",
     "output_type": "stream",
     "text": [
      "A학급의 평균 : 79.0\n"
     ]
    }
   ],
   "source": [
    "A = [70, 60, 55, 75, 95, 90, 80, 80, 85, 100]\n",
    "sum = 0         # 합계 저장용 변수\n",
    "for i in A:     # list A에 있는 원소를 하나씩 꺼내서\n",
    "    sum += i    # sum에 더하기\n",
    "\n",
    "print('A학급의 평균 :', sum/len(A)) # 평균을 위해 A의 길이로 나누기"
   ]
  },
  {
   "cell_type": "markdown",
   "metadata": {},
   "source": [
    "6. 리스트 중에서 홀수에만 2를 곱하여 저장하는 다음 코드가 있다.<br><br>\n",
    "numbers = [1, 2, 3, 4, 5]<br>\n",
    "result = []<br>\n",
    "for n in numbers:<br>\n",
    "    if n % 2 == 1:<br>\n",
    "        result.append(n*2)<br><br>\n",
    "위 코드를 리스트 내포(list comprehension)를 사용하여 표현해 보자."
   ]
  },
  {
   "cell_type": "code",
   "execution_count": 10,
   "metadata": {},
   "outputs": [
    {
     "name": "stdout",
     "output_type": "stream",
     "text": [
      "[2, 6, 10]\n"
     ]
    }
   ],
   "source": [
    "numbers = [1,2,3,4,5]\n",
    "result = [ i*2 for i in numbers if i%2==1]\n",
    "# numbers에 있는 i를 하나씩 꺼내는데, i가 홀수라면 i * 2를 해서 result에 추가한다.\n",
    "print(result)"
   ]
  },
  {
   "cell_type": "markdown",
   "metadata": {},
   "source": [
    "### 1. if statement"
   ]
  },
  {
   "cell_type": "code",
   "execution_count": 2,
   "metadata": {},
   "outputs": [
    {
     "name": "stdout",
     "output_type": "stream",
     "text": [
      "More\n"
     ]
    }
   ],
   "source": [
    "x = int(input('Please enter an integer: '))\n",
    "if x < 0:\n",
    "    x = 0\n",
    "    print('Nagative changed to zero')\n",
    "elif x == 0:\n",
    "    print('Zero')\n",
    "elif x == 1:\n",
    "    print('Single')\n",
    "else:\n",
    "    print('More')"
   ]
  },
  {
   "cell_type": "markdown",
   "metadata": {},
   "source": [
    "### 2. for statement"
   ]
  },
  {
   "cell_type": "code",
   "execution_count": 3,
   "metadata": {},
   "outputs": [
    {
     "name": "stdout",
     "output_type": "stream",
     "text": [
      "cat 3\n",
      "window 6\n",
      "defeenstarate 13\n"
     ]
    }
   ],
   "source": [
    "words = ['cat', 'window', 'defeenstarate']\n",
    "for w in words:\n",
    "    print(w, len(w))"
   ]
  },
  {
   "cell_type": "markdown",
   "metadata": {},
   "source": [
    "### 3. Fibonacci series\n",
    "-응용문제, 1000 이하의 피보나치 수열의 총합은?"
   ]
  },
  {
   "cell_type": "code",
   "execution_count": 4,
   "metadata": {},
   "outputs": [
    {
     "name": "stdout",
     "output_type": "stream",
     "text": [
      "0\n",
      "1\n",
      "1\n",
      "2\n",
      "3\n",
      "5\n",
      "8\n"
     ]
    }
   ],
   "source": [
    "a,b = 0,1\n",
    "result = 0\n",
    "while a < 10:\n",
    "    print(a)\n",
    "    a, b = b, a+b   # multiple assignment 는 동시에 assgin 된다"
   ]
  },
  {
   "cell_type": "code",
   "execution_count": 5,
   "metadata": {},
   "outputs": [
    {
     "name": "stdout",
     "output_type": "stream",
     "text": [
      "0,1,1,2,3,5,8,13,21,34,55,89,144,233,377,610,987,"
     ]
    }
   ],
   "source": [
    "a, b = 0, 1\n",
    "while a < 1000:\n",
    "    print(a, end=',')\n",
    "    a, b = b, a+b"
   ]
  },
  {
   "cell_type": "markdown",
   "metadata": {},
   "source": [
    "### 4. range function\n",
    "-range( [ start, ], end-1 , [ step ])"
   ]
  },
  {
   "cell_type": "code",
   "execution_count": 6,
   "metadata": {},
   "outputs": [
    {
     "name": "stdout",
     "output_type": "stream",
     "text": [
      "0 1 2 3 4 "
     ]
    }
   ],
   "source": [
    "for i in range(5):\n",
    "    print(i , end=' ')"
   ]
  },
  {
   "cell_type": "code",
   "execution_count": 7,
   "metadata": {},
   "outputs": [
    {
     "name": "stdout",
     "output_type": "stream",
     "text": [
      "[5, 6, 7, 8, 9]\n",
      "[0, 3, 6, 9]\n",
      "[-10, -40, -70]\n"
     ]
    }
   ],
   "source": [
    "print(list(range(5,10)))\n",
    "print(list(range(0,10,3)))\n",
    "print(list(range(-10, -100,-30)))"
   ]
  },
  {
   "cell_type": "code",
   "execution_count": 8,
   "metadata": {},
   "outputs": [
    {
     "name": "stdout",
     "output_type": "stream",
     "text": [
      "0 Mary\n",
      "1 had\n",
      "2 a\n",
      "3 little\n",
      "4 lamb\n"
     ]
    }
   ],
   "source": [
    "a = ['Mary', 'had', 'a', 'little', 'lamb']\n",
    "for i in range(len(a)):\n",
    "    print(i,a[i])"
   ]
  },
  {
   "cell_type": "code",
   "execution_count": 4,
   "metadata": {},
   "outputs": [
    {
     "name": "stdout",
     "output_type": "stream",
     "text": [
      "range(0, 10)\n",
      "6\n",
      "55\n",
      "55\n"
     ]
    }
   ],
   "source": [
    "del sum\n",
    "print(range(10))\n",
    "print(sum(range(4)))\n",
    "print(sum(range(11)))\n",
    "\n",
    "i,s = 0,0\n",
    "while i < 11:\n",
    "    s += i\n",
    "    i+=1\n",
    "print(s)"
   ]
  },
  {
   "cell_type": "markdown",
   "metadata": {},
   "source": [
    "### 5. break, continue\n"
   ]
  },
  {
   "cell_type": "code",
   "execution_count": 14,
   "metadata": {},
   "outputs": [
    {
     "name": "stdout",
     "output_type": "stream",
     "text": [
      "2 is a prime number\n",
      "3 is a prime number\n",
      "4 equals 2 * 2\n",
      "5 is a prime number\n",
      "6 equals 2 * 3\n",
      "7 is a prime number\n",
      "8 equals 2 * 4\n",
      "9 equals 3 * 3\n"
     ]
    }
   ],
   "source": [
    "# prime number\n",
    "# break는 자신을 둘러싼 반복문 하나만 벗어난다\n",
    "for n in range(2,10):\n",
    "    for x in range(2,n):\n",
    "        if n% x == 0:\n",
    "            print(n, 'equals', x, '*', n//x)\n",
    "            break\n",
    "    else:\n",
    "        print(n, 'is a prime number')"
   ]
  },
  {
   "cell_type": "code",
   "execution_count": 17,
   "metadata": {},
   "outputs": [
    {
     "name": "stdout",
     "output_type": "stream",
     "text": [
      "else\n"
     ]
    }
   ],
   "source": [
    "# for-else statement\n",
    "# for문의 내용이 실행되지 않으면 else: 이하가 실행된다.\n",
    "for i in range(1,1):\n",
    "    print(1)\n",
    "else:\n",
    "    print('else')"
   ]
  },
  {
   "cell_type": "code",
   "execution_count": 18,
   "metadata": {},
   "outputs": [
    {
     "name": "stdout",
     "output_type": "stream",
     "text": [
      "Found an even number 2\n",
      "Found an odd number 3\n",
      "Found an even number 4\n",
      "Found an odd number 5\n",
      "Found an even number 6\n",
      "Found an odd number 7\n",
      "Found an even number 8\n",
      "Found an odd number 9\n"
     ]
    }
   ],
   "source": [
    "# even or odd\n",
    "# continue, 다음 조건으로 간다.\n",
    "for num in range(2, 10):\n",
    "    if num % 2 == 0:\n",
    "        print(\"Found an even number\", num)\n",
    "        continue\n",
    "    print(\"Found an odd number\", num)"
   ]
  }
 ],
 "metadata": {
  "kernelspec": {
   "display_name": "Python 3.10.6 64-bit",
   "language": "python",
   "name": "python3"
  },
  "language_info": {
   "codemirror_mode": {
    "name": "ipython",
    "version": 3
   },
   "file_extension": ".py",
   "mimetype": "text/x-python",
   "name": "python",
   "nbconvert_exporter": "python",
   "pygments_lexer": "ipython3",
   "version": "3.10.6"
  },
  "orig_nbformat": 4,
  "vscode": {
   "interpreter": {
    "hash": "20c9d94bea3bcd43e69d1e5f02ce962985699c48de0c68502218d203d4c4e41a"
   }
  }
 },
 "nbformat": 4,
 "nbformat_minor": 2
}
