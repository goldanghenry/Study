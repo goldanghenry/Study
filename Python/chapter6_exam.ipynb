{
 "cells": [
  {
   "cell_type": "markdown",
   "metadata": {},
   "source": [
    "## Chapter5\n",
    "* string"
   ]
  },
  {
   "cell_type": "markdown",
   "metadata": {},
   "source": [
    "### Jump to Python\n",
    "링크 : <a href='https://wikidocs.net/book/1'> 점프 투 파이썬 </a>"
   ]
  },
  {
   "cell_type": "markdown",
   "metadata": {},
   "source": [
    "1. String\n",
    "Q. 단순함이 자랑인 파이썬이 문자열을 만드는 방법은 왜 4가지나 가지게 되었을까?<br>\n",
    "A1) 문자열 안에 작은따옴표나 큰따옴표를 포함시키고 싶을 때<br>\n",
    "A2) 여러 줄인 문자열을 변수에 대입하고 싶을 때<br>"
   ]
  },
  {
   "cell_type": "code",
   "execution_count": 2,
   "metadata": {},
   "outputs": [
    {
     "name": "stdout",
     "output_type": "stream",
     "text": [
      "Life is short.\n",
      "Python is long\n"
     ]
    }
   ],
   "source": [
    "str_ = \"Life is short.\\nPython is long\"\n",
    "print(str_)"
   ]
  },
  {
   "cell_type": "code",
   "execution_count": 3,
   "metadata": {},
   "outputs": [
    {
     "name": "stdout",
     "output_type": "stream",
     "text": [
      "\n",
      "\"hi\",'hi'\n",
      "\n"
     ]
    }
   ],
   "source": [
    "str1 = \"\"\"\n",
    "\"hi\",'hi'\n",
    "\"\"\"\n",
    "print(str1)"
   ]
  },
  {
   "cell_type": "markdown",
   "metadata": {},
   "source": [
    "2. 문자열 연산"
   ]
  },
  {
   "cell_type": "code",
   "execution_count": 4,
   "metadata": {},
   "outputs": [
    {
     "name": "stdout",
     "output_type": "stream",
     "text": [
      "Python is fun!\n"
     ]
    }
   ],
   "source": [
    "# 문자열 덧셈\n",
    "head = \"Python\"\n",
    "tail = \" is fun!\"\n",
    "print(head + tail)"
   ]
  },
  {
   "cell_type": "code",
   "execution_count": 5,
   "metadata": {},
   "outputs": [
    {
     "name": "stdout",
     "output_type": "stream",
     "text": [
      "==================================================\n",
      "My Program\n",
      "==================================================\n"
     ]
    }
   ],
   "source": [
    "# 문자열 곱하기\n",
    "print(\"=\" * 50)\n",
    "print('My Program')\n",
    "print(\"=\" * 50)"
   ]
  },
  {
   "cell_type": "code",
   "execution_count": 13,
   "metadata": {},
   "outputs": [
    {
     "name": "stdout",
     "output_type": "stream",
     "text": [
      "6\n",
      "Py\n",
      "Pt\n",
      "\n",
      "\n"
     ]
    }
   ],
   "source": [
    "print(len(head))    # 문자열 길이\n",
    "str_ = \"Python\"\n",
    "# print(str_[6])  # string은 index out of range 발생함\n",
    "print(str_[0:2])\n",
    "print(str_[0:4:2])\n",
    "print(str_[-6:0])   # minus indexing -> 시험\n",
    "print(str_[0:-6])"
   ]
  },
  {
   "cell_type": "code",
   "execution_count": 14,
   "metadata": {},
   "outputs": [
    {
     "name": "stdout",
     "output_type": "stream",
     "text": [
      "20010331\n",
      "Rainy\n"
     ]
    }
   ],
   "source": [
    "a = \"20010331Rainy\"\n",
    "date = a[:8]\n",
    "weather = a[8:]\n",
    "print(date)\n",
    "print(weather)"
   ]
  },
  {
   "cell_type": "code",
   "execution_count": 16,
   "metadata": {},
   "outputs": [
    {
     "name": "stdout",
     "output_type": "stream",
     "text": [
      "I eat 3 apples.\n",
      "I eat 1 apples\n",
      "I eat 2 apples\n",
      "I eat 3 apples\n",
      "I eat 4 apples\n",
      "I eat 5 apples\n",
      "I eat 6 apples\n",
      "I eat 7 apples\n",
      "I eat 8 apples\n",
      "I eat 9 apples\n",
      "I eat 10 apples\n",
      "I eat 11 apples\n",
      "I eat 12 apples\n"
     ]
    }
   ],
   "source": [
    "# format\n",
    "print(\"I eat %d apples.\"%3)\n",
    "apples = 1\n",
    "str_ = \"I eat %d apples\"\n",
    "while apples <= 12:\n",
    "    print(str_ % apples)    # \"I eat %d apples\" % apples\n",
    "    apples += 1"
   ]
  },
  {
   "cell_type": "code",
   "execution_count": 19,
   "metadata": {},
   "outputs": [
    {
     "name": "stdout",
     "output_type": "stream",
     "text": [
      "'     3.421'\n",
      "'    3.4213'\n",
      "'   3.42134'\n"
     ]
    }
   ],
   "source": [
    "print(\"'%10.3f'\" % 3.42134234)\n",
    "print(\"'%10.4f'\" % 3.42134234)\n",
    "print(\"'%10.5f'\" % 3.42134234)"
   ]
  },
  {
   "cell_type": "markdown",
   "metadata": {},
   "source": [
    "### 퀴즈\n",
    "- https://realpython.com/quizzes/python-data-types/\n",
    "- https://realpython.com/quizzes/python-strings/"
   ]
  },
  {
   "cell_type": "markdown",
   "metadata": {},
   "source": []
  }
 ],
 "metadata": {
  "kernelspec": {
   "display_name": "Python 3.10.6 64-bit",
   "language": "python",
   "name": "python3"
  },
  "language_info": {
   "codemirror_mode": {
    "name": "ipython",
    "version": 3
   },
   "file_extension": ".py",
   "mimetype": "text/x-python",
   "name": "python",
   "nbconvert_exporter": "python",
   "pygments_lexer": "ipython3",
   "version": "3.10.6"
  },
  "orig_nbformat": 4,
  "vscode": {
   "interpreter": {
    "hash": "20c9d94bea3bcd43e69d1e5f02ce962985699c48de0c68502218d203d4c4e41a"
   }
  }
 },
 "nbformat": 4,
 "nbformat_minor": 2
}
