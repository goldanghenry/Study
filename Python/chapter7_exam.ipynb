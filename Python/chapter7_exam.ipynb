{
 "cells": [
  {
   "cell_type": "markdown",
   "metadata": {},
   "source": [
    "## chapter7"
   ]
  },
  {
   "cell_type": "markdown",
   "metadata": {},
   "source": [
    "#### 구두 과제\n",
    "A, B가 주사위 게임을 한다.\n",
    "A가 이겼는지 B가 이겼는지 또는 무승부인지 코딩하라. <br>단, 비긴다면 다시 돌린다."
   ]
  },
  {
   "cell_type": "code",
   "execution_count": null,
   "metadata": {},
   "outputs": [
    {
     "name": "stdout",
     "output_type": "stream",
     "text": [
      "A가 이겼습니다. 결과 - A: 3, B: 1\n"
     ]
    }
   ],
   "source": [
    "import random as rd\n",
    "\n",
    "A = rd.randint(1,6)\n",
    "B = rd.randint(1,6)\n",
    "\n",
    "# 비기면 돌리는 부분\n",
    "while A==B:\n",
    "    A = rd.randint(1,6)\n",
    "    B = rd.randint(1,6)\n",
    "\n",
    "if A>B:\n",
    "    print(f'A가 이겼습니다. 결과 - A: {A}, B: {B}')\n",
    "else:\n",
    "    print(f'B가 이겼습니다. 결과 - A: {A}, B: {B}')"
   ]
  },
  {
   "cell_type": "markdown",
   "metadata": {},
   "source": [
    "#### 로또 번호 만들기"
   ]
  },
  {
   "cell_type": "code",
   "execution_count": null,
   "metadata": {},
   "outputs": [
    {
     "name": "stdout",
     "output_type": "stream",
     "text": [
      "[5, 6, 10, 26, 33, 37]\n"
     ]
    }
   ],
   "source": [
    "lotto = list(range(1,46))\n",
    "rd.shuffle(lotto)\n",
    "lotto = lotto[:6]\n",
    "lotto.sort()\n",
    "print(lotto)\n",
    "\n"
   ]
  },
  {
   "cell_type": "markdown",
   "metadata": {},
   "source": [
    "#### 2nd Quiz\n",
    "You're given a list [1, 2, 3, 7, 8, 9]. And you need to transform it into [1, 2, 3, 4, 5, 6, 7, 8, 9]."
   ]
  },
  {
   "cell_type": "code",
   "execution_count": null,
   "metadata": {},
   "outputs": [
    {
     "name": "stdout",
     "output_type": "stream",
     "text": [
      "[1, 2, 3, 4, 5, 6, 7, 8, 9]\n"
     ]
    }
   ],
   "source": [
    "list_a = [1,2,3,7,8,9]\n",
    "\n",
    "for i in range(1,10):\n",
    "    if i not in list_a: # i 가 리스트A에 없다면 추가\n",
    "        list_a.append(i)\n",
    "list_a.sort()           # 오름차순 정렬\n",
    "print(list_a)"
   ]
  },
  {
   "cell_type": "markdown",
   "metadata": {},
   "source": [
    "#### 3nd Quiz\n",
    "The program asks its user to input two natural numbers. Those can be represented as I and J respectively. I is lower than J. Your Python code will sum up all the natural numbers from I and J. Use Python function call to solve it."
   ]
  },
  {
   "cell_type": "code",
   "execution_count": 4,
   "metadata": {},
   "outputs": [
    {
     "name": "stdout",
     "output_type": "stream",
     "text": [
      "3부터 5까지 모든 수를 합한 결과는 12입니다.\n"
     ]
    }
   ],
   "source": [
    "def sum_up_ItoJ():\n",
    "    sum = 0\n",
    "    I,J = map(int, input('두 개의 자연수를 입력하세요').split())\n",
    "    for i in range(I, J+1):\n",
    "        sum += i\n",
    "    return f'{I}부터 {J}까지 모든 수를 합한 결과는 {sum}입니다.'\n",
    "\n",
    "print(sum_up_ItoJ())\n",
    "\n",
    "\n",
    "\n"
   ]
  },
  {
   "cell_type": "markdown",
   "metadata": {},
   "source": [
    "### 수업시간"
   ]
  },
  {
   "cell_type": "code",
   "execution_count": 2,
   "metadata": {},
   "outputs": [
    {
     "name": "stdout",
     "output_type": "stream",
     "text": [
      "The Zen of Python, by Tim Peters\n",
      "\n",
      "Beautiful is better than ugly.\n",
      "Explicit is better than implicit.\n",
      "Simple is better than complex.\n",
      "Complex is better than complicated.\n",
      "Flat is better than nested.\n",
      "Sparse is better than dense.\n",
      "Readability counts.\n",
      "Special cases aren't special enough to break the rules.\n",
      "Although practicality beats purity.\n",
      "Errors should never pass silently.\n",
      "Unless explicitly silenced.\n",
      "In the face of ambiguity, refuse the temptation to guess.\n",
      "There should be one-- and preferably only one --obvious way to do it.\n",
      "Although that way may not be obvious at first unless you're Dutch.\n",
      "Now is better than never.\n",
      "Although never is often better than *right* now.\n",
      "If the implementation is hard to explain, it's a bad idea.\n",
      "If the implementation is easy to explain, it may be a good idea.\n",
      "Namespaces are one honking great idea -- let's do more of those!\n"
     ]
    }
   ],
   "source": [
    "# 파이썬의 철학\n",
    "import this"
   ]
  },
  {
   "cell_type": "markdown",
   "metadata": {},
   "source": [
    "* 모듈의 정의와 import 문법<br>\n",
    ": 파이썬 함수나 변수 또는 클래스들을 모아놓은 스크립트 파일<br><br>\n",
    "import : 모듈 이름1 [, 모듈이름2,...]<br>\n",
    "-> 모듈을 사용하겠다 선언."
   ]
  },
  {
   "cell_type": "markdown",
   "metadata": {},
   "source": [
    "#### datetime"
   ]
  },
  {
   "cell_type": "code",
   "execution_count": 8,
   "metadata": {},
   "outputs": [
    {
     "name": "stdout",
     "output_type": "stream",
     "text": [
      "2022-10-13 14:30:39.889948\n",
      "2022-10-13\n",
      "<class 'datetime.date'>\n"
     ]
    },
    {
     "data": {
      "text/plain": [
       "['MAXYEAR',\n",
       " 'MINYEAR',\n",
       " '__all__',\n",
       " '__builtins__',\n",
       " '__cached__',\n",
       " '__doc__',\n",
       " '__file__',\n",
       " '__loader__',\n",
       " '__name__',\n",
       " '__package__',\n",
       " '__spec__',\n",
       " 'date',\n",
       " 'datetime',\n",
       " 'datetime_CAPI',\n",
       " 'sys',\n",
       " 'time',\n",
       " 'timedelta',\n",
       " 'timezone',\n",
       " 'tzinfo']"
      ]
     },
     "execution_count": 8,
     "metadata": {},
     "output_type": "execute_result"
    }
   ],
   "source": [
    "# 날짜와 시간 모듈 datetime\n",
    "import datetime\n",
    "print(datetime.datetime.now())\n",
    "today = datetime.date.today()\n",
    "print(today)\n",
    "print(type(today))\n",
    "\n",
    "# dir() 함수 : 모듈이 가진 클래스의 목록을 출력\n",
    "dir(datetime)"
   ]
  },
  {
   "cell_type": "code",
   "execution_count": 9,
   "metadata": {},
   "outputs": [
    {
     "name": "stdout",
     "output_type": "stream",
     "text": [
      "2022-12-25 14:34:31.395706\n"
     ]
    }
   ],
   "source": [
    "# replace() 메소드\n",
    "# datetime 에서 날짜나 시간 값을 변경하고 싶을 때 사용\n",
    "# start_time 객체 assignment\n",
    "start_time = datetime.datetime.now()\n",
    "print(start_time.replace(month=12, day=25))\n"
   ]
  },
  {
   "cell_type": "code",
   "execution_count": null,
   "metadata": {},
   "outputs": [],
   "source": [
    "# 매번 풀 네임으로 적는 것은 매우 번거롭다\n",
    "# as 구문으로 별칭을 지정할 수 있다.\n",
    "import datetime as dt\n",
    "import random as rd # 난수\n",
    "import math as m\n",
    "import turtle as t  # 그래픽 작업 모듈\n",
    "start_time = dt.datetime.now()  # 두번째 datetime 은 class라서 축약x"
   ]
  },
  {
   "cell_type": "code",
   "execution_count": 11,
   "metadata": {},
   "outputs": [
    {
     "name": "stdout",
     "output_type": "stream",
     "text": [
      "2022-10-13 14:44:33.255062\n"
     ]
    }
   ],
   "source": [
    "# from ~ import 구문\n",
    "# 모듈 중 쓰는 것만 로드하고 싶을 때\n",
    "# import한 모듈을 인터프리터 메모리에 올리는데 from을 쓰면 가벼워진다.\n",
    "from datetime import datetime as dt\n",
    "start_time = dt.now()\n",
    "print(start_time)"
   ]
  },
  {
   "cell_type": "code",
   "execution_count": 15,
   "metadata": {},
   "outputs": [
    {
     "name": "stdout",
     "output_type": "stream",
     "text": [
      "오늘은 2022년 10월 13일입니다\n",
      "다음 크리스마스 까지는 72일 8시간 남았습니다.\n"
     ]
    }
   ],
   "source": [
    "# 남은 시간 구하기\n",
    "today = dt.today()\n",
    "print('오늘은 {}년 {}월 {}일입니다'.format(today.year, today.month, today.day))\n",
    "xMax = dt(2022,12,25)\n",
    "time_gap = xMax - dt.now()\n",
    "print('다음 크리스마스 까지는 {}일 {}시간 남았습니다.'.format(time_gap.days, time_gap.seconds//3600))"
   ]
  },
  {
   "cell_type": "code",
   "execution_count": 25,
   "metadata": {},
   "outputs": [
    {
     "name": "stdout",
     "output_type": "stream",
     "text": [
      "<built-in method date of datetime.datetime object at 0x000001296A82A850>\n"
     ]
    }
   ],
   "source": [
    "# 내가 태어난 날로부터 1만일이 된 날?\n",
    "import datetime as dt\n",
    "birth = dt.datetime(1995,11,30)\n",
    "ten_thousand = dt.timedelta(days=10000)\n",
    "plus10000day = birth + ten_thousand\n",
    "print(plus10000day.)\n"
   ]
  },
  {
   "cell_type": "markdown",
   "metadata": {},
   "source": [
    "#### time 모듈"
   ]
  },
  {
   "cell_type": "code",
   "execution_count": 28,
   "metadata": {},
   "outputs": [
    {
     "name": "stdout",
     "output_type": "stream",
     "text": [
      "2022-10-13 15:38:48\n",
      "<class 'time.struct_time'>\n"
     ]
    }
   ],
   "source": [
    "# local time\n",
    "import time\n",
    "unix_timestamp = time.time()    # time.time()은 unix_time\n",
    "local_time = time.localtime(unix_timestamp) # 항상 unix_time이 argument로 들어간다\n",
    "print(time.strftime('%Y-%m-%d %H:%M:%S', local_time))\n",
    "print(type(local_time))"
   ]
  },
  {
   "cell_type": "code",
   "execution_count": 29,
   "metadata": {},
   "outputs": [
    {
     "name": "stdout",
     "output_type": "stream",
     "text": [
      "시작\n",
      "끝\n"
     ]
    }
   ],
   "source": [
    "# sleep() 함수\n",
    "# 일정한 시간동안 동작하지 못하게 함\n",
    "print('시작')\n",
    "time.sleep(4.5)\n",
    "print('끝')"
   ]
  },
  {
   "cell_type": "code",
   "execution_count": 35,
   "metadata": {},
   "outputs": [
    {
     "name": "stdout",
     "output_type": "stream",
     "text": [
      "55\n",
      "1에서 10까지의 합을 구하고 출력하는 시간 :  0.0000초\n"
     ]
    }
   ],
   "source": [
    "# 시간 측정\n",
    "# 1에서 10까지의 합을 구하여 출력하는데까지 걸리는 시간을 정확하게 알아보자\n",
    "start_time = time.time()\n",
    "\n",
    "print(1+2+3+4+5+6+7+8+9+10)\n",
    "\n",
    "end_time = time.time()\n",
    "gap = end_time - start_time\n",
    "print(f'1에서 10까지의 합을 구하고 출력하는 시간 : {gap:7.4f}초')"
   ]
  },
  {
   "cell_type": "markdown",
   "metadata": {},
   "source": [
    "#### random 모듈"
   ]
  },
  {
   "cell_type": "code",
   "execution_count": 39,
   "metadata": {},
   "outputs": [
    {
     "name": "stdout",
     "output_type": "stream",
     "text": [
      "0.7828597698185122\n",
      "2\n",
      "8\n",
      "5\n"
     ]
    }
   ],
   "source": [
    "\n",
    "import random as rd\n",
    "print(rd.random())  # 호출할 때마다 값이 달라진다.\n",
    "print(rd.randrange(1,7))  # 1이상 8미만의 정수를 반환함\n",
    "print(rd.randrange(0,10,2)) # 0~9 중 2의 배수\n",
    "print(rd.randint(1,10))     # 1~10 임의의 정수를 반환함"
   ]
  },
  {
   "cell_type": "code",
   "execution_count": null,
   "metadata": {},
   "outputs": [
    {
     "name": "stdout",
     "output_type": "stream",
     "text": [
      "[10, 50, 30, 20, 40]\n",
      "20\n",
      "[50, 20, 10]\n"
     ]
    }
   ],
   "source": [
    "import random as rd\n",
    "numlist = [10,20,30,40,50]\n",
    "rd.shuffle(numlist)             # 시퀀스의 원소를 랜덤하게 섞어 반환\n",
    "print(numlist)\n",
    "print(rd.choice(numlist))       # 인자로 들어온 시퀀스로부터 임의의 원소를 추출\n",
    "print(rd.sample(numlist, 3))"
   ]
  }
 ],
 "metadata": {
  "kernelspec": {
   "display_name": "Python 3.10.6 64-bit",
   "language": "python",
   "name": "python3"
  },
  "language_info": {
   "codemirror_mode": {
    "name": "ipython",
    "version": 3
   },
   "file_extension": ".py",
   "mimetype": "text/x-python",
   "name": "python",
   "nbconvert_exporter": "python",
   "pygments_lexer": "ipython3",
   "version": "3.10.6"
  },
  "orig_nbformat": 4,
  "vscode": {
   "interpreter": {
    "hash": "20c9d94bea3bcd43e69d1e5f02ce962985699c48de0c68502218d203d4c4e41a"
   }
  }
 },
 "nbformat": 4,
 "nbformat_minor": 2
}
