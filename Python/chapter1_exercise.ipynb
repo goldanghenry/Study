{
 "cells": [
  {
   "cell_type": "markdown",
   "metadata": {},
   "source": [
    "## Chater1 Practice\n",
    "-2022.09.01"
   ]
  },
  {
   "cell_type": "markdown",
   "metadata": {},
   "source": [
    "### 1.1 다음 파이썬 코드의 출력결과는 무엇인가?"
   ]
  },
  {
   "cell_type": "code",
   "execution_count": 1,
   "metadata": {},
   "outputs": [
    {
     "name": "stdout",
     "output_type": "stream",
     "text": [
      "300\n",
      "100 + 200\n",
      "100 200\n",
      "100 200\n",
      "Hello Python !\n",
      "HelloPython!\n",
      "HelloPython!\n",
      "**********\n"
     ]
    }
   ],
   "source": [
    "print(100+200)\n",
    "print('100 + 200')\n",
    "print(100, 200)\n",
    "print('100','200')\n",
    "print('Hello','Python', '!')\n",
    "print('Hello' + 'Python' + '!')\n",
    "print('Hello''Python''!')\n",
    "print('*' * 10)\n"
   ]
  },
  {
   "cell_type": "markdown",
   "metadata": {},
   "source": [
    "### 1.2 다음 코드들은 어떤 오류를 출력하는가? 실행시 나타나는 오류를 적고, 이 오류를 수정한 후 실행시켜 보시오.\n",
    "\n",
    "(1)\tPrint('Hello Phyton!')\n",
    "-> NameError: name 'Print' is not defined.\n",
    "(2) print(\"Hello Python!')\t\n",
    "-> SyntaxError: unterminated string literal\n",
    "(3)\tprint(Hello Python!)\n",
    "-> SyntaxError: invalid syntax.\n",
    "(4)\tprint(100 + '200')\n",
    "-> TypeError: unsupported operand type(s) for +: 'int' and 'str'\n"
   ]
  },
  {
   "cell_type": "code",
   "execution_count": 2,
   "metadata": {},
   "outputs": [
    {
     "name": "stdout",
     "output_type": "stream",
     "text": [
      "Hello Phyton!\n",
      "Hello Python!\n",
      "Hello Python!\n",
      "300\n"
     ]
    }
   ],
   "source": [
    "print('Hello Phyton!')\n",
    "print(\"Hello Python!\")\t\n",
    "print(\"Hello Python!\")\n",
    "print(100 + 200)\n"
   ]
  },
  {
   "cell_type": "markdown",
   "metadata": {},
   "source": [
    "### 1.3 50과 30 두 값이 있을 경우, 이 값에 대한 사칙 연산을 다음과 같이 수행하는 프로그램을 작성하시오. 이때 각 출력문은 print(‘1 + 1 = ‘, 1 + 1)과 같이 출력문과 연산을 쉼표로 구분하시오."
   ]
  },
  {
   "cell_type": "code",
   "execution_count": 3,
   "metadata": {},
   "outputs": [
    {
     "name": "stdout",
     "output_type": "stream",
     "text": [
      "50 + 30 =  80\n",
      "50 - 30 =  20\n",
      "50 * 30 =  1500\n",
      "50 / 30 =  1.6666666666666667\n"
     ]
    }
   ],
   "source": [
    "print('50 + 30 = ', 50+30)\n",
    "print('50 - 30 = ', 50-30)\n",
    "print('50 * 30 = ', 50*30)\n",
    "print('50 / 30 = ', 50/30)"
   ]
  },
  {
   "cell_type": "markdown",
   "metadata": {},
   "source": [
    "### 1.4 다음과 같이 출력되도록 triangle.py라는 프로그램을 작성한 후 파이썬 인터프리터에서 실행해 보시오."
   ]
  },
  {
   "cell_type": "code",
   "execution_count": 4,
   "metadata": {},
   "outputs": [
    {
     "name": "stdout",
     "output_type": "stream",
     "text": [
      "   *\n",
      "  ***\n",
      " *****\n",
      "*******\n"
     ]
    }
   ],
   "source": [
    "n = int(input())\n",
    "for i in range(1, n+1, 2):\n",
    "    for j in range(0, (n-i)//2):\n",
    "        print(' ',end='')\n",
    "    for j in range(0,i):\n",
    "        print('*', end='')\n",
    "    print()\n"
   ]
  },
  {
   "cell_type": "markdown",
   "metadata": {},
   "source": [
    "### 1.5\tn 팩토리얼은 n*(n-1)*(n-2)* ⋯ *2*1로 정의한다. 이 정의를 바탕으로 다음 값을 구하는 프로그램을 작성해 보시오.\n",
    "\n",
    "(1)\t3! = 6\n",
    "(2)\t5! = 120\n",
    "(3)\t12! = 479001600\n",
    "(4)\t20! = 2432902008176640000\n"
   ]
  },
  {
   "cell_type": "code",
   "execution_count": 5,
   "metadata": {},
   "outputs": [
    {
     "name": "stdout",
     "output_type": "stream",
     "text": [
      "2432902008176640000\n"
     ]
    }
   ],
   "source": [
    "n = int(input())\n",
    "result = 1\n",
    "for i in range(n,1,-1):\n",
    "    result*=i\n",
    "print(result)"
   ]
  }
 ],
 "metadata": {
  "kernelspec": {
   "display_name": "Python 3.10.6 64-bit",
   "language": "python",
   "name": "python3"
  },
  "language_info": {
   "codemirror_mode": {
    "name": "ipython",
    "version": 3
   },
   "file_extension": ".py",
   "mimetype": "text/x-python",
   "name": "python",
   "nbconvert_exporter": "python",
   "pygments_lexer": "ipython3",
   "version": "3.10.6"
  },
  "orig_nbformat": 4,
  "vscode": {
   "interpreter": {
    "hash": "20c9d94bea3bcd43e69d1e5f02ce962985699c48de0c68502218d203d4c4e41a"
   }
  }
 },
 "nbformat": 4,
 "nbformat_minor": 2
}
