{
 "cells": [
  {
   "cell_type": "markdown",
   "metadata": {},
   "source": [
    "## Chater2 Practice\n",
    "-2022.09.08"
   ]
  },
  {
   "cell_type": "markdown",
   "metadata": {},
   "source": [
    "### 2.1\n",
    "연습문제의 첫 줄에는 100과 200의 합을 출력하기 위한 방법을 보여주고 있다.<br> print()함수와 + 연산을 이용하여 200, 300, 400의 합을 결과와 같이 화면에 출력해보자.<br> 이때 print()함수 내부에 들어갈 알맞은 값을 적으시오."
   ]
  },
  {
   "cell_type": "code",
   "execution_count": 1,
   "metadata": {},
   "outputs": [
    {
     "name": "stdout",
     "output_type": "stream",
     "text": [
      "100 + 200 = 300\n",
      "200 + 300 + 400 = 900\n"
     ]
    }
   ],
   "source": [
    "print(100,'+', 200, '=', 100+200)\n",
    "print(200,'+', 300,'+', 400, '=', 200+300+400)"
   ]
  },
  {
   "cell_type": "markdown",
   "metadata": {},
   "source": [
    "### 2.2\n",
    "밑줄 친 부분에 알맞은 대입문을 사용해 width(너비) 변수에는 30, height(높이) 변수에는 60 값이 출력되도록 하시오."
   ]
  },
  {
   "cell_type": "code",
   "execution_count": 2,
   "metadata": {},
   "outputs": [
    {
     "name": "stdout",
     "output_type": "stream",
     "text": [
      "30\n",
      "60\n"
     ]
    }
   ],
   "source": [
    "width = 30\n",
    "height = 60\n",
    "print(width)\n",
    "print(height)"
   ]
  },
  {
   "cell_type": "markdown",
   "metadata": {},
   "source": [
    "### 2.3\n",
    "width와 height라는 변수에 각각 30, 60 값을 할당한 후 이 두 변수를 이용하여 <br>다음과 같이 사각형의 면적(area)을 구하는 프로그램을 작성하시오."
   ]
  },
  {
   "cell_type": "code",
   "execution_count": 3,
   "metadata": {},
   "outputs": [
    {
     "name": "stdout",
     "output_type": "stream",
     "text": [
      "사각형의 면적 : 1800\n"
     ]
    }
   ],
   "source": [
    "width = 30\n",
    "height = 60\n",
    "print('사각형의 면적 :', width*height)"
   ]
  },
  {
   "cell_type": "markdown",
   "metadata": {},
   "source": [
    "### 2.4\n",
    "width와 height라는 변수에 각각 40, 20 값을 할당한 후 이 두 변수를 이용하여<br> 삼각형의 면적(area)을 구하는 프로그램을 작성하시오."
   ]
  },
  {
   "cell_type": "code",
   "execution_count": 5,
   "metadata": {},
   "outputs": [
    {
     "name": "stdout",
     "output_type": "stream",
     "text": [
      "삼각형의 면적 : 400\n"
     ]
    }
   ],
   "source": [
    "width = 40\n",
    "height = 20\n",
    "print('삼각형의 면적 :', int(width*height*1/2))"
   ]
  },
  {
   "cell_type": "markdown",
   "metadata": {},
   "source": [
    "### 2.5 \n",
    "정사각형의 면적을 구하기 위하여 사용자로부터 밑변의 길이를 정수로 입력받아서 다음과 같이 출력하시오<br>(힌트: int(input(‘정사각형의 밑변을 입력하시오 : ‘))를 사용함)."
   ]
  },
  {
   "cell_type": "code",
   "execution_count": 1,
   "metadata": {},
   "outputs": [
    {
     "name": "stdout",
     "output_type": "stream",
     "text": [
      "정사각형의 면적 : 1600\n"
     ]
    }
   ],
   "source": [
    "n = int(input('정사각형의 밑변을 입력하시오 :'))\n",
    "print('정사각형의 면적 :', n**2)"
   ]
  },
  {
   "cell_type": "markdown",
   "metadata": {},
   "source": [
    "### 2.6\n",
    "print() 함수와 + 연산 9개 사용하여 1에서 10까지 정수의 합을 다음과 같이 출력해보자"
   ]
  },
  {
   "cell_type": "code",
   "execution_count": 6,
   "metadata": {},
   "outputs": [
    {
     "name": "stdout",
     "output_type": "stream",
     "text": [
      "1에서 10까지의 합 : 55\n"
     ]
    }
   ],
   "source": [
    "print('1에서 10까지의 합 :', 1+2+3+4+5+6+7+8+9+10)"
   ]
  },
  {
   "cell_type": "markdown",
   "metadata": {},
   "source": [
    "### 2.7\n",
    "print() 함수와 * 연산을 9개 사용하여 10!을 다음과 같이 출력해보자."
   ]
  },
  {
   "cell_type": "code",
   "execution_count": 7,
   "metadata": {},
   "outputs": [
    {
     "name": "stdout",
     "output_type": "stream",
     "text": [
      "10! = 3628800\n"
     ]
    }
   ],
   "source": [
    "print('10! =', 1*2*3*4*5*6*7*8*9*10)"
   ]
  },
  {
   "cell_type": "markdown",
   "metadata": {},
   "source": [
    "### 2.8\n",
    "다음과 같이 2에서 6까지의 제곱 값을 표로 출력하는 프로그램 square_table.py를 작성하시오.<br>\n",
    "아래 결과와 같이 a는 2에서 6까지 증가되는 수가 있으며, n은 2의 값을 가진다.<br>\n",
    "그리고 a\\**n 에 해당하는 부분은 실제 값을 넣어서 2**2 와 같은 수식의 결과가 출력되도록 하시오."
   ]
  },
  {
   "cell_type": "code",
   "execution_count": 20,
   "metadata": {},
   "outputs": [
    {
     "name": "stdout",
     "output_type": "stream",
     "text": [
      "a\t n\t a ** n\n",
      "2\t 2\t 4\t\n",
      "3\t 2\t 9\t\n",
      "4\t 2\t 16\t\n",
      "5\t 2\t 25\t\n",
      "6\t 2\t 36\t\n"
     ]
    }
   ],
   "source": [
    "n = 2\n",
    "print('a\\t', 'n\\t', 'a ** n')\n",
    "for i in range(n, n+5):\n",
    "    t = i**n\n",
    "    print(f'{i}\\t', f'{n}\\t', f'{t}\\t')\n"
   ]
  },
  {
   "cell_type": "markdown",
   "metadata": {},
   "source": [
    "### 2.9\n",
    "섭씨온도(celsius)를 화씨온도(fahrenheit)로 변환하는 식은 다음과 같다.<br>\n",
    "fahrenheit = (9/5) * celsius + 32<br>\n",
    "이 식을 바탕으로 섭씨온도를 0도에서 50도까지 10도 단위로 증가시키면서 이에 해당하는 화씨온도를<br> 다음과 같이 출력하는 프로그램 cel2fah.py를 작성하시오."
   ]
  },
  {
   "cell_type": "code",
   "execution_count": 14,
   "metadata": {},
   "outputs": [
    {
     "name": "stdout",
     "output_type": "stream",
     "text": [
      "섭씨\t 화씨\t\n",
      "0 \t 32.0\n",
      "10 \t 50.0\n",
      "20 \t 68.0\n",
      "30 \t 86.0\n",
      "40 \t 104.0\n",
      "50 \t 122.0\n"
     ]
    }
   ],
   "source": [
    "print('섭씨\\t', '화씨\\t')\n",
    "for i in range(0,51, 10):\n",
    "    print(i, '\\t', (9/5)*i+32)"
   ]
  },
  {
   "cell_type": "markdown",
   "metadata": {},
   "source": [
    "### 2.10\n",
    "섭씨온도(celsius)를 화씨온도(fahrenheit)로 변환하는 식을 바탕으로 사용자로부터 섭씨온도를 입력받아서 다음과 같이 화씨온도로 출력하시오.<br>(힌트: int(input(‘섭씨온도를 입력하세요 : ‘))를 사용함)<br>\n",
    "-섭씨온도를 화씨온도로 변환하는 공식: fahrenheit = (9/5) * celsius + 32"
   ]
  },
  {
   "cell_type": "code",
   "execution_count": 15,
   "metadata": {},
   "outputs": [
    {
     "name": "stdout",
     "output_type": "stream",
     "text": [
      "섭씨 30 도는 화씨 86.0 도 입니다.\n"
     ]
    }
   ],
   "source": [
    "c = int(input('섭씨 온도를 입력하세요: '))\n",
    "f = (9/5)*c+32\n",
    "print(f'섭씨 {c} 도는 화씨 {f} 도 입니다.')"
   ]
  },
  {
   "cell_type": "markdown",
   "metadata": {},
   "source": [
    "### 2.11\n",
    "섭씨 온도를 화씨온도로 변환하는 식을 바탕으로 화씨온도를 섭씨온도로 변환하고자 한다.<br>\n",
    "사용자로부터 화씨온도를 입력받아서 다음과 같이 섭씨온도로 출력하시오."
   ]
  },
  {
   "cell_type": "code",
   "execution_count": 18,
   "metadata": {},
   "outputs": [
    {
     "name": "stdout",
     "output_type": "stream",
     "text": [
      "화씨 86 도는 섭씨 30.0 도 입니다.\n"
     ]
    }
   ],
   "source": [
    "f = int(input('화씨 온도를 입력하세요: '))\n",
    "c = 5*(f-32)/9\n",
    "print(f'화씨 {f} 도는 섭씨 {c} 도 입니다.')"
   ]
  },
  {
   "cell_type": "markdown",
   "metadata": {},
   "source": [
    "### 2.12\n",
    "반지름 값 11을 변수 radius에 대입하고, 이 반지름 값을 가지는 원의 둘레와 면적을 다음과 같이 출력하라.<br>\n",
    "이 값을 구하기 위하여 PI = 3.141592 라는 변수를 사용하시오."
   ]
  },
  {
   "cell_type": "code",
   "execution_count": 19,
   "metadata": {},
   "outputs": [
    {
     "name": "stdout",
     "output_type": "stream",
     "text": [
      "원의 반지름 = 11 , 원의 둘레 = 69.115024 원의 면적 = 380.13263200000006\n"
     ]
    }
   ],
   "source": [
    "radius = 11\n",
    "PI = 3.141592\n",
    "print('원의 반지름 =',radius, ', 원의 둘레 =', 2*PI*radius, '원의 면적 =', PI*radius*radius)"
   ]
  },
  {
   "cell_type": "markdown",
   "metadata": {},
   "source": [
    "### 2.13\n",
    "사용자로부터 반지름 값을 입력받아서, 이 반지름을 가진 원의 둘레와 면적을 다음과 같이 출력하라<br>\n",
    "이 값을 구하기 위하여 PI = 3.141592라는 변수를 사용하시오."
   ]
  },
  {
   "cell_type": "code",
   "execution_count": 23,
   "metadata": {},
   "outputs": [
    {
     "name": "stdout",
     "output_type": "stream",
     "text": [
      "원의 둘레 = 69.115024 원의 면적 = 380.13263200000006\n"
     ]
    }
   ],
   "source": [
    "r = int(input('원의 반지름을 입력하세요 : '))\n",
    "PI = 3.141592\n",
    "print('원의 둘레 =', 2*PI*radius, '원의 면적 =', PI*radius*radius)"
   ]
  },
  {
   "cell_type": "markdown",
   "metadata": {},
   "source": [
    "### 2.14\n",
    "거듭제곱 연산자(**)을 이용하여 어떤 수의 제곱근을 구할 수 있다. <br>1부터 10까지 수의 제곱근을 구해서 다음과 같이 출력하는 sqrt_table.py라는 프로그램을 작성하시오."
   ]
  },
  {
   "cell_type": "code",
   "execution_count": 22,
   "metadata": {},
   "outputs": [
    {
     "name": "stdout",
     "output_type": "stream",
     "text": [
      "2의 제곱근 = 1.4142135623730951\n",
      "3의 제곱근 = 1.7320508075688772\n",
      "4의 제곱근 = 2.0\n",
      "5의 제곱근 = 2.23606797749979\n",
      "6의 제곱근 = 2.449489742783178\n",
      "7의 제곱근 = 2.6457513110645907\n",
      "8의 제곱근 = 2.8284271247461903\n",
      "9의 제곱근 = 3.0\n",
      "10의 제곱근 = 3.1622776601683795\n"
     ]
    }
   ],
   "source": [
    "for i in range(2,11):\n",
    "    print(f'{i}의 제곱근 =', i**(1/2))"
   ]
  },
  {
   "cell_type": "markdown",
   "metadata": {},
   "source": [
    "### 2.15\n",
    "피타고라스 정리는 어떠한 직각삼각형에서든 빗변 c의 제곱은 밑변 a의 제곱과 높이 b의 제곱을 더한 값과 같다는 것이다.<br>\n",
    "c\\*\\*2 = a\\*\\*2 + b\\**2<br>\n",
    "밑변과 높이를 정수로 입력받아 빗변의 길이를 계산하는 코드를 작성하라."
   ]
  },
  {
   "cell_type": "code",
   "execution_count": 24,
   "metadata": {},
   "outputs": [
    {
     "name": "stdout",
     "output_type": "stream",
     "text": [
      "빗변 : 13.0\n"
     ]
    }
   ],
   "source": [
    "width = int(input('밑변을 입력하세요 : '))\n",
    "height = int(input('높이를 입력하세요 : '))\n",
    "print('빗변 :', (width**2+height**2)**(1/2))"
   ]
  },
  {
   "cell_type": "markdown",
   "metadata": {},
   "source": [
    "### 2.16\n",
    "복소수 공간에서 x+yi 복소수는 (x,y)의 위치에 있는 점으로 표현된다. 이 점을 원점기준으로<br>각도 a(라디안으로 표시)만큼 회전시키는 방법은 cos a + (sin a)i를 곱하면 되는 것으로 알려져 있다.<br>\n",
    "1) 어떤 좌표(1,2)가 복소수 형태인 1+2i로 주어지면, 그림과 같이 이 좌표를 반시계 방향으로<br>90도 방법을 파이썬의 복소수 곱으로 구하여 아래와 같이 출력해보라."
   ]
  },
  {
   "cell_type": "code",
   "execution_count": 27,
   "metadata": {},
   "outputs": [
    {
     "name": "stdout",
     "output_type": "stream",
     "text": [
      "회전하기 전 : (1+2j)\n",
      "90도 회전한 후 : (-2+1j)\n"
     ]
    }
   ],
   "source": [
    "print('회전하기 전 :',1+2j)\n",
    "print('90도 회전한 후 :',(1+2j)*(0+1j))\n"
   ]
  },
  {
   "cell_type": "markdown",
   "metadata": {},
   "source": [
    "2) 어떤 좌표(1,2)를 반시계방향으로 30도 회전하여라. 그 결과를 복소수 형태로 출력하여라."
   ]
  },
  {
   "cell_type": "code",
   "execution_count": 29,
   "metadata": {},
   "outputs": [
    {
     "name": "stdout",
     "output_type": "stream",
     "text": [
      "회전하기 전 : (1+2j)\n",
      "30도 회전한 후 : (-0.1339745962155614+2.232050807568877j)\n"
     ]
    }
   ],
   "source": [
    "print('회전하기 전 :',1+2j)\n",
    "print('30도 회전한 후 :',(1+2j)*((3**(1/2))/2-1/2j))"
   ]
  },
  {
   "cell_type": "markdown",
   "metadata": {},
   "source": [
    "### 2.17 \n",
    "비트 이동 연산자를 이용하여 2의 거듭제곱 수 10개를 다음과 같이 출력하라.<br>\n",
    "-힌트: 2 << 0 = 2, 2 << 1 = 4, 2 << 2 = 8\n"
   ]
  },
  {
   "cell_type": "code",
   "execution_count": 30,
   "metadata": {},
   "outputs": [
    {
     "name": "stdout",
     "output_type": "stream",
     "text": [
      "2 4 8 16 32 64 128 256 512 1024 "
     ]
    }
   ],
   "source": [
    "n = 2\n",
    "for i in range(10):\n",
    "    print(n<<i, end=' ')\n"
   ]
  },
  {
   "cell_type": "markdown",
   "metadata": {},
   "source": [
    "### 2.18 \n",
    "사용자의 키보드 입력을 통해 n값을 입력받아, 주어진 정수 n이 짝수이면 True, <br>홀수이면 False를 출력하는 코드를 작성해 보라. n이 20, 21인 경우에 대하여 다음과 같이 출력된다."
   ]
  },
  {
   "cell_type": "code",
   "execution_count": 7,
   "metadata": {},
   "outputs": [
    {
     "name": "stdout",
     "output_type": "stream",
     "text": [
      "이 수가 짝수인가요? False\n"
     ]
    }
   ],
   "source": [
    "n = int(input('정수를 입력하세요 : '))  # 21\n",
    "if n%2==0:\n",
    "    print('이 수가 짝수인가요? True')\n",
    "else:\n",
    "    print('이 수가 짝수인가요? False')"
   ]
  },
  {
   "cell_type": "markdown",
   "metadata": {},
   "source": [
    "### 2.19\n",
    "사용자로부터 입력받은 정수 값 n이 0에서 100의 범위 안에 있는 짝수인지 <br>그렇지 않은지를 판단하는 코드를 작성하여 다음과 같은 결과가 나타나도록 하여라."
   ]
  },
  {
   "cell_type": "code",
   "execution_count": 32,
   "metadata": {},
   "outputs": [
    {
     "name": "stdout",
     "output_type": "stream",
     "text": [
      "입력된 정수는 0에서 100의 범위 안에 있는 짝수인가요? True\n"
     ]
    }
   ],
   "source": [
    "n = int(input('정수를 입력하세요 : '))  # 88\n",
    "if n > -1 and n < 101 and n%2==0:\n",
    "    print('입력된 정수는 0에서 100의 범위 안에 있는 짝수인가요? True')\n",
    "else:\n",
    "    print('입력된 정수는 0에서 100의 범위 안에 있는 짝수인가요? False')"
   ]
  },
  {
   "cell_type": "markdown",
   "metadata": {},
   "source": [
    "### 2.20 \n",
    "정수 5를 이진수로 표현하면 0b101이며 6은 0b110이며 이 값은 다음과 같이 출력할 수 있다.<br>\n",
    "print(bin(5))<br>\n",
    "이 두 정수의 비트 단위 AND, OR, XOR 연산을 수행한 후 bin()함수를 사용하여 이 결과를 다음과 같이 출력하시오.\n"
   ]
  },
  {
   "cell_type": "code",
   "execution_count": 35,
   "metadata": {},
   "outputs": [
    {
     "name": "stdout",
     "output_type": "stream",
     "text": [
      "0b010 & 0b110 = 0b100\n",
      "0b010 | 0b110 = 0b111\n",
      "0b010 ^ 0b110 = 0b11\n"
     ]
    }
   ],
   "source": [
    "print('0b010 & 0b110 =', bin(5&6))\n",
    "print('0b010 | 0b110 =', bin(5|6))\n",
    "print('0b010 ^ 0b110 =', bin(5^6))"
   ]
  },
  {
   "cell_type": "markdown",
   "metadata": {},
   "source": [
    "### 2.21\n",
    "사용자로부터 입력받은 정수를 2진수로 출력한 후 이 값에 대하여 비트단위 부정 값을 출력하여라."
   ]
  },
  {
   "cell_type": "code",
   "execution_count": 37,
   "metadata": {},
   "outputs": [
    {
     "name": "stdout",
     "output_type": "stream",
     "text": [
      "9 의 2진수 값 : 0b1001\n",
      "9 의 2진수 값에 대한 비트단위 부정값 : -0b1010\n"
     ]
    }
   ],
   "source": [
    "n = int(input('정수를 입력하시오 : '))\n",
    "print(f'{n} 의 2진수 값 :', bin(n))\n",
    "print(f'{n} 의 2진수 값에 대한 비트단위 부정값 :', (bin(~n)))"
   ]
  },
  {
   "cell_type": "markdown",
   "metadata": {},
   "source": [
    "### 2.22\n",
    "사용자로 부터 2개의 정수 a와 b를 입력으로 받은 다음 a를 b로 나눈 몫과 나머지를 다음과 같이 출력하시오."
   ]
  },
  {
   "cell_type": "code",
   "execution_count": 38,
   "metadata": {},
   "outputs": [
    {
     "name": "stdout",
     "output_type": "stream",
     "text": [
      "a / b의 몫 : 4\n",
      "a / b의 나머지 : 2\n"
     ]
    }
   ],
   "source": [
    "a = int(input('정수 a를 입력하시오 : '))    # 202\n",
    "b = int(input('정수 b를 입력하시오 : '))    # 50\n",
    "print('a / b의 몫 :', a//b)\n",
    "print('a / b의 나머지 :', a%b)"
   ]
  },
  {
   "cell_type": "markdown",
   "metadata": {},
   "source": [
    "### 2.23 \n",
    "사용자로부터 세 자리 정수를 입력으로 받으시오. 이때 입력받은 정수 n에 대한 백의 자리,<br> 십의 자리, 일의 자리 십진수 값을 다음과 같이 출력하시오.<br>\n",
    "-힌트: // 연산자와 % 연산자를 사용하시오. 예를 들어 백의 자리는 n//100을 통해서 구할 수 있다.\n"
   ]
  },
  {
   "cell_type": "code",
   "execution_count": 40,
   "metadata": {},
   "outputs": [
    {
     "name": "stdout",
     "output_type": "stream",
     "text": [
      "백의 자리 : 3\n",
      "십의 자리 : 4\n",
      "일의 자리 : 9\n"
     ]
    }
   ],
   "source": [
    "n=''\n",
    "while True:\n",
    "    n = input('세 자리 정수를 입력하세요 :')\n",
    "    if len(n) == 3:\n",
    "        n = int(n)\n",
    "        break\n",
    "\n",
    "print('백의 자리 :', n//100)\n",
    "print('십의 자리 :', (n%100-n%10)//10)\n",
    "print('일의 자리 :', n%10)"
   ]
  },
  {
   "cell_type": "markdown",
   "metadata": {},
   "source": [
    "### 2.24\n",
    "사용자로부터 세 자리 정수를 입력받으시오.<br>\n",
    "이때 입력받은 정수를 다음과 같이 역순으로 출력하시오."
   ]
  },
  {
   "cell_type": "code",
   "execution_count": 41,
   "metadata": {},
   "outputs": [
    {
     "name": "stdout",
     "output_type": "stream",
     "text": [
      "9\n",
      "4\n",
      "3\n"
     ]
    }
   ],
   "source": [
    "n=''\n",
    "while True:\n",
    "    n = input('세 자리 정수를 입력하세요 :')\n",
    "    if len(n) == 3:\n",
    "        n = int(n)\n",
    "        break\n",
    "\n",
    "print(n%10)\n",
    "print((n%100-n%10)//10)\n",
    "print(n//100)"
   ]
  }
 ],
 "metadata": {
  "kernelspec": {
   "display_name": "Python 3.10.6 64-bit",
   "language": "python",
   "name": "python3"
  },
  "language_info": {
   "codemirror_mode": {
    "name": "ipython",
    "version": 3
   },
   "file_extension": ".py",
   "mimetype": "text/x-python",
   "name": "python",
   "nbconvert_exporter": "python",
   "pygments_lexer": "ipython3",
   "version": "3.10.6"
  },
  "orig_nbformat": 4,
  "vscode": {
   "interpreter": {
    "hash": "20c9d94bea3bcd43e69d1e5f02ce962985699c48de0c68502218d203d4c4e41a"
   }
  }
 },
 "nbformat": 4,
 "nbformat_minor": 2
}
