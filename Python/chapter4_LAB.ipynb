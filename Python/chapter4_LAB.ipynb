{
 "cells": [
  {
   "cell_type": "markdown",
   "metadata": {},
   "source": [
    "## Chapter4 LAB"
   ]
  },
  {
   "cell_type": "markdown",
   "metadata": {},
   "source": [
    "### LAB 4-1\n",
    "1. [코드 4-1]의 함수 호출문을 삭제하면 어떻게 되는가?<br>\n",
    "▶ 함수가 호출되지 않았으므로, 아무것도 실행되지 않는다.<br><br>\n",
    "2. [코드 4-2]를 수정하여 6줄의 별표를 출력해 보시오. 이때 함수 호출을 6회 하시오.\n",
    "\n"
   ]
  },
  {
   "cell_type": "code",
   "execution_count": 1,
   "metadata": {},
   "outputs": [
    {
     "name": "stdout",
     "output_type": "stream",
     "text": [
      "***************************\n",
      "***************************\n",
      "***************************\n",
      "***************************\n",
      "***************************\n",
      "***************************\n"
     ]
    }
   ],
   "source": [
    "def print_star():\n",
    "    print('***************************')\n",
    "\n",
    "for _ in range(6):  # 6번 함수 호출\n",
    "    print_star()"
   ]
  },
  {
   "cell_type": "markdown",
   "metadata": {},
   "source": [
    "### LAB 4-2\n",
    "1. [코드4-3]을 수정하여 함수 호출 두 번으로 10줄의 별표를 출력해 보시오."
   ]
  },
  {
   "cell_type": "code",
   "execution_count": 3,
   "metadata": {},
   "outputs": [
    {
     "name": "stdout",
     "output_type": "stream",
     "text": [
      "***************************\n",
      "***************************\n",
      "***************************\n",
      "***************************\n",
      "***************************\n",
      "***************************\n",
      "***************************\n",
      "***************************\n",
      "***************************\n",
      "***************************\n"
     ]
    }
   ],
   "source": [
    "def print_star3():  # **********를 다섯줄 출력하는 함수 정의\n",
    "    print('***************************')\n",
    "    print('***************************')\n",
    "    print('***************************')\n",
    "    print('***************************')\n",
    "    print('***************************')\n",
    "\n",
    "for _ in range(2):  # 2번 호출\n",
    "    print_star3()"
   ]
  },
  {
   "cell_type": "markdown",
   "metadata": {},
   "source": [
    "### LAB 4-3\n",
    "1. [코드4-4]를 수정하여 해시마크(#)를 한 줄 출력하는 print_hash() 함수를 추가로 구현하시오.<br>\n",
    "2. print_star(), print_plus(), print_hash() 함수를 모두 이용하여 다음과 같은 출력이 나타나도록 함수를 호출하시오."
   ]
  },
  {
   "cell_type": "code",
   "execution_count": 4,
   "metadata": {},
   "outputs": [
    {
     "name": "stdout",
     "output_type": "stream",
     "text": [
      "###########################\n",
      "***************************\n",
      "+++++++++++++++++++++++++++\n",
      "+++++++++++++++++++++++++++\n",
      "***************************\n",
      "###########################\n"
     ]
    }
   ],
   "source": [
    "def print_star():\n",
    "    print('***************************')\n",
    "\n",
    "def print_plus():\n",
    "    print('+++++++++++++++++++++++++++')\n",
    "\n",
    "def print_hash():\n",
    "    print('###########################')\n",
    "\n",
    "print_hash()\n",
    "print_star()\n",
    "print_plus()\n",
    "print_plus()\n",
    "print_star()\n",
    "print_hash()"
   ]
  },
  {
   "cell_type": "markdown",
   "metadata": {},
   "source": [
    "### LAB 4-4\n",
    "1. [코드4-5]를 수정하여 별표(*)줄이 10개 출력되도록 인자를 변경하시오.<br><br>"
   ]
  },
  {
   "cell_type": "code",
   "execution_count": null,
   "metadata": {},
   "outputs": [],
   "source": [
    "# 별표 출력을 매개변수 n번만큼 반복하는 프로그램\n",
    "def print_star(n):\n",
    "    for _ in range(n):\n",
    "        print('**********************')\n",
    "\n",
    "print_star(10)   # 별표 출력을 위해 10이라는 인자 값을 준다."
   ]
  },
  {
   "cell_type": "markdown",
   "metadata": {},
   "source": [
    "2. [코드4-5]를 수정하여 별표(*) 표시 대신 해시마크(#)가 출력되도록 하시오. 이를 위해 함수 이름을 print_hash(n)으로 수정하고 수정된 함수를 print_hash(10)과 같이 호출하시오."
   ]
  },
  {
   "cell_type": "code",
   "execution_count": null,
   "metadata": {},
   "outputs": [],
   "source": [
    "# 해시마크 출력을 매개변수 n번만큼 반복하는 프로그램\n",
    "def print_hash(n):\n",
    "    for _ in range(n):\n",
    "        print('#######################')\n",
    "\n",
    "print_hash(10)   # 해시마크 출력을 위해 10이라는 인자 값을 준다."
   ]
  },
  {
   "cell_type": "markdown",
   "metadata": {},
   "source": [
    "3. print_hash(6)을 호출하여 다음과 같은 출력이 나타나도록 하여라"
   ]
  },
  {
   "cell_type": "code",
   "execution_count": null,
   "metadata": {},
   "outputs": [],
   "source": [
    "def print_hash(n):\n",
    "    for _ in range(n):\n",
    "        print('#######################')\n",
    "\n",
    "print_hash(6)"
   ]
  },
  {
   "cell_type": "markdown",
   "metadata": {},
   "source": [
    "4. print_hash(6)을 호출하여 다음과 같은 출력이 나타나도록 하여라. 다음 화면과 같이 매번 해시가 출력될 때마다 앞 칸에 줄 번호를 0부터 표시하여라."
   ]
  },
  {
   "cell_type": "code",
   "execution_count": null,
   "metadata": {},
   "outputs": [],
   "source": [
    "def print_hash(n):\n",
    "    for i in range(n):\n",
    "        print(i, '#######################')\n",
    "\n",
    "print_hash(6)"
   ]
  },
  {
   "cell_type": "markdown",
   "metadata": {},
   "source": [
    "### LAB 4-5\n",
    "1. 두 개의 변수 매개변수 a,b를 받아서 두 수의 차를 구하여 출력하는 print_sub(a,b) 함수를 구현하여라. print_sub(10,20)을 호출한 결과 다음과 같은 출력이 나타나도록 하여라."
   ]
  },
  {
   "cell_type": "code",
   "execution_count": 11,
   "metadata": {},
   "outputs": [
    {
     "name": "stdout",
     "output_type": "stream",
     "text": [
      "10와 20의 차는 -10입니다\n"
     ]
    }
   ],
   "source": [
    "def print_sub(a,b):\n",
    "    print(f'{a}와 {b}의 차는 %d입니다'%(a-b))\n",
    "\n",
    "print_sub(10,20)"
   ]
  },
  {
   "cell_type": "markdown",
   "metadata": {},
   "source": [
    "2. 두 개의 변수 매개변수 a,b를 받아서 두 수의 곱을 구하여 출력하는 print_mult(a,b) 함수를 구현하여라. print_mult(10,20)을 호출한 결과 다음과 같은 출력이 나타나도록 하여라."
   ]
  },
  {
   "cell_type": "code",
   "execution_count": 13,
   "metadata": {},
   "outputs": [
    {
     "name": "stdout",
     "output_type": "stream",
     "text": [
      "10와 20의 곱은 200입니다\n"
     ]
    }
   ],
   "source": [
    "def print_mult(a,b):\n",
    "    print(f'{a}와 {b}의 곱은 %d입니다'%(a*b))\n",
    "\n",
    "print_mult(10,20)"
   ]
  },
  {
   "cell_type": "markdown",
   "metadata": {},
   "source": [
    "### LAB 4-6\n",
    "1. 다음 2차 방정식의 근을 [코드 4-10]의 함수를 사용하여 출력하여라."
   ]
  },
  {
   "cell_type": "code",
   "execution_count": 1,
   "metadata": {},
   "outputs": [
    {
     "name": "stdout",
     "output_type": "stream",
     "text": [
      "해는 3.0 또는 -7.0\n"
     ]
    }
   ],
   "source": [
    "def print_root(a,b,c):\n",
    "    r1 = (-b +(b**2 - 4*a*c)**0.5) / (2*a)\n",
    "    r2 = (-b -(b**2 - 4*a*c)**0.5) / (2*a)\n",
    "    print('해는', r1, '또는', r2)\n",
    "\n",
    "print_root(1,4,-21)"
   ]
  },
  {
   "cell_type": "markdown",
   "metadata": {},
   "source": [
    "### LAB 4-7\n",
    "1. 원의 면적과 둘레를 구하기 위하여 원의 반지름을 사용하려고 한다. 이 때 사용할 circle_area_circum(radius) 함수는 다음과 같이 반지름(radius) 10을 입력으로 받아서 면적(area)과 둘레(circum)의 두 값을 반환하도록 구현하여라."
   ]
  },
  {
   "cell_type": "code",
   "execution_count": 2,
   "metadata": {},
   "outputs": [
    {
     "name": "stdout",
     "output_type": "stream",
     "text": [
      "반지름 10인 원의 면적은 314.0, 원의 둘레는 62.8\n"
     ]
    }
   ],
   "source": [
    "def circle_area_circum(radius):\n",
    "    return radius*radius*3.14, round(2*3.14*radius, 1)    # 면적과 둘레 반환, 소수 둘째 자리에서 반올림(round)\n",
    "\n",
    "radius = 10\n",
    "area, circum = circle_area_circum(radius)\n",
    "print(f'반지름 {radius}인 원의 면적은 {area}, 원의 둘레는 {circum}')\n"
   ]
  },
  {
   "cell_type": "markdown",
   "metadata": {},
   "source": [
    "### LAB 4-8\n",
    "1. 어떤 정수 n과 m을 입력하면, n의 배수 m개를 반환하는 multiples(n,m) 함수를 구현하고 다음과 같이 호출하여 결과를 출력하여라."
   ]
  },
  {
   "cell_type": "code",
   "execution_count": 4,
   "metadata": {},
   "outputs": [
    {
     "name": "stdout",
     "output_type": "stream",
     "text": [
      "3 6 9 12\n",
      "2 4 6 8 10\n"
     ]
    }
   ],
   "source": [
    "def multiples(n,m):\n",
    "    result =[]  # 결과 값을 저장할 리스트 생성\n",
    "    for i in range(1,m+1):\n",
    "        result.append(n*i)  # 배수를 구해서 리스트에 추가하기\n",
    "    return result\n",
    "\n",
    "r1,r2,r3,r4 = multiples(3,4)    # 3의 배수 4개를 구하라\n",
    "print(r1,r2,r3,r4)\n",
    "\n",
    "r1,r2,r3,r4,r5 = multiples(2,5) # 2의 배수 5개를 구하라\n",
    "print(r1,r2,r3,r4,r5)\n"
   ]
  },
  {
   "cell_type": "markdown",
   "metadata": {},
   "source": [
    "### LAB 4-9\n",
    "1. 다음과 같이 성(last name)과 이름(first name), 존칭(honorifics)을 매개변수로 받아서 출력하는 함수 print_name이 있다.<br><br>\n",
    "a) 다음과 같은 함수 호출의 결과는 무엇인가?<br>\n",
    "print_name(first_name='Gildong', last_name='Hong', honorifics='Dr.')<br><br>\n",
    "b) 다음과 같은 함수 호출의 결과는 무엇인가?<br>\n",
    "print_name('Gildong', 'Hong', 'Dr.')"
   ]
  },
  {
   "cell_type": "code",
   "execution_count": 5,
   "metadata": {},
   "outputs": [
    {
     "name": "stdout",
     "output_type": "stream",
     "text": [
      "Dr. Gildong Hong\n",
      "Gildong Hong Dr.\n"
     ]
    }
   ],
   "source": [
    "def print_name(honorifics, first_name, last_name):\n",
    "    ''' 키워드 인자를 이용한 출력용 프로그램 '''\n",
    "    print(honorifics, first_name, last_name)\n",
    "\n",
    "print_name(first_name='Gildong', last_name='Hong', honorifics='Dr.')    # 키워드 인자로 전달하기에 위치에 상관없이 전달된다.\n",
    "print_name('Gildong', 'Hong', 'Dr.')                                    # 위치 인자로 전달하는 경우"
   ]
  },
  {
   "cell_type": "markdown",
   "metadata": {},
   "source": [
    "### LAB 4-10\n",
    "1. 가변 인자를 사용하는 sum_nums() 함수를 수정하여 인자들을 튜플 형식으로 출력한 후 모든 값들의 합과 평균을 다음과 같이 출력하시오."
   ]
  },
  {
   "cell_type": "code",
   "execution_count": 7,
   "metadata": {},
   "outputs": [
    {
     "name": "stdout",
     "output_type": "stream",
     "text": [
      "5 개의 인자 (10, 20, 30, 40, 50)\n",
      "합계 : 150 , 평균 : 30.0\n"
     ]
    }
   ],
   "source": [
    "def sum_nums(*numbers):\n",
    "    result = []\n",
    "    for n in numbers:\n",
    "        result.append(n)\n",
    "    return tuple(result)\n",
    "\n",
    "list = sum_nums(10,20,30,40,50)\n",
    "print(len(list),'개의 인자', list)\n",
    "print('합계 :', sum(list),', 평균 :', sum(list)/len(list))\n"
   ]
  },
  {
   "cell_type": "markdown",
   "metadata": {},
   "source": [
    "2. 가변 인자들을 사용하는 함수 min_nums() 함수를 구현하시오. 이 함수는 정수를 인자로 받을 수 있는데 이 인자의 개수가 가변적이다. 이 함수의 호출문이 다음과 같을 경우 다음과 같이 출력이 나타나도록 하시오."
   ]
  },
  {
   "cell_type": "code",
   "execution_count": 8,
   "metadata": {},
   "outputs": [
    {
     "name": "stdout",
     "output_type": "stream",
     "text": [
      "최솟값은  10\n"
     ]
    }
   ],
   "source": [
    "def min_nums(*numbers):\n",
    "    return min(numbers)\n",
    "print('최솟값은 ',min_nums(20,40,50,10))"
   ]
  },
  {
   "cell_type": "markdown",
   "metadata": {},
   "source": [
    "### LAB 4-11\n",
    "1. 위의 코드를 수정하여 이름, 나이, 직업, 사는 곳까지 다음과 같이 화면에 출력하려고 한다.<br>\n",
    "a) 출력문에서 format() 메소드를 사용하여 출력하여라.<br><br>\n",
    "b) 출력문에서 format() 메소드를 사용하지 말고 쉼표로 구분하여 출력하여라."
   ]
  },
  {
   "cell_type": "code",
   "execution_count": 2,
   "metadata": {},
   "outputs": [
    {
     "name": "stdout",
     "output_type": "stream",
     "text": [
      "당신의 이름은 김철수, 나이는 21살, 직업은 학생, 사는 곳은 창원시입니다.\n",
      "당신의 이름은 김철수 , 나이는 21 살,  직업은 학생 , 사는 곳은 창원시 입니다.\n"
     ]
    }
   ],
   "source": [
    "name = input('당신의 이름을 입력해주세요 : ')\n",
    "age = int(input('나이를 입력해주세요 : '))\n",
    "job = input('직업을 입력해주세요 : ')\n",
    "city = input('사는 곳을 입력해주세요 : ')\n",
    "print('당신의 이름은 {0}, 나이는 {1}살, 직업은 {2}, 사는 곳은 {3}입니다.'.format(name,age,job,city))\n",
    "print('당신의 이름은',name,', 나이는',age,'살, ','직업은',job,', 사는 곳은', city,'입니다.')"
   ]
  },
  {
   "cell_type": "markdown",
   "metadata": {},
   "source": [
    "### LAB 4-12\n",
    "1. join() 메소드를 사용하여 'ABCD'의 문자열을 'A_B_C_D'와 같이 출력하여라."
   ]
  },
  {
   "cell_type": "code",
   "execution_count": 5,
   "metadata": {},
   "outputs": [
    {
     "name": "stdout",
     "output_type": "stream",
     "text": [
      "A_B_C_D\n"
     ]
    }
   ],
   "source": [
    "print('_'.join('ABCD'))"
   ]
  },
  {
   "cell_type": "markdown",
   "metadata": {},
   "source": [
    "2. 'My favorite thing is monsters.'라는 문자열 s에 replace() 메소드를 적용하여 'My favorite thing is cartoons.'로 수정된 t 문자열을 얻도록 하여라."
   ]
  },
  {
   "cell_type": "code",
   "execution_count": 7,
   "metadata": {},
   "outputs": [
    {
     "name": "stdout",
     "output_type": "stream",
     "text": [
      "My favorite thing is cartoons.\n"
     ]
    }
   ],
   "source": [
    "s = 'My favorite thing is monsters.'\n",
    "t = s.replace('monsters', 'cartoons')\n",
    "print(t)"
   ]
  },
  {
   "cell_type": "code",
   "execution_count": 2,
   "metadata": {},
   "outputs": [
    {
     "name": "stdout",
     "output_type": "stream",
     "text": [
      "2 3\n",
      "3 2\n"
     ]
    }
   ],
   "source": [
    "a=2\n",
    "b=3\n",
    "print(a,b)\n",
    "a,b = b,a   #packing, unpacking\n",
    "print(a,b)"
   ]
  }
 ],
 "metadata": {
  "kernelspec": {
   "display_name": "Python 3.10.6 64-bit",
   "language": "python",
   "name": "python3"
  },
  "language_info": {
   "codemirror_mode": {
    "name": "ipython",
    "version": 3
   },
   "file_extension": ".py",
   "mimetype": "text/x-python",
   "name": "python",
   "nbconvert_exporter": "python",
   "pygments_lexer": "ipython3",
   "version": "3.10.6"
  },
  "orig_nbformat": 4,
  "vscode": {
   "interpreter": {
    "hash": "20c9d94bea3bcd43e69d1e5f02ce962985699c48de0c68502218d203d4c4e41a"
   }
  }
 },
 "nbformat": 4,
 "nbformat_minor": 2
}
