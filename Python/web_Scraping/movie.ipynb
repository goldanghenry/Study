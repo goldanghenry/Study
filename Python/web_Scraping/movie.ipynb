{
 "cells": [
  {
   "cell_type": "markdown",
   "metadata": {},
   "source": [
    "# 영화 스크랩핑\n",
    "* https://movie.daum.net/ranking/boxoffice/weekly"
   ]
  },
  {
   "cell_type": "code",
   "execution_count": 1,
   "metadata": {},
   "outputs": [],
   "source": [
    "import requests\n",
    "import bs4\n",
    "url = \"https://movie.daum.net/ranking/boxoffice/weekly\"\n",
    "res = requests.get(url)\n",
    "soup = bs4.BeautifulSoup(res.text, 'html.parser')\n",
    "tags = soup.select('div.item_poster')"
   ]
  },
  {
   "cell_type": "code",
   "execution_count": 2,
   "metadata": {},
   "outputs": [
    {
     "data": {
      "text/plain": [
       "<div class=\"item_poster\">\n",
       "<div class=\"thumb_item\">\n",
       "<div class=\"poster_movie\">\n",
       "<img alt=\"자백\" class=\"img_thumb\" src=\"https://img1.daumcdn.net/thumb/C408x596/?fname=https%3A%2F%2Ft1.daumcdn.net%2Fmovie%2F4127deb531fea9b766461efb61da18af55697d3c\"/>\n",
       "<span class=\"rank_num\">1</span>\n",
       "<span class=\"txt_tag\">\n",
       "<span class=\"ico_movie ico_see see15\">15세이상관람가</span>\n",
       "</span>\n",
       "</div>\n",
       "<div class=\"poster_info\">\n",
       "<a class=\"link_story\" href=\"/moviedb/main?movieId=78417\">\n",
       "                                        제대로 함정에 빠졌다!불륜 사실을 폭로하겠다는 협박을 받고 향한 호텔에서 의문의 습격을 당한 유민호(소지섭).정신을 차려보니 함께 있던 김세희(나나)는 죽어있고, 범인은 흔적도 없이 사라졌다.하루아침에 성공한 사업가에서 밀실 살인 사건의 유일한 용의자로 누명을 쓴 유민호는 무죄를 입증하기 위해 승률 100%의 변호사 양신애(김윤진)를 찾는다.눈 내리는 깊은 산속의 별장에서 마주한 두 사람,양신애는 완벽한 진술을 위해 처음부터 사건을 재구성해야 한다고 말하고, 사건의 조각들이 맞춰지며 유민호가 감추고 있던 또 다른 사건이 모습을 드러내게 되는데…두 개의 사건, 두 개의 시신숨겨진 진실이 밝혀진다.\n",
       "                                    </a>\n",
       "</div>\n",
       "</div>\n",
       "<div class=\"thumb_cont\">\n",
       "<strong class=\"tit_item\"><a class=\"link_txt\" href=\"/moviedb/main?movieId=78417\">자백</a></strong>\n",
       "<span class=\"txt_info\">\n",
       "<span class=\"info_txt\">개봉<span class=\"txt_num\">22.10.26</span></span>\n",
       "<span class=\"info_txt\"><span class=\"screen_out\">관객수</span>536,004명</span>\n",
       "</span>\n",
       "</div>\n",
       "</div>"
      ]
     },
     "execution_count": 2,
     "metadata": {},
     "output_type": "execute_result"
    }
   ],
   "source": [
    "tags[0]"
   ]
  },
  {
   "cell_type": "code",
   "execution_count": 6,
   "metadata": {},
   "outputs": [
    {
     "data": {
      "text/plain": [
       "{'순위': '1',\n",
       " '제목': '자백',\n",
       " '링크': '/moviedb/main?movieId=78417',\n",
       " '설명': '제대로 함정에 빠졌다!불륜 사실을 폭로하겠다는 협박을 받고 향한 호텔에서 의문의 습격을 당한 유민호(소지섭).정신을 차려보니 함께 있던 김세희(나나)는 죽어있고, 범인은 흔적도 없이 사라졌다.하루아침에 성공한 사업가에서 밀실 살인 사건의 유일한 용의자로 누명을 쓴 유민호는 무죄를 입증하기 위해 승률 100%의 변호사 양신애(김윤진)를 찾는다.눈 내리는 깊은 산속의 별장에서 마주한 두 사람,양신애는 완벽한 진술을 위해 처음부터 사건을 재구성해야 한다고 말하고, 사건의 조각들이 맞춰지며 유민호가 감추고 있던 또 다른 사건이 모습을 드러내게 되는데…두 개의 사건, 두 개의 시신숨겨진 진실이 밝혀진다.',\n",
       " '개봉일': '개봉22.10.26',\n",
       " '관객수': '관객수536,004명',\n",
       " '관람가': '15세이상관람가',\n",
       " '이미지 링크': 'https://img1.daumcdn.net/thumb/C408x596/?fname=https%3A%2F%2Ft1.daumcdn.net%2Fmovie%2F4127deb531fea9b766461efb61da18af55697d3c'}"
      ]
     },
     "execution_count": 6,
     "metadata": {},
     "output_type": "execute_result"
    }
   ],
   "source": [
    "# 스크랩 테스트\n",
    "movie = {\n",
    "    \"순위\": tags[0].select('.rank_num')[0].get_text(),\n",
    "    \"제목\": tags[0].select('.tit_item')[0].get_text(),\n",
    "    \"링크\": tags[0].select('.link_story')[0]['href'],\n",
    "    \"설명\": tags[0].select('.link_story')[0].get_text().strip(),\n",
    "    \"개봉일\": tags[0].select('.info_txt')[0].get_text(),\n",
    "    \"관객수\": tags[0].select('.info_txt')[1].get_text(),\n",
    "    \"관람가\": tags[0].select('.ico_see')[0].get_text(),\n",
    "    \"이미지 링크\": tags[0].select('img')[0]['src']\n",
    "}\n",
    "movie\n"
   ]
  },
  {
   "cell_type": "code",
   "execution_count": 27,
   "metadata": {},
   "outputs": [
    {
     "data": {
      "text/plain": [
       "['2',\n",
       " '리멤버',\n",
       " '“부서진 차… 손에 묻은 피… 권총 한 자루… 내가 왜 여기에 있는 거지?”뇌종양 말기, 80대 알츠하이머 환자인 한필주. 일제강점기 때 친일파들에게 가족을 모두 잃었다.아내가 세상을 떠나자 필주는 60여 년을 계획해 온 복수를 감행하려고 한다.그는 알바 중인 패밀리 레스토랑에서 절친이 된 20대 알바생 인규에게일주일만 운전을 도와 달라 부탁한다.“원래 이런 사람이었어요? 정체가 뭐예요 도대체?! 같이 접시 닦던 사람 맞아요?”이유도 모른 채 필주를 따라나선 인규는 첫 복수 현장의 CCTV에 노출되어 유력 용의자로 지목된다.경찰은 수사망을 좁혀오고 사라져가는 기억과 싸우며 필주는 복수를 이어가는데…60년의 계획, 복수를 위한 위험한 동행이 시작된다!',\n",
       " '개봉22.10.26',\n",
       " '관객수366,876명',\n",
       " '15세이상관람가',\n",
       " 'https://movie.daum.net/moviedb/main?movieId=138864',\n",
       " 'https://img1.daumcdn.net/thumb/C408x596/?fname=https%3A%2F%2Ft1.daumcdn.net%2Fmovie%2F0735b189276a819f8611fdac8c86074d014510b0']"
      ]
     },
     "execution_count": 27,
     "metadata": {},
     "output_type": "execute_result"
    }
   ],
   "source": [
    "\n",
    "# 리스트로 묶기\n",
    "movies = [[\n",
    "    tag.select('.rank_num')[0].get_text(),  # 순위\n",
    "    tag.select('.tit_item')[0].get_text(),  # 제목\n",
    "    tag.select('.link_story')[0].get_text().strip(),    # 설명\n",
    "    tag.select('.info_txt')[0].get_text(),  # 개봉일\n",
    "    tag.select('.info_txt')[1].get_text(),  # 관객수\n",
    "    tag.select('.ico_see')[0].get_text(),   # 관람가\n",
    "    'https://movie.daum.net' + tag.select('.link_story')[0]['href'],    # 링크\n",
    "    tag.select('img')[0]['src'] if tag.select('img') else ''            # 이미지\n",
    " ] for tag in tags]\n",
    "\n",
    "movies[1]"
   ]
  },
  {
   "cell_type": "code",
   "execution_count": 34,
   "metadata": {},
   "outputs": [
    {
     "name": "stdout",
     "output_type": "stream",
     "text": [
      "movie_ranking_boxoffice_weekly.xlsx 생성 완료\n"
     ]
    }
   ],
   "source": [
    "from openpyxl import Workbook # openpyxl 사용\n",
    "import datetime\n",
    "\n",
    "# excel 생성: 쓰기 전용으로\n",
    "wb =Workbook(write_only=True) \n",
    "\n",
    "# sheet 생성\n",
    "week = str(datetime.date.today().month) +'월_'+ str(datetime.date.today().weekday()) + '째주'\n",
    "ws = wb.create_sheet(week)\n",
    "\n",
    "# excel 헤더 생성\n",
    "ws.append(['순위', '제목', '설명', '개봉일', '관객수', '관람가','링크','이미지'])\n",
    "\n",
    "# excel 내용 추가\n",
    "for movie in movies:\n",
    "    ws.append(movie)\n",
    "\n",
    "# excel 파일 저장\n",
    "wb.save('movie_ranking_boxoffice_weekly.xlsx')\n",
    "print('movie_ranking_boxoffice_weekly.xlsx 생성 완료')"
   ]
  }
 ],
 "metadata": {
  "kernelspec": {
   "display_name": "Python 3.10.6 64-bit",
   "language": "python",
   "name": "python3"
  },
  "language_info": {
   "codemirror_mode": {
    "name": "ipython",
    "version": 3
   },
   "file_extension": ".py",
   "mimetype": "text/x-python",
   "name": "python",
   "nbconvert_exporter": "python",
   "pygments_lexer": "ipython3",
   "version": "3.10.6"
  },
  "orig_nbformat": 4,
  "vscode": {
   "interpreter": {
    "hash": "20c9d94bea3bcd43e69d1e5f02ce962985699c48de0c68502218d203d4c4e41a"
   }
  }
 },
 "nbformat": 4,
 "nbformat_minor": 2
}
