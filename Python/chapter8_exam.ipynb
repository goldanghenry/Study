{
 "cells": [
  {
   "cell_type": "markdown",
   "metadata": {},
   "source": [
    "## Chapter 8 exception"
   ]
  },
  {
   "cell_type": "markdown",
   "metadata": {},
   "source": [
    "### 수업\n",
    "list, tuple, dictionarym, set ...<br>\n",
    "인덱스 방법 / 키워드 방법 / 슬라이싱 구분해서<br>\n",
    "사용하는 메소드(.index...etc)<br>\n",
    "------------------------------------------<br>\n",
    "<질문>\n",
    "- 버퍼는 자동인가? 따로 함수가 있음"
   ]
  },
  {
   "cell_type": "code",
   "execution_count": 3,
   "metadata": {},
   "outputs": [
    {
     "name": "stdout",
     "output_type": "stream",
     "text": [
      "desserts\n"
     ]
    }
   ],
   "source": [
    "\n",
    "# 스트레스를 거꾸로 한다면?\n",
    "str1 = \"stressed\"\n",
    "str1 = str1[::-1]\n",
    "\n",
    "print(str1)"
   ]
  },
  {
   "cell_type": "code",
   "execution_count": 13,
   "metadata": {},
   "outputs": [
    {
     "ename": "ZeroDivisionError",
     "evalue": "division by zero",
     "output_type": "error",
     "traceback": [
      "\u001b[1;31m---------------------------------------------------------------------------\u001b[0m",
      "\u001b[1;31mZeroDivisionError\u001b[0m                         Traceback (most recent call last)",
      "Cell \u001b[1;32mIn [13], line 3\u001b[0m\n\u001b[0;32m      1\u001b[0m \u001b[39m# 0으로 나누는 오류\u001b[39;00m\n\u001b[0;32m      2\u001b[0m a, b \u001b[39m=\u001b[39m \u001b[39minput\u001b[39m(\u001b[39m'\u001b[39m\u001b[39m두 수를 입력하시오:\u001b[39m\u001b[39m'\u001b[39m)\u001b[39m.\u001b[39msplit()\n\u001b[1;32m----> 3\u001b[0m result \u001b[39m=\u001b[39m \u001b[39mint\u001b[39;49m(a) \u001b[39m/\u001b[39;49m \u001b[39mint\u001b[39;49m (b)\n",
      "\u001b[1;31mZeroDivisionError\u001b[0m: division by zero"
     ]
    }
   ],
   "source": [
    "# 0으로 나누는 오류\n",
    "a, b = input('두 수를 입력하시오:').split()\n",
    "result = int(a) / int (b)"
   ]
  },
  {
   "cell_type": "markdown",
   "metadata": {},
   "source": [
    "#### try-except 문의 문법\n",
    "★시험"
   ]
  },
  {
   "cell_type": "code",
   "execution_count": 17,
   "metadata": {},
   "outputs": [
    {
     "name": "stdout",
     "output_type": "stream",
     "text": [
      "수가 정확한지 확인하세요.\n"
     ]
    }
   ],
   "source": [
    "try:\n",
    "    a, b = input('두 수를 입력하시오:').split()\n",
    "    result = int(a)/int(b)\n",
    "    print(result)\n",
    "except:\n",
    "    print('수가 정확한지 확인하세요.')\n"
   ]
  },
  {
   "cell_type": "code",
   "execution_count": 18,
   "metadata": {},
   "outputs": [
    {
     "name": "stdout",
     "output_type": "stream",
     "text": [
      "10.0\n"
     ]
    }
   ],
   "source": [
    "a, b = input('두 수를 입력하시오:').split()\n",
    "try:\n",
    "    result = int(a)/int(b)\n",
    "    print(result)\n",
    "except:\n",
    "    result = int(a)/1   # 0으로 나눌 경우 1로 대체한다.\n",
    "    print(result)\n"
   ]
  },
  {
   "cell_type": "markdown",
   "metadata": {},
   "source": [
    "어떤 예외 상황에 의해서 except가 실행되었는지 알고 싶을 경우 Exception as e 라는 문법을 통해 Exception 변수 e를 선언한 후 e 값을 다음과 같이 출력하면 오류의 종류를 알 수 있게 된다."
   ]
  },
  {
   "cell_type": "code",
   "execution_count": 20,
   "metadata": {},
   "outputs": [
    {
     "name": "stdout",
     "output_type": "stream",
     "text": [
      "error: unsupported operand type(s) for +: 'int' and 'str'\n"
     ]
    }
   ],
   "source": [
    "try:\n",
    "    #b=2/0\n",
    "    a = 1 + 'hundred'\n",
    "except Exception as e:\n",
    "    print('error:', e)"
   ]
  },
  {
   "cell_type": "code",
   "execution_count": 30,
   "metadata": {},
   "outputs": [],
   "source": [
    "# 구채적인 예외를 명시하기\n",
    "# 어떤 상황에 이렇게 만들 수 있을 지 생각.\n",
    "# ★시험: 코드를 작성할 때, 오류 처리를 어떻게 하면 좋을지\n",
    "try:\n",
    "    a, b = input('두 수를 입력하시오:').split()\n",
    "    result = int(a)/ int(b)\n",
    "except ZeroDivisionError:\n",
    "    print('0으로 나누는 오류')\n",
    "except TypeError:   # 위의 에러가 실행되지 않는 경우 실행\n",
    "    print('지원되지 않는 연산자를 사용하는 오류')\n",
    "except Exception as e:\n",
    "    print('error:', e)\n",
    "    print('나눗셈과 연산자를 다시 확인하세요')\n",
    "except:\n",
    "    print('오류: 10 2와 같이 두 정수를 입력하세요:')\n",
    "# -예외가 발생하지 않은 경우에 실행되므로 반드시 except절 바로 다음에 위치해야 함\n",
    "else:   # 오류가 발생하지 않을 경우 실행 \n",
    "    print(f'{a} / {b} = {result}')\n"
   ]
  },
  {
   "cell_type": "markdown",
   "metadata": {},
   "source": [
    "try-except-finally\n",
    ": 예외의 발생 여부와 상관없이 항상 실행되는 블록\n"
   ]
  },
  {
   "cell_type": "code",
   "execution_count": 31,
   "metadata": {},
   "outputs": [
    {
     "name": "stdout",
     "output_type": "stream",
     "text": [
      "divide(100,2) 함수호출 :\n",
      "결과: 50.0\n",
      "수행완료\n",
      "divide(100,0) 함수호출 :\n",
      "0으로 나누는 오류발생\n",
      "수행완료\n"
     ]
    }
   ],
   "source": [
    "def divide(x,y):\n",
    "    try:\n",
    "        result = x/y\n",
    "    except ZeroDivisionError:\n",
    "        print('0으로 나누는 오류발생')\n",
    "    else:\n",
    "        print('결과:', result)\n",
    "    finally:\n",
    "        print('수행완료')\n",
    "\n",
    "print('divide(100,2) 함수호출 :')\n",
    "divide(100,2)\n",
    "print('divide(100,0) 함수호출 :')\n",
    "divide(100,0)"
   ]
  },
  {
   "cell_type": "markdown",
   "metadata": {},
   "source": [
    "내장 예외, Built-in Exception\n",
    ": 클래스로 정의되어 있고, 계층적 구조로 만들어져 있기 때문에 새로운 예외를 만들 때는 Exception을 상속받아 구현함<br><br>\n",
    "raise문\n",
    ":raise를 이용하여 예외 강제로 발생 가능."
   ]
  },
  {
   "cell_type": "code",
   "execution_count": 32,
   "metadata": {},
   "outputs": [
    {
     "ename": "Exception",
     "evalue": "Exception raised",
     "output_type": "error",
     "traceback": [
      "\u001b[1;31m---------------------------------------------------------------------------\u001b[0m",
      "\u001b[1;31mException\u001b[0m                                 Traceback (most recent call last)",
      "Cell \u001b[1;32mIn [32], line 1\u001b[0m\n\u001b[1;32m----> 1\u001b[0m \u001b[39mraise\u001b[39;00m \u001b[39mException\u001b[39;00m(\u001b[39m'\u001b[39m\u001b[39mException raised\u001b[39m\u001b[39m'\u001b[39m)\n",
      "\u001b[1;31mException\u001b[0m: Exception raised"
     ]
    }
   ],
   "source": [
    "raise Exception('Exception raised')"
   ]
  },
  {
   "cell_type": "markdown",
   "metadata": {},
   "source": [
    "get_ans() 함수\n",
    ": ans라는 매개변수를 통해 문자열을 입력 받음. if문을 통해 ans가 '예','아니오' 중 하나가 아니면 raise ValueError('예/아니오를 입력하세요')fmf xhdgo ValueError를 발생"
   ]
  },
  {
   "cell_type": "code",
   "execution_count": 33,
   "metadata": {},
   "outputs": [
    {
     "name": "stdout",
     "output_type": "stream",
     "text": [
      "error 입력을 확인하세요\n",
      "error 입력을 확인하세요\n",
      "정상적인 입력입니다.\n"
     ]
    }
   ],
   "source": [
    "def get_ans(ans):\n",
    "    if ans in ['예','아니오']:\n",
    "        print('정상적인 입력입니다.')\n",
    "    else:\n",
    "        raise ValueError('입력을 확인하세요')\n",
    "        \n",
    "while True:\n",
    "    try:\n",
    "        ans = input('예/아니오 중 하나를 입력하세요:')\n",
    "        get_ans(ans)\n",
    "        break\n",
    "    except Exception as e:\n",
    "        print('error', e)"
   ]
  },
  {
   "cell_type": "markdown",
   "metadata": {},
   "source": [
    "#### 파일 입출력\n",
    "1. 파일 열기<br>\n",
    ": 저장 장치(SSD) 내의 위치와 파일 이름을 지정해서 파일을 가져온다(Memory). 컴퓨터 저장장치내의 파일 위치는 경로path라고 함<br>\n",
    "open() 함수는 파일을 열어서 가져오는 역할, 파일 객체를 반환\n",
    "2. 사요용목적에 따라 사용 - CRUD(읽기, 쓰기 또는 파일의 내용 수정)<br>\n",
    "f.write() 메소드를 이용하여 지정된 형식으로 파일에 지정된 텍스트를 쓰는 일을 한다.\n",
    "3. 파일 닫기<br>\n",
    "f.close() 메소드는 파일을 닫아줌\n",
    "<br>▶중간"
   ]
  },
  {
   "cell_type": "code",
   "execution_count": 34,
   "metadata": {},
   "outputs": [],
   "source": [
    "# 파일 열기와 쓰기, 닫기\n",
    "# open() \n",
    "f = open('hello.txt','w')\n",
    "f.write('Hello World!')\n",
    "f.close()"
   ]
  },
  {
   "cell_type": "markdown",
   "metadata": {},
   "source": [
    "파일 입출력시 버퍼를 사용하는 것이 일반적이다.<br>\n",
    "이때 사용되는 버퍼buffer는 임시로 사용되는 기억공간<br>\n",
    "파일을 효율적으로 쓰기 위해서 일정한 크기만큼의 데이터를 모아 두었다가 한꺼번에 읽거나 쓰는 용도<br>\n",
    "close() 함수를 통해 버퍼의 내용을 디스크로 보내고 버퍼 크기만큼의 메모리는 비워지게 된다."
   ]
  },
  {
   "cell_type": "code",
   "execution_count": 35,
   "metadata": {},
   "outputs": [
    {
     "name": "stdout",
     "output_type": "stream",
     "text": [
      "Buddy, you're a boy, make a big noise\n",
      "Playing in the street gonna be a big man someday\n",
      "You got mud on your face, you big disgrace\n",
      "Kicking your can all over the placem singin'\n",
      "We will, we will rock you\n",
      "We will, we will rock you\n",
      "\n"
     ]
    }
   ],
   "source": [
    "f = open('we_will_rock.txt', 'r')   # try - except\n",
    "s = f.read()\n",
    "# s = f.read(5) // 5개의 character만 읽어옴\n",
    "print(s)\n",
    "f.close()"
   ]
  },
  {
   "cell_type": "markdown",
   "metadata": {},
   "source": [
    "한 줄씩 읽고 dictionary로 변형 ? readline()"
   ]
  },
  {
   "cell_type": "code",
   "execution_count": 36,
   "metadata": {},
   "outputs": [
    {
     "name": "stdout",
     "output_type": "stream",
     "text": [
      "Buddy, you're a boy, make a big noise\n",
      "\n",
      "Playing in the street gonna be a big man someday\n",
      "\n"
     ]
    }
   ],
   "source": [
    "f = open('we_will_rock.txt', 'r')\n",
    "s = f.readline()\n",
    "print(s)\n",
    "s = f.readline()\n",
    "print(s)\n",
    "f.close()"
   ]
  },
  {
   "cell_type": "markdown",
   "metadata": {},
   "source": [
    "rstrip()으로 \\n 지우기"
   ]
  },
  {
   "cell_type": "code",
   "execution_count": 37,
   "metadata": {},
   "outputs": [
    {
     "name": "stdout",
     "output_type": "stream",
     "text": [
      "Buddy, you're a boy, make a big noise\n",
      "Playing in the street gonna be a big man someday\n"
     ]
    }
   ],
   "source": [
    "f = open('we_will_rock.txt', 'r')\n",
    "s = f.readline().rstrip()\n",
    "print(s)\n",
    "s = f.readline().rstrip()\n",
    "print(s)\n",
    "f.close()"
   ]
  },
  {
   "cell_type": "markdown",
   "metadata": {},
   "source": [
    "파일 추가하기 : 'a+' 모드"
   ]
  },
  {
   "cell_type": "code",
   "execution_count": 38,
   "metadata": {},
   "outputs": [],
   "source": [
    "f = open('foo.txt', 'w')\n",
    "f.write(\n",
    "\"\"\"AAA\n",
    "BBB\n",
    "CCC\"\"\")\n",
    "f.close()"
   ]
  },
  {
   "cell_type": "code",
   "execution_count": 39,
   "metadata": {},
   "outputs": [],
   "source": [
    "# a는 append 모드\n",
    "# +는 기존 파일이 없을 경우 새롭게 파일을 생성하는 모드\n",
    "f = open('foo.txt', 'a+')\n",
    "f.write('\\nDDD')\n",
    "f.close()"
   ]
  },
  {
   "cell_type": "markdown",
   "metadata": {},
   "source": [
    "파일로부터 정수를 읽어서 이 정수들의 합과 평균을 출력<br>\n",
    "파일을 읽어서 변환하기<br>\n",
    "이름  A   B   C<br>\n",
    "araon 90 95 80<br>\n",
    "한 줄씩 읽어서 딕셔너리로 저장하고 출력하기<br>"
   ]
  },
  {
   "cell_type": "code",
   "execution_count": null,
   "metadata": {},
   "outputs": [],
   "source": [
    "import sys\n",
    "fname = input('입력할 파일의 이름: ')\n",
    "try:\n",
    "    f = open(fname, 'r', encoding='UTF8')\n",
    "except IOError:\n",
    "    print(\"Could not read file:\", fname)\n",
    "    sys.exit()\n",
    "except:\n",
    "    print(\"Unexpected error:\", sys.exc_info[0])\n",
    "    sys.exit()\n",
    "n=1\n",
    "I = f.readline()\n",
    "while I:\n",
    "    print('{:3d}: {}'.format(n,I), end=\"\")\n",
    "    n+=1\n",
    "    I=f.readline()\n",
    "f.close()"
   ]
  },
  {
   "cell_type": "markdown",
   "metadata": {},
   "source": [
    "* with 문법\n",
    ": 문법을 명확하게 만들고 예외를 손쉽게 처리하는 방법<br>\n",
    "with ~ as"
   ]
  },
  {
   "cell_type": "code",
   "execution_count": null,
   "metadata": {},
   "outputs": [],
   "source": [
    "# 기존 try-except-finally\n",
    "# f = open(\"hello.txt\",\"w\")\n",
    "# try:\n",
    "#     f.write('Hello World!')\n",
    "# finally:\n",
    "#     f.close()\n",
    "\n",
    "with open(\"hello.txt\",\"w\") as f:\n",
    "    f.write('Hello World!')\n",
    "# 파일 쓰기가 완료되면 자동으로 f.close()가 수행되기 때문에 finally절을 사용할 필요가 없다.\n",
    "# 코드가 길어질 경우 실수의 가능성을 줄여준다.\n",
    "# web site를 open할 때도 사용할 수 있다."
   ]
  }
 ],
 "metadata": {
  "kernelspec": {
   "display_name": "Python 3.10.6 64-bit",
   "language": "python",
   "name": "python3"
  },
  "language_info": {
   "codemirror_mode": {
    "name": "ipython",
    "version": 3
   },
   "file_extension": ".py",
   "mimetype": "text/x-python",
   "name": "python",
   "nbconvert_exporter": "python",
   "pygments_lexer": "ipython3",
   "version": "3.10.6"
  },
  "orig_nbformat": 4,
  "vscode": {
   "interpreter": {
    "hash": "20c9d94bea3bcd43e69d1e5f02ce962985699c48de0c68502218d203d4c4e41a"
   }
  }
 },
 "nbformat": 4,
 "nbformat_minor": 2
}
