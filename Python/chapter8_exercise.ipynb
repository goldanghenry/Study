{
 "cells": [
  {
   "cell_type": "markdown",
   "metadata": {},
   "source": [
    "## Chapter8 exercise"
   ]
  },
  {
   "cell_type": "markdown",
   "metadata": {},
   "source": [
    "### 8.1\n",
    "다음과 같은 내용을 포함하고 있는 greet.txt 파일을 파이썬의 write() 메소드를 이용하여 작성하시오. 이때 greet.txt 파일이 이미 존재할 경우를 가정하고 이 파일이 쓰기 금지 모드(읽기 모드)로 되어 있을 가능성이 있기 때문에 이를 위한 예외처리 기능을 구현하시오"
   ]
  },
  {
   "cell_type": "code",
   "execution_count": 20,
   "metadata": {},
   "outputs": [
    {
     "name": "stdout",
     "output_type": "stream",
     "text": [
      "[Errno 13] Permission denied: 'greet.txt'\n",
      "ERROR:: PermissionError[errno 13] Permission denied\n"
     ]
    }
   ],
   "source": [
    "try:\n",
    "    f = open('greet.txt', 'w')\n",
    "    f.write(\"Hi, everyone.\\nWelcome to Python.\")\n",
    "except PermissionError as e:\n",
    "    #print(e)\n",
    "    print(f'ERROR:: PermissionError[errno {e.errno}] {e.strerror}')\n",
    "finally:\n",
    "    f.close()"
   ]
  },
  {
   "cell_type": "markdown",
   "metadata": {},
   "source": [
    "### 8.2\n",
    "다음과 같은 내용을 포함하고 있는 number1to10.txt 파일을 한 줄씩 읽어들이도록 하여라.<br>\n",
    "\n",
    "1) 이 파일을 읽어서 각 행의 정수에 곱하기 10을 수행한 후 다음과 같은 numberby10.txt라는 이름의 파일로 저장하여라.\n"
   ]
  },
  {
   "cell_type": "code",
   "execution_count": 21,
   "metadata": {},
   "outputs": [],
   "source": [
    "fname1 = 'number1to10.txt'\n",
    "\n",
    "# 파일 쓰기\n",
    "f = open(fname1, 'w')\n",
    "for i in range(1,11):\n",
    "    f.write(str(i)+\"\\n\")\n",
    "f.close()"
   ]
  },
  {
   "cell_type": "code",
   "execution_count": 40,
   "metadata": {},
   "outputs": [],
   "source": [
    "# 파일 읽기\n",
    "list_a = []\n",
    "f1 = open('number1to10.txt', 'r')\n",
    "f2 = open(\"numberby10.txt\", 'w')\n",
    "temp = f1.readline().rstrip()\n",
    "while temp:\n",
    "    f2.write(str(int(temp)*10)+'\\n')\n",
    "    temp = f1.readline().rstrip()\n",
    "    if temp == \"\": break\n",
    "f1.close(); f2.close()"
   ]
  },
  {
   "cell_type": "markdown",
   "metadata": {},
   "source": [
    "2) 위 두 파일을 읽어서 다음과 같이 각 행의 값을 하나의 내용으로 묶어서 저장하는 프로그램을 작성하여라. 이 파일의 이름은 merge.txt이다."
   ]
  },
  {
   "cell_type": "code",
   "execution_count": 41,
   "metadata": {},
   "outputs": [],
   "source": [
    "f1 = open('number1to10.txt', 'r')\n",
    "f2 = open('numberby10.txt', 'r')\n",
    "f3 = open('merge.txt', 'w')\n",
    "\n",
    "for _ in range(10):\n",
    "    f3.write(f1.readline().rstrip()+' : '+f2.readline())    # f2의 \\n은 줄바꿈으로 활용\n",
    "\n",
    "f1.close(); f2.close(); f3.close()"
   ]
  },
  {
   "cell_type": "markdown",
   "metadata": {},
   "source": [
    "### 8.3\n",
    "\"Hello Python”이라는 문자열을 파일로 저장하기 위하여 my_hello.txt 라는 파일을 열고 쓰기를 시도하였다. 이때 이 파일이 이미 존재하고 있으며 문제 1번의 읽기 모드 설정 방법을 참고하여 이미 이 파일이 읽기 모드로 설정되어 있다고 가정한다.<br><br>\n",
    "\n",
    "1. 이 상황에서는 어떤 예외가 발생하는지, 실제로 파일을 만들어서 이러한 상황을 테스트하는 프로그램을 작성하여 예외를 출력하여라"
   ]
  },
  {
   "cell_type": "code",
   "execution_count": 42,
   "metadata": {},
   "outputs": [
    {
     "ename": "PermissionError",
     "evalue": "[Errno 13] Permission denied: 'my_hello.txt'",
     "output_type": "error",
     "traceback": [
      "\u001b[1;31m---------------------------------------------------------------------------\u001b[0m",
      "\u001b[1;31mPermissionError\u001b[0m                           Traceback (most recent call last)",
      "Cell \u001b[1;32mIn [42], line 1\u001b[0m\n\u001b[1;32m----> 1\u001b[0m f \u001b[39m=\u001b[39m \u001b[39mopen\u001b[39;49m(\u001b[39m'\u001b[39;49m\u001b[39mmy_hello.txt\u001b[39;49m\u001b[39m'\u001b[39;49m, \u001b[39m'\u001b[39;49m\u001b[39mw\u001b[39;49m\u001b[39m'\u001b[39;49m)\n\u001b[0;32m      2\u001b[0m f\u001b[39m.\u001b[39mwrite(\u001b[39m'\u001b[39m\u001b[39mHello Python\u001b[39m\u001b[39m'\u001b[39m)\n\u001b[0;32m      3\u001b[0m f\u001b[39m.\u001b[39mclose()\n",
      "\u001b[1;31mPermissionError\u001b[0m: [Errno 13] Permission denied: 'my_hello.txt'"
     ]
    }
   ],
   "source": [
    "f = open('my_hello.txt', 'w')\n",
    "f.write('Hello Python')\n",
    "f.close()"
   ]
  },
  {
   "cell_type": "markdown",
   "metadata": {},
   "source": [
    "2. 이 예외를 처리하는 try-exception 문을 구현하여라"
   ]
  },
  {
   "cell_type": "code",
   "execution_count": 44,
   "metadata": {},
   "outputs": [
    {
     "name": "stdout",
     "output_type": "stream",
     "text": [
      "읽기 전용 파일입니다.\n",
      "error: [Errno 13] Permission denied: 'my_hello.txt'\n"
     ]
    }
   ],
   "source": [
    "try:\n",
    "    f = open('my_hello.txt', 'w')\n",
    "    f.write('Hello Python')\n",
    "    f.close()\n",
    "except PermissionError as p:\n",
    "    print('읽기 전용 파일입니다.\\nerror:', p)"
   ]
  },
  {
   "cell_type": "markdown",
   "metadata": {},
   "source": [
    "### 8.4\n",
    "다음과 같은 내용을 포함하고 있는 hello.txt 파일을 텍스트 편집기를 이용하여 작성하시오\n",
    "\n",
    "1. 이제 이 파일을 open() 함수를 통해 읽어서 이 파일의 내용을 다음과 같이 화면에 출력하시오."
   ]
  },
  {
   "cell_type": "code",
   "execution_count": 7,
   "metadata": {},
   "outputs": [
    {
     "name": "stdout",
     "output_type": "stream",
     "text": [
      "hello.txt 파일 :\n",
      "Hello.\n",
      "Hi, there.\n"
     ]
    }
   ],
   "source": [
    "fname = 'hello.txt'\n",
    "f = open(fname, 'r')\n",
    "temp = f.readlines()\n",
    "f.close()\n",
    "\n",
    "print(fname,'파일 :')\n",
    "for i in temp:\n",
    "    print(i.rstrip())"
   ]
  },
  {
   "cell_type": "markdown",
   "metadata": {},
   "source": [
    "2. 이 파일을 open() 함수를 통해 읽어서 원래 파일의 내용 아래쪽에 ‘Welcome to Python!’을 추가한 후 저장하시오. 그리고 다시 한번 파일을 읽어서 다음과 같이 화면에 출력하시오. "
   ]
  },
  {
   "cell_type": "code",
   "execution_count": 8,
   "metadata": {},
   "outputs": [
    {
     "name": "stdout",
     "output_type": "stream",
     "text": [
      "hello.txt 파일 :\n",
      "Hello.\n",
      "Hi, there.\n",
      "Welcome to Python!\n"
     ]
    }
   ],
   "source": [
    "fname = 'hello.txt'\n",
    "with open(fname, 'a+t') as f:\n",
    "    f.write('Welcome to Python!')\n",
    "\n",
    "with open(fname, 'r') as f:\n",
    "    temp = f.readlines()\n",
    "\n",
    "print(fname,'파일 :')\n",
    "for i in temp:\n",
    "    print(i.rstrip())"
   ]
  },
  {
   "cell_type": "markdown",
   "metadata": {},
   "source": [
    "### 8.5\n",
    "1에서 10사이의 랜덤한 숫자를 30개 가진 randint30.txt 라는 파일을 random 모듈을 사용하여 생성하시오. 이 때 생성한 숫자는 다음과 같이 공백으로 구분하여 나열하시오. "
   ]
  },
  {
   "cell_type": "code",
   "execution_count": 4,
   "metadata": {},
   "outputs": [
    {
     "name": "stdout",
     "output_type": "stream",
     "text": [
      "1 : 5개\n",
      "2 : 3개\n",
      "3 : 3개\n",
      "4 : 1개\n",
      "5 : 4개\n",
      "6 : 2개\n",
      "7 : 3개\n",
      "8 : 2개\n",
      "9 : 2개\n",
      "10 : 5개\n"
     ]
    }
   ],
   "source": [
    "import random as rd\n",
    "\n",
    "list_rd = [ rd.randrange(1,11) for _ in range(30) ]  # 랜덤 모듈 이용\n",
    "list_result = [ 0 for _ in range(11) ]              # 카운트를 위한 리스트, 0으로 초기화\n",
    "\n",
    "with open('randint30.txt', 'w') as f:\n",
    "    for i in list_rd:\n",
    "        f.write(str(i)+' ')\n",
    "\n",
    "with open('randint30.txt', 'r') as f:\n",
    "    list_t = f.readline().rstrip().split()\n",
    "\n",
    "\n",
    "# 카운트 시작\n",
    "for i in list_t:\n",
    "    list_result[int(i)]+=1\n",
    "\n",
    "# 출력\n",
    "for i in range(1,11):\n",
    "    print(f'{i} : {list_result[i]}개')\n",
    "\n"
   ]
  }
 ],
 "metadata": {
  "kernelspec": {
   "display_name": "Python 3.10.6 64-bit",
   "language": "python",
   "name": "python3"
  },
  "language_info": {
   "codemirror_mode": {
    "name": "ipython",
    "version": 3
   },
   "file_extension": ".py",
   "mimetype": "text/x-python",
   "name": "python",
   "nbconvert_exporter": "python",
   "pygments_lexer": "ipython3",
   "version": "3.10.6"
  },
  "orig_nbformat": 4,
  "vscode": {
   "interpreter": {
    "hash": "20c9d94bea3bcd43e69d1e5f02ce962985699c48de0c68502218d203d4c4e41a"
   }
  }
 },
 "nbformat": 4,
 "nbformat_minor": 2
}
