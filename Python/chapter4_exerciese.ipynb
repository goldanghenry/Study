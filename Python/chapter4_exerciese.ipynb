{
 "cells": [
  {
   "cell_type": "markdown",
   "metadata": {},
   "source": [
    "## Chapter4 Practice\n",
    "-2022.09.22"
   ]
  },
  {
   "cell_type": "markdown",
   "metadata": {},
   "source": [
    "### 4.1\n",
    "\"환영합니다.\"를 출력하는 greet()이라는 이름의 함수를 정의하고, 이 함수를 두 번 호출하여 이 인사말을 두 번 출력하고자 한다. 밑줄 친 부분에 들어갈 알맞은 코드를 채우고 전체 코드를 실행하시오."
   ]
  },
  {
   "cell_type": "code",
   "execution_count": 1,
   "metadata": {},
   "outputs": [
    {
     "name": "stdout",
     "output_type": "stream",
     "text": [
      "환영합니다.\n",
      "환영합니다.\n"
     ]
    }
   ],
   "source": [
    "def my_greet():\n",
    "    print('환영합니다.')\n",
    "\n",
    "my_greet()\n",
    "my_greet()"
   ]
  },
  {
   "cell_type": "markdown",
   "metadata": {},
   "source": [
    "### 4.2\n",
    "n이라는 이름의 매개변수를 입력으로 받아서 이 값의 제곱 값을 반환하는 square(n)함수를 정의하고 이 함수를 호출하여 3과 4의 제곱을 출력하고자 한다. 밑줄 친 부분에 들어갈 알맞은 코드를 채우고 전체 코드를 실행하시오."
   ]
  },
  {
   "cell_type": "code",
   "execution_count": 2,
   "metadata": {},
   "outputs": [
    {
     "name": "stdout",
     "output_type": "stream",
     "text": [
      "3의 제곱은 :  9\n",
      "4의 제곱은 :  16\n"
     ]
    }
   ],
   "source": [
    "def square(n):\n",
    "    return n**2\n",
    "\n",
    "print('3의 제곱은 : ', square(3))\n",
    "print('4의 제곱은 : ', square(4))"
   ]
  },
  {
   "cell_type": "markdown",
   "metadata": {},
   "source": [
    "### 4.3\n",
    "m과 n이라는 이름의 매개변수를 두 개 입력받아서 이 두 값 중에서 큰 값을 반환하는 max2(m,n) 함수와 작은 값을 반환하는 min2(m,n) 함수를 구현하시오. 100과 200을 인자로 넣어서 호출하여 그 결과를 확인하시오. 이를 위하여 밑줄 친 부분에 들어갈 알맞은 코드를 채우고 전체 코드를 실행하시오."
   ]
  },
  {
   "cell_type": "code",
   "execution_count": 3,
   "metadata": {},
   "outputs": [
    {
     "name": "stdout",
     "output_type": "stream",
     "text": [
      "100과 200중 큰 수는 : 200\n",
      "100과 200중 작은 수는 : 100\n"
     ]
    }
   ],
   "source": [
    "def max2(m,n):\n",
    "    if m > n:\n",
    "        return m\n",
    "    else:\n",
    "        return n\n",
    "\n",
    "def min2(m,n):\n",
    "    if m < n:\n",
    "        return m\n",
    "    else:\n",
    "        return n\n",
    "\n",
    "print('100과 200중 큰 수는 :', max2(100,200))\n",
    "print('100과 200중 작은 수는 :', min2(100,200))"
   ]
  },
  {
   "cell_type": "markdown",
   "metadata": {},
   "source": [
    "### 4.4\n",
    "미국에서 주로 사용되는 단위인 마일 값을 국제표준 단위인 킬로미터(km) 값으로 변경하고자 한다. 마일 값을 매개변수로 넘겨받아 킬로미터로 반환하는 mile2km(m) 함수를 구현하고 이 함수를 호출하여 1에서 5마일을 킬로미터로 출력하시오. 이 때 for-in range()를 사용하여 반복 출력이 되도록 하시오.<br><br>\n",
    "(단, 1마일은 1.61 킬로미터로 정의하시오.)"
   ]
  },
  {
   "cell_type": "code",
   "execution_count": 4,
   "metadata": {},
   "outputs": [
    {
     "name": "stdout",
     "output_type": "stream",
     "text": [
      "1 마일 = 1.61 킬로미터\n",
      "2 마일 = 3.22 킬로미터\n",
      "3 마일 = 4.83 킬로미터\n",
      "4 마일 = 6.44 킬로미터\n",
      "5 마일 = 8.05 킬로미터\n"
     ]
    }
   ],
   "source": [
    "def mile2km(m):\n",
    "    print(m,'마일 =', m*1.61,'킬로미터')\n",
    "\n",
    "for i in range(1,6):  # 1~5까지\n",
    "    mile2km(i)"
   ]
  },
  {
   "cell_type": "markdown",
   "metadata": {},
   "source": [
    "### 4.5\n",
    "인치 값을 매개변수로 넘겨받아서 이를 센티미터(cm) 값으로 반환하는 inch2cm(inch)함수를 구현하고 이 함수를 호출하여 1에서 5인치를 센티미터로 출력하시오.<br><br>\n",
    "(단, 1 인치는 2.54 센티미터로 정의하시오)."
   ]
  },
  {
   "cell_type": "code",
   "execution_count": 5,
   "metadata": {},
   "outputs": [
    {
     "name": "stdout",
     "output_type": "stream",
     "text": [
      "1 인치 = 2.54 센티미터\n",
      "2 인치 = 5.08 센티미터\n",
      "3 인치 = 7.62 센티미터\n",
      "4 인치 = 10.16 센티미터\n",
      "5 인치 = 12.7 센티미터\n"
     ]
    }
   ],
   "source": [
    "def inch2cm(inch):\n",
    "    print(inch,'인치 =', inch*2.54,'센티미터')\n",
    "\n",
    "for i in range(1,6):  # 1~5까지\n",
    "    inch2cm(i)"
   ]
  },
  {
   "cell_type": "markdown",
   "metadata": {},
   "source": [
    "### 4.6\n",
    "섭씨온도(celsius)를 매개변수로 넘겨받아서 이를 화씨온도(fahrenheit)로 반환하는 cel2fah(cel)함수를 구현하시오. 그리고 이 함수를 호출하여 섭씨 10도에서 50도까지 10도 단위로 변화시켜서 다음 결과와 같이 화씨온도로 출력하시오."
   ]
  },
  {
   "cell_type": "code",
   "execution_count": 7,
   "metadata": {},
   "outputs": [
    {
     "name": "stdout",
     "output_type": "stream",
     "text": [
      "섭씨 10 도 = 화씨 50.0 도\n",
      "섭씨 20 도 = 화씨 68.0 도\n",
      "섭씨 30 도 = 화씨 86.0 도\n",
      "섭씨 40 도 = 화씨 104.0 도\n",
      "섭씨 50 도 = 화씨 122.0 도\n"
     ]
    }
   ],
   "source": [
    "def cel2fah(cel):\n",
    "    print('섭씨',cel, '도 = 화씨', (9/5)*cel+32,'도')\n",
    "\n",
    "for i in range(10,51,10):  # 10~50까지, +10\n",
    "    cel2fah(i)"
   ]
  },
  {
   "cell_type": "markdown",
   "metadata": {},
   "source": [
    "### 4.7\n",
    "사용자로부터 세 정수 a,b,c를 입력받도록 하여라. 그리고 이 세 수의 평균값, 최댓값, 최솟값을 다음과 같이 출력하도록 하여라. 이 때, 세 수를 매개변수로 넘겨받아서 이 세 수의 평균값, 최댓값, 최솟값을 반환하는 mean3(a,b,c), max3(a,b,c), min3(a,b,c)라는 함수를 각각 정의하고 호출하여라."
   ]
  },
  {
   "cell_type": "code",
   "execution_count": 2,
   "metadata": {},
   "outputs": [
    {
     "name": "stdout",
     "output_type": "stream",
     "text": [
      "10, 20, 30의 평균값은 20.0\n",
      "10, 20, 30의 최댓값은 30\n",
      "10, 20, 30의 최솟값은 10\n"
     ]
    }
   ],
   "source": [
    "def mean3(a,b,c):\n",
    "    return (a+b+c)/3    # 평균\n",
    "def max3(a,b,c):\n",
    "    return max(a,b,c)   # 최댓값\n",
    "def min3(a,b,c):\n",
    "    return min(a,b,c)   # 최솟값\n",
    "\n",
    "a,b,c = map(int, input('세 수를 입력하시오 :').split())\n",
    "li = [a,b,c]    # 작은 순으로 출력하기 위해 리스트에 추가\n",
    "li.sort()       # 오름차순으로 리스트 원소 정렬\n",
    "print(f'{li[0]}, {li[1]}, {li[2]}의 평균값은 {mean3(a,b,c)}')\n",
    "print(f'{li[0]}, {li[1]}, {li[2]}의 최댓값은 {max3(a,b,c)}')\n",
    "print(f'{li[0]}, {li[1]}, {li[2]}의 최솟값은 {min3(a,b,c)}')"
   ]
  },
  {
   "cell_type": "markdown",
   "metadata": {},
   "source": [
    "### 4.8\n",
    "앞서 작성한 mean3(a,b,c), max3(a,b,c), min3(a,b,c) 라는 함수를 호출하는 mean6(a,b,c,d,e,f), max6(a,b,c,d,e,f), min6(a,b,c,d,e,f) 함수를 구현하도록 하시오. 이 함수를 이용하여 6개 정수의 평균값, 최댓값, 최솟값을 다음과 같이 출력하도록 하여라. 이 때, 다음과 같이 사용자로부터 여섯 개의 정수 a,b,c,d,e,f를 입력 받도록 하여라."
   ]
  },
  {
   "cell_type": "code",
   "execution_count": 4,
   "metadata": {},
   "outputs": [
    {
     "name": "stdout",
     "output_type": "stream",
     "text": [
      "평균값은 137.5\n",
      "최댓값은 370\n",
      "최솟값은 20\n"
     ]
    }
   ],
   "source": [
    "def mean6(a,b,c,d,e,f):\n",
    "    return (mean3(a,b,c)+mean3(d,e,f))/2    # 평균 값을 mean3을 통해 구하고, 더해서 2로 나누기\n",
    "def max6(a,b,c,d,e,f):\n",
    "    return max(max3(a,b,c),max3(d,e,f))\n",
    "def min6(a,b,c,d,e,f):\n",
    "    return min(min3(a,b,c),min3(d,e,f))\n",
    "\n",
    "a,b,c,d,e,f = map(int, input('여섯 개의 수를 입력하시오 :').split())\n",
    "print('평균값은', mean6(a,b,c,d,e,f))\n",
    "print('최댓값은', max6(a,b,c,d,e,f))\n",
    "print('최솟값은', min6(a,b,c,d,e,f))\n"
   ]
  },
  {
   "cell_type": "markdown",
   "metadata": {},
   "source": [
    "### 4.9\n",
    "사용자로부터 임의의 수를 연속적으로 입력받도록 하시오. 이 수들에 대한 평균값, 최댓값, 최솟값을 반환하는 함수 mean_of_n(nums), max_of_n(nums), min_of_n(nums)을 구현하여 다음과 같이 출력하여라."
   ]
  },
  {
   "cell_type": "code",
   "execution_count": 9,
   "metadata": {},
   "outputs": [
    {
     "name": "stdout",
     "output_type": "stream",
     "text": [
      "평균값은 23.6\n",
      "최대값은 90\n",
      "최솟값은 3\n"
     ]
    }
   ],
   "source": [
    "# 임의의 수를 입력받기 위해서 리스트로 입력받기\n",
    "numbers = list(map(int, input('정수를 여러 개 입력하시오 : ').split())) # 3 45 32 5 7 8 4 44 5 90 17\n",
    "def mean_of_n(nums):\n",
    "    return round(sum(nums)/len(nums),1) # 소숫점 둘째 자리에서 반올림\n",
    "def max_of_n(nums):\n",
    "    return max(nums)\n",
    "def min_of_n(nums):\n",
    "    return min(nums)\n",
    "\n",
    "print('평균값은',mean_of_n(numbers))\n",
    "print('최대값은',max_of_n(numbers))\n",
    "print('최솟값은',min_of_n(numbers))"
   ]
  },
  {
   "cell_type": "markdown",
   "metadata": {},
   "source": [
    "### 4.10\n",
    "다음과 같이 사용자로부터 두 점의 좌표(x1, y1), (x2, y2)를 입력받아 두 점 사이의 거리를 출력하시오. 이를 위하여 distance(x1,y1,x2,y2) 함수를 구현하시오."
   ]
  },
  {
   "cell_type": "code",
   "execution_count": 10,
   "metadata": {},
   "outputs": [
    {
     "name": "stdout",
     "output_type": "stream",
     "text": [
      "두 점의 거리: 5.0\n"
     ]
    }
   ],
   "source": [
    "def distance(x1,y1,x2,y2): \n",
    "    return ((x1-x2)**2 + (y1-y2)**2)**0.5   # 두 점 사이의 거리를 구하는 공식\n",
    "\n",
    "x1 = int(input('x1 좌표를 입력하시요 : '))  # 0\n",
    "y1 = int(input('y1 좌표를 입력하시요 : '))  # 0\n",
    "x2 = int(input('x2 좌표를 입력하시요 : '))  # 3\n",
    "y2 = int(input('y2 좌표를 입력하시요 : '))  # 4\n",
    "\n",
    "print('두 점의 거리:', distance(x1,y1,x2,y2))"
   ]
  },
  {
   "cell_type": "markdown",
   "metadata": {},
   "source": [
    "### 4.11\n",
    "4.10의 일부 코드를 참고하여 직각삼각형의 빗변을 이루는 선분의 양 끝점을 나타내는 두 좌표 (x1,y1), (x2,y2)를 입력받아 직각삼각형의 면적을 구하는 프로그램을 작성여라. 이때 4개의 좌표값을 입력으로 받아 직각삼각형의 면적을 반환하는 area(x1,y1,x2,y2) 함수를 구현하시오<br><br>\n",
    "\n",
    "(단, x2>x1 and y2 > y1)"
   ]
  },
  {
   "cell_type": "code",
   "execution_count": 15,
   "metadata": {},
   "outputs": [
    {
     "name": "stdout",
     "output_type": "stream",
     "text": [
      "직각삼각형의 면적은: 6.0\n"
     ]
    }
   ],
   "source": [
    "def area(x1,y1,x2,y2): \n",
    "    return ((x2-x1) * (y2-y1))*0.5   # 밑변 * 높이 * 0.5\n",
    "\n",
    "x1 = int(input('x1 좌표를 입력하시요 : '))  # 0\n",
    "y1 = int(input('y1 좌표를 입력하시요 : '))  # 0\n",
    "x2 = int(input('x2 좌표를 입력하시요 : '))  # 3\n",
    "y2 = int(input('y2 좌표를 입력하시요 : '))  # 4\n",
    "\n",
    "print('직각삼각형의 면적은:', area(x1,y1,x2,y2))"
   ]
  },
  {
   "cell_type": "markdown",
   "metadata": {},
   "source": [
    "### 4.12\n",
    "앞의 문제와 유사하지만 이번에는 삼각형의 밑변(width), 높이(height)를 입력받아서 삼각형의 면적을 구하는 cal_area(width, height)라는 함수를 정의하여라. 사용자로부터 삼각형의 밑변과 높이를 입력 받은 후, 이 함수를 이용하여 다음과 같은 결과를 얻는 프로그램을 작성하여라."
   ]
  },
  {
   "cell_type": "code",
   "execution_count": 17,
   "metadata": {},
   "outputs": [
    {
     "name": "stdout",
     "output_type": "stream",
     "text": [
      "삼각형의 면적 : 150.0\n"
     ]
    }
   ],
   "source": [
    "def cal_area(width, height):\n",
    "    return width*height*0.5\n",
    "width = int(input('밑변을 입력하시오 : '))\n",
    "height = int(input('높이를 입력하시오 : '))\n",
    "\n",
    "print('삼각형의 면적 :', cal_area(width, height))"
   ]
  },
  {
   "cell_type": "markdown",
   "metadata": {},
   "source": [
    "### 4.13\n",
    "다음과 같은 공식을 참고하여 입체도형의 부피를 구하는 함수를 만드시오. 이 함수에서 매개변수는 아래 표의 입력 값이 되며, 원주률 π는 3.14로 두고 구하시오."
   ]
  },
  {
   "cell_type": "code",
   "execution_count": 19,
   "metadata": {},
   "outputs": [
    {
     "name": "stdout",
     "output_type": "stream",
     "text": [
      "모서리의 길이가 12인 정육면체의 부피 : 144\n",
      "모서리의 길이가 20인 정육면체의 부피 : 400\n",
      "가로, 세로, 길이가 각각 3,5,6인 직육면체의 부피 : 90\n",
      "반지름과 높이가 각각 20, 10인 원뿔의 부피 : 4186.7\n",
      "반지름이 15인 구의 부피 14130.0\n",
      "반지름과 높이가 각각 20, 10인 원기둥의 부피 12560.0\n"
     ]
    }
   ],
   "source": [
    "def cube(s):\n",
    "    return s**2\n",
    "def cuboid(w,h,l):\n",
    "    return w*h*l\n",
    "def cone(r,h):\n",
    "    return (1/3)*3.14*(r**2)*h\n",
    "def circle(r):\n",
    "    return (4/3)*3.14*(r**3)\n",
    "def cylinder(r,h):\n",
    "    return 3.14*(r**2)*h\n",
    "# 1) 모서리의 길이가 12인 정육면체\n",
    "print('모서리의 길이가 12인 정육면체의 부피 :', cube(12))\n",
    "# 2) 모서리의 길이가 20인 정육면체\n",
    "print('모서리의 길이가 20인 정육면체의 부피 :', cube(20))\n",
    "# 3) 가로, 세로, 길이가 각각 3,5,6인 직육면체\n",
    "print('가로, 세로, 길이가 각각 3,5,6인 직육면체의 부피 :', cuboid(3,5,6))\n",
    "# 4) 반지름과 높이가 각각 20, 10인 원뿔\n",
    "print('반지름과 높이가 각각 20, 10인 원뿔의 부피 :', round(cone(20,10),1))\n",
    "# 5) 반지름이 15인 구\n",
    "print('반지름이 15인 구의 부피', circle(15))\n",
    "# 6) 반지름과 높이가 각각 20, 10인 원기둥\n",
    "print('반지름과 높이가 각각 20, 10인 원기둥의 부피', cylinder(20,10))"
   ]
  },
  {
   "cell_type": "markdown",
   "metadata": {},
   "source": [
    "### 4.14\n",
    "3개 숫자를 오름차순으로 정렬하여 출력하는 다음 sort3() 함수를 작성하시오."
   ]
  },
  {
   "cell_type": "code",
   "execution_count": 25,
   "metadata": {},
   "outputs": [
    {
     "name": "stdout",
     "output_type": "stream",
     "text": [
      "정렬된 리스트는 다음과 같습니다: 2 3 5\n"
     ]
    }
   ],
   "source": [
    "def sort3(num1,num2,num3):\n",
    "    li=[]\n",
    "    li.append(num1)\n",
    "    li.append(num2)\n",
    "    li.append(num3)\n",
    "    li.sort()\n",
    "    return li\n",
    "\n",
    "a,b,c = map(int,input('세 수를 입력하세요 :').split())\n",
    "\n",
    "li = sort3(a,b,c)\n",
    "print('정렬된 리스트는 다음과 같습니다:',li[0],li[1],li[2])\n"
   ]
  },
  {
   "cell_type": "markdown",
   "metadata": {},
   "source": [
    "### 4.15\n",
    "n개의 숫자를 가변인수로 입력받은 후 이 숫자들을 오름차순으로 정렬하여 출력하는 my_sort() 함수를 작성하시오."
   ]
  },
  {
   "cell_type": "code",
   "execution_count": 32,
   "metadata": {},
   "outputs": [
    {
     "name": "stdout",
     "output_type": "stream",
     "text": [
      "결과 : [3, 4, 5, 45, 56]\n",
      "결과 : [3, 4, 5, 6, 7, 8, 8]\n"
     ]
    }
   ],
   "source": [
    "def my_sort(*nums):\n",
    "    li = []\n",
    "    for n in nums:\n",
    "        li.append(n)\n",
    "    li.sort()\n",
    "    return li\n",
    "    \n",
    "\n",
    "print('결과 :',my_sort(45,3,4,56,5))\n",
    "print('결과 :',my_sort(8,8,7,6,5,4,3))"
   ]
  },
  {
   "cell_type": "markdown",
   "metadata": {},
   "source": [
    "### 4.16\n",
    "쉼표 단위로 구분된 정수를 임의의 수만큼 입력받은 후 이 숫자들을 오름차순으로 정렬하여 출력하시오."
   ]
  },
  {
   "cell_type": "code",
   "execution_count": 1,
   "metadata": {},
   "outputs": [
    {
     "name": "stdout",
     "output_type": "stream",
     "text": [
      "입력된 정수의 리스트: [56, 67, 89, 34, 24, 300, 99]\n",
      "입력된 정수의 리스트: 24 34 56 67 89 99 300 "
     ]
    }
   ],
   "source": [
    "# 56,67,89,34,24,300,99\n",
    "li = list(map(int, input('쉼표로 구분된 정수를 여러 개 입력하시오: ').split(',')))\n",
    "print('입력된 정수의 리스트:',li)\n",
    "li.sort()\n",
    "print('입력된 정수의 리스트: ', end='')\n",
    "for i in li:\n",
    "    print(i, end=' ')"
   ]
  },
  {
   "cell_type": "markdown",
   "metadata": {},
   "source": [
    "### 4.17\n",
    "n1에서 n2까지의 정수의 합을 구하는 함수 sum_range(n1,n2)를 작성하시오. 이 함수를 이용하여 10에서 20까지의 정수의 합과 40에서 100까지의 정수의 합을 구하여 다음과 같은 출력을 하는 프로그램을 작성하시오. 이때 모든 숫자 값을 출력문에는 플레이스 홀더를 사용하시오."
   ]
  },
  {
   "cell_type": "code",
   "execution_count": 3,
   "metadata": {},
   "outputs": [
    {
     "name": "stdout",
     "output_type": "stream",
     "text": [
      " 10에서  20까지 정수의 합 :  165\n",
      " 40에서 100까지 정수의 합 : 4270\n"
     ]
    }
   ],
   "source": [
    "def sum_range(n1,n2):\n",
    "    result = 0\n",
    "    for i in range(n1, n2+1):\n",
    "        result += i\n",
    "    return print('{0:3}에서 {1:3}까지 정수의 합 : {2:4}'.format(n1,n2,result))\n",
    "\n",
    "sum_range(10,20)\n",
    "sum_range(40,100)"
   ]
  },
  {
   "cell_type": "markdown",
   "metadata": {},
   "source": [
    "### 4.18\n",
    "두 개의 정수 a,b를 입력으로 받는다. 이때 a < b라는 조건이 항상 지켜진다고 하자. 여러분이 작성할 코드는 a에서 b까지(a,b를 포함한다) 범위의 모든 정수의 배수이면서 가장 작은 값을 갖는 값을 찾는 것이다. 예를 들어 2,4가 입력되면 2,3,4 모두의 배수이며서 가장 작은 값이 되는 12가 답이다. 12는 2의 배수, 3의 배수, 4의 배수이다. 결과는 다음과 같이 수행되어야 한다.\n"
   ]
  },
  {
   "cell_type": "code",
   "execution_count": 35,
   "metadata": {},
   "outputs": [
    {
     "name": "stdout",
     "output_type": "stream",
     "text": [
      "3에서 5까지의 정수들의 최소 공배수는 : 60\n"
     ]
    }
   ],
   "source": [
    "a = int(input('범위의 시작 정수 : '))\n",
    "b = int(input('범위의 마지막 정수 : '))\n",
    "\n",
    "lcm = a   # 최소 공배수\n",
    "temp = a  # 최소공배수를 구하기 위한 증감 변수\n",
    "for i in range(a,b+1):  # i는 범위의 수 a,a+1,a+2,...,b\n",
    "    while(True):            # 공배수 찾을 때까지 무한루프\n",
    "        if temp%i == 0 and temp%lcm== 0:    # i로도, lcm로도 나누어 떨어져야 벗어남\n",
    "            break\n",
    "        else:\n",
    "            temp+=1\n",
    "    lcm = temp              # 최소 공배수를 구하면 저장\n",
    "print(f'{a}에서 {b}까지의 정수들의 최소 공배수는 : {lcm}')"
   ]
  },
  {
   "cell_type": "code",
   "execution_count": null,
   "metadata": {},
   "outputs": [],
   "source": [
    "def k(a,b):\n",
    "    i = 1\n",
    "    while True:\n",
    "        i+=1\n",
    "        result = b*i\n",
    "        for i in range(a,b):\n",
    "            if result % i is not 0: break\n",
    "            if i is b-1: return result\n",
    "\n"
   ]
  },
  {
   "cell_type": "markdown",
   "metadata": {},
   "source": [
    "### 4.19\n",
    "피보나치 함수 fibo(n)을 구현한 후, 다음과 같이 정수 n을 입력 받아 F(n)의 값을 출력하는 코드를 작성하라."
   ]
  },
  {
   "cell_type": "code",
   "execution_count": 40,
   "metadata": {},
   "outputs": [
    {
     "name": "stdout",
     "output_type": "stream",
     "text": [
      "fibo(4) = 5\n"
     ]
    }
   ],
   "source": [
    "# 재귀로 fibo(n)을 구현하면 같은 내용을 반복적으로 계산해서 연산 횟수가 늘어남\n",
    "# Memoization으로 한 번 계산된 결과를 저장하기 + 단순 반복문(바텀-업)\n",
    "n = int(input('fibo(n)의 n을 입력하세요: '))\n",
    "d = [0] * (n+1) # Memoization을 위한 리스트 초기화\n",
    "d[0] = 1\n",
    "d[1] = 1\n",
    "\n",
    "for i in range(2,n+1):  # n까지 구하기\n",
    "    d[i] = d[i-1] + d[i-2]\n",
    "\n",
    "print(f'fibo({n}) = {d[n]}')"
   ]
  },
  {
   "cell_type": "code",
   "execution_count": 1,
   "metadata": {},
   "outputs": [
    {
     "name": "stdout",
     "output_type": "stream",
     "text": [
      "fibo(4) = 5\n"
     ]
    }
   ],
   "source": [
    "def fibo(n):    \n",
    "    d = [0] * (n+1) # Memoization을 위한 리스트 초기화\n",
    "    d[0] = 1\n",
    "    d[1] = 1\n",
    "\n",
    "    for i in range(2,n+1):  # n까지 구하기\n",
    "        d[i] = d[i-1] + d[i-2]\n",
    "\n",
    "    print(f'fibo({n}) = {d[n]}')\n",
    "\n",
    "n = int(input('fibo(n)의 n을 입력하세요: '))\n",
    "fibo(n)"
   ]
  },
  {
   "cell_type": "markdown",
   "metadata": {},
   "source": [
    "### 4.20\n",
    "4.19를 수정하여 다음과 같이 0에서 15까지의 피보나치 수를 출력하여라. 이때 다음과 같이 출력 포매팅이 되도록 플레이스홀더와 출력인자를 설정하여라."
   ]
  },
  {
   "cell_type": "code",
   "execution_count": 41,
   "metadata": {},
   "outputs": [
    {
     "name": "stdout",
     "output_type": "stream",
     "text": [
      "fibo(  0) =     1\n",
      "fibo(  1) =     1\n",
      "fibo(  2) =     2\n",
      "fibo(  3) =     3\n",
      "fibo(  4) =     5\n",
      "fibo(  5) =     8\n",
      "fibo(  6) =    13\n",
      "fibo(  7) =    21\n",
      "fibo(  8) =    34\n",
      "fibo(  9) =    55\n",
      "fibo( 10) =    89\n",
      "fibo( 11) =   144\n",
      "fibo( 12) =   233\n",
      "fibo( 13) =   377\n",
      "fibo( 14) =   610\n",
      "fibo( 15) =   987\n"
     ]
    }
   ],
   "source": [
    "n = 15\n",
    "d = [0] * (n+1)\n",
    "d[0] = 1\n",
    "d[1] = 1\n",
    "\n",
    "for i in range(2,n+1):  # n까지 구하기\n",
    "    d[i] = d[i-1]+d[i-2]\n",
    "\n",
    "for i in range(n+1):\n",
    "    print(f'fibo({i:3}) = {d[i]:5}')"
   ]
  },
  {
   "cell_type": "markdown",
   "metadata": {},
   "source": [
    "### 4.21\n",
    "주민등록번호의 앞 6자리 생년월일 두 자리의 년도, 두 자리의 월, 두 자리의 날짜로 표현된다. 예를 들어 921030은 1992년 10월 30일을 의미한다. 이렇게 주민등록 번호 형식의 생년월일이 입력될 때 \"1992년 10월 30일\"과 같은 형태로 날짜를 출력하는 코드를 작성하라. 입력되는 날짜의 연도는 1950년 이후부터 입력된다. 즉, 511010은 1951년 10월 10일이지만 491010은 2049년 10월 10일로 판단해야 한다."
   ]
  },
  {
   "cell_type": "code",
   "execution_count": 44,
   "metadata": {},
   "outputs": [
    {
     "name": "stdout",
     "output_type": "stream",
     "text": [
      "2001년 11년 23일\n"
     ]
    }
   ],
   "source": [
    "Resident_Number = input('주민등록번호 첫 6숫자 형식 입력: ')    # 인덱싱하기 위해 str로 입력 받기\n",
    "if int(Resident_Number[0:2])<=49:    # str 인덱싱 후 int로 변환, 앞자리가 50년 이전이라면\n",
    "    print(f'20{Resident_Number[0:2]:2}년 {int(Resident_Number[2:4]):2}년 {int(Resident_Number[4:6]):2}일')\n",
    "else:\n",
    "    print(f'19{Resident_Number[0:2]:2}년 {int(Resident_Number[2:4]):2}년 {int(Resident_Number[4:6]):2}일')"
   ]
  },
  {
   "cell_type": "markdown",
   "metadata": {},
   "source": [
    "# 4.22\n",
    "파이썬의 표준 라이브러리 모듈인 datetime을 이용하면 아래와 같이 현재 시간을 구할 수 있다."
   ]
  },
  {
   "cell_type": "code",
   "execution_count": 55,
   "metadata": {},
   "outputs": [
    {
     "name": "stdout",
     "output_type": "stream",
     "text": [
      "현재 시간은 2022년 09월 19일입니다\n",
      "지금 태어난 아이의 주민등록번호 앞자리는 : 20220919\n"
     ]
    }
   ],
   "source": [
    "import datetime\n",
    "date = str(datetime.datetime.now())\n",
    "y,m,d = date[0:4], date[5:7], date[8:10]\n",
    "print(f'현재 시간은 {y}년 {m:2}월 {d:2}일입니다')\n",
    "print(f'지금 태어난 아이의 주민등록번호 앞자리는 : {y}{m}{d}')"
   ]
  },
  {
   "cell_type": "markdown",
   "metadata": {},
   "source": [
    "### 4.23\n",
    "반지름이 주어지면 주어진 반지름을 가진 원의 넓이와 둘레를 한 번에 계산해서 반환하는 함수 area_and_circumference(r)을 작성하시오. 이 함수를 이용하여 다음과 같이 사용자가 입력한 반지름을 가진 원의 넓이와 둘레의 길이를 출력하는 프로그램을 작성하라. 이때 양의 값이 입력되면 넓이와 둘레를 구하고 나서 새 반지름 값을 입력받도록 하며, 음수가 입력되면 \"프로그램을 종료합니다.\"를 출력한 후 프로그램을 중지하여라. 이때 반드시 while 문과 break 문을 사용하여라"
   ]
  },
  {
   "cell_type": "code",
   "execution_count": 2,
   "metadata": {},
   "outputs": [
    {
     "name": "stdout",
     "output_type": "stream",
     "text": [
      "넓이 : 113.097, 둘레 :  37.699\n",
      "넓이 : 1520.531, 둘레 : 138.230\n",
      "넓이 :  50.265, 둘레 :  25.133\n",
      "프로그램을 종료합니다.\n"
     ]
    }
   ],
   "source": [
    "def area_and_circumference(r):\n",
    "    while(True):\n",
    "        print('넓이 : {:7.3f}, 둘레 : {:7.3f}'.format(r*r*3.141592,2*3.141592*r))\n",
    "        r = int(input('반지름을 입력하시오 :'))\n",
    "        if r<0:\n",
    "            break\n",
    "    print(\"프로그램을 종료합니다.\")\n",
    "r = int(input('반지름을 입력하시오 :'))\n",
    "area_and_circumference(r)"
   ]
  },
  {
   "cell_type": "markdown",
   "metadata": {},
   "source": [
    "### 4.24\n",
    "임의의 문장을 입력하면, 이 문장들에 포함된 단어를 모두 추출하여 사전 배열 순서로 정렬하여 출력하는 프로그램을 작성하여라. 이때 다음과 같이 쉼표와 마침표 등과 같은 구두점들은 모두 제거하여 단어들을 추출하도록 작성하라."
   ]
  },
  {
   "cell_type": "code",
   "execution_count": 7,
   "metadata": {},
   "outputs": [
    {
     "name": "stdout",
     "output_type": "stream",
     "text": [
      "['임의의', '문장을', '입력:출력,', '이것은', '테스트', '문장.', '가:가나:나:나나:다람쥐', ':', '마린보이.']\n",
      "[['임의의'], ['문장을'], ['입력', '출력,'], ['이것은'], ['테스트'], ['문장.'], ['가', '가나', '나', '나나', '다람쥐'], ['', ''], ['마린보이.']]\n"
     ]
    }
   ],
   "source": [
    "# str1 = input('여러 단어로 이루어진 글을 입력하세요:')\n",
    "str1 = '임의의 문장을 입력:출력, 이것은 테스트 문장. 가:가나:나:나나:다람쥐 : 마린보이.'\n",
    "# 1 띄어쓰기로 나누기\n",
    "str1 = str1.split()\n",
    "print(str1)\n",
    "\n",
    "str = []\n",
    "for st in str1:\n",
    "    str.append(st.split(':'))\n",
    "print(str)"
   ]
  },
  {
   "cell_type": "markdown",
   "metadata": {},
   "source": [
    "### 4.27\n",
    "단위분수"
   ]
  },
  {
   "cell_type": "code",
   "execution_count": 1,
   "metadata": {},
   "outputs": [
    {
     "name": "stdout",
     "output_type": "stream",
     "text": [
      "가장 가까운 단위 분수는 1/2이며, 이 값은 0.50000000000000000000000000000000000000000000000000입니다.\n"
     ]
    }
   ],
   "source": [
    "def fraction(frac):\n",
    "    n = 1\n",
    "    d = 1\n",
    "    while True:\n",
    "        new_d = abs(frac - 1/n) # 절대값\n",
    "        if(new_d < d):\n",
    "            d = new_d\n",
    "        else:\n",
    "            break\n",
    "        n += 1\n",
    "    return n -1\n",
    "\n",
    "f_val = float(input('입력'))\n",
    "if f_val <= 0.0 or f_val > 1.0:\n",
    "    print('입력 오류')\n",
    "else :\n",
    "    nf = fraction(f_val)\n",
    "    print(f'가장 가까운 단위 분수는 1/{nf}이며, 이 값은 {1/nf:.50f}입니다.')"
   ]
  }
 ],
 "metadata": {
  "kernelspec": {
   "display_name": "Python 3.10.6 64-bit",
   "language": "python",
   "name": "python3"
  },
  "language_info": {
   "codemirror_mode": {
    "name": "ipython",
    "version": 3
   },
   "file_extension": ".py",
   "mimetype": "text/x-python",
   "name": "python",
   "nbconvert_exporter": "python",
   "pygments_lexer": "ipython3",
   "version": "3.10.6"
  },
  "orig_nbformat": 4,
  "vscode": {
   "interpreter": {
    "hash": "20c9d94bea3bcd43e69d1e5f02ce962985699c48de0c68502218d203d4c4e41a"
   }
  }
 },
 "nbformat": 4,
 "nbformat_minor": 2
}
