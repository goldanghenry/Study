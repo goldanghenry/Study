{
 "cells": [
  {
   "cell_type": "markdown",
   "metadata": {},
   "source": [
    "## chapter5"
   ]
  },
  {
   "cell_type": "markdown",
   "metadata": {},
   "source": [
    "### 5.1\n",
    "다음과 같은 list1, list2가 있을 경우 이중 for 루프를 사용하여 list1과 list2의 각 원소를 곱한 후 원소의 곱셈을 결과와 함께 출력하시오."
   ]
  },
  {
   "cell_type": "code",
   "execution_count": 1,
   "metadata": {},
   "outputs": [
    {
     "name": "stdout",
     "output_type": "stream",
     "text": [
      "3 * 2 = 6\n",
      "3 * 3 = 9\n",
      "3 * 4 = 12\n",
      "3 * 5 = 15\n",
      "3 * 6 = 18\n",
      "5 * 2 = 10\n",
      "5 * 3 = 15\n",
      "5 * 4 = 20\n",
      "5 * 5 = 25\n",
      "5 * 6 = 30\n",
      "7 * 2 = 14\n",
      "7 * 3 = 21\n",
      "7 * 4 = 28\n",
      "7 * 5 = 35\n",
      "7 * 6 = 42\n"
     ]
    }
   ],
   "source": [
    "list1 = [3,5,7]\n",
    "list2 = [2,3,4,5,6]\n",
    "\n",
    "for i in list1:\n",
    "    for j in list2:\n",
    "        print(f'{i} * {j} = {i*j}')"
   ]
  },
  {
   "cell_type": "markdown",
   "metadata": {},
   "source": [
    "### 5.2\n",
    "a = [2, 3, 4, 5, 6]이 있을 경우, 이 리스트의 순서를 바꾸는 기능을 for -in 문과 pop() 메소드를 사용하여 구현하시오(reverse() 메소드를 사용하지 않고 리스트의 원소를 하나하나 순회하면서 pop() 메소드를 호출하시오)."
   ]
  },
  {
   "cell_type": "code",
   "execution_count": 5,
   "metadata": {},
   "outputs": [
    {
     "name": "stdout",
     "output_type": "stream",
     "text": [
      "a = [2, 3, 4, 5, 6]\n",
      "rev_a = [6, 5, 4, 3, 2]\n"
     ]
    }
   ],
   "source": [
    "a = [2, 3, 4, 5, 6]\n",
    "print('a =', a)\n",
    "rev_a = []\n",
    "for _ in range(len(a)): # for _ in a로 하면 리스트를 돌면서 반복횟수가 줄어듦\n",
    "    rev_a.append(a.pop())\n",
    "print('rev_a =', rev_a)"
   ]
  },
  {
   "cell_type": "markdown",
   "metadata": {},
   "source": [
    "### 5.3 \n",
    "n_list라는 리스트에 [10, 20, 30, 50, 60]과 같은 5개의 원소가 있다. 내장 함수 sum(n_list)를 사용하지 않고 n_list의 5개 원소의 합을 구하는 프로그램을 작성하여라"
   ]
  },
  {
   "cell_type": "code",
   "execution_count": 7,
   "metadata": {},
   "outputs": [
    {
     "name": "stdout",
     "output_type": "stream",
     "text": [
      "리스트 원소들: [10, 20, 30, 50, 60]\n",
      "리스트 원소들의 합 : 170\n"
     ]
    }
   ],
   "source": [
    "def sum_list(x):\n",
    "    result = 0\n",
    "    print('리스트 원소들:',x)\n",
    "    for i in x:\n",
    "        result+=i\n",
    "    return f'리스트 원소들의 합 : {result}'\n",
    "n_list = [10, 20, 30, 50, 60]\n",
    "print(sum_list(n_list))"
   ]
  },
  {
   "cell_type": "markdown",
   "metadata": {},
   "source": [
    "### 5.4\t\n",
    "임의의 정수 값을 가진 리스트 n_list에서 가장 큰 값을 구하는 프로그램을 max() 함수를 사용하지 말고 구현하여라."
   ]
  },
  {
   "cell_type": "code",
   "execution_count": 2,
   "metadata": {},
   "outputs": [
    {
     "name": "stdout",
     "output_type": "stream",
     "text": [
      "리스트 원소들: [10, 20, 30, 50, 60]\n",
      "리스트 원소들 중 최댓값 : 60\n"
     ]
    }
   ],
   "source": [
    "n_list = [10,20,30,50,60]\n",
    "result = -999\n",
    "for i in n_list:\n",
    "    if i > result:\n",
    "        result = i\n",
    "print('리스트 원소들:', n_list)\n",
    "print('리스트 원소들 중 최댓값 :', result)\n",
    "\n"
   ]
  },
  {
   "cell_type": "markdown",
   "metadata": {},
   "source": [
    "### 5.5\n",
    "s_list = ['abc', 'bcd', 'bcdefg', 'abba', 'cddc', 'opq']와 같은 문자열을 가진 리스트가 존재한다. 이 리스트에 대하여 다음과 같은 기능을 구현하여라.<br><br>\n",
    "(1)\tmin() 함수나 sort() 메소드를 사용하지 말고, s_list 내의 문자열 항목 중에서 가장 길이가 짧은 문자열과 가장 길이가 긴 문자열을 출력하여라(길이가 가장 짧거나 긴 문자열이 여러 개 있을 경우 아래 출력과 같이 제일 먼저 나타나는 문자열을 출력하여라).\n"
   ]
  },
  {
   "cell_type": "code",
   "execution_count": 3,
   "metadata": {},
   "outputs": [
    {
     "name": "stdout",
     "output_type": "stream",
     "text": [
      "가장 길이가 짧은 문자열 : abc\n",
      "가장 길이가 긴 문자열 : bcdefg\n"
     ]
    }
   ],
   "source": [
    "s_list = ['abc', 'bcd', 'bcdefg', 'abba', 'cddc', 'opq']\n",
    "\n",
    "# 가장 길이가 짧은 문자열\n",
    "min_str = 'adfasdfasdfasf' # s_list보다 \n",
    "for i in s_list:\n",
    "    if len(i) < len(min_str):\n",
    "        min_str = i\n",
    "print('가장 길이가 짧은 문자열 :', min_str)\n",
    "\n",
    "# 가장 길이가 긴 문자열\n",
    "max_str = ''\n",
    "for i in s_list:\n",
    "    if len(i) > len(max_str):\n",
    "        max_str = i\n",
    "print('가장 길이가 긴 문자열 :', max_str)"
   ]
  },
  {
   "cell_type": "markdown",
   "metadata": {},
   "source": [
    "(2)\t(1)번 문제에서 ‘abc’, ‘bcd’, ‘opq’의 세 문자열의 길이가 3으로 모두 같다. 이와 같이 문자열의 길이가 같을 경우 다음과 같이 가장 길이가 짧은 문자열 3개를 모두 출력하는 프로그램을 작성하여라. sort(key = len) 함수를 사용하여 길이에 따라 정렬한 후 코드를 작성하여라."
   ]
  },
  {
   "cell_type": "code",
   "execution_count": 13,
   "metadata": {},
   "outputs": [
    {
     "name": "stdout",
     "output_type": "stream",
     "text": [
      "가장 길이가 짧은 문자열 : 'abc', 'bcd', 'opq'\n"
     ]
    }
   ],
   "source": [
    "s_list = ['abc', 'bcd', 'bcdefg', 'abba', 'cddc', 'opq']\n",
    "s_list.sort(key=len)\n",
    "short_len = len(s_list[0])    # 가장 짧은 문자열의 길이 구하기\n",
    "short_list = [i for i in s_list if len(i)==short_len]\n",
    "print('가장 길이가 짧은 문자열 :', end=' ')\n",
    "for i in short_list:\n",
    "    if short_list[-1] != i: # 마지막 원소가 아닌 경우\n",
    "        print(f\"'{i}'\", end=', ')\n",
    "    else: \n",
    "        print(f\"'{i}'\")\n"
   ]
  },
  {
   "cell_type": "markdown",
   "metadata": {},
   "source": [
    "### 5.6\n",
    "사용자로부터 5개의 수를 입력받은 후 다음과 같이 입력된 값들의 합, 평균, 최댓값, 최솟값을 출력하는 프로그램을 작성하시오. 이때 반드시 입력된 값들은 리스트에 넣어서 sum(), min(), max() 함수를 사용하도록 하시오<br>\n",
    "(힌트: 평균은 sum(n_list)/len(n_list))와 같이 구할 수 있다.)\n"
   ]
  },
  {
   "cell_type": "code",
   "execution_count": 12,
   "metadata": {},
   "outputs": [
    {
     "name": "stdout",
     "output_type": "stream",
     "text": [
      "합 : 168\n",
      "평균 : 33.6\n",
      "최댓값 : 67\n",
      "최솟값 : 2\n"
     ]
    }
   ],
   "source": [
    "n_list = list(map(int, input('5개의 수를 입력하시오: ').split()))\n",
    "print('합 :',sum(n_list))\n",
    "print('평균 :', sum(n_list)/len(n_list))\n",
    "print('최댓값 :', max(n_list))\n",
    "print('최솟값 :',min(n_list))"
   ]
  },
  {
   "cell_type": "markdown",
   "metadata": {},
   "source": [
    "### 5.7\n",
    "사용자로부터 n을 입력받고, 이후 n개의 정수를 입력받은 후 다음과 같이 입력된 값들의 합, 평균, 최댓값, 최솟값을 출력하는 프로그램을 작성하시오. 이때 반드시 입력된 값들은 리스트에 넣어서 sum(), min(), max() 함수를 사용하도록 하시오."
   ]
  },
  {
   "cell_type": "code",
   "execution_count": 16,
   "metadata": {},
   "outputs": [
    {
     "name": "stdout",
     "output_type": "stream",
     "text": [
      "합 : 73\n",
      "평균 : 14.6\n",
      "최댓값 : 30\n",
      "최솟값 : 2\n"
     ]
    }
   ],
   "source": [
    "n = int(input('n을 입력하세요 :'))\n",
    "temp = f'{n}개의 수를 입력하세요 : '\n",
    "n_list = list(map(int, input(temp).split()))\n",
    "print('합 :',sum(n_list))\n",
    "print('평균 :', sum(n_list)/len(n_list))\n",
    "print('최댓값 :', max(n_list))\n",
    "print('최솟값 :',min(n_list))"
   ]
  },
  {
   "cell_type": "markdown",
   "metadata": {},
   "source": [
    "### 5.8\n",
    "7.\t다음 조건을 만족하는 프로그램을 작성하라.<br>\n",
    "1) ‘dog’, ‘cat’ tiger’ ‘lion’을 원소로 가지는 animals 리스트를 만들고 출력하라<br>\n",
    "2) Animals 리스트의 원소들을 한 칸씩 왼쪽으로 이동시키도록 하여라. 이때 가장 왼쪽에 위치한 원소 ‘dog’는 가장 오른쪽으로 위치하도록 만들고 출력하라.<br>\n",
    "3) Animals 리스트의 모든 요소들을 하나하나 순회하면서 I love dog, I love cat, I love tiger, I love lion을 반복해서 출력하는 for – in 문을 만들어라.<br>\n"
   ]
  },
  {
   "cell_type": "code",
   "execution_count": 19,
   "metadata": {},
   "outputs": [
    {
     "name": "stdout",
     "output_type": "stream",
     "text": [
      "animals = ['dog', 'cat', 'tiger', 'lion']\n",
      "animals = ['cat', 'tiger', 'lion', 'dog']\n",
      "I love cat.\n",
      "I love tiger.\n",
      "I love lion.\n",
      "I love dog.\n"
     ]
    }
   ],
   "source": [
    "# 1번\n",
    "animals = ['dog', 'cat', 'tiger', 'lion']\n",
    "print('animals =', animals)\n",
    "\n",
    "# 2번\n",
    "temp = animals[0]   # 제일 앞의 원소를 임시로 저장\n",
    "animals.remove(temp)    # 삭제\n",
    "animals.append(temp)    # 다시 추가\n",
    "print('animals =', animals)\n",
    "\n",
    "# 3번\n",
    "for i in animals:\n",
    "    print(f'I love {i}.')\n"
   ]
  },
  {
   "cell_type": "markdown",
   "metadata": {},
   "source": [
    "### 5.9\n",
    "s_list = [‘abc, ‘bcd’, abc’, ‘abba’, ‘cddc’, ‘opq’, ‘opq’] 와 같은 문자열을 가진 리스트가 존재한다. 이 리스트에서 중복해서 나타나는 원소들을 제거한 리스트 new_list = [‘abc’, ‘bcd’, ‘abba’, ‘cddc’, ‘opq’]를 생성하여라. "
   ]
  },
  {
   "cell_type": "code",
   "execution_count": 23,
   "metadata": {},
   "outputs": [
    {
     "name": "stdout",
     "output_type": "stream",
     "text": [
      "s_list = ['abc', 'bcd', 'abc', 'abba', 'cddc', 'opq', 'opq']\n",
      "new_list = ['abc', 'bcd', 'abba', 'cddc', 'opq']\n"
     ]
    }
   ],
   "source": [
    "s_list = ['abc', 'bcd', 'abc', 'abba', 'cddc', 'opq', 'opq']\n",
    "print('s_list =', s_list)\n",
    "# new_list = list(set(s_list))\n",
    "new_list = []\n",
    "for i in s_list:    \n",
    "    if i not in new_list:\n",
    "        new_list.append(i)\n",
    "print('new_list =', new_list)"
   ]
  },
  {
   "cell_type": "markdown",
   "metadata": {},
   "source": [
    "### 5.10\n",
    "문자열 src가 ‘aaaabbb’와 같을 경우 이를 입축하는 방법으로 ‘a4b3’과 같이 문자와 그 반복횟수를 표시하는 방법이 있을 것이다. 문자열 ‘aaaabccccaaaaacca’에서 같은 문자가 있을 경우 이를 ‘a4b1c4a5c3f1g1’과 같은 output 문자열로 압축해보자."
   ]
  },
  {
   "cell_type": "code",
   "execution_count": 17,
   "metadata": {},
   "outputs": [
    {
     "name": "stdout",
     "output_type": "stream",
     "text": [
      "src = 'aaaabbb'\n",
      "output = 'a4b3'\n",
      "src = ''\n",
      "output = ''\n",
      "src = 'aaaabccccaaaaacca'\n",
      "output = 'a4b1c4a5c2a1'\n",
      "src = 'a'\n",
      "output = 'a1'\n"
     ]
    }
   ],
   "source": [
    "def compression_str(str):\n",
    "    temp = list(str)    # str -> list\n",
    "    temp_list =[]\n",
    "    count = 1\n",
    "    result =''\n",
    "    for i in range(len(temp)):\n",
    "        if i==0 and len(temp)==1:   # 한 자리인 경우\n",
    "            temp_list.append(temp[i])\n",
    "            temp_list.append(f'{1}')\n",
    "        elif i == 0:                # temp의 첫번 째 요소는 추가\n",
    "            temp_list.append(temp[i])\n",
    "        elif i == len(temp)-1:      # 마지막 카운트 넣기\n",
    "            if temp[i] == temp[i-1]:\n",
    "                count+=1\n",
    "                temp_list.append(f'{count}')\n",
    "            else:\n",
    "                temp_list.append(f'{count}')\n",
    "                temp_list.append(temp[i])\n",
    "                temp_list.append(f'{1}') \n",
    "        elif temp[i] != temp[i-1]:\n",
    "            temp_list.append(f'{count}')\n",
    "            temp_list.append(temp[i])\n",
    "            count = 1               # 카운트 초기화\n",
    "        elif temp[i] == temp[i-1]:  # 같으면 카운트 증가\n",
    "            count+=1\n",
    "\n",
    "    for i in temp_list:             # 리스트 합치기\n",
    "        result += i\n",
    "    return result\n",
    "\n",
    "src = 'aaaabbb'\n",
    "print(f\"src = '{src}'\")\n",
    "print(f\"output = '{compression_str(src)}'\")\n",
    "\n",
    "src = ''\n",
    "print(f\"src = '{src}'\")\n",
    "print(f\"output = '{compression_str(src)}'\")\n",
    "\n",
    "src = 'aaaabccccaaaaacca'\n",
    "print(f\"src = '{src}'\")\n",
    "print(f\"output = '{compression_str(src)}'\")\n",
    "\n",
    "src = 'a'\n",
    "print(f\"src = '{src}'\")\n",
    "print(f\"output = '{compression_str(src)}'\")"
   ]
  },
  {
   "cell_type": "markdown",
   "metadata": {},
   "source": [
    "### 5.11\n",
    "이전 문제에서 압축한 문자열 ‘a2b3c6a2c4f1g1’의 압축을 해제하여 이 문자열을 원래 ‘aabbbccccccaacccfg’ 문자열로 복원하는 프로그램을 작성하여라."
   ]
  },
  {
   "cell_type": "code",
   "execution_count": 22,
   "metadata": {},
   "outputs": [
    {
     "name": "stdout",
     "output_type": "stream",
     "text": [
      "['a', '2', 'b', '3', 'c', '6', 'a', '2', 'c', '4', 'f', '1', 'g', '1']\n",
      "aabbbccccccaaccccfg\n"
     ]
    }
   ],
   "source": [
    "def decompression_str(str):\n",
    "    temp = list(str)\n",
    "    print(temp)\n",
    "    result =''\n",
    "    for i in range(len(temp)):\n",
    "        if i%2==0:  # 문자\n",
    "            result += temp[i]\n",
    "        else:\n",
    "            for j in range(int(temp[i])-1):\n",
    "                result += f'{temp[i-1]}'\n",
    "    return result\n",
    "        \n",
    "src = 'a2b3c6a2c4f1g1'\n",
    "print(decompression_str(src))"
   ]
  }
 ],
 "metadata": {
  "kernelspec": {
   "display_name": "Python 3.10.6 64-bit",
   "language": "python",
   "name": "python3"
  },
  "language_info": {
   "codemirror_mode": {
    "name": "ipython",
    "version": 3
   },
   "file_extension": ".py",
   "mimetype": "text/x-python",
   "name": "python",
   "nbconvert_exporter": "python",
   "pygments_lexer": "ipython3",
   "version": "3.10.6"
  },
  "orig_nbformat": 4,
  "vscode": {
   "interpreter": {
    "hash": "20c9d94bea3bcd43e69d1e5f02ce962985699c48de0c68502218d203d4c4e41a"
   }
  }
 },
 "nbformat": 4,
 "nbformat_minor": 2
}
