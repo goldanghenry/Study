{
 "cells": [
  {
   "cell_type": "markdown",
   "metadata": {},
   "source": [
    "# Chapter8 LAB"
   ]
  },
  {
   "cell_type": "markdown",
   "metadata": {},
   "source": [
    "### LAB 8-1\n",
    "1. 다음 코드는 각각 어떤 예외를 발생시키는가?"
   ]
  },
  {
   "cell_type": "code",
   "execution_count": 1,
   "metadata": {},
   "outputs": [
    {
     "ename": "IndexError",
     "evalue": "list index out of range",
     "output_type": "error",
     "traceback": [
      "\u001b[1;31m---------------------------------------------------------------------------\u001b[0m",
      "\u001b[1;31mIndexError\u001b[0m                                Traceback (most recent call last)",
      "Cell \u001b[1;32mIn [1], line 2\u001b[0m\n\u001b[0;32m      1\u001b[0m a \u001b[39m=\u001b[39m [\u001b[39m10\u001b[39m,\u001b[39m20\u001b[39m,\u001b[39m30\u001b[39m]\n\u001b[1;32m----> 2\u001b[0m a[\u001b[39m3\u001b[39;49m]\n",
      "\u001b[1;31mIndexError\u001b[0m: list index out of range"
     ]
    }
   ],
   "source": [
    "a = [10,20,30]\n",
    "a[3]"
   ]
  },
  {
   "cell_type": "code",
   "execution_count": 2,
   "metadata": {},
   "outputs": [
    {
     "ename": "ValueError",
     "evalue": "invalid literal for int() with base 10: '20%'",
     "output_type": "error",
     "traceback": [
      "\u001b[1;31m---------------------------------------------------------------------------\u001b[0m",
      "\u001b[1;31mValueError\u001b[0m                                Traceback (most recent call last)",
      "Cell \u001b[1;32mIn [2], line 1\u001b[0m\n\u001b[1;32m----> 1\u001b[0m n\u001b[39m=\u001b[39m \u001b[39mint\u001b[39;49m(\u001b[39m'\u001b[39;49m\u001b[39m20\u001b[39;49m\u001b[39m%\u001b[39;49m\u001b[39m'\u001b[39;49m)\n",
      "\u001b[1;31mValueError\u001b[0m: invalid literal for int() with base 10: '20%'"
     ]
    }
   ],
   "source": [
    "n= int('20%')"
   ]
  },
  {
   "cell_type": "code",
   "execution_count": 3,
   "metadata": {},
   "outputs": [
    {
     "ename": "TypeError",
     "evalue": "unsupported operand type(s) for +: 'int' and 'str'",
     "output_type": "error",
     "traceback": [
      "\u001b[1;31m---------------------------------------------------------------------------\u001b[0m",
      "\u001b[1;31mTypeError\u001b[0m                                 Traceback (most recent call last)",
      "Cell \u001b[1;32mIn [3], line 1\u001b[0m\n\u001b[1;32m----> 1\u001b[0m a \u001b[39m=\u001b[39m \u001b[39m100\u001b[39;49m \u001b[39m+\u001b[39;49m \u001b[39m'\u001b[39;49m\u001b[39m200\u001b[39;49m\u001b[39m'\u001b[39;49m\n",
      "\u001b[1;31mTypeError\u001b[0m: unsupported operand type(s) for +: 'int' and 'str'"
     ]
    }
   ],
   "source": [
    "a = 100 + '200'"
   ]
  },
  {
   "cell_type": "markdown",
   "metadata": {},
   "source": [
    "2. 위의 문제 1번 코드를 try-except 문으로 감싸고 Exception e를 출력하여 어떤 출력문이 나오는지 확인하고 적으시오."
   ]
  },
  {
   "cell_type": "code",
   "execution_count": 4,
   "metadata": {},
   "outputs": [
    {
     "name": "stdout",
     "output_type": "stream",
     "text": [
      "error: list index out of range\n",
      "error: invalid literal for int() with base 10: '20%'\n",
      "error: unsupported operand type(s) for +: 'int' and 'str'\n"
     ]
    }
   ],
   "source": [
    "try:\n",
    "    a = [10,20,30]\n",
    "    a[3]\n",
    "except Exception as e1:\n",
    "    print('error:', e1)\n",
    "\n",
    "try:\n",
    "    n= int('20%')\n",
    "except Exception as e2:\n",
    "    print('error:', e2)\n",
    "\n",
    "try:\n",
    "    a = 100 + '200'\n",
    "except Exception as e3:\n",
    "    print('error:', e3)\n",
    "\n"
   ]
  },
  {
   "cell_type": "markdown",
   "metadata": {},
   "source": [
    "### LAB 8-2\n",
    "1. 다음 코드가 있을 경우 이 코드에 대한 적합한 예외 처리문을 만드시오."
   ]
  },
  {
   "cell_type": "code",
   "execution_count": 11,
   "metadata": {},
   "outputs": [
    {
     "name": "stdout",
     "output_type": "stream",
     "text": [
      "파일을 찾을 수 없습니다.\n"
     ]
    }
   ],
   "source": [
    "import sys\n",
    "\n",
    "try:\n",
    "    #10 * (30 / 0)\n",
    "    x = int(input('정수 x를 입력하세요'))\n",
    "    f = open('myfile.txt')\n",
    "    s = f.readline()\n",
    "except ZeroDivisionError:\n",
    "    print('0으로 나눌 수 없습니다.')\n",
    "except ValueError:\n",
    "    print('정수만 입력하세요')\n",
    "except FileNotFoundError:\n",
    "    print('파일을 찾을 수 없습니다.')"
   ]
  },
  {
   "cell_type": "markdown",
   "metadata": {},
   "source": [
    "### LAB 8-3\n",
    "1. [1,2,3,4,5]의 다섯개의 요소를 가진 리스트 a가 있을 때 다음과 같이 사용자로부터 정수를 입력 받은 후 이에 해당하는 인덱스를 출력하도록 하자.\n",
    "2. 다음과 같이 '삼'이 입력되면 try-except 문을 통해 '오류 : 입력 값이 정수나 실수가 아님'을 출력하시오."
   ]
  },
  {
   "cell_type": "code",
   "execution_count": 16,
   "metadata": {},
   "outputs": [
    {
     "name": "stdout",
     "output_type": "stream",
     "text": [
      "[1, 2, 3, 4, 5]\n",
      "오류 : 입력 값이 정수나 실수가 아님\n"
     ]
    }
   ],
   "source": [
    "alist = [1,2,3,4,5]\n",
    "klist = ['첫', '두','세','네','다섯']\n",
    "print(alist)\n",
    "\n",
    "try:\n",
    "    n = int(input('a의 요소를 하나 선택하시오 : '))\n",
    "    print(f'{n}은(는)',klist[alist.index(n)]+' 번째 요소입니다.')\n",
    "except ValueError:\n",
    "    print('오류 : 입력 값이 정수나 실수가 아님')"
   ]
  },
  {
   "cell_type": "markdown",
   "metadata": {},
   "source": [
    "### LAB 8-4\n",
    "1. 다음과 같은 내용을 가지는 numbers.txt 파일을 파이썬의 write() 메소드를 이용하여 작성하라. 이때 아래와 같이 줄바꿈이 되도록 하자."
   ]
  },
  {
   "cell_type": "code",
   "execution_count": 17,
   "metadata": {},
   "outputs": [],
   "source": [
    "f = open('numbers.txt', 'w')\n",
    "for i in range(1,5):\n",
    "    f.write(str(i*100)+'\\n')\n",
    "f.close()"
   ]
  },
  {
   "cell_type": "markdown",
   "metadata": {},
   "source": [
    "2. 다음과 같은 내용을 가지는 we_will_rock.txt 파일을 파이썬의 write() 메소드를 이용하여 작성하여라.\n",
    "따옴표의 출력에 주의하여 프로그램을 작성하자.\n"
   ]
  },
  {
   "cell_type": "code",
   "execution_count": 1,
   "metadata": {},
   "outputs": [],
   "source": [
    "f = open('we_will_rock.txt', 'w')\n",
    "f.write(\n",
    "\"\"\"Buddy, you're a boy, make a big noise\n",
    "Playing in the street, gonna be a big man someday\n",
    "You got mud on your face, you big disgrace\n",
    "Kicking your can all over the placem singin'\n",
    "We will, we will rock you\n",
    "We will, we will rock you\n",
    "\"\"\")\n",
    "f.close()"
   ]
  },
  {
   "cell_type": "markdown",
   "metadata": {},
   "source": [
    "### LAB 8-5\n",
    "1. 다음과 같은 내용을 가지는 number.txt 파일을 파이썬의 read() 메소드를 이용하여 출력하시오"
   ]
  },
  {
   "cell_type": "code",
   "execution_count": 23,
   "metadata": {},
   "outputs": [
    {
     "name": "stdout",
     "output_type": "stream",
     "text": [
      "100\n",
      "200\n",
      "300\n",
      "400\n"
     ]
    }
   ],
   "source": [
    "f = open('numbers.txt', 'r')\n",
    "while True:\n",
    "    temp = f.readline().rstrip()\n",
    "    if temp:\n",
    "        print(temp)\n",
    "    else:\n",
    "        break\n",
    "f.close()"
   ]
  },
  {
   "cell_type": "markdown",
   "metadata": {},
   "source": [
    "2. 다음과 같은 내용을 가지는 we_will_rock.txt 파일을 파이썬의 read() 메소드를 이용하여 출력하여라."
   ]
  },
  {
   "cell_type": "code",
   "execution_count": 2,
   "metadata": {},
   "outputs": [
    {
     "name": "stdout",
     "output_type": "stream",
     "text": [
      "Buddy, you're a boy, make a big noise\n",
      "Playing in the street, gonna be a big man someday\n",
      "You got mud on your face, you big disgrace\n",
      "Kicking your can all over the placem singin'\n",
      "We will, we will rock you\n",
      "We will, we will rock you\n"
     ]
    }
   ],
   "source": [
    "fname = \"we_will_rock.txt\"\n",
    "f = open(fname, 'r')\n",
    "temp = f.readline().rstrip()\n",
    "while temp:\n",
    "    print(temp)\n",
    "    temp = f.readline().rstrip()"
   ]
  },
  {
   "cell_type": "markdown",
   "metadata": {},
   "source": [
    "### LAB 8-6\n",
    "1. 사용자로부터 파일 이름을 입력으로 받은 후 입력받은 파일의 모든 무자를 대문자로 변환한 후 출력하여라. 그리고 이 내용을 [파일명_upper].txt 라는 이름의 파일로 저장하여라"
   ]
  },
  {
   "cell_type": "code",
   "execution_count": 24,
   "metadata": {},
   "outputs": [],
   "source": [
    "import sys\n",
    "\n",
    "fname = input('입력할 파일의 이름: ')\n",
    "upper_str = \"\"\n",
    "try:\n",
    "    f = open(fname, 'r', encoding='UTF8')\n",
    "except IOError:\n",
    "    print(\"Could not read file:\", fname)\n",
    "    sys.exit()\n",
    "except:\n",
    "    print(\"Unexpected error:\", sys.exc_info[0])\n",
    "    sys.exit()\n",
    "upper_str = f.read()\n",
    "f.close()\n",
    "\n",
    "f = open(fname[:-4]+\"_upper.txt\", 'w')\n",
    "f.write(upper_str.upper())\n",
    "f.close()"
   ]
  },
  {
   "cell_type": "markdown",
   "metadata": {},
   "source": [
    "2. 사용자로부터 파일 이름을 입력으로 받은 후 입력받은 파일의 모든 줄을 역순으로하여 다음과 같이 출력하시오."
   ]
  },
  {
   "cell_type": "code",
   "execution_count": 6,
   "metadata": {},
   "outputs": [
    {
     "name": "stdout",
     "output_type": "stream",
     "text": [
      "We will, we will rock you\n",
      "We will, we will rock you\n",
      "Kicking your can all over the placem singin'\n",
      "You got mud on your face, you big disgrace\n",
      "Playing in the street, gonna be a big man someday\n",
      "Buddy, you're a boy, make a big noise\n"
     ]
    }
   ],
   "source": [
    "fname = input('출력할 파일의 이름: ')\n",
    "output_str = []\n",
    "f = open(fname, 'r')\n",
    "temp = f.readline().rstrip()\n",
    "\n",
    "while temp:\n",
    "    output_str.append(temp) # output_str에 추가\n",
    "    temp = f.readline().rstrip()\n",
    "f.close()\n",
    "\n",
    "output_str.reverse()    # 순서 역순으로\n",
    "for i in output_str:    # 출력\n",
    "    if i != '':\n",
    "        print(i)\n"
   ]
  }
 ],
 "metadata": {
  "kernelspec": {
   "display_name": "Python 3.10.6 64-bit",
   "language": "python",
   "name": "python3"
  },
  "language_info": {
   "codemirror_mode": {
    "name": "ipython",
    "version": 3
   },
   "file_extension": ".py",
   "mimetype": "text/x-python",
   "name": "python",
   "nbconvert_exporter": "python",
   "pygments_lexer": "ipython3",
   "version": "3.10.6 (tags/v3.10.6:9c7b4bd, Aug  1 2022, 21:53:49) [MSC v.1932 64 bit (AMD64)]"
  },
  "orig_nbformat": 4,
  "vscode": {
   "interpreter": {
    "hash": "20c9d94bea3bcd43e69d1e5f02ce962985699c48de0c68502218d203d4c4e41a"
   }
  }
 },
 "nbformat": 4,
 "nbformat_minor": 2
}
