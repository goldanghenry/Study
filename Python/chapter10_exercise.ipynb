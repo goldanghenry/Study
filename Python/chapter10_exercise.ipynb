{
 "cells": [
  {
   "cell_type": "markdown",
   "metadata": {},
   "source": [
    "## Chapter10 exercise"
   ]
  },
  {
   "cell_type": "markdown",
   "metadata": {},
   "source": [
    "### 10.1\n",
    "다음과 같은 람다 함수의 형(type)과 함수의 형을 각각 출력해 보시오."
   ]
  },
  {
   "cell_type": "code",
   "execution_count": 1,
   "metadata": {},
   "outputs": [
    {
     "name": "stdout",
     "output_type": "stream",
     "text": [
      "<class 'function'>\n",
      "<class 'function'>\n"
     ]
    }
   ],
   "source": [
    "f1 = lambda x : x *x    # 람다 함수 정의\n",
    "print(type(f1))\n",
    "\n",
    "def f2(x):\n",
    "    return x*x\n",
    "print(type(f2))"
   ]
  },
  {
   "cell_type": "markdown",
   "metadata": {},
   "source": [
    "### 10.2\n",
    "다음 주석을 참고하여 코드에서 잘못된 부분을 찾아서 고치시오. 오류가 발생한 이유를 적고 이를 수정하시오."
   ]
  },
  {
   "cell_type": "code",
   "execution_count": 7,
   "metadata": {},
   "outputs": [
    {
     "name": "stdout",
     "output_type": "stream",
     "text": [
      "100\n",
      "20\n",
      "130\n"
     ]
    }
   ],
   "source": [
    "# (1)\n",
    "f = lambda x : x * x\n",
    "# f(10,10)    TypeError: <lambda>() takes 1 positional argument but 2 were given\n",
    "print(f(10))\n",
    "\n",
    "# (2)\n",
    "f = lambda x,y : x+y\n",
    "# f(10)   TypeError: <lambda>() missing 1 required positional argument: 'y'\n",
    "print(f(10,10))\n",
    "\n",
    "# (3)\n",
    "# f = lambda x,y : z = 100, x+y+z    'z'를 콜론 앞에 적어야 하고 100은 인자로\n",
    "f = lambda x,y,z : x+y+z\n",
    "print(f(10,20,100))"
   ]
  },
  {
   "cell_type": "markdown",
   "metadata": {},
   "source": [
    "### 10.3\n",
    "내장함수 sorted는 다음과 같이 lambda 함수와 함께 사용할 수 있다."
   ]
  },
  {
   "cell_type": "code",
   "execution_count": 9,
   "metadata": {},
   "outputs": [
    {
     "name": "stdout",
     "output_type": "stream",
     "text": [
      "[('GiDong', 'Hong', 27), ('YuSin', 'Gim', 34), ('SunSin', 'Lee', 46)]\n",
      "[('YuSin', 'Gim', 34), ('GiDong', 'Hong', 27), ('SunSin', 'Lee', 46)]\n",
      "[('SunSin', 'Lee', 46), ('YuSin', 'Gim', 34), ('GiDong', 'Hong', 27)]\n"
     ]
    }
   ],
   "source": [
    "persons = [('GiDong', 'Hong', 27), ('SunSin', 'Lee', 46), ('YuSin', 'Gim', 34)]\n",
    "print(sorted(persons, key=lambda info: info[2]))\n",
    "# (1)\n",
    "print(sorted(persons, key=lambda info: info[1]))\n",
    "# (2)\n",
    "print(sorted(persons, key=lambda info: info[2], reverse=True))"
   ]
  },
  {
   "cell_type": "markdown",
   "metadata": {},
   "source": [
    "### 10.4\n",
    "다음과 같은 문장으로 된 lyrics라는 문자열이 있다. 이 문자열을 각 단어별로 구분한 후, 아래 실행 결과와 같이 이 단어와 이 단어에 대한 대문자 튜플 쌍으로 바꾸어 출력하여라."
   ]
  },
  {
   "cell_type": "code",
   "execution_count": 5,
   "metadata": {},
   "outputs": [
    {
     "name": "stdout",
     "output_type": "stream",
     "text": [
      "[('Half', 'HALF'), ('of', 'OF'), ('my', 'MY'), ('heart', 'HEART'), ('is', 'IS'), ('in', 'IN'), ('Hevana', 'HEVANA')]\n",
      "[('Half', 'HALF'), ('of', 'OF'), ('my', 'MY'), ('heart', 'HEART'), ('is', 'IS'), ('in', 'IN'), ('Hevana', 'HEVANA')]\n"
     ]
    }
   ],
   "source": [
    "lyrics = 'Half of my heart is in Hevana'\n",
    "# (1) lyrics라는 문자열을 split() 메소드로 구분하여 각 단어를 추출한 후 for  문 안에서 각 단어에 대한 upper() 메소드를 적용하여 구현하시오.\n",
    "sp_list = lyrics.split()\n",
    "re_list = []\n",
    "for sp in sp_list:\n",
    "    re_list.append((sp,sp.upper()))\n",
    "print(re_list)\n",
    "\n",
    "# (2) (1)과 동일한 내용을 리스트 축약 표현을 사용하여 구현하시오.\n",
    "re_list = [ (x, x.upper()) for x in sp_list ]\n",
    "print(re_list)"
   ]
  },
  {
   "cell_type": "markdown",
   "metadata": {},
   "source": [
    "### 10.5\n",
    "다음과 같은 문장으로 된 lyrics라는 문자열이 있다. 이 문자열을 각 단어별로 구분한 후, 아래 실행 결과와 같이 이 단어와 이 단어의 길이 n에 대한 튜플 쌍으로 바꾸어 출력하여라."
   ]
  },
  {
   "cell_type": "code",
   "execution_count": 9,
   "metadata": {},
   "outputs": [
    {
     "name": "stdout",
     "output_type": "stream",
     "text": [
      "[('Half', 4), ('of', 2), ('my', 2), ('heart', 5), ('is', 2), ('in', 2), ('Hevana', 6)]\n",
      "[('Half', 4), ('of', 2), ('my', 2), ('heart', 5), ('is', 2), ('in', 2), ('Hevana', 6)]\n"
     ]
    }
   ],
   "source": [
    "re_list = []\n",
    "# (1)\n",
    "for sp in sp_list:\n",
    "    re_list.append((sp, len(sp)))\n",
    "print(re_list)\n",
    "\n",
    "# (2)\n",
    "re_list = [ (sp, len(sp)) for sp in sp_list ]\n",
    "print(re_list)"
   ]
  },
  {
   "cell_type": "markdown",
   "metadata": {},
   "source": [
    "### 10.6\n",
    "다음과 같이 10개의 정수를 가진 n_list에서 12의 배수를 모두 찾아서 new_list라는 리스트에 저장하여라."
   ]
  },
  {
   "cell_type": "code",
   "execution_count": 11,
   "metadata": {},
   "outputs": [
    {
     "name": "stdout",
     "output_type": "stream",
     "text": [
      "[24, 144]\n",
      "[24, 144]\n",
      "[24, 144]\n"
     ]
    }
   ],
   "source": [
    "n_list = [44, 66, 34, 24, 144, 98, 38, 568, 234, 345]\n",
    "new_list = []\n",
    "# (1) for문+if 조건식\n",
    "for i in n_list:\n",
    "    if i%12==0:\n",
    "        new_list.append(i)\n",
    "print(new_list)\n",
    "\n",
    "# (2) filter() 함수아 람다 함수를 사용해 문제를 해결하라\n",
    "new_list = list(filter(lambda i:i%12==0, n_list))\n",
    "print(new_list)\n",
    "\n",
    "# (3) list 축약 표현\n",
    "new_list = [i for i in n_list if i%12==0]\n",
    "print(new_list)"
   ]
  },
  {
   "cell_type": "markdown",
   "metadata": {},
   "source": [
    "### 10.7\n",
    "다음과 같이 6개의 숫자를 가진 n_list에서 양의 실수 값을 가지는 항목을 추출하여 정수로 변환하여 new_list에 담아서 출력하여라"
   ]
  },
  {
   "cell_type": "code",
   "execution_count": 28,
   "metadata": {},
   "outputs": [
    {
     "name": "stdout",
     "output_type": "stream",
     "text": [
      "[29.44, 902.2, 45.7]\n",
      "[29.44, 902.2, 45.7]\n"
     ]
    }
   ],
   "source": [
    "n_list = [-22.3, 29.44, 902.2, 45.7, -887.1, -56.3]\n",
    "new_list = []\n",
    "# (1) for문 if 조건식, append()\n",
    "for n in n_list:\n",
    "    if n>=0:\n",
    "        new_list.append(n)\n",
    "print(new_list)\n",
    "\n",
    "# (2) filter() 함수, map() 함수와 람다 함수\n",
    "new_list = list(filter(lambda x: x>=0, n_list))\n",
    "print(new_list)"
   ]
  }
 ],
 "metadata": {
  "kernelspec": {
   "display_name": "Python 3.10.6 64-bit",
   "language": "python",
   "name": "python3"
  },
  "language_info": {
   "codemirror_mode": {
    "name": "ipython",
    "version": 3
   },
   "file_extension": ".py",
   "mimetype": "text/x-python",
   "name": "python",
   "nbconvert_exporter": "python",
   "pygments_lexer": "ipython3",
   "version": "3.10.6"
  },
  "orig_nbformat": 4,
  "vscode": {
   "interpreter": {
    "hash": "20c9d94bea3bcd43e69d1e5f02ce962985699c48de0c68502218d203d4c4e41a"
   }
  }
 },
 "nbformat": 4,
 "nbformat_minor": 2
}
