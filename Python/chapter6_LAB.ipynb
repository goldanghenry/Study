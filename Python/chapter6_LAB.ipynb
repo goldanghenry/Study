{
 "cells": [
  {
   "cell_type": "markdown",
   "metadata": {},
   "source": [
    "## Chapter6 LAB"
   ]
  },
  {
   "cell_type": "markdown",
   "metadata": {},
   "source": [
    "### LAB 6-1\n",
    "1. 다음과 같은 문자열 키-값의 항목을 가지는 capital_dic 딕셔너리를 생성하시오. 그리고 이 capital_dic을 이용하여 다음의 딕셔너리 항목에 대한 조회 결과를 적으시오."
   ]
  },
  {
   "cell_type": "code",
   "execution_count": 1,
   "metadata": {},
   "outputs": [
    {
     "name": "stdout",
     "output_type": "stream",
     "text": [
      "Seoul\n",
      "Beijing\n",
      "Washington DC\n"
     ]
    }
   ],
   "source": [
    "capital_dic = {'Korea':'Seoul', 'China':'Beijing', 'USA':'Washington DC'}\n",
    "print(capital_dic['Korea'])\n",
    "print(capital_dic['China'])\n",
    "print(capital_dic['USA'])"
   ]
  },
  {
   "cell_type": "markdown",
   "metadata": {},
   "source": [
    "2. 다음 키-값의 항목을 요소로 가지는 fruits_dic 딕셔너리를 생성하시오. 그리고 이 딕셔너리를 이용하여 각 과일의 가격을 같이 출력하여라."
   ]
  },
  {
   "cell_type": "code",
   "execution_count": 11,
   "metadata": {},
   "outputs": [
    {
     "name": "stdout",
     "output_type": "stream",
     "text": [
      "apple의 가격은 5000원입니다.\n",
      "banana 가격은 4000원입니다.\n",
      "grape 가격은 5300원입니다.\n",
      "melon 가격은 6500원입니다.\n"
     ]
    }
   ],
   "source": [
    "fruits_dic = {'apple':5000, 'banana':4000, 'grape':5300, 'melon': 6500}\n",
    "print('apple의 가격은 {0}원입니다.'.format(fruits_dic['apple']))\n",
    "print('banana 가격은 {0}원입니다.'.format(fruits_dic['banana']))\n",
    "print('grape 가격은 {0}원입니다.'.format(fruits_dic['grape']))\n",
    "print('melon 가격은 {0}원입니다.'.format(fruits_dic['melon']))"
   ]
  },
  {
   "cell_type": "markdown",
   "metadata": {},
   "source": [
    "### LAB 6-2\n",
    "1. person 딕셔너리에 다음과 같이 '특기' 키와, '분신술' 값을 가지는 새로운 항목을 추가하시오.<br>\n",
    "2. person 딕셔너리에 다음과 같이 '아버지' 키와 '홍판서' 값을 가지는 새로운 항목을 추가하시오.<br>\n",
    "3. 2번 문제의 person 딕셔너리에 대해 '나이'를 키로 가지는 항목을 삭제하여 다음과 같은 딕셔너리로 갱신하시오."
   ]
  },
  {
   "cell_type": "code",
   "execution_count": 7,
   "metadata": {},
   "outputs": [
    {
     "name": "stdout",
     "output_type": "stream",
     "text": [
      "{'이름': '홍길동', '나이': 26, '몸무게': 82, '특기': '분신술'}\n",
      "{'이름': '홍길동', '나이': 26, '몸무게': 82, '특기': '분신술', '아버지': '홍판서'}\n",
      "{'이름': '홍길동', '몸무게': 82, '특기': '분신술', '아버지': '홍판서'}\n"
     ]
    }
   ],
   "source": [
    "person = {'이름' : '홍길동', '나이' : 26, '몸무게' : 82}\n",
    "person['특기']='분신술'\n",
    "print(person)\n",
    "person['아버지']='홍판서'\n",
    "print(person)\n",
    "del person['나이']\n",
    "print(person)"
   ]
  },
  {
   "cell_type": "markdown",
   "metadata": {},
   "source": [
    "### LAB 6-3\n",
    "1. 다음과 같은 키-값을 가지는 capital_dic이라는 딕셔너리를 생성한 후 아래 연산을 수행하고 출력 결과를 True 혹을 False로 적으시오."
   ]
  },
  {
   "cell_type": "code",
   "execution_count": 10,
   "metadata": {},
   "outputs": [
    {
     "name": "stdout",
     "output_type": "stream",
     "text": [
      "True\n",
      "True\n",
      "False\n",
      "False\n"
     ]
    }
   ],
   "source": [
    "capital_dic = {'Korea':'Seoul', 'China':'Beijing', 'USA':'Washington DC'}\n",
    "print(('Korea' in capital_dic))\n",
    "print(('China' in capital_dic))\n",
    "print(('Indonesia' in capital_dic))\n",
    "print(('Beijing' in capital_dic))   # value는 확인할 수 없음"
   ]
  },
  {
   "cell_type": "markdown",
   "metadata": {},
   "source": [
    "### LAB 6-4\n",
    "1. apple, melon, banana, orange라는 문자열로 된 키와 각각 6000, 3000, 5000, 7000원의 가격을 값으로 가지는 fruits_dic이라는 이름의 딕셔너리를 생성하자.<br>\n",
    "2. fruits_dic 딕셔너리의 모든 키를 keys() 메소드를 사용하여 출력하시오.<br>\n",
    "3. fruits_dic 딕셔너리의 모든 값을 values() 메소드를 사용하여 출력하시오.<br>\n",
    "4. fruits_dic 딕셔널이ㅢ ('apple', 6000) 항목을 pop() 메소드를 이용하여 삭제하시오.<br>\n",
    "5. fruits_dic 딕셔너리의 모든 항목을 삭제하시오."
   ]
  },
  {
   "cell_type": "code",
   "execution_count": 6,
   "metadata": {},
   "outputs": [
    {
     "name": "stdout",
     "output_type": "stream",
     "text": [
      "{'apple': 5000, 'melon': 3000, 'banana': 5000, 'orange': 7000}\n",
      "dict_keys(['apple', 'melon', 'banana', 'orange'])\n",
      "dict_values([5000, 3000, 5000, 7000])\n",
      "{'melon': 3000, 'banana': 5000, 'orange': 7000}\n",
      "{}\n"
     ]
    }
   ],
   "source": [
    "# 1번\n",
    "fruits_dic = {'apple':5000, 'melon':3000, 'banana':5000, 'orange': 7000}\n",
    "print(fruits_dic)\n",
    "# 2번\n",
    "print(fruits_dic.keys())\n",
    "# 3번\n",
    "print(fruits_dic.values())\n",
    "# 4번\n",
    "fruits_dic.pop('apple')\n",
    "print(fruits_dic)\n",
    "# 5번\n",
    "fruits_dic.clear()\n",
    "print(fruits_dic)"
   ]
  },
  {
   "cell_type": "markdown",
   "metadata": {},
   "source": [
    "### LAB 6-5\n",
    "1. fruits_dic의 모든 키를 리스트 형식으로 출력하시오.<br>\n",
    "2. fruits_dic의 모든 값을 리스트 형식으로 출력하시오.<br>\n",
    "3. fruits_dic의 항목의 개수를 len() 함수로 구해 출력하시오.<br>\n",
    "4. fruits_dic에 'appe' 키와 'mango'키가 있는가 검사하여 다음과 같이 출력하시오.\n"
   ]
  },
  {
   "cell_type": "code",
   "execution_count": 12,
   "metadata": {},
   "outputs": [
    {
     "name": "stdout",
     "output_type": "stream",
     "text": [
      "['apple', 'melon', 'banana', 'orange']\n",
      "[6000, 3000, 5000, 4000]\n",
      "fruits_dic 딕셔너리의 항목의 개수 : 4\n",
      "apple is in fruits_dic.\n",
      "mango is not in fruits_dic.\n"
     ]
    }
   ],
   "source": [
    "fruits_dic = {'apple':6000, 'melon':3000, 'banana':5000, 'orange': 4000}\n",
    "print(list(fruits_dic.keys()))\n",
    "print(list(fruits_dic.values()))\n",
    "print('fruits_dic 딕셔너리의 항목의 개수 :', len(fruits_dic))\n",
    "\n",
    "if 'apple' in fruits_dic:\n",
    "    print('apple is in fruits_dic.')\n",
    "else: \n",
    "    print('apple is not in fruits_dic.')\n",
    "\n",
    "if 'mango' in fruits_dic:\n",
    "    print('mango is in fruits_dic.')\n",
    "else: \n",
    "    print('mango is not in fruits_dic.')"
   ]
  },
  {
   "cell_type": "markdown",
   "metadata": {},
   "source": [
    "### LAB 6-6\n",
    "1. (1919,3,1)의 요소 값을 가지는 the_day 튜플을 생성하여라. 그리고 이 튜플의 요소를 언패킹을 통해 year, month, day 변수에 할당한 후 다음과 같이 출력하여라.<br>\n",
    "2. 10,20,30의 순서대로 이루어진 리스트를 튜플로 변환하여 a,b,c에 언패킹한 후 이를 다음과 같이 출력하여라."
   ]
  },
  {
   "cell_type": "code",
   "execution_count": 15,
   "metadata": {},
   "outputs": [
    {
     "name": "stdout",
     "output_type": "stream",
     "text": [
      "1919년 3월 1일은 삼일절입니다.\n",
      "a = 10\n",
      "b = 20\n",
      "c = 30\n"
     ]
    }
   ],
   "source": [
    "# 1번\n",
    "the_day = (1919,3,1,)      # 패킹\n",
    "year, month, day = the_day # 언패킹\n",
    "print(f'{year}년 {month}월 {day}일은 삼일절입니다.')\n",
    "\n",
    "# 2번\n",
    "a,b,c = tuple([10,20,30])\n",
    "print(f'a = {a}\\nb = {b}\\nc = {c}')\n",
    "\n"
   ]
  },
  {
   "cell_type": "markdown",
   "metadata": {},
   "source": [
    "### LAB 6-7\n",
    "1. 2019001이라는 학번과 '홍길동'이라는 이름, 179라는 키를 튜플의 요소로 가지는 튜플 객체와 참조 변수 person을 생성하여라.<br><br>\n",
    "2. person의 학번을 2019003으로 변경하여라. 어떤 오류가 발생하는가?<br>\n",
    "-> TypeError: 'tuple' object does not support item assignment<br><br>\n",
    "3. person을 리스트로 변환하여 학번을 2020003으로 변경한 후 이를 다시 튜플로 변환하여 다음과 같이 출력하여라."
   ]
  },
  {
   "cell_type": "code",
   "execution_count": 1,
   "metadata": {},
   "outputs": [
    {
     "name": "stdout",
     "output_type": "stream",
     "text": [
      "person = ('홍길동', 2019001, 179)\n",
      "학번 변동 후 person = ('홍길동', 2020003, 179)\n"
     ]
    }
   ],
   "source": [
    "person = ('홍길동', 2019001, 179,)\n",
    "print('person =', person)\n",
    "#person[1] = 2019003\n",
    "person = list(person)\n",
    "person[1] = 2020003\n",
    "person = tuple(person)\n",
    "print('학번 변동 후 person =',person)"
   ]
  },
  {
   "cell_type": "markdown",
   "metadata": {},
   "source": [
    "### LAB 6-8\n",
    "1. x, y의 두 값을 입력으로 받아서 x,y 각각의 제곱 값을 각각 반환하는 square(x,y) 함수를 구현하시오."
   ]
  },
  {
   "cell_type": "code",
   "execution_count": 20,
   "metadata": {},
   "outputs": [
    {
     "name": "stdout",
     "output_type": "stream",
     "text": [
      "10 제곱 = 100, 20 제곱 = 400\n"
     ]
    }
   ],
   "source": [
    "def square(x,y):\n",
    "    return x**2, y**2\n",
    "\n",
    "x, y = map(int, input('x와 y값을 입력하시오').split())\n",
    "x_sq, y_sq = square(x,y)\n",
    "print(f'{x} 제곱 = {x_sq}, {y} 제곱 = {y_sq}')"
   ]
  },
  {
   "cell_type": "markdown",
   "metadata": {},
   "source": [
    "2. 튜플의 덧셈 결과는?"
   ]
  },
  {
   "cell_type": "code",
   "execution_count": 21,
   "metadata": {},
   "outputs": [
    {
     "name": "stdout",
     "output_type": "stream",
     "text": [
      "(10, 20, 30, 40, 50, 60)\n"
     ]
    }
   ],
   "source": [
    "print((10,20,30,)+(40,50,60,))"
   ]
  },
  {
   "cell_type": "markdown",
   "metadata": {},
   "source": [
    "3. 다음 두 출력문의 결과는? 어떠 차이가 있는가?<br>\n",
    "-> 전자는 문자열 스트링이 3번 반복되지만, 후자는 ('Hello ',) 라는 튜플이 세번 곱해져, 병합된다."
   ]
  },
  {
   "cell_type": "code",
   "execution_count": 22,
   "metadata": {},
   "outputs": [
    {
     "name": "stdout",
     "output_type": "stream",
     "text": [
      "Hello Hello Hello \n",
      "('Hello ', 'Hello ', 'Hello ')\n"
     ]
    }
   ],
   "source": [
    "print('Hello '*3)\n",
    "print(('Hello ',)*3)"
   ]
  },
  {
   "cell_type": "markdown",
   "metadata": {},
   "source": [
    "### LAB 6-9\n",
    "1. 다음 리스트 lst로부터 set() 함수를 사용하여 집합 s1을 생성하여 출력하시오."
   ]
  },
  {
   "cell_type": "code",
   "execution_count": 2,
   "metadata": {},
   "outputs": [
    {
     "name": "stdout",
     "output_type": "stream",
     "text": [
      "lst = ['apple', 'mango', 'banana']\n",
      "s1 = {'banana', 'apple', 'mango'}\n"
     ]
    }
   ],
   "source": [
    "lst = ['apple', 'mango', 'banana']\n",
    "print('lst =', lst)\n",
    "s1 = set(lst)\n",
    "print('s1 =', s1)"
   ]
  },
  {
   "cell_type": "markdown",
   "metadata": {},
   "source": [
    "2. 다음 문자열 greet으로부터 set() 함수를 사용하여 집합 s2를 생성하여 출력하시오."
   ]
  },
  {
   "cell_type": "code",
   "execution_count": 3,
   "metadata": {},
   "outputs": [
    {
     "name": "stdout",
     "output_type": "stream",
     "text": [
      "s2 = {'e', 'G', 't', 'a', 'n', 'o', 'r', 'f', ' ', 'd'}\n"
     ]
    }
   ],
   "source": [
    "greet = 'Good afternoon'\n",
    "s2 = set(greet)\n",
    "print('s2 =', s2)"
   ]
  },
  {
   "cell_type": "markdown",
   "metadata": {},
   "source": [
    "### LAB 6-10\n",
    "1. 다음 두 집합이 있을 경우 이 집합에 대한 연산결과는 무엇인가?"
   ]
  },
  {
   "cell_type": "code",
   "execution_count": 5,
   "metadata": {},
   "outputs": [
    {
     "name": "stdout",
     "output_type": "stream",
     "text": [
      "s1 | s2 = {70, 40, 10, 50, 20, 60, 30}\n",
      "s1 & s2 = {40, 30}\n",
      "s1 - s2 = {10, 20}\n",
      "s1 ^ s2 = {50, 20, 70, 10, 60}\n",
      "s1.issubset(s2) = False\n",
      "s1.issuperset(s2) = False\n",
      "s1.isdisjoint(s2) = False\n"
     ]
    }
   ],
   "source": [
    "s1 = {10,20,30,40}\n",
    "s2 = {30,40,50,60,70}\n",
    "\n",
    "print('s1 | s2 = {}'.format(s1|s2))\n",
    "print('s1 & s2 = {}'.format(s1&s2))\n",
    "print('s1 - s2 = {}'.format(s1-s2))\n",
    "print('s1 ^ s2 = {}'.format(s1^s2))\n",
    "print('s1.issubset(s2) = {}'.format(s1.issubset(s2)))\n",
    "print('s1.issuperset(s2) = {}'.format(s1.issuperset(s2)))\n",
    "print('s1.isdisjoint(s2) = {}'.format(s1.isdisjoint(s2)))\n"
   ]
  },
  {
   "cell_type": "markdown",
   "metadata": {},
   "source": [
    "### LAB 6-11\n",
    "1. 다음 두 집합이 있을 경우 product_set() 함수를 이용하여 두 집합의 곱집합을 구하여라."
   ]
  },
  {
   "cell_type": "code",
   "execution_count": 6,
   "metadata": {},
   "outputs": [
    {
     "name": "stdout",
     "output_type": "stream",
     "text": [
      "AxB = {(2, 'C'), (2, 'B'), (1, 'A'), (1, 'B'), (2, 'A'), (1, 'C')}\n",
      "BxA = {('B', 2), ('A', 1), ('A', 2), ('B', 1), ('C', 2), ('C', 1)}\n",
      "AxA = {(1, 1), (1, 2), (2, 1), (2, 2)}\n",
      "BxB = {('B', 'A'), ('B', 'B'), ('B', 'C'), ('A', 'A'), ('A', 'C'), ('A', 'B'), ('C', 'A'), ('C', 'B'), ('C', 'C')}\n"
     ]
    }
   ],
   "source": [
    "def product_set(set1, set2):\n",
    "    res = set()\n",
    "    for i in set1:\n",
    "        for j in set2:\n",
    "            res = res | {(i,j)} # 이중 for 루프를 이용한 곱집합\n",
    "    return res\n",
    "\n",
    "A = {1,2}\n",
    "B = {'A', 'B','C'}\n",
    "\n",
    "print('AxB =', product_set(A, B)) # A와 B의 곱집합을 출력함\n",
    "print('BxA =', product_set(B, A))\n",
    "print('AxA =', product_set(A, A))\n",
    "print('BxB =', product_set(B, B))\n"
   ]
  },
  {
   "cell_type": "markdown",
   "metadata": {},
   "source": [
    "### LAB 6-12\n",
    "1. 주사위를 세 번 던져 얻을 수 있는 경우의 수를 다음처럼 출력하는 코드를 작성하라.<br>\n",
    "2. tuple_sum 함수로 눈의 합이 10 이상인 경우의 수를 계산해 다음처럼 출력하라.<br>"
   ]
  },
  {
   "cell_type": "code",
   "execution_count": 2,
   "metadata": {},
   "outputs": [
    {
     "name": "stdout",
     "output_type": "stream",
     "text": [
      "주사위를 세 번 던져 발생할 수 있는 사건은 216 가지 경우가 존재합니다.\n",
      "주사위를 세 번 던져 나온 눈의 합이 10 이상인 경우는 135 가지입니다.\n"
     ]
    }
   ],
   "source": [
    "def tuple_sum(tup): # tup내의 모든 항목의 합을 구하는 함수\n",
    "    if isinstance(tup, int):\n",
    "        return tup\n",
    "    else:\n",
    "        accum = 0\n",
    "        for element in tup:\n",
    "            accum += tuple_sum(element) # 누적 합을 구하기 위한 재귀 호출\n",
    "    return accum\n",
    "\n",
    "def product_set(set1, set2):\n",
    "    res = set()\n",
    "    for i in set1:\n",
    "        for j in set2:\n",
    "            res = res | {(i,j)}\n",
    "    return res\n",
    "\n",
    "def exp(input_set, exponent):\n",
    "    res = input_set\n",
    "    for _ in range(exponent-1) :\n",
    "        res = product_set(res, input_set)\n",
    "    return res\n",
    "\n",
    "cases = {1,2,3,4,5,6}\n",
    "cases_2times = product_set(cases, cases)\n",
    "cases_3times = product_set(cases, cases_2times)\n",
    "print('주사위를 세 번 던져 발생할 수 있는 사건은',len(cases_3times), '가지 경우가 존재합니다.')\n",
    "\n",
    "sums = [tuple_sum(tup) for tup in cases_3times] # 리스트 만들기\n",
    "sums_10 = [i for i in sums if i>= 10]           # 합이 10보다 크다면 리스트에 넣기\n",
    "print('주사위를 세 번 던져 나온 눈의 합이 10 이상인 경우는', len(sums_10), '가지입니다.')"
   ]
  },
  {
   "cell_type": "markdown",
   "metadata": {},
   "source": [
    "3. 주사위를 세 번 던져서 눈의 합이 특정한 값 x 이상이 나올 확률은을 계산하는 함수 prob_over(x) 함수를 만들어 다음과 같은 확률 계산을 해 보라."
   ]
  },
  {
   "cell_type": "code",
   "execution_count": 5,
   "metadata": {},
   "outputs": [
    {
     "name": "stdout",
     "output_type": "stream",
     "text": [
      "눈의 합으로 3 이상을 얻을 확률 100.0%\n",
      "눈의 합으로 4 이상을 얻을 확률 99.54%\n",
      "눈의 합으로 5 이상을 얻을 확률 98.15%\n",
      "눈의 합으로 6 이상을 얻을 확률 95.37%\n",
      "눈의 합으로 7 이상을 얻을 확률 90.74%\n",
      "눈의 합으로 8 이상을 얻을 확률 83.8%\n",
      "눈의 합으로 9 이상을 얻을 확률 74.07%\n",
      "눈의 합으로 10 이상을 얻을 확률 62.5%\n",
      "눈의 합으로 11 이상을 얻을 확률 50.0%\n",
      "눈의 합으로 12 이상을 얻을 확률 37.5%\n",
      "눈의 합으로 13 이상을 얻을 확률 25.93%\n",
      "눈의 합으로 14 이상을 얻을 확률 16.2%\n",
      "눈의 합으로 15 이상을 얻을 확률 9.26%\n",
      "눈의 합으로 16 이상을 얻을 확률 4.63%\n",
      "눈의 합으로 17 이상을 얻을 확률 1.85%\n",
      "눈의 합으로 18 이상을 얻을 확률 0.46%\n"
     ]
    }
   ],
   "source": [
    "def prob_over(x):\n",
    "    cases = {1,2,3,4,5,6}\n",
    "    cases_2times = product_set(cases, cases)\n",
    "    cases_3times = product_set(cases, cases_2times)\n",
    "    sums = [tuple_sum(tup) for tup in cases_3times] # 리스트 만들기\n",
    "    sums_10 = [i for i in sums if i>= x]            # 합이 10보다 크다면 리스트에 넣기\n",
    "    per = round(len(sums_10)/len(cases_3times)*100,2)\n",
    "    print(f'눈의 합으로 {x} 이상을 얻을 확률 {per}%')\n",
    "\n",
    "for i in range(3,19):\n",
    "    prob_over(i)"
   ]
  }
 ],
 "metadata": {
  "kernelspec": {
   "display_name": "Python 3.10.6 64-bit",
   "language": "python",
   "name": "python3"
  },
  "language_info": {
   "codemirror_mode": {
    "name": "ipython",
    "version": 3
   },
   "file_extension": ".py",
   "mimetype": "text/x-python",
   "name": "python",
   "nbconvert_exporter": "python",
   "pygments_lexer": "ipython3",
   "version": "3.10.6"
  },
  "orig_nbformat": 4,
  "vscode": {
   "interpreter": {
    "hash": "20c9d94bea3bcd43e69d1e5f02ce962985699c48de0c68502218d203d4c4e41a"
   }
  }
 },
 "nbformat": 4,
 "nbformat_minor": 2
}
