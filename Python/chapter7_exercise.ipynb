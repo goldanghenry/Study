{
 "cells": [
  {
   "cell_type": "markdown",
   "metadata": {},
   "source": [
    "## chapter7 exercise"
   ]
  },
  {
   "cell_type": "markdown",
   "metadata": {},
   "source": [
    "1.\t로미오와 줄리엣 두 사람이 주사위를 던져서 높은 숫자가 나오면 이기는 게임을 만들어보자. 로미오와 줄리엣의 주사위는 모두 다음과 같이 random 모듈의 randrange( )를 통해서 생성한 난수를 바탕으로 한다. 출력 결과는 다음과 같이 로미오가 이기거나, 줄리엣이 이기거나, 비기는 결과가 나와야 한다."
   ]
  },
  {
   "cell_type": "code",
   "execution_count": 7,
   "metadata": {},
   "outputs": [
    {
     "name": "stdout",
     "output_type": "stream",
     "text": [
      "로미오의 주사위 숫자는 4 입니다.\n",
      "줄리엣의 주사위 숫자는 2 입니다.\n",
      "로미오가 이겼습니다. \n"
     ]
    }
   ],
   "source": [
    "import random as rd\n",
    "\n",
    "A = rd.randrange(1,7)\n",
    "B = rd.randrange(1,7)\n",
    "\n",
    "if A>B:\n",
    "    print(f'로미오의 주사위 숫자는 {A} 입니다.\\n줄리엣의 주사위 숫자는 {B} 입니다.\\n로미오가 이겼습니다. ')\n",
    "elif A<B:\n",
    "    print(f'로미오의 주사위 숫자는 {A} 입니다.\\n줄리엣의 주사위 숫자는 {B} 입니다.\\n줄리엣이 이겼습니다. ')\n",
    "else:\n",
    "    print(f'로미오의 주사위 숫자는 {A} 입니다.\\n줄리엣의 주사위 숫자는 {B} 입니다.\\n비겼습니다.')"
   ]
  },
  {
   "cell_type": "markdown",
   "metadata": {},
   "source": [
    "2.\t랜덤 숫자 맞추기 게임 프로그램을 작성하라. 먼저 랜덤하게 1~20까지의 숫자 x를 하나 생성시키고 사용자는 숫자를 하나씩 입력하면서 생성된 숫자 x와 비교해 큰지 작은지를 보고 숫자를 맞춰가는 게임이다. 컴퓨터는 사용자가 입력한 숫자가 정답보다 큰지 작은지를 알려주어야 한다. 그리고 사용자가 시도를 할 때 마다 시도한 횟수가 n에 저장되도록 한다. 만일 입력한 숫자와 x가 일치하면 “정답입니다!”라는 메시지를 출력한다. 이때 3번 이하로 입력하여 숫자를 맞추면 “n번 만에 맞춘 당신은 천재!”, 3번 이상 6번 이하로 입력하여 숫자를 맞추면 “n번 만에 맞추셨네요. 잘 했어요^^”, 7번 이상으로 숫자를 입력하여 맞추면 “n번 만에 맞추다니 쩝쩝…”이라고 출력하라."
   ]
  },
  {
   "cell_type": "code",
   "execution_count": 16,
   "metadata": {},
   "outputs": [
    {
     "name": "stdout",
     "output_type": "stream",
     "text": [
      "15\n",
      "1보다 큽니다!\n",
      "정답입니다!\n",
      "2번 만에 맞춘 당신은 천재!\n"
     ]
    }
   ],
   "source": [
    "# 랜덤 숫자 맞추기 게임\n",
    "x = rd.randrange(1,21)\n",
    "n = -999\n",
    "count = 0\n",
    "print(x)\n",
    "while x!=n:\n",
    "    n = int(input('1~20까지의 숫자를 입력하세요 :'))\n",
    "    count += 1\n",
    "    if x < n:\n",
    "        print(f'{n}보다 작습니다!')\n",
    "    elif x > n :\n",
    "        print(f'{n}보다 큽니다!')\n",
    "\n",
    "print('정답입니다!')\n",
    "if count >= 7:\n",
    "    print(f'{count}번 만에 맞추다니 쩝쩝...')\n",
    "elif count >= 3:\n",
    "    print(f'{count}번 만에 맞추셨네요. 잘했어요^^')\n",
    "else:\n",
    "    print(f'{count}번 만에 맞춘 당신은 천재!')\n"
   ]
  },
  {
   "cell_type": "markdown",
   "metadata": {},
   "source": [
    "5. log(1)에서 log(300)까지 밑을 e로 하는 log() 값을 구하여 출력하여라. 이때 간격 값은 30으로 하여 출력하여라."
   ]
  },
  {
   "cell_type": "code",
   "execution_count": 4,
   "metadata": {},
   "outputs": [
    {
     "name": "stdout",
     "output_type": "stream",
     "text": [
      "log(   1) = 0.0\n",
      "log(  31) = 3.434\n",
      "log(  61) = 4.111\n",
      "log(  91) = 4.511\n",
      "log( 121) = 4.796\n",
      "log( 151) = 5.017\n",
      "log( 181) = 5.198\n",
      "log( 211) = 5.352\n",
      "log( 241) = 5.485\n",
      "log( 271) = 5.602\n"
     ]
    }
   ],
   "source": [
    "import math as m\n",
    "for i in range(1,301,30):\n",
    "    print(f'log( {i:3}) = {round(m.log(i),3)}')"
   ]
  },
  {
   "cell_type": "markdown",
   "metadata": {},
   "source": [
    "6.\t춘향이와 몽룡이는 2019년 2월 24일 발렌타인데이에 연애를 시작했다. 오늘은 두사람의 연애 시작일로부터 며칠이 경과하였는가? Datetime 모듈을 사용하고 오늘날짜 date.today()를 통해 받아와서 오늘날짜, 연애를 시작한 날짜와 경과한 날짜, 기념일을 다음과 같이 출력하여라."
   ]
  },
  {
   "cell_type": "code",
   "execution_count": 24,
   "metadata": {},
   "outputs": [
    {
     "name": "stdout",
     "output_type": "stream",
     "text": [
      "오늘은 2022년 10월 17일입니다.\n",
      "춘향이와 몽룡이의 연애 시작일 : 2019년 2월 24일\n",
      "연애 시작일로부터 경과한 날짜 : 1331일\n",
      "100일 기념일 : 2019년 6월 3일\n",
      "200일 기념일 : 2019년 9월 11일\n",
      "500일 기념일 : 2020년 7월 7일\n",
      "1000일 기념일 : 2021년 11월 19일\n"
     ]
    }
   ],
   "source": [
    "import datetime as dt\n",
    "\n",
    "d_day = dt.datetime(2019,2,24)\n",
    "today = dt.datetime.now()\n",
    "d_plus = today - d_day          # 현재시간 - 만난날\n",
    "h = dt.timedelta(days=99)      # 100일 기념일 계산시 -1 하는 것 잊지 않기\n",
    "h2 = dt.timedelta(days=199)     # 200일\n",
    "h5 = dt.timedelta(days=499)     # 500일\n",
    "h10 = dt.timedelta(days=999)   # 1000일\n",
    "\n",
    "print(f'오늘은 {today.year}년 {today.month}월 {today.day}일입니다.')\n",
    "print(f'춘향이와 몽룡이의 연애 시작일 : {d_day.year}년 {d_day.month}월 {d_day.day}일')\n",
    "print(f'연애 시작일로부터 경과한 날짜 : {d_plus.days}일')\n",
    "print(f'100일 기념일 : {(d_day+h).year}년 {(d_day+h).month}월 {(d_day+h).day}일')\n",
    "print(f'200일 기념일 : {(d_day+h2).year}년 {(d_day+h2).month}월 {(d_day+h2).day}일')\n",
    "print(f'500일 기념일 : {(d_day+h5).year}년 {(d_day+h5).month}월 {(d_day+h5).day}일')\n",
    "print(f'1000일 기념일 : {(d_day+h10).year}년 {(d_day+h10).month}월 {(d_day+h10).day}일')"
   ]
  },
  {
   "cell_type": "markdown",
   "metadata": {},
   "source": [
    "7.\t1부터 1,000,000까지 정수의 합을 구하여 반환하는 함수 sum1to1000000()을 작성하고 함수를 100번 호출하여 함수 수행 시간을 다음과 같이 초단위로 구하여 출력하여라. (소수점 4자리까지 표현할 것.)"
   ]
  },
  {
   "cell_type": "code",
   "execution_count": 2,
   "metadata": {},
   "outputs": [
    {
     "name": "stdout",
     "output_type": "stream",
     "text": [
      "1에서 1,000,000까지의 합을 100번 반복해서 구하는 시간: 3.68379282951355초\n"
     ]
    }
   ],
   "source": [
    "import time\n",
    "# 함수 구현\n",
    "def sum1to1000000():\n",
    "    sum = 0\n",
    "    for _ in range(1,1000001):\n",
    "        sum+=1\n",
    "    return sum\n",
    "\n",
    "# 시간 측정 시작\n",
    "start_time = time.time()\n",
    "for _ in range(100):\n",
    "    sum1to1000000()\n",
    "# 시간 측정 종료    \n",
    "end_time = time.time()\n",
    "\n",
    "print(f'1에서 1,000,000까지의 합을 100번 반복해서 구하는 시간: {end_time - start_time:5}초')"
   ]
  },
  {
   "cell_type": "markdown",
   "metadata": {},
   "source": [
    "8.\t다음과 같은 함수를 작성하고 100번 반복하여 함수 수행 시간을 다음과 같이 초단위로 구하여 출력하여라\n",
    "(1)1000 팩토리얼을 구하는 함수"
   ]
  },
  {
   "cell_type": "code",
   "execution_count": 44,
   "metadata": {},
   "outputs": [
    {
     "name": "stdout",
     "output_type": "stream",
     "text": [
      "1000!을 100번 반복해서 구하는 시간(iterative): 0.03371초\n",
      "1000!을 100번 반복해서 구하는 시간(recursive): 0.04028초\n",
      "1000!을 100번 반복해서 구하는 시간(math.factorial): 0.008033초\n"
     ]
    }
   ],
   "source": [
    "import math\n",
    "import time\n",
    "# 반복문을 이용한 팩토리얼 함수\n",
    "def iterative_factorial(n):\n",
    "    result = 1\n",
    "    for i in range(1, n+1):\n",
    "        result *= i\n",
    "    return result\n",
    "\n",
    "# 재귀함수를 통한 팩토리얼 함수\n",
    "def recursive_factorial(n):\n",
    "    if n <= 1:\n",
    "        return 1\n",
    "    return n * recursive_factorial(n-1)\n",
    "\n",
    "# 결과 확인\n",
    "# print(iterative_factorial(1000))\n",
    "# print(recursive_factorial(1000))\n",
    "# print(math.factorial(1000))\n",
    "\n",
    "# 시간 측정(1) - iterative\n",
    "start_time = time.time()\n",
    "for _ in range(100):\n",
    "    iterative_factorial(1000)\n",
    "end_time = time.time()\n",
    "print(f'1000!을 100번 반복해서 구하는 시간(iterative):{end_time - start_time: 0.4}초')\n",
    "\n",
    "# 시간 측정(2) - recursive\n",
    "start_time = time.time()\n",
    "for _ in range(100):\n",
    "    recursive_factorial(1000)\n",
    "end_time = time.time()\n",
    "print(f'1000!을 100번 반복해서 구하는 시간(recursive):{end_time - start_time: 0.4}초')\n",
    "\n",
    "# 시간 측정(3) - math 클래스의 factorial 내장 함수 사용\n",
    "start_time = time.time()\n",
    "for _ in range(100):\n",
    "    math.factorial(1000)\n",
    "end_time = time.time()\n",
    "print(f'1000!을 100번 반복해서 구하는 시간(math.factorial):{end_time - start_time: 0.4}초')\n",
    "\n",
    "\n",
    "# 1000!을 100번 반복해서 구하는 시간(iterative): 0.03371초\n",
    "# 1000!을 100번 반복해서 구하는 시간(recursive): 0.04028초\n",
    "# 1000!을 100번 반복해서 구하는 시간(math.factorial): 0.008033초\n",
    "# -> 내장함수 > 반복 > 재귀"
   ]
  },
  {
   "cell_type": "markdown",
   "metadata": {},
   "source": [
    "(2)1에서 1000까지의 모든 홀수를 세제곱하여 더한 값을 반환하는 함수"
   ]
  },
  {
   "cell_type": "code",
   "execution_count": 28,
   "metadata": {},
   "outputs": [
    {
     "name": "stdout",
     "output_type": "stream",
     "text": [
      "1에서 1000까지 홀수의 세제곱 더하기 결과: 124999750000\n"
     ]
    }
   ],
   "source": [
    "def sum_pow3_odd():\n",
    "    result = 0\n",
    "    for i in range(1,1001,2):   # 조건문보단 step을 주는 것이 반복 횟수를 줄임\n",
    "        result += i**3\n",
    "    return result\n",
    "\n",
    "print(f'1에서 1000까지 홀수의 세제곱 더하기 결과: {sum_pow3_odd()}')\n"
   ]
  },
  {
   "cell_type": "markdown",
   "metadata": {},
   "source": [
    "(3) 1도에서 360도까지의 sin값을 1도 단위로 구하여 그 합을 반환하는 함수"
   ]
  },
  {
   "cell_type": "code",
   "execution_count": 31,
   "metadata": {},
   "outputs": [
    {
     "name": "stdout",
     "output_type": "stream",
     "text": [
      "1에서 360도까지 sin값의 합: 5.6739471402033955e-15\n",
      "1에서 360도까지 sin값 더하기를 100번 반복하는 시간: 0.008389초\n"
     ]
    }
   ],
   "source": [
    "def calc_sin():\n",
    "    result = 0\n",
    "    for i in range(1,361):\n",
    "        result += m.sin(m.radians(i))\n",
    "    return result\n",
    "\n",
    "print(f'1에서 360도까지 sin값의 합: {calc_sin()}')\n",
    "\n",
    "start_time = time.time()\n",
    "for _ in range(100):\n",
    "    calc_sin()\n",
    "end_time = time.time()\n",
    "print(f'1에서 360도까지 sin값 더하기를 100번 반복하는 시간:{end_time - start_time: 0.4}초')"
   ]
  },
  {
   "cell_type": "markdown",
   "metadata": {},
   "source": [
    "9.\t0부터 1,000,000까지의 임의의 정수를 10개 연속적으로 출력하는 의사난수 함수 myRand()를 생성하여라."
   ]
  },
  {
   "cell_type": "code",
   "execution_count": 46,
   "metadata": {},
   "outputs": [
    {
     "name": "stdout",
     "output_type": "stream",
     "text": [
      "979727\n",
      "590001\n",
      "371615\n",
      "342979\n",
      "121847\n",
      "580641\n",
      "851744\n",
      "290350\n",
      "396862\n",
      "276622\n"
     ]
    }
   ],
   "source": [
    "import random as rd\n",
    "def myRand():\n",
    "    for i in [rd.randrange(1,1000001) for i in range(10)]:\n",
    "        print(i)\n",
    "\n",
    "myRand()"
   ]
  },
  {
   "cell_type": "code",
   "execution_count": null,
   "metadata": {},
   "outputs": [],
   "source": []
  },
  {
   "cell_type": "markdown",
   "metadata": {},
   "source": [
    "10.\tmath 모듈을 사용하여 0도에서 180도까지 10도 단위로 sin, cos, tan 값을 구하여 다음과 같이 출력하여라."
   ]
  },
  {
   "cell_type": "code",
   "execution_count": 58,
   "metadata": {},
   "outputs": [
    {
     "name": "stdout",
     "output_type": "stream",
     "text": [
      "sin(  0) = 0.000, cos(  0) =  1.000, tan(  0) = 0.000\n",
      "sin( 10) = 0.174, cos( 10) =  0.985, tan( 10) = 0.176\n",
      "sin( 20) = 0.342, cos( 20) =  0.940, tan( 20) = 0.364\n",
      "sin( 30) = 0.500, cos( 30) =  0.866, tan( 30) = 0.577\n",
      "sin( 40) = 0.643, cos( 40) =  0.766, tan( 40) = 0.839\n",
      "sin( 50) = 0.766, cos( 50) =  0.643, tan( 50) = 1.192\n",
      "sin( 60) = 0.866, cos( 60) =  0.500, tan( 60) = 1.732\n",
      "sin( 70) = 0.940, cos( 70) =  0.342, tan( 70) = 2.747\n",
      "sin( 80) = 0.985, cos( 80) =  0.174, tan( 80) = 5.671\n",
      "sin( 90) = 1.000, cos( 90) =  0.000, tan( 90) = 16331239353195370.000\n",
      "sin(100) = 0.985, cos(100) = -0.174, tan(100) = -5.671\n",
      "sin(110) = 0.940, cos(110) = -0.342, tan(110) = -2.747\n",
      "sin(120) = 0.866, cos(120) = -0.500, tan(120) = -1.732\n",
      "sin(130) = 0.766, cos(130) = -0.643, tan(130) = -1.192\n",
      "sin(140) = 0.643, cos(140) = -0.766, tan(140) = -0.839\n",
      "sin(150) = 0.500, cos(150) = -0.866, tan(150) = -0.577\n",
      "sin(160) = 0.342, cos(160) = -0.940, tan(160) = -0.364\n",
      "sin(170) = 0.174, cos(170) = -0.985, tan(170) = -0.176\n",
      "sin(180) = 0.000, cos(180) = -1.000, tan(180) = -0.000\n"
     ]
    }
   ],
   "source": [
    "for i in range(0,181,10):\n",
    "    print(f'sin({i:3}) = {m.sin(m.radians(i)):0.3f}, cos({i:3}) ={m.cos(m.radians(i)):7.3f}, tan({i:3}) = {m.tan(m.radians(i)):0.3f}')"
   ]
  }
 ],
 "metadata": {
  "kernelspec": {
   "display_name": "Python 3.10.6 64-bit",
   "language": "python",
   "name": "python3"
  },
  "language_info": {
   "codemirror_mode": {
    "name": "ipython",
    "version": 3
   },
   "file_extension": ".py",
   "mimetype": "text/x-python",
   "name": "python",
   "nbconvert_exporter": "python",
   "pygments_lexer": "ipython3",
   "version": "3.10.6"
  },
  "orig_nbformat": 4,
  "vscode": {
   "interpreter": {
    "hash": "20c9d94bea3bcd43e69d1e5f02ce962985699c48de0c68502218d203d4c4e41a"
   }
  }
 },
 "nbformat": 4,
 "nbformat_minor": 2
}
