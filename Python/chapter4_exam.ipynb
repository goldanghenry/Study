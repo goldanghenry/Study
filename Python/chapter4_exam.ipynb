{
 "cells": [
  {
   "cell_type": "markdown",
   "metadata": {},
   "source": [
    "## Chapter4 exam"
   ]
  },
  {
   "cell_type": "markdown",
   "metadata": {},
   "source": [
    "### 1. class"
   ]
  },
  {
   "cell_type": "code",
   "execution_count": 1,
   "metadata": {},
   "outputs": [
    {
     "name": "stdout",
     "output_type": "stream",
     "text": [
      "1198859288880\n"
     ]
    }
   ],
   "source": [
    "a=3\n",
    "print(id(a))"
   ]
  },
  {
   "cell_type": "code",
   "execution_count": 2,
   "metadata": {},
   "outputs": [
    {
     "name": "stdout",
     "output_type": "stream",
     "text": [
      "안녕하세요 홍길동 씨\n",
      "안녕하세요 양만춘 씨\n",
      "안녕하세요 이순신 씨\n"
     ]
    }
   ],
   "source": [
    "# arbitrary argument\n",
    "def greet(*names):\n",
    "    for name in names:\n",
    "        print('안녕하세요', name, '씨')\n",
    "\n",
    "greet('홍길동', '양만춘', '이순신')"
   ]
  },
  {
   "cell_type": "markdown",
   "metadata": {},
   "source": [
    "### 2. 점프 투 파이썬 : 함수\n",
    "- https://wikidocs.net/24"
   ]
  },
  {
   "cell_type": "markdown",
   "metadata": {},
   "source": [
    "1. 최소 두 가지 방법을 사용해 함수 안에서 함수 밖의 변수 a의 값을 변경하라. "
   ]
  },
  {
   "cell_type": "code",
   "execution_count": 3,
   "metadata": {},
   "outputs": [
    {
     "name": "stdout",
     "output_type": "stream",
     "text": [
      "1\n",
      "3\n",
      "4\n"
     ]
    }
   ],
   "source": [
    "a = 1\n",
    "\n",
    "# Method1 : use return\n",
    "def changeValue():\n",
    "    a = 3\n",
    "    return a\n",
    "\n",
    "print(a)\n",
    "a = changeValue()\n",
    "print(a)\n",
    "\n",
    "# Method2 : Use global commands\n",
    "def useGlobal():\n",
    "    global a\n",
    "    a += 1\n",
    "\n",
    "useGlobal()\n",
    "print(a)"
   ]
  },
  {
   "cell_type": "markdown",
   "metadata": {},
   "source": [
    "2. 위의 문제를 lambda를 이용해 해결하라"
   ]
  },
  {
   "cell_type": "code",
   "execution_count": 8,
   "metadata": {},
   "outputs": [
    {
     "name": "stdout",
     "output_type": "stream",
     "text": [
      "4\n"
     ]
    }
   ],
   "source": [
    "# lambda is a reserved word used when creating a function and plays the same role as def.\n",
    "a = 1\n",
    "changeValue = lambda a:a+3 \n",
    "a = changeValue(a)\n",
    "print(a) "
   ]
  },
  {
   "cell_type": "markdown",
   "metadata": {},
   "source": [
    "### 3. 점프 투 파이썬 : 사용자 입력과 출력\n",
    "- https://wikidocs.net/25"
   ]
  },
  {
   "cell_type": "markdown",
   "metadata": {},
   "source": [
    "1. print()함수를 이용해 lifeistoo short를 4가지 방법으로 사용해라. <br>단 \"\" 외에 추가로 한가지 문자(연산자 또는 ,)만 사용할 수 있다."
   ]
  },
  {
   "cell_type": "code",
   "execution_count": 9,
   "metadata": {},
   "outputs": [
    {
     "name": "stdout",
     "output_type": "stream",
     "text": [
      "lifeistoo short\n",
      "lifeistoo short\n",
      "lifeistoo short\n",
      "lifeistoo short\n"
     ]
    }
   ],
   "source": [
    "print(\"lifeistoo short\")\n",
    "print(\"lifeistoo\",\"short\")\n",
    "print(\"life\"\"is\"\"too short\")\n",
    "print(\"life\"+\"is\"+\"too short\")"
   ]
  },
  {
   "cell_type": "markdown",
   "metadata": {},
   "source": [
    "2. 사용자로부터 n, m 입력을 받아 1으로 초기화된 n X m 리스트를 생성해 출력하라.<br>\n",
    "단, list를 초기화할 때는 list comprehesion을 사용하고, 입력을 받을 때는 list(), map()을 사용하라."
   ]
  },
  {
   "cell_type": "code",
   "execution_count": 12,
   "metadata": {},
   "outputs": [
    {
     "name": "stdout",
     "output_type": "stream",
     "text": [
      "[[1, 1, 1, 1], [1, 1, 1, 1], [1, 1, 1, 1]]\n"
     ]
    }
   ],
   "source": [
    "n,m = list(map(int, input('n과 m을 입력해주세요 :').split()))\n",
    "lst = [ [1 for j in range(m)] for i in range(n) ]   # list comprehension\n",
    "print(lst)"
   ]
  },
  {
   "cell_type": "markdown",
   "metadata": {},
   "source": [
    "### 4. 코딩도장 : Unit 29"
   ]
  },
  {
   "cell_type": "markdown",
   "metadata": {},
   "source": [
    "1. x를 y로 나누었을 때, 몫과 나머지를 구하는 함수 만들기"
   ]
  },
  {
   "cell_type": "code",
   "execution_count": 16,
   "metadata": {},
   "outputs": [
    {
     "name": "stdout",
     "output_type": "stream",
     "text": [
      "(3, 1)\n"
     ]
    }
   ],
   "source": [
    "def getdivide(x,y):\n",
    "    return (x//y), (x%y)\n",
    "x = 10\n",
    "y = 3\n",
    "\n",
    "print(getdivide(x,y))"
   ]
  },
  {
   "cell_type": "markdown",
   "metadata": {},
   "source": [
    "2. 표준 입력으로 숫자 두 개가 입력된다. 다음 소스 코드를 완성하여 두 숫자의 덧셈, 뻴셈, 곱셈, 나눗셈의 결과가 출력되게 만들어라. 이때 나눗셈의 결과는 실수이다."
   ]
  },
  {
   "cell_type": "code",
   "execution_count": 19,
   "metadata": {},
   "outputs": [
    {
     "name": "stdout",
     "output_type": "stream",
     "text": [
      "덧셈: 48, 뺄셈: 32, 곱셈: 320, 나눗셈: 5.0\n"
     ]
    }
   ],
   "source": [
    "def calc(x,y):\n",
    "    return x+y, x-y, x*y, round(x/y,1)  # print to one decimal place\n",
    "\n",
    "x, y = map(int, input().split())\n",
    "a, s, m, d = calc(x, y)\n",
    "print('덧셈: {0}, 뺄셈: {1}, 곱셈: {2}, 나눗셈: {3}'.format(a, s, m, d))"
   ]
  },
  {
   "cell_type": "markdown",
   "metadata": {},
   "source": [
    "### 5. 코딩도장 : Unit 30"
   ]
  },
  {
   "cell_type": "markdown",
   "metadata": {},
   "source": [
    "1. 가장 높은 점수를 구하는 함수 만들기"
   ]
  },
  {
   "cell_type": "code",
   "execution_count": 17,
   "metadata": {},
   "outputs": [
    {
     "name": "stdout",
     "output_type": "stream",
     "text": [
      "가장 높은 점수는? \n",
      " 100\n"
     ]
    }
   ],
   "source": [
    "def getMax(*subject):   # arbitrary parameter\n",
    "    return max(subject)\n",
    "\n",
    "korean, english, mathematics, science = 100, 86, 81, 91\n",
    "print('가장 높은 점수는? \\n',getMax(korean, english, mathematics, science))"
   ]
  },
  {
   "cell_type": "markdown",
   "metadata": {},
   "source": [
    "2. 가장 높은 점수를 구하는 함수 만들기<br>\n",
    "표준 입력으로 국어, 영어, 수학, 과학 점수가 입력됩니다. 다음 소스 코드를 완성하여 가장 높은 점수, 가장 낮은 점수, 평균 점수가 출력되게 만드세요. 평균 점수는 실수로 출력되어야 합니다."
   ]
  },
  {
   "cell_type": "code",
   "execution_count": 26,
   "metadata": {},
   "outputs": [
    {
     "name": "stdout",
     "output_type": "stream",
     "text": [
      "낮은 점수: 73.00, 높은 점수: 92.00, 평균 점수: 84.25\n",
      "낮은 점수: 83.00, 높은 점수: 92.00, 평균 점수: 87.50\n"
     ]
    }
   ],
   "source": [
    "def get_min_max_score(*subjects):\n",
    "    return min(subjects), max(subjects)\n",
    "def get_average(korean=0, english=0,mathematics=0,science=0):   # set default value\n",
    "    count = 0 # count non-zero\n",
    "    result = 0\n",
    "    lst = [korean,english,mathematics,science ]\n",
    "    for ls in lst:\n",
    "        if ls != 0:\n",
    "            count += 1\n",
    "            result += ls\n",
    "    return round(result / count, 2)\n",
    "\n",
    "korean, english, mathematics, science = map(int, input().split())\n",
    "\n",
    "min_score, max_score = get_min_max_score(korean, english, mathematics, science)\n",
    "average_score = get_average(korean=korean, english=english, mathematics=mathematics, science=science)\n",
    "print('낮은 점수: {0:.2f}, 높은 점수: {1:.2f}, 평균 점수: {2:.2f}'.format(min_score, max_score, average_score))\n",
    " \n",
    "min_score, max_score = get_min_max_score(english, science)\n",
    "average_score = get_average(english=english, science=science)\n",
    "print('낮은 점수: {0:.2f}, 높은 점수: {1:.2f}, 평균 점수: {2:.2f}'.format(min_score, max_score, average_score))"
   ]
  },
  {
   "cell_type": "markdown",
   "metadata": {},
   "source": [
    "3. 'dog', 'cat', 'horse', 'chicken' Arguments로 들어올 때, 각각 '월월!', '애용~', '히힝~','꼬꼬꼬'를 출력하는 함수를 만들어라.\n",
    "단, 매개변수로 몇개가 들어올지는 모른다."
   ]
  },
  {
   "cell_type": "code",
   "execution_count": 15,
   "metadata": {},
   "outputs": [
    {
     "name": "stdout",
     "output_type": "stream",
     "text": [
      "월월!\n",
      "애용~\n",
      "히힝~\n"
     ]
    }
   ],
   "source": [
    "def barkAnimals(*animals):\n",
    "    for ani in animals:\n",
    "        if ani == 'dog':\n",
    "            print('월월!')\n",
    "        elif ani == 'cat':\n",
    "            print('애용~')\n",
    "        elif ani == 'horse':\n",
    "            print('히힝~')\n",
    "        elif ani == 'chicken':\n",
    "            print('꼬꼬꼬')\n",
    "\n",
    "barkAnimals('dog', 'cat')\n",
    "barkAnimals('horse')"
   ]
  },
  {
   "cell_type": "markdown",
   "metadata": {},
   "source": [
    "### 6. 코딩도장 : Unit 31"
   ]
  },
  {
   "cell_type": "markdown",
   "metadata": {},
   "source": [
    "1. 다음 소스 코드를 완성하여 문자열이 회문인지 판별하고 결과를 True, False로 출력되게 만드세요. 여기서는 재귀호출을 사용해야 합니다."
   ]
  },
  {
   "cell_type": "code",
   "execution_count": 27,
   "metadata": {},
   "outputs": [
    {
     "name": "stdout",
     "output_type": "stream",
     "text": [
      "False\n",
      "True\n"
     ]
    }
   ],
   "source": [
    "def is_palindrome(word):\n",
    "    if len(word) < 2:\n",
    "        return True\n",
    "    if word[0] != word[-1]:\n",
    "        return False\n",
    "    return is_palindrome(word[1:-1])\n",
    "                                    \n",
    " \n",
    "print(is_palindrome('hello'))\n",
    "print(is_palindrome('level'))"
   ]
  },
  {
   "cell_type": "markdown",
   "metadata": {},
   "source": [
    "2. 재귀 호출로 피보나치 수 구하기"
   ]
  },
  {
   "cell_type": "code",
   "execution_count": 41,
   "metadata": {},
   "outputs": [
    {
     "name": "stdout",
     "output_type": "stream",
     "text": [
      "6765\n"
     ]
    }
   ],
   "source": [
    "def fibo(n):\n",
    "    if n ==0:   # end condition\n",
    "        return 0\n",
    "    elif n == 1 or n==2:\n",
    "        return 1\n",
    "    return fibo(n-1)+fibo(n-2)\n",
    "\n",
    "n = int(input())    # 20\n",
    "print(fibo(n))"
   ]
  },
  {
   "cell_type": "markdown",
   "metadata": {},
   "source": [
    "### 7. docs.python.org : Defining Functions"
   ]
  },
  {
   "cell_type": "markdown",
   "metadata": {},
   "source": [
    "1. n보다 작고, 짝수(even number)인 피보나치 수열을 출력하는 함수를 만들어라!"
   ]
  },
  {
   "cell_type": "code",
   "execution_count": 42,
   "metadata": {},
   "outputs": [
    {
     "name": "stdout",
     "output_type": "stream",
     "text": [
      "0 2 8 34 144 610 "
     ]
    }
   ],
   "source": [
    "def fibo_even(n):\n",
    "    a,b=0,1 # init\n",
    "    while a < n:\n",
    "        if a%2 == 0:    # check even\n",
    "            print(a, end=' ')\n",
    "        a,b = b, a+b    # next num is pre_num + current_num\n",
    "\n",
    "n = int(input('n을 입력하라'))  # Input num is 2000\n",
    "fibo_even(n)"
   ]
  },
  {
   "cell_type": "markdown",
   "metadata": {},
   "source": [
    "### 8. docs.python.org : More on Defining Functions"
   ]
  },
  {
   "cell_type": "code",
   "execution_count": 51,
   "metadata": {},
   "outputs": [
    {
     "name": "stdout",
     "output_type": "stream",
     "text": [
      "-- Do you have any Limburger ?\n",
      "-- I'm sorry, we're all out of Limburger\n",
      "It's very runny, sir.\n",
      "It's really very, VERY runny, sir.\n",
      "----------------------------------------\n",
      "<class 'tuple'>\n",
      "keywords 확인 :  {'shopkeeper': 'Michael Palin', 'client': 'John Cleese', 'sketch': 'Cheese Shop Sketch'}\n",
      "----------------------------------------\n",
      "shopkeeper : Michael Palin\n",
      "client : John Cleese\n",
      "sketch : Cheese Shop Sketch\n"
     ]
    }
   ],
   "source": [
    "# 여러 개의 arguments를 받을 때는 * 하나 \n",
    "#  -> 사용할 때는 반복문으로\n",
    "# 여러 개의 keywords arguments를 받을 때는 ** 두개! \n",
    "#  -> dict 형식으로 들어감, key는 for kw in keywords의 kw, value를 얻을 때는 keywords[kw]\n",
    "\n",
    "def cheeseshop(kind, *arguments, **keywords):\n",
    "    print(\"-- Do you have any\", kind, \"?\")\n",
    "    print(\"-- I'm sorry, we're all out of\", kind)\n",
    "    for arg in arguments:\n",
    "        print(arg)\n",
    "    print(\"-\" * 40)\n",
    "    # print(type(arguments)) -> Type of arguments is Tuple\n",
    "    print('keywords 확인 : ', keywords)\n",
    "    print(\"-\" * 40)\n",
    "\n",
    "    for kw in keywords:\n",
    "        print(kw, \":\", keywords[kw])\n",
    "\n",
    "cheeseshop(\"Limburger\", \"It's very runny, sir.\",\n",
    "           \"It's really very, VERY runny, sir.\",\n",
    "           shopkeeper=\"Michael Palin\",\n",
    "           client=\"John Cleese\",\n",
    "           sketch=\"Cheese Shop Sketch\")"
   ]
  },
  {
   "cell_type": "markdown",
   "metadata": {},
   "source": [
    "### 9. QUIZ : 1st\n",
    "Each new term in the Fibonacci sequence is generated by adding the previous two terms. By starting with 1 and 2, the first 10 terms will be:\n",
    "\n",
    "1, 2, 3, 5, 8, 13, 21, 34, 55, 89, ...\n",
    "\n",
    "By considering the terms in the Fibonacci sequence whose values do not exceed four million, find the sum of the even-valued terms."
   ]
  },
  {
   "cell_type": "code",
   "execution_count": 52,
   "metadata": {},
   "outputs": [
    {
     "name": "stdout",
     "output_type": "stream",
     "text": [
      "4613732\n"
     ]
    }
   ],
   "source": [
    "# Use dynamic programming(bottom-up). Because recursion(top-down) takes a lot of time.\n",
    "# This method uses additional memory.\n",
    "n = 100     # The maximum number of terms is 100\n",
    "d = [0] * (n+1) # init\n",
    "d[0],d[1] = 1,1\n",
    "\n",
    "result = 0\n",
    "for i in range(2,n+1):  # until n\n",
    "    d[i] = d[i-1]+d[i-2]\n",
    "    if d[i] > 4000000:  # The end condition\n",
    "        break;\n",
    "    elif d[i]%2==0:     # even number\n",
    "        result += d[i]\n",
    "\n",
    "print(result)\n"
   ]
  }
 ],
 "metadata": {
  "kernelspec": {
   "display_name": "Python 3.10.6 64-bit",
   "language": "python",
   "name": "python3"
  },
  "language_info": {
   "codemirror_mode": {
    "name": "ipython",
    "version": 3
   },
   "file_extension": ".py",
   "mimetype": "text/x-python",
   "name": "python",
   "nbconvert_exporter": "python",
   "pygments_lexer": "ipython3",
   "version": "3.10.6"
  },
  "orig_nbformat": 4,
  "vscode": {
   "interpreter": {
    "hash": "20c9d94bea3bcd43e69d1e5f02ce962985699c48de0c68502218d203d4c4e41a"
   }
  }
 },
 "nbformat": 4,
 "nbformat_minor": 2
}
