{
 "cells": [
  {
   "cell_type": "markdown",
   "metadata": {},
   "source": [
    "## chapter 6"
   ]
  },
  {
   "cell_type": "markdown",
   "metadata": {},
   "source": [
    "### 6.1\n",
    "튜플 데이터를 이용하면 임시변수를 사용하지 않고 두 변수의 값을 서로 교환(swap)할 수 있다. 이 교환 방법을 이용하여 다음과 같이 주어진 리스트에서 가장 큰 값 12를 제일 마지막으로 옮겨 놓는 프로그램을 작성해 보라.(제약조건: 리스트의 요소를 살펴보기 위해 사용하는 for 문의 인덱스 변수 i를 제외하고는, 주어진 리스트 이외에 다른 어떤 변수도 추가로 사용해서는 안 된다.)"
   ]
  },
  {
   "cell_type": "code",
   "execution_count": 6,
   "metadata": {},
   "outputs": [
    {
     "name": "stdout",
     "output_type": "stream",
     "text": [
      "before : [5, 6, 3, 9, 2, 12, 3, 8, 7]\n",
      "after = [5, 6, 3, 9, 2, 7, 3, 8, 12]\n"
     ]
    }
   ],
   "source": [
    "before = [5,6,3,9,2,12,3,8,7]\n",
    "print('before :', before)\n",
    "for i in range(len(before)):\n",
    "    if before[i] ==12:\n",
    "        (before[i],before[len(before)-1]) = (before[len(before)-1],before[i])\n",
    "print('after =', before)"
   ]
  },
  {
   "cell_type": "markdown",
   "metadata": {},
   "source": [
    "### 6.2\n",
    "1번을 개선하여 처음에는 가장 큰 수를 제일 마지막으로 옮기고, 두번째 단계는 끝으로 옮겨진 요소를 제외한 리스트에서 가장 큰 수를 뒤에서 두 번째 위치로 옮기며, 세 번째 단계에서는 뒤의 두 요소를 제외한 나머지 리스트에서 가장 큰 수를 뒤에서 세 번째로 옮긴다. 이를 일반화 하면 k번째 단계에서는 뒤에서 k-1개 요소를 제외하고, 남은 리스트에서 가장 큰 요소를 뒤에서부터 k번째 위치에 옮겨 놓는 일을 처리할 리스트가 남지 않을 때까지 반복하면 큰 수부터 차례로 뒤에 쌓이게 된다. 이를 거품(bubble) 정렬이라고 한다. 이를 구현해보라.\n",
    "<br><br>힌트: sorted() 함수나 리스트의 sort() 메소드를 사용하지 말고 구현하시오.\n"
   ]
  },
  {
   "cell_type": "code",
   "execution_count": 9,
   "metadata": {},
   "outputs": [
    {
     "name": "stdout",
     "output_type": "stream",
     "text": [
      "주어진 리스트는 : [5, 6, 3, 9, 2, 12, 3, 8, 7]\n",
      "정렬된 결과는 = [2, 3, 3, 5, 6, 7, 8, 9, 12]\n"
     ]
    }
   ],
   "source": [
    "before = [5,6,3,9,2,12,3,8,7]\n",
    "print('주어진 리스트는 :', before)\n",
    "for i in range(len(before)):\n",
    "    for j in range(0,len(before)-1):\n",
    "        if before[j] > before[j+1]:\n",
    "            before[j],before[j+1] = before[j+1],before[j]\n",
    "print('정렬된 결과는 =', before)"
   ]
  },
  {
   "cell_type": "markdown",
   "metadata": {},
   "source": [
    "### 6.3\n",
    "어떤 문자열을 뒤집었을 때에 원래의 문자열과 같은 것을 회문(palindrome)이라고 한다. 예를 들어 ‘mom’은 문자열을 뒤집어도 ‘mom’이 되므로 회문이다. 사용자로부터 임의의 문자열이나 문장을 입력받아서 이 문자열이 회문인지 아닌지 검사하는 코드를 작성하라. 입력으로는 다음과 같은 영문자를 입력으로 받으며, 대문자와 소문자, 공백, 마침표 등은 무시하도록 구현하라."
   ]
  },
  {
   "cell_type": "code",
   "execution_count": 30,
   "metadata": {},
   "outputs": [
    {
     "name": "stdout",
     "output_type": "stream",
     "text": [
      "A nut for a jar of tuna...\n",
      "회문입니다.\n"
     ]
    }
   ],
   "source": [
    "def palindrome(str):\n",
    "    print(str)\n",
    "    # 소문자로 변경\n",
    "    str = str.lower()\n",
    "    # 리스트로 변경\n",
    "    str = list(str) \n",
    "    # 공백 삭제\n",
    "    temp =[]\n",
    "    for i in range(len(str)-1):\n",
    "        if str[i] != ' ' and str[i] != '.' and str[i] != ',':\n",
    "            temp.append(str[i])\n",
    "    for i in range(len(temp)//2):\n",
    "        if temp[i] != temp[-(i+1)]:\n",
    "            print('회문이 아닙니다.')\n",
    "            break\n",
    "    else:\n",
    "        print('회문입니다.')\n",
    "\n",
    "str = input('문자열을 입력하시오 : ')   # \n",
    "palindrome(str)"
   ]
  },
  {
   "cell_type": "markdown",
   "metadata": {},
   "source": [
    "### 6.4\n",
    "영한사전과 같이 영어 단어를 주면, 이에 해당하는 우리말 단어를 알 수 있게 하려고 한다. 딕셔너리 구조를 활용하여 단어를 입력하고, 검색할 수 있는 프로그램을 작성해 보라. 실행된 결과는 명령 프롬프트 ‘$’가 나타나며, 입력 명칭은 ‘<’, 검색 명령은 ‘>’로 표현한다. 입력은 “영어 단어:우리말 단어” 형태로 이루어지며, 검색은 영어 단어를 입력한다. 프로그램의 종료는 ‘q’키를 입력한다. 다음과 같은 실행구조를 가지는 프로그램을 작성하여라."
   ]
  },
  {
   "cell_type": "code",
   "execution_count": 53,
   "metadata": {},
   "outputs": [
    {
     "name": "stdout",
     "output_type": "stream",
     "text": [
      "사전 프로그램 시작... 종료는 q를 입력\n",
      "소년\n",
      "body가 사전에 없습니다.\n",
      "입력오류가 발생했습니다.\n",
      "남자, 사람\n",
      "사전 프로그램을 종료합니다.\n"
     ]
    }
   ],
   "source": [
    "def dic_program():\n",
    "    print('사전 프로그램 시작... 종료는 q를 입력')\n",
    "    n = 'k'\n",
    "    n_dic = {}\n",
    "    while(n!='q'):\n",
    "        # 문자열 전처리(예외처리 -> man:남자, 사람)\n",
    "        n = list(input('$ ').split())   # 뒷 문자열 붙이기\n",
    "        temp = ['','']\n",
    "        for i in range(len(n)):\n",
    "            if i == 0:\n",
    "                temp[0] = n[i]\n",
    "            else:\n",
    "                temp[1] += n[i]\n",
    "        # 쉼표 뒤에 공백 추가를 위해 리스트로 변경\n",
    "        temp[1] = list(temp[1])\n",
    "        for i in range(len(temp[1])):   \n",
    "            if temp[1][i] == ',':\n",
    "                temp[1][i] = ', '\n",
    "        # 이중 리스트를 하나의 문자열로 변경\n",
    "        temp2 = ''\n",
    "        for i in temp[1]:\n",
    "            temp2+=i\n",
    "        temp[1] = temp2\n",
    "\n",
    "        # 종료\n",
    "        if temp[0] == 'q':\n",
    "            print('사전 프로그램을 종료합니다.')\n",
    "            break\n",
    "        # 입력\n",
    "        elif temp[0] == '<': \n",
    "            key_value = list(temp[1].split(':'))   # 키와 값 분리하기\n",
    "            n_dic[key_value[0]] = key_value[1]  # 딕셔너리에 추가하기\n",
    "        # 검색    \n",
    "        elif temp[0] == '>':\n",
    "            if temp[1] in n_dic:\n",
    "                print(n_dic[temp[1]])\n",
    "            else:\n",
    "                print(f'{temp[1]}가 사전에 없습니다.')\n",
    "        # 입력오류\n",
    "        else:\n",
    "            print('입력오류가 발생했습니다.')\n",
    "\n",
    "# 프로그램 시작\n",
    "dic_program()\n"
   ]
  },
  {
   "cell_type": "markdown",
   "metadata": {},
   "source": [
    "### 6.5\n",
    "다음과 같이 튜플 (m, n)을 요소로 가지는 리스트 mylist가 있다. 사용자로부터 a, b의 두 값을 입력으로 받아서 (a, b) 값을 가지는 튜플이 있을 경우 ‘x번째에 (a, b) 요소가 있습니다.’를 출력하시오. 만일 (a, b) 요소는 없으나 (b, a) 요소가 있을 경우, ‘(a, b) 요소는 없으나 y번째에 (b, a) 요소가 있습니다.’를 출력하시오. 만일 (a, b) 요소나 (b, a) 요소가 없을 경우에는 ‘이 요소는 없습니다.’를 출력하시오."
   ]
  },
  {
   "cell_type": "code",
   "execution_count": 59,
   "metadata": {},
   "outputs": [
    {
     "name": "stdout",
     "output_type": "stream",
     "text": [
      "3번째에 (4, 2) 요소가 있습니다.\n",
      "(4, 9) 요소는 없으나 5번째에 (9, 4) 요소가 있습니다.\n",
      "이 요소는 없습니다.\n"
     ]
    }
   ],
   "source": [
    "def Is_in_t():\n",
    "    t_list = [(1,2,), (2,3,), (4,2,),(4,1,),(9,4,) ]\n",
    "    a,b = map(int, input('두 정수를 입력하시오: ').split())\n",
    "    t = (a,b,) \n",
    "    r = (b,a,)\n",
    "    if t in t_list:\n",
    "        print(f'{t_list.index(t)+1}번째에 {t} 요소가 있습니다.')\n",
    "    elif r in t_list:\n",
    "        print(f'{t} 요소는 없으나 {t_list.index(r)+1}번째에 {r} 요소가 있습니다.')\n",
    "    else:\n",
    "        print('이 요소는 없습니다.')\n",
    "\n",
    "Is_in_t()   # 4 2\n",
    "Is_in_t()   # 4 9\n",
    "Is_in_t()   # 7 3"
   ]
  },
  {
   "cell_type": "markdown",
   "metadata": {},
   "source": [
    "### 6.10\n",
    "- 문제 풀이"
   ]
  },
  {
   "cell_type": "code",
   "execution_count": null,
   "metadata": {},
   "outputs": [],
   "source": [
    "tup = 1,2,5,4,3,2,1,4,7,8,9,9,3,7,3\n",
    "temp = sorted(list(tup))"
   ]
  },
  {
   "cell_type": "markdown",
   "metadata": {},
   "source": [
    "6.16"
   ]
  }
 ],
 "metadata": {
  "kernelspec": {
   "display_name": "Python 3.10.6 64-bit",
   "language": "python",
   "name": "python3"
  },
  "language_info": {
   "codemirror_mode": {
    "name": "ipython",
    "version": 3
   },
   "file_extension": ".py",
   "mimetype": "text/x-python",
   "name": "python",
   "nbconvert_exporter": "python",
   "pygments_lexer": "ipython3",
   "version": "3.10.6"
  },
  "orig_nbformat": 4,
  "vscode": {
   "interpreter": {
    "hash": "20c9d94bea3bcd43e69d1e5f02ce962985699c48de0c68502218d203d4c4e41a"
   }
  }
 },
 "nbformat": 4,
 "nbformat_minor": 2
}
