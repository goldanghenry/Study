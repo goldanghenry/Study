{
 "cells": [
  {
   "cell_type": "markdown",
   "metadata": {},
   "source": [
    "## Chapter3 LAB"
   ]
  },
  {
   "cell_type": "markdown",
   "metadata": {},
   "source": [
    "### LAB 3-1 if문의 사용법\n",
    "1. 게임 사용자의 게임점수(game_score)가 1000점 이상이면 '당신은 고수입니다'를 출력하는 프로그램을 if문을 이용하여 작성하시오. <br>\n",
    "이때 다음과 같이 game_score값을 화면에 출력하여라. game_score에 800점, 1300점을 각각 입력하여 출력문을 확인하시오."
   ]
  },
  {
   "cell_type": "code",
   "execution_count": 2,
   "metadata": {},
   "outputs": [
    {
     "name": "stdout",
     "output_type": "stream",
     "text": [
      "game_score = 1300\n",
      "당신은 고수입니다\n"
     ]
    }
   ],
   "source": [
    "game_score = int(input('점수를 입력하세요: '))   # str->int\n",
    "if game_score >= 1000:                          # score가 1000 이상이면\n",
    "    print('game_score =', game_score)\n",
    "    print('당신은 고수입니다')\n",
    "else:                                           # score가 1000 미만이라면\n",
    "    print('game_score =', game_score)\n"
   ]
  },
  {
   "cell_type": "markdown",
   "metadata": {},
   "source": [
    "2. num_a와 mum_b에 할당된 값이 같으면 '두 값이 일치합니다.'를 출력하는 프로그램을 if문을 이용하여 작성하시오<br>\n",
    "num_a와 num_b에 각각 100과 200이 할당되어 있는 경우와 num_a와 num_b에 300과 300이 할당되어 있는 경우에 대하여<br> 각각 코드를 작성하고 출력문을 확인하시오."
   ]
  },
  {
   "cell_type": "code",
   "execution_count": 4,
   "metadata": {},
   "outputs": [
    {
     "name": "stdout",
     "output_type": "stream",
     "text": [
      "num_a = 300, num_b = 300\n",
      "두 값이 일치합니다.\n"
     ]
    }
   ],
   "source": [
    "num_a = 300\n",
    "num_b = 300\n",
    "if num_a == num_b:  # 비교 연산자\n",
    "    print(f'num_a = {num_a}, num_b = {num_b}')  # f-string\n",
    "    print('두 값이 일치합니다.')\n",
    "else:\n",
    "    print(f'num_a = {num_a}, num_b = {num_b}')"
   ]
  },
  {
   "cell_type": "markdown",
   "metadata": {},
   "source": [
    "### LAB 3-2\n",
    "1. 1에서 100사이의 임의의 정수 n을 입력받아서 1) n을 화면에 출력한 후, 2) n이 짝수이면 \"...은(는) 짝수입니다.<br>\"를 다음과 같이 출력하는 프로그램을 작성하여라\n"
   ]
  },
  {
   "cell_type": "code",
   "execution_count": 7,
   "metadata": {},
   "outputs": [
    {
     "name": "stdout",
     "output_type": "stream",
     "text": [
      "n = 75\n"
     ]
    }
   ],
   "source": [
    "n = 0\n",
    "# 1-100 사이의 값만 받도록\n",
    "while(True):\n",
    "    n = int(input('정수를 입력하세요 :'))\n",
    "    if n>=1 and n <=100:    # 비교 연산자 & 논리 연산자\n",
    "        break               # 1-100의 값이 들어왔을 때 break\n",
    "    print('1에서 100사이의 정수를 입력하세요')\n",
    "\n",
    "print('n =', n)\n",
    "if n%2 == 0:\n",
    "    print(n,'은(는) 짝수입니다.')"
   ]
  },
  {
   "cell_type": "markdown",
   "metadata": {},
   "source": [
    "2. -100에서 100사이의 임의의 정수 x를 입력받아서<br>\n",
    "1) x를 화면에 출력한 후,\n",
    "2) x가 0보다 큰 정수이면 '...은(는) 자연수입니다.\"를 다음과 같이 출력하는 프로그램을 작성하여라.<br>\n",
    "그렇지 않을 경우 x = -10과 같이 x를 단순 출력하여라."
   ]
  },
  {
   "cell_type": "code",
   "execution_count": 9,
   "metadata": {},
   "outputs": [
    {
     "name": "stdout",
     "output_type": "stream",
     "text": [
      "x = -10\n"
     ]
    }
   ],
   "source": [
    "n = 0\n",
    "# -100 ~ 100 사이 값만 받도록\n",
    "while(True):\n",
    "    n = int(input('정수를 입력하세요 :'))\n",
    "    if n>=-100 and n <=100:\n",
    "        break\n",
    "    print('-100에서 100사이의 정수를 입력하세요')\n",
    "\n",
    "print('x =', n)\n",
    "if n > 0:\n",
    "    print(n,'은(는) 자연수입니다.')"
   ]
  },
  {
   "cell_type": "markdown",
   "metadata": {},
   "source": [
    "### LAB 3-3\n",
    "\n",
    "1. 게임 사용자의 게임점수(game_score)을 입력받아서 1000점 이상이면 '고수입니다.'를 출력하고<br>\n",
    "1000점 미만이면 '입문자입니다.'를 출력하는 프로그램을 if-else문을 이용하여 작성하시오."
   ]
  },
  {
   "cell_type": "code",
   "execution_count": 11,
   "metadata": {},
   "outputs": [
    {
     "name": "stdout",
     "output_type": "stream",
     "text": [
      "game_score = 1300\n",
      "고수입니다.\n"
     ]
    }
   ],
   "source": [
    "game_score = int(input('게임점수를 입력하시오 :'))\n",
    "print('game_score =', game_score)\n",
    "if game_score >= 1000:\n",
    "    print('고수입니다.')\n",
    "else:\n",
    "    print('입문자입니다.')"
   ]
  },
  {
   "cell_type": "markdown",
   "metadata": {},
   "source": [
    "2. 두 정수를 입력받아 같을 경우 '두 값이 일치합니다.'를 출력하고 값이 다르면 '두 값이 일치하지 않습니다.'<br>\n",
    "를 출력하는 프로그램을 if문을 이용하여 작성하시오. 두 정수에 각각 100과 200이 할당되어 있는 경우와<br>\n",
    "300과 300이 할당되어 있는 경우의 출력문을 확인 하시오."
   ]
  },
  {
   "cell_type": "code",
   "execution_count": 13,
   "metadata": {},
   "outputs": [
    {
     "name": "stdout",
     "output_type": "stream",
     "text": [
      "두 값이 일치합니다.\n"
     ]
    }
   ],
   "source": [
    "num_a = int(input('한 정수를 입력하시오: '))\n",
    "num_b = int(input('다른 정수를 입력하시오: '))\n",
    "if num_a == num_b:  # 비교\n",
    "    print('두 값이 일치합니다.')\n",
    "else:\n",
    "    print('두 값이 일치합니다.')"
   ]
  },
  {
   "cell_type": "markdown",
   "metadata": {},
   "source": [
    "3) if문의 복합 조건실을 이용해서 다음과 같은 기능을 수행하는 프로그램을 만들어보자.<br><br>\n",
    "(1) 우선 '당신은 성인인가요(성인이면 1, 미성년이면 0)'문을 통해서 성인인지 미성년인지를<br>\n",
    "구한 다음 미성년이면(0이 입력되면) '당신은 미성년자입니다.'를 출력하고 프로그램을 종료한다.<br><br>\n",
    "(2) 다음으로 성인이면(1이 입력되면) '결혼을 하셨나요(기혼이면 1, 미혼이면 0)'<br> 질문을 통해서 기혼, 미혼을 입력으로 받아서 '당신은 결혼한 성인입니다.' 혹은 '당신은 결혼하지 않은 성인입니다.'를<br> 다음과 같이 출력하도록 한다."
   ]
  },
  {
   "cell_type": "code",
   "execution_count": 16,
   "metadata": {},
   "outputs": [
    {
     "name": "stdout",
     "output_type": "stream",
     "text": [
      "당신은 결혼하지 않은 성인입니다.\n"
     ]
    }
   ],
   "source": [
    "adult = int(input('당신은 성인인가요(성인이면 1, 미성년이면 0): '))\n",
    "if adult == 1:  # 성인인 경우\n",
    "    marriage = int(input('결혼을 하셨나요(기혼이면 1, 미혼이면 0): '))\n",
    "    if marriage == 1:   # 기혼\n",
    "        print('당신은 결혼한 성인입니다.')\n",
    "    else:               # 미혼\n",
    "        print('당신은 결혼하지 않은 성인입니다.')\n",
    "    \n",
    "else:           # 성인이 아닌 경우\n",
    "    print('당신은 미성년자입니다.')\n"
   ]
  },
  {
   "cell_type": "markdown",
   "metadata": {},
   "source": [
    "### LAB 3-4\n",
    "1. and 연산자를 사용하여 num 변수가 1과 10사이의 값을 가지면 True를 출력하는 부울식을 완성하여라."
   ]
  },
  {
   "cell_type": "code",
   "execution_count": 17,
   "metadata": {},
   "outputs": [
    {
     "name": "stdout",
     "output_type": "stream",
     "text": [
      "True\n"
     ]
    }
   ],
   "source": [
    "num = 2\n",
    "if num >= 1 and num <= 10:\n",
    "    print('True')"
   ]
  },
  {
   "cell_type": "markdown",
   "metadata": {},
   "source": [
    "2. and 연산자를 사용하여 age가 10보다 크고 19보다 작으면 '청소년입니다.'를 출력하는 부울식을 작성하여라.<br>\n",
    "그리고 age에 9와 12를 넣어서 그 결과를 다음과 같이 확인하여라."
   ]
  },
  {
   "cell_type": "code",
   "execution_count": 19,
   "metadata": {},
   "outputs": [
    {
     "name": "stdout",
     "output_type": "stream",
     "text": [
      "청소년입니다.\n"
     ]
    }
   ],
   "source": [
    "age = 12\n",
    "if age > 10 and age < 19:   # 11~18\n",
    "    print('청소년입니다.')"
   ]
  },
  {
   "cell_type": "markdown",
   "metadata": {},
   "source": [
    "### LAB 3-5\n",
    "1. 사용자로부터 자동차의 속도(speed)를 km/h 단위의 정수로 입력받도록 하자. 자동차의 속도가 100km/h 이상이면<br> '고속', 100km/h 미만 60km/h 이상이면 '중속', 60km/h 미만이면 '저속'을<br> 출력하는 프로그램을 if-elfi-else문을 이용하여 작성하여라."
   ]
  },
  {
   "cell_type": "code",
   "execution_count": 23,
   "metadata": {},
   "outputs": [
    {
     "name": "stdout",
     "output_type": "stream",
     "text": [
      "고속\n"
     ]
    }
   ],
   "source": [
    "# elif 사용을 위해 큰 값부터 조건\n",
    "speed = int(input('자동차의 속도를 입력하세요(단위 : km/h ): '))\n",
    "if speed >= 100:\n",
    "    print('고속')\n",
    "elif speed >= 60:\n",
    "    print('중속')\n",
    "else:\n",
    "    print('저속')"
   ]
  },
  {
   "cell_type": "markdown",
   "metadata": {},
   "source": [
    "2. 미세먼지 농도 예보 기준이 다음과 같을 때 미세먼지 농도를 정수 값으로 입력받아 '좋음', '보통', <br>\n",
    "'나쁨', '매우 나쁨'을 출력하는 코드를 작성하여라."
   ]
  },
  {
   "cell_type": "code",
   "execution_count": 28,
   "metadata": {},
   "outputs": [
    {
     "name": "stdout",
     "output_type": "stream",
     "text": [
      "보통\n"
     ]
    }
   ],
   "source": [
    "# elif 사용을 위해 큰 값부터 조건\n",
    "n = int(input('미세먼지 농도를 입력하세요(단위 :microgram/m^3): '))\n",
    "if n >= 76:\n",
    "    print('매우 나쁨')\n",
    "elif n >=36:\n",
    "    print('나쁨')\n",
    "elif n >= 16:\n",
    "    print('보통')\n",
    "else:\n",
    "    print('좋음')"
   ]
  },
  {
   "cell_type": "markdown",
   "metadata": {},
   "source": [
    "### LAB 3-6\n",
    "1. for 반복문에서 언더스코어 루프 제어변수를 사용하여 다음과 같이 Hello, Python!을 5번 출력하는 프로그램을 작성해보자."
   ]
  },
  {
   "cell_type": "code",
   "execution_count": 29,
   "metadata": {},
   "outputs": [
    {
     "name": "stdout",
     "output_type": "stream",
     "text": [
      "Hello, Python!\n",
      "Hello, Python!\n",
      "Hello, Python!\n",
      "Hello, Python!\n",
      "Hello, Python!\n"
     ]
    }
   ],
   "source": [
    "# 변수명을 사용하지 않을 때 (_)\n",
    "for _ in range(5):  \n",
    "    print('Hello, Python!')"
   ]
  },
  {
   "cell_type": "markdown",
   "metadata": {},
   "source": [
    "2. i라는 루프변수를 사용해서 0에서 4까지의 정수를 출력하는 프로그램을 작성하시오."
   ]
  },
  {
   "cell_type": "code",
   "execution_count": 30,
   "metadata": {},
   "outputs": [
    {
     "name": "stdout",
     "output_type": "stream",
     "text": [
      "0\n",
      "1\n",
      "2\n",
      "3\n",
      "4\n"
     ]
    }
   ],
   "source": [
    "# range(5) : 0 ~ 4\n",
    "for i in range(5):\n",
    "    print(i)"
   ]
  },
  {
   "cell_type": "markdown",
   "metadata": {},
   "source": [
    "### LAB 3-7\n",
    "1. range() 함수와 list() 함수를 사용하여 1이상 100이하의 자연수 리스트를 다음과 같이 만드시오.\n",
    "2. 1 이상 100 이하의 짝수 리스트를 만드시오.\n",
    "3. 1 이상 100 이하의 홀수 리스트를 만드시오.\n",
    "4. -100보다 크고 0보다 작은 음수 리스트를 만드시오."
   ]
  },
  {
   "cell_type": "code",
   "execution_count": 3,
   "metadata": {},
   "outputs": [
    {
     "name": "stdout",
     "output_type": "stream",
     "text": [
      "1:  [1, 2, 3, 4, 5, 6, 7, 8, 9, 10, 11, 12, 13, 14, 15, 16, 17, 18, 19, 20, 21, 22, 23, 24, 25, 26, 27, 28, 29, 30, 31, 32, 33, 34, 35, 36, 37, 38, 39, 40, 41, 42, 43, 44, 45, 46, 47, 48, 49, 50, 51, 52, 53, 54, 55, 56, 57, 58, 59, 60, 61, 62, 63, 64, 65, 66, 67, 68, 69, 70, 71, 72, 73, 74, 75, 76, 77, 78, 79, 80, 81, 82, 83, 84, 85, 86, 87, 88, 89, 90, 91, 92, 93, 94, 95, 96, 97, 98, 99, 100]\n",
      "2:  [2, 4, 6, 8, 10, 12, 14, 16, 18, 20, 22, 24, 26, 28, 30, 32, 34, 36, 38, 40, 42, 44, 46, 48, 50, 52, 54, 56, 58, 60, 62, 64, 66, 68, 70, 72, 74, 76, 78, 80, 82, 84, 86, 88, 90, 92, 94, 96, 98, 100]\n",
      "3:  [1, 3, 5, 7, 9, 11, 13, 15, 17, 19, 21, 23, 25, 27, 29, 31, 33, 35, 37, 39, 41, 43, 45, 47, 49, 51, 53, 55, 57, 59, 61, 63, 65, 67, 69, 71, 73, 75, 77, 79, 81, 83, 85, 87, 89, 91, 93, 95, 97, 99]\n",
      "4:  [-99, -98, -97, -96, -95, -94, -93, -92, -91, -90, -89, -88, -87, -86, -85, -84, -83, -82, -81, -80, -79, -78, -77, -76, -75, -74, -73, -72, -71, -70, -69, -68, -67, -66, -65, -64, -63, -62, -61, -60, -59, -58, -57, -56, -55, -54, -53, -52, -51, -50, -49, -48, -47, -46, -45, -44, -43, -42, -41, -40, -39, -38, -37, -36, -35, -34, -33, -32, -31, -30, -29, -28, -27, -26, -25, -24, -23, -22, -21, -20, -19, -18, -17, -16, -15, -14, -13, -12, -11, -10, -9, -8, -7, -6, -5, -4, -3, -2, -1]\n"
     ]
    }
   ],
   "source": [
    "print('1: ',list(range(1,101)))\n",
    "print('2: ',list(range(2,101,2))) # 2부터 100까지, step : +2\n",
    "print('3: ',list(range(1,101,2))) # 1부터 100까지, step : +2\n",
    "print('4: ',list(range(-99,0)))   # -99부터 -1까지, step : +1\n"
   ]
  },
  {
   "cell_type": "markdown",
   "metadata": {},
   "source": [
    "### LAB 3-8\n",
    "1. 앞서 배운 누적 덧셈을 응용하여 1에서 100까지 정수의 합을 구하여 출력하여라(힌트: range()의 구간이 1에서 100까지가 되도록 하자).\n",
    "2. range()의 함수의 step 값을 이용하여 1에서 100까지 정수 중에서 짝수의 합을 구하여 출력하여라.\n",
    "3. range() 함수의 step 값을 이용하여 1에서 100까지 정수 중에서 홀수의 합을 구하여 출력하여라"
   ]
  },
  {
   "cell_type": "code",
   "execution_count": 7,
   "metadata": {},
   "outputs": [
    {
     "name": "stdout",
     "output_type": "stream",
     "text": [
      "1 : 5050\n",
      "2 : 2550\n",
      "3 : 2500\n"
     ]
    }
   ],
   "source": [
    "print('1 :',sum(range(1,101)))\n",
    "print('2 :',sum(range(2,101, 2)))\n",
    "print('3 :',sum(range(1,101, 2)))"
   ]
  },
  {
   "cell_type": "markdown",
   "metadata": {},
   "source": [
    "### LAB 3-9\n",
    "1. 이중 for 루프를 이용하여 다음과 같은 패턴을 출력하여라."
   ]
  },
  {
   "cell_type": "code",
   "execution_count": 9,
   "metadata": {},
   "outputs": [
    {
     "name": "stdout",
     "output_type": "stream",
     "text": [
      "      #\n",
      "     #\n",
      "    #\n",
      "   #\n",
      "  #\n",
      " #\n",
      "#\n"
     ]
    }
   ],
   "source": [
    "n = 7   # 출력할 '#'의 개수 = row 수\n",
    "for i in range(n):\n",
    "    for j in range((n-1)-i):    # 공백 출력하기. 첫줄의 경우 공백 6개와 '#' 한 개 ... 마지막은 공백없이 '#'만 출력\n",
    "        print(' ', end='')\n",
    "    print('#')"
   ]
  }
 ],
 "metadata": {
  "kernelspec": {
   "display_name": "Python 3.10.6 64-bit",
   "language": "python",
   "name": "python3"
  },
  "language_info": {
   "codemirror_mode": {
    "name": "ipython",
    "version": 3
   },
   "file_extension": ".py",
   "mimetype": "text/x-python",
   "name": "python",
   "nbconvert_exporter": "python",
   "pygments_lexer": "ipython3",
   "version": "3.10.6"
  },
  "orig_nbformat": 4,
  "vscode": {
   "interpreter": {
    "hash": "20c9d94bea3bcd43e69d1e5f02ce962985699c48de0c68502218d203d4c4e41a"
   }
  }
 },
 "nbformat": 4,
 "nbformat_minor": 2
}
