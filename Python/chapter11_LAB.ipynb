{
 "cells": [
  {
   "cell_type": "markdown",
   "metadata": {},
   "source": [
    "## chapter11 LAB"
   ]
  },
  {
   "attachments": {},
   "cell_type": "markdown",
   "metadata": {},
   "source": [
    "<h5>numPy</h5>\n",
    "- 파이썬의 과학 계산을 위한 가장 기본적인 패키지 <br>\n",
    "- 다차원 배열과 행렬 객체가 포함"
   ]
  },
  {
   "cell_type": "code",
   "execution_count": 2,
   "metadata": {},
   "outputs": [
    {
     "name": "stdout",
     "output_type": "stream",
     "text": [
      "(3,)\n",
      "1\n",
      "int32\n",
      "4\n",
      "3\n"
     ]
    }
   ],
   "source": [
    "import numpy as np\n",
    "# array는 같은 타입\n",
    "# array class의 constructor\n",
    "a = np.array([1,2,3])   # 넘파이 ndarray 객체 생성\n",
    "\n",
    "print(a.shape) # a 객체의 형태\n",
    "print(a.ndim) # 차원\n",
    "print(a.dtype) # 내부 자료형\n",
    "print(a.itemsize) # 객체 내부 자료형이 차지하는 메모리 크기\n",
    "print(a.size)  # a객체의 전체 크기\n"
   ]
  },
  {
   "cell_type": "code",
   "execution_count": 8,
   "metadata": {},
   "outputs": [
    {
     "name": "stdout",
     "output_type": "stream",
     "text": [
      "int64\n",
      "['1' 'two' '3' '4']\n"
     ]
    }
   ],
   "source": [
    "b = np.array([4,5,6], dtype='int64')    # default는 int32? 시험\n",
    "c = a+b\n",
    "c = a.__add__(b) # 시험\n",
    "print(c.dtype)   # 큰 것으로 conversion\n",
    "\n",
    "# d = np.array(1,2,3,4)\n",
    "#  : TypeErrorarray() takes from 1 to 2 positional arguments but 4 were given\n",
    "\n",
    "# a = np.array([1,'two', 3, 4], dtype = np.int32) -> 오류 incalid literal for int()\n",
    "a = np.array([1,'two', 3, 4])\n",
    "print(a)\n",
    "# 스트링으로 자동 형 변환"
   ]
  },
  {
   "cell_type": "markdown",
   "metadata": {},
   "source": [
    "### LAB 11-1"
   ]
  },
  {
   "cell_type": "code",
   "execution_count": 4,
   "metadata": {},
   "outputs": [
    {
     "name": "stdout",
     "output_type": "stream",
     "text": [
      "array([0, 1, 2, 3, 4, 5, 6, 7, 8, 9])\n",
      "array([0, 1, 2, 3, 4, 5, 6, 7, 8, 9])\n",
      "array([0, 2, 4, 6, 8])\n",
      "c.shape = (5,)\n",
      "c.ndim = 1\n",
      "c.dtype = int64\n",
      "c.size = 5\n",
      "c.itemsize = 8\n"
     ]
    }
   ],
   "source": [
    "# (1)\n",
    "a = np.array([0,1,2,3,4,5,6,7,8,9])\n",
    "print(f'array({list(a)})')\n",
    "# (2)\n",
    "b = np.array(list(range(10)))\n",
    "print(f'array({list(b)})')\n",
    "# (3) 짝수만\n",
    "c = np.array([x for x in range(10) if x%2==0], dtype=np.int64)\n",
    "print(f'array({list(c)})')\n",
    "# (4)\n",
    "print(f'c.shape = {c.shape}')\n",
    "print(f'c.ndim = {c.ndim}')\n",
    "print(f'c.dtype = {c.dtype}')\n",
    "print(f'c.size = {c.size}')\n",
    "print(f'c.itemsize = {c.itemsize}')"
   ]
  },
  {
   "cell_type": "code",
   "execution_count": 18,
   "metadata": {},
   "outputs": [
    {
     "name": "stdout",
     "output_type": "stream",
     "text": [
      "3\n",
      "1\n",
      "2.0\n"
     ]
    },
    {
     "data": {
      "text/plain": [
       "array([1, 1, 2, 2, 3, 3])"
      ]
     },
     "execution_count": 18,
     "metadata": {},
     "output_type": "execute_result"
    }
   ],
   "source": [
    "# 메소드를 외워서 하기보다는 메소드를 알려주면 활용할 수 있도록\n",
    "a = np.array([1,2,3])\n",
    "print(a.max())\n",
    "print(a.min())\n",
    "print(a.mean())\n",
    "\n",
    "# flatten()\n",
    "a = np.array([[1,1],[2,2],[3,3]])\n",
    "a.flatten()"
   ]
  },
  {
   "cell_type": "code",
   "execution_count": 21,
   "metadata": {},
   "outputs": [
    {
     "name": "stdout",
     "output_type": "stream",
     "text": [
      "[1 2 3 4 5 6 7 8 9]\n"
     ]
    },
    {
     "data": {
      "text/plain": [
       "array([[1, 2, 3],\n",
       "       [4, 5, 6],\n",
       "       [7, 8, 9]])"
      ]
     },
     "execution_count": 21,
     "metadata": {},
     "output_type": "execute_result"
    }
   ],
   "source": [
    "a = np.array([1,2,3])\n",
    "b = np.array([[4,5,6], [7,8,9]])\n",
    "print(np.append(a,b))\n",
    "\n",
    "# [a]를 통해 2차원 배열로 만들기\n",
    "np.append([a],b,axis = 0)\n",
    "# (3,3) shape의 난수 생성\n",
    "np.random.rand(3,3)\n",
    "# 0에서 10사이의 10개의 난수 생성\n",
    "np.random.randint(0,10,size=10)"
   ]
  },
  {
   "cell_type": "markdown",
   "metadata": {},
   "source": [
    "### LAB 11-2"
   ]
  },
  {
   "cell_type": "code",
   "execution_count": 34,
   "metadata": {},
   "outputs": [
    {
     "name": "stdout",
     "output_type": "stream",
     "text": [
      "array([23 45 67  7  2 30 34 82])\n",
      "최댓값 : 82\n",
      "최솟값 : 2\n",
      "평균 : 36.25\n",
      "\n",
      "array([41 42 21 21 47 45 20 35 84 61])\n",
      "최댓값 : 84\n",
      "최솟값 : 20\n",
      "평균 : 41.7\n",
      "\n",
      "array([23 45 67  7  2 30 34 82 41 42 21 21 47 45 20 35 84 61])\n"
     ]
    }
   ],
   "source": [
    "# (1)\n",
    "a = np.array([23,45,67,7,2,30,34,82], dtype=np.int64)\n",
    "print(f'array({a})')\n",
    "print(f'최댓값 : {a.max()}')\n",
    "print(f'최솟값 : {a.min()}')\n",
    "print(f'평균 : {a.mean()}')\n",
    "print()\n",
    "# (2)\n",
    "b = np.random.randint(0,99,size=10)\n",
    "print(f'array({b})')\n",
    "print(f'최댓값 : {b.max()}')\n",
    "print(f'최솟값 : {b.min()}')\n",
    "print(f'평균 : {b.mean()}')\n",
    "print()\n",
    "# (3)\n",
    "c = np.append(a,b)\n",
    "print(f'array({c})')\n"
   ]
  },
  {
   "cell_type": "markdown",
   "metadata": {},
   "source": [
    "### LAB 11-3"
   ]
  },
  {
   "cell_type": "code",
   "execution_count": 39,
   "metadata": {},
   "outputs": [
    {
     "name": "stdout",
     "output_type": "stream",
     "text": [
      "[[ 3  4  5]\n",
      " [ 6  7  8]\n",
      " [ 9 10 11]]\n",
      "\n",
      "[[-1  0  1]\n",
      " [ 2  3  4]\n",
      " [ 5  6  7]]\n",
      "\n",
      "[[ 2  4  6]\n",
      " [ 8 10 12]\n",
      " [14 16 18]]\n",
      "\n",
      "[[0.5 1.  1.5]\n",
      " [2.  2.5 3. ]\n",
      " [3.5 4.  4.5]]\n",
      "\n",
      "[[12 12 12]\n",
      " [30 30 30]\n",
      " [48 48 48]]\n",
      "\n",
      "[[ 1  4  9]\n",
      " [16 25 36]\n",
      " [49 64 81]]\n",
      "\n"
     ]
    }
   ],
   "source": [
    "# (1)\n",
    "a = np.array([[1,2,3],[4,5,6],[7,8,9]])\n",
    "b = np.array([[2,2,2],[2,2,2],[2,2,2]])\n",
    "# (2)\n",
    "print(a+b, end='\\n\\n') \n",
    "print(a-b, end='\\n\\n')\n",
    "print(a*b, end='\\n\\n')\n",
    "print(a/b, end='\\n\\n')\n",
    "print(a@b, end='\\n\\n')\n",
    "print(a**b, end='\\n\\n')\n"
   ]
  },
  {
   "cell_type": "code",
   "execution_count": 4,
   "metadata": {},
   "outputs": [
    {
     "data": {
      "text/plain": [
       "array([ 0. ,  2.5,  5. ,  7.5, 10. ])"
      ]
     },
     "execution_count": 4,
     "metadata": {},
     "output_type": "execute_result"
    }
   ],
   "source": [
    "# ndarray 생성\n",
    "# 초깃값을 가지는 행렬 생성\n",
    "np.zeros((2,3)) # 모든 값이 0인 2x3 크기 행렬\n",
    "np.ones((2,3))  # 모든 값이 1인 2x3 크기 행렬\n",
    "np.full((2,3), 100) # 모든 값이 100인 2,3크기 행렬\n",
    "np.eye(3)   # 3x3 크기의 단위행렬\n",
    "np.random.random((2,3)) # 2,3 크기의 랜덤 행렬\n",
    "\n",
    "# arrange() 함수\n",
    "np.arange(0,10)\n",
    "np.arange(0,10,2)\n",
    "np.arange(0.10,3)\n",
    "np.arange(0.0,1.0,0.2)  # arange()의 특징 step을 실수로 줄 수 있다.\n",
    "\n",
    "np.linspace(0,10,5)  # 0과 10 사이의 5개\n"
   ]
  },
  {
   "cell_type": "markdown",
   "metadata": {},
   "source": [
    "### LAB 11-4"
   ]
  },
  {
   "cell_type": "code",
   "execution_count": 13,
   "metadata": {},
   "outputs": [
    {
     "name": "stdout",
     "output_type": "stream",
     "text": [
      "a1 =  [[2 2 2]\n",
      " [2 2 2]\n",
      " [2 2 2]]\n",
      "\n",
      "a2 = [ 1  2  3  4  5  6  7  8  9 10 11 12]\n",
      "\n",
      "a3 = [ 3  6  9 12 15 18 21 24 27 30 33 36 39 42 45 48]\n",
      "\n",
      "a4 = [ 0.  5. 10. 15. 20.]\n"
     ]
    }
   ],
   "source": [
    "# (1)\n",
    "a1 = np.full((3,3), 2)\n",
    "print('a1 = ', a1)\n",
    "print()\n",
    "# (2)\n",
    "a2 = np.arange(1,13,1)\n",
    "print('a2 =', a2)\n",
    "print()\n",
    "# (3)\n",
    "a3 = np.arange(3,51,3)\n",
    "print('a3 =',a3)\n",
    "print()\n",
    "# (4)\n",
    "a4 = np.linspace(0,20,5)\n",
    "print('a4 =',a4)"
   ]
  },
  {
   "cell_type": "code",
   "execution_count": 22,
   "metadata": {},
   "outputs": [
    {
     "name": "stdout",
     "output_type": "stream",
     "text": [
      "[[[ 0  1]\n",
      "  [ 2  3]\n",
      "  [ 4  5]]\n",
      "\n",
      " [[ 6  7]\n",
      "  [ 8  9]\n",
      "  [10 11]]\n",
      "\n",
      " [[12 13]\n",
      "  [14 15]\n",
      "  [16 17]]\n",
      "\n",
      " [[18 19]\n",
      "  [20 21]\n",
      "  [22 23]]]\n",
      "\n",
      "[[[ 0  6 12 18]\n",
      "  [ 2  8 14 20]\n",
      "  [ 4 10 16 22]]\n",
      "\n",
      " [[ 1  7 13 19]\n",
      "  [ 3  9 15 21]\n",
      "  [ 5 11 17 23]]]\n"
     ]
    }
   ],
   "source": [
    "# 마지막 시간에 배운 것이 기말에 나올 확률? 높다\n",
    "np.arange(0,10).reshape(2,5)\n",
    "t = np.arange(0,24).reshape(4,3,2)  # 높이, 가로, 세로\n",
    "print(t);print()\n",
    "print(np.transpose(t))"
   ]
  },
  {
   "cell_type": "code",
   "execution_count": 20,
   "metadata": {},
   "outputs": [
    {
     "name": "stdout",
     "output_type": "stream",
     "text": [
      "[[0 1]\n",
      " [2 3]\n",
      " [4 5]]\n",
      "[[0 2 4]\n",
      " [1 3 5]]\n"
     ]
    }
   ],
   "source": [
    "a = np.arange(6).reshape(3,2)\n",
    "print(a)\n",
    "print()\n",
    "print(np.transpose(a))  # 행렬 바꾸기"
   ]
  },
  {
   "cell_type": "markdown",
   "metadata": {},
   "source": [
    "### LAB 11-5"
   ]
  },
  {
   "cell_type": "code",
   "execution_count": 29,
   "metadata": {},
   "outputs": [
    {
     "name": "stdout",
     "output_type": "stream",
     "text": [
      "array([[ 1,  2,  3,  4,  5,  6],\n",
      "       [ 7,  8,  9, 10, 11, 12]])\n",
      "\n",
      "array([[ 1,  2,  3,  4,  5,  6,  7,  8,  9, 10],\n",
      "       [11, 12, 13, 14, 15, 16, 17, 18, 19, 20],\n",
      "       [21, 22, 23, 24, 25, 26, 27, 28, 29, 30]])\n",
      "\n",
      "array([[ 1,  2,  3,  4,  5],\n",
      "       [ 6,  7,  8,  9, 10],\n",
      "       [11, 12, 13, 14, 15],\n",
      "       [16, 17, 18, 19, 20],\n",
      "       [21, 22, 23, 24, 25],\n",
      "       [26, 27, 28, 29, 30]])\n",
      "\n",
      "array([[ 1,  6, 11, 16, 21, 26],\n",
      "       [ 2,  7, 12, 17, 22, 27],\n",
      "       [ 3,  8, 13, 18, 23, 28],\n",
      "       [ 4,  9, 14, 19, 24, 29],\n",
      "       [ 5, 10, 15, 20, 25, 30]])\n",
      "\n"
     ]
    }
   ],
   "source": [
    "# (1)\n",
    "a1 = np.arange(1,13).reshape(2,6)\n",
    "print(repr(a1))\n",
    "print()\n",
    "# (2)\n",
    "a2 = np.arange(1,31).reshape(3,10)\n",
    "print(repr(a2))\n",
    "print()\n",
    "# (3)\n",
    "a3 = a2.reshape(6,5)\n",
    "print(repr(a3))\n",
    "print()\n",
    "# (4)\n",
    "a4 = np.transpose(a3)\n",
    "print(repr(a4))\n",
    "print()"
   ]
  },
  {
   "cell_type": "code",
   "execution_count": 34,
   "metadata": {},
   "outputs": [
    {
     "name": "stdout",
     "output_type": "stream",
     "text": [
      "array([[0, 1],\n",
      "       [2, 3],\n",
      "       [4, 5]])\n",
      "15\n",
      "array([6, 9])\n",
      "array([1, 5, 9])\n"
     ]
    }
   ],
   "source": [
    "# 시험 axis sum,max,mean\n",
    "a = np.arange(0,6).reshape(3,2)\n",
    "print(repr(a))\n",
    "print(repr(a.sum()))\n",
    "print(repr(a.sum(axis=0)))\n",
    "print(repr(a.sum(axis=1)))"
   ]
  },
  {
   "cell_type": "markdown",
   "metadata": {},
   "source": [
    "### LAB 11-6\n",
    "- string, list indexing 시험"
   ]
  },
  {
   "cell_type": "code",
   "execution_count": 46,
   "metadata": {},
   "outputs": [
    {
     "name": "stdout",
     "output_type": "stream",
     "text": [
      "array([[ 88,  73, 100,  24,  43],\n",
      "       [ 84,   7,  67,  83,  47],\n",
      "       [ 81,   3,  61,  18,  52]])\n",
      "\n",
      "[ 88  73 100  83  52]\n",
      "[81  3 61 18 43]\n",
      "[84.33333333 27.66666667 76.         41.66666667 47.33333333]\n",
      "\n",
      "[100  84  81]\n",
      "[24  7  3]\n",
      "[65.6 57.6 43. ]\n"
     ]
    }
   ],
   "source": [
    "# (1)\n",
    "a = np.random.randint(1,101,15).reshape(3,5)\n",
    "print(repr(a))\n",
    "print()\n",
    "# (2)\n",
    "print(a.max(axis=0))\n",
    "print(a.min(axis=0))\n",
    "print(a.mean(axis=0))\n",
    "print()\n",
    "# (3)\n",
    "print(a.max(axis=1))\n",
    "print(a.min(axis=1))\n",
    "print(a.mean(axis=1))\n"
   ]
  },
  {
   "cell_type": "markdown",
   "metadata": {},
   "source": [
    "### LAB 11-7"
   ]
  },
  {
   "cell_type": "code",
   "execution_count": 7,
   "metadata": {},
   "outputs": [
    {
     "name": "stdout",
     "output_type": "stream",
     "text": [
      "a = [ 1  2  3  4  5  6  7  8  9 10]\n",
      "b = [2 4 6 8]\n",
      "\n",
      "b = [ 6  7  8  9 10]\n",
      "c = [ 7  8  9 10]\n",
      "d = [1 2 3]\n",
      "e = [1 3 5 7 9]\n",
      "f = [10  8  6  4  2]\n"
     ]
    }
   ],
   "source": [
    "# 넘파이 인덱싱 슬라이싱 시험\n",
    "# (1)\n",
    "a = np.arange(1,11)\n",
    "print('a =',a)\n",
    "b = a[1:8:2]\n",
    "print('b =',b)\n",
    "print()\n",
    "\n",
    "# (2)\n",
    "b = a[5:]\n",
    "print('b =',b)\n",
    "c = a[6:]\n",
    "print('c =',c)\n",
    "d = a[:3]\n",
    "print('d =',d)\n",
    "e = a[::2]\n",
    "print('e =',e)\n",
    "f = a[::-2]\n",
    "print('f =',f)"
   ]
  },
  {
   "cell_type": "code",
   "execution_count": 21,
   "metadata": {},
   "outputs": [
    {
     "name": "stdout",
     "output_type": "stream",
     "text": [
      "[[0 1]\n",
      " [2 3]\n",
      " [4 5]]\n",
      "1\n",
      "\n",
      "[[[ 0  1]\n",
      "  [ 2  3]\n",
      "  [ 4  5]]\n",
      "\n",
      " [[ 6  7]\n",
      "  [ 8  9]\n",
      "  [10 11]]\n",
      "\n",
      " [[12 13]\n",
      "  [14 15]\n",
      "  [16 17]]\n",
      "\n",
      " [[18 19]\n",
      "  [20 21]\n",
      "  [22 23]]]\n",
      "17\n",
      "[0 1 4 5]\n"
     ]
    }
   ],
   "source": [
    "# 2차원 인덱싱\n",
    "a = np.arange(0,6).reshape(3,2)\n",
    "print(a)\n",
    "print(a[0,1])\n",
    "print()\n",
    "\n",
    "# 3차원 인덱싱\n",
    "b = np.arange(0,24).reshape(4,3,2)\n",
    "print(b)\n",
    "# 17 뽑아내기\n",
    "print(b[2,2,1])\n",
    "\n",
    "# concatenate()\n",
    "print(np.concatenate((b[0,0], b[0,2]), axis=0))"
   ]
  },
  {
   "cell_type": "markdown",
   "metadata": {},
   "source": [
    "### LAB 11-8"
   ]
  },
  {
   "cell_type": "code",
   "execution_count": 22,
   "metadata": {},
   "outputs": [
    {
     "name": "stdout",
     "output_type": "stream",
     "text": [
      "index\t\telement\n",
      "(0, 0, 0)\t0\n",
      "(0, 0, 1)\t1\n",
      "(0, 1, 0)\t2\n",
      "(0, 1, 1)\t3\n",
      "(0, 2, 0)\t4\n",
      "(0, 2, 1)\t5\n",
      "(1, 0, 0)\t6\n",
      "(1, 0, 1)\t7\n",
      "(1, 1, 0)\t8\n",
      "(1, 1, 1)\t9\n",
      "(1, 2, 0)\t10\n",
      "(1, 2, 1)\t11\n",
      "(2, 0, 0)\t12\n",
      "(2, 0, 1)\t13\n",
      "(2, 1, 0)\t14\n",
      "(2, 1, 1)\t15\n",
      "(2, 2, 0)\t16\n",
      "(2, 2, 1)\t17\n",
      "(3, 0, 0)\t18\n",
      "(3, 0, 1)\t19\n",
      "(3, 1, 0)\t20\n",
      "(3, 1, 1)\t21\n",
      "(3, 2, 0)\t22\n",
      "(3, 2, 1)\t23\n"
     ]
    }
   ],
   "source": [
    "a = np.arange(0,24).reshape(4,3,2)\n",
    "\n",
    "# (1)\n",
    "print('index\\t\\telement')\n",
    "for i in range(0,4):\n",
    "    for j in range(0,3):\n",
    "        for k in range(0,2):\n",
    "            print(f'({i}, {j}, {k})\\t{a[i,j,k]}')"
   ]
  },
  {
   "cell_type": "code",
   "execution_count": 29,
   "metadata": {},
   "outputs": [
    {
     "name": "stdout",
     "output_type": "stream",
     "text": [
      "array([0, 1, 6, 7])\n",
      "array([ 0,  1, 14, 15])\n",
      "array([[ 0,  1],\n",
      "       [ 2,  3],\n",
      "       [ 4,  5],\n",
      "       [ 6,  7],\n",
      "       [ 8,  9],\n",
      "       [10, 11]])\n",
      "array([[ 0,  1,  6,  7],\n",
      "       [ 2,  3,  8,  9],\n",
      "       [ 4,  5, 10, 11]])\n"
     ]
    }
   ],
   "source": [
    "# (2)\n",
    "print(repr(np.concatenate((a[0,0], a[1,0]), axis=0)))\n",
    "print(repr(np.concatenate((a[0,0], a[2,1]), axis=0)))\n",
    "print(repr(np.concatenate((a[0], a[1]), axis=0)))\n",
    "print(repr(np.concatenate((a[0], a[1]), axis=1)))"
   ]
  },
  {
   "cell_type": "code",
   "execution_count": 32,
   "metadata": {},
   "outputs": [
    {
     "name": "stdout",
     "output_type": "stream",
     "text": [
      "[0 3 6]\n"
     ]
    }
   ],
   "source": [
    "# 2차원 배열의 슬라이싱\n",
    "a = np.arange(0,9).reshape(3,3)\n",
    "print(a[:,0])"
   ]
  },
  {
   "cell_type": "markdown",
   "metadata": {},
   "source": [
    "### LAB 11-9"
   ]
  },
  {
   "cell_type": "code",
   "execution_count": 52,
   "metadata": {},
   "outputs": [
    {
     "name": "stdout",
     "output_type": "stream",
     "text": [
      "b = [ 1  5  9 13]\n",
      "c = [ 9 10 11]\n",
      "d = [[0 1]\n",
      " [4 5]]\n",
      "e = [[ 5  6]\n",
      " [ 9 10]]\n"
     ]
    }
   ],
   "source": [
    "# (1)\n",
    "a = np.arange(0,16).reshape(4,4)\n",
    "b = a[:,1]\n",
    "print('b =',b)\n",
    "c = a[2,1:]\n",
    "print('c =',c)\n",
    "d = a[:2,:2]\n",
    "print('d =',d)\n",
    "e = a[1:3,1:3]\n",
    "print('e =',e)\n"
   ]
  },
  {
   "cell_type": "code",
   "execution_count": 50,
   "metadata": {},
   "outputs": [
    {
     "name": "stdout",
     "output_type": "stream",
     "text": [
      "f = [0 1 2 3 4 5 6]\n",
      "g = [ 8  9 10 11 12 13 14 15]\n",
      "h = [ 5  6  7 13 14 15]\n"
     ]
    }
   ],
   "source": [
    "# (2)\n",
    "f = np.concatenate((a[0,:4], a[1,:3]), axis=0)\n",
    "print('f =',f)\n",
    "g = np.concatenate((a[2:]))\n",
    "print('g =', g)\n",
    "h = np.concatenate((a[1,1:], a[3,1:]), axis=0)\n",
    "print('h =', h)"
   ]
  },
  {
   "cell_type": "code",
   "execution_count": 58,
   "metadata": {},
   "outputs": [
    {
     "name": "stdout",
     "output_type": "stream",
     "text": [
      "[ 2. -1.]\n"
     ]
    },
    {
     "data": {
      "text/plain": [
       "-2.0000000000000004"
      ]
     },
     "execution_count": 58,
     "metadata": {},
     "output_type": "execute_result"
    }
   ],
   "source": [
    "# 선형 방적식 풀이, 행렬식\n",
    "import numpy as np\n",
    "a = np.array([[2,3], [1,-2]])\n",
    "b = np.array([1,4])\n",
    "x = np.linalg.solve(a,b)\n",
    "print(x)\n",
    "\n",
    "# 3차원 배열의 인덱스와 concatenate()\n",
    "a = np.array([[1,2],[3,4]])\n",
    "np.linalg.det(a)    # 행렬식"
   ]
  },
  {
   "cell_type": "markdown",
   "metadata": {},
   "source": [
    "### LAB 11-10"
   ]
  },
  {
   "cell_type": "code",
   "execution_count": 60,
   "metadata": {},
   "outputs": [
    {
     "name": "stdout",
     "output_type": "stream",
     "text": [
      "x = 1.0, y = 2.0, z = 3.0\n",
      "det(A) = -11.0\n"
     ]
    }
   ],
   "source": [
    "# (1)\n",
    "a = np.array([[1,1,-1],[2,-1,3],[1,2,1]])\n",
    "b = np.array([0,9,8])\n",
    "x = np.linalg.solve(a,b)\n",
    "print(f'x = {x[0]}, y = {x[1]}, z = {x[2]}')\n",
    "\n",
    "# (2)\n",
    "a = np.array([[1,1,-1],[2,-1,3],[1,2,1]], dtype = 'int32')\n",
    "print('det(A) =',np.linalg.det(a).round(1))"
   ]
  },
  {
   "cell_type": "code",
   "execution_count": 64,
   "metadata": {},
   "outputs": [
    {
     "name": "stdout",
     "output_type": "stream",
     "text": [
      "5.000000000000001\n"
     ]
    }
   ],
   "source": [
    "# (3)\n",
    "a = np.array([[-1,3],[2,1]])\n",
    "x1 = np.linalg.det(a)\n",
    "b = np.array([[2,3],[1,1]])\n",
    "x2 = np.linalg.det(a)\n",
    "a = np.array([[2,-1],[1,2]])\n",
    "x3 = np.linalg.det(a)\n",
    "print(x1-x2+x3)"
   ]
  }
 ],
 "metadata": {
  "kernelspec": {
   "display_name": "Python 3.10.6 64-bit",
   "language": "python",
   "name": "python3"
  },
  "language_info": {
   "codemirror_mode": {
    "name": "ipython",
    "version": 3
   },
   "file_extension": ".py",
   "mimetype": "text/x-python",
   "name": "python",
   "nbconvert_exporter": "python",
   "pygments_lexer": "ipython3",
   "version": "3.10.6 (tags/v3.10.6:9c7b4bd, Aug  1 2022, 21:53:49) [MSC v.1932 64 bit (AMD64)]"
  },
  "orig_nbformat": 4,
  "vscode": {
   "interpreter": {
    "hash": "20c9d94bea3bcd43e69d1e5f02ce962985699c48de0c68502218d203d4c4e41a"
   }
  }
 },
 "nbformat": 4,
 "nbformat_minor": 2
}
