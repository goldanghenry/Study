{
 "cells": [
  {
   "cell_type": "markdown",
   "metadata": {},
   "source": [
    "## chapter9 객체 지향 프로그래밍"
   ]
  },
  {
   "cell_type": "code",
   "execution_count": 1,
   "metadata": {},
   "outputs": [
    {
     "name": "stdout",
     "output_type": "stream",
     "text": [
      "['cat', 'dog', 'lion', 'tiger']\n"
     ]
    }
   ],
   "source": [
    "# 원래는 배열을 사용해 복잡하게 추가하거나 제거, 정렬 했지만 객체의 property와 method를 이용해 간단하게 수행할 수 있다.\n",
    "animals = ['lion', 'tiger', 'cat', 'dog']\n",
    "animals.sort()\n",
    "print(animals)"
   ]
  },
  {
   "cell_type": "code",
   "execution_count": 2,
   "metadata": {},
   "outputs": [
    {
     "name": "stdout",
     "output_type": "stream",
     "text": [
      "2058869262656\n"
     ]
    }
   ],
   "source": [
    "print(id(animals))"
   ]
  },
  {
   "cell_type": "code",
   "execution_count": 5,
   "metadata": {},
   "outputs": [
    {
     "name": "stdout",
     "output_type": "stream",
     "text": [
      "2058786380240\n",
      "2058786380272\n",
      "2058786380272\n"
     ]
    }
   ],
   "source": [
    "# id 값이 다르게 나온다.\n",
    "# 변화된 값을 다시 가리키는 형태로\n",
    "n = 200\n",
    "print(id(n))\n",
    "n = n+1\n",
    "print(id(n))\n",
    "n.__add__(1)\n",
    "print(id(n))"
   ]
  },
  {
   "cell_type": "code",
   "execution_count": 9,
   "metadata": {},
   "outputs": [
    {
     "name": "stdout",
     "output_type": "stream",
     "text": [
      "내 이름은 나비, 색깔은 검정색, 야옹 야옹~~\n",
      "내 이름은 네로, 색깔은 흰색, 야옹 야옹~~\n",
      "내 이름은 미미, 색깔은 갈색, 야옹 야옹~~\n"
     ]
    }
   ],
   "source": [
    "# 클래스 정의와 인스턴스 생성\n",
    "class Cat:\n",
    "    def __init__(self, name, color='흰색'):\n",
    "        self.name = name\n",
    "        self.color = color\n",
    "    def meow(self): # self는 자기 자신을 가르킴\n",
    "        print(f'내 이름은 {self.name}, 색깔은 {self.color}, 야옹 야옹~~')\n",
    "nabi = Cat('나비', '검정색')\n",
    "nabi.meow()\n",
    "nero = Cat('네로', '흰색')\n",
    "nero.meow()\n",
    "mimi = Cat('미미','갈색')\n",
    "mimi.meow()"
   ]
  },
  {
   "cell_type": "markdown",
   "metadata": {},
   "source": [
    "시험\n",
    "- is 는 id 주소값 , == 는 클래스의 속성 값 비교\n",
    "list // false , true\n",
    "str,int // true, true -> str, int의 경우 저장 공간 절약을 위해 같은 곳을 가리킴\n",
    "__init__\n",
    "__dict__\n",
    "__add__ 등등"
   ]
  },
  {
   "cell_type": "code",
   "execution_count": null,
   "metadata": {},
   "outputs": [],
   "source": [
    "class Vector2D:\n",
    "    def __init__(self, x, y):\n",
    "        self.x = x\n",
    "        self.y = y\n",
    "    def __add__(self, other):\n",
    "        return Vector2D(self.x + other.x, self.y + other.y)\n",
    "    def __sub__(self, other):\n",
    "        return Vector2D(self.x - other.x, self.y - other.y)\n",
    "    def __str__(self):\n",
    "        return \"({}, {})\".format(self.x, self.y)\n",
    "\n",
    "v1 = Vector2D(30, 40)\n",
    "v2 = Vector2D(10, 20)\n",
    "v3 = v1 + v2\n",
    "print('v1 + v2 =', v3)\n",
    "v4 = v1 - v2\n",
    "print('v1 - v2 =', v4)\n"
   ]
  }
 ],
 "metadata": {
  "kernelspec": {
   "display_name": "Python 3.10.6 64-bit",
   "language": "python",
   "name": "python3"
  },
  "language_info": {
   "codemirror_mode": {
    "name": "ipython",
    "version": 3
   },
   "file_extension": ".py",
   "mimetype": "text/x-python",
   "name": "python",
   "nbconvert_exporter": "python",
   "pygments_lexer": "ipython3",
   "version": "3.10.6 (tags/v3.10.6:9c7b4bd, Aug  1 2022, 21:53:49) [MSC v.1932 64 bit (AMD64)]"
  },
  "orig_nbformat": 4,
  "vscode": {
   "interpreter": {
    "hash": "20c9d94bea3bcd43e69d1e5f02ce962985699c48de0c68502218d203d4c4e41a"
   }
  }
 },
 "nbformat": 4,
 "nbformat_minor": 2
}
