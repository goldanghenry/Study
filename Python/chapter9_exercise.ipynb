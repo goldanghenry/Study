{
 "cells": [
  {
   "cell_type": "markdown",
   "metadata": {},
   "source": [
    "## Chapter9 exercise"
   ]
  },
  {
   "cell_type": "markdown",
   "metadata": {},
   "source": [
    "### 1. 다음과 같은 기능을 가지는 클래스를 정의하고, 인스턴스를 생성하여라.\n",
    "-\t이름(name)과 나이(age)를 속성으로 가지는 Dog 클래스를 정의하여라\n",
    "-\t이름으로 ‘Mango’, 나이로 3의 값을 가지는 my_dog 인스턴스를 생성하여라\n",
    "-\tmy_dog의 이름과 나이를 다음과 같이 출력하여라. \n",
    "-\t단, 문자열화 메소드 __str__( )를 구현하여 print(my_dog)의 결과가 예제와 같이 나와야 함.\n"
   ]
  },
  {
   "cell_type": "code",
   "execution_count": 1,
   "metadata": {},
   "outputs": [
    {
     "name": "stdout",
     "output_type": "stream",
     "text": [
      "이름은 Mango이고, 나이는 3 입니다.\n"
     ]
    }
   ],
   "source": [
    "class dog:\n",
    "    def __init__(self, name, age):\n",
    "        self.name = name\n",
    "        self.age = age\n",
    "    def __str__(self):\n",
    "        return f'이름은 {self.name}이고, 나이는 {self.age} 입니다.'\n",
    "\n",
    "my_dog = dog('Mango', 3)\n",
    "print(my_dog)"
   ]
  },
  {
   "cell_type": "markdown",
   "metadata": {},
   "source": [
    "### 2.\t다음과 같은 기능을 가지는 Counter 클래스를 정의하고 c1, c2라는 이름의 인스턴스를 생성하여라.\n",
    "-\t이 클래스는 __number라는 속성값을 가짐\n",
    "-\tnumber 를 매개변수로 가지는 __init__(self, number) 메소드를 가짐. number의 디폴트 매개변수 값은 0임. 만약 number가 100 이상이 되거나 -1 이하가 되면 0 값을 초기 값으로 가짐.\n",
    "-\treset( ): __number 를 0으로 초기화하는 메소드\n",
    "-\tinc( ): __number 를 1 증가시키는 메소드. 만약 더한 후 __number의 값이 100 이상이 되면 0으로 초기화 됨\n",
    "-\tdec( ): __number 를 1 감소시키는 메소드. 만약 감소시킨 후 __number의 값이 -1 이하가 되면 0 값을 가짐\n",
    "-\t__str__( ): print(c1)을 실행하면 C(__number)를 출력하는 특수 메소드\n",
    "-\t__add__( ): c1 + c2 연산을 통해 c1의 __number와 c2의 __number 합을 __number로 가지는 Counter 인스턴스를 반환. 만약 __number 합이 100 이상이면 0으로 초기화 됨.\n",
    "-\t__sub__( ): c1 - c2 연산을 통해 c1의 __number와 c2의 __number 차를 __number로 가지는 Counter 인스턴스를 반환. 만약 __number 합이 -1 이하이면 0으로 초기화 됨.\n"
   ]
  },
  {
   "cell_type": "code",
   "execution_count": 6,
   "metadata": {},
   "outputs": [
    {
     "name": "stdout",
     "output_type": "stream",
     "text": [
      "c1 = C(11)\n",
      "c2 = C(1)\n",
      "c2 = C(0)\n",
      "c3 = C(30)\n",
      "c4 = C(0)\n",
      "C(0)\n"
     ]
    }
   ],
   "source": [
    "class Counter:\n",
    "    def __init__(self, number=0):\n",
    "        if number >=100 or number <=-1:\n",
    "            number = 0\n",
    "        self.__number = number\n",
    "    def __str__(self):\n",
    "        return f'C({self.__number})'\n",
    "    def __add__(self, other):\n",
    "        return Counter(self.__number+other.__number)\n",
    "    def __sub__(self, other):\n",
    "        return Counter(self.__number-other.__number)\n",
    "    def reset(self):\n",
    "        self.__number = 0\n",
    "    def inc(self):\n",
    "        self.__number+=1\n",
    "        if self.__number >= 100:\n",
    "            self.__number = 0\n",
    "    def dec(self):\n",
    "        self.__number -= 1\n",
    "        if self.__number <= -1:\n",
    "            self.__number = 0\n",
    "    \n",
    "c1 = Counter(10)\n",
    "c1.inc()\n",
    "print('c1 =', c1)\n",
    "\n",
    "c2 = Counter()\n",
    "c2.inc()\n",
    "c2.inc()\n",
    "c2.dec()\n",
    "print('c2 =', c2)\n",
    "c2.reset()\n",
    "print('c2 =', c2)\n",
    "\n",
    "c1 = Counter(10)\n",
    "c2 = Counter(20)\n",
    "c3 = c1 + c2\n",
    "c4 = c1 - c2\n",
    "print('c3 =', c3)\n",
    "print('c4 =', c4)"
   ]
  },
  {
   "cell_type": "markdown",
   "metadata": {},
   "source": [
    "### 3.\t다음과 같은 기능을 가지는 은행계좌 클래스 BankAccount 클래스를 구현한 뒤, 인스턴스를 생성하여 실행해 보아라."
   ]
  },
  {
   "cell_type": "code",
   "execution_count": 14,
   "metadata": {},
   "outputs": [
    {
     "name": "stdout",
     "output_type": "stream",
     "text": [
      "홍길동님의 계좌 1234-0001의 잔고는 0원입니다.\n",
      "2000원이 입금되었습니다. 잔고는 2000원입니다.\n",
      "홍길동님의 계좌 1234-0001의 잔고는 2000원입니다.\n",
      "홍길동님의 계좌 1234-0001의 잔고는 1500원입니다.\n",
      "계좌 잔고는 1500원으로 인출 요구 금액 5000원 보다 작습니다.\n"
     ]
    }
   ],
   "source": [
    "class BackAccount:\n",
    "    def __init__(self, name, num, balance=0):\n",
    "        self.__name = name\n",
    "        self.__account_num = num\n",
    "        self.__balance = balance\n",
    "    def __str__(self):\n",
    "        return f'{self.get_name()}님의 계좌 {self.get_account_num()}의 잔고는 {self.get_balance()}원입니다.'\n",
    "    def get_name(self):\n",
    "        return self.__name\n",
    "    def get_account_num(self):\n",
    "        return self.__account_num\n",
    "    def get_balance(self):\n",
    "        return self.__balance\n",
    "    def deposit(self, money):\n",
    "        self.__balance += money\n",
    "        print(f'{money}원이 입금되었습니다. 잔고는 {self.get_balance()}원입니다.')\n",
    "    def withdraw(self, money):\n",
    "        if (self.__balance -money) <0:\n",
    "            print(f'계좌 잔고는 {self.get_balance()}원으로 인출 요구 금액 {money}원 보다 작습니다.')\n",
    "        else:\n",
    "            self.__balance -= money\n",
    "\n",
    "\n",
    "\n",
    "\n",
    "\n",
    "account1 = BackAccount('홍길동', '1234-0001')\n",
    "print(account1)\n",
    "account1.deposit(2000)\n",
    "print(account1)\n",
    "account1.withdraw(500)\n",
    "print(account1)\n",
    "account1.withdraw(5000)\n"
   ]
  },
  {
   "cell_type": "markdown",
   "metadata": {},
   "source": [
    "### 4.\t다음과 같은 기능을 가지는 Student라는 학생 클래스를 구현하여라. 그리고 인스턴스를 생성하여 실행해보아라."
   ]
  },
  {
   "cell_type": "code",
   "execution_count": 19,
   "metadata": {},
   "outputs": [
    {
     "name": "stdout",
     "output_type": "stream",
     "text": [
      "이름 : 홍길동, 학번 : 20200012\n",
      "국어성적 : 85, 수학성적 : 90, 과학성적 : 95\n",
      "합계 : 270, 평균 : 90.0\n"
     ]
    }
   ],
   "source": [
    "class Student:\n",
    "    def __init__(self, name, student_id):\n",
    "        self.__name = name\n",
    "        self.__student_id = student_id\n",
    "        self.__korean_quiz = 0\n",
    "        self.__math_quiz = 0\n",
    "        self.__science_quiz = 0\n",
    "        self.__total_score = 0\n",
    "    def __str__(self):\n",
    "        return f\"이름 : {self.get_name()}, 학번 : {self.get_student_id()}\\n국어성적 : {self.get_korean_quiz()}, 수학성적 : {self.get_math_quiz()}, 과학성적 : {self.get_science_quiz()}\\n합계 : {self.get_total_score()}, 평균 : {self.get_avg_score()}\"\n",
    "    def get_name(self):\n",
    "        return self.__name\n",
    "    def get_student_id(self):\n",
    "        return self.__student_id\n",
    "    def get_korean_quiz(self):\n",
    "        return self.__korean_quiz\n",
    "    def get_math_quiz(self):\n",
    "        return self.__math_quiz\n",
    "    def get_science_quiz(self):\n",
    "        return self.__science_quiz\n",
    "    def set_korean_quiz(self, score):\n",
    "        self.__korean_quiz = score\n",
    "        self.__total_score += score\n",
    "    def set_math_quiz(self, score):\n",
    "        self.__math_quiz = score\n",
    "        self.__total_score += score\n",
    "    def set_science_quiz(self, score):\n",
    "        self.__science_quiz = score\n",
    "        self.__total_score += score\n",
    "    def get_total_score(self):\n",
    "        return self.__total_score\n",
    "    def get_avg_score(self):\n",
    "        return self.__total_score/3\n",
    "\n",
    "name = input('학생의 이름을 입력하세요 : ')\n",
    "student_id = input('학생의 학번을 입력하세요 : ')\n",
    "\n",
    "student = Student(name, student_id)\n",
    "\n",
    "korean_quiz = int(input('학생의 국어 성적을 입력하세요 : '))\n",
    "math_quiz = int(input('학생의 수학 성적을 입력하세요 : '))\n",
    "science_quiz = int(input('학생의 과학 성적을 입력하세요 : '))\n",
    "student.set_korean_quiz(korean_quiz)\n",
    "student.set_math_quiz(math_quiz)\n",
    "student.set_science_quiz(science_quiz)\n",
    "print(student)"
   ]
  },
  {
   "cell_type": "markdown",
   "metadata": {},
   "source": [
    "### 5.\t다음과 같은 기능을 가지는  TV클래스를 구현하여라. 그리고 이 클래스를 이용하여 인스턴스를 생성하여라. 이 클래스는 다음과 같은 속성과 메서드를 가진다.\n",
    "A.\t속성\n",
    "-\t인스턴스변수\n",
    "1.\t__volume: 0~20까지 볼륨값 가짐\n",
    "2.\t__channel: 0~200까지 채널값 가짐\n",
    "3.\t__is_on: 켜짐 상태면 True, 꺼짐 상태면 False 값 가짐\n",
    "-\t클래스 변수\n",
    "1.\tMIN_VOLUME: 볼륨의 최솟값으로 0이라는 상수\n",
    "2.\tMAX_VOLUME: 볼륨의 최댓값으로 20이라는 상수\n",
    "3.\tMIN_CHANNEL: 채널의 최솟값으로 0이라는 상수\n",
    "4.\tMAX_CHANNEL: 채널의 최댓값으로 200이라는 상수\n",
    "B.\t메서드\n",
    "-\t__init__ : 디폴트 볼륨 = 5 / 디폴트 채널 = 0일경우 꺼짐 상태 기본값\n",
    "-\t__str__ : TV 볼륨, 채널 상태를 문자열로 반환, TV가 꺼짐 상태일 경우 “TV가 꺼짐 상태입니다”를 반환함\n",
    "-\ttoggle_power: TV 상태 꺼짐 <-> 켜짐 변환\n",
    "-\tget_channel: 채널 값 반환\n",
    "-\tset_channel: 채널값 choice값으로 설정. 이때 choice 값이 0~201사이 값이 아니면 “채널오류” 출력\n",
    "-\tget_volume: 볼륨값 반환\n",
    "-\tset_volume: 볼륨값 choice값으로 설정. 이때 choice 값이 0~20사이 값이 아니면 “볼륨오류” 출력\n",
    "-\tvolume_up: 볼륨 1 증가. 최댓값 MAX_VOLUME\n",
    "-\tvolume_down: 볼륨 1 감소, 최솟값 MIN_VOLUME\n",
    "-\tchannel_up: 채널 1 증가, 201이상 될 경우 MIN_CHANNEL(=0)로 돌아감\n",
    "-\tchannel_down: 채널 1 감소, 0이하 될 경우 MAX_CHANNEL(=200)로 돌아감\n"
   ]
  },
  {
   "cell_type": "code",
   "execution_count": 2,
   "metadata": {},
   "outputs": [
    {
     "name": "stdout",
     "output_type": "stream",
     "text": [
      "TV가 꺼짐 상태입니다\n",
      "볼륨 = 5, 채널 = 0\n",
      "볼륨 = 5, 채널 = 200\n",
      "볼륨 = 6, 채널 = 0\n"
     ]
    }
   ],
   "source": [
    "class TV:\n",
    "    # class variable\n",
    "    MIN_VOLUME = 0\n",
    "    MAX_VOLUME = 20\n",
    "    MIN_CHANNEL = 0\n",
    "    MAX_CHANNEL = 200\n",
    "\n",
    "    def __init__(self):\n",
    "        self.__volume = 5\n",
    "        self.__channel = 0\n",
    "        self.__is_on = False\n",
    "    def __str__(self):\n",
    "        if self.__is_on == False:\n",
    "            return \"TV가 꺼짐 상태입니다\"\n",
    "        else:\n",
    "            return f\"볼륨 = {self.get_volume()}, 채널 = {self.get_channel()}\"\n",
    "    def toggle_power(self):\n",
    "        if self.__is_on == True:\n",
    "            self.__is_on = False\n",
    "        else:\n",
    "            self.__is_on = True\n",
    "    def get_channel(self):\n",
    "        return self.__channel\n",
    "    def set_channel(self, choice):\n",
    "        if choice <TV.MIN_CHANNEL or choice >TV.MAX_CHANNEL:\n",
    "            print(\"채널 오류\")\n",
    "        else:\n",
    "            self.__channel = choice\n",
    "    def get_volume(self):\n",
    "        return self.__volume\n",
    "    def set_volume(self, choice):\n",
    "        if choice < TV.MIN_VOLUME or choice > TV.MAX_VOLUME:\n",
    "            print(\"볼륨 오류\")\n",
    "        else:\n",
    "            self.__channel = choice\n",
    "        self.__volume = choice\n",
    "    def volume_up(self):\n",
    "        self.__volume +=1\n",
    "        if self.get_volume() >TV.MAX_VOLUME:\n",
    "            self.__volume = TV.MAX_VOLUME\n",
    "    def volume_down(self):\n",
    "        self.__volume -=1\n",
    "        if self.get_volume() <TV.MAX_VOLUME:\n",
    "            self.__volume = TV.MAX_VOLUME\n",
    "    def channel_up(self):\n",
    "        self.__channel +=1\n",
    "        if self.__channel > TV.MAX_CHANNEL:\n",
    "            self.__channel = TV.MIN_CHANNEL\n",
    "    def channel_down(self):\n",
    "        self.__channel -=1\n",
    "        if self.__channel < TV.MIN_CHANNEL:\n",
    "            self.__channel = TV.MAX_CHANNEL\n",
    "    \n",
    "my_tv = TV()\n",
    "print(my_tv)\n",
    "my_tv.toggle_power()\n",
    "print(my_tv)\n",
    "my_tv.set_channel(200)\n",
    "print(my_tv)\n",
    "my_tv.volume_up()\n",
    "my_tv.channel_up()\n",
    "print(my_tv)"
   ]
  },
  {
   "cell_type": "markdown",
   "metadata": {},
   "source": [
    "### 6.\t다음과 같은 기능을 가지는 Rectangle 클래스를 구현하여라. 그리고 이 클래스를 이용하여 인스턴스를 생성하여라. 이 클래스는 다음과 같은 속성과 동작을 가진다.\n",
    "-\t속성\n",
    "1.\t인스턴스변수\n",
    "A.\t__x: 사각형 좌 상단 x값\n",
    "B.\t__y: 사각형 좌 상단 y값\n",
    "C.\t__width: 사각형 너비\n",
    "D.\t__height: 사각형 높이\n",
    "2.\t메서드\n",
    "A.\t__init__: x,y,width, height 매개변수로 인스턴스 변수 초기화\n",
    "B.\t__str__: 좌표, 너비, 높이, 면적 문자열로 반환\n",
    "C.\tset_x, set_y, set_width, set_height: x, y, width, height 지정\n",
    "D.\tget_x, get_y, get_width, get_height: x, y, width, height 반환\n",
    "E.\tarea: 사각형 면적 반환\n",
    "F.\toverlaps( rec ) : 겹치면 True, 안겹치면 False\n",
    "G.\tcontain(rec): 포함되면 True, 안포함되면 False\n"
   ]
  },
  {
   "cell_type": "code",
   "execution_count": null,
   "metadata": {},
   "outputs": [],
   "source": [
    "class Rectangle:\n",
    "    def __init__(self, x, y,w,h):\n",
    "        self.__x = x\n",
    "        self.__y = y\n",
    "        self.__width = w\n",
    "        self.__height = h\n",
    "    def __str__(self):\n",
    "        return f'Rectangle : (x = {self.get_x()}, y= {self.get_y()}, h = {self.get_height()}), 면적: {self.get_width()}'\n",
    "    def set_x(self, x):\n",
    "        self.__x = x\n",
    "    def set_y(self, y):\n",
    "        self.__y = y\n",
    "    def set_width(self, width):\n",
    "        self.__width = width\n",
    "    def set_height(self, height):\n",
    "        self.__height = height\n",
    "    def get_x(self):\n",
    "        return self.__x\n",
    "    def get_y(self):\n",
    "        return self.__y\n",
    "    def get_width(self):\n",
    "        return self.__width\n",
    "    def get_height(self):\n",
    "        return self.__height\n",
    "    def area(self):\n",
    "        return (self.get_height() * self.get_width())\n",
    "    def overlaps(rec):\n",
    "        "
   ]
  }
 ],
 "metadata": {
  "kernelspec": {
   "display_name": "Python 3.10.6 64-bit",
   "language": "python",
   "name": "python3"
  },
  "language_info": {
   "codemirror_mode": {
    "name": "ipython",
    "version": 3
   },
   "file_extension": ".py",
   "mimetype": "text/x-python",
   "name": "python",
   "nbconvert_exporter": "python",
   "pygments_lexer": "ipython3",
   "version": "3.10.6 (tags/v3.10.6:9c7b4bd, Aug  1 2022, 21:53:49) [MSC v.1932 64 bit (AMD64)]"
  },
  "orig_nbformat": 4,
  "vscode": {
   "interpreter": {
    "hash": "20c9d94bea3bcd43e69d1e5f02ce962985699c48de0c68502218d203d4c4e41a"
   }
  }
 },
 "nbformat": 4,
 "nbformat_minor": 2
}
