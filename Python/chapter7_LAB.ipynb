{
 "cells": [
  {
   "cell_type": "markdown",
   "metadata": {},
   "source": [
    "## Chapter7 LAB"
   ]
  },
  {
   "cell_type": "markdown",
   "metadata": {},
   "source": [
    "### LAB 7.1\n",
    "1. datetime 모듈을 사용하여 오늘의 날짜와 시간을 다음과 같이 출력하여라. 이때 hour 값이 10일 경우 오전 10시, 13이면 오후 1시와 같이 오전/오후 정보를 출력하여라."
   ]
  },
  {
   "cell_type": "code",
   "execution_count": 1,
   "metadata": {},
   "outputs": [
    {
     "name": "stdout",
     "output_type": "stream",
     "text": [
      "오늘의 날짜 : 2022년 10월 17일\n",
      "현재시간 : 오후 9시 52분 11초\n"
     ]
    }
   ],
   "source": [
    "from datetime import datetime as dt\n",
    "today = dt.today()\n",
    "\n",
    "print('오늘의 날짜 : '+str(today.year)+'년 '+str(today.month)+'월 '+str(today.day)+'일')\n",
    "if str(today.hour) == 'AM':\n",
    "    print('현재시간 : 오전 '+str(today.hour)+'시 '+str(today.minute)+'분 '+str(today.second)+'초')\n",
    "else:\n",
    "    print('현재시간 : 오후 '+str(today.hour)+'시 '+str(today.minute)+'분 '+str(today.second)+'초')\n"
   ]
  },
  {
   "cell_type": "markdown",
   "metadata": {},
   "source": [
    "### LAB 7.2\n",
    "1. 앞서 배운 남은 날짜 계산 프로그램을 수정하여 오늘 날짜와 함께 2025년 크리스마스까지의 남은 날짜와 시간을 구해서 "
   ]
  },
  {
   "cell_type": "code",
   "execution_count": 6,
   "metadata": {},
   "outputs": [
    {
     "name": "stdout",
     "output_type": "stream",
     "text": [
      "오늘은 2022년 10월 17일입니다.\n",
      "2025년 크리스마스 까지는 1164일 14시간 남았습니다.\n"
     ]
    }
   ],
   "source": [
    "print('오늘은 '+str(today.year)+'년 '+str(today.month)+'월 '+str(today.day)+'일입니다.')\n",
    "xMas = dt(2025,12,25)\n",
    "time_gap = xMas - dt.now()\n",
    "print(f'2025년 크리스마스 까지는 {time_gap.days}일 {time_gap.seconds//3600}시간 남았습니다.')"
   ]
  },
  {
   "cell_type": "markdown",
   "metadata": {},
   "source": [
    "2. 앞서 배운 남은 날짜 계산 프로그램을 수정하여 2036년 1월 1일까지의 남은 날짜와 시간을 구해서 출력해보자."
   ]
  },
  {
   "cell_type": "code",
   "execution_count": 7,
   "metadata": {},
   "outputs": [
    {
     "name": "stdout",
     "output_type": "stream",
     "text": [
      "오늘은 2022년 10월 17일입니다.\n",
      "2036년 새해 까지는 4823일 14시간 남았습니다.\n"
     ]
    }
   ],
   "source": [
    "print('오늘은 '+str(today.year)+'년 '+str(today.month)+'월 '+str(today.day)+'일입니다.')\n",
    "new_year = dt(2036,1,1)\n",
    "time_gap2 = new_year - dt.now()\n",
    "print(f'2036년 새해 까지는 {time_gap2.days}일 {time_gap2.seconds//3600}시간 남았습니다.')"
   ]
  },
  {
   "cell_type": "markdown",
   "metadata": {},
   "source": [
    "3. 다가오는 자신의 생일까지 남은 날짜와 시간을 출력해보자."
   ]
  },
  {
   "cell_type": "code",
   "execution_count": 8,
   "metadata": {},
   "outputs": [
    {
     "name": "stdout",
     "output_type": "stream",
     "text": [
      "오늘은 2022년 10월 17일입니다.\n",
      "2022년 생일까지는 43일 14시간 남았습니다.\n"
     ]
    }
   ],
   "source": [
    "print('오늘은 '+str(today.year)+'년 '+str(today.month)+'월 '+str(today.day)+'일입니다.')\n",
    "my_birth_day = dt(2022,11,30)\n",
    "time_gap3 = my_birth_day - dt.now()\n",
    "print(f'2022년 생일까지는 {time_gap3.days}일 {time_gap3.seconds//3600}시간 남았습니다.')"
   ]
  },
  {
   "cell_type": "markdown",
   "metadata": {},
   "source": [
    "### LAB 7.3\n",
    "1. timedelta 클래스를 사용하여 오늘 날짜로부터 1,000일 후의 날짜를 구하시오"
   ]
  },
  {
   "cell_type": "code",
   "execution_count": 14,
   "metadata": {},
   "outputs": [
    {
     "name": "stdout",
     "output_type": "stream",
     "text": [
      "오늘 : 2022-10-17\n",
      "1,000일 후의 날짜 : 2025-07-13\n"
     ]
    }
   ],
   "source": [
    "import datetime as dt\n",
    "print('오늘 :', dt.datetime.now().date())\n",
    "thousand = dt.timedelta(days=1000)\n",
    "plus1000day = dt.datetime.now() + thousand\n",
    "print('1,000일 후의 날짜 :', plus1000day.date())"
   ]
  },
  {
   "cell_type": "markdown",
   "metadata": {},
   "source": [
    "2. timedelta 클래스를 이용하여 커플들을 위한 프로그램을 작성하자. 다음과 같이 처음 사귄 연도와 월, 일을 띄어쓰기로 입력하면 100일 기념일을 출력하는 기능이 있다. 프로그램의 이름은 couple_day.py라고 정하도록 하자."
   ]
  },
  {
   "cell_type": "code",
   "execution_count": 18,
   "metadata": {},
   "outputs": [
    {
     "name": "stdout",
     "output_type": "stream",
     "text": [
      "100일 기념일은 : 2019년 7월 7일입니다.\n"
     ]
    }
   ],
   "source": [
    "d_day = list(map(int, input('처음으로 사귄 연도와 월, 일을 입력하시오 : ').split()))\n",
    "start_date = dt.datetime(d_day[0], d_day[1], d_day[2])\n",
    "hundred = dt.timedelta(days=99)\n",
    "plus100day = start_date + hundred\n",
    "print(f'100일 기념일은 : {plus100day.year}년 {plus100day.month}월 {plus100day.day}일입니다.')"
   ]
  },
  {
   "cell_type": "markdown",
   "metadata": {},
   "source": [
    "### LAB 7.4\n",
    "1. math 모듈과 for-in range()를 사용하여 4의 2승부터 10승까지를 화면에 출력하여라."
   ]
  },
  {
   "cell_type": "code",
   "execution_count": 2,
   "metadata": {},
   "outputs": [
    {
     "name": "stdout",
     "output_type": "stream",
     "text": [
      "4**  2 =       16.0 \n",
      "4**  3 =       64.0 \n",
      "4**  4 =      256.0 \n",
      "4**  5 =     1024.0 \n",
      "4**  6 =     4096.0 \n",
      "4**  7 =    16384.0 \n",
      "4**  8 =    65536.0 \n",
      "4**  9 =   262144.0 \n",
      "4** 10 =  1048576.0 \n"
     ]
    }
   ],
   "source": [
    "import math as m\n",
    "for i in range(2,11):\n",
    "    print(f'4** {i:2} = {m.pow(4,i):10} ')\n"
   ]
  },
  {
   "cell_type": "markdown",
   "metadata": {},
   "source": [
    "2. 일반각도 0도에서 180도를 10도 단위로 출력하여라. 이때 이 일반각도에 대응되는 라디안 각도 값을 함께 출력하라."
   ]
  },
  {
   "cell_type": "code",
   "execution_count": 3,
   "metadata": {},
   "outputs": [
    {
     "name": "stdout",
     "output_type": "stream",
     "text": [
      "  0 degree = 0.0 radian\n",
      " 10 degree = 0.175 radian\n",
      " 20 degree = 0.349 radian\n",
      " 30 degree = 0.524 radian\n",
      " 40 degree = 0.698 radian\n",
      " 50 degree = 0.873 radian\n",
      " 60 degree = 1.047 radian\n",
      " 70 degree = 1.222 radian\n",
      " 80 degree = 1.396 radian\n",
      " 90 degree = 1.571 radian\n",
      "100 degree = 1.745 radian\n",
      "110 degree = 1.92 radian\n",
      "120 degree = 2.094 radian\n",
      "130 degree = 2.269 radian\n",
      "140 degree = 2.443 radian\n",
      "150 degree = 2.618 radian\n",
      "160 degree = 2.793 radian\n",
      "170 degree = 2.967 radian\n",
      "180 degree = 3.142 radian\n"
     ]
    }
   ],
   "source": [
    "for i in range(0,181,10):\n",
    "    print(f'{i:3} degree = {round(m.radians(i),3)} radian')"
   ]
  },
  {
   "cell_type": "markdown",
   "metadata": {},
   "source": [
    "3. math 모듈과 for 문을 사용하여 일반각도 sin 0도에서 부터 180도까지의 값을 10도 간격으로 출력하라."
   ]
  },
  {
   "cell_type": "code",
   "execution_count": 4,
   "metadata": {},
   "outputs": [
    {
     "name": "stdout",
     "output_type": "stream",
     "text": [
      "sin(   0) = 0.0\n",
      "sin(  10) = 0.17\n",
      "sin(  20) = 0.34\n",
      "sin(  30) = 0.5\n",
      "sin(  40) = 0.64\n",
      "sin(  50) = 0.77\n",
      "sin(  60) = 0.87\n",
      "sin(  70) = 0.94\n",
      "sin(  80) = 0.98\n",
      "sin(  90) = 1.0\n",
      "sin( 100) = 0.98\n",
      "sin( 110) = 0.94\n",
      "sin( 120) = 0.87\n",
      "sin( 130) = 0.77\n",
      "sin( 140) = 0.64\n",
      "sin( 150) = 0.5\n",
      "sin( 160) = 0.34\n",
      "sin( 170) = 0.17\n",
      "sin( 180) = 0.0\n"
     ]
    }
   ],
   "source": [
    "for i in range(0,181,10):\n",
    "    print(f'sin( {i:3}) = {round(m.sin(m.radians(i)),2)}')"
   ]
  },
  {
   "cell_type": "markdown",
   "metadata": {},
   "source": [
    "### LAB 7.5\n",
    "1. random 모듈의 randrange() 함수를 이용해서 0에서 100이하의 정수 중에서 5의 배수 값을 임의로 3개 선택하여 리스트 형식으로 출력해 보시오."
   ]
  },
  {
   "cell_type": "code",
   "execution_count": 44,
   "metadata": {},
   "outputs": [
    {
     "name": "stdout",
     "output_type": "stream",
     "text": [
      "0에서 100이하의 정수 중에서 5의 배수\n",
      "[45, 60, 100]\n"
     ]
    }
   ],
   "source": [
    "import random as rd\n",
    "\n",
    "a_list=[]\n",
    "for i in range(3):\n",
    "    a_list.append(rd.randrange(0,101,5))\n",
    "\n",
    "print(f'0에서 100이하의 정수 중에서 5의 배수\\n{sorted(a_list)}')    # 오름차순 정렬"
   ]
  },
  {
   "cell_type": "markdown",
   "metadata": {},
   "source": [
    "2. 1에서 10 사이의 정수 중 임의의 정수 3개를 sample() 함수를 이용하여 출력하시오."
   ]
  },
  {
   "cell_type": "code",
   "execution_count": 42,
   "metadata": {},
   "outputs": [
    {
     "name": "stdout",
     "output_type": "stream",
     "text": [
      "1에서 10 사이의 임의의 정수 : [2, 5, 7]\n"
     ]
    }
   ],
   "source": [
    "b_list = rd.sample(range(1,11), 3)\n",
    "print('1에서 10 사이의 임의의 정수 :',b_list)"
   ]
  }
 ],
 "metadata": {
  "kernelspec": {
   "display_name": "Python 3.10.6 64-bit",
   "language": "python",
   "name": "python3"
  },
  "language_info": {
   "codemirror_mode": {
    "name": "ipython",
    "version": 3
   },
   "file_extension": ".py",
   "mimetype": "text/x-python",
   "name": "python",
   "nbconvert_exporter": "python",
   "pygments_lexer": "ipython3",
   "version": "3.10.6"
  },
  "orig_nbformat": 4,
  "vscode": {
   "interpreter": {
    "hash": "20c9d94bea3bcd43e69d1e5f02ce962985699c48de0c68502218d203d4c4e41a"
   }
  }
 },
 "nbformat": 4,
 "nbformat_minor": 2
}
