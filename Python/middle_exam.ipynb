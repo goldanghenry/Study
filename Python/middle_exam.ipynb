{
 "cells": [
  {
   "cell_type": "markdown",
   "metadata": {},
   "source": [
    "Which of the following are valid ways to specify the string literal foo'bar in Python?\n",
    "And write down the reason why they are valid?"
   ]
  },
  {
   "cell_type": "code",
   "execution_count": 5,
   "metadata": {},
   "outputs": [
    {
     "ename": "SyntaxError",
     "evalue": "unterminated string literal (detected at line 5) (2824261346.py, line 5)",
     "output_type": "error",
     "traceback": [
      "\u001b[1;36m  Cell \u001b[1;32mIn [5], line 5\u001b[1;36m\u001b[0m\n\u001b[1;33m    print('foo'bar')\u001b[0m\n\u001b[1;37m                  ^\u001b[0m\n\u001b[1;31mSyntaxError\u001b[0m\u001b[1;31m:\u001b[0m unterminated string literal (detected at line 5)\n"
     ]
    }
   ],
   "source": [
    "print(\"\"\"foo'bar\"\"\")\n",
    "print('foo\"bar')\n",
    "print(\"foo'bar\")\n",
    "print('foo\\'bar')\n",
    "# print('foo'bar')"
   ]
  },
  {
   "cell_type": "markdown",
   "metadata": {},
   "source": [
    "you're given a list ['sunday', 'monday', 'tuesday', 'wednesday', 'thursday', 'friday', 'saturday']. Make the result below using slicing and upper method."
   ]
  },
  {
   "cell_type": "code",
   "execution_count": 7,
   "metadata": {},
   "outputs": [
    {
     "name": "stdout",
     "output_type": "stream",
     "text": [
      "['SUN', 'MON', 'TUE', 'WED', 'THU', 'FRI', 'SAT']\n"
     ]
    }
   ],
   "source": [
    "list_a = ['sunday', 'monday', 'tuesday', 'wednesday', 'thursday', 'friday', 'saturday']\n",
    "\n",
    "list_b =[]\n",
    "for i in list_a:\n",
    "    list_b.append(i[:3].upper())\n",
    "print(list_b)"
   ]
  },
  {
   "cell_type": "markdown",
   "metadata": {},
   "source": [
    "what will be the output?"
   ]
  },
  {
   "cell_type": "code",
   "execution_count": 15,
   "metadata": {},
   "outputs": [
    {
     "name": "stdout",
     "output_type": "stream",
     "text": [
      "-10\n",
      "-6\n",
      "9\n"
     ]
    }
   ],
   "source": [
    "a = ~9  # -9-1\n",
    "b = a+4 # -6\n",
    "print(a)\n",
    "print(b)\n",
    "a = ~(-10)\n",
    "print(a)    # a+1의 음수화\n"
   ]
  },
  {
   "cell_type": "markdown",
   "metadata": {},
   "source": [
    "Write down your Python code after reading the scenario below.<br>\n",
    "\"A user enters an integer number and the code tells if it is even or odd\""
   ]
  },
  {
   "cell_type": "code",
   "execution_count": 16,
   "metadata": {},
   "outputs": [
    {
     "name": "stdout",
     "output_type": "stream",
     "text": [
      "홀수 입니다.\n"
     ]
    }
   ],
   "source": [
    "n = int(input('정수를 입력하시오'))\n",
    "if n %2 == 0:\n",
    "    print('짝수 입니다')\n",
    "else:\n",
    "    print('홀수 입니다.')"
   ]
  },
  {
   "cell_type": "markdown",
   "metadata": {},
   "source": [
    "the formula to convert Fahrenheit to Celsius"
   ]
  },
  {
   "cell_type": "code",
   "execution_count": 17,
   "metadata": {},
   "outputs": [
    {
     "name": "stdout",
     "output_type": "stream",
     "text": [
      "Celsius\tFahrenheit\n",
      "0\t32.0\n",
      "5\t41.0\n",
      "10\t50.0\n",
      "15\t59.0\n",
      "20\t68.0\n",
      "25\t77.0\n",
      "30\t86.0\n",
      "35\t95.0\n",
      "40\t104.0\n",
      "45\t113.0\n",
      "50\t122.0\n",
      "55\t131.0\n",
      "60\t140.0\n",
      "65\t149.0\n",
      "70\t158.0\n",
      "75\t167.0\n",
      "80\t176.0\n",
      "85\t185.0\n",
      "90\t194.0\n",
      "95\t203.0\n",
      "100\t212.0\n"
     ]
    }
   ],
   "source": [
    "print('Celsius\\tFahrenheit')\n",
    "for i in range(0,101,5):\n",
    "    print(f'{i}\\t{(9/5)*i+32}')"
   ]
  },
  {
   "cell_type": "markdown",
   "metadata": {},
   "source": [
    "The list below represents the test scores of a class. Code a Python program that generates the total and average of them"
   ]
  },
  {
   "cell_type": "code",
   "execution_count": 18,
   "metadata": {},
   "outputs": [
    {
     "name": "stdout",
     "output_type": "stream",
     "text": [
      "705 78.33333333333333\n"
     ]
    }
   ],
   "source": [
    "list_a = [70,60,55,75,95,90,80,80,100]\n",
    "\n",
    "print(sum(list_a), sum(list_a)/len(list_a))"
   ]
  },
  {
   "cell_type": "markdown",
   "metadata": {},
   "source": [
    "what will be the output?"
   ]
  },
  {
   "cell_type": "code",
   "execution_count": 19,
   "metadata": {},
   "outputs": [
    {
     "name": "stdout",
     "output_type": "stream",
     "text": [
      "2 3\n"
     ]
    }
   ],
   "source": [
    "a = 2*2//2  # 2\n",
    "b = 3//2*3  # 3\n",
    "print(a,b)"
   ]
  },
  {
   "cell_type": "markdown",
   "metadata": {},
   "source": [
    "provide your answer when you're given a list"
   ]
  },
  {
   "cell_type": "code",
   "execution_count": 1,
   "metadata": {},
   "outputs": [
    {
     "name": "stdout",
     "output_type": "stream",
     "text": [
      "False\n",
      "['quux', 'baz', 'foo']\n",
      "['bar', 'baz']\n",
      "['corge', 'quux', 'qux', 'baz', 'bar', 'foo']\n"
     ]
    },
    {
     "data": {
      "text/plain": [
       "True"
      ]
     },
     "execution_count": 1,
     "metadata": {},
     "output_type": "execute_result"
    }
   ],
   "source": [
    "list_ = ['foo', 'bar', 'baz', 'qux','quux', 'corge']\n",
    "print(list_[:] is list_)   # False // is 연산은 완전히 같아야 함(메모리 주소까지) ==는 True\n",
    "# [:] 슬라이싱을 하면서 복사가 이뤄짐(얕은 복사)\n",
    "print(list_[4::-2])     # quux, baz, foo\n",
    "print(list_[-5:-3])     # bar baz\n",
    "print(list_[::-1])      # 역순\n",
    "list_ == list_[:]\n"
   ]
  },
  {
   "cell_type": "markdown",
   "metadata": {},
   "source": [
    "If we list all natural numbers below 10 that are multiples of 3 or 5, we get 3, 5, 6 and 9.<br>\n",
    "The sum of these multiples is 23. Find the sum of all the multiples of 3 or 5 below(이하) 1000."
   ]
  },
  {
   "cell_type": "markdown",
   "metadata": {},
   "source": [
    "https://www.onabcd.com/153"
   ]
  },
  {
   "cell_type": "code",
   "execution_count": 30,
   "metadata": {},
   "outputs": [
    {
     "name": "stdout",
     "output_type": "stream",
     "text": [
      "233168\n"
     ]
    }
   ],
   "source": [
    "sum = 0\n",
    "for i in range(1,1000):\n",
    "    if i%3==0 or i%5==0:\n",
    "        sum+=i\n",
    "print(sum)"
   ]
  },
  {
   "cell_type": "code",
   "execution_count": 8,
   "metadata": {},
   "outputs": [
    {
     "name": "stdout",
     "output_type": "stream",
     "text": [
      "{'k1': 'k1', 'k2': 'k2', 'k3': 'k3'}\n",
      "['k1', 'k2', 'k3']\n",
      "['k1', 'k2', 'k3']\n",
      "[('k1', 'k1'), ('k2', 'k2'), ('k3', 'k3')]\n",
      "k1\n",
      "True\n"
     ]
    }
   ],
   "source": [
    "dict_a ={}\n",
    "dict_a['k1'] = \"k1\"\n",
    "dict_a['k2'] = \"k2\"\n",
    "dict_a['k3'] = \"k3\"\n",
    "print(dict_a)\n",
    "print(list(dict_a.keys()))\n",
    "print(list(dict_a.values()))\n",
    "print(list(dict_a.items()))\n",
    "print(dict_a.get('k1','k4'))\n",
    "print('k3' in dict_a)"
   ]
  },
  {
   "cell_type": "markdown",
   "metadata": {},
   "source": [
    "## mid-term exam"
   ]
  },
  {
   "cell_type": "markdown",
   "metadata": {},
   "source": [
    "### 1번"
   ]
  },
  {
   "cell_type": "code",
   "execution_count": 1,
   "metadata": {},
   "outputs": [
    {
     "name": "stdout",
     "output_type": "stream",
     "text": [
      "-1\n"
     ]
    }
   ],
   "source": [
    "\n",
    "a = ~8\n",
    "b = 8\n",
    "print(a+b)"
   ]
  },
  {
   "cell_type": "markdown",
   "metadata": {},
   "source": [
    "### 2번"
   ]
  },
  {
   "cell_type": "code",
   "execution_count": 2,
   "metadata": {},
   "outputs": [
    {
     "name": "stdout",
     "output_type": "stream",
     "text": [
      "4\n",
      "5\n",
      "6\n",
      "7\n",
      "8\n"
     ]
    }
   ],
   "source": [
    "\n",
    "for i in range(0, 10):\n",
    "    if i < 4:\n",
    "        continue\n",
    "    elif i == 8:\n",
    "        break\n",
    "    else:\n",
    "        print(i)\n",
    "print(i)"
   ]
  },
  {
   "cell_type": "markdown",
   "metadata": {},
   "source": [
    "### 3번"
   ]
  },
  {
   "cell_type": "code",
   "execution_count": 3,
   "metadata": {},
   "outputs": [
    {
     "name": "stdout",
     "output_type": "stream",
     "text": [
      "1:2:3:4\n"
     ]
    }
   ],
   "source": [
    "\n",
    "x = 1\n",
    "\n",
    "while x <=3:\n",
    "    print(x, end=\":\")\n",
    "    x += 1\n",
    "else:\n",
    "    print(x)"
   ]
  },
  {
   "cell_type": "markdown",
   "metadata": {},
   "source": [
    "### 4번"
   ]
  },
  {
   "cell_type": "code",
   "execution_count": 4,
   "metadata": {},
   "outputs": [
    {
     "ename": "TypeError",
     "evalue": "'tuple' object does not support item assignment",
     "output_type": "error",
     "traceback": [
      "\u001b[1;31m---------------------------------------------------------------------------\u001b[0m",
      "\u001b[1;31mTypeError\u001b[0m                                 Traceback (most recent call last)",
      "Cell \u001b[1;32mIn [4], line 3\u001b[0m\n\u001b[0;32m      1\u001b[0m tuple_ \u001b[39m=\u001b[39m (\u001b[39m1\u001b[39m, \u001b[39m2\u001b[39m, \u001b[39m3\u001b[39m)\n\u001b[1;32m----> 3\u001b[0m tuple_[\u001b[39m1\u001b[39;49m] \u001b[39m=\u001b[39m \u001b[39m8\u001b[39m\n\u001b[0;32m      5\u001b[0m \u001b[39mprint\u001b[39m(tuple_)\n",
      "\u001b[1;31mTypeError\u001b[0m: 'tuple' object does not support item assignment"
     ]
    }
   ],
   "source": [
    "\n",
    "tuple_ = (1, 2, 3)\n",
    "tuple_[1] = 8\n",
    "print(tuple_)"
   ]
  },
  {
   "cell_type": "markdown",
   "metadata": {},
   "source": [
    "### 5번"
   ]
  },
  {
   "cell_type": "code",
   "execution_count": 5,
   "metadata": {},
   "outputs": [
    {
     "name": "stdout",
     "output_type": "stream",
     "text": [
      "2 3\n"
     ]
    }
   ],
   "source": [
    "a = 2*2//2\n",
    "b = 3//2*3\n",
    "print(a,b)"
   ]
  },
  {
   "cell_type": "markdown",
   "metadata": {},
   "source": [
    "### 6번"
   ]
  },
  {
   "cell_type": "code",
   "execution_count": 6,
   "metadata": {},
   "outputs": [
    {
     "name": "stdout",
     "output_type": "stream",
     "text": [
      "8\n",
      "16:"
     ]
    }
   ],
   "source": [
    "\n",
    "value = 8\n",
    "def func():\n",
    "    value = 16\n",
    "    print(value, end=\":\")\n",
    "print(value)\n",
    "func()"
   ]
  }
 ],
 "metadata": {
  "kernelspec": {
   "display_name": "Python 3.10.6 64-bit",
   "language": "python",
   "name": "python3"
  },
  "language_info": {
   "codemirror_mode": {
    "name": "ipython",
    "version": 3
   },
   "file_extension": ".py",
   "mimetype": "text/x-python",
   "name": "python",
   "nbconvert_exporter": "python",
   "pygments_lexer": "ipython3",
   "version": "3.10.6"
  },
  "orig_nbformat": 4,
  "vscode": {
   "interpreter": {
    "hash": "20c9d94bea3bcd43e69d1e5f02ce962985699c48de0c68502218d203d4c4e41a"
   }
  }
 },
 "nbformat": 4,
 "nbformat_minor": 2
}
