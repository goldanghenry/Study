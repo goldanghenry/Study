{
 "cells": [
  {
   "cell_type": "markdown",
   "metadata": {},
   "source": [
    "## Chapter5 LAB"
   ]
  },
  {
   "cell_type": "markdown",
   "metadata": {},
   "source": [
    "### LAB 5.1\n",
    "1. 1부터 10까지의 숫자 중에서 짝수를 요소로 가지는 even_list라는 리스트를 생성하여라.(10포함)"
   ]
  },
  {
   "cell_type": "code",
   "execution_count": 2,
   "metadata": {},
   "outputs": [
    {
     "name": "stdout",
     "output_type": "stream",
     "text": [
      "even_list = [2, 4, 6, 8, 10]\n"
     ]
    }
   ],
   "source": [
    "even_list = [2,4,6,8,10]\n",
    "print('even_list =', even_list)"
   ]
  },
  {
   "cell_type": "markdown",
   "metadata": {},
   "source": [
    "2. range() 함수를 이용하여 1번의 문제를 다시 풀어보시오."
   ]
  },
  {
   "cell_type": "code",
   "execution_count": 4,
   "metadata": {},
   "outputs": [
    {
     "name": "stdout",
     "output_type": "stream",
     "text": [
      "even_list = [2, 4, 6, 8, 10]\n"
     ]
    }
   ],
   "source": [
    "even_list = [i for i in range(2,11, 2)]\n",
    "print('even_list =', even_list)"
   ]
  },
  {
   "cell_type": "markdown",
   "metadata": {},
   "source": [
    "3. 'Korea', 'China', 'India', 'Nepal'의 네 원소를 가지는 nations라는 리스트를 생성하여라. print() 함수를 사용하여 이 리스트를 다음과 같이 출력하여라."
   ]
  },
  {
   "cell_type": "code",
   "execution_count": 5,
   "metadata": {},
   "outputs": [
    {
     "name": "stdout",
     "output_type": "stream",
     "text": [
      "nations = ['Korea', 'China', 'India', 'Nepal']\n"
     ]
    }
   ],
   "source": [
    "nations = ['Korea', 'China', 'India', 'Nepal']\n",
    "print('nations =',nations)"
   ]
  },
  {
   "cell_type": "markdown",
   "metadata": {},
   "source": [
    "4. 여러분의 친한 친구 5명의 이름을 원소로 가지는 friends라는 리스트를 생성하여라. 그리고 다음과 같이 출력하여라."
   ]
  },
  {
   "cell_type": "code",
   "execution_count": 6,
   "metadata": {},
   "outputs": [
    {
     "name": "stdout",
     "output_type": "stream",
     "text": [
      "friends = ['길동', '철수', '은지', '지은', '지혜']\n"
     ]
    }
   ],
   "source": [
    "friends = ['길동','철수','은지', '지은', '지혜']\n",
    "print('friends =',friends)"
   ]
  },
  {
   "cell_type": "markdown",
   "metadata": {},
   "source": [
    "5. 'XYZ' 문자열을 이용하여 'X', 'Y', 'Z'라는 요소를 가지는 string이라는 이름의 리스트를 생성하고 다음과 같이 출력하여라."
   ]
  },
  {
   "cell_type": "code",
   "execution_count": 13,
   "metadata": {},
   "outputs": [
    {
     "name": "stdout",
     "output_type": "stream",
     "text": [
      "string = ['X', 'Y', 'Z']\n"
     ]
    }
   ],
   "source": [
    "string = list('XYZ')\n",
    "print('string =',string)"
   ]
  },
  {
   "cell_type": "markdown",
   "metadata": {},
   "source": [
    "### LAB 5-2\n",
    "1. 2부터 10까지의 수중에서 소수를 원소를 가지는 prime_list라는 리스트를 생성하여라. 그리고 이 리스트의 가장 첫 원소를 리스트 인덱싱을 이용하여 다음과 같이 출력하여라.<br>\n",
    "2. 문제 1.의 prime_list의 가장 마지막 원소를 양수 인덱스를 사용하여 출력하여라.<br>\n",
    "3. 문제 1.의 prime_list의 가장 마지막 원소를 음수 인덱스를 사용하여 출력하여라.\n"
   ]
  },
  {
   "cell_type": "code",
   "execution_count": 5,
   "metadata": {},
   "outputs": [
    {
     "name": "stdout",
     "output_type": "stream",
     "text": [
      "1. prime_list의 첫 원소 : 2\n",
      "2. prime_list의 마지막 원소 : 7\n",
      "3. prime_list의 마지막 원소 : 7\n"
     ]
    }
   ],
   "source": [
    "prime_list = []\n",
    "for n in range(2,11):   # 2~10\n",
    "    if n%2 == 0 and n!=2:   # 2를 제외하고 2로 나누어 떨어지면 소수가 아님\n",
    "        continue\n",
    "    else:\n",
    "        for i in range(3,int(n**(1/2))+1, 2):   \n",
    "            if n%i==0:\n",
    "                break\n",
    "        else:\n",
    "            prime_list.append(n)\n",
    "print('1. prime_list의 첫 원소 :',prime_list[0])\n",
    "print('2. prime_list의 마지막 원소 :',prime_list[3])\n",
    "print('3. prime_list의 마지막 원소 :',prime_list[-1])"
   ]
  },
  {
   "cell_type": "markdown",
   "metadata": {},
   "source": [
    "4. 'Korea', 'China', 'Russia', 'Malaysia'를 원소로 가지는 nations라는 리스트를 생성하여라. 그리고 이 리스트의 가장 첫 원소를 print() 함수를 이용하여 출력하여라.<br>\n",
    "5. 4번에서 생성한 nations 리스트의 가장 마지막 원소를 음수 인덱스를 사용하여 출력하여라<br>\n",
    "6. 4번에서 생선한 nations 리스트의 가장 마지막 원소를 len(nations)-1 인덱스를 사용하여 출력하여라.<br>"
   ]
  },
  {
   "cell_type": "code",
   "execution_count": 9,
   "metadata": {},
   "outputs": [
    {
     "name": "stdout",
     "output_type": "stream",
     "text": [
      "4. nations = Korea\n",
      "5. nations = Malaysia\n",
      "6. nations = Malaysia\n"
     ]
    }
   ],
   "source": [
    "nations = ['Korea', 'China', 'Russia', 'Malaysia']\n",
    "print('4. nations =',nations[0])\n",
    "print('5. nations =',nations[-1])\n",
    "print('6. nations =',nations[len(nations)-1])"
   ]
  },
  {
   "cell_type": "markdown",
   "metadata": {},
   "source": [
    "### LAB 5-3\n",
    "1. 1부터 10까지의 수들 중에서 소수 원소릴 가지는 prime_list라는 리스트를 생성하시오. 그리고 append() 메소드를 사용하여 11을 추가하시오. 이 때 추가 전과 추가 후의 결과를 다음과 같이 출력하시오."
   ]
  },
  {
   "cell_type": "code",
   "execution_count": 7,
   "metadata": {},
   "outputs": [
    {
     "name": "stdout",
     "output_type": "stream",
     "text": [
      "소수 목룍 : [2, 3, 5, 7]\n",
      "추가 후 소수 목룍 : [2, 3, 5, 7, 11]\n"
     ]
    }
   ],
   "source": [
    "print('소수 목룍 :',prime_list)\n",
    "prime_list.append(11)\n",
    "print('추가 후 소수 목룍 :',prime_list)"
   ]
  },
  {
   "cell_type": "markdown",
   "metadata": {},
   "source": [
    "2. 1번 문제의 prime_list라는 리스트에 있는 3이라는 원소를 remove()메소드를 사용하여 제거하시오. 이 때 삭제 전과 삭제 후의 결과를 다음과 같이 출력하시오."
   ]
  },
  {
   "cell_type": "code",
   "execution_count": 8,
   "metadata": {},
   "outputs": [
    {
     "name": "stdout",
     "output_type": "stream",
     "text": [
      "삭제 전 소수 목룍 : [2, 3, 5, 7, 11]\n",
      "삭제 후 소수 목룍 : [2, 5, 7, 11]\n"
     ]
    }
   ],
   "source": [
    "print('삭제 전 소수 목룍 :',prime_list)\n",
    "prime_list.remove(3)\n",
    "print('삭제 후 소수 목룍 :',prime_list)"
   ]
  },
  {
   "cell_type": "markdown",
   "metadata": {},
   "source": [
    "3. append() 메소드를 사용하여 nations list에 'Nepal'을 추가하시오."
   ]
  },
  {
   "cell_type": "code",
   "execution_count": 3,
   "metadata": {},
   "outputs": [
    {
     "name": "stdout",
     "output_type": "stream",
     "text": [
      "국가 목록 : ['Korea', 'China', 'Russia', 'Malaysia']\n",
      "추가 후 국가 목룍 : ['Korea', 'China', 'Russia', 'Malaysia', 'Nepal']\n"
     ]
    }
   ],
   "source": [
    "print('국가 목록 :',nations)\n",
    "nations.append('Nepal')\n",
    "print('추가 후 국가 목룍 :',nations)"
   ]
  },
  {
   "cell_type": "markdown",
   "metadata": {},
   "source": [
    "4. 3번 문제에서, 'Japan'과 'Russia'가 있는지 검사하여 출력하시오."
   ]
  },
  {
   "cell_type": "code",
   "execution_count": 4,
   "metadata": {},
   "outputs": [
    {
     "name": "stdout",
     "output_type": "stream",
     "text": [
      "Japan 는(은) 국가 목록에 없습니다.\n",
      "Russia 는(은) 국가 목록에 있습니다.\n"
     ]
    }
   ],
   "source": [
    "for i in ['Japan', 'Russia']:\n",
    "    if i in nations:\n",
    "        print(f'{i} 는(은) 국가 목록에 있습니다.')\n",
    "    else:\n",
    "        print(f'{i} 는(은) 국가 목록에 없습니다.')"
   ]
  },
  {
   "cell_type": "markdown",
   "metadata": {},
   "source": [
    "### LAB 5-4\n",
    "1. 1부터 10까지의 수중에서 소수 원소를 가지는 prime_list라는 리스트를 생성하고 이들중 최솟값, 최댓값을 다음과 같이 출력하시오. min()과 max(), sum(), len() 내장함수를 사용하여 다음과 같이 출력하시오."
   ]
  },
  {
   "cell_type": "code",
   "execution_count": 8,
   "metadata": {},
   "outputs": [
    {
     "name": "stdout",
     "output_type": "stream",
     "text": [
      "1에서 10까지의 소수 : [2, 3, 5, 7]\n",
      "최솟값 : 2\n",
      "최댓값 : 7\n",
      "합계 : 17\n",
      "평균 : 4.25\n"
     ]
    }
   ],
   "source": [
    "print('1에서 10까지의 소수 :', prime_list)\n",
    "print('최솟값 :', min(prime_list))\n",
    "print('최댓값 :', max(prime_list))\n",
    "print('합계 :', sum(prime_list))\n",
    "print('평균 :', sum(prime_list)/len(prime_list))"
   ]
  },
  {
   "cell_type": "markdown",
   "metadata": {},
   "source": [
    "2. nations 리스트에서 사전 순서로 가장 먼저 나오는 나라와 가장 뒤에 나오는 나라를 다음과 같이 출력하시오."
   ]
  },
  {
   "cell_type": "code",
   "execution_count": 10,
   "metadata": {},
   "outputs": [
    {
     "name": "stdout",
     "output_type": "stream",
     "text": [
      "국가 목록 : ['Korea', 'China', 'Russia', 'Malaysia']\n",
      "사전에 가장 먼저 나오는 나라 : China\n",
      "사전에 가장 뒤에 나오는 나라 : Russia\n"
     ]
    }
   ],
   "source": [
    "print('국가 목록 :',nations)\n",
    "nations.sort()\n",
    "print('사전에 가장 먼저 나오는 나라 :',nations[0])\n",
    "print('사전에 가장 뒤에 나오는 나라 :',nations[-1])"
   ]
  },
  {
   "cell_type": "markdown",
   "metadata": {},
   "source": [
    "### LAB 5-5\n",
    "1. a 리스트의 원소 값이 [1,2,3]이고 b 리스트의 원소 값이 [10,20,30]이다. a 리스트에 append(b) 메소드와 extend(b) 메소드를 각각 호출할 때 어떤 결과가 나타날지 예측하시오. 그리소 실제로 수행한 후의 결과를 각각 적으시오."
   ]
  },
  {
   "cell_type": "code",
   "execution_count": 1,
   "metadata": {},
   "outputs": [
    {
     "name": "stdout",
     "output_type": "stream",
     "text": [
      "[1, 2, 3, [10, 20, 30]]\n"
     ]
    }
   ],
   "source": [
    "a = [1,2,3,]\n",
    "b = [10,20,30]\n",
    "a.append(b)\n",
    "print(a)"
   ]
  },
  {
   "cell_type": "code",
   "execution_count": 2,
   "metadata": {},
   "outputs": [
    {
     "name": "stdout",
     "output_type": "stream",
     "text": [
      "[1, 2, 3, 10, 20, 30]\n"
     ]
    }
   ],
   "source": [
    "a = [1,2,3,]\n",
    "b = [10,20,30]\n",
    "a.extend(b)\n",
    "print(a)"
   ]
  },
  {
   "cell_type": "markdown",
   "metadata": {},
   "source": [
    "2. 1부터 10까지의 정수 값을 원소로 가지는 nlist를 생성하여 다음과 같이 출력하여라.<br>\n",
    "3. insert() 메소드를 사용하여 nlist의 제일 앞에 0을 삽입하여 다음과 같이 출력하여라.<br>\n",
    "4. 위의 3번 문제를 통해 만들어진 nlist를 역순으로 다시 배열하여 다음과 같이 출력하여라.<br>\n",
    "5. nlist의 제일 마지막 원소를 pop() 메소드를 사용하여 반환하여 출력하고 삭제한 후의 nlist를 다음과 같이 출력하여라."
   ]
  },
  {
   "cell_type": "code",
   "execution_count": 10,
   "metadata": {},
   "outputs": [
    {
     "name": "stdout",
     "output_type": "stream",
     "text": [
      "2. nlist = [1, 2, 3, 4, 5, 6, 7, 8, 9, 10]\n",
      "3. nlist = [0, 1, 2, 3, 4, 5, 6, 7, 8, 9, 10]\n",
      "4. nlist = [10, 9, 8, 7, 6, 5, 4, 3, 2, 1, 0]\n",
      "5. 마지막 원소 = 0\n",
      "   nlist = [10, 9, 8, 7, 6, 5, 4, 3, 2, 1]\n"
     ]
    }
   ],
   "source": [
    "nlist = [ i for i in range(1,11)]\n",
    "print(f'2. nlist = {nlist}')\n",
    "nlist.insert(0,0)\n",
    "print(f'3. nlist = {nlist}')\n",
    "nlist.reverse()\n",
    "print(f'4. nlist = {nlist}')\n",
    "temp = nlist.pop()\n",
    "print(f'5. 마지막 원소 = {temp}')\n",
    "print(f'   nlist = {nlist}')"
   ]
  },
  {
   "cell_type": "markdown",
   "metadata": {},
   "source": [
    "### LAB 5-6\n",
    "1. 사용자로부터 정수 n을 입력받아 [1,2,3]이라는 원소를 가지는 리스트를 다음과 같이 지정된 정수 n만큼 반복 출력하여라."
   ]
  },
  {
   "cell_type": "code",
   "execution_count": 12,
   "metadata": {},
   "outputs": [
    {
     "name": "stdout",
     "output_type": "stream",
     "text": [
      "[1, 2, 3, 1, 2, 3, 1, 2, 3, 1, 2, 3]\n"
     ]
    }
   ],
   "source": [
    "n = int(input('반복할 정수를 입력하시오 : '))\n",
    "li = []\n",
    "for i in range(n):\n",
    "    li.extend([1,2,3])\n",
    "print(li)\n"
   ]
  },
  {
   "cell_type": "markdown",
   "metadata": {},
   "source": [
    "### LAB 5-7\n",
    "1. range(15) 함수를 사용하여 다음과 같은 리스트를 생성하여라."
   ]
  },
  {
   "cell_type": "code",
   "execution_count": 14,
   "metadata": {},
   "outputs": [
    {
     "name": "stdout",
     "output_type": "stream",
     "text": [
      "n_list = [0, 1, 2, 3, 4, 5, 6, 7, 8, 9, 10, 11, 12, 13, 14]\n"
     ]
    }
   ],
   "source": [
    "n_list = [i for i in range(15)]\n",
    "print(f'n_list =',n_list)"
   ]
  },
  {
   "cell_type": "markdown",
   "metadata": {},
   "source": [
    "2. 문제 1번의 n_list로부터 슬라이싱을 수행하여 다음과 같은 리스트를 생성하여라."
   ]
  },
  {
   "cell_type": "code",
   "execution_count": 21,
   "metadata": {},
   "outputs": [
    {
     "name": "stdout",
     "output_type": "stream",
     "text": [
      "s_list1 = [0, 1, 2, 3, 4]\n",
      "s_list2 = [5, 6, 7, 8, 9, 10]\n",
      "s_list3 = [11, 12, 13, 14]\n",
      "s_list4 = [2, 4, 6, 8, 10]\n",
      "s_list5 = [10, 9, 8, 7, 6]\n",
      "s_list6 = [10, 8, 6, 4, 2]\n"
     ]
    }
   ],
   "source": [
    "s_list1 = n_list[0:5]\n",
    "s_list2 = n_list[5:11]\n",
    "s_list3 = n_list[11:]\n",
    "s_list4 = n_list[2:11:2]\n",
    "s_list5 = n_list[10:5:-1]\n",
    "s_list6 = n_list[10:1:-2]\n",
    "\n",
    "print('s_list1 =', s_list1)\n",
    "print('s_list2 =', s_list2)\n",
    "print('s_list3 =', s_list3)\n",
    "print('s_list4 =', s_list4)\n",
    "print('s_list5 =', s_list5)\n",
    "print('s_list6 =', s_list6)"
   ]
  }
 ],
 "metadata": {
  "kernelspec": {
   "display_name": "Python 3.10.6 64-bit",
   "language": "python",
   "name": "python3"
  },
  "language_info": {
   "codemirror_mode": {
    "name": "ipython",
    "version": 3
   },
   "file_extension": ".py",
   "mimetype": "text/x-python",
   "name": "python",
   "nbconvert_exporter": "python",
   "pygments_lexer": "ipython3",
   "version": "3.10.6"
  },
  "orig_nbformat": 4,
  "vscode": {
   "interpreter": {
    "hash": "20c9d94bea3bcd43e69d1e5f02ce962985699c48de0c68502218d203d4c4e41a"
   }
  }
 },
 "nbformat": 4,
 "nbformat_minor": 2
}
