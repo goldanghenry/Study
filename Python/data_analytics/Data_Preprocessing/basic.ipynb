{
 "cells": [
  {
   "cell_type": "markdown",
   "metadata": {},
   "source": [
    "# Pandas 데이터 프레임\n",
    "- 데이터 분석을 위해 가장 많이 사용되는 패키지로 행과 열로 구성된 테이블 형식의 데이터를 다루는데 효과적이다.\n",
    "- 판다스의 시리즈(Series), 데이터프레임(Data Frame) 객체는 다양한 자료형의 데이터를 담을 수 있으며, 손쉽게 데이터 결합과 분리가 가능\n",
    "\n",
    "#### 판다스의 자료형\n",
    "- 자료형     : python / pandas\n",
    "- 정수      : int / int64\n",
    "- 실수      : float / float64\n",
    "- 문자열     : string / object\n",
    "- 시간 데이터 : 없음 / datetime64\n",
    "\n",
    "#### 시리즈(Series)\n",
    "- 1차원 배열 형태 구조\n",
    "- 열의 이름(인덱스)을 지정할 수 있는 점에서 파이썬의 딕셔너리와 유사\n",
    "- 배열의 각 원소는 서로 다른 자료형을 넣을 수 있고, 다차원 배열도 원소로 넣을 수 있다.\n",
    "\n",
    "#### 데이터 프레임(Data Frame)\n",
    "- 2차원 테이블 형태의 구조\n",
    "- 여러 개의 열과 행을 가지며, 각 열은 서로 다른 자료형을 가질 수 있다."
   ]
  },
  {
   "cell_type": "markdown",
   "metadata": {},
   "source": [
    "##### Series 만들고 사용하기\n"
   ]
  },
  {
   "cell_type": "code",
   "execution_count": 15,
   "metadata": {},
   "outputs": [
    {
     "name": "stdout",
     "output_type": "stream",
     "text": [
      "0    10\n",
      "1    30\n",
      "2    20\n",
      "3    40\n",
      "4    60\n",
      "dtype: int64\n",
      "[10 30 20 40 60]\n",
      "RangeIndex(start=0, stop=5, step=1)\n",
      "60\n"
     ]
    }
   ],
   "source": [
    "import pandas as pd\n",
    "\n",
    "# 넘파이의 ndarray의 1차원 배열을 기본으로 정수와 문자열 인덱스를 사용한다.\n",
    "# series 객체 생성을 위해 Series 함수를 사용한다.\n",
    "\n",
    "sr1 = pd.Series([10,30,20,40,60])   # 리스트를 시리즈 객체로 생성\n",
    "print(sr1)\n",
    "print(sr1.values)\n",
    "print(sr1.index)\n",
    "print(sr1[4])"
   ]
  },
  {
   "cell_type": "code",
   "execution_count": null,
   "metadata": {},
   "outputs": [
    {
     "name": "stdout",
     "output_type": "stream",
     "text": [
      "b    20\n",
      "c    30\n",
      "dtype: int64\n",
      "a    10\n",
      "b    20\n",
      "c    30\n",
      "d    40\n",
      "e    60\n",
      "dtype: int64\n",
      "a    10\n",
      "b    20\n",
      "c    30\n",
      "d    40\n",
      "e    60\n",
      "dtype: int64\n"
     ]
    }
   ],
   "source": [
    "# 시리즈 객체의 인덱스 설정하기\n",
    "sr1 = pd.Series([10,20,30,40,60], index= ['a','b','c','d','e'])\n",
    "# print(sr1[2])\n",
    "print(sr1[['b','c']])\n",
    "\n",
    "print(sr1[0:5])     # 5는 포함 x\n",
    "print(sr1['a':'e']) # 'e' 도 포함"
   ]
  },
  {
   "cell_type": "markdown",
   "metadata": {},
   "source": [
    "#### 데이터 프레임 만들고 사용하기"
   ]
  },
  {
   "cell_type": "code",
   "execution_count": null,
   "metadata": {},
   "outputs": [
    {
     "name": "stdout",
     "output_type": "stream",
     "text": [
      "    0   1   2\n",
      "0  10  20  30\n",
      "1  40  50  60\n"
     ]
    }
   ],
   "source": [
    "# 2차원 배열로 데이터 프레임 객체 생성하기\n",
    "import pandas as pd\n",
    "\n",
    "df1 = pd.DataFrame([[10,20,30],[40,50,60]])\n",
    "print(df1)"
   ]
  },
  {
   "cell_type": "code",
   "execution_count": 28,
   "metadata": {},
   "outputs": [
    {
     "name": "stdout",
     "output_type": "stream",
     "text": [
      "  fruit  price  qty\n",
      "0    사과    100   10\n",
      "1     배    200   20\n",
      "2     감    150   30\n",
      "3     귤     50   20\n",
      "4   바나나     20   15\n"
     ]
    }
   ],
   "source": [
    "# 딕셔너리를 이용한 데이터 프레임 객체 생성하기\n",
    "dic1 = {'fruit': ['사과','배','감','귤','바나나'],\n",
    "        'price': [100,200,150,50,20],\n",
    "        'qty' : [10,20,30,20,15]}\n",
    "df2 = pd.DataFrame(dic1)\n",
    "print(df2)"
   ]
  },
  {
   "cell_type": "code",
   "execution_count": 29,
   "metadata": {},
   "outputs": [
    {
     "name": "stdout",
     "output_type": "stream",
     "text": [
      "  fruit  price  qty\n",
      "a    사과    100   10\n",
      "b     배    200   20\n",
      "c     감    150   30\n",
      "d     귤     50   20\n",
      "e   바나나     20   15\n"
     ]
    }
   ],
   "source": [
    "# 데이터프레임 객체의 인덱스(행)/열이름 설정하기\n",
    "df3 = pd.DataFrame(dic1, index=['a','b','c','d','e'])\n",
    "print(df3)"
   ]
  },
  {
   "cell_type": "code",
   "execution_count": 32,
   "metadata": {},
   "outputs": [
    {
     "name": "stdout",
     "output_type": "stream",
     "text": [
      "     과일   가격  수량\n",
      "01   사과  100  10\n",
      "02    배  200  20\n",
      "03    감  150  30\n",
      "04    귤   50  20\n",
      "05  바나나   20  15\n"
     ]
    }
   ],
   "source": [
    "# 생성된 데이터프레임의 인덱스와 칼럼명 변경 -> rename() 메소드를 이용\n",
    "# inplace = True 옵션이 생략되면, 새로운 객체를 반환함\n",
    "df3.rename(columns = {'fruit':'과일','price':'가격','qty':'수량'}, inplace = True)\n",
    "df3.rename(index = {'a':'01','b':'02','c':'03','d':'04','e':'05'}, inplace = True)\n",
    "print(df3)"
   ]
  },
  {
   "cell_type": "markdown",
   "metadata": {},
   "source": [
    "#### 데이터 프레임 살펴보기\n",
    "- 데이터프레임 객체는 크기, 구성항목, 자료형, 통계 수치 등 여러 정보를 확인할 수 있는 속성과 메소드 제공\n"
   ]
  },
  {
   "cell_type": "code",
   "execution_count": 58,
   "metadata": {},
   "outputs": [
    {
     "data": {
      "text/html": [
       "<div>\n",
       "<style scoped>\n",
       "    .dataframe tbody tr th:only-of-type {\n",
       "        vertical-align: middle;\n",
       "    }\n",
       "\n",
       "    .dataframe tbody tr th {\n",
       "        vertical-align: top;\n",
       "    }\n",
       "\n",
       "    .dataframe thead th {\n",
       "        text-align: right;\n",
       "    }\n",
       "</style>\n",
       "<table border=\"1\" class=\"dataframe\">\n",
       "  <thead>\n",
       "    <tr style=\"text-align: right;\">\n",
       "      <th></th>\n",
       "      <th>학번</th>\n",
       "      <th>중간</th>\n",
       "      <th>기말</th>\n",
       "      <th>리포트</th>\n",
       "      <th>퀴즈</th>\n",
       "    </tr>\n",
       "  </thead>\n",
       "  <tbody>\n",
       "    <tr>\n",
       "      <th>5</th>\n",
       "      <td>S06</td>\n",
       "      <td>71</td>\n",
       "      <td>75</td>\n",
       "      <td>16</td>\n",
       "      <td>16</td>\n",
       "    </tr>\n",
       "    <tr>\n",
       "      <th>6</th>\n",
       "      <td>S07</td>\n",
       "      <td>60</td>\n",
       "      <td>80</td>\n",
       "      <td>18</td>\n",
       "      <td>18</td>\n",
       "    </tr>\n",
       "    <tr>\n",
       "      <th>7</th>\n",
       "      <td>S08</td>\n",
       "      <td>72</td>\n",
       "      <td>65</td>\n",
       "      <td>14</td>\n",
       "      <td>14</td>\n",
       "    </tr>\n",
       "    <tr>\n",
       "      <th>8</th>\n",
       "      <td>S09</td>\n",
       "      <td>65</td>\n",
       "      <td>65</td>\n",
       "      <td>14</td>\n",
       "      <td>14</td>\n",
       "    </tr>\n",
       "    <tr>\n",
       "      <th>9</th>\n",
       "      <td>S10</td>\n",
       "      <td>85</td>\n",
       "      <td>78</td>\n",
       "      <td>10</td>\n",
       "      <td>10</td>\n",
       "    </tr>\n",
       "  </tbody>\n",
       "</table>\n",
       "</div>"
      ],
      "text/plain": [
       "    학번  중간  기말  리포트  퀴즈\n",
       "5  S06  71  75   16  16\n",
       "6  S07  60  80   18  18\n",
       "7  S08  72  65   14  14\n",
       "8  S09  65  65   14  14\n",
       "9  S10  85  78   10  10"
      ]
     },
     "execution_count": 58,
     "metadata": {},
     "output_type": "execute_result"
    }
   ],
   "source": [
    "import pandas as pd\n",
    "\n",
    "df = pd.read_csv('../csv/df_sample.csv')\n",
    "# df.head(5)\n",
    "df.tail(5)"
   ]
  },
  {
   "cell_type": "markdown",
   "metadata": {},
   "source": [
    "##### 데이터 요약 정보 확인하기"
   ]
  },
  {
   "cell_type": "code",
   "execution_count": 37,
   "metadata": {},
   "outputs": [
    {
     "name": "stdout",
     "output_type": "stream",
     "text": [
      "(10, 5)\n",
      "<class 'pandas.core.frame.DataFrame'>\n",
      "RangeIndex: 10 entries, 0 to 9\n",
      "Data columns (total 5 columns):\n",
      " #   Column  Non-Null Count  Dtype \n",
      "---  ------  --------------  ----- \n",
      " 0   학번      10 non-null     object\n",
      " 1   중간      10 non-null     int64 \n",
      " 2   기말      10 non-null     int64 \n",
      " 3   리포트     10 non-null     int64 \n",
      " 4   퀴즈      10 non-null     int64 \n",
      "dtypes: int64(4), object(1)\n",
      "memory usage: 528.0+ bytes\n"
     ]
    }
   ],
   "source": [
    "print(df.shape)\n",
    "df.info()"
   ]
  },
  {
   "cell_type": "code",
   "execution_count": 38,
   "metadata": {},
   "outputs": [
    {
     "data": {
      "text/plain": [
       "학번     10\n",
       "중간     10\n",
       "기말     10\n",
       "리포트    10\n",
       "퀴즈     10\n",
       "dtype: int64"
      ]
     },
     "execution_count": 38,
     "metadata": {},
     "output_type": "execute_result"
    }
   ],
   "source": [
    "# 열별 데이터 수\n",
    "df.count()"
   ]
  },
  {
   "cell_type": "markdown",
   "metadata": {},
   "source": [
    "##### 주요 기술 통계 - describe(inclue='all')\n",
    "- count : 각 열에 있는 NaN이 아닌 값의 개수\n",
    "- unique : 중복값을 제외한 고유한 값의 개수\n",
    "- top : 가장 많이 나타나는 데이터 값\n",
    "- freq : 가장 많이 나타나는 데이터 값 빈도\n",
    "- mean : 평균, std : 표준 편차, min : 최소값, max : 최대값\n",
    "- 20%, 50%, 75% : 전체 데이터의 1/4지점, 1/2지점, 3/4지점의 데이터값"
   ]
  },
  {
   "cell_type": "code",
   "execution_count": null,
   "metadata": {},
   "outputs": [
    {
     "data": {
      "text/html": [
       "<div>\n",
       "<style scoped>\n",
       "    .dataframe tbody tr th:only-of-type {\n",
       "        vertical-align: middle;\n",
       "    }\n",
       "\n",
       "    .dataframe tbody tr th {\n",
       "        vertical-align: top;\n",
       "    }\n",
       "\n",
       "    .dataframe thead th {\n",
       "        text-align: right;\n",
       "    }\n",
       "</style>\n",
       "<table border=\"1\" class=\"dataframe\">\n",
       "  <thead>\n",
       "    <tr style=\"text-align: right;\">\n",
       "      <th></th>\n",
       "      <th>학번</th>\n",
       "      <th>중간</th>\n",
       "      <th>기말</th>\n",
       "      <th>리포트</th>\n",
       "      <th>퀴즈</th>\n",
       "    </tr>\n",
       "  </thead>\n",
       "  <tbody>\n",
       "    <tr>\n",
       "      <th>count</th>\n",
       "      <td>10</td>\n",
       "      <td>10.000000</td>\n",
       "      <td>10.000000</td>\n",
       "      <td>10.000000</td>\n",
       "      <td>10.000000</td>\n",
       "    </tr>\n",
       "    <tr>\n",
       "      <th>unique</th>\n",
       "      <td>10</td>\n",
       "      <td>NaN</td>\n",
       "      <td>NaN</td>\n",
       "      <td>NaN</td>\n",
       "      <td>NaN</td>\n",
       "    </tr>\n",
       "    <tr>\n",
       "      <th>top</th>\n",
       "      <td>S01</td>\n",
       "      <td>NaN</td>\n",
       "      <td>NaN</td>\n",
       "      <td>NaN</td>\n",
       "      <td>NaN</td>\n",
       "    </tr>\n",
       "    <tr>\n",
       "      <th>freq</th>\n",
       "      <td>1</td>\n",
       "      <td>NaN</td>\n",
       "      <td>NaN</td>\n",
       "      <td>NaN</td>\n",
       "      <td>NaN</td>\n",
       "    </tr>\n",
       "    <tr>\n",
       "      <th>mean</th>\n",
       "      <td>NaN</td>\n",
       "      <td>77.600000</td>\n",
       "      <td>78.500000</td>\n",
       "      <td>15.000000</td>\n",
       "      <td>15.000000</td>\n",
       "    </tr>\n",
       "    <tr>\n",
       "      <th>std</th>\n",
       "      <td>NaN</td>\n",
       "      <td>10.616549</td>\n",
       "      <td>9.663793</td>\n",
       "      <td>3.559026</td>\n",
       "      <td>3.559026</td>\n",
       "    </tr>\n",
       "    <tr>\n",
       "      <th>min</th>\n",
       "      <td>NaN</td>\n",
       "      <td>60.000000</td>\n",
       "      <td>65.000000</td>\n",
       "      <td>10.000000</td>\n",
       "      <td>10.000000</td>\n",
       "    </tr>\n",
       "    <tr>\n",
       "      <th>25%</th>\n",
       "      <td>NaN</td>\n",
       "      <td>71.250000</td>\n",
       "      <td>75.000000</td>\n",
       "      <td>12.500000</td>\n",
       "      <td>12.500000</td>\n",
       "    </tr>\n",
       "    <tr>\n",
       "      <th>50%</th>\n",
       "      <td>NaN</td>\n",
       "      <td>79.000000</td>\n",
       "      <td>78.000000</td>\n",
       "      <td>15.000000</td>\n",
       "      <td>15.000000</td>\n",
       "    </tr>\n",
       "    <tr>\n",
       "      <th>75%</th>\n",
       "      <td>NaN</td>\n",
       "      <td>84.250000</td>\n",
       "      <td>82.250000</td>\n",
       "      <td>18.000000</td>\n",
       "      <td>18.000000</td>\n",
       "    </tr>\n",
       "    <tr>\n",
       "      <th>max</th>\n",
       "      <td>NaN</td>\n",
       "      <td>93.000000</td>\n",
       "      <td>95.000000</td>\n",
       "      <td>20.000000</td>\n",
       "      <td>20.000000</td>\n",
       "    </tr>\n",
       "  </tbody>\n",
       "</table>\n",
       "</div>"
      ],
      "text/plain": [
       "         학번         중간         기말        리포트         퀴즈\n",
       "count    10  10.000000  10.000000  10.000000  10.000000\n",
       "unique   10        NaN        NaN        NaN        NaN\n",
       "top     S01        NaN        NaN        NaN        NaN\n",
       "freq      1        NaN        NaN        NaN        NaN\n",
       "mean    NaN  77.600000  78.500000  15.000000  15.000000\n",
       "std     NaN  10.616549   9.663793   3.559026   3.559026\n",
       "min     NaN  60.000000  65.000000  10.000000  10.000000\n",
       "25%     NaN  71.250000  75.000000  12.500000  12.500000\n",
       "50%     NaN  79.000000  78.000000  15.000000  15.000000\n",
       "75%     NaN  84.250000  82.250000  18.000000  18.000000\n",
       "max     NaN  93.000000  95.000000  20.000000  20.000000"
      ]
     },
     "execution_count": 41,
     "metadata": {},
     "output_type": "execute_result"
    }
   ],
   "source": [
    "# df.describe()\n",
    "df.describe(include='all')"
   ]
  },
  {
   "cell_type": "markdown",
   "metadata": {},
   "source": [
    "##### 통계함수 적용하기"
   ]
  },
  {
   "cell_type": "code",
   "execution_count": 49,
   "metadata": {},
   "outputs": [
    {
     "name": "stdout",
     "output_type": "stream",
     "text": [
      "77.6\n",
      "중간    77.6\n",
      "기말    78.5\n",
      "dtype: float64\n",
      "15.0\n"
     ]
    }
   ],
   "source": [
    "print(df['중간'].mean())\n",
    "print(df[['중간', '기말']].mean())\n",
    "print(df['리포트'].median())"
   ]
  },
  {
   "cell_type": "code",
   "execution_count": 50,
   "metadata": {},
   "outputs": [
    {
     "name": "stdout",
     "output_type": "stream",
     "text": [
      "표준편차 :\n",
      "중간    10.616549\n",
      "기말     9.663793\n",
      "dtype: float64\n",
      "편차 :\n",
      "중간    112.711111\n",
      "기말     93.388889\n",
      "dtype: float64\n"
     ]
    }
   ],
   "source": [
    "# 표준 편차 std(), 분산 var()\n",
    "print(\"표준편차 :\")\n",
    "print(df[['중간','기말']].std())\n",
    "print(\"편차 :\")\n",
    "print(df[['중간','기말']].var())"
   ]
  },
  {
   "cell_type": "code",
   "execution_count": 53,
   "metadata": {},
   "outputs": [
    {
     "data": {
      "text/plain": [
       "퀴즈\n",
       "18    3\n",
       "10    2\n",
       "14    2\n",
       "20    1\n",
       "12    1\n",
       "16    1\n",
       "Name: count, dtype: int64"
      ]
     },
     "execution_count": 53,
     "metadata": {},
     "output_type": "execute_result"
    }
   ],
   "source": [
    "# 고유값 세기\n",
    "df['퀴즈'].value_counts()"
   ]
  },
  {
   "cell_type": "code",
   "execution_count": 59,
   "metadata": {},
   "outputs": [
    {
     "data": {
      "text/html": [
       "<div>\n",
       "<style scoped>\n",
       "    .dataframe tbody tr th:only-of-type {\n",
       "        vertical-align: middle;\n",
       "    }\n",
       "\n",
       "    .dataframe tbody tr th {\n",
       "        vertical-align: top;\n",
       "    }\n",
       "\n",
       "    .dataframe thead th {\n",
       "        text-align: right;\n",
       "    }\n",
       "</style>\n",
       "<table border=\"1\" class=\"dataframe\">\n",
       "  <thead>\n",
       "    <tr style=\"text-align: right;\">\n",
       "      <th></th>\n",
       "      <th>중간</th>\n",
       "      <th>기말</th>\n",
       "      <th>리포트</th>\n",
       "      <th>퀴즈</th>\n",
       "    </tr>\n",
       "  </thead>\n",
       "  <tbody>\n",
       "    <tr>\n",
       "      <th>중간</th>\n",
       "      <td>1.000000</td>\n",
       "      <td>0.707196</td>\n",
       "      <td>-0.129388</td>\n",
       "      <td>-0.129388</td>\n",
       "    </tr>\n",
       "    <tr>\n",
       "      <th>기말</th>\n",
       "      <td>0.707196</td>\n",
       "      <td>1.000000</td>\n",
       "      <td>0.339210</td>\n",
       "      <td>0.339210</td>\n",
       "    </tr>\n",
       "    <tr>\n",
       "      <th>리포트</th>\n",
       "      <td>-0.129388</td>\n",
       "      <td>0.339210</td>\n",
       "      <td>1.000000</td>\n",
       "      <td>1.000000</td>\n",
       "    </tr>\n",
       "    <tr>\n",
       "      <th>퀴즈</th>\n",
       "      <td>-0.129388</td>\n",
       "      <td>0.339210</td>\n",
       "      <td>1.000000</td>\n",
       "      <td>1.000000</td>\n",
       "    </tr>\n",
       "  </tbody>\n",
       "</table>\n",
       "</div>"
      ],
      "text/plain": [
       "           중간        기말       리포트        퀴즈\n",
       "중간   1.000000  0.707196 -0.129388 -0.129388\n",
       "기말   0.707196  1.000000  0.339210  0.339210\n",
       "리포트 -0.129388  0.339210  1.000000  1.000000\n",
       "퀴즈  -0.129388  0.339210  1.000000  1.000000"
      ]
     },
     "execution_count": 59,
     "metadata": {},
     "output_type": "execute_result"
    }
   ],
   "source": [
    "# 상관계수 구하기 : corr()\n",
    "df[['중간','기말']].corr()\n",
    "df1 = df.drop(columns='학번')\n",
    "df1.corr()"
   ]
  },
  {
   "cell_type": "markdown",
   "metadata": {},
   "source": [
    "##### 데이터프레임 조작하기"
   ]
  },
  {
   "cell_type": "code",
   "execution_count": null,
   "metadata": {},
   "outputs": [
    {
     "data": {
      "text/html": [
       "<div>\n",
       "<style scoped>\n",
       "    .dataframe tbody tr th:only-of-type {\n",
       "        vertical-align: middle;\n",
       "    }\n",
       "\n",
       "    .dataframe tbody tr th {\n",
       "        vertical-align: top;\n",
       "    }\n",
       "\n",
       "    .dataframe thead th {\n",
       "        text-align: right;\n",
       "    }\n",
       "</style>\n",
       "<table border=\"1\" class=\"dataframe\">\n",
       "  <thead>\n",
       "    <tr style=\"text-align: right;\">\n",
       "      <th></th>\n",
       "      <th>중간</th>\n",
       "      <th>기말</th>\n",
       "      <th>리포트</th>\n",
       "      <th>퀴즈</th>\n",
       "    </tr>\n",
       "    <tr>\n",
       "      <th>학번</th>\n",
       "      <th></th>\n",
       "      <th></th>\n",
       "      <th></th>\n",
       "      <th></th>\n",
       "    </tr>\n",
       "  </thead>\n",
       "  <tbody>\n",
       "    <tr>\n",
       "      <th>S01</th>\n",
       "      <td>90</td>\n",
       "      <td>95</td>\n",
       "      <td>20</td>\n",
       "      <td>20</td>\n",
       "    </tr>\n",
       "    <tr>\n",
       "      <th>S02</th>\n",
       "      <td>82</td>\n",
       "      <td>83</td>\n",
       "      <td>18</td>\n",
       "      <td>18</td>\n",
       "    </tr>\n",
       "    <tr>\n",
       "      <th>S03</th>\n",
       "      <td>80</td>\n",
       "      <td>78</td>\n",
       "      <td>18</td>\n",
       "      <td>18</td>\n",
       "    </tr>\n",
       "    <tr>\n",
       "      <th>S04</th>\n",
       "      <td>78</td>\n",
       "      <td>75</td>\n",
       "      <td>10</td>\n",
       "      <td>10</td>\n",
       "    </tr>\n",
       "    <tr>\n",
       "      <th>S05</th>\n",
       "      <td>93</td>\n",
       "      <td>91</td>\n",
       "      <td>12</td>\n",
       "      <td>12</td>\n",
       "    </tr>\n",
       "    <tr>\n",
       "      <th>S06</th>\n",
       "      <td>71</td>\n",
       "      <td>75</td>\n",
       "      <td>16</td>\n",
       "      <td>16</td>\n",
       "    </tr>\n",
       "    <tr>\n",
       "      <th>S07</th>\n",
       "      <td>60</td>\n",
       "      <td>80</td>\n",
       "      <td>18</td>\n",
       "      <td>18</td>\n",
       "    </tr>\n",
       "    <tr>\n",
       "      <th>S08</th>\n",
       "      <td>72</td>\n",
       "      <td>65</td>\n",
       "      <td>14</td>\n",
       "      <td>14</td>\n",
       "    </tr>\n",
       "    <tr>\n",
       "      <th>S09</th>\n",
       "      <td>65</td>\n",
       "      <td>65</td>\n",
       "      <td>14</td>\n",
       "      <td>14</td>\n",
       "    </tr>\n",
       "    <tr>\n",
       "      <th>S10</th>\n",
       "      <td>85</td>\n",
       "      <td>78</td>\n",
       "      <td>10</td>\n",
       "      <td>10</td>\n",
       "    </tr>\n",
       "  </tbody>\n",
       "</table>\n",
       "</div>"
      ],
      "text/plain": [
       "     중간  기말  리포트  퀴즈\n",
       "학번                  \n",
       "S01  90  95   20  20\n",
       "S02  82  83   18  18\n",
       "S03  80  78   18  18\n",
       "S04  78  75   10  10\n",
       "S05  93  91   12  12\n",
       "S06  71  75   16  16\n",
       "S07  60  80   18  18\n",
       "S08  72  65   14  14\n",
       "S09  65  65   14  14\n",
       "S10  85  78   10  10"
      ]
     },
     "execution_count": 60,
     "metadata": {},
     "output_type": "execute_result"
    }
   ],
   "source": [
    "# 특정 열을 행 인덱스로 설정 - set_indx()\n",
    "# 학번과 같이 전체 행을 대표하는 열을 인덱스로 지정\n",
    "# 지정한 열은 인덱스 역할을 하기 때문에 열 이름으로 접근할 수 없음\n",
    "df.set_index('학번')"
   ]
  },
  {
   "cell_type": "code",
   "execution_count": 68,
   "metadata": {},
   "outputs": [
    {
     "data": {
      "text/html": [
       "<div>\n",
       "<style scoped>\n",
       "    .dataframe tbody tr th:only-of-type {\n",
       "        vertical-align: middle;\n",
       "    }\n",
       "\n",
       "    .dataframe tbody tr th {\n",
       "        vertical-align: top;\n",
       "    }\n",
       "\n",
       "    .dataframe thead th {\n",
       "        text-align: right;\n",
       "    }\n",
       "</style>\n",
       "<table border=\"1\" class=\"dataframe\">\n",
       "  <thead>\n",
       "    <tr style=\"text-align: right;\">\n",
       "      <th></th>\n",
       "      <th>학번</th>\n",
       "      <th>중간</th>\n",
       "      <th>기말</th>\n",
       "      <th>리포트</th>\n",
       "      <th>퀴즈</th>\n",
       "    </tr>\n",
       "  </thead>\n",
       "  <tbody>\n",
       "    <tr>\n",
       "      <th>0</th>\n",
       "      <td>S01</td>\n",
       "      <td>90</td>\n",
       "      <td>95</td>\n",
       "      <td>20</td>\n",
       "      <td>20</td>\n",
       "    </tr>\n",
       "    <tr>\n",
       "      <th>1</th>\n",
       "      <td>S02</td>\n",
       "      <td>82</td>\n",
       "      <td>83</td>\n",
       "      <td>18</td>\n",
       "      <td>18</td>\n",
       "    </tr>\n",
       "    <tr>\n",
       "      <th>2</th>\n",
       "      <td>S03</td>\n",
       "      <td>80</td>\n",
       "      <td>78</td>\n",
       "      <td>18</td>\n",
       "      <td>18</td>\n",
       "    </tr>\n",
       "    <tr>\n",
       "      <th>3</th>\n",
       "      <td>S04</td>\n",
       "      <td>78</td>\n",
       "      <td>75</td>\n",
       "      <td>10</td>\n",
       "      <td>10</td>\n",
       "    </tr>\n",
       "    <tr>\n",
       "      <th>4</th>\n",
       "      <td>S05</td>\n",
       "      <td>93</td>\n",
       "      <td>91</td>\n",
       "      <td>12</td>\n",
       "      <td>12</td>\n",
       "    </tr>\n",
       "    <tr>\n",
       "      <th>5</th>\n",
       "      <td>S06</td>\n",
       "      <td>71</td>\n",
       "      <td>75</td>\n",
       "      <td>16</td>\n",
       "      <td>16</td>\n",
       "    </tr>\n",
       "    <tr>\n",
       "      <th>6</th>\n",
       "      <td>S07</td>\n",
       "      <td>60</td>\n",
       "      <td>80</td>\n",
       "      <td>18</td>\n",
       "      <td>18</td>\n",
       "    </tr>\n",
       "    <tr>\n",
       "      <th>7</th>\n",
       "      <td>S08</td>\n",
       "      <td>72</td>\n",
       "      <td>65</td>\n",
       "      <td>14</td>\n",
       "      <td>14</td>\n",
       "    </tr>\n",
       "    <tr>\n",
       "      <th>8</th>\n",
       "      <td>S09</td>\n",
       "      <td>65</td>\n",
       "      <td>65</td>\n",
       "      <td>14</td>\n",
       "      <td>14</td>\n",
       "    </tr>\n",
       "    <tr>\n",
       "      <th>9</th>\n",
       "      <td>S10</td>\n",
       "      <td>85</td>\n",
       "      <td>78</td>\n",
       "      <td>10</td>\n",
       "      <td>10</td>\n",
       "    </tr>\n",
       "  </tbody>\n",
       "</table>\n",
       "</div>"
      ],
      "text/plain": [
       "    학번  중간  기말  리포트  퀴즈\n",
       "0  S01  90  95   20  20\n",
       "1  S02  82  83   18  18\n",
       "2  S03  80  78   18  18\n",
       "3  S04  78  75   10  10\n",
       "4  S05  93  91   12  12\n",
       "5  S06  71  75   16  16\n",
       "6  S07  60  80   18  18\n",
       "7  S08  72  65   14  14\n",
       "8  S09  65  65   14  14\n",
       "9  S10  85  78   10  10"
      ]
     },
     "execution_count": 68,
     "metadata": {},
     "output_type": "execute_result"
    }
   ],
   "source": [
    "df1.index = df['학번']\n",
    "df1\n",
    "df2 = df1.reset_index()\n",
    "df2\n"
   ]
  },
  {
   "cell_type": "markdown",
   "metadata": {},
   "source": [
    "##### 원소 선택\n",
    "- loc 또는 iloc 인덱서를 사용해 주어진 행 인덱스나 열이름으로 특정 원소를 선택할 수 있다.\n",
    "- loc : 행인덱스와 열이름을 사용해서 선택\n",
    "- iloc : 행번호와 열번호를 사용해서 선택"
   ]
  },
  {
   "cell_type": "code",
   "execution_count": null,
   "metadata": {},
   "outputs": [
    {
     "name": "stdout",
     "output_type": "stream",
     "text": [
      "     중간  기말  리포트  퀴즈\n",
      "학번                  \n",
      "S01  90  95   20  20\n",
      "S02  82  83   18  18\n",
      "S03  80  78   18  18\n",
      "S04  78  75   10  10\n",
      "S05  93  91   12  12\n",
      "S06  71  75   16  16\n",
      "S07  60  80   18  18\n",
      "S08  72  65   14  14\n",
      "S09  65  65   14  14\n",
      "S10  85  78   10  10\n",
      "95\n",
      "95\n"
     ]
    }
   ],
   "source": [
    "df.set_index('학번', inplace=True)\n",
    "print(df)\n",
    "print(df.loc['S01','기말'])\n",
    "print(df.iloc[0,1])"
   ]
  },
  {
   "cell_type": "code",
   "execution_count": null,
   "metadata": {},
   "outputs": [
    {
     "name": "stdout",
     "output_type": "stream",
     "text": [
      "중간     90\n",
      "기말     95\n",
      "리포트    20\n",
      "퀴즈     20\n",
      "Name: S01, dtype: int64\n",
      "중간     78\n",
      "기말     75\n",
      "리포트    10\n",
      "퀴즈     10\n",
      "Name: S04, dtype: int64\n"
     ]
    }
   ],
   "source": [
    "# 행 선택 -> 인덱스명(loc)이나 인덱스 번호(iloc)를 사용해서 해당 행 전체를 선택할 수 있다.\n",
    "print(df.loc['S01'])\n",
    "print(df.iloc[3])"
   ]
  },
  {
   "cell_type": "code",
   "execution_count": 83,
   "metadata": {},
   "outputs": [
    {
     "data": {
      "text/plain": [
       "학번\n",
       "S01    90\n",
       "S02    82\n",
       "S03    80\n",
       "S04    78\n",
       "S05    93\n",
       "S06    71\n",
       "S07    60\n",
       "S08    72\n",
       "S09    65\n",
       "S10    85\n",
       "Name: 중간, dtype: int64"
      ]
     },
     "execution_count": 83,
     "metadata": {},
     "output_type": "execute_result"
    }
   ],
   "source": [
    "# 열 선택 -> df['열 이름'] or df[['열 1', '열 2']]\n",
    "df['중간']"
   ]
  },
  {
   "cell_type": "code",
   "execution_count": null,
   "metadata": {},
   "outputs": [],
   "source": [
    "# 행과 열의 삭제 - drop()\n",
    "# 기본 설정은 행 삭제 (asis = 0), 열 삭제 (asis = 1)\n",
    "df1 = df.drop(0)    # 0행 삭제\n",
    "df2 = df.drop('퀴즈', axis=1)"
   ]
  },
  {
   "cell_type": "markdown",
   "metadata": {},
   "source": [
    "##### 데이터프레임 정렬 - sort_index()\n",
    "- 행 기준\n",
    "- 먼저 정렬하려는 칼럼으로 인덱스를 설정한 뒤 정렬 시행"
   ]
  },
  {
   "cell_type": "code",
   "execution_count": 95,
   "metadata": {},
   "outputs": [
    {
     "name": "stdout",
     "output_type": "stream",
     "text": [
      "     학번  기말  리포트  퀴즈\n",
      "중간                  \n",
      "60  S07  80   18  18\n",
      "65  S09  65   14  14\n",
      "71  S06  75   16  16\n",
      "72  S08  65   14  14\n",
      "78  S04  75   10  10\n",
      "80  S03  78   18  18\n",
      "82  S02  83   18  18\n",
      "85  S10  78   10  10\n",
      "90  S01  95   20  20\n",
      "93  S05  91   12  12\n"
     ]
    }
   ],
   "source": [
    "df1 = df.reset_index()          # 학번을 인덱스에서 빼주고\n",
    "df1 = df1.set_index('중간')      # 중간 점수를 인덱스로 설정\n",
    "df1 = df1.sort_index(ascending=True)                # 인덱스를 기준으로 정렬\n",
    "\n",
    "print(df1)"
   ]
  },
  {
   "cell_type": "code",
   "execution_count": 98,
   "metadata": {},
   "outputs": [
    {
     "data": {
      "text/html": [
       "<div>\n",
       "<style scoped>\n",
       "    .dataframe tbody tr th:only-of-type {\n",
       "        vertical-align: middle;\n",
       "    }\n",
       "\n",
       "    .dataframe tbody tr th {\n",
       "        vertical-align: top;\n",
       "    }\n",
       "\n",
       "    .dataframe thead th {\n",
       "        text-align: right;\n",
       "    }\n",
       "</style>\n",
       "<table border=\"1\" class=\"dataframe\">\n",
       "  <thead>\n",
       "    <tr style=\"text-align: right;\">\n",
       "      <th></th>\n",
       "      <th>중간</th>\n",
       "      <th>기말</th>\n",
       "      <th>리포트</th>\n",
       "      <th>퀴즈</th>\n",
       "    </tr>\n",
       "    <tr>\n",
       "      <th>학번</th>\n",
       "      <th></th>\n",
       "      <th></th>\n",
       "      <th></th>\n",
       "      <th></th>\n",
       "    </tr>\n",
       "  </thead>\n",
       "  <tbody>\n",
       "    <tr>\n",
       "      <th>S08</th>\n",
       "      <td>72</td>\n",
       "      <td>65</td>\n",
       "      <td>14</td>\n",
       "      <td>14</td>\n",
       "    </tr>\n",
       "    <tr>\n",
       "      <th>S09</th>\n",
       "      <td>65</td>\n",
       "      <td>65</td>\n",
       "      <td>14</td>\n",
       "      <td>14</td>\n",
       "    </tr>\n",
       "    <tr>\n",
       "      <th>S04</th>\n",
       "      <td>78</td>\n",
       "      <td>75</td>\n",
       "      <td>10</td>\n",
       "      <td>10</td>\n",
       "    </tr>\n",
       "    <tr>\n",
       "      <th>S06</th>\n",
       "      <td>71</td>\n",
       "      <td>75</td>\n",
       "      <td>16</td>\n",
       "      <td>16</td>\n",
       "    </tr>\n",
       "    <tr>\n",
       "      <th>S03</th>\n",
       "      <td>80</td>\n",
       "      <td>78</td>\n",
       "      <td>18</td>\n",
       "      <td>18</td>\n",
       "    </tr>\n",
       "    <tr>\n",
       "      <th>S10</th>\n",
       "      <td>85</td>\n",
       "      <td>78</td>\n",
       "      <td>10</td>\n",
       "      <td>10</td>\n",
       "    </tr>\n",
       "    <tr>\n",
       "      <th>S07</th>\n",
       "      <td>60</td>\n",
       "      <td>80</td>\n",
       "      <td>18</td>\n",
       "      <td>18</td>\n",
       "    </tr>\n",
       "    <tr>\n",
       "      <th>S02</th>\n",
       "      <td>82</td>\n",
       "      <td>83</td>\n",
       "      <td>18</td>\n",
       "      <td>18</td>\n",
       "    </tr>\n",
       "    <tr>\n",
       "      <th>S05</th>\n",
       "      <td>93</td>\n",
       "      <td>91</td>\n",
       "      <td>12</td>\n",
       "      <td>12</td>\n",
       "    </tr>\n",
       "    <tr>\n",
       "      <th>S01</th>\n",
       "      <td>90</td>\n",
       "      <td>95</td>\n",
       "      <td>20</td>\n",
       "      <td>20</td>\n",
       "    </tr>\n",
       "  </tbody>\n",
       "</table>\n",
       "</div>"
      ],
      "text/plain": [
       "     중간  기말  리포트  퀴즈\n",
       "학번                  \n",
       "S08  72  65   14  14\n",
       "S09  65  65   14  14\n",
       "S04  78  75   10  10\n",
       "S06  71  75   16  16\n",
       "S03  80  78   18  18\n",
       "S10  85  78   10  10\n",
       "S07  60  80   18  18\n",
       "S02  82  83   18  18\n",
       "S05  93  91   12  12\n",
       "S01  90  95   20  20"
      ]
     },
     "execution_count": 98,
     "metadata": {},
     "output_type": "execute_result"
    }
   ],
   "source": [
    "df2 = df.sort_values(by='기말')\n",
    "df2"
   ]
  },
  {
   "cell_type": "markdown",
   "metadata": {},
   "source": [
    "##### 날짜 데이터 변환"
   ]
  },
  {
   "cell_type": "code",
   "execution_count": null,
   "metadata": {},
   "outputs": [],
   "source": [
    "df['입사일'] = pd.to_datetime(df['입사일'])                         # 날짜 형식 변환\n",
    "df['근속일수'] = pd.Timestamp.today().year - df['입사일'].dt.year   # 근속 연수 계산"
   ]
  },
  {
   "cell_type": "markdown",
   "metadata": {},
   "source": [
    "##### 그룹화(groupby)"
   ]
  },
  {
   "cell_type": "code",
   "execution_count": 18,
   "metadata": {},
   "outputs": [
    {
     "name": "stdout",
     "output_type": "stream",
     "text": [
      "직업\n",
      "개발자        5000.0\n",
      "기획자        5500.0\n",
      "데이터 분석가    6000.0\n",
      "디자이너       4000.0\n",
      "Name: 연봉, dtype: float64\n"
     ]
    }
   ],
   "source": [
    "df_group = df.groupby('직업')['연봉'].mean()    # 직업별 평균 연봉\n",
    "print(df_group)"
   ]
  },
  {
   "cell_type": "markdown",
   "metadata": {},
   "source": [
    "##### pivot table\n",
    "- 데이터를 그롭화하고 특정 기준에 따라 집계하는데 사용\n",
    "- index : 그룹화할 기준 열(행 기준)\n",
    "- columns : 열로 표시할 기준 (옵션)\n",
    "- values = 집계할 값\n",
    "- aggfunc : 집계 방식(mean, max, min, sum, count)\n",
    "- fill_value : NaN 값을 대체할 값 (옵션)\n"
   ]
  },
  {
   "cell_type": "code",
   "execution_count": null,
   "metadata": {},
   "outputs": [
    {
     "name": "stdout",
     "output_type": "stream",
     "text": [
      "             연봉\n",
      "직업             \n",
      "개발자      5000.0\n",
      "기획자      5500.0\n",
      "데이터 분석가  6000.0\n",
      "디자이너     4000.0\n"
     ]
    }
   ],
   "source": [
    "df_pivot = df.pivot_table(index='직업', values='연봉', aggfunc= 'mean') # 직업별 평균 연봉\n",
    "print(df_pivot)"
   ]
  },
  {
   "cell_type": "markdown",
   "metadata": {},
   "source": [
    "##### 데이터 집계(agg)\n",
    "- 여러 개의 집계 함수를 한 번에 적용할 때 사용됨"
   ]
  },
  {
   "cell_type": "code",
   "execution_count": 21,
   "metadata": {},
   "outputs": [
    {
     "name": "stdout",
     "output_type": "stream",
     "text": [
      "             연봉              나이\n",
      "           mean   max   min max\n",
      "직업                             \n",
      "개발자      5000.0  5000  5000  25\n",
      "기획자      5500.0  5500  5500  30\n",
      "데이터 분석가  6000.0  6000  6000  28\n",
      "디자이너     4000.0  4000  4000  22\n"
     ]
    }
   ],
   "source": [
    "df_agg = df.groupby('직업').agg({'연봉':['mean', 'max', 'min'], '나이' : ['max']})    # 연봉의 평균, 최대, 최소 계산\n",
    "print(df_agg)"
   ]
  },
  {
   "cell_type": "markdown",
   "metadata": {},
   "source": [
    "#### 결측치 처리"
   ]
  },
  {
   "cell_type": "code",
   "execution_count": null,
   "metadata": {},
   "outputs": [],
   "source": [
    "df.fillna(0)        # NaN 값을 0으로 채우기\n",
    "df.dropna()         # NaN이 있는 행 제거\n",
    "df.dropna(axis=1)   # NaN이 있는 열 제거"
   ]
  },
  {
   "cell_type": "markdown",
   "metadata": {},
   "source": [
    "##### 중복 데이터 제거"
   ]
  },
  {
   "cell_type": "code",
   "execution_count": null,
   "metadata": {},
   "outputs": [],
   "source": [
    "df.drop_duplicates()    "
   ]
  },
  {
   "cell_type": "markdown",
   "metadata": {},
   "source": [
    "##### apply()\n",
    "- 행/열 단위로 함수 적용"
   ]
  },
  {
   "cell_type": "code",
   "execution_count": 24,
   "metadata": {},
   "outputs": [
    {
     "name": "stdout",
     "output_type": "stream",
     "text": [
      "   이름  국어  수학    평균\n",
      "0  철수  80  75  77.5\n",
      "1  영희  90  95  92.5\n",
      "2  민수  85  88  86.5\n"
     ]
    }
   ],
   "source": [
    "df = pd.DataFrame({\n",
    "    '이름' : ['철수', '영희', '민수'],\n",
    "    '국어' : [80, 90, 85],\n",
    "    '수학' : [75, 95, 88]\n",
    "})\n",
    "\n",
    "# 각 학생의 평균 점수 계산\n",
    "df['평균'] = df[['국어','수학']].apply(lambda x: x.mean(), axis=1)  # axis=1 이면 row 단위, axis=1 이면 col 단위 연산\n",
    "print(df)"
   ]
  },
  {
   "cell_type": "markdown",
   "metadata": {},
   "source": [
    "##### map()\n",
    "- 한 개의 열(Series)의 각 요소에 함수 적용"
   ]
  },
  {
   "cell_type": "code",
   "execution_count": null,
   "metadata": {},
   "outputs": [
    {
     "name": "stdout",
     "output_type": "stream",
     "text": [
      "   이름  국어  수학    평균 이름_대문자\n",
      "0  철수  80  75  77.5     철수\n",
      "1  영희  90  95  92.5     영희\n",
      "2  민수  85  88  86.5     민수\n"
     ]
    }
   ],
   "source": [
    "# df['이름_대문자'] = df['이름'].map(str.upper)\n",
    "df['이름_대문자'] = df['이름'].apply(str.upper)\n",
    "print(df)"
   ]
  },
  {
   "cell_type": "code",
   "execution_count": 27,
   "metadata": {},
   "outputs": [
    {
     "name": "stdout",
     "output_type": "stream",
     "text": [
      "   이름  국어   수학    평균 이름_대문자\n",
      "0  철수  85   80  77.5     철수\n",
      "1  영희  95  100  92.5     영희\n",
      "2  민수  90   93  86.5     민수\n"
     ]
    },
    {
     "name": "stderr",
     "output_type": "stream",
     "text": [
      "/var/folders/6v/trwfv86n72l0_209w0djx9g00000gn/T/ipykernel_4109/3664603876.py:1: FutureWarning: DataFrame.applymap has been deprecated. Use DataFrame.map instead.\n",
      "  df[['국어','수학']] = df[['국어','수학']].applymap(lambda x:x+5)\n"
     ]
    }
   ],
   "source": [
    "df[['국어','수학']] = df[['국어','수학']].applymap(lambda x:x+5)\n",
    "print(df)"
   ]
  },
  {
   "cell_type": "markdown",
   "metadata": {},
   "source": [
    "# Numpy\n",
    "- 데이터 분석과 산술 연산에 사용하는 기본 패키지\n",
    "- 다차원 배열을 정의하고 처리하는데 필요한 다양한 기능을 제공\n",
    "- 동일한 자료형만 담을 수 있다.\n",
    "\n",
    "## ndarray 객체\n",
    "- 다차원 배열을 지원하는 객체\n",
    "- array() : ndarray 객체 생성\n",
    "- random.randn() : 정규 분포를 갖는 난수(랜덤수) 생성\n",
    "- zeros(), ones() : 객체 생성 후 0 또는 1로 초기화\n",
    "- arange() : 내장 함수인 range()와 동일한 기능\n",
    "- reshape() : ndarray의 차원을 재구성\n",
    "- sum(), mean(), min(), max()\n",
    "- argmax() : 열 또는 행의 요소 중 최대 값을 가지는 요소의 인덱스 반환\n",
    "- argmin() : 열 또는 행의 요소 중 최소 값을 가지는 요소의 인덱스 반환\n",
    "- where() : 조건식에 따라 배열의 요소 값을 특정 값으로 변경\n",
    "- sort() : 배열을 오름차순으로 정렬"
   ]
  },
  {
   "cell_type": "markdown",
   "metadata": {},
   "source": [
    "#### 배열 생성"
   ]
  },
  {
   "cell_type": "code",
   "execution_count": 4,
   "metadata": {},
   "outputs": [
    {
     "name": "stdout",
     "output_type": "stream",
     "text": [
      "[ 20  30  40  50  60  70  80  90 100 110 120 130 140 150 160 170 180 190]\n",
      "[[ 20  30  40  50  60  70]\n",
      " [ 80  90 100 110 120 130]\n",
      " [140 150 160 170 180 190]]\n"
     ]
    }
   ],
   "source": [
    "import numpy as np\n",
    "\n",
    "arr = np.array([1,2,3,4,5])             # ndarray 생성\n",
    "arr1 = np.array([[1,2,3], [4,5,6]])     # 2차원 행렬 생성\n",
    "arr2 = np.random.randn(2,3)             # 난수를 이용한 배열 객체 생성\n",
    "arr3 = np.ones((1,2))\n",
    "\n",
    "arr4 = np.arange(20, 200, 10)\n",
    "arr5 = arr4.reshape(3,6)\n",
    "\n",
    "print(arr4)\n",
    "print(arr5)"
   ]
  },
  {
   "cell_type": "markdown",
   "metadata": {},
   "source": [
    "##### 배열 다루기"
   ]
  },
  {
   "cell_type": "code",
   "execution_count": null,
   "metadata": {},
   "outputs": [
    {
     "name": "stdout",
     "output_type": "stream",
     "text": [
      "[ 6  9 19]\n",
      "[ 9 19 11]\n"
     ]
    }
   ],
   "source": [
    "import numpy as np\n",
    "\n",
    "ar1 = np.array([[5,7,9], [-7,-6,19], [6,9,11]])\n",
    "print(ar1.max(axis = 0))    # [6, 9, 19]\n",
    "print(ar1.max(axis = 1))    # [9, 19,11]"
   ]
  },
  {
   "cell_type": "markdown",
   "metadata": {},
   "source": [
    "##### 조건식을 사용한 연산"
   ]
  },
  {
   "cell_type": "code",
   "execution_count": 9,
   "metadata": {},
   "outputs": [
    {
     "name": "stdout",
     "output_type": "stream",
     "text": [
      "[[ 5  7  9]\n",
      " [ 0  0 19]\n",
      " [ 6  9 11]]\n"
     ]
    }
   ],
   "source": [
    "ar2 = np.where(ar1 < 0, 0, ar1)\n",
    "print(ar2)"
   ]
  },
  {
   "cell_type": "markdown",
   "metadata": {},
   "source": [
    "##### 배열의 정렬"
   ]
  },
  {
   "cell_type": "code",
   "execution_count": 10,
   "metadata": {},
   "outputs": [
    {
     "name": "stdout",
     "output_type": "stream",
     "text": [
      "[[ 5  7  9]\n",
      " [-7 -6 19]\n",
      " [ 6  9 11]]\n",
      "[[-7 -6  9]\n",
      " [ 5  7 11]\n",
      " [ 6  9 19]]\n",
      "[[-7 -6  9]\n",
      " [ 5  7 11]\n",
      " [ 6  9 19]]\n"
     ]
    }
   ],
   "source": [
    "print(ar1)\n",
    "ar1.sort(0) # 열 단위로 원소를 정렬\n",
    "print(ar1)\n",
    "ar1.sort(1)  # 행 단위로 원소를 정렬\n",
    "print(ar1)"
   ]
  },
  {
   "cell_type": "markdown",
   "metadata": {},
   "source": [
    "#### 기본 연산"
   ]
  },
  {
   "cell_type": "markdown",
   "metadata": {},
   "source": [
    "# scikit-learn\n",
    "- 머신 러닝"
   ]
  },
  {
   "cell_type": "code",
   "execution_count": 13,
   "metadata": {},
   "outputs": [
    {
     "name": "stdout",
     "output_type": "stream",
     "text": [
      "Defaulting to user installation because normal site-packages is not writeable\n",
      "Collecting scikit-learn\n",
      "  Downloading scikit_learn-1.6.1-cp39-cp39-macosx_12_0_arm64.whl.metadata (31 kB)\n",
      "Requirement already satisfied: numpy>=1.19.5 in /Users/henry/Library/Python/3.9/lib/python/site-packages (from scikit-learn) (2.0.2)\n",
      "Collecting scipy>=1.6.0 (from scikit-learn)\n",
      "  Using cached scipy-1.13.1-cp39-cp39-macosx_12_0_arm64.whl.metadata (60 kB)\n",
      "Collecting joblib>=1.2.0 (from scikit-learn)\n",
      "  Using cached joblib-1.4.2-py3-none-any.whl.metadata (5.4 kB)\n",
      "Collecting threadpoolctl>=3.1.0 (from scikit-learn)\n",
      "  Downloading threadpoolctl-3.6.0-py3-none-any.whl.metadata (13 kB)\n",
      "Downloading scikit_learn-1.6.1-cp39-cp39-macosx_12_0_arm64.whl (11.1 MB)\n",
      "\u001b[2K   \u001b[90m━━━━━━━━━━━━━━━━━━━━━━━━━━━━━━━━━━━━━━━━\u001b[0m \u001b[32m11.1/11.1 MB\u001b[0m \u001b[31m20.7 MB/s\u001b[0m eta \u001b[36m0:00:00\u001b[0m \u001b[36m0:00:01\u001b[0m\n",
      "\u001b[?25hUsing cached joblib-1.4.2-py3-none-any.whl (301 kB)\n",
      "Using cached scipy-1.13.1-cp39-cp39-macosx_12_0_arm64.whl (30.3 MB)\n",
      "Downloading threadpoolctl-3.6.0-py3-none-any.whl (18 kB)\n",
      "Installing collected packages: threadpoolctl, scipy, joblib, scikit-learn\n",
      "Successfully installed joblib-1.4.2 scikit-learn-1.6.1 scipy-1.13.1 threadpoolctl-3.6.0\n",
      "\n",
      "\u001b[1m[\u001b[0m\u001b[34;49mnotice\u001b[0m\u001b[1;39;49m]\u001b[0m\u001b[39;49m A new release of pip is available: \u001b[0m\u001b[31;49m24.2\u001b[0m\u001b[39;49m -> \u001b[0m\u001b[32;49m25.0.1\u001b[0m\n",
      "\u001b[1m[\u001b[0m\u001b[34;49mnotice\u001b[0m\u001b[1;39;49m]\u001b[0m\u001b[39;49m To update, run: \u001b[0m\u001b[32;49m/Library/Developer/CommandLineTools/usr/bin/python3 -m pip install --upgrade pip\u001b[0m\n"
     ]
    }
   ],
   "source": [
    "!pip install scikit-learn"
   ]
  },
  {
   "cell_type": "code",
   "execution_count": 15,
   "metadata": {},
   "outputs": [
    {
     "name": "stdout",
     "output_type": "stream",
     "text": [
      "[219.  70. 202. 230. 111.]\n",
      "[139.5475584  179.51720835 134.03875572 291.41702925 123.78965872]\n"
     ]
    }
   ],
   "source": [
    "from sklearn.model_selection import train_test_split\n",
    "from sklearn.linear_model import LinearRegression\n",
    "from sklearn.datasets import load_diabetes\n",
    "\n",
    "# 데이터 로드\n",
    "data = load_diabetes()\n",
    "X, y = data.data, data.target\n",
    "\n",
    "# 훈련 데이터와 테스트 데이터 분리\n",
    "X_train, X_test, y_train, y_test = train_test_split(X,y, test_size = 0.2, random_state=42)\n",
    "\n",
    "# 선형 회귀 모델 학습\n",
    "model = LinearRegression()\n",
    "model.fit(X_train, y_train)\n",
    "\n",
    "# 예측 및 평가\n",
    "predictions = model.predict(X_test)\n",
    "print(y_test[:5])\n",
    "print(predictions[:5])"
   ]
  }
 ],
 "metadata": {
  "kernelspec": {
   "display_name": "Python 3",
   "language": "python",
   "name": "python3"
  },
  "language_info": {
   "codemirror_mode": {
    "name": "ipython",
    "version": 3
   },
   "file_extension": ".py",
   "mimetype": "text/x-python",
   "name": "python",
   "nbconvert_exporter": "python",
   "pygments_lexer": "ipython3",
   "version": "3.9.6"
  }
 },
 "nbformat": 4,
 "nbformat_minor": 2
}
