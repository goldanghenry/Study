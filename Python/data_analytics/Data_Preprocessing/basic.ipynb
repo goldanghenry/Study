{
 "cells": [
  {
   "cell_type": "markdown",
   "metadata": {},
   "source": [
    "# Pandas"
   ]
  },
  {
   "cell_type": "markdown",
   "metadata": {},
   "source": [
    "#### 데이터프레임 생성 및 기본 조작"
   ]
  },
  {
   "cell_type": "code",
   "execution_count": 17,
   "metadata": {},
   "outputs": [
    {
     "name": "stdout",
     "output_type": "stream",
     "text": [
      "   이름  나이       직업    연봉\n",
      "0  철수  25      개발자  5000\n",
      "1  영희  22     디자이너  4000\n",
      "2  민수  30      기획자  5500\n",
      "3  지수  28  데이터 분석가  6000\n"
     ]
    }
   ],
   "source": [
    "import pandas as pd\n",
    "\n",
    "# 샘플 데이터 생성\n",
    "data = {\n",
    "    '이름': ['철수', '영희', '민수', '지수'],\n",
    "    '나이': [25, 22, 30, 28],\n",
    "    '직업': ['개발자', '디자이너', '기획자', '데이터 분석가'],\n",
    "    '연봉': [5000, 4000, 5500, 6000]\n",
    "}\n",
    "# pd.read_csv('data.csv')\n",
    "df = pd.DataFrame(data)\n",
    "print(df.head())"
   ]
  },
  {
   "cell_type": "markdown",
   "metadata": {},
   "source": [
    "#### 컬럼 선택 및 필터링"
   ]
  },
  {
   "cell_type": "code",
   "execution_count": 4,
   "metadata": {},
   "outputs": [
    {
     "name": "stdout",
     "output_type": "stream",
     "text": [
      "0    철수\n",
      "1    영희\n",
      "2    민수\n",
      "Name: 이름, dtype: object\n",
      "0     True\n",
      "1    False\n",
      "2     True\n",
      "Name: 나이, dtype: bool\n",
      "   이름  나이   직업\n",
      "0  철수  25  개발자\n",
      "2  민수  30  기획자\n"
     ]
    }
   ],
   "source": [
    "print(df['이름'])           # 특정 컬럼 선택\n",
    "print(df['나이'] > 23)\n",
    "print(df[df['나이'] > 23])  # 특정 조건 필터링"
   ]
  },
  {
   "cell_type": "markdown",
   "metadata": {},
   "source": [
    "#### 데이터 추가 및 수정"
   ]
  },
  {
   "cell_type": "code",
   "execution_count": 6,
   "metadata": {},
   "outputs": [
    {
     "data": {
      "text/html": [
       "<div>\n",
       "<style scoped>\n",
       "    .dataframe tbody tr th:only-of-type {\n",
       "        vertical-align: middle;\n",
       "    }\n",
       "\n",
       "    .dataframe tbody tr th {\n",
       "        vertical-align: top;\n",
       "    }\n",
       "\n",
       "    .dataframe thead th {\n",
       "        text-align: right;\n",
       "    }\n",
       "</style>\n",
       "<table border=\"1\" class=\"dataframe\">\n",
       "  <thead>\n",
       "    <tr style=\"text-align: right;\">\n",
       "      <th></th>\n",
       "      <th>이름</th>\n",
       "      <th>나이</th>\n",
       "      <th>직업</th>\n",
       "      <th>연봉</th>\n",
       "    </tr>\n",
       "  </thead>\n",
       "  <tbody>\n",
       "    <tr>\n",
       "      <th>0</th>\n",
       "      <td>철수</td>\n",
       "      <td>25</td>\n",
       "      <td>개발자</td>\n",
       "      <td>5000</td>\n",
       "    </tr>\n",
       "    <tr>\n",
       "      <th>1</th>\n",
       "      <td>영희</td>\n",
       "      <td>23</td>\n",
       "      <td>디자이너</td>\n",
       "      <td>4000</td>\n",
       "    </tr>\n",
       "    <tr>\n",
       "      <th>2</th>\n",
       "      <td>민수</td>\n",
       "      <td>30</td>\n",
       "      <td>기획자</td>\n",
       "      <td>5500</td>\n",
       "    </tr>\n",
       "  </tbody>\n",
       "</table>\n",
       "</div>"
      ],
      "text/plain": [
       "   이름  나이    직업    연봉\n",
       "0  철수  25   개발자  5000\n",
       "1  영희  23  디자이너  4000\n",
       "2  민수  30   기획자  5500"
      ]
     },
     "execution_count": 6,
     "metadata": {},
     "output_type": "execute_result"
    }
   ],
   "source": [
    "df['연봉'] = [5000,4000,5500]   # 새로운 칼럼 추가\n",
    "df.loc[1, '나이'] = 23          # 특정 칼럼 수정\n",
    "df"
   ]
  },
  {
   "cell_type": "code",
   "execution_count": null,
   "metadata": {},
   "outputs": [],
   "source": [
    "df['연봉'] = df['연봉'] * 1.1   # 연봉을 10% 증가\n",
    "df['이름'] = df['이름'].str.upper() # 이름을 대문자로 변환"
   ]
  },
  {
   "cell_type": "markdown",
   "metadata": {},
   "source": [
    "##### 날짜 데이터 변환"
   ]
  },
  {
   "cell_type": "code",
   "execution_count": null,
   "metadata": {},
   "outputs": [],
   "source": [
    "df['입사일'] = pd.to_datetime(df['입사일'])                         # 날짜 형식 변환\n",
    "df['근속일수'] = pd.Timestamp.today().year - df['입사일'].dt.year   # 근속 연수 계산"
   ]
  },
  {
   "cell_type": "markdown",
   "metadata": {},
   "source": [
    "##### 그룹화(groupby)"
   ]
  },
  {
   "cell_type": "code",
   "execution_count": 18,
   "metadata": {},
   "outputs": [
    {
     "name": "stdout",
     "output_type": "stream",
     "text": [
      "직업\n",
      "개발자        5000.0\n",
      "기획자        5500.0\n",
      "데이터 분석가    6000.0\n",
      "디자이너       4000.0\n",
      "Name: 연봉, dtype: float64\n"
     ]
    }
   ],
   "source": [
    "df_group = df.groupby('직업')['연봉'].mean()    # 직업별 평균 연봉\n",
    "print(df_group)"
   ]
  },
  {
   "cell_type": "markdown",
   "metadata": {},
   "source": [
    "##### pivot table\n",
    "- 데이터를 그롭화하고 특정 기준에 따라 집계하는데 사용\n",
    "- index : 그룹화할 기준 열(행 기준)\n",
    "- columns : 열로 표시할 기준 (옵션)\n",
    "- values = 집계할 값\n",
    "- aggfunc : 집계 방식(mean, max, min, sum, count)\n",
    "- fill_value : NaN 값을 대체할 값 (옵션)\n"
   ]
  },
  {
   "cell_type": "code",
   "execution_count": null,
   "metadata": {},
   "outputs": [
    {
     "name": "stdout",
     "output_type": "stream",
     "text": [
      "             연봉\n",
      "직업             \n",
      "개발자      5000.0\n",
      "기획자      5500.0\n",
      "데이터 분석가  6000.0\n",
      "디자이너     4000.0\n"
     ]
    }
   ],
   "source": [
    "df_pivot = df.pivot_table(index='직업', values='연봉', aggfunc= 'mean') # 직업별 평균 연봉\n",
    "print(df_pivot)"
   ]
  },
  {
   "cell_type": "markdown",
   "metadata": {},
   "source": [
    "##### 데이터 집계(agg)\n",
    "- 여러 개의 집계 함수를 한 번에 적용할 때 사용됨"
   ]
  },
  {
   "cell_type": "code",
   "execution_count": 21,
   "metadata": {},
   "outputs": [
    {
     "name": "stdout",
     "output_type": "stream",
     "text": [
      "             연봉              나이\n",
      "           mean   max   min max\n",
      "직업                             \n",
      "개발자      5000.0  5000  5000  25\n",
      "기획자      5500.0  5500  5500  30\n",
      "데이터 분석가  6000.0  6000  6000  28\n",
      "디자이너     4000.0  4000  4000  22\n"
     ]
    }
   ],
   "source": [
    "df_agg = df.groupby('직업').agg({'연봉':['mean', 'max', 'min'], '나이' : ['max']})    # 연봉의 평균, 최대, 최소 계산\n",
    "print(df_agg)"
   ]
  },
  {
   "cell_type": "markdown",
   "metadata": {},
   "source": [
    "#### 결측치 처리"
   ]
  },
  {
   "cell_type": "code",
   "execution_count": null,
   "metadata": {},
   "outputs": [],
   "source": [
    "df.fillna(0)        # NaN 값을 0으로 채우기\n",
    "df.dropna()         # NaN이 있는 행 제거\n",
    "df.dropna(axis=1)   # NaN이 있는 열 제거"
   ]
  },
  {
   "cell_type": "markdown",
   "metadata": {},
   "source": [
    "##### 중복 데이터 제거"
   ]
  },
  {
   "cell_type": "code",
   "execution_count": null,
   "metadata": {},
   "outputs": [],
   "source": [
    "df.drop_duplicates()    "
   ]
  },
  {
   "cell_type": "markdown",
   "metadata": {},
   "source": [
    "##### apply()\n",
    "- 행/열 단위로 함수 적용"
   ]
  },
  {
   "cell_type": "code",
   "execution_count": 24,
   "metadata": {},
   "outputs": [
    {
     "name": "stdout",
     "output_type": "stream",
     "text": [
      "   이름  국어  수학    평균\n",
      "0  철수  80  75  77.5\n",
      "1  영희  90  95  92.5\n",
      "2  민수  85  88  86.5\n"
     ]
    }
   ],
   "source": [
    "df = pd.DataFrame({\n",
    "    '이름' : ['철수', '영희', '민수'],\n",
    "    '국어' : [80, 90, 85],\n",
    "    '수학' : [75, 95, 88]\n",
    "})\n",
    "\n",
    "# 각 학생의 평균 점수 계산\n",
    "df['평균'] = df[['국어','수학']].apply(lambda x: x.mean(), axis=1)  # axis=1 이면 row 단위, axis=1 이면 col 단위 연산\n",
    "print(df)"
   ]
  },
  {
   "cell_type": "markdown",
   "metadata": {},
   "source": [
    "##### map()\n",
    "- 한 개의 열(Series)의 각 요소에 함수 적용"
   ]
  },
  {
   "cell_type": "code",
   "execution_count": null,
   "metadata": {},
   "outputs": [
    {
     "name": "stdout",
     "output_type": "stream",
     "text": [
      "   이름  국어  수학    평균 이름_대문자\n",
      "0  철수  80  75  77.5     철수\n",
      "1  영희  90  95  92.5     영희\n",
      "2  민수  85  88  86.5     민수\n"
     ]
    }
   ],
   "source": [
    "# df['이름_대문자'] = df['이름'].map(str.upper)\n",
    "df['이름_대문자'] = df['이름'].apply(str.upper)\n",
    "print(df)"
   ]
  },
  {
   "cell_type": "code",
   "execution_count": 27,
   "metadata": {},
   "outputs": [
    {
     "name": "stdout",
     "output_type": "stream",
     "text": [
      "   이름  국어   수학    평균 이름_대문자\n",
      "0  철수  85   80  77.5     철수\n",
      "1  영희  95  100  92.5     영희\n",
      "2  민수  90   93  86.5     민수\n"
     ]
    },
    {
     "name": "stderr",
     "output_type": "stream",
     "text": [
      "/var/folders/6v/trwfv86n72l0_209w0djx9g00000gn/T/ipykernel_4109/3664603876.py:1: FutureWarning: DataFrame.applymap has been deprecated. Use DataFrame.map instead.\n",
      "  df[['국어','수학']] = df[['국어','수학']].applymap(lambda x:x+5)\n"
     ]
    }
   ],
   "source": [
    "df[['국어','수학']] = df[['국어','수학']].applymap(lambda x:x+5)\n",
    "print(df)"
   ]
  },
  {
   "cell_type": "markdown",
   "metadata": {},
   "source": [
    "# Numpy\n",
    "- 수치 연산 및 배열"
   ]
  },
  {
   "cell_type": "markdown",
   "metadata": {},
   "source": [
    "#### 배열 생성"
   ]
  },
  {
   "cell_type": "code",
   "execution_count": 7,
   "metadata": {},
   "outputs": [
    {
     "name": "stdout",
     "output_type": "stream",
     "text": [
      "[1 2 3 4 5]\n"
     ]
    }
   ],
   "source": [
    "import numpy as np\n",
    "\n",
    "arr = np.array([1,2,3,4,5])\n",
    "print(arr)"
   ]
  },
  {
   "cell_type": "markdown",
   "metadata": {},
   "source": [
    "#### 행렬 생성"
   ]
  },
  {
   "cell_type": "code",
   "execution_count": 8,
   "metadata": {},
   "outputs": [
    {
     "name": "stdout",
     "output_type": "stream",
     "text": [
      "[[1 2]\n",
      " [3 4]]\n"
     ]
    }
   ],
   "source": [
    "matrix = np.array([[1,2],[3,4]])\n",
    "print(matrix)"
   ]
  },
  {
   "cell_type": "markdown",
   "metadata": {},
   "source": [
    "#### 기본 연산"
   ]
  },
  {
   "cell_type": "code",
   "execution_count": null,
   "metadata": {},
   "outputs": [],
   "source": [
    "print(arr + 10)     # 모든 원소에 10 더하기\n",
    "print(np.mean(arr)) # 평균\n",
    "print(np.sum(arr))  # 합계"
   ]
  },
  {
   "cell_type": "markdown",
   "metadata": {},
   "source": [
    "# scikit-learn\n",
    "- 머신 러닝"
   ]
  },
  {
   "cell_type": "code",
   "execution_count": 13,
   "metadata": {},
   "outputs": [
    {
     "name": "stdout",
     "output_type": "stream",
     "text": [
      "Defaulting to user installation because normal site-packages is not writeable\n",
      "Collecting scikit-learn\n",
      "  Downloading scikit_learn-1.6.1-cp39-cp39-macosx_12_0_arm64.whl.metadata (31 kB)\n",
      "Requirement already satisfied: numpy>=1.19.5 in /Users/henry/Library/Python/3.9/lib/python/site-packages (from scikit-learn) (2.0.2)\n",
      "Collecting scipy>=1.6.0 (from scikit-learn)\n",
      "  Using cached scipy-1.13.1-cp39-cp39-macosx_12_0_arm64.whl.metadata (60 kB)\n",
      "Collecting joblib>=1.2.0 (from scikit-learn)\n",
      "  Using cached joblib-1.4.2-py3-none-any.whl.metadata (5.4 kB)\n",
      "Collecting threadpoolctl>=3.1.0 (from scikit-learn)\n",
      "  Downloading threadpoolctl-3.6.0-py3-none-any.whl.metadata (13 kB)\n",
      "Downloading scikit_learn-1.6.1-cp39-cp39-macosx_12_0_arm64.whl (11.1 MB)\n",
      "\u001b[2K   \u001b[90m━━━━━━━━━━━━━━━━━━━━━━━━━━━━━━━━━━━━━━━━\u001b[0m \u001b[32m11.1/11.1 MB\u001b[0m \u001b[31m20.7 MB/s\u001b[0m eta \u001b[36m0:00:00\u001b[0m \u001b[36m0:00:01\u001b[0m\n",
      "\u001b[?25hUsing cached joblib-1.4.2-py3-none-any.whl (301 kB)\n",
      "Using cached scipy-1.13.1-cp39-cp39-macosx_12_0_arm64.whl (30.3 MB)\n",
      "Downloading threadpoolctl-3.6.0-py3-none-any.whl (18 kB)\n",
      "Installing collected packages: threadpoolctl, scipy, joblib, scikit-learn\n",
      "Successfully installed joblib-1.4.2 scikit-learn-1.6.1 scipy-1.13.1 threadpoolctl-3.6.0\n",
      "\n",
      "\u001b[1m[\u001b[0m\u001b[34;49mnotice\u001b[0m\u001b[1;39;49m]\u001b[0m\u001b[39;49m A new release of pip is available: \u001b[0m\u001b[31;49m24.2\u001b[0m\u001b[39;49m -> \u001b[0m\u001b[32;49m25.0.1\u001b[0m\n",
      "\u001b[1m[\u001b[0m\u001b[34;49mnotice\u001b[0m\u001b[1;39;49m]\u001b[0m\u001b[39;49m To update, run: \u001b[0m\u001b[32;49m/Library/Developer/CommandLineTools/usr/bin/python3 -m pip install --upgrade pip\u001b[0m\n"
     ]
    }
   ],
   "source": [
    "!pip install scikit-learn"
   ]
  },
  {
   "cell_type": "code",
   "execution_count": 15,
   "metadata": {},
   "outputs": [
    {
     "name": "stdout",
     "output_type": "stream",
     "text": [
      "[219.  70. 202. 230. 111.]\n",
      "[139.5475584  179.51720835 134.03875572 291.41702925 123.78965872]\n"
     ]
    }
   ],
   "source": [
    "from sklearn.model_selection import train_test_split\n",
    "from sklearn.linear_model import LinearRegression\n",
    "from sklearn.datasets import load_diabetes\n",
    "\n",
    "# 데이터 로드\n",
    "data = load_diabetes()\n",
    "X, y = data.data, data.target\n",
    "\n",
    "# 훈련 데이터와 테스트 데이터 분리\n",
    "X_train, X_test, y_train, y_test = train_test_split(X,y, test_size = 0.2, random_state=42)\n",
    "\n",
    "# 선형 회귀 모델 학습\n",
    "model = LinearRegression()\n",
    "model.fit(X_train, y_train)\n",
    "\n",
    "# 예측 및 평가\n",
    "predictions = model.predict(X_test)\n",
    "print(y_test[:5])\n",
    "print(predictions[:5])"
   ]
  }
 ],
 "metadata": {
  "kernelspec": {
   "display_name": "Python 3",
   "language": "python",
   "name": "python3"
  },
  "language_info": {
   "codemirror_mode": {
    "name": "ipython",
    "version": 3
   },
   "file_extension": ".py",
   "mimetype": "text/x-python",
   "name": "python",
   "nbconvert_exporter": "python",
   "pygments_lexer": "ipython3",
   "version": "3.9.6"
  }
 },
 "nbformat": 4,
 "nbformat_minor": 2
}
