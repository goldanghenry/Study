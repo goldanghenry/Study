{
 "cells": [
  {
   "cell_type": "markdown",
   "metadata": {},
   "source": [
    "## Chapter3 Practice\n",
    "-2022.09.15"
   ]
  },
  {
   "cell_type": "markdown",
   "metadata": {},
   "source": [
    "### 3.1\n",
    "다음 조건문의 실행 결과는 무엇인가? True 혹은 False로 나타내어라."
   ]
  },
  {
   "cell_type": "code",
   "execution_count": null,
   "metadata": {},
   "outputs": [],
   "source": [
    "print(100 > 200)    # False\n",
    "print(100 >= 200)   # False\n",
    "print(100 < 200)    # True\n",
    "print(100 <= 200)   # True\n",
    "print(100 == 200)   # False\n",
    "print()\n",
    "print(100 != 200)   # True\n",
    "print(200 == 200)   # True\n",
    "print(200 != 200)   # False\n",
    "print(True or True) # True\n",
    "print(True or False)    # True\n",
    "print()\n",
    "print(True and False)   # False\n",
    "print(True and True)    # True\n",
    "print(True or True and False)   # 연산자 우선순위 : and > or // True or (True and False) -> True or False = True\n",
    "print(True and True or False)   # True\n",
    "print('Morning'<'morning')      # True, 소문자가 더 크다(아스키코드 상 나중에 나옴)\n",
    "print('A' > 'B')                # False, A가 더 작다(아스키코드 상 먼저 나옴)"
   ]
  },
  {
   "cell_type": "markdown",
   "metadata": {},
   "source": [
    "### 3.2\n",
    "키가 140cm 미만이면 탈 수 없는 놀이기구가 있다. 다음과 같이 사용자로부터 이름과<br>\n",
    "키를 입력받아 이 놀이기구에 탈 수 있는지 없는지를 판단하여 출력하는 프로그램을<br>\n",
    "작성하시오."
   ]
  },
  {
   "cell_type": "code",
   "execution_count": 6,
   "metadata": {},
   "outputs": [
    {
     "name": "stdout",
     "output_type": "stream",
     "text": [
      "승주 님은 놀이기구를 탈 수 없습니다.\n"
     ]
    }
   ],
   "source": [
    "name = input('이름을 입력하시오 : ')\n",
    "height = int(input('키를 입력하시오(단위 cm) : '))\n",
    "if height < 140:\n",
    "    print(name, '님은 놀이기구를 탈 수 없습니다.')\n",
    "else:\n",
    "    print(name, '님은 놀이기구를 탈 수 있습니다.')"
   ]
  },
  {
   "cell_type": "markdown",
   "metadata": {},
   "source": [
    "### 3.3\n",
    "나이가 19세 이상이고 키가 150cm 이상이면 탈 수 있는 성인 놀이기구가 있다. 다음과 같이 사용자로부터 나이와<br>\n",
    "키를 입력받아 이 놀이기구에 탈 수 있는지 없는지를 판단하여 출력하는 프로그램을 작성하시오.<br>\n",
    "이때 조건식에 반드시 and가 들어가도록 프로그래밍 하시오."
   ]
  },
  {
   "cell_type": "code",
   "execution_count": 8,
   "metadata": {},
   "outputs": [
    {
     "name": "stdout",
     "output_type": "stream",
     "text": [
      "입장할 수 없습니다.\n"
     ]
    }
   ],
   "source": [
    "age = int(input('나이를 입력하시오 : '))\n",
    "height = int(input('키를 입력하시오(단위 cm) :'))\n",
    "\n",
    "if age >= 19 and height >= 150:\n",
    "    print('입장할 수 있습니다.')\n",
    "else:\n",
    "    print('입장할 수 없습니다.')"
   ]
  },
  {
   "cell_type": "markdown",
   "metadata": {},
   "source": [
    "### 3.4\n",
    "다음과 같이 사용자로부터 나이를 입력받아 20살 이상이면 \"Adult\", 10살 이상 20살 미만이면 \"Youth\",<br>\n",
    "10살 미만이면 \"Kid\"를 출력하는 프로그램을 if-elif-else 문을 사용하여 작성하시오"
   ]
  },
  {
   "cell_type": "code",
   "execution_count": 11,
   "metadata": {},
   "outputs": [
    {
     "name": "stdout",
     "output_type": "stream",
     "text": [
      "Kid\n"
     ]
    }
   ],
   "source": [
    "age = int(input('나이를 입력하시오 : '))    # 큰 수부터 조건 걸기\n",
    "if age >= 20:\n",
    "    print('Adult')\n",
    "elif age >= 10:\n",
    "    print('Youth')\n",
    "else:\n",
    "    print('Kid')"
   ]
  },
  {
   "cell_type": "markdown",
   "metadata": {},
   "source": [
    "### 3.5\n",
    "다음과 같이 사용자로부터 2개의 임의의 정수를 입력으로 받아서 가장 작은 수부터 큰 수까지 나열하는<br>\n",
    "프로그램을 if-else 문을 사용하여 작성하시오."
   ]
  },
  {
   "cell_type": "code",
   "execution_count": 13,
   "metadata": {},
   "outputs": [
    {
     "name": "stdout",
     "output_type": "stream",
     "text": [
      "12 99\n"
     ]
    }
   ],
   "source": [
    "# map(f, iterable) 함수f 와 반복 가능한(iterable) 자료형을 입력 받음.\n",
    "# map은 입력 받은 자료형의 각 요소를 함수 f가 수행한 결과를 묶어 돌려줌\n",
    "# 공백을 구분으로 integer로 a,b 변수에 각각 넣기\n",
    "a,b = map(int, input('두 정수를 입력하시오 : ').split())\n",
    "if a < b:\n",
    "    print(a, b)\n",
    "else:\n",
    "    print(b, a)"
   ]
  },
  {
   "cell_type": "markdown",
   "metadata": {},
   "source": [
    "### 3.6\n",
    "다음과 같이 사용자로부터 3개의 임의의 정수를 입력으로 받아서 가장 작은 수부터 큰 수까지 <br>\n",
    "나열하는 프로그램을 if-else 문을 사용하여 작성하시오."
   ]
  },
  {
   "cell_type": "code",
   "execution_count": 15,
   "metadata": {},
   "outputs": [
    {
     "name": "stdout",
     "output_type": "stream",
     "text": [
      "4 12 99\n"
     ]
    }
   ],
   "source": [
    "# 공백을 구분으로 integer로 a,b 변수에 각각 넣기\n",
    "a,b,c = map(int, input('세 정수를 입력하시오 : ').split())\n",
    "if min(a,b,c) == a:                 # 가장 작은 수가 a라면\n",
    "    print(a, min(b,c), max(b,c))    # a, (b,c)중 작은 것, (b,c)중 큰 것\n",
    "elif min(a,b,c) == b:               \n",
    "    print(b, min(a,c), max(a,c))\n",
    "else:\n",
    "    print(c, min(a,b), max(a,b))"
   ]
  },
  {
   "cell_type": "markdown",
   "metadata": {},
   "source": [
    "### 3.7\n",
    "사용자로부터 점수를 입력받은 다음 게임 사용자의 게임점수(game_score)가 1000점 이상이면 '고수입니다.'<br>\n",
    "1000점 미만이면 '입문자입니다.'를 출력하는 프로그램을 if-else 문을 이용하여 작성하시오."
   ]
  },
  {
   "cell_type": "code",
   "execution_count": 16,
   "metadata": {},
   "outputs": [
    {
     "name": "stdout",
     "output_type": "stream",
     "text": [
      "입문자입니다.\n"
     ]
    }
   ],
   "source": [
    "game_score = int(input('게임점수를 입력하시오 : '))\n",
    "if game_score >= 1000:\n",
    "    print('고수입니다.')\n",
    "else:\n",
    "    print('입문자입니다.')"
   ]
  },
  {
   "cell_type": "markdown",
   "metadata": {},
   "source": [
    "### 3.8\n",
    "사용자로부터 x,y좌표를 가진 한 점을 입력으로 받아서 이 점이 1,2,3,4 분면의 어디에<br>\n",
    "속하는지를 알려주는 프로그램을 작성하시오. 사분면의 위치는 다음 그림과 같다."
   ]
  },
  {
   "cell_type": "code",
   "execution_count": 19,
   "metadata": {},
   "outputs": [
    {
     "name": "stdout",
     "output_type": "stream",
     "text": [
      "3사분면에 있음\n"
     ]
    }
   ],
   "source": [
    "x,y = map(int, input('점의 좌표 x, y를 입력하시오 : ').split())\n",
    "if x > 0 and y > 0:\n",
    "    print('1사분면에 있음')\n",
    "elif x < 0 and y > 0:\n",
    "    print('2사분면에 있음')\n",
    "elif x < 0 and y < 0:\n",
    "    print('3사분면에 있음')\n",
    "else:\n",
    "    print('4사분면에 있음')"
   ]
  },
  {
   "cell_type": "markdown",
   "metadata": {},
   "source": [
    "### 3.9\n",
    "하나의 정수를 입력으로 받아서 이 정수가 2로 나누어지는지, 3으로 나누어지는지, 혹은 두 정수 모두로도<br> 나누어지는지 알려주는 프로그램을 다음과 같이 작성하시오."
   ]
  },
  {
   "cell_type": "code",
   "execution_count": 21,
   "metadata": {},
   "outputs": [
    {
     "name": "stdout",
     "output_type": "stream",
     "text": [
      "12는(은) 2(으)로 나누어집니다.\n",
      "12는(은) 2(으)로 나누어집니다.\n",
      "12는(은) 2(와)과 3 모두로 나누어집니다.\n"
     ]
    }
   ],
   "source": [
    "n = int(input('정수를 입력하시오 : '))\n",
    "if n%2==0:\n",
    "    print(f'{n}는(은) 2(으)로 나누어집니다.')\n",
    "else:\n",
    "    print(f'{n}는(은) 2(으)로 나누어지지 않습니다.')\n",
    "\n",
    "if n%3==0:\n",
    "    print(f'{n}는(은) 2(으)로 나누어집니다.')\n",
    "else:\n",
    "    print(f'{n}는(은) 2(으)로 나누어지지 않습니다.')\n",
    "\n",
    "if n%2==0 and n%3==0:\n",
    "    print(f'{n}는(은) 2(와)과 3 모두로 나누어집니다.')\n",
    "else:\n",
    "    print(f'{n}는(은) 2(와)과 3 모두로 나누어지지 않습니다.')"
   ]
  },
  {
   "cell_type": "markdown",
   "metadata": {},
   "source": [
    "### 3.10\n",
    "사용자로부터 2개의 정수를 a, b를 입력으로 받은 다음 a가 b의 배수인지 아닌지를 판단하여 출력하는<br>\n",
    "다음과 같은 프로그램을 작성하시오."
   ]
  },
  {
   "cell_type": "code",
   "execution_count": 25,
   "metadata": {},
   "outputs": [
    {
     "name": "stdout",
     "output_type": "stream",
     "text": [
      "125는(은) 52의 배수가 아닙니다.\n"
     ]
    }
   ],
   "source": [
    "a,b = map(int, input('두 정수를 입력하시오 : ').split())\n",
    "if a%b == 0:\n",
    "    print(f'{a}는(은) {b}의 배수입니다.')\n",
    "else:\n",
    "    print(f'{a}는(은) {b}의 배수가 아닙니다.')"
   ]
  },
  {
   "cell_type": "markdown",
   "metadata": {},
   "source": [
    "### 3.11\n",
    "1에서 10 사이의 복권번호 중에서 3개의 숫자를 모두 맞히면 '1억 원', 2개를 맞히면 '1천만 원',<br>\n",
    "1개를 맞히면 '1만 원', 모두 틀리면 '다음 기회에...'을 출력하는 복권 시스템이 있다고 가정하자.<br>\n",
    "사용자로부터 3개의 정수를 받은 다음 상금을 알려주는 프로그램을 다음과 같이 작성하시오.<br>\n",
    "(단, 이번 회차 복권 당첨 번호가 2, 3, 9라고 가정하자)."
   ]
  },
  {
   "cell_type": "code",
   "execution_count": 30,
   "metadata": {},
   "outputs": [
    {
     "name": "stdout",
     "output_type": "stream",
     "text": [
      "상금 1천만 원\n"
     ]
    }
   ],
   "source": [
    "number = [2,3,9]    # 복권 당첨 번호\n",
    "count = 0           # 맞춘 횟수 카운트\n",
    "a,b,c = map(int, input('세 복권번호를 입력하시오 : ').split())\n",
    "\n",
    "# 바로 비교하면 순서가 다르면 체크하기 복잡함\n",
    "if a in number:     # a가 list number에 있다면 True\n",
    "    count += 1\n",
    "if b in number:\n",
    "    count += 1\n",
    "if c in number:\n",
    "    count += 1\n",
    "\n",
    "# 높은 순부터\n",
    "if count == 3:      # 모두 맞춘 경우\n",
    "    print('상금 1억 원')\n",
    "elif count == 2:    # 두 개를 맞춘 경우\n",
    "    print('상금 1천만 원')\n",
    "elif count == 1:\n",
    "    print('상금 1만 원')\n",
    "else:\n",
    "    print('다음 기회에...')"
   ]
  },
  {
   "cell_type": "markdown",
   "metadata": {},
   "source": [
    "### 3.12\n",
    "중심이 원점 (0,0)에 있고 반지름이 5인 원이 있다고 가정하자. 사용자로부터 x와 y좌표를 입력받은 후,<br>\n",
    "입력받은 점의 좌표 (x,y)가 원의 내부에 있으면 '원의 내부에 있음', 원의 외부에 있으면 '원의 외부에 있음'<br>\n",
    "을 출력하는 다음과 같은 프로그램을 작성하시오."
   ]
  },
  {
   "cell_type": "code",
   "execution_count": 32,
   "metadata": {},
   "outputs": [
    {
     "name": "stdout",
     "output_type": "stream",
     "text": [
      "원의 외부에 있음\n"
     ]
    }
   ],
   "source": [
    "x, y = map(int, input('점의 좌표 x, y를 입력하시오 : ').split())\n",
    "\n",
    "if (x*x + y*y)**(1/2) > 5:  # 원점과의 거리 계산식, 루트 a : a ** (1/2)\n",
    "    print('원의 외부에 있음')\n",
    "else:\n",
    "    print('원의 내부에 있음')"
   ]
  },
  {
   "cell_type": "markdown",
   "metadata": {},
   "source": [
    "### 3.13\n",
    "이제 원의 중심이 (3,4)이고 원의 반지름이 10인 경우에 대하여 고려해보자."
   ]
  },
  {
   "cell_type": "code",
   "execution_count": 34,
   "metadata": {},
   "outputs": [
    {
     "name": "stdout",
     "output_type": "stream",
     "text": [
      "원의 내부에 있음\n"
     ]
    }
   ],
   "source": [
    "x, y = map(int, input('점의 좌표 x, y를 입력하시오 : ').split())\n",
    "\n",
    "if ((x-3)**2 + (y-4)**2)**(1/2) > 10:  # 한 점과 한 원의 중심과의 거리 계산식\n",
    "    print('원의 외부에 있음')\n",
    "else:\n",
    "    print('원의 내부에 있음')"
   ]
  },
  {
   "cell_type": "markdown",
   "metadata": {},
   "source": [
    "### 3.14\n",
    "사용자로부터 알파벳 문자 하나를 입력 받아서 a, e, i , o ,u일 경우 '모음입니다.'를<br>\n",
    "이외의 문자일 경우 '자음입니다.'를 출력하시오."
   ]
  },
  {
   "cell_type": "code",
   "execution_count": 36,
   "metadata": {},
   "outputs": [
    {
     "name": "stdout",
     "output_type": "stream",
     "text": [
      "t (은)는 자음입니다.\n"
     ]
    }
   ],
   "source": [
    "alp = ['a', 'e', 'i', 'o', 'u']\n",
    "n = input('알파벳을 입력하시오 : ')\n",
    "\n",
    "if n in alp:\n",
    "    print(n, '(은)는 모음입니다.')\n",
    "else:\n",
    "    print(n, '(은)는 자음입니다.')"
   ]
  },
  {
   "cell_type": "markdown",
   "metadata": {},
   "source": [
    "### 3.15\n",
    "다음과 같이 구구단의 2절을 출력하는 프로그램을 for 문과 while 문을 사용하여 각각 작성하여라."
   ]
  },
  {
   "cell_type": "code",
   "execution_count": null,
   "metadata": {},
   "outputs": [],
   "source": [
    "# for문을 이용한 문제풀이\n",
    "for i in range(1,10):\n",
    "    print('2 *', i, '=', 2*i)"
   ]
  },
  {
   "cell_type": "code",
   "execution_count": null,
   "metadata": {},
   "outputs": [],
   "source": [
    "# while문을 이용한 문제풀이\n",
    "i = 1\n",
    "while(i<10):\n",
    "    print('2 *', i, '=', 2*i)\n",
    "    i+=1"
   ]
  },
  {
   "cell_type": "markdown",
   "metadata": {},
   "source": [
    "### 3.16\n",
    "다음과 같이 사용자로부터 1에서 9사이의 숫자를 입력받아 입력받은 숫자의 절에 해당하는 구구단을 출력하는<br>\n",
    "프로그램을 for문과 while문을 사용하여 각각 작성하여라.<br>\n",
    "만일 1에서 9 이외의 숫자가 입력되면 '1에서 9까지의 수를 다시 입력하세요:'라는 안내문을 출력하여라."
   ]
  },
  {
   "cell_type": "code",
   "execution_count": 39,
   "metadata": {},
   "outputs": [
    {
     "name": "stdout",
     "output_type": "stream",
     "text": [
      "2 * 1 = 2\n",
      "2 * 2 = 4\n",
      "2 * 3 = 6\n",
      "2 * 4 = 8\n",
      "2 * 5 = 10\n",
      "2 * 6 = 12\n",
      "2 * 7 = 14\n",
      "2 * 8 = 16\n",
      "2 * 9 = 18\n"
     ]
    }
   ],
   "source": [
    "# for문을 이용한 문제 풀이\n",
    "n = int(input('1에서 9까지의 수를 입력하세요: '))\n",
    "\n",
    "# 1에서 9사이의 숫자를 입력받기 위한 for문 무한루프\n",
    "loopList = [1]\n",
    "for x in loopList:\n",
    "    loopList.append(1)\n",
    "    if n < 1 or n > 9:\n",
    "        n = int(input('1에서 9까지의 수를 다시 입력하세요: '))\n",
    "    else:\n",
    "        break   # 유효숫자가 들어오면 무한루프를 벗어난다\n",
    "\n",
    "# 구구단 출력\n",
    "for i in range(1,10):\n",
    "    print(n,'*', i, '=', n*i)\n"
   ]
  },
  {
   "cell_type": "code",
   "execution_count": 40,
   "metadata": {},
   "outputs": [
    {
     "name": "stdout",
     "output_type": "stream",
     "text": [
      "3 * 1 = 3\n",
      "3 * 2 = 6\n",
      "3 * 3 = 9\n",
      "3 * 4 = 12\n",
      "3 * 5 = 15\n",
      "3 * 6 = 18\n",
      "3 * 7 = 21\n",
      "3 * 8 = 24\n",
      "3 * 9 = 27\n"
     ]
    }
   ],
   "source": [
    "# while문을 이용한 문제 풀이\n",
    "n = int(input('1에서 9까지의 수를 입력하세요: '))\n",
    "\n",
    "# 1에서 9사이의 숫자를 입력받기 위한 while문 무한루프\n",
    "while(True):\n",
    "    if n < 1 or n > 9:\n",
    "        n = int(input('1에서 9까지의 수를 다시 입력하세요: '))\n",
    "    else:\n",
    "        break   # 유효숫자가 들어오면 무한루프를 벗어난다\n",
    "\n",
    "# 구구단 출력\n",
    "i = 1\n",
    "while(i<10):\n",
    "    print(n,'*', i, '=', n*i)\n",
    "    i+=1"
   ]
  },
  {
   "cell_type": "markdown",
   "metadata": {},
   "source": [
    "### 3.17\n",
    "다음의 프로그램은 어떤 결과 값을 출력하는가? 출력결과를 미리 예측한 후 타이핑하여 그 결과가 맞는지 확인해 보도록 하자."
   ]
  },
  {
   "cell_type": "code",
   "execution_count": null,
   "metadata": {},
   "outputs": [],
   "source": [
    "# 1) 전체가 3번 출력\n",
    "for i in range(3):\n",
    "    print('Python ')\n",
    "    print('is ')\n",
    "    print('FUN! ')"
   ]
  },
  {
   "cell_type": "code",
   "execution_count": null,
   "metadata": {},
   "outputs": [],
   "source": [
    "# 2) 나머지 3번 FUN!만 한번 출력\n",
    "for i in range(3):\n",
    "    print('Python ')\n",
    "    print('is ')\n",
    "print('FUN! ')"
   ]
  },
  {
   "cell_type": "code",
   "execution_count": null,
   "metadata": {},
   "outputs": [],
   "source": [
    "# 3) Python만 3번 출력\n",
    "for i in range(3):\n",
    "    print('Python ')\n",
    "print('is ')\n",
    "print('FUN! ')"
   ]
  },
  {
   "cell_type": "markdown",
   "metadata": {},
   "source": [
    "### 3.18\n",
    "\n",
    "맛나 식당의 메뉴 주문 프로그램을 개발하고자 한다. 이를 위해 사용자에게 다음과 같은 메뉴를 보여주고<br> 이중에서 히나를 선택하도록 하자. 이때 메뉴에 없는 번호가 입력되면 ‘메뉴를 다시 입력하세요:  ’가<br> 출력되도록 한 후 다시 입력을 받도록 하자."
   ]
  },
  {
   "cell_type": "code",
   "execution_count": 49,
   "metadata": {},
   "outputs": [
    {
     "name": "stdout",
     "output_type": "stream",
     "text": [
      "맛나 식당에 오신 것을 환영합니다. 메뉴는 다음과 같습니다.\n",
      "1) 햄버거\n",
      "2) 치킨\n",
      "3) 피자\n",
      "치킨을 선택하였습니다.\n"
     ]
    }
   ],
   "source": [
    "# 여러 줄의 문자열을 저장하기 위해 \"\"\" \"\"\" 를 사용\n",
    "menu = \"\"\"맛나 식당에 오신 것을 환영합니다. 메뉴는 다음과 같습니다.\n",
    "1) 햄버거\n",
    "2) 치킨\n",
    "3) 피자\"\"\"\n",
    "print(menu)\n",
    "\n",
    "n = int(input('1에서 3까지의 메뉴를 선택하세요 : '))\n",
    "while n < 1 or n > 3:\n",
    "    n = int(input('메뉴를 다시 입력하세요 : '))\n",
    "\n",
    "if n == 1:\n",
    "    print('햄버거를 선택하였습니다.')\n",
    "elif n == 2:\n",
    "    print('치킨을 선택하였습니다.')\n",
    "else:\n",
    "    print('피자를 선택하였습니다.')"
   ]
  },
  {
   "cell_type": "markdown",
   "metadata": {},
   "source": [
    "### 3.19\n",
    "맛나 식당의 메뉴 주문 프로그램을 개발하고자 한다. 이를 위해 사용자에게 다음과 같은 메뉴를 보여주고<br> 이중에서 메뉴에 대응되는 하나의 알파벳을 선택하도록 하자. 이때 메뉴에 없는 알파벳이 입력되면 ‘메뉴를 다시<br> 입력하세요:  ’가 출력되도록 한 후 다시 입력을 받도록 하자."
   ]
  },
  {
   "cell_type": "code",
   "execution_count": 50,
   "metadata": {},
   "outputs": [
    {
     "name": "stdout",
     "output_type": "stream",
     "text": [
      "맛나 식당에 오신 것을 환영합니다. 메뉴는 다음과 같습니다.\n",
      "- 햄버거(입력 b)\n",
      "- 치킨(입력 c)\n",
      "- 피자(입력 p)\n",
      "치킨을 선택하였습니다.\n"
     ]
    }
   ],
   "source": [
    "menu = \"\"\"맛나 식당에 오신 것을 환영합니다. 메뉴는 다음과 같습니다.\n",
    "- 햄버거(입력 b)\n",
    "- 치킨(입력 c)\n",
    "- 피자(입력 p)\"\"\"\n",
    "print(menu)\n",
    "choice = ['b','c','p']\n",
    "n = input('메뉴를 선택하세요(알파벳 b, c, p 입력) : ')\n",
    "while n not in choice:\n",
    "    n = input('메뉴를 다시 입력하세요 : ')\n",
    "\n",
    "if n == 'b':\n",
    "    print('햄버거를 선택하였습니다.')\n",
    "elif n == 'c':\n",
    "    print('치킨을 선택하였습니다.')\n",
    "else:\n",
    "    print('피자를 선택하였습니다.')"
   ]
  },
  {
   "cell_type": "markdown",
   "metadata": {},
   "source": [
    "### 3.20\n",
    "이중 for 문을 사용하여 숫자를 입력 받아 다음과 같은 삼각형을 출력하는 프로그램을 작성하시오.<br>\n",
    "이때 아래 결과와 같이 숫자 5가 입력되면 높이가 5이고 제일 마지막 줄의 별이 5개가 삼각형 형태로<br> 나타나도록 하시오."
   ]
  },
  {
   "cell_type": "code",
   "execution_count": 2,
   "metadata": {},
   "outputs": [
    {
     "name": "stdout",
     "output_type": "stream",
     "text": [
      "     *\n",
      "    **\n",
      "   ***\n",
      "  ****\n",
      " *****\n",
      "******\n"
     ]
    }
   ],
   "source": [
    "n = int(input('숫자를 입력하세요 : '))\n",
    "for i in range(n):\n",
    "    for j in range(n-1-i):\n",
    "        print(' ', end='')\n",
    "    for j in range(i+1):\n",
    "        print('*', end='')\n",
    "    print()"
   ]
  },
  {
   "cell_type": "markdown",
   "metadata": {},
   "source": [
    "### 3.21\n",
    " 소수란 양의 자연수 중에서 1과 자기 자신이외의 약수를 가지지 않는 수를 말한다. 사용자로부터 양의 정수 n을 입력받은 후 이 숫자가 소수인지 아닌지를 판별하는 프로그램을 작성하시오. 이때 수행 속도를 개선하기 위하여 2로 나누어 본 후 나누어지지 않을 경우 3, 5, 7, … 과 같은 홀수로 나눗셈을 시도하도록 코딩하여라.\n",
    "-\t힌트: n을 2부터 n-1까지의 정수로 모두 나누어 본다. 이 때 나누어 떨어지는 원소가 하나라도 있으면 소수가 아니다.\n"
   ]
  },
  {
   "cell_type": "code",
   "execution_count": 10,
   "metadata": {},
   "outputs": [
    {
     "name": "stdout",
     "output_type": "stream",
     "text": [
      "9는 소수가 아닙니다\n"
     ]
    }
   ],
   "source": [
    "# 특정 자연수 x가 소수인지 확인하기 위해 바로 가운데 약수까지만 '나누어 떨어지는지' 확인\n",
    "# 가운데 약수 = x의 제곱근\n",
    "# 16의 경우\n",
    "# 1 x 16\n",
    "# 2 x 8\n",
    "# 4 x 4\n",
    "# 8 x 2\n",
    "# 16 x 1\n",
    "\n",
    "n = int(input('숫자를 입력하세요 : '))\n",
    "\n",
    "# case 1) 2로 나누어 떨어지는 경우 소수가 아님\n",
    "if n%2 == 0 and n!=2:   # 2의 경우 소수이지만, 2로 나누어 떨어지기에 조건 추가\n",
    "    print(f'{n}는 소수가 아닙니다')\n",
    "# 2로 나누어 떨어지지 않는 경우\n",
    "else:\n",
    "    # 3부터 n의 제곱근까지 홀수만 검사 -> 짝수는 모두 2로 나눠지기 때문\n",
    "    for i in range(3,int(n**(1/2))+1, 2):   \n",
    "        # case 2) 홀수로 나눠지면 소수가 아님\n",
    "        if n%i==0:\n",
    "            print(f'{n}는 소수가 아닙니다')\n",
    "            break  # 더 이상 반복할 필요가 없어 종료\n",
    "    # case 3) 2 또는 홀수로 나눠지지 않는 경우 소수이다\n",
    "    else:\n",
    "        print(f'{n}는 소수입니다')    "
   ]
  },
  {
   "cell_type": "markdown",
   "metadata": {},
   "source": [
    "### 3.22\n",
    "1이 아닌 양의 자연수 중에서 소수가 아닌 수를 합성수라고 한다. 이전 문제에서 사용한 소수를 판별하는 알고리즘을<br>사용하여 2에서 12까지의 수 중에서 다음과 같이 소수와 합성수를 출력하여라."
   ]
  },
  {
   "cell_type": "code",
   "execution_count": 2,
   "metadata": {},
   "outputs": [
    {
     "name": "stdout",
     "output_type": "stream",
     "text": [
      "  2 : 소수\n",
      "  3 : 소수\n",
      "  4 : 합성수\n",
      "  5 : 소수\n",
      "  6 : 합성수\n",
      "  7 : 소수\n",
      "  8 : 합성수\n",
      "  9 : 합성수\n",
      " 10 : 합성수\n",
      " 11 : 소수\n",
      " 12 : 합성수\n"
     ]
    }
   ],
   "source": [
    "# 문자열 포맷 : print(\"%s %d %s \" %(1번째, 2번째, 3번째))\n",
    "for n in range(2,13):   # 2~12까지 계산\n",
    "    if n%2 == 0 and n!=2:\n",
    "        print('%3d : 합성수' %n)\n",
    "    else:\n",
    "        for i in range(3,int(n**(1/2))+1, 2):   \n",
    "            if n%i==0:\n",
    "                print('%3d : 합성수' %n)\n",
    "                break\n",
    "        else:\n",
    "            print('%3d : 소수' %n)"
   ]
  },
  {
   "cell_type": "markdown",
   "metadata": {},
   "source": [
    "### 3.23\n",
    "사용자로부터 양의 정수 n을 입력받은 후 1^2 + 2^2 + 3^2 + ... + n^2을 구하는 프로그램을 작성하시오"
   ]
  },
  {
   "cell_type": "code",
   "execution_count": 3,
   "metadata": {},
   "outputs": [
    {
     "name": "stdout",
     "output_type": "stream",
     "text": [
      "55\n"
     ]
    }
   ],
   "source": [
    "n = int(input('숫자를 입력하세요 : '))\n",
    "\n",
    "result = 0 # 결과 저장용 변수\n",
    "for i in range(1,n+1):\n",
    "    result += i**2\n",
    "\n",
    "print(result)"
   ]
  },
  {
   "cell_type": "markdown",
   "metadata": {},
   "source": [
    "### 3.24\n",
    "바젤 문제는 스위스 바젤시의 바젤 대학에서 재직하던 야코프 베르누이와 요한 베르누이에 의해<br>\n",
    "제기된 것으로 다음의 급수를 닫힌 형식으로 나타내라는 것이었다.<br>\n",
    "이 문제는 레온하르트 오일러에 의해 π^2/6으로 수렴한다는 것이 증명되었다.<br>\n",
    "사용자로부터 정수 n을 입력 받아서 (1/1)^2 + (1/2)^2 + (1/3)^2 + ... + (1/n)^2을 구하는 프로그램을 작성하시오.\n",
    "\n"
   ]
  },
  {
   "cell_type": "code",
   "execution_count": 5,
   "metadata": {},
   "outputs": [
    {
     "name": "stdout",
     "output_type": "stream",
     "text": [
      "1.6349839001848923\n"
     ]
    }
   ],
   "source": [
    "n = int(input('숫자를 입력하세요 : '))\n",
    "\n",
    "result = 0 # 결과 저장용 변수\n",
    "for i in range(1,n+1):\n",
    "    result += (1/i)**2\n",
    "\n",
    "print(result)"
   ]
  },
  {
   "cell_type": "markdown",
   "metadata": {},
   "source": [
    "### 3.25\n",
    "깊이가 30 미터인 우물이 있다. 이 우물에 사는 달팽이는 하루 종일 기어서 올라가면 7 미터를 올라갈 수 있다. <br>\n",
    "그러나 밤이 되어 휴식을 취하는 동안 5 미터를 미끄러져 내려간다. 이 우물을 벗어나는데 며칠의 시간이 걸릴까?<br>\n",
    "while 문을 이용하여 매일 저녁 달팽이의 위치를 다음과 같이 구하시오<br><br>\n",
    "(주의 : 하루에 7 -5 = 2 미터를 올라갈 것이라고 단순 계산하면 안된다. 이 경우 15일 되는 날 탈출하는 것으로<br>\n",
    "계산 되지만 실제로는 13일이면 된다.)"
   ]
  },
  {
   "cell_type": "code",
   "execution_count": 7,
   "metadata": {},
   "outputs": [
    {
     "name": "stdout",
     "output_type": "stream",
     "text": [
      "day : 1 달팽이의 위치 : 7 미터\n",
      "day : 2 달팽이의 위치 : 9 미터\n",
      "day : 3 달팽이의 위치 : 11 미터\n",
      "day : 4 달팽이의 위치 : 13 미터\n",
      "day : 5 달팽이의 위치 : 15 미터\n",
      "day : 6 달팽이의 위치 : 17 미터\n",
      "day : 7 달팽이의 위치 : 19 미터\n",
      "day : 8 달팽이의 위치 : 21 미터\n",
      "day : 9 달팽이의 위치 : 23 미터\n",
      "day : 10 달팽이의 위치 : 25 미터\n",
      "day : 11 달팽이의 위치 : 27 미터\n",
      "day : 12 달팽이의 위치 : 29 미터\n",
      "day : 13 달팽이의 위치 : 31 미터\n",
      "\n",
      "우물을 탈출하는 데 걸린 날은 13일 입니다.\n"
     ]
    }
   ],
   "source": [
    "snail = 0   # 달팽이의 시작 위치\n",
    "day = 0     # 시작 날\n",
    "while(snail < 30):\n",
    "    day += 1    # 날짜 증가\n",
    "    snail += 7  # 7미터 올라감\n",
    "    print('day :', day, '달팽이의 위치 :', snail, '미터')\n",
    "    if snail > 30:\n",
    "        break\n",
    "    snail -= 5  # 자는 동안 5 미터 미끄러짐\n",
    "\n",
    "print(f'\\n우물을 탈출하는 데 걸린 날은 {day}일 입니다.')"
   ]
  },
  {
   "cell_type": "markdown",
   "metadata": {},
   "source": [
    "### 3.26\n",
    "뱀 행렬 문제 : 사용자로부터 숫자 1보다 크고 10보다 작은 값 n을 입력으로 받아서 다음과 같이 뱀의 몸통처럼<br>\n",
    "증가하는 이차원 배열을 출력하여라<br><br>\n",
    "\n",
    "마치 이 배열은 뱀의 몸통처럼 'ㄹ'과 같은 패턴을 그리며 수가 1씩 증가하는 형태의 배열이다)"
   ]
  },
  {
   "cell_type": "code",
   "execution_count": 2,
   "metadata": {},
   "outputs": [
    {
     "name": "stdout",
     "output_type": "stream",
     "text": [
      "  1  2  3  4  5  6  7  8  9\n",
      " 18 17 16 15 14 13 12 11 10\n",
      " 19 20 21 22 23 24 25 26 27\n",
      " 36 35 34 33 32 31 30 29 28\n",
      " 37 38 39 40 41 42 43 44 45\n",
      " 54 53 52 51 50 49 48 47 46\n",
      " 55 56 57 58 59 60 61 62 63\n",
      " 72 71 70 69 68 67 66 65 64\n",
      " 73 74 75 76 77 78 79 80 81\n"
     ]
    }
   ],
   "source": [
    "n = int(input('n을 입력하시오 : '))\n",
    "\n",
    "# 2에서 9사이의 숫자를 입력받기 위한 while문 무한루프\n",
    "while(True):\n",
    "    if n < 2 or n > 9:\n",
    "        n = int(input('2에서 9까지의 수를 다시 입력하세요: '))\n",
    "    else:\n",
    "        break   # 유효숫자가 들어오면 무한루프를 벗어난다while(True)\n",
    "\n",
    "for i in range(n):      # 줄의 수\n",
    "    if i%2==0:          # 홀수 열은 순차적으로\n",
    "        for j in range(1,n+1):\n",
    "            print('%3d' %(n*i+j), end='')\n",
    "    else:               # 짝수 열은 역순으로\n",
    "        for j in range(n,0,-1):\n",
    "            print('%3d' %(n*i+j), end='')\n",
    "    print()\n",
    "        \n"
   ]
  },
  {
   "cell_type": "markdown",
   "metadata": {},
   "source": [
    "### 3.27\n",
    "암스트롱 수란 세 자리의 정수 중에서 각 자리의 수를 세제곱한 수의 합과 자신이 같은 수를 말한다.<br> 구체적인 예를 들면 153은 1 + 125 + 27 의 합으로 구성될 수 있는데 이러한 수가 암스트롱 수이다.<br> 세 자리 정수들 중에서 모든 암스트롱 수를 구하여 다음과 같이 출력하여라."
   ]
  },
  {
   "cell_type": "code",
   "execution_count": 24,
   "metadata": {},
   "outputs": [
    {
     "name": "stdout",
     "output_type": "stream",
     "text": [
      "세 자리의 암스트롱 수 : 153 370 371 407 "
     ]
    }
   ],
   "source": [
    "# 계산시간 단축을 위한 Dynamic Programming\n",
    "# - 중복된 연산을 줄임\n",
    "# Memoization을 위한 리스트 초기화\n",
    "d = [i**3 for i in range(10)]   # list comprehension\n",
    "Armst_num = []\n",
    "for i in range(100, 1000):\n",
    "    s = str(i)                  # string indexing을 위한 변환 int -> str\n",
    "    temp = 0                    # 중간 계산값 저장, 반복할 때마다 0으로 초기화\n",
    "    for j in range(3):\n",
    "        temp += d[int(s[j])]    # 각 자리수에 해당하는 세제곱 값을 가져온다\n",
    "        if temp >= 1000:        # 1000보다 크다면 조건에 맞지 않기에 반복을 벗어난다\n",
    "            break\n",
    "    if i == temp:\n",
    "        Armst_num.append(i)\n",
    "\n",
    "print('세 자리의 암스트롱 수 : ', end ='')\n",
    "for num in Armst_num:\n",
    "    print(num, end=' ')\n",
    "    \n"
   ]
  }
 ],
 "metadata": {
  "kernelspec": {
   "display_name": "Python 3.10.6 64-bit",
   "language": "python",
   "name": "python3"
  },
  "language_info": {
   "codemirror_mode": {
    "name": "ipython",
    "version": 3
   },
   "file_extension": ".py",
   "mimetype": "text/x-python",
   "name": "python",
   "nbconvert_exporter": "python",
   "pygments_lexer": "ipython3",
   "version": "3.10.6"
  },
  "orig_nbformat": 4,
  "vscode": {
   "interpreter": {
    "hash": "20c9d94bea3bcd43e69d1e5f02ce962985699c48de0c68502218d203d4c4e41a"
   }
  }
 },
 "nbformat": 4,
 "nbformat_minor": 2
}
