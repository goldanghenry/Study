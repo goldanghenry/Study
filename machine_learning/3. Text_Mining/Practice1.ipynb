{
 "cells": [
  {
   "cell_type": "markdown",
   "metadata": {},
   "source": [
    "## En Text Mining"
   ]
  },
  {
   "cell_type": "code",
   "execution_count": 2,
   "metadata": {},
   "outputs": [
    {
     "name": "stdout",
     "output_type": "stream",
     "text": [
      "['when', 'i', 'find', 'myself', 'in', 'times', 'of', 'trouble', 'mother', 'mary', 'comes', 'to', 'me', 'speaking', 'words', 'of', 'wisdom', 'let', 'it', 'be', 'and', 'in', 'my', 'hour', 'of', 'darkness', 'she', 'is', 'standing', 'right', 'in', 'front', 'of', 'me', 'speaking', 'words', 'of', 'wisdom', 'let', 'it', 'be', 'let', 'it', 'be', 'let', 'it', 'be', 'whisper', 'words', 'of', 'wisdom', 'let', 'it', 'be', 'and', 'when', 'the', 'broken', 'hearted', 'people', 'living', 'in', 'the', 'world', 'agree', 'there', 'will', 'be', 'an', 'answer', 'let', 'it', 'be', 'for', 'though', 'they', 'may', 'be', 'parted', 'there', 'is', 'still', 'a', 'chance', 'that', 'they', 'will', 'see', 'there', 'will', 'be', 'an', 'answer', 'let', 'it', 'be', 'let', 'it', 'be', 'let', 'it', 'be', 'yeah', 'there', 'will', 'be', 'an', 'answer', 'let', 'it', 'be', 'and', 'when', 'the', 'night', 'is', 'cloudy', 'there', 'is', 'still', 'a', 'light', 'that']\n"
     ]
    }
   ],
   "source": [
    "import re\n",
    "\n",
    "lyrics = \"\"\"\n",
    "When I find myself in times of trouble\n",
    "Mother Mary comes to me\n",
    "Speaking words of wisdom, let it be.\n",
    "And in my hour of darkness\n",
    "She is standing right in front of me\n",
    "Speaking words of wisdom, let it be.\n",
    "Let it be, let it be.\n",
    "Whisper words of wisdom, let it be.\n",
    "And when the broken hearted people\n",
    "Living in the world agree,\n",
    "There will be an answer, let it be.\n",
    "For though they may be parted there is\n",
    "Still a chance that they will see\n",
    "There will be an answer, let it be\n",
    "Let it be, let it be. Yeah\n",
    "There will be an answer, let it be.\n",
    "And when the night is cloudy,\n",
    "There is still a light that…\n",
    "\"\"\"\n",
    "\n",
    "# 소문자로 바꾸기\n",
    "lyrics = lyrics.lower()\n",
    "# 특수 기호 없애기\n",
    "# sub = replace, [^\\w] 공백이나 알파벳이 아닌(^) 것\n",
    "lyrics = re.sub('[^\\w \\n]', '', lyrics)\n",
    "# 단어로 분리\n",
    "words = lyrics.split()\n",
    "print(words)"
   ]
  },
  {
   "cell_type": "code",
   "execution_count": 3,
   "metadata": {},
   "outputs": [
    {
     "name": "stdout",
     "output_type": "stream",
     "text": [
      "[('be', 14), ('it', 10), ('let', 10), ('of', 6), ('there', 5), ('will', 4), ('is', 4), ('in', 4), ('an', 3), ('wisdom', 3), ('and', 3), ('answer', 3), ('the', 3), ('when', 3), ('words', 3), ('that', 2), ('a', 2), ('they', 2), ('me', 2), ('still', 2), ('speaking', 2), ('see', 1), ('world', 1), ('living', 1), ('darkness', 1), ('whisper', 1), ('times', 1), ('cloudy', 1), ('find', 1), ('hearted', 1), ('comes', 1), ('she', 1), ('mary', 1), ('trouble', 1), ('chance', 1), ('parted', 1), ('myself', 1), ('may', 1), ('broken', 1), ('standing', 1), ('for', 1), ('though', 1), ('to', 1), ('yeah', 1), ('my', 1), ('night', 1), ('right', 1), ('front', 1), ('hour', 1), ('i', 1), ('mother', 1), ('people', 1), ('agree', 1), ('light', 1)]\n"
     ]
    }
   ],
   "source": [
    "# 단어 세기\n",
    "# set을 하면 단어당 한번씩만 호출\n",
    "word_count = [ (w,words.count(w)) for w in set(words) ]\n",
    "# 단어 정렬\n",
    "word_sort = sorted(word_count, key = lambda w: w[1], reverse=True)\n",
    "print(word_sort)"
   ]
  },
  {
   "cell_type": "markdown",
   "metadata": {},
   "source": [
    "## Ko Text Mining"
   ]
  },
  {
   "cell_type": "code",
   "execution_count": 4,
   "metadata": {},
   "outputs": [
    {
     "name": "stdout",
     "output_type": "stream",
     "text": [
      "Collecting konlpy\n",
      "  Downloading konlpy-0.6.0-py2.py3-none-any.whl (19.4 MB)\n",
      "     --------------------------------------- 19.4/19.4 MB 31.2 MB/s eta 0:00:00\n",
      "Requirement already satisfied: numpy>=1.6 in c:\\users\\wshkk\\appdata\\local\\packages\\pythonsoftwarefoundation.python.3.9_qbz5n2kfra8p0\\localcache\\local-packages\\python39\\site-packages (from konlpy) (1.23.0)\n",
      "Collecting lxml>=4.1.0\n",
      "  Downloading lxml-4.9.1-cp39-cp39-win_amd64.whl (3.6 MB)\n",
      "     ---------------------------------------- 3.6/3.6 MB 33.1 MB/s eta 0:00:00\n",
      "Collecting JPype1>=0.7.0\n",
      "  Downloading JPype1-1.4.0-cp39-cp39-win_amd64.whl (344 kB)\n",
      "     ---------------------------------------- 344.7/344.7 kB ? eta 0:00:00\n",
      "Installing collected packages: lxml, JPype1, konlpy\n",
      "Successfully installed JPype1-1.4.0 konlpy-0.6.0 lxml-4.9.1\n"
     ]
    }
   ],
   "source": [
    "# 한글 라이브러리 설치 https://konlpy.org/en/latest/\n",
    "# 5개 연구소에서 개발된 한국어 형태소 분석기를 모두 사용할 수 있다.\n",
    "# 결과를 보고 마음에 드는 모델로 사용\n",
    "!pip install konlpy"
   ]
  },
  {
   "cell_type": "code",
   "execution_count": 6,
   "metadata": {},
   "outputs": [],
   "source": [
    "text = \"\"\"\n",
    "동해물과 백두산이 마르고 닳도록\n",
    "하느님이 보우하사 우리나라만세\n",
    "무궁화 삼천리 화려강산 대한사람 대한으로 길이 보전하세\n",
    "남산위에 저 소나무 철갑을 두른듯\n",
    "바람서리 불변함은 우리기상 일세\n",
    "무궁화 삼천리 화려강산 대한사람 대한으로 길이보전하세\n",
    "가을하늘 공활한데 높고 구름없이 \n",
    "밝은달은 우리가슴 일편단심일세\n",
    "무궁화 삼천리 화려강산 대한사람 대한으로 길이보전하세\n",
    "이 기상과 이 맘으로 충성을 다하여\n",
    "괴로우나 즐거우나 나라사랑하세\n",
    "무궁화 삼천리 화려강산 대한사람 대한으로 길이보전하세\n",
    "\"\"\""
   ]
  },
  {
   "cell_type": "code",
   "execution_count": 7,
   "metadata": {},
   "outputs": [
    {
     "name": "stdout",
     "output_type": "stream",
     "text": [
      "[('동하', 'VV'), ('어', 'ECS'), ('물', 'NNG'), ('과', 'JC'), ('백두산', 'NNP'), ('이', 'JKS'), ('마르', 'VV'), ('고', 'ECE'), ('닳', 'VV'), ('도록', 'ECD'), ('하느님', 'NNG'), ('이', 'JKS'), ('보우', 'NNG'), ('하사', 'NNG'), ('우리나라', 'NNG'), ('만세', 'NNG'), ('무궁화', 'NNG'), ('삼천리', 'NNG'), ('화려', 'NNG'), ('강산', 'NNG'), ('대', 'NNG'), ('하', 'XSV'), ('ㄴ', 'ETD'), ('사람', 'NNG'), ('대한', 'NNG'), ('으로', 'JKM'), ('길이', 'NNG'), ('보전', 'NNG'), ('하세', 'NNG'), ('남산', 'NNP'), ('위', 'NNG'), ('에', 'JKM'), ('저', 'VV'), ('어', 'ECS'), ('소나무', 'NNG'), ('철갑', 'NNG'), ('을', 'JKO'), ('두르', 'VV'), ('ㄴ', 'ETD'), ('듯', 'NNB'), ('바람', 'NNG'), ('서리', 'NNG'), ('불변', 'NNG'), ('하', 'XSV'), ('ㅁ', 'ETN'), ('은', 'JX'), ('우리기', 'NNG'), ('상', 'XSN'), ('일세', 'NNG'), ('무궁화', 'NNG'), ('삼천리', 'NNG'), ('화려', 'NNG'), ('강산', 'NNG'), ('대', 'NNG'), ('하', 'XSV'), ('ㄴ', 'ETD'), ('사람', 'NNG'), ('대한', 'NNG'), ('으로', 'JKM'), ('길이', 'NNG'), ('보전', 'NNG'), ('하세', 'NNG'), ('가을', 'NNG'), ('하늘', 'NNG'), ('공', 'NNG'), ('활', 'NNG'), ('하', 'XSV'), ('ㄴ', 'ETD'), ('데', 'NNB'), ('높', 'VA'), ('고', 'ECE'), ('구름', 'NNG'), ('없이', 'MAG'), ('밝', 'VA'), ('은', 'ETD'), ('달', 'NNG'), ('은', 'JX'), ('우리', 'NP'), ('가슴', 'NNG'), ('일편단심', 'NNG'), ('이', 'VCP'), ('ㄹ세', 'EFN'), ('무', 'NNG'), ('궁', 'NNG'), ('화', 'XSN'), ('삼천리', 'NNG'), ('화려', 'NNG'), ('강산', 'NNG'), ('대', 'NNG'), ('하', 'XSV'), ('ㄴ', 'ETD'), ('사람', 'NNG'), ('대한', 'NNG'), ('으로', 'JKM'), ('길이', 'NNG'), ('보전', 'NNG'), ('하세', 'NNG'), ('이', 'NNG'), ('기상', 'NNG'), ('과', 'JKM'), ('이', 'MDT'), ('맘', 'NNG'), ('으로', 'JKM'), ('충성', 'NNG'), ('을', 'JKO'), ('다하', 'VV'), ('여', 'ECS'), ('괴롭', 'VA'), ('나', 'ECE'), ('즐겁', 'VA'), ('나', 'ECE'), ('나라', 'NNG'), ('사랑', 'NNG'), ('하세', 'NNG'), ('무궁화', 'NNG'), ('삼천리', 'NNG'), ('화려', 'NNG'), ('강산', 'NNG'), ('대', 'NNG'), ('하', 'XSV'), ('ㄴ', 'ETD'), ('사람', 'NNG'), ('대한', 'NNG'), ('으로', 'JKM'), ('길이', 'NNG'), ('보전', 'NNG'), ('하세', 'NNG')]\n"
     ]
    }
   ],
   "source": [
    "from konlpy import tag\n",
    "from pprint import pprint\n",
    "\n",
    "kkma = tag.Kkma()\n",
    "words = kkma.pos(text)\n",
    "print(words)"
   ]
  },
  {
   "cell_type": "code",
   "execution_count": 8,
   "metadata": {},
   "outputs": [
    {
     "name": "stdout",
     "output_type": "stream",
     "text": [
      "[('동하', 'VV'),\n",
      " ('물', 'NNG'),\n",
      " ('백두산', 'NNP'),\n",
      " ('마르', 'VV'),\n",
      " ('닳', 'VV'),\n",
      " ('하느님', 'NNG'),\n",
      " ('보우', 'NNG'),\n",
      " ('하사', 'NNG'),\n",
      " ('우리나라', 'NNG'),\n",
      " ('만세', 'NNG'),\n",
      " ('무궁화', 'NNG'),\n",
      " ('삼천리', 'NNG'),\n",
      " ('화려', 'NNG'),\n",
      " ('강산', 'NNG'),\n",
      " ('대', 'NNG'),\n",
      " ('사람', 'NNG'),\n",
      " ('대한', 'NNG'),\n",
      " ('길이', 'NNG'),\n",
      " ('보전', 'NNG'),\n",
      " ('하세', 'NNG'),\n",
      " ('남산', 'NNP'),\n",
      " ('위', 'NNG'),\n",
      " ('저', 'VV'),\n",
      " ('소나무', 'NNG'),\n",
      " ('철갑', 'NNG'),\n",
      " ('두르', 'VV'),\n",
      " ('듯', 'NNB'),\n",
      " ('바람', 'NNG'),\n",
      " ('서리', 'NNG'),\n",
      " ('불변', 'NNG'),\n",
      " ('우리기', 'NNG'),\n",
      " ('일세', 'NNG'),\n",
      " ('무궁화', 'NNG'),\n",
      " ('삼천리', 'NNG'),\n",
      " ('화려', 'NNG'),\n",
      " ('강산', 'NNG'),\n",
      " ('대', 'NNG'),\n",
      " ('사람', 'NNG'),\n",
      " ('대한', 'NNG'),\n",
      " ('길이', 'NNG'),\n",
      " ('보전', 'NNG'),\n",
      " ('하세', 'NNG'),\n",
      " ('가을', 'NNG'),\n",
      " ('하늘', 'NNG'),\n",
      " ('공', 'NNG'),\n",
      " ('활', 'NNG'),\n",
      " ('데', 'NNB'),\n",
      " ('높', 'VA'),\n",
      " ('구름', 'NNG'),\n",
      " ('밝', 'VA'),\n",
      " ('달', 'NNG'),\n",
      " ('우리', 'NP'),\n",
      " ('가슴', 'NNG'),\n",
      " ('일편단심', 'NNG'),\n",
      " ('무', 'NNG'),\n",
      " ('궁', 'NNG'),\n",
      " ('삼천리', 'NNG'),\n",
      " ('화려', 'NNG'),\n",
      " ('강산', 'NNG'),\n",
      " ('대', 'NNG'),\n",
      " ('사람', 'NNG'),\n",
      " ('대한', 'NNG'),\n",
      " ('길이', 'NNG'),\n",
      " ('보전', 'NNG'),\n",
      " ('하세', 'NNG'),\n",
      " ('이', 'NNG'),\n",
      " ('기상', 'NNG'),\n",
      " ('맘', 'NNG'),\n",
      " ('충성', 'NNG'),\n",
      " ('다하', 'VV'),\n",
      " ('괴롭', 'VA'),\n",
      " ('즐겁', 'VA'),\n",
      " ('나라', 'NNG'),\n",
      " ('사랑', 'NNG'),\n",
      " ('하세', 'NNG'),\n",
      " ('무궁화', 'NNG'),\n",
      " ('삼천리', 'NNG'),\n",
      " ('화려', 'NNG'),\n",
      " ('강산', 'NNG'),\n",
      " ('대', 'NNG'),\n",
      " ('사람', 'NNG'),\n",
      " ('대한', 'NNG'),\n",
      " ('길이', 'NNG'),\n",
      " ('보전', 'NNG'),\n",
      " ('하세', 'NNG')]\n"
     ]
    }
   ],
   "source": [
    "# 원하는 단어 코드만 필터링\n",
    "words_filter = [ w for w in words if w[1] in ['VV', 'VA', 'NNP', 'NNG', 'NNB', 'NR', 'NP', 'NF', 'NV', 'NA'] ]\n",
    "pprint(words_filter)"
   ]
  },
  {
   "cell_type": "code",
   "execution_count": 12,
   "metadata": {},
   "outputs": [
    {
     "data": {
      "text/plain": [
       "[(('하세', 'NNG'), 5),\n",
       " (('대', 'NNG'), 4),\n",
       " (('보전', 'NNG'), 4),\n",
       " (('사람', 'NNG'), 4),\n",
       " (('강산', 'NNG'), 4),\n",
       " (('대한', 'NNG'), 4),\n",
       " (('화려', 'NNG'), 4),\n",
       " (('삼천리', 'NNG'), 4),\n",
       " (('길이', 'NNG'), 4),\n",
       " (('무궁화', 'NNG'), 3)]"
      ]
     },
     "execution_count": 12,
     "metadata": {},
     "output_type": "execute_result"
    }
   ],
   "source": [
    "# 단어 카운트\n",
    "word_count = [ (w, words_filter.count(w)) for w in set(words_filter) if words_filter.count(w) > 1]\n",
    "word_count = sorted(word_count, key=lambda w: w[1], reverse=True)\n",
    "word_count"
   ]
  },
  {
   "cell_type": "markdown",
   "metadata": {},
   "source": [
    "### 스포츠 기사로 테스트"
   ]
  },
  {
   "cell_type": "code",
   "execution_count": 13,
   "metadata": {},
   "outputs": [],
   "source": [
    "text = \"\"\"\n",
    "한국이 동아시안컵 마지막 경기에서 첫 승을 거두고 유종의 미를 거뒀다. 대만을 상대로 시원한 골 잔치도 벌였다.\n",
    "\n",
    "콜린 벨 감독이 이끄는 한국 여자 축구대표팀은 26일 오후 4시 일본 이바라키현의 가시마 스타디움에서 열린 2022 EAFF(동아시아축구연맹) E-1 풋볼 챔피언십(이하 동아시안컵) 3차전 최종전에서 대만에 4-0 완승을 거뒀다. 대만을 상대로 값진 첫 승을 신고한 한국은 1승 1무 1패로 이번 대회를 마쳤다.\n",
    "\n",
    "한국은 3-5-2 포메이션을 가동했다. 강채림, 최유리가 최전방에서 공격을 이끌었고, 장슬기, 추효주가 좌우 측면에, 이영주와 이민아, 지소연이 중원에 섰다. 3백은 임선주, 홍혜지, 김혜리가 구축했으며, 골키퍼 장갑은 2경기 연속 윤영글이 꼈다.\n",
    "\n",
    "경기 초반에는 팽팽한 탐색전이 펼쳐졌지만, 한국이 이내 주도권을 잡았다. 전반 10분에는 아크 정면에서 프리킥 찬스를 얻어냈다. 그러나 한국은 지소연이 찬 오른발 프리킥을 임선주가 이어받으려 높이 뛰어올랐는데, 이 과정에서 상대 골키퍼와 강하게 충돌해 부상을 당하고 말았다.\n",
    "\n",
    "결국 한국은 임선주를 빼고 김윤지를 투입하며 예상치 못한 시점에 교체카드를 꺼내들었다. 김윤지는 중원에서 수비라인을 보호했고, 이영주가 자리를 이동해 3백의 한축을 구성했다. 대만도 전반 26분 만에 부상자가 발생해, 창 수쉰 대신 창 치란이 그라운드에 투입됐다.\n",
    "\n",
    "한국이 먼저 팽팽한 균형을 깼다. 전반 35분 장슬기가 빠르게 침투한 뒤 크로스를 올렸고, 쇄도하던 이민아가 발을 뻗어 그대로 골문으로 밀어 넣었다. 포문을 여는 데 성공하자, 이어서 연속골이 터졌다. 한국은 전반 38분 최유리가 오른쪽 측면에서 날카로운 크로스를 올렸고, 강채림이 문전에서 골로 마무리해 추가골을 뽑아냈다. 여기서 그치지 않았다. 2분 뒤에는 문전으로 빠르게 돌파한 이민아가 수비수 한 명을 제치고 오른발 슛으로 멀티골을 기록했다.\n",
    "\n",
    "3골 차로 리드를 잡은 한국은 후반 초반 위기를 맞았다. 후반 2분 지소연이 천 잉후이에게 발로 차여 부상을 당한 것이다. 지소연이 스스로 벤치에 뛸 수 없단 사인을 보냈고, 장창과 교체돼 그라운드를 빠져나왔다.\n",
    "\n",
    "후반전도 한국이 주도권을 잡고 대만의 골문을 두드렸다. 대만이 작정하고 아래로 내려서면서 공간을 찾기가 쉽지 않았지만, 한국은 좌우 측면으로 공을 돌리며 호시탐탐 기회를 엿봤다. 후반 33분에는 이영주, 최효주, 최유리를 빼고 박은선, 고민정, 장유빈을 투입해 대거 변화를 줬다. 대만도 후반 40분 날카로운 프리킥으로 한국의 골문을 위협했다. 그러나 후반 추가시간 고민정이 쐐기골을 터뜨리면서 한국이 4-0 승리를 챙겼다.\n",
    "\"\"\""
   ]
  },
  {
   "cell_type": "code",
   "execution_count": 14,
   "metadata": {},
   "outputs": [
    {
     "data": {
      "text/plain": [
       "[(('한국', 'NNG'), 12),\n",
       " (('골', 'NNG'), 8),\n",
       " (('후반', 'NNG'), 5),\n",
       " (('지소', 'NNG'), 4),\n",
       " (('연', 'NNG'), 4),\n",
       " (('대', 'NNG'), 4),\n",
       " (('3', 'NR'), 4),\n",
       " (('전반', 'NNG'), 4),\n",
       " (('프리킥', 'NNG'), 3),\n",
       " (('1', 'NR'), 3),\n",
       " (('골문', 'NNG'), 3),\n",
       " (('임', 'NNG'), 3),\n",
       " (('2', 'NR'), 3),\n",
       " (('투입', 'NNG'), 3),\n",
       " (('거두', 'VV'), 3),\n",
       " (('경기', 'NNG'), 3),\n",
       " (('선주', 'NNG'), 3),\n",
       " (('유리', 'NNG'), 3),\n",
       " (('측면', 'NNG'), 3),\n",
       " (('상대', 'NNG'), 3),\n",
       " (('잡', 'VV'), 3),\n",
       " (('이민', 'NNG'), 3),\n",
       " (('장', 'NNG'), 3),\n",
       " (('영주', 'NNG'), 3),\n",
       " (('교체', 'NNG'), 2),\n",
       " (('백', 'NR'), 2),\n",
       " (('초반', 'NNG'), 2),\n",
       " (('아가', 'NNG'), 2),\n",
       " (('그러', 'VV'), 2),\n",
       " (('승', 'NNG'), 2),\n",
       " (('컵', 'NNG'), 2),\n",
       " (('창', 'NNG'), 2),\n",
       " (('빼', 'VV'), 2),\n",
       " (('빠르', 'VA'), 2),\n",
       " (('동', 'NNG'), 2),\n",
       " (('효', 'NNG'), 2),\n",
       " (('부상', 'NNG'), 2),\n",
       " (('강', 'NNG'), 2),\n",
       " (('중원', 'NNG'), 2),\n",
       " (('김', 'NNG'), 2),\n",
       " (('채리', 'VV'), 2),\n",
       " (('만도', 'NNG'), 2),\n",
       " (('주도권', 'NNG'), 2),\n",
       " (('이끌', 'VV'), 2),\n",
       " (('그라운드', 'NNG'), 2),\n",
       " (('슬기', 'NNG'), 2),\n",
       " (('문전', 'NNG'), 2),\n",
       " (('당하', 'VV'), 2),\n",
       " (('크로스', 'NNG'), 2),\n",
       " (('윤지', 'NNG'), 2),\n",
       " (('오른발', 'NNG'), 2),\n",
       " (('고민', 'NNG'), 2),\n",
       " (('추가', 'NNG'), 2),\n",
       " (('축구', 'NNG'), 2),\n",
       " (('뒤', 'NNG'), 2),\n",
       " (('올리', 'VV'), 2),\n",
       " (('날카롭', 'VA'), 2),\n",
       " (('26', 'NR'), 2),\n",
       " (('하', 'VV'), 2),\n",
       " (('연속', 'NNG'), 2),\n",
       " (('국은', 'NNG'), 2),\n",
       " (('좌우', 'NNG'), 2)]"
      ]
     },
     "execution_count": 14,
     "metadata": {},
     "output_type": "execute_result"
    }
   ],
   "source": [
    "from konlpy import tag\n",
    "from pprint import pprint\n",
    "\n",
    "kkma = tag.Kkma()\n",
    "words = kkma.pos(text)\n",
    "\n",
    "words_filter = [w for w in words if w[1] in ['VV', 'VA', 'NNP', 'NNG', 'NNB', 'NR', 'NP', 'NF', 'NV', 'NA']]\n",
    "\n",
    "word_count = [(w, words_filter.count(w)) for w in set(words_filter) if words_filter.count(w) > 1]\n",
    "word_sort = sorted(word_count, key=lambda w: w[1],reverse=True)\n",
    "word_sort"
   ]
  }
 ],
 "metadata": {
  "kernelspec": {
   "display_name": "Python 3.9.13 64-bit (windows store)",
   "language": "python",
   "name": "python3"
  },
  "language_info": {
   "codemirror_mode": {
    "name": "ipython",
    "version": 3
   },
   "file_extension": ".py",
   "mimetype": "text/x-python",
   "name": "python",
   "nbconvert_exporter": "python",
   "pygments_lexer": "ipython3",
   "version": "3.9.13"
  },
  "orig_nbformat": 4,
  "vscode": {
   "interpreter": {
    "hash": "81d63421dc4ff2febe5ae8ebd642fed2f46fe94c0192df0a316b0a71a90664ce"
   }
  }
 },
 "nbformat": 4,
 "nbformat_minor": 2
}
