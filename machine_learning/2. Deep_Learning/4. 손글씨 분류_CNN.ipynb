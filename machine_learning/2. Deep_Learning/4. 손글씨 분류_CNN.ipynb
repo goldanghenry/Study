{
 "cells": [
  {
   "cell_type": "markdown",
   "metadata": {},
   "source": [
    "## MNIST 손글씨 분류\n",
    "### 1. Flatten\n",
    ": Conv2D를 사용하기 위해 reshape 해줌"
   ]
  },
  {
   "cell_type": "code",
   "execution_count": 1,
   "metadata": {},
   "outputs": [],
   "source": [
    "import tensorflow as tf\n",
    "import pandas as pd"
   ]
  },
  {
   "cell_type": "code",
   "execution_count": 2,
   "metadata": {},
   "outputs": [
    {
     "name": "stdout",
     "output_type": "stream",
     "text": [
      "(60000, 28, 28) (60000,)\n",
      "(10000, 28, 28) (10000,)\n"
     ]
    }
   ],
   "source": [
    "# 데이터 준비\n",
    "(x_train, y_train), (x_test, y_test) = tf.keras.datasets.mnist.load_data()\n",
    "print(x_train.shape, y_train.shape)\n",
    "print(x_test.shape, y_test.shape)   # 정답 data: 범주형 0~9"
   ]
  },
  {
   "cell_type": "code",
   "execution_count": 3,
   "metadata": {},
   "outputs": [
    {
     "name": "stdout",
     "output_type": "stream",
     "text": [
      "(60000, 28, 28) (60000, 10)\n",
      "(10000, 28, 28) (10000, 10)\n"
     ]
    }
   ],
   "source": [
    "# 이미지(2차원 요소) -> 1차원\n",
    "# x_train = x_train.reshape(60000,28*28)\n",
    "# x_test = x_test.reshape(10000,28*28)\n",
    "y_train = pd.get_dummies(y_train)   # 원핫 인코딩\n",
    "y_test = pd.get_dummies(y_test)\n",
    "\n",
    "print(x_train.shape, y_train.shape)\n",
    "print(x_test.shape, y_test.shape)"
   ]
  },
  {
   "cell_type": "code",
   "execution_count": null,
   "metadata": {},
   "outputs": [],
   "source": [
    "# 모델 준비\n",
    "X = tf.keras.Input(shape=[28,28])   # 768\n",
    "H = tf.keras.layers.Flatten()(X)\n",
    "H = tf.keras.layers.Dense(84, activation='swish') (H)\n",
    "Y = tf.keras.layers.Dense(10, activation='softmax')(H)\n",
    "\n",
    "model = tf.keras.Model(X,Y)\n",
    "model.compile(loss='categorical_crossentropy', metrics='accuracy')\n",
    "model.summary()\n"
   ]
  },
  {
   "cell_type": "code",
   "execution_count": 33,
   "metadata": {},
   "outputs": [
    {
     "name": "stdout",
     "output_type": "stream",
     "text": [
      "Epoch 1/10\n",
      "422/422 [==============================] - 1s 3ms/step - loss: 0.1889 - accuracy: 0.9634 - val_loss: 0.2997 - val_accuracy: 0.9575\n",
      "Epoch 2/10\n",
      "422/422 [==============================] - 1s 3ms/step - loss: 0.1676 - accuracy: 0.9662 - val_loss: 0.2765 - val_accuracy: 0.9610\n",
      "Epoch 3/10\n",
      "422/422 [==============================] - 1s 3ms/step - loss: 0.1595 - accuracy: 0.9681 - val_loss: 0.3051 - val_accuracy: 0.9582\n",
      "Epoch 4/10\n",
      "422/422 [==============================] - 1s 3ms/step - loss: 0.1575 - accuracy: 0.9695 - val_loss: 0.3273 - val_accuracy: 0.9552\n",
      "Epoch 5/10\n",
      "422/422 [==============================] - 1s 3ms/step - loss: 0.1408 - accuracy: 0.9712 - val_loss: 0.3649 - val_accuracy: 0.9607\n",
      "Epoch 6/10\n",
      "422/422 [==============================] - 1s 3ms/step - loss: 0.1365 - accuracy: 0.9720 - val_loss: 0.3464 - val_accuracy: 0.9577\n",
      "Epoch 7/10\n",
      "422/422 [==============================] - 1s 3ms/step - loss: 0.1316 - accuracy: 0.9732 - val_loss: 0.3029 - val_accuracy: 0.9608\n",
      "Epoch 8/10\n",
      "422/422 [==============================] - 1s 3ms/step - loss: 0.1267 - accuracy: 0.9739 - val_loss: 0.3525 - val_accuracy: 0.9592\n",
      "Epoch 9/10\n",
      "422/422 [==============================] - 1s 3ms/step - loss: 0.1147 - accuracy: 0.9763 - val_loss: 0.3050 - val_accuracy: 0.9637\n",
      "Epoch 10/10\n",
      "422/422 [==============================] - 1s 3ms/step - loss: 0.1111 - accuracy: 0.9773 - val_loss: 0.3453 - val_accuracy: 0.9650\n"
     ]
    },
    {
     "data": {
      "text/plain": [
       "<keras.callbacks.History at 0x23bc0f00ca0>"
      ]
     },
     "execution_count": 33,
     "metadata": {},
     "output_type": "execute_result"
    }
   ],
   "source": [
    "# 모델 학습\n",
    "# validation_split으로 학습할 때 test용으로 사용. 아는 문제로 학습하면 accuracy가 높게 나옴.\n",
    "# batch_size=128 : 6만개의 데이터를 600개로 나눈다. test용 20%를 빼면, 480번 weight를 조정할 기회를 얻음(효율적)\n",
    "model.fit(x_train, y_train, epochs=10, validation_split=0.1, batch_size=128)\n",
    "\n",
    "# 학습 결과 : loss: 0.1111 - accuracy: 0.9773 - val_loss: 0.3453 - val_accuracy: 0.9650\n"
   ]
  },
  {
   "cell_type": "code",
   "execution_count": null,
   "metadata": {},
   "outputs": [],
   "source": [
    "import matplotlib.pyplot as plt\n",
    "\n",
    "num = 1244\n",
    "print(y_test[num:num+1])\n",
    "print(model.predict(x_test[num:num+1]))\n",
    "\n",
    "plt.imshow(x_test[num].reshape(28, 28), cmap=\"gray\")\n",
    "plt.show()\n"
   ]
  },
  {
   "cell_type": "markdown",
   "metadata": {},
   "source": [
    "### 2. Convolution\n",
    ": 특정한 패턴의 특징이 어디서 나타나는지를 확인하는 도구"
   ]
  },
  {
   "cell_type": "code",
   "execution_count": 5,
   "metadata": {},
   "outputs": [
    {
     "name": "stdout",
     "output_type": "stream",
     "text": [
      "Model: \"model\"\n",
      "_________________________________________________________________\n",
      " Layer (type)                Output Shape              Param #   \n",
      "=================================================================\n",
      " input_1 (InputLayer)        [(None, 28, 28, 1)]       0         \n",
      "                                                                 \n",
      " conv2d (Conv2D)             (None, 24, 24, 3)         78        \n",
      "                                                                 \n",
      " conv2d_1 (Conv2D)           (None, 20, 20, 6)         456       \n",
      "                                                                 \n",
      " flatten (Flatten)           (None, 2400)              0         \n",
      "                                                                 \n",
      " dense (Dense)               (None, 84)                201684    \n",
      "                                                                 \n",
      " dense_1 (Dense)             (None, 10)                850       \n",
      "                                                                 \n",
      "=================================================================\n",
      "Total params: 203,068\n",
      "Trainable params: 203,068\n",
      "Non-trainable params: 0\n",
      "_________________________________________________________________\n"
     ]
    }
   ],
   "source": [
    "# Convloution을 하기 위해서는 3채널로 입력\n",
    "X = tf.keras.Input(shape=[28,28,1])\n",
    "H = tf.keras.layers.Conv2D(filters=3, kernel_size=5, activation='swish')(X) #(3,24,24,1)\n",
    "H = tf.keras.layers.Conv2D(6, 5, activation='swish')(H)\n",
    "H = tf.keras.layers.Flatten()(H)\n",
    "H = tf.keras.layers.Dense(84, activation='swish')(H)\n",
    "Y = tf.keras.layers.Dense(10, activation='softmax')(H)\n",
    "\n",
    "model = tf.keras.Model(X,Y)\n",
    "model.compile(loss=\"categorical_crossentropy\", metrics='accuracy')\n",
    "model.summary()"
   ]
  },
  {
   "cell_type": "code",
   "execution_count": 6,
   "metadata": {},
   "outputs": [
    {
     "name": "stdout",
     "output_type": "stream",
     "text": [
      "Epoch 1/10\n",
      "422/422 [==============================] - 21s 48ms/step - loss: 1.3559 - accuracy: 0.8881 - val_loss: 0.1207 - val_accuracy: 0.9678\n",
      "Epoch 2/10\n",
      "422/422 [==============================] - 17s 40ms/step - loss: 0.0884 - accuracy: 0.9748 - val_loss: 0.0853 - val_accuracy: 0.9757\n",
      "Epoch 3/10\n",
      "422/422 [==============================] - 19s 45ms/step - loss: 0.0454 - accuracy: 0.9867 - val_loss: 0.0990 - val_accuracy: 0.9782\n",
      "Epoch 4/10\n",
      "422/422 [==============================] - 21s 50ms/step - loss: 0.0262 - accuracy: 0.9922 - val_loss: 0.0900 - val_accuracy: 0.9783\n",
      "Epoch 5/10\n",
      "422/422 [==============================] - 19s 46ms/step - loss: 0.0151 - accuracy: 0.9951 - val_loss: 0.1124 - val_accuracy: 0.9800\n",
      "Epoch 6/10\n",
      "422/422 [==============================] - 20s 46ms/step - loss: 0.0133 - accuracy: 0.9958 - val_loss: 0.1106 - val_accuracy: 0.9820\n",
      "Epoch 7/10\n",
      "422/422 [==============================] - 19s 45ms/step - loss: 0.0097 - accuracy: 0.9972 - val_loss: 0.1272 - val_accuracy: 0.9822\n",
      "Epoch 8/10\n",
      "422/422 [==============================] - 18s 44ms/step - loss: 0.0088 - accuracy: 0.9974 - val_loss: 0.1401 - val_accuracy: 0.9803\n",
      "Epoch 9/10\n",
      "422/422 [==============================] - 18s 43ms/step - loss: 0.0087 - accuracy: 0.9973 - val_loss: 0.1338 - val_accuracy: 0.9815\n",
      "Epoch 10/10\n",
      "422/422 [==============================] - 19s 46ms/step - loss: 0.0088 - accuracy: 0.9977 - val_loss: 0.1647 - val_accuracy: 0.9790\n"
     ]
    },
    {
     "data": {
      "text/plain": [
       "<keras.callbacks.History at 0x1fd6241b190>"
      ]
     },
     "execution_count": 6,
     "metadata": {},
     "output_type": "execute_result"
    }
   ],
   "source": [
    "# 모델 학습\n",
    "model.fit(x_train, y_train, epochs=10, batch_size=128, validation_split=0.1)\n",
    "\n",
    "# 학습 결과 - loss: 0.0083 - accuracy: 0.9976 - val_loss: 0.1650 - val_accuracy: 0.9807"
   ]
  },
  {
   "cell_type": "code",
   "execution_count": 7,
   "metadata": {},
   "outputs": [
    {
     "name": "stdout",
     "output_type": "stream",
     "text": [
      "1875/1875 [==============================] - 9s 5ms/step - loss: 0.0270 - accuracy: 0.9952\n"
     ]
    },
    {
     "data": {
      "text/plain": [
       "[0.02704673632979393, 0.9951500296592712]"
      ]
     },
     "execution_count": 7,
     "metadata": {},
     "output_type": "execute_result"
    }
   ],
   "source": [
    "model.evaluate(x_train, y_train)"
   ]
  },
  {
   "cell_type": "markdown",
   "metadata": {},
   "source": [
    "### 3. MaxPool\n",
    ": featuere map을 구성할 때 필터에 해당하는 영역의 값 중 가장 큰 값만 가져와 \n",
    "overfitting을 방지하고 사이즈를 반으로 줄여준다."
   ]
  },
  {
   "cell_type": "code",
   "execution_count": 10,
   "metadata": {},
   "outputs": [
    {
     "name": "stdout",
     "output_type": "stream",
     "text": [
      "Model: \"model_2\"\n",
      "_________________________________________________________________\n",
      " Layer (type)                Output Shape              Param #   \n",
      "=================================================================\n",
      " input_4 (InputLayer)        [(None, 28, 28, 1)]       0         \n",
      "                                                                 \n",
      " conv2d_4 (Conv2D)           (None, 24, 24, 3)         78        \n",
      "                                                                 \n",
      " max_pooling2d_2 (MaxPooling  (None, 12, 12, 3)        0         \n",
      " 2D)                                                             \n",
      "                                                                 \n",
      " conv2d_5 (Conv2D)           (None, 8, 8, 6)           456       \n",
      "                                                                 \n",
      " max_pooling2d_3 (MaxPooling  (None, 4, 4, 6)          0         \n",
      " 2D)                                                             \n",
      "                                                                 \n",
      " flatten_1 (Flatten)         (None, 96)                0         \n",
      "                                                                 \n",
      " dense_4 (Dense)             (None, 84)                8148      \n",
      "                                                                 \n",
      " dense_5 (Dense)             (None, 10)                850       \n",
      "                                                                 \n",
      "=================================================================\n",
      "Total params: 9,532\n",
      "Trainable params: 9,532\n",
      "Non-trainable params: 0\n",
      "_________________________________________________________________\n"
     ]
    }
   ],
   "source": [
    "# 모델 생성\n",
    "X = tf.keras.Input(shape=[28,28,1])\n",
    "H = tf.keras.layers.Conv2D(filters =3 ,kernel_size=5,activation='swish') (X)\n",
    "H = tf.keras.layers.MaxPool2D() (H)\n",
    "H = tf.keras.layers.Conv2D(6 ,5,activation='swish') (H)\n",
    "H = tf.keras.layers.MaxPool2D() (H)\n",
    "H = tf.keras.layers.Flatten()(H)\n",
    "H = tf.keras.layers.Dense(84,activation='swish') (H)\n",
    "Y = tf.keras.layers.Dense(10,activation='softmax') (H)\n",
    "\n",
    "model = tf.keras.Model(X,Y)\n",
    "model.compile(loss=\"categorical_crossentropy\", metrics=\"accuracy\")\n",
    "model.summary()"
   ]
  },
  {
   "cell_type": "code",
   "execution_count": 11,
   "metadata": {},
   "outputs": [
    {
     "name": "stdout",
     "output_type": "stream",
     "text": [
      "Epoch 1/10\n",
      "422/422 [==============================] - 11s 23ms/step - loss: 2.4418 - accuracy: 0.8007 - val_loss: 0.2123 - val_accuracy: 0.9452\n",
      "Epoch 2/10\n",
      "422/422 [==============================] - 10s 25ms/step - loss: 0.1857 - accuracy: 0.9475 - val_loss: 0.1429 - val_accuracy: 0.9610\n",
      "Epoch 3/10\n",
      "422/422 [==============================] - 11s 27ms/step - loss: 0.1180 - accuracy: 0.9657 - val_loss: 0.1013 - val_accuracy: 0.9725\n",
      "Epoch 4/10\n",
      "422/422 [==============================] - 10s 24ms/step - loss: 0.0927 - accuracy: 0.9723 - val_loss: 0.0960 - val_accuracy: 0.9705\n",
      "Epoch 5/10\n",
      "422/422 [==============================] - 10s 24ms/step - loss: 0.0760 - accuracy: 0.9769 - val_loss: 0.0862 - val_accuracy: 0.9757\n",
      "Epoch 6/10\n",
      "422/422 [==============================] - 13s 30ms/step - loss: 0.0681 - accuracy: 0.9795 - val_loss: 0.0864 - val_accuracy: 0.9760\n",
      "Epoch 7/10\n",
      "422/422 [==============================] - 12s 27ms/step - loss: 0.0607 - accuracy: 0.9816 - val_loss: 0.0776 - val_accuracy: 0.9805\n",
      "Epoch 8/10\n",
      "422/422 [==============================] - 10s 24ms/step - loss: 0.0577 - accuracy: 0.9825 - val_loss: 0.0806 - val_accuracy: 0.9792\n",
      "Epoch 9/10\n",
      "422/422 [==============================] - 10s 24ms/step - loss: 0.0505 - accuracy: 0.9843 - val_loss: 0.0706 - val_accuracy: 0.9810\n",
      "Epoch 10/10\n",
      "422/422 [==============================] - 12s 29ms/step - loss: 0.0478 - accuracy: 0.9848 - val_loss: 0.0824 - val_accuracy: 0.9785\n"
     ]
    },
    {
     "data": {
      "text/plain": [
       "<keras.callbacks.History at 0x1fd624236d0>"
      ]
     },
     "execution_count": 11,
     "metadata": {},
     "output_type": "execute_result"
    }
   ],
   "source": [
    "# 모델 학습\n",
    "model.fit(x_train, y_train, epochs=10, batch_size=128, validation_split=0.1)"
   ]
  },
  {
   "cell_type": "code",
   "execution_count": 12,
   "metadata": {},
   "outputs": [
    {
     "name": "stdout",
     "output_type": "stream",
     "text": [
      "1875/1875 [==============================] - 8s 4ms/step - loss: 0.0437 - accuracy: 0.9861\n"
     ]
    },
    {
     "data": {
      "text/plain": [
       "[0.043732695281505585, 0.986133337020874]"
      ]
     },
     "execution_count": 12,
     "metadata": {},
     "output_type": "execute_result"
    }
   ],
   "source": [
    "# 모델 평가\n",
    "model.evaluate(x_train, y_train)"
   ]
  }
 ],
 "metadata": {
  "kernelspec": {
   "display_name": "Python 3.9.13 64-bit (windows store)",
   "language": "python",
   "name": "python3"
  },
  "language_info": {
   "codemirror_mode": {
    "name": "ipython",
    "version": 3
   },
   "file_extension": ".py",
   "mimetype": "text/x-python",
   "name": "python",
   "nbconvert_exporter": "python",
   "pygments_lexer": "ipython3",
   "version": "3.9.13"
  },
  "orig_nbformat": 4,
  "vscode": {
   "interpreter": {
    "hash": "81d63421dc4ff2febe5ae8ebd642fed2f46fe94c0192df0a316b0a71a90664ce"
   }
  }
 },
 "nbformat": 4,
 "nbformat_minor": 2
}
