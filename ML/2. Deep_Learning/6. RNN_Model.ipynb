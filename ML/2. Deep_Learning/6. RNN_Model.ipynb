{
 "cells": [
  {
   "cell_type": "markdown",
   "metadata": {},
   "source": [
    "## RNN"
   ]
  },
  {
   "cell_type": "code",
   "execution_count": 1,
   "metadata": {},
   "outputs": [
    {
     "name": "stdout",
     "output_type": "stream",
     "text": [
      "(60000, 28, 28) (60000,)\n",
      "(10000, 28, 28) (10000,)\n"
     ]
    }
   ],
   "source": [
    "import tensorflow as tf\n",
    "\n",
    "(x_train, y_train), (x_test, y_test) = tf.keras.datasets.mnist.load_data()\n",
    "\n",
    "x_train = x_train / 255\n",
    "x_test = x_test / 255\n",
    "print(x_train.shape, y_train.shape)\n",
    "print(x_test.shape, y_test.shape)"
   ]
  },
  {
   "cell_type": "code",
   "execution_count": 2,
   "metadata": {},
   "outputs": [
    {
     "name": "stdout",
     "output_type": "stream",
     "text": [
      "Model: \"model\"\n",
      "_________________________________________________________________\n",
      " Layer (type)                Output Shape              Param #   \n",
      "=================================================================\n",
      " input_1 (InputLayer)        [(None, 28, 28)]          0         \n",
      "                                                                 \n",
      " simple_rnn (SimpleRNN)      (None, 32)                1952      \n",
      "                                                                 \n",
      " dense (Dense)               (None, 10)                330       \n",
      "                                                                 \n",
      "=================================================================\n",
      "Total params: 2,282\n",
      "Trainable params: 2,282\n",
      "Non-trainable params: 0\n",
      "_________________________________________________________________\n"
     ]
    }
   ],
   "source": [
    "# 모델 생성\n",
    "X = tf.keras.Input(shape=[28, 28])\n",
    "\n",
    "# cell = tf.keras.layers.SimpleRNNCell(32)\n",
    "# H = tf.keras.layers.RNN(cell)(X)\n",
    "H = tf.keras.layers.SimpleRNN(32, return_sequences=False)(X)\n",
    "\n",
    "Y = tf.keras.layers.Dense(10, activation=\"softmax\")(H)\n",
    "\n",
    "model = tf.keras.Model(X, Y)\n",
    "model.compile(\n",
    "    loss=\"sparse_categorical_crossentropy\",\n",
    "    optimizer=\"adam\",\n",
    "    metrics=\"accuracy\"\n",
    ")\n",
    "model.summary()"
   ]
  },
  {
   "cell_type": "code",
   "execution_count": 3,
   "metadata": {},
   "outputs": [
    {
     "name": "stdout",
     "output_type": "stream",
     "text": [
      "Epoch 1/10\n",
      "422/422 [==============================] - 3s 7ms/step - loss: 1.2539 - accuracy: 0.5833 - val_loss: 0.7118 - val_accuracy: 0.7707\n",
      "Epoch 2/10\n",
      "422/422 [==============================] - 2s 6ms/step - loss: 0.6973 - accuracy: 0.7736 - val_loss: 0.5146 - val_accuracy: 0.8425\n",
      "Epoch 3/10\n",
      "422/422 [==============================] - 2s 6ms/step - loss: 0.5338 - accuracy: 0.8360 - val_loss: 0.3779 - val_accuracy: 0.8898\n",
      "Epoch 4/10\n",
      "422/422 [==============================] - 2s 5ms/step - loss: 0.4262 - accuracy: 0.8729 - val_loss: 0.3262 - val_accuracy: 0.9052\n",
      "Epoch 5/10\n",
      "422/422 [==============================] - 2s 5ms/step - loss: 0.3675 - accuracy: 0.8911 - val_loss: 0.2730 - val_accuracy: 0.9202\n",
      "Epoch 6/10\n",
      "422/422 [==============================] - 2s 5ms/step - loss: 0.3259 - accuracy: 0.9042 - val_loss: 0.3406 - val_accuracy: 0.8985\n",
      "Epoch 7/10\n",
      "422/422 [==============================] - 2s 4ms/step - loss: 0.3011 - accuracy: 0.9138 - val_loss: 0.2399 - val_accuracy: 0.9297\n",
      "Epoch 8/10\n",
      "422/422 [==============================] - 2s 4ms/step - loss: 0.2850 - accuracy: 0.9179 - val_loss: 0.2509 - val_accuracy: 0.9235\n",
      "Epoch 9/10\n",
      "422/422 [==============================] - 2s 4ms/step - loss: 0.2741 - accuracy: 0.9203 - val_loss: 0.2022 - val_accuracy: 0.9410\n",
      "Epoch 10/10\n",
      "422/422 [==============================] - 2s 4ms/step - loss: 0.2646 - accuracy: 0.9240 - val_loss: 0.2122 - val_accuracy: 0.9385\n"
     ]
    },
    {
     "data": {
      "text/plain": [
       "<keras.callbacks.History at 0x19763548d60>"
      ]
     },
     "execution_count": 3,
     "metadata": {},
     "output_type": "execute_result"
    }
   ],
   "source": [
    "model.fit(x_train, y_train, epochs=10, batch_size=128, validation_split=0.1)"
   ]
  },
  {
   "cell_type": "markdown",
   "metadata": {},
   "source": [
    "### 삼성전자 주가 예측\n",
    "https://github.com/FinanceData/FinanceDataReader"
   ]
  },
  {
   "cell_type": "code",
   "execution_count": null,
   "metadata": {},
   "outputs": [],
   "source": [
    "!pip install finance-datareader"
   ]
  },
  {
   "cell_type": "code",
   "execution_count": null,
   "metadata": {},
   "outputs": [],
   "source": [
    "import FinanceDataReader as fdr\n",
    "\n",
    "# 삼성전자(005930) 전체 (1996-11-05 ~ 현재)\n",
    "dataset = fdr.DataReader('005930')\n",
    "dataset = dataset[['Open', 'High', 'Low', 'Close', 'Volume']]\n",
    "dataset = (dataset - dataset.min()) / (dataset.max() - dataset.min())\n",
    "dataset = dataset.values\n",
    "print(dataset.shape)\n",
    "dataset[:5]"
   ]
  },
  {
   "cell_type": "code",
   "execution_count": null,
   "metadata": {},
   "outputs": [],
   "source": [
    "import numpy as np\n",
    "\n",
    "# 입력 데이터 준비\n",
    "x_train = np.array([dataset[i:i+7] for i in range(len(dataset) - 7)])\n",
    "y_train = np.array([dataset[i+7, 3] for i in range(len(dataset) - 7)])\n",
    "print(x_train.shape, y_train.shape)\n",
    "\n",
    "# train, test 분리\n",
    "x_train, x_test = x_train[:-500], x_train[-500:]\n",
    "y_train, y_test = y_train[:-500], y_train[-500:]\n",
    "print(x_train.shape, y_train.shape)\n",
    "print(x_test.shape, y_test.shape)"
   ]
  },
  {
   "cell_type": "code",
   "execution_count": null,
   "metadata": {},
   "outputs": [],
   "source": [
    "X = tf.keras.Input(shape=[7, 5])\n",
    "cell = tf.keras.layers.LSTMCell(32)\n",
    "H = tf.keras.layers.RNN(cell)(X)\n",
    "Y = tf.keras.layers.Dense(1)(H)\n",
    "\n",
    "model = tf.keras.Model(X, Y)\n",
    "model.compile(loss=\"mse\", optimizer=\"adam\")\n",
    "model.summary()"
   ]
  },
  {
   "cell_type": "code",
   "execution_count": null,
   "metadata": {},
   "outputs": [],
   "source": [
    "model.fit(x_train, y_train, epochs=50, batch_size=128)"
   ]
  },
  {
   "cell_type": "code",
   "execution_count": null,
   "metadata": {},
   "outputs": [],
   "source": [
    "import matplotlib.pyplot as plt\n",
    "\n",
    "y_pred = model.predict(x_test)\n",
    "\n",
    "plt.figure(figsize=(10, 5))\n",
    "plt.plot(y_pred)\n",
    "plt.plot(y_test)\n",
    "plt.legend(['pred', 'real'])\n",
    "plt.show()"
   ]
  }
 ],
 "metadata": {
  "kernelspec": {
   "display_name": "Python 3.9.13 64-bit (windows store)",
   "language": "python",
   "name": "python3"
  },
  "language_info": {
   "codemirror_mode": {
    "name": "ipython",
    "version": 3
   },
   "file_extension": ".py",
   "mimetype": "text/x-python",
   "name": "python",
   "nbconvert_exporter": "python",
   "pygments_lexer": "ipython3",
   "version": "3.9.13"
  },
  "orig_nbformat": 4,
  "vscode": {
   "interpreter": {
    "hash": "81d63421dc4ff2febe5ae8ebd642fed2f46fe94c0192df0a316b0a71a90664ce"
   }
  }
 },
 "nbformat": 4,
 "nbformat_minor": 2
}
