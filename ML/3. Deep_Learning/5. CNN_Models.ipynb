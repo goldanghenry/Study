{
 "cells": [
  {
   "cell_type": "markdown",
   "metadata": {},
   "source": [
    "## CNN Models - LeNet5"
   ]
  },
  {
   "cell_type": "markdown",
   "metadata": {},
   "source": [
    "### fashion mnist - 실습"
   ]
  },
  {
   "cell_type": "code",
   "execution_count": 2,
   "metadata": {},
   "outputs": [
    {
     "name": "stdout",
     "output_type": "stream",
     "text": [
      "(60000, 28, 28, 1) (60000, 10)\n",
      "(10000, 28, 28, 1) (10000, 10)\n"
     ]
    }
   ],
   "source": [
    "import tensorflow as tf\n",
    "\n",
    "# 데이터 준비\n",
    "(x_train, y_train), (x_test, y_test) = tf.keras.datasets.fashion_mnist.load_data()\n",
    "\n",
    "x_train = x_train.reshape(60000, 28, 28, 1)\n",
    "x_test = x_test.reshape(10000,28,28,1)\n",
    "\n",
    "# 텐서플로우의 원핫 인코딩 함수 ( 또는 판다스의 get_dummies)\n",
    "y_train = tf.keras.utils.to_categorical(y_train)\n",
    "y_test = tf.keras.utils.to_categorical(y_test)\n",
    "\n",
    "print(x_train.shape, y_train.shape)\n",
    "print(x_test.shape, y_test.shape)"
   ]
  },
  {
   "cell_type": "code",
   "execution_count": 3,
   "metadata": {},
   "outputs": [
    {
     "name": "stdout",
     "output_type": "stream",
     "text": [
      "Model: \"model\"\n",
      "_________________________________________________________________\n",
      " Layer (type)                Output Shape              Param #   \n",
      "=================================================================\n",
      " input_1 (InputLayer)        [(None, 28, 28, 1)]       0         \n",
      "                                                                 \n",
      " conv2d_1 (Conv2D)           (None, 24, 24, 3)         78        \n",
      "                                                                 \n",
      " max_pooling2d_1 (MaxPooling  (None, 12, 12, 3)        0         \n",
      " 2D)                                                             \n",
      "                                                                 \n",
      " flatten (Flatten)           (None, 432)               0         \n",
      "                                                                 \n",
      " dense (Dense)               (None, 84)                36372     \n",
      "                                                                 \n",
      " dense_1 (Dense)             (None, 10)                850       \n",
      "                                                                 \n",
      "=================================================================\n",
      "Total params: 37,300\n",
      "Trainable params: 37,300\n",
      "Non-trainable params: 0\n",
      "_________________________________________________________________\n"
     ]
    }
   ],
   "source": [
    "# 모델 생성\n",
    "X = tf.keras.Input(shape=[28,28,1])\n",
    "H = tf.keras.layers.Conv2D(3,5,activation=\"swish\") ( X)\n",
    "H = tf.keras.layers.MaxPool2D()(H)\n",
    "H = tf.keras.layers.Conv2D(3,5,activation=\"swish\") ( X)\n",
    "H = tf.keras.layers.MaxPool2D()(H)\n",
    "H = tf.keras.layers.Flatten() (H)\n",
    "H = tf.keras.layers.Dense(84, activation=\"swish\")(H)\n",
    "Y = tf.keras.layers.Dense(10,activation=\"softmax\") (H)\n",
    "\n",
    "model = tf.keras.Model(X,Y)\n",
    "model.compile(loss=\"categorical_crossentropy\", metrics=\"accuracy\")\n",
    "model.summary()"
   ]
  },
  {
   "cell_type": "code",
   "execution_count": null,
   "metadata": {},
   "outputs": [],
   "source": [
    "# 모델 학습\n",
    "model.fit(x_train, y_train, epochs=20, batch_size=128, validation_split=0.1)"
   ]
  },
  {
   "cell_type": "markdown",
   "metadata": {},
   "source": [
    "### LeNet5 + fashion MNIST"
   ]
  },
  {
   "cell_type": "code",
   "execution_count": null,
   "metadata": {},
   "outputs": [],
   "source": [
    "# 모델 생성\n",
    "# BatchNormalization : Layer사이에 중간 결과 데이터들을 표준정규화하는 계층\n",
    "# 중간 레이어가 들어가면 가중치가 붙어서 결과가 튈 수 있다. 정확도를 높이기 위해 한번 값이 계산된 후 정규화를 해준다.\n",
    "# Convolution 후 activation 하기전 normalization 하는 것이 좋다.\n",
    "X = tf.keras.Input(shape=[28,28,1])\n",
    "\n",
    "H = tf.keras.layers.Conv2D(6,5,padding='same')(X)\n",
    "H = tf.keras.layers.BatchNormalization()(H)\n",
    "H = tf.keras.layers.Activation(\"swish\")(H)\n",
    "H = tf.keras.layers.MaxPool2D()(H)\n",
    "\n",
    "H = tf.keras.layers.Conv2D(16,5)(H)\n",
    "H = tf.keras.layers.BatchNormalization()(H)\n",
    "H = tf.keras.layers.Activation(\"swish\")(H)\n",
    "H = tf.keras.layers.MaxPool2D()(H)\n",
    "\n",
    "H = tf.keras.layers.Flatten()(H)\n",
    "\n",
    "H = tf.keras.layers.Dense(120)(H)\n",
    "H = tf.keras.layers.BatchNormalization()(H)\n",
    "H = tf.keras.layers.Activation(\"swish\")(H)\n",
    "\n",
    "H = tf.keras.layers.Dense(84)(H)\n",
    "H = tf.keras.layers.BatchNormalization()(H)\n",
    "H = tf.keras.layers.Activation(\"swish\")(H)\n",
    "\n",
    "Y = tf.keras.layers.Dense(10, activation='softmax')(H)\n",
    "\n",
    "model = tf.keras.Model(X,Y)\n",
    "model.compile(loss='categorical_crossentropy', metrics='accuracy')\n",
    "model.summary()"
   ]
  },
  {
   "cell_type": "code",
   "execution_count": null,
   "metadata": {},
   "outputs": [],
   "source": [
    "# 모델 학습\n",
    "model.fit(x_train, y_train, epochs=20, batch_size=128, validation_split=0.1)"
   ]
  },
  {
   "cell_type": "code",
   "execution_count": 19,
   "metadata": {},
   "outputs": [
    {
     "name": "stdout",
     "output_type": "stream",
     "text": [
      "313/313 [==============================] - 2s 6ms/step - loss: 0.4448 - accuracy: 0.8948\n"
     ]
    },
    {
     "data": {
      "text/plain": [
       "[0.4448123574256897, 0.8948000073432922]"
      ]
     },
     "execution_count": 19,
     "metadata": {},
     "output_type": "execute_result"
    }
   ],
   "source": [
    "# 모델 평가 loss: 0.0777 - accuracy: 0.9703 - val_loss: 0.4561 - val_accuracy: 0.8917\n",
    "model.evaluate(x_test, y_test)"
   ]
  },
  {
   "cell_type": "markdown",
   "metadata": {},
   "source": [
    "### LeNet5 + cifar10 + dropout"
   ]
  },
  {
   "cell_type": "code",
   "execution_count": 28,
   "metadata": {},
   "outputs": [
    {
     "name": "stdout",
     "output_type": "stream",
     "text": [
      "(50000, 32, 32, 3) (50000, 10)\n",
      "(10000, 32, 32, 3) (10000, 10)\n"
     ]
    }
   ],
   "source": [
    "import tensorflow as tf\n",
    "# 데이터 준비\n",
    "(x_train, y_train), (x_test, y_test) = tf.keras.datasets.cifar10.load_data()\n",
    "\n",
    "# normalization\n",
    "x_train = x_train/ 255\n",
    "x_test = x_test / 255\n",
    "\n",
    "# 원핫인코딩\n",
    "y_train = tf.keras.utils.to_categorical(y_train)\n",
    "y_test = tf.keras.utils.to_categorical(y_test)\n",
    "\n",
    "print(x_train.shape, y_train.shape)\n",
    "print(x_test.shape, y_test.shape)\n",
    "\n"
   ]
  },
  {
   "cell_type": "code",
   "execution_count": 29,
   "metadata": {},
   "outputs": [
    {
     "name": "stdout",
     "output_type": "stream",
     "text": [
      "Model: \"model_5\"\n",
      "_________________________________________________________________\n",
      " Layer (type)                Output Shape              Param #   \n",
      "=================================================================\n",
      " input_12 (InputLayer)       [(None, 32, 32, 3)]       0         \n",
      "                                                                 \n",
      " conv2d_15 (Conv2D)          (None, 28, 28, 6)         456       \n",
      "                                                                 \n",
      " batch_normalization_21 (Bat  (None, 28, 28, 6)        24        \n",
      " chNormalization)                                                \n",
      "                                                                 \n",
      " activation_19 (Activation)  (None, 28, 28, 6)         0         \n",
      "                                                                 \n",
      " conv2d_16 (Conv2D)          (None, 14, 14, 6)         906       \n",
      "                                                                 \n",
      " batch_normalization_22 (Bat  (None, 14, 14, 6)        24        \n",
      " chNormalization)                                                \n",
      "                                                                 \n",
      " activation_20 (Activation)  (None, 14, 14, 6)         0         \n",
      "                                                                 \n",
      " conv2d_17 (Conv2D)          (None, 10, 10, 16)        2416      \n",
      "                                                                 \n",
      " batch_normalization_23 (Bat  (None, 10, 10, 16)       64        \n",
      " chNormalization)                                                \n",
      "                                                                 \n",
      " activation_21 (Activation)  (None, 10, 10, 16)        0         \n",
      "                                                                 \n",
      " conv2d_18 (Conv2D)          (None, 5, 5, 16)          6416      \n",
      "                                                                 \n",
      " batch_normalization_24 (Bat  (None, 5, 5, 16)         64        \n",
      " chNormalization)                                                \n",
      "                                                                 \n",
      " activation_22 (Activation)  (None, 5, 5, 16)          0         \n",
      "                                                                 \n",
      " flatten_6 (Flatten)         (None, 400)               0         \n",
      "                                                                 \n",
      " dropout (Dropout)           (None, 400)               0         \n",
      "                                                                 \n",
      " dense_15 (Dense)            (None, 120)               48120     \n",
      "                                                                 \n",
      " batch_normalization_25 (Bat  (None, 120)              480       \n",
      " chNormalization)                                                \n",
      "                                                                 \n",
      " activation_23 (Activation)  (None, 120)               0         \n",
      "                                                                 \n",
      " dense_16 (Dense)            (None, 84)                10164     \n",
      "                                                                 \n",
      " batch_normalization_26 (Bat  (None, 84)               336       \n",
      " chNormalization)                                                \n",
      "                                                                 \n",
      " activation_24 (Activation)  (None, 84)                0         \n",
      "                                                                 \n",
      " dense_17 (Dense)            (None, 10)                850       \n",
      "                                                                 \n",
      "=================================================================\n",
      "Total params: 70,320\n",
      "Trainable params: 69,824\n",
      "Non-trainable params: 496\n",
      "_________________________________________________________________\n"
     ]
    }
   ],
   "source": [
    "# 모델 생성\n",
    "# Dorpout : 지정된 확률의 개수만큼 노드를 랜덤하게 제외하고 학습을 진행 \n",
    "# -> overfitting 방지, 성능향상, 앙상블 효과\n",
    "# -> 데이터가 충분하다면 최대한 높게 줄수록 좋다(0.4~0.6)\n",
    "X = tf.keras.Input(shape=[32, 32, 3])\n",
    "\n",
    "H = tf.keras.layers.Conv2D(6, 5)(X)\n",
    "H = tf.keras.layers.BatchNormalization()(H)\n",
    "H = tf.keras.layers.Activation(\"swish\")(H)\n",
    "# H = tf.keras.layers.MaxPool2D()(H)\n",
    "H = tf.keras.layers.Conv2D(6, 5, strides=2, padding=\"same\")(H)\n",
    "H = tf.keras.layers.BatchNormalization()(H)\n",
    "H = tf.keras.layers.Activation(\"swish\")(H)\n",
    "\n",
    "H = tf.keras.layers.Conv2D(16, 5)(H)\n",
    "H = tf.keras.layers.BatchNormalization()(H)\n",
    "H = tf.keras.layers.Activation(\"swish\")(H)\n",
    "# H = tf.keras.layers.MaxPool2D()(H)\n",
    "H = tf.keras.layers.Conv2D(16, 5, strides=2, padding=\"same\")(H)\n",
    "H = tf.keras.layers.BatchNormalization()(H)\n",
    "H = tf.keras.layers.Activation(\"swish\")(H)\n",
    "\n",
    "H = tf.keras.layers.Flatten()(H)\n",
    "\n",
    "H = tf.keras.layers.Dropout(0.6)(H)\n",
    "H = tf.keras.layers.Dense(120)(H)\n",
    "H = tf.keras.layers.BatchNormalization()(H)\n",
    "H = tf.keras.layers.Activation(\"swish\")(H)\n",
    "\n",
    "H = tf.keras.layers.Dense(84)(H)\n",
    "H = tf.keras.layers.BatchNormalization()(H)\n",
    "H = tf.keras.layers.Activation(\"swish\")(H)\n",
    "\n",
    "Y = tf.keras.layers.Dense(10, activation=\"softmax\")(H)\n",
    "\n",
    "model = tf.keras.Model(X, Y)\n",
    "model.compile(loss=\"categorical_crossentropy\", metrics=\"accuracy\")\n",
    "model.summary()"
   ]
  },
  {
   "cell_type": "code",
   "execution_count": null,
   "metadata": {},
   "outputs": [],
   "source": [
    "# 모델 학습\n",
    "# EarlyStopping : 오버 피팅이 일어나면 멈추고 싶다! 가장 그럴듯한 모델을 빼서 쓰고 싶다.\n",
    "es = tf.keras.callbacks.EarlyStopping(patience=5, restore_best_weights=True)\n",
    "model.fit(x_train, y_train, epochs=100000, batch_size=128, validation_split=0.1, callbacks=[es])"
   ]
  },
  {
   "cell_type": "markdown",
   "metadata": {},
   "source": [
    "#### Data Augmentation\n",
    "- 256x256 ,이미지, 10,000장을 학습용 이미지로 제공\n",
    "\n",
    "- 만장이라는 데이터는 작다.\n",
    "만장을 뻥튀기 하자.\n",
    "\n",
    "- 256x256 px을 224x224로 잘라서 학습으로 사용. 한 픽셀씩 옮겨서 자르면 아까와 다른 이미지. 왜냐면 컴퓨터는 숫자로 이해하기 때문에."
   ]
  },
  {
   "cell_type": "code",
   "execution_count": 31,
   "metadata": {},
   "outputs": [],
   "source": [
    "# ImageDataGenerator : 기존 이미지를 변형해서 새로운 이미지를 생성해주는 도구\n",
    "# -> overfitting 방지\n",
    "datagen = tf.keras.preprocessing.image.ImageDataGenerator(\n",
    "    width_shift_range = 0.1,\n",
    "    height_shift_range = 0.1,\n",
    "    horizontal_flip = False,\n",
    "    rotation_range = 0.1\n",
    ")\n",
    "\n",
    "train_ds = datagen.flow(x_train[:40000], y_train[:40000], batch_size=128)\n",
    "valid_ds = tf.data.Dataset.from_tensor_slices((x_train[40000:], y_train[40000:])).batch(128)"
   ]
  },
  {
   "cell_type": "code",
   "execution_count": 32,
   "metadata": {},
   "outputs": [
    {
     "name": "stdout",
     "output_type": "stream",
     "text": [
      "(128, 32, 32, 3) (128, 10)\n"
     ]
    },
    {
     "data": {
      "image/png": "[encoded data removed]",
      "text/plain": [
       "<Figure size 432x288 with 1 Axes>"
      ]
     },
     "metadata": {
      "needs_background": "light"
     },
     "output_type": "display_data"
    }
   ],
   "source": [
    "x,y = next(iter(train_ds))\n",
    "print(x.shape, y.shape)\n",
    "\n",
    "import matplotlib.pyplot as plt\n",
    "plt.imshow(x[0])\n",
    "plt.show()"
   ]
  },
  {
   "cell_type": "code",
   "execution_count": null,
   "metadata": {},
   "outputs": [],
   "source": [
    "# 모델 학습\n",
    "# 먼저 이미지로 학습한 다음, Augmentation을 걸어서 학습을 시킴. \n",
    "# 처음부터 Augmentation으로 하면 시간이 너무 많이 걸린다.\n",
    "\n",
    "# model.fit(train_ds, validation_data=valid_ds, epochs=10)\n",
    "\n",
    "es = tf.keras.callbacks.EarlyStopping(patience=5, restore_best_weights=True)\n",
    "model.fit(x_train, y_train, epochs=100000, batch_size=128, validation_split=0.1, callbacks=[es])"
   ]
  },
  {
   "cell_type": "code",
   "execution_count": null,
   "metadata": {},
   "outputs": [],
   "source": [
    "# 모델 평가\n",
    "#  loss: 0.8446 - accuracy: 0.7041 [0.8445699214935303, 0.7041000127792358]\n",
    "model.evaluate(x_test, y_test)"
   ]
  },
  {
   "cell_type": "markdown",
   "metadata": {},
   "source": [
    "## CNN Models - VGGNET\n",
    "- 3x3 convolution, stride 1 활용\n",
    "- 간단한 구조로 좋은 성과, 파라미터 개수가 많음"
   ]
  },
  {
   "cell_type": "code",
   "execution_count": null,
   "metadata": {},
   "outputs": [],
   "source": [
    "import tensorflow as tf\n",
    "\n",
    "(x_train, y_train), (x_test, y_test) = tf.keras.datasets.cifar10.load_data()\n",
    "print(x_train.shape, y_train.shape)\n",
    "print(x_test.shape, y_test.shape)\n",
    "\n",
    "x_train = x_train / 255\n",
    "x_test = x_test / 255\n",
    "\n",
    "# y_train = tf.keras.utils.to_categorical(y_train)\n",
    "# y_test = tf.keras.utils.to_categorical(y_test)\n",
    "\n",
    "print(x_train.shape, y_train.shape)\n",
    "print(x_test.shape, y_test.shape)"
   ]
  },
  {
   "cell_type": "code",
   "execution_count": null,
   "metadata": {},
   "outputs": [],
   "source": [
    "def vgg_block(n_filters, n_layers, net):\n",
    "    for i in range(n_layers):\n",
    "        net = tf.keras.layers.Conv2D(n_filters, 3, padding=\"same\")(net)\n",
    "        net = tf.keras.layers.BatchNormalization()(net)\n",
    "        net = tf.keras.layers.Activation('swish')(net)\n",
    "    # net = tf.keras.layers.MaxPool2D()(net)\n",
    "    net = tf.keras.layers.Conv2D(n_filters, 3, strides=2, padding=\"same\")(net)\n",
    "    return net"
   ]
  },
  {
   "cell_type": "markdown",
   "metadata": {},
   "source": [
    "### VGG 13"
   ]
  },
  {
   "cell_type": "code",
   "execution_count": null,
   "metadata": {},
   "outputs": [],
   "source": [
    "# 모델 생성\n",
    "X = tf.keras.Input(shape=[32, 32, 3])\n",
    "\n",
    "H = vgg_block(64, 2, X)\n",
    "H = vgg_block(128, 2, H)\n",
    "H = vgg_block(256, 2, H)\n",
    "H = vgg_block(512, 2, H)\n",
    "H = vgg_block(512, 2, H)\n",
    "\n",
    "H = tf.keras.layers.Flatten()(H)\n",
    "H = tf.keras.layers.Dense(4096)(H)\n",
    "H = tf.keras.layers.BatchNormalization()(H)\n",
    "H = tf.keras.layers.Activation('swish')(H)\n",
    "H = tf.keras.layers.Dense(4096)(H)\n",
    "H = tf.keras.layers.BatchNormalization()(H)\n",
    "H = tf.keras.layers.Activation('swish')(H)\n",
    "H = tf.keras.layers.Dense(1000)(H)\n",
    "H = tf.keras.layers.BatchNormalization()(H)\n",
    "H = tf.keras.layers.Activation('swish')(H)\n",
    "\n",
    "Y = tf.keras.layers.Dense(10, activation='softmax')(H)\n",
    "\n",
    "model = tf.keras.Model(X, Y)\n",
    "model.compile(loss=\"sparse_categorical_crossentropy\", metrics=\"accuracy\")\n",
    "model.summary()"
   ]
  },
  {
   "cell_type": "code",
   "execution_count": null,
   "metadata": {},
   "outputs": [],
   "source": [
    "# 모델 학습\n",
    "es = tf.keras.callbacks.EarlyStopping(patience=10, restore_best_weights=True)\n",
    "model.fit(x_train, y_train, epochs=1000000, validation_split=0.1, callbacks=[es])"
   ]
  },
  {
   "cell_type": "code",
   "execution_count": null,
   "metadata": {},
   "outputs": [],
   "source": [
    "# 모델 평가\n",
    "model.evaluate(x_test, y_test)"
   ]
  },
  {
   "cell_type": "markdown",
   "metadata": {},
   "source": [
    "### VGG 19"
   ]
  },
  {
   "cell_type": "code",
   "execution_count": null,
   "metadata": {},
   "outputs": [],
   "source": [
    "# 모델 생성\n",
    "X = tf.keras.Input(shape=[32, 32, 3])\n",
    "\n",
    "H = vgg_block(64, 2, X)\n",
    "H = vgg_block(128, 2, H)\n",
    "H = vgg_block(256, 4, H)\n",
    "H = tf.keras.layers.Dropout(0.5)(H)\n",
    "H = vgg_block(512, 4, H)\n",
    "H = vgg_block(512, 4, H)\n",
    "H = tf.keras.layers.Dropout(0.5)(H)\n",
    "\n",
    "H = tf.keras.layers.Flatten()(H)\n",
    "H = tf.keras.layers.Dense(4096)(H)\n",
    "H = tf.keras.layers.BatchNormalization()(H)\n",
    "H = tf.keras.layers.Activation('swish')(H)\n",
    "H = tf.keras.layers.Dropout(0.6)(H)\n",
    "H = tf.keras.layers.Dense(4096)(H)\n",
    "H = tf.keras.layers.BatchNormalization()(H)\n",
    "H = tf.keras.layers.Activation('swish')(H)\n",
    "H = tf.keras.layers.Dropout(0.6)(H)\n",
    "H = tf.keras.layers.Dense(1000)(H)\n",
    "H = tf.keras.layers.BatchNormalization()(H)\n",
    "H = tf.keras.layers.Activation('swish')(H)\n",
    "\n",
    "Y = tf.keras.layers.Dense(10, activation='softmax')(H)\n",
    "\n",
    "model = tf.keras.Model(X, Y)\n",
    "model.compile(loss=\"sparse_categorical_crossentropy\", metrics=\"accuracy\")\n",
    "model.summary()"
   ]
  },
  {
   "cell_type": "code",
   "execution_count": null,
   "metadata": {},
   "outputs": [],
   "source": [
    "# 모델 학습\n",
    "es = tf.keras.callbacks.EarlyStopping(patience=10, restore_best_weights=True)\n",
    "model.fit(x_train, y_train, epochs=1000000, validation_split=0.1, callbacks=[es])"
   ]
  },
  {
   "cell_type": "code",
   "execution_count": null,
   "metadata": {},
   "outputs": [],
   "source": [
    "datagen = tf.keras.preprocessing.image.ImageDataGenerator(\n",
    "    width_shift_range=0.1,\n",
    "    height_shift_range=0.1,\n",
    "    horizontal_flip=False,\n",
    "    rotation_range=0.1,\n",
    ")\n",
    "train_ds = datagen.flow(x_train[:40000], y_train[:40000], batch_size=128)\n",
    "valid_ds = tf.data.Dataset.from_tensor_slices((x_train[40000:], y_train[40000:])).batch(128)"
   ]
  },
  {
   "cell_type": "code",
   "execution_count": null,
   "metadata": {},
   "outputs": [],
   "source": [
    "# 모델 학습\n",
    "es = tf.keras.callbacks.EarlyStopping(patience=10, restore_best_weights=True)\n",
    "result = model.fit(train_ds, validation_data=valid_ds, epochs=100000, callbacks=[es])"
   ]
  },
  {
   "cell_type": "code",
   "execution_count": null,
   "metadata": {},
   "outputs": [],
   "source": [
    "# 모델 평가 loss: 0.6141 - accuracy: 0.8112 [0.6141185164451599, 0.8112000226974487]\n",
    "model.evaluate(x_test, y_test)"
   ]
  },
  {
   "cell_type": "code",
   "execution_count": null,
   "metadata": {},
   "outputs": [],
   "source": [
    "import pandas as pd\n",
    "pd.DataFrame(result.history)"
   ]
  },
  {
   "cell_type": "code",
   "execution_count": null,
   "metadata": {},
   "outputs": [],
   "source": [
    "import matplotlib.pyplot as plt\n",
    "# plt.plot(result.history['loss'])\n",
    "# plt.plot(result.history['val_loss'])\n",
    "plt.plot([10, 5, 3, 2, 1])\n",
    "plt.plot([7, 5, 4, 3, 4])\n",
    "plt.legend(['loss', 'val_loss'])"
   ]
  },
  {
   "cell_type": "code",
   "execution_count": null,
   "metadata": {},
   "outputs": [],
   "source": [
    "# 모델 저장\n",
    "model.save(\"vgg_model.h5\", include_optimizer=True)"
   ]
  },
  {
   "cell_type": "code",
   "execution_count": null,
   "metadata": {},
   "outputs": [],
   "source": [
    "# 저장된 모델 로드\n",
    "vgg = tf.keras.models.load_model('vgg_model.h5')\n",
    "vgg.evaluate(x_test, y_test)"
   ]
  },
  {
   "cell_type": "markdown",
   "metadata": {},
   "source": [
    "## CNN Models - ResNet"
   ]
  },
  {
   "cell_type": "markdown",
   "metadata": {},
   "source": [
    "### ResNet 34"
   ]
  },
  {
   "cell_type": "code",
   "execution_count": null,
   "metadata": {},
   "outputs": [],
   "source": [
    "def residual_block_2(n_filter, x):\n",
    "    h = tf.keras.layers.Conv2D(n_filter, 3, padding=\"same\")(x)\n",
    "    h = tf.keras.layers.BatchNormalization()(h)\n",
    "    h = tf.keras.layers.Activation(\"swish\")(h)\n",
    "\n",
    "    h = tf.keras.layers.Conv2D(n_filter, 3, padding=\"same\")(h)\n",
    "    h = tf.keras.layers.BatchNormalization()(h)\n",
    "\n",
    "    # x.shape (8, 8, 64)\n",
    "    if x.shape[-1] != n_filter:\n",
    "        x = tf.keras.layers.Conv2D(n_filter, 1, padding=\"same\")(x)\n",
    "\n",
    "    h = tf.keras.layers.Add()([x, h])\n",
    "    h = tf.keras.layers.Activation(\"swish\")(h)\n",
    "    return h\n"
   ]
  },
  {
   "cell_type": "code",
   "execution_count": null,
   "metadata": {},
   "outputs": [],
   "source": [
    "X = tf.keras.Input(shape=[32, 32, 3])\n",
    "H = tf.keras.layers.Conv2D(64, 5, padding=\"same\")(X)\n",
    "H = tf.keras.layers.BatchNormalization()(H)\n",
    "H = tf.keras.layers.Activation(\"swish\")(H)\n",
    "H = tf.keras.layers.MaxPool2D()(H)\n",
    "\n",
    "for i in range(3):\n",
    "    H = residual_block_2(64, H)\n",
    "H = tf.keras.layers.MaxPool2D()(H)\n",
    "\n",
    "for i in range(4):\n",
    "    H = residual_block_2(128, H)\n",
    "H = tf.keras.layers.MaxPool2D()(H)\n",
    "\n",
    "for i in range(6):\n",
    "    H = residual_block_2(256, H)\n",
    "H = tf.keras.layers.MaxPool2D()(H)\n",
    "\n",
    "for i in range(3):\n",
    "    H = residual_block_2(512, H)\n",
    "H = tf.keras.layers.AvgPool2D()(H)\n",
    "\n",
    "H = tf.keras.layers.Flatten()(H)\n",
    "H = tf.keras.layers.Dense(1000)(H)\n",
    "H = tf.keras.layers.BatchNormalization()(H)\n",
    "H = tf.keras.layers.Activation(\"swish\")(H)\n",
    "Y = tf.keras.layers.Dense(10, activation=\"softmax\")(H)\n",
    "\n",
    "model = tf.keras.Model(X, Y)\n",
    "model.compile(loss=\"sparse_categorical_crossentropy\", metrics=\"accuracy\")\n",
    "model.summary()"
   ]
  },
  {
   "cell_type": "code",
   "execution_count": null,
   "metadata": {},
   "outputs": [],
   "source": [
    "# 모델 학습 \n",
    "es = tf.keras.callbacks.EarlyStopping(patience=5, restore_best_weights=True)\n",
    "model.fit(x_train, y_train, epochs=1000000, validation_split=0.1, callbacks=[es])"
   ]
  },
  {
   "cell_type": "code",
   "execution_count": null,
   "metadata": {},
   "outputs": [],
   "source": [
    "# 모델 평가  loss: 0.8578 - accuracy: 0.7177 [0.8577784299850464, 0.7177000045776367]\n",
    "model.evaluate(x_test, y_test)"
   ]
  },
  {
   "cell_type": "markdown",
   "metadata": {},
   "source": [
    "### ResNet 152"
   ]
  },
  {
   "cell_type": "code",
   "execution_count": null,
   "metadata": {},
   "outputs": [],
   "source": [
    "def residual_block_3(n_filter, x):\n",
    "    h = tf.keras.layers.Conv2D(n_filter // 4, 1, padding=\"same\")(x)\n",
    "    h = tf.keras.layers.BatchNormalization()(h)\n",
    "    h = tf.keras.layers.Activation(\"swish\")(h)\n",
    "\n",
    "    h = tf.keras.layers.Conv2D(n_filter // 4, 3, padding=\"same\")(h)\n",
    "    h = tf.keras.layers.BatchNormalization()(h)\n",
    "    h = tf.keras.layers.Activation(\"swish\")(h)\n",
    "\n",
    "    h = tf.keras.layers.Conv2D(n_filter, 1, padding=\"same\")(h)\n",
    "    h = tf.keras.layers.BatchNormalization()(h)\n",
    "\n",
    "    # x.shape (8, 8, 64)\n",
    "    if x.shape[-1] != n_filter:\n",
    "        x = tf.keras.layers.Conv2D(n_filter, 1, padding=\"same\")(x)\n",
    "\n",
    "    h = tf.keras.layers.Add()([x, h])\n",
    "    h = tf.keras.layers.Activation(\"swish\")(h)\n",
    "    return h"
   ]
  },
  {
   "cell_type": "code",
   "execution_count": null,
   "metadata": {},
   "outputs": [],
   "source": [
    "X = tf.keras.Input(shape=[32, 32, 3])\n",
    "H = tf.keras.layers.Conv2D(64, 5, padding=\"same\")(X)\n",
    "H = tf.keras.layers.BatchNormalization()(H)\n",
    "H = tf.keras.layers.Activation(\"swish\")(H)\n",
    "# H = tf.keras.layers.MaxPool2D()(H)\n",
    "H = tf.keras.layers.Conv2D(64, 3, strides=2, padding=\"same\")(H)\n",
    "H = tf.keras.layers.Dropout(0.6)(H)\n",
    "\n",
    "for i in range(3):\n",
    "    H = residual_block_3(256, H)\n",
    "# H = tf.keras.layers.MaxPool2D()(H)\n",
    "H = tf.keras.layers.Conv2D(256, 3, strides=2, padding=\"same\")(H)\n",
    "\n",
    "for i in range(8):\n",
    "    H = residual_block_3(512, H)\n",
    "# H = tf.keras.layers.MaxPool2D()(H)\n",
    "H = tf.keras.layers.Conv2D(512, 3, strides=2, padding=\"same\")(H)\n",
    "H = tf.keras.layers.Dropout(0.6)(H)\n",
    "\n",
    "for i in range(36):\n",
    "    H = residual_block_3(1024, H)\n",
    "# H = tf.keras.layers.MaxPool2D()(H)\n",
    "H = tf.keras.layers.Conv2D(1024, 3, strides=2, padding=\"same\")(H)\n",
    "H = tf.keras.layers.Dropout(0.6)(H)\n",
    "\n",
    "for i in range(3):\n",
    "    H = residual_block_3(2048, H)\n",
    "# H = tf.keras.layers.AvgPool2D()(H)\n",
    "H = tf.keras.layers.Conv2D(2048, 3, strides=2, padding=\"same\")(H)\n",
    "\n",
    "H = tf.keras.layers.Dropout(0.6)(H)\n",
    "H = tf.keras.layers.Flatten()(H)\n",
    "H = tf.keras.layers.Dense(1000)(H)\n",
    "H = tf.keras.layers.BatchNormalization()(H)\n",
    "H = tf.keras.layers.Activation(\"swish\")(H)\n",
    "Y = tf.keras.layers.Dense(10, activation=\"softmax\")(H)\n",
    "\n",
    "model = tf.keras.Model(X, Y)\n",
    "model.compile(loss=\"sparse_categorical_crossentropy\", metrics=\"accuracy\")\n",
    "model.summary()"
   ]
  },
  {
   "cell_type": "code",
   "execution_count": null,
   "metadata": {},
   "outputs": [],
   "source": [
    "# 모델 학습\n",
    "es = tf.keras.callbacks.EarlyStopping(patience=10, restore_best_weights=True)\n",
    "model.fit(x_train, y_train, epochs=1000000, batch_size=128, validation_split=0.1, callbacks=[es])"
   ]
  },
  {
   "cell_type": "code",
   "execution_count": null,
   "metadata": {},
   "outputs": [],
   "source": [
    "datagen = tf.keras.preprocessing.image.ImageDataGenerator(\n",
    "    width_shift_range=0.1,\n",
    "    height_shift_range=0.1,\n",
    "    horizontal_flip=False,\n",
    "    rotation_range=0.1,\n",
    ")\n",
    "train_ds = datagen.flow(x_train[:40000], y_train[:40000], batch_size=128)\n",
    "valid_ds = tf.data.Dataset.from_tensor_slices((x_train[40000:], y_train[40000:])).batch(128)"
   ]
  },
  {
   "cell_type": "code",
   "execution_count": null,
   "metadata": {},
   "outputs": [],
   "source": [
    "# 모델 학습\n",
    "es = tf.keras.callbacks.EarlyStopping(patience=10, restore_best_weights=True)\n",
    "model.fit(train_ds, validation_data=valid_ds, epochs=100000, callbacks=[es])"
   ]
  },
  {
   "cell_type": "code",
   "execution_count": null,
   "metadata": {},
   "outputs": [],
   "source": [
    "# 모델 평가 loss: 0.5395 - accuracy: 0.8311 [0.5395180583000183, 0.8310999870300293]\n",
    "model.evaluate(x_test, y_test)"
   ]
  }
 ],
 "metadata": {
  "kernelspec": {
   "display_name": "Python 3.9.13 64-bit (windows store)",
   "language": "python",
   "name": "python3"
  },
  "language_info": {
   "codemirror_mode": {
    "name": "ipython",
    "version": 3
   },
   "file_extension": ".py",
   "mimetype": "text/x-python",
   "name": "python",
   "nbconvert_exporter": "python",
   "pygments_lexer": "ipython3",
   "version": "3.9.13"
  },
  "orig_nbformat": 4,
  "vscode": {
   "interpreter": {
    "hash": "81d63421dc4ff2febe5ae8ebd642fed2f46fe94c0192df0a316b0a71a90664ce"
   }
  }
 },
 "nbformat": 4,
 "nbformat_minor": 2
}
