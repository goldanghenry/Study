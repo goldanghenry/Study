{
 "cells": [
  {
   "cell_type": "markdown",
   "metadata": {},
   "source": [
    "## CNN Models - LeNet5"
   ]
  },
  {
   "cell_type": "markdown",
   "metadata": {},
   "source": [
    "### fashion mnist - 실습"
   ]
  },
  {
   "cell_type": "code",
   "execution_count": 2,
   "metadata": {},
   "outputs": [
    {
     "name": "stdout",
     "output_type": "stream",
     "text": [
      "(60000, 28, 28, 1) (60000, 10)\n",
      "(10000, 28, 28, 1) (10000, 10)\n"
     ]
    }
   ],
   "source": [
    "import tensorflow as tf\n",
    "\n",
    "# 데이터 준비\n",
    "(x_train, y_train), (x_test, y_test) = tf.keras.datasets.fashion_mnist.load_data()\n",
    "\n",
    "x_train = x_train.reshape(60000, 28, 28, 1)\n",
    "x_test = x_test.reshape(10000,28,28,1)\n",
    "\n",
    "# 텐서플로우의 원핫 인코딩 함수 ( 또는 판다스의 get_dummies)\n",
    "y_train = tf.keras.utils.to_categorical(y_train)\n",
    "y_test = tf.keras.utils.to_categorical(y_test)\n",
    "\n",
    "print(x_train.shape, y_train.shape)\n",
    "print(x_test.shape, y_test.shape)"
   ]
  },
  {
   "cell_type": "code",
   "execution_count": 3,
   "metadata": {},
   "outputs": [
    {
     "name": "stdout",
     "output_type": "stream",
     "text": [
      "Model: \"model\"\n",
      "_________________________________________________________________\n",
      " Layer (type)                Output Shape              Param #   \n",
      "=================================================================\n",
      " input_1 (InputLayer)        [(None, 28, 28, 1)]       0         \n",
      "                                                                 \n",
      " conv2d_1 (Conv2D)           (None, 24, 24, 3)         78        \n",
      "                                                                 \n",
      " max_pooling2d_1 (MaxPooling  (None, 12, 12, 3)        0         \n",
      " 2D)                                                             \n",
      "                                                                 \n",
      " flatten (Flatten)           (None, 432)               0         \n",
      "                                                                 \n",
      " dense (Dense)               (None, 84)                36372     \n",
      "                                                                 \n",
      " dense_1 (Dense)             (None, 10)                850       \n",
      "                                                                 \n",
      "=================================================================\n",
      "Total params: 37,300\n",
      "Trainable params: 37,300\n",
      "Non-trainable params: 0\n",
      "_________________________________________________________________\n"
     ]
    }
   ],
   "source": [
    "# 모델 생성\n",
    "X = tf.keras.Input(shape=[28,28,1])\n",
    "H = tf.keras.layers.Conv2D(3,5,activation=\"swish\") ( X)\n",
    "H = tf.keras.layers.MaxPool2D()(H)\n",
    "H = tf.keras.layers.Conv2D(3,5,activation=\"swish\") ( X)\n",
    "H = tf.keras.layers.MaxPool2D()(H)\n",
    "H = tf.keras.layers.Flatten() (H)\n",
    "H = tf.keras.layers.Dense(84, activation=\"swish\")(H)\n",
    "Y = tf.keras.layers.Dense(10,activation=\"softmax\") (H)\n",
    "\n",
    "model = tf.keras.Model(X,Y)\n",
    "model.compile(loss=\"categorical_crossentropy\", metrics=\"accuracy\")\n",
    "model.summary()"
   ]
  },
  {
   "cell_type": "code",
   "execution_count": 4,
   "metadata": {},
   "outputs": [
    {
     "name": "stdout",
     "output_type": "stream",
     "text": [
      "Epoch 1/20\n",
      "422/422 [==============================] - 9s 20ms/step - loss: 2.7840 - accuracy: 0.7128 - val_loss: 0.5876 - val_accuracy: 0.8013\n",
      "Epoch 2/20\n",
      "422/422 [==============================] - 9s 21ms/step - loss: 0.5269 - accuracy: 0.8182 - val_loss: 0.4953 - val_accuracy: 0.8357\n",
      "Epoch 3/20\n",
      "422/422 [==============================] - 9s 21ms/step - loss: 0.4450 - accuracy: 0.8431 - val_loss: 0.4740 - val_accuracy: 0.8345\n",
      "Epoch 4/20\n",
      "422/422 [==============================] - 10s 23ms/step - loss: 0.3997 - accuracy: 0.8589 - val_loss: 0.4835 - val_accuracy: 0.8530\n",
      "Epoch 5/20\n",
      "422/422 [==============================] - 10s 25ms/step - loss: 0.3735 - accuracy: 0.8675 - val_loss: 0.4243 - val_accuracy: 0.8640\n",
      "Epoch 6/20\n",
      "422/422 [==============================] - 10s 23ms/step - loss: 0.3578 - accuracy: 0.8726 - val_loss: 0.3892 - val_accuracy: 0.8645\n",
      "Epoch 7/20\n",
      "422/422 [==============================] - 10s 24ms/step - loss: 0.3431 - accuracy: 0.8770 - val_loss: 0.4089 - val_accuracy: 0.8643\n",
      "Epoch 8/20\n",
      "422/422 [==============================] - 10s 23ms/step - loss: 0.3296 - accuracy: 0.8807 - val_loss: 0.4011 - val_accuracy: 0.8620\n",
      "Epoch 9/20\n",
      "422/422 [==============================] - 10s 25ms/step - loss: 0.3208 - accuracy: 0.8851 - val_loss: 0.4036 - val_accuracy: 0.8662\n",
      "Epoch 10/20\n",
      "422/422 [==============================] - 10s 24ms/step - loss: 0.3132 - accuracy: 0.8867 - val_loss: 0.4011 - val_accuracy: 0.8647\n",
      "Epoch 11/20\n",
      "422/422 [==============================] - 11s 25ms/step - loss: 0.3052 - accuracy: 0.8888 - val_loss: 0.4031 - val_accuracy: 0.8582\n",
      "Epoch 12/20\n",
      "422/422 [==============================] - 10s 24ms/step - loss: 0.2992 - accuracy: 0.8893 - val_loss: 0.4209 - val_accuracy: 0.8732\n",
      "Epoch 13/20\n",
      "422/422 [==============================] - 11s 25ms/step - loss: 0.2966 - accuracy: 0.8932 - val_loss: 0.4042 - val_accuracy: 0.8725\n",
      "Epoch 14/20\n",
      "422/422 [==============================] - 10s 25ms/step - loss: 0.2929 - accuracy: 0.8936 - val_loss: 0.4100 - val_accuracy: 0.8733\n",
      "Epoch 15/20\n",
      "422/422 [==============================] - 10s 23ms/step - loss: 0.2850 - accuracy: 0.8957 - val_loss: 0.4249 - val_accuracy: 0.8702\n",
      "Epoch 16/20\n",
      "422/422 [==============================] - 10s 23ms/step - loss: 0.2829 - accuracy: 0.8973 - val_loss: 0.4645 - val_accuracy: 0.8548\n",
      "Epoch 17/20\n",
      "422/422 [==============================] - 10s 25ms/step - loss: 0.2782 - accuracy: 0.8981 - val_loss: 0.4301 - val_accuracy: 0.8683\n",
      "Epoch 18/20\n",
      "422/422 [==============================] - 10s 25ms/step - loss: 0.2748 - accuracy: 0.8992 - val_loss: 0.4752 - val_accuracy: 0.8682\n",
      "Epoch 19/20\n",
      "422/422 [==============================] - 10s 24ms/step - loss: 0.2693 - accuracy: 0.9011 - val_loss: 0.4144 - val_accuracy: 0.8718\n",
      "Epoch 20/20\n",
      "422/422 [==============================] - 10s 23ms/step - loss: 0.2691 - accuracy: 0.9032 - val_loss: 0.4205 - val_accuracy: 0.8695\n"
     ]
    },
    {
     "data": {
      "text/plain": [
       "<keras.callbacks.History at 0x23e38d96a60>"
      ]
     },
     "execution_count": 4,
     "metadata": {},
     "output_type": "execute_result"
    }
   ],
   "source": [
    "# 모델 학습\n",
    "model.fit(x_train, y_train, epochs=20, batch_size=128, validation_split=0.1)"
   ]
  },
  {
   "cell_type": "markdown",
   "metadata": {},
   "source": [
    "### LeNet5"
   ]
  },
  {
   "cell_type": "code",
   "execution_count": null,
   "metadata": {},
   "outputs": [],
   "source": [
    "# 모델 생성\n",
    "X = tf.keras.Input(shape=[28,28,1])\n",
    "\n",
    "H = tf.keras.layers.Conv2D(6,5,padding='same')(X)\n",
    "H = tf.keras.layers.BatchNormalization()(H)\n",
    "H = tf.keras.layers.Activation(\"swish\")(H)\n",
    "H = tf.keras.layers.MaxPool2D()(H)\n",
    "\n",
    "H = tf.keras.layers.Conv2D(16,5)(H)\n",
    "H = tf.keras.layers.BatchNormalization()(H)\n",
    "H = tf.keras.layers.Activation(\"swish\")(H)\n",
    "H = tf.keras.layers.MaxPool2D()(H)\n",
    "\n",
    "H = tf.keras.layers.Flatten()(H)\n",
    "\n",
    "H = tf.keras.layers.Dense(120)(H)\n",
    "H = tf.keras.layers.BatchNormalization()(H)\n",
    "H = tf.keras.layers.Activation(\"swish\")(H)\n",
    "\n",
    "H = tf.keras.layers.Dense(84)(H)\n",
    "H = tf.keras.layers.BatchNormalization()(H)\n",
    "H = tf.keras.layers.Activation(\"swish\")(H)\n",
    "\n",
    "Y = tf.keras.layers.Dense(10, activation='softmax')(H)\n",
    "\n",
    "model = tf.keras.Model(X,Y)\n",
    "model.compile(loss='categorical_crossentropy', metrics='accuracy')\n",
    "model.summary()"
   ]
  },
  {
   "cell_type": "code",
   "execution_count": 18,
   "metadata": {},
   "outputs": [
    {
     "name": "stdout",
     "output_type": "stream",
     "text": [
      "Epoch 1/20\n",
      "422/422 [==============================] - 26s 58ms/step - loss: 0.4432 - accuracy: 0.8446 - val_loss: 0.3331 - val_accuracy: 0.8803\n",
      "Epoch 2/20\n",
      "422/422 [==============================] - 22s 53ms/step - loss: 0.3019 - accuracy: 0.8900 - val_loss: 0.3209 - val_accuracy: 0.8843\n",
      "Epoch 3/20\n",
      "422/422 [==============================] - 23s 53ms/step - loss: 0.2634 - accuracy: 0.9020 - val_loss: 0.2903 - val_accuracy: 0.8903\n",
      "Epoch 4/20\n",
      "422/422 [==============================] - 26s 61ms/step - loss: 0.2395 - accuracy: 0.9109 - val_loss: 0.3069 - val_accuracy: 0.8900\n",
      "Epoch 5/20\n",
      "422/422 [==============================] - 25s 58ms/step - loss: 0.2201 - accuracy: 0.9185 - val_loss: 0.2993 - val_accuracy: 0.8922\n",
      "Epoch 6/20\n",
      "422/422 [==============================] - 24s 56ms/step - loss: 0.2045 - accuracy: 0.9246 - val_loss: 0.2912 - val_accuracy: 0.8925\n",
      "Epoch 7/20\n",
      "422/422 [==============================] - 23s 54ms/step - loss: 0.1889 - accuracy: 0.9294 - val_loss: 0.2675 - val_accuracy: 0.9033\n",
      "Epoch 8/20\n",
      "422/422 [==============================] - 24s 57ms/step - loss: 0.1771 - accuracy: 0.9336 - val_loss: 0.2725 - val_accuracy: 0.9067\n",
      "Epoch 9/20\n",
      "422/422 [==============================] - 25s 59ms/step - loss: 0.1653 - accuracy: 0.9387 - val_loss: 0.2796 - val_accuracy: 0.9048\n",
      "Epoch 10/20\n",
      "422/422 [==============================] - 25s 59ms/step - loss: 0.1517 - accuracy: 0.9437 - val_loss: 0.2924 - val_accuracy: 0.9038\n",
      "Epoch 11/20\n",
      "422/422 [==============================] - 27s 64ms/step - loss: 0.1442 - accuracy: 0.9463 - val_loss: 0.2938 - val_accuracy: 0.9055\n",
      "Epoch 12/20\n",
      "422/422 [==============================] - 23s 54ms/step - loss: 0.1337 - accuracy: 0.9501 - val_loss: 0.3274 - val_accuracy: 0.9037\n",
      "Epoch 13/20\n",
      "422/422 [==============================] - 25s 60ms/step - loss: 0.1247 - accuracy: 0.9526 - val_loss: 0.3330 - val_accuracy: 0.8920\n",
      "Epoch 14/20\n",
      "422/422 [==============================] - 28s 67ms/step - loss: 0.1165 - accuracy: 0.9566 - val_loss: 0.3390 - val_accuracy: 0.8973\n",
      "Epoch 15/20\n",
      "422/422 [==============================] - 28s 66ms/step - loss: 0.1092 - accuracy: 0.9583 - val_loss: 0.3523 - val_accuracy: 0.8990\n",
      "Epoch 16/20\n",
      "422/422 [==============================] - 26s 61ms/step - loss: 0.1007 - accuracy: 0.9620 - val_loss: 0.3295 - val_accuracy: 0.9038\n",
      "Epoch 17/20\n",
      "422/422 [==============================] - 27s 63ms/step - loss: 0.0946 - accuracy: 0.9644 - val_loss: 0.3502 - val_accuracy: 0.8943\n",
      "Epoch 18/20\n",
      "422/422 [==============================] - 26s 62ms/step - loss: 0.0879 - accuracy: 0.9671 - val_loss: 0.4362 - val_accuracy: 0.8868\n",
      "Epoch 19/20\n",
      "422/422 [==============================] - 26s 62ms/step - loss: 0.0819 - accuracy: 0.9699 - val_loss: 0.4314 - val_accuracy: 0.8903\n",
      "Epoch 20/20\n",
      "422/422 [==============================] - 27s 65ms/step - loss: 0.0777 - accuracy: 0.9703 - val_loss: 0.4561 - val_accuracy: 0.8917\n"
     ]
    },
    {
     "data": {
      "text/plain": [
       "<keras.callbacks.History at 0x23e39ca0b50>"
      ]
     },
     "execution_count": 18,
     "metadata": {},
     "output_type": "execute_result"
    }
   ],
   "source": [
    "# 모델 학습\n",
    "model.fit(x_train, y_train, epochs=20, batch_size=128, validation_split=0.1)"
   ]
  }
 ],
 "metadata": {
  "kernelspec": {
   "display_name": "Python 3.9.13 64-bit (windows store)",
   "language": "python",
   "name": "python3"
  },
  "language_info": {
   "codemirror_mode": {
    "name": "ipython",
    "version": 3
   },
   "file_extension": ".py",
   "mimetype": "text/x-python",
   "name": "python",
   "nbconvert_exporter": "python",
   "pygments_lexer": "ipython3",
   "version": "3.9.13"
  },
  "orig_nbformat": 4,
  "vscode": {
   "interpreter": {
    "hash": "81d63421dc4ff2febe5ae8ebd642fed2f46fe94c0192df0a316b0a71a90664ce"
   }
  }
 },
 "nbformat": 4,
 "nbformat_minor": 2
}
