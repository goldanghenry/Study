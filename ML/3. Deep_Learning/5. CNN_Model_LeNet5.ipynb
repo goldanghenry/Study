{
 "cells": [
  {
   "cell_type": "markdown",
   "metadata": {},
   "source": [
    "## Fashion MNIST 실습 + LeNet5"
   ]
  },
  {
   "cell_type": "code",
   "execution_count": 1,
   "metadata": {},
   "outputs": [
    {
     "name": "stdout",
     "output_type": "stream",
     "text": [
      "Downloading data from https://storage.googleapis.com/tensorflow/tf-keras-datasets/train-labels-idx1-ubyte.gz\n",
      "29515/29515 [==============================] - 0s 1us/step\n",
      "Downloading data from https://storage.googleapis.com/tensorflow/tf-keras-datasets/train-images-idx3-ubyte.gz\n",
      "26421880/26421880 [==============================] - 44s 2us/step\n",
      "Downloading data from https://storage.googleapis.com/tensorflow/tf-keras-datasets/t10k-labels-idx1-ubyte.gz\n",
      "5148/5148 [==============================] - 0s 0s/step\n",
      "Downloading data from https://storage.googleapis.com/tensorflow/tf-keras-datasets/t10k-images-idx3-ubyte.gz\n",
      "4422102/4422102 [==============================] - 3s 1us/step\n",
      "(60000, 28, 28, 1) (60000, 10)\n",
      "(10000, 28, 28, 1) (10000, 10)\n"
     ]
    }
   ],
   "source": [
    "import tensorflow as tf\n",
    "\n",
    "# 데이터 준비\n",
    "(x_train, y_train), (x_test, y_test) = tf.keras.datasets.fashion_mnist.load_data()\n",
    "\n",
    "x_train = x_train.reshape(60000, 28, 28, 1)\n",
    "x_test = x_test.reshape(10000,28,28,1)\n",
    "\n",
    "# 텐서플로우의 원핫 인코딩 함수 ( 또는 판다스의 get_dummies)\n",
    "y_train = tf.keras.utils.to_categorical(y_train)\n",
    "y_test = tf.keras.utils.to_categorical(y_test)\n",
    "\n",
    "print(x_train.shape, y_train.shape)\n",
    "print(x_test.shape, y_test.shape)"
   ]
  },
  {
   "cell_type": "code",
   "execution_count": 6,
   "metadata": {},
   "outputs": [
    {
     "name": "stdout",
     "output_type": "stream",
     "text": [
      "Model: \"model_3\"\n",
      "_________________________________________________________________\n",
      " Layer (type)                Output Shape              Param #   \n",
      "=================================================================\n",
      " input_5 (InputLayer)        [(None, 28, 28, 1)]       0         \n",
      "                                                                 \n",
      " conv2d_9 (Conv2D)           (None, 24, 24, 3)         78        \n",
      "                                                                 \n",
      " max_pooling2d_9 (MaxPooling  (None, 12, 12, 3)        0         \n",
      " 2D)                                                             \n",
      "                                                                 \n",
      " flatten_3 (Flatten)         (None, 432)               0         \n",
      "                                                                 \n",
      " dense_6 (Dense)             (None, 84)                36372     \n",
      "                                                                 \n",
      " dense_7 (Dense)             (None, 10)                850       \n",
      "                                                                 \n",
      "=================================================================\n",
      "Total params: 37,300\n",
      "Trainable params: 37,300\n",
      "Non-trainable params: 0\n",
      "_________________________________________________________________\n"
     ]
    }
   ],
   "source": [
    "# 모델 생성\n",
    "X = tf.keras.Input(shape=[28,28,1])\n",
    "H = tf.keras.layers.Conv2D(3,5,activation=\"swish\") ( X)\n",
    "H = tf.keras.layers.MaxPool2D()(H)\n",
    "H = tf.keras.layers.Conv2D(3,5,activation=\"swish\") ( X)\n",
    "H = tf.keras.layers.MaxPool2D()(H)\n",
    "H = tf.keras.layers.Flatten() (H)\n",
    "H = tf.keras.layers.Dense(84, activation=\"swish\")(H)\n",
    "Y = tf.keras.layers.Dense(10,activation=\"softmax\") (H)\n",
    "\n",
    "model = tf.keras.Model(X,Y)\n",
    "model.compile(loss=\"categorical_crossentropy\", metrics=\"accuracy\")\n",
    "model.summary()"
   ]
  },
  {
   "cell_type": "code",
   "execution_count": 7,
   "metadata": {},
   "outputs": [
    {
     "name": "stdout",
     "output_type": "stream",
     "text": [
      "Epoch 1/20\n",
      "422/422 [==============================] - 9s 19ms/step - loss: 3.4647 - accuracy: 0.7304 - val_loss: 0.5444 - val_accuracy: 0.8070\n",
      "Epoch 2/20\n",
      "422/422 [==============================] - 8s 19ms/step - loss: 0.4530 - accuracy: 0.8418 - val_loss: 0.4160 - val_accuracy: 0.8535\n",
      "Epoch 3/20\n",
      "422/422 [==============================] - 8s 19ms/step - loss: 0.3736 - accuracy: 0.8675 - val_loss: 0.3892 - val_accuracy: 0.8637\n",
      "Epoch 4/20\n",
      "422/422 [==============================] - 8s 20ms/step - loss: 0.3340 - accuracy: 0.8781 - val_loss: 0.3817 - val_accuracy: 0.8683\n",
      "Epoch 5/20\n",
      "422/422 [==============================] - 9s 20ms/step - loss: 0.3086 - accuracy: 0.8879 - val_loss: 0.3748 - val_accuracy: 0.8775\n",
      "Epoch 6/20\n",
      "422/422 [==============================] - 10s 24ms/step - loss: 0.2926 - accuracy: 0.8940 - val_loss: 0.4167 - val_accuracy: 0.8628\n",
      "Epoch 7/20\n",
      "422/422 [==============================] - 12s 27ms/step - loss: 0.2783 - accuracy: 0.8989 - val_loss: 0.4003 - val_accuracy: 0.8712\n",
      "Epoch 8/20\n",
      "422/422 [==============================] - 13s 31ms/step - loss: 0.2651 - accuracy: 0.9029 - val_loss: 0.3855 - val_accuracy: 0.8737\n",
      "Epoch 9/20\n",
      "422/422 [==============================] - 12s 28ms/step - loss: 0.2566 - accuracy: 0.9064 - val_loss: 0.3935 - val_accuracy: 0.8770\n",
      "Epoch 10/20\n",
      "176/422 [===========>..................] - ETA: 5s - loss: 0.2390 - accuracy: 0.9104"
     ]
    }
   ],
   "source": [
    "# 모델 학습\n",
    "model.fit(x_train, y_train, epochs=20, batch_size=128, validation_split=0.1)"
   ]
  }
 ],
 "metadata": {
  "kernelspec": {
   "display_name": "Python 3.9.13 64-bit (windows store)",
   "language": "python",
   "name": "python3"
  },
  "language_info": {
   "codemirror_mode": {
    "name": "ipython",
    "version": 3
   },
   "file_extension": ".py",
   "mimetype": "text/x-python",
   "name": "python",
   "nbconvert_exporter": "python",
   "pygments_lexer": "ipython3",
   "version": "3.9.13"
  },
  "orig_nbformat": 4,
  "vscode": {
   "interpreter": {
    "hash": "81d63421dc4ff2febe5ae8ebd642fed2f46fe94c0192df0a316b0a71a90664ce"
   }
  }
 },
 "nbformat": 4,
 "nbformat_minor": 2
}
