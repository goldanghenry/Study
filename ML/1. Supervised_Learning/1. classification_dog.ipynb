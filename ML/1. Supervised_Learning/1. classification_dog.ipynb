{
 "cells": [
  {
   "cell_type": "markdown",
   "metadata": {},
   "source": [
    "## 실습 #1 - Classification of dog breeds (분류)\n",
    "1.  다음은 개의 종류와 그 크기 데이터이다. 이 데이터를 바탕으로 k-NN 알고리즘을 적용해 보자."
   ]
  },
  {
   "cell_type": "code",
   "execution_count": 2,
   "metadata": {},
   "outputs": [],
   "source": [
    "# KNN 알고리즘\n",
    "import matplotlib.pyplot as plt\n",
    "import numpy as np\n",
    "\n",
    "# 닥스훈트의 길이와 높이 데이터\n",
    "dach_length = [75, 77, 83, 81, 73, 99, 72, 83]\n",
    "dach_height = [24, 29, 19, 32, 21, 22, 19, 34]\n",
    "\n",
    "# 사모예드의 길이와 높이 데이터\n",
    "samo_length = [76, 78, 82, 88, 76, 83, 81, 89]\n",
    "samo_height = [55, 58, 53, 54, 61, 52, 57, 64]\n",
    "\n",
    "# 말티즈의 길이와 높이 데이터\n",
    "malti_length = [35, 39, 38, 41, 30, 57, 41, 35]\n",
    "malti_height = [23, 26, 19, 30, 21, 24, 28, 20]\n",
    "\n",
    "# 새로운 데이터\n",
    "new_length = [79]\n",
    "new_height = [35]"
   ]
  },
  {
   "cell_type": "code",
   "execution_count": 3,
   "metadata": {},
   "outputs": [
    {
     "data": {
      "image/png": "[encoded data removed]",
      "text/plain": [
       "<Figure size 432x288 with 1 Axes>"
      ]
     },
     "metadata": {
      "needs_background": "light"
     },
     "output_type": "display_data"
    }
   ],
   "source": [
    "# 산점도로 먼저 관찰하기\n",
    "plt.scatter(dach_length, dach_height, c='red', label='Dachshund')\n",
    "plt.scatter(samo_length, samo_height, c='blue', marker='^', label='Samoyed')\n",
    "plt.scatter(malti_length, malti_height, c='green', marker='s', label='maltese')\n",
    "plt.scatter(new_length, new_height, c='black', marker='s', label='new Data')\n",
    "\n",
    "plt.xlabel('Length')\n",
    "plt.ylabel('Height')\n",
    "plt.title('Dog size')\n",
    "plt.legend(loc='upper left')\n",
    "\n",
    "plt.show()"
   ]
  },
  {
   "cell_type": "code",
   "execution_count": 20,
   "metadata": {},
   "outputs": [],
   "source": [
    "# 2차원 리스트로 묶기 ( 열 쌓기 ) - np.column_stack()\n",
    "d_data = np.column_stack((dach_length, dach_height))\n",
    "d_label = [0]*(len(d_data))     # 닥스훈트는 0으로 레이블링\n",
    "\n",
    "s_data = np.column_stack((samo_length,samo_height))\n",
    "s_label = [1]*(len(s_data))     # 사모예드는 1\n",
    "\n",
    "m_data = np.column_stack((malti_length, malti_height))\n",
    "m_label = [2]*(len(m_data))     # 말티즈는 2\n",
    "\n",
    "# 모든 데이터를 연결해 하나의 배열로 테이블로 만들기 - concatenate()\n",
    "dogs = np.concatenate((d_data, s_data, m_data))\n",
    "labels = np.concatenate((d_label, s_label, m_label))"
   ]
  },
  {
   "cell_type": "code",
   "execution_count": null,
   "metadata": {},
   "outputs": [],
   "source": [
    "from sklearn.neighbors import KNeighborsClassifier\n",
    "k=5\n",
    "\n",
    "# kNN 모델 객체 생성\n",
    "knn = KNeighborsClassifier(n_neighbors = k)\n",
    "\n",
    "# 학습\n",
    "knn.fit(dogs,labels)\n",
    "\n",
    "pred = knn.predict(dogs)\n",
    "\n",
    "# 혼동행렬 만들기\n",
    "from sklearn.metrics import confusion_matrix\n",
    "print(confusion_matrix(labels, pred))"
   ]
  },
  {
   "cell_type": "code",
   "execution_count": 27,
   "metadata": {},
   "outputs": [
    {
     "name": "stdout",
     "output_type": "stream",
     "text": [
      "[[58, 30]] k= 3 일때 2 말티즈\n",
      "[[58, 30]] k= 5 일때 2 말티즈\n",
      "[[58, 30]] k= 7 일때 0 닥스훈트\n",
      "-------\n",
      "[[80, 26]] k= 3 일때 0 닥스훈트\n",
      "[[80, 26]] k= 5 일때 0 닥스훈트\n",
      "[[80, 26]] k= 7 일때 0 닥스훈트\n",
      "-------\n",
      "[[80, 41]] k= 3 일때 0 닥스훈트\n",
      "[[80, 41]] k= 5 일때 0 닥스훈트\n",
      "[[80, 41]] k= 7 일때 1 사모예드\n",
      "-------\n",
      "[[75, 55]] k= 3 일때 1 사모예드\n",
      "[[75, 55]] k= 5 일때 1 사모예드\n",
      "[[75, 55]] k= 7 일때 1 사모예드\n",
      "-------\n"
     ]
    }
   ],
   "source": [
    "# 클래스 지정\n",
    "def classifier_result(data):\n",
    "    dog_classes = {0:'닥스훈트', 1:'사모예드', 2:'말티즈'}\n",
    "    for k in [3,5,7]:\n",
    "        knn = KNeighborsClassifier(n_neighbors=k)\n",
    "        knn.fit(dogs,labels)\n",
    "        pred = knn.predict(data) # 결과 저장\n",
    "        print(data, 'k=', k, '일때', pred[0], dog_classes[pred[0]])\n",
    "        \n",
    "new_list = [[[58,30]], [[80,26]],[[80,41]] ,[[75,55]]]\n",
    "for i in new_list:\n",
    "    classifier_result(i)\n",
    "    print('-------')"
   ]
  },
  {
   "cell_type": "code",
   "execution_count": 29,
   "metadata": {},
   "outputs": [
    {
     "data": {
      "image/png": "[encoded data removed]",
      "text/plain": [
       "<Figure size 432x288 with 1 Axes>"
      ]
     },
     "metadata": {
      "needs_background": "light"
     },
     "output_type": "display_data"
    }
   ],
   "source": [
    "# 새로운 데이터 분포확인\n",
    "plt.scatter(dach_length, dach_height, c='red', label='Dachshund')\n",
    "plt.scatter(samo_length, samo_height, c='blue', marker='^', label='Samoyed')\n",
    "plt.scatter(malti_length, malti_height, c='green', marker='s', label='maltese')\n",
    "\n",
    "\n",
    "plt.scatter(new_list[0][0][0], new_list[0][0][1], s=200, c='magenta', label='A')\n",
    "plt.scatter(new_list[1][0][0], new_list[1][0][1], s=200, c='gray', label='B')\n",
    "plt.scatter(new_list[2][0][0], new_list[2][0][1], s=200, c='cyan', label='C')\n",
    "plt.scatter(new_list[3][0][0], new_list[3][0][1], s=200, c='black', label='D')\n",
    "\n",
    "plt.xlabel('Length')\n",
    "plt.ylabel('Height')\n",
    "plt.title('Dog size')\n",
    "plt.legend(loc='upper left')\n",
    "\n",
    "plt.show()"
   ]
  }
 ],
 "metadata": {
  "kernelspec": {
   "display_name": "Python 3.9.13 64-bit (windows store)",
   "language": "python",
   "name": "python3"
  },
  "language_info": {
   "codemirror_mode": {
    "name": "ipython",
    "version": 3
   },
   "file_extension": ".py",
   "mimetype": "text/x-python",
   "name": "python",
   "nbconvert_exporter": "python",
   "pygments_lexer": "ipython3",
   "version": "3.9.13"
  },
  "orig_nbformat": 4,
  "vscode": {
   "interpreter": {
    "hash": "81d63421dc4ff2febe5ae8ebd642fed2f46fe94c0192df0a316b0a71a90664ce"
   }
  }
 },
 "nbformat": 4,
 "nbformat_minor": 2
}
