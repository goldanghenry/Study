{
 "cells": [
  {
   "attachments": {},
   "cell_type": "markdown",
   "metadata": {},
   "source": [
    "# 자주 사용되는 라이브러리 및 자료구조"
   ]
  },
  {
   "attachments": {},
   "cell_type": "markdown",
   "metadata": {},
   "source": [
    "### 시간 측정"
   ]
  },
  {
   "cell_type": "code",
   "execution_count": 1,
   "metadata": {},
   "outputs": [
    {
     "name": "stdout",
     "output_type": "stream",
     "text": [
      "경과 시간 :  0.0\n"
     ]
    }
   ],
   "source": [
    "from time import time\n",
    "\n",
    "start = time()\n",
    "# 프로그램\n",
    "end = time()\n",
    "print('경과 시간 : ', end-start)"
   ]
  },
  {
   "attachments": {},
   "cell_type": "markdown",
   "metadata": {},
   "source": [
    "### itertools\n",
    "- 파이썬에서 반복되는 형태의 데이터를 처리하는 기능을 제공하는 라이브러리(순열, 조합)\n",
    "<br>\n",
    "-permutations, combinations -> 순열, 조합 + 중복x <br>\n",
    "-product, combinations_with_replacement -> 순열, 조합 + 중복"
   ]
  },
  {
   "cell_type": "code",
   "execution_count": 7,
   "metadata": {},
   "outputs": [
    {
     "name": "stdout",
     "output_type": "stream",
     "text": [
      "[('a', 'b'), ('a', 'c'), ('b', 'a'), ('b', 'c'), ('c', 'a'), ('c', 'b')]\n"
     ]
    }
   ],
   "source": [
    "# permutations() - 순열\n",
    "# : 리스트와 같은 iterable 객체에서 r개의 데이터를 뽑아 일렬로 나열하는 모든 경우\n",
    "# 리스트로 변환해 사용\n",
    "\n",
    "from itertools import permutations\n",
    "\n",
    "data = ['a', 'b','c']\n",
    "result = list(permutations(data, 2))\n",
    "print(result)"
   ]
  },
  {
   "cell_type": "code",
   "execution_count": 6,
   "metadata": {},
   "outputs": [
    {
     "name": "stdout",
     "output_type": "stream",
     "text": [
      "[('a', 'b'), ('a', 'c'), ('b', 'c')]\n"
     ]
    }
   ],
   "source": [
    "# combinations() - 조합\n",
    "# : 리스트와 같은 iterable 객체에서 r개의 데이터를 뽑아 순서를 고려하지 않고 나열하는 모든 경우\n",
    "\n",
    "from itertools import combinations\n",
    "\n",
    "result2 = list(combinations(data, 2))\n",
    "print(result2)"
   ]
  },
  {
   "cell_type": "code",
   "execution_count": 10,
   "metadata": {},
   "outputs": [
    {
     "name": "stdout",
     "output_type": "stream",
     "text": [
      "[('a', 'a'), ('a', 'b'), ('a', 'c'), ('b', 'a'), ('b', 'b'), ('b', 'c'), ('c', 'a'), ('c', 'b'), ('c', 'c')]\n"
     ]
    }
   ],
   "source": [
    "# product() : 순열 + 중복\n",
    "# repeat = 뽑고자 하는 수\n",
    "\n",
    "from itertools import product\n",
    "\n",
    "result3 = list(product(data, repeat=2))\n",
    "print(result3)"
   ]
  },
  {
   "attachments": {},
   "cell_type": "markdown",
   "metadata": {},
   "source": [
    "### collections\n",
    "- 덱(deque), 카운터(Counter) 등의 유용한 자료구조를 포함하고 있는 라이브러리\n",
    "- 보통 deque를 사용해 큐를 표현\n",
    "<br>list의 경우 append, pop은 가장 뒤쪽 원소를 기준으로 수행\n",
    "<br> deque는 가장 앞 또는 가장 뒤 모두 O(1)\n",
    "<br>- popleft(), appendleft(x)"
   ]
  },
  {
   "cell_type": "code",
   "execution_count": 19,
   "metadata": {},
   "outputs": [
    {
     "name": "stdout",
     "output_type": "stream",
     "text": [
      "deque([1, 2, 3, 4, 5])\n",
      "[1, 2, 3, 4, 5]\n"
     ]
    }
   ],
   "source": [
    "from collections import deque\n",
    "\n",
    "data = deque([2,3,4])\n",
    "data.appendleft(1)\n",
    "data.append(5)\n",
    "\n",
    "print(data)\n",
    "print(list(data))"
   ]
  },
  {
   "cell_type": "code",
   "execution_count": 22,
   "metadata": {},
   "outputs": [
    {
     "name": "stdout",
     "output_type": "stream",
     "text": [
      "3\n",
      "{'red': 2, 'blue': 3, 'green': 1}\n"
     ]
    }
   ],
   "source": [
    "# 등장 횟수를 세는 기능 - iterable 객체 가능\n",
    "from collections import Counter\n",
    "\n",
    "counter = Counter(['red','blue', 'red', 'green', 'blue', 'blue'])\n",
    "print(counter['blue'])\n",
    "print(dict(counter))"
   ]
  },
  {
   "attachments": {},
   "cell_type": "markdown",
   "metadata": {},
   "source": [
    "### math"
   ]
  },
  {
   "cell_type": "code",
   "execution_count": 24,
   "metadata": {},
   "outputs": [
    {
     "name": "stdout",
     "output_type": "stream",
     "text": [
      "120\n",
      "7\n",
      "3.141592653589793\n",
      "2.718281828459045\n"
     ]
    }
   ],
   "source": [
    "import math\n",
    "\n",
    "print(math.factorial(5))\n",
    "print(math.gcd(21,14))\n",
    "print(math.pi)\n",
    "print(math.e)"
   ]
  },
  {
   "attachments": {},
   "cell_type": "markdown",
   "metadata": {},
   "source": [
    "### 재귀 함수 Recursive Function\n",
    ": 내부 구조는 스택구조와 동일, 가장 마지막에 호출한 함수가 먼저 수행을 끝내야 그 앞의 함수 호출이 종료된다.\n"
   ]
  },
  {
   "cell_type": "code",
   "execution_count": 35,
   "metadata": {},
   "outputs": [
    {
     "name": "stdout",
     "output_type": "stream",
     "text": [
      "1 번째 재귀함수 호출\n",
      "2 번째 재귀함수 호출\n",
      "3 번째 재귀함수 호출\n",
      "4 번째 재귀함수 호출\n",
      "5 번째 재귀함수 호출\n",
      "6 번째 재귀함수 호출\n",
      "7 번째 재귀함수 호출\n",
      "8 번째 재귀함수 호출\n",
      "9 번째 재귀함수 호출\n",
      "--------------\n",
      "9 번째 재귀함수 종료\n",
      "8 번째 재귀함수 종료\n",
      "7 번째 재귀함수 종료\n",
      "6 번째 재귀함수 종료\n",
      "5 번째 재귀함수 종료\n",
      "4 번째 재귀함수 종료\n",
      "3 번째 재귀함수 종료\n",
      "2 번째 재귀함수 종료\n",
      "1 번째 재귀함수 종료\n"
     ]
    }
   ],
   "source": [
    "# 간단한 재귀함수\n",
    "def recursive_function(i):\n",
    "    if i== 10:\n",
    "        print('--------------')\n",
    "        return\n",
    "    print(i,'번째 재귀함수 호출')\n",
    "    recursive_function(i+1)\n",
    "    print(i,'번째 재귀함수 종료')\n",
    "\n",
    "recursive_function(1)"
   ]
  },
  {
   "cell_type": "code",
   "execution_count": null,
   "metadata": {},
   "outputs": [],
   "source": [
    "# 반복적으로 구현한 n!\n",
    "def factorial_iterative(n):\n",
    "    sum = 0\n",
    "    for i in range(2,n+1):\n",
    "        sum *= i\n",
    "\n",
    "# 재귀적으로 구현한 n!\n",
    "def factorial_recursive(n):\n",
    "    if n <= 1:\n",
    "        return 1\n",
    "    return n * factorial_recursive(n-1)"
   ]
  }
 ],
 "metadata": {
  "kernelspec": {
   "display_name": "Python 3",
   "language": "python",
   "name": "python3"
  },
  "language_info": {
   "codemirror_mode": {
    "name": "ipython",
    "version": 3
   },
   "file_extension": ".py",
   "mimetype": "text/x-python",
   "name": "python",
   "nbconvert_exporter": "python",
   "pygments_lexer": "ipython3",
   "version": "3.9.13"
  },
  "orig_nbformat": 4
 },
 "nbformat": 4,
 "nbformat_minor": 2
}
