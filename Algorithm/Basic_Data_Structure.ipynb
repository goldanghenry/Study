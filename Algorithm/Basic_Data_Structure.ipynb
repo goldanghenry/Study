{
 "cells": [
  {
   "attachments": {},
   "cell_type": "markdown",
   "metadata": {},
   "source": [
    "# 자주 사용되는 라이브러리 및 자료구조"
   ]
  },
  {
   "metadata": {},
   "cell_type": "markdown",
   "source": "# 자료형과 내장함수"
  },
  {
   "metadata": {
    "ExecuteTime": {
     "end_time": "2024-11-08T11:36:01.381987Z",
     "start_time": "2024-11-08T11:36:01.376836Z"
    }
   },
   "cell_type": "code",
   "source": [
    "# 정수형, 실수형\n",
    "a = 5.\n",
    "b = .7\n",
    "print(a)\n",
    "print(b)\n",
    "print(type(a))\n",
    "print(type(b))"
   ],
   "outputs": [
    {
     "name": "stdout",
     "output_type": "stream",
     "text": [
      "5.0\n",
      "0.7\n",
      "<class 'float'>\n",
      "<class 'float'>\n"
     ]
    }
   ],
   "execution_count": 1
  },
  {
   "metadata": {
    "ExecuteTime": {
     "end_time": "2024-11-08T11:37:05.300129Z",
     "start_time": "2024-11-08T11:37:05.296035Z"
    }
   },
   "cell_type": "code",
   "source": [
    "# 실수 표현 한계\n",
    "a = 0.3 + 0.6\n",
    "if a == 0.9: print(True)\n",
    "else: print(False)\n",
    "print(round(0.3+0.6,1))"
   ],
   "outputs": [
    {
     "name": "stdout",
     "output_type": "stream",
     "text": [
      "False\n",
      "0.9\n"
     ]
    }
   ],
   "execution_count": 3
  },
  {
   "metadata": {},
   "cell_type": "markdown",
   "source": [
    "# 클래스 요약\n",
    "## str\n",
    "- 생성 : \"\" or ''\n",
    "- 인덱싱, 슬라이싱 가능\n",
    "- 특정 인덱스값 변경 불가(immutable)\n",
    "\n",
    "## list\n",
    "- 생성 : [], list()\n",
    "- 인덱싱, 슬라이싱 가능\n",
    "- 특정 인덱싱 값 변경 가능(mutable)\n",
    "- 원소 추가(append, insert), 제거(remove) 가능\n",
    "\n",
    "## tuple\n",
    "- 생성 : (), tuple()\n",
    "- 인덱싱, 슬라이싱 가능 (순서 있음)\n",
    "- 특정 인덱스 값(=한번 선언된 값) 변경 불가(immutable)\n",
    "- 원소 추가(append, insert), 제거 불가\n",
    "\n",
    "## dict\n",
    "- 생성 : {} or dict() , {'name':'min', 'age':12}\n",
    "- 'key':'value' // key는 중복 불가\n",
    "- 인덱싱 불가(순서 없음)\n",
    "- dict 원소 추가, 삭제 가능\n",
    "- 'key' -> 'value' 조회, 수정 O(1)\n",
    "- 다른 자료형의 key, value 사용 가능\n",
    "\n",
    "## set\n",
    "- 생성 : {1,2,3} or s = set()\n",
    "- 인덱싱 불가(순서 없음)\n",
    "- 원소 추가(add, update)"
   ]
  },
  {
   "attachments": {},
   "cell_type": "markdown",
   "metadata": {},
   "source": [
    "### 시간 측정"
   ]
  },
  {
   "cell_type": "code",
   "execution_count": 1,
   "metadata": {},
   "outputs": [
    {
     "name": "stdout",
     "output_type": "stream",
     "text": [
      "경과 시간 :  0.0\n"
     ]
    }
   ],
   "source": [
    "from time import time\n",
    "\n",
    "start = time()\n",
    "# 프로그램\n",
    "end = time()\n",
    "print('경과 시간 : ', end-start)"
   ]
  },
  {
   "attachments": {},
   "cell_type": "markdown",
   "metadata": {},
   "source": [
    "### itertools\n",
    "- 파이썬에서 반복되는 형태의 데이터를 처리하는 기능을 제공하는 라이브러리(순열, 조합)\n",
    "<br>\n",
    "-permutations, combinations -> 순열, 조합 + 중복x <br>\n",
    "-product, combinations_with_replacement -> 순열, 조합 + 중복"
   ]
  },
  {
   "cell_type": "code",
   "execution_count": 7,
   "metadata": {},
   "outputs": [
    {
     "name": "stdout",
     "output_type": "stream",
     "text": [
      "[('a', 'b'), ('a', 'c'), ('b', 'a'), ('b', 'c'), ('c', 'a'), ('c', 'b')]\n"
     ]
    }
   ],
   "source": [
    "# permutations() - 순열\n",
    "# : 리스트와 같은 iterable 객체에서 r개의 데이터를 뽑아 일렬로 나열하는 모든 경우\n",
    "# 리스트로 변환해 사용\n",
    "\n",
    "from itertools import permutations\n",
    "\n",
    "data = ['a', 'b','c']\n",
    "result = list(permutations(data, 2))\n",
    "print(result)"
   ]
  },
  {
   "cell_type": "code",
   "execution_count": 6,
   "metadata": {},
   "outputs": [
    {
     "name": "stdout",
     "output_type": "stream",
     "text": [
      "[('a', 'b'), ('a', 'c'), ('b', 'c')]\n"
     ]
    }
   ],
   "source": [
    "# combinations() - 조합\n",
    "# : 리스트와 같은 iterable 객체에서 r개의 데이터를 뽑아 순서를 고려하지 않고 나열하는 모든 경우\n",
    "\n",
    "from itertools import combinations\n",
    "\n",
    "result2 = list(combinations(data, 2))\n",
    "print(result2)"
   ]
  },
  {
   "cell_type": "code",
   "execution_count": 10,
   "metadata": {},
   "outputs": [
    {
     "name": "stdout",
     "output_type": "stream",
     "text": [
      "[('a', 'a'), ('a', 'b'), ('a', 'c'), ('b', 'a'), ('b', 'b'), ('b', 'c'), ('c', 'a'), ('c', 'b'), ('c', 'c')]\n"
     ]
    }
   ],
   "source": [
    "# product() : 순열 + 중복\n",
    "# repeat = 뽑고자 하는 수\n",
    "\n",
    "\n",
    "from itertools import product\n",
    "\n",
    "result3 = list(product(data, repeat=2))\n",
    "print(result3)"
   ]
  },
  {
   "attachments": {},
   "cell_type": "markdown",
   "metadata": {},
   "source": [
    "### collections\n",
    "- 덱(deque), 카운터(Counter) 등의 유용한 자료구조를 포함하고 있는 라이브러리\n",
    "- 보통 deque를 사용해 큐를 표현\n",
    "<br>list의 경우 append, pop은 가장 뒤쪽 원소를 기준으로 수행\n",
    "<br> deque는 가장 앞 또는 가장 뒤 모두 O(1)\n",
    "<br>- popleft(), appendleft(x)"
   ]
  },
  {
   "cell_type": "code",
   "execution_count": 19,
   "metadata": {},
   "outputs": [
    {
     "name": "stdout",
     "output_type": "stream",
     "text": [
      "deque([1, 2, 3, 4, 5])\n",
      "[1, 2, 3, 4, 5]\n"
     ]
    }
   ],
   "source": [
    "from collections import deque\n",
    "\n",
    "data = deque([2,3,4])\n",
    "data.appendleft(1)\n",
    "data.append(5)\n",
    "\n",
    "print(data)\n",
    "print(list(data))"
   ]
  },
  {
   "cell_type": "code",
   "execution_count": 22,
   "metadata": {},
   "outputs": [
    {
     "name": "stdout",
     "output_type": "stream",
     "text": [
      "3\n",
      "{'red': 2, 'blue': 3, 'green': 1}\n"
     ]
    }
   ],
   "source": [
    "# 등장 횟수를 세는 기능 - iterable 객체 가능\n",
    "from collections import Counter\n",
    "\n",
    "counter = Counter(['red','blue', 'red', 'green', 'blue', 'blue'])\n",
    "print(counter['blue'])\n",
    "print(dict(counter))"
   ]
  },
  {
   "attachments": {},
   "cell_type": "markdown",
   "metadata": {},
   "source": [
    "### math"
   ]
  },
  {
   "cell_type": "code",
   "execution_count": 24,
   "metadata": {},
   "outputs": [
    {
     "name": "stdout",
     "output_type": "stream",
     "text": [
      "120\n",
      "7\n",
      "3.141592653589793\n",
      "2.718281828459045\n"
     ]
    }
   ],
   "source": [
    "import math\n",
    "\n",
    "print(math.factorial(5))\n",
    "print(math.gcd(21,14))\n",
    "print(math.pi)\n",
    "print(math.e)"
   ]
  },
  {
   "attachments": {},
   "cell_type": "markdown",
   "metadata": {},
   "source": [
    "### 재귀 함수 Recursive Function\n",
    ": 내부 구조는 스택구조와 동일, 가장 마지막에 호출한 함수가 먼저 수행을 끝내야 그 앞의 함수 호출이 종료된다.\n"
   ]
  },
  {
   "cell_type": "code",
   "execution_count": 35,
   "metadata": {},
   "outputs": [
    {
     "name": "stdout",
     "output_type": "stream",
     "text": [
      "1 번째 재귀함수 호출\n",
      "2 번째 재귀함수 호출\n",
      "3 번째 재귀함수 호출\n",
      "4 번째 재귀함수 호출\n",
      "5 번째 재귀함수 호출\n",
      "6 번째 재귀함수 호출\n",
      "7 번째 재귀함수 호출\n",
      "8 번째 재귀함수 호출\n",
      "9 번째 재귀함수 호출\n",
      "--------------\n",
      "9 번째 재귀함수 종료\n",
      "8 번째 재귀함수 종료\n",
      "7 번째 재귀함수 종료\n",
      "6 번째 재귀함수 종료\n",
      "5 번째 재귀함수 종료\n",
      "4 번째 재귀함수 종료\n",
      "3 번째 재귀함수 종료\n",
      "2 번째 재귀함수 종료\n",
      "1 번째 재귀함수 종료\n"
     ]
    }
   ],
   "source": [
    "# 간단한 재귀함수\n",
    "def recursive_function(i):\n",
    "    if i== 10:\n",
    "        print('--------------')\n",
    "        return\n",
    "    print(i,'번째 재귀함수 호출')\n",
    "    recursive_function(i+1)\n",
    "    print(i,'번째 재귀함수 종료')\n",
    "\n",
    "recursive_function(1)"
   ]
  },
  {
   "cell_type": "code",
   "execution_count": null,
   "metadata": {},
   "outputs": [],
   "source": [
    "# 반복적으로 구현한 n!\n",
    "def factorial_iterative(n):\n",
    "    sum = 0\n",
    "    for i in range(2,n+1):\n",
    "        sum *= i\n",
    "\n",
    "# 재귀적으로 구현한 n!\n",
    "def factorial_recursive(n):\n",
    "    if n <= 1:\n",
    "        return 1\n",
    "    return n * factorial_recursive(n-1)"
   ]
  },
  {
   "metadata": {},
   "cell_type": "markdown",
   "source": "### Doubly Linked List\n"
  },
  {
   "metadata": {},
   "cell_type": "code",
   "outputs": [],
   "execution_count": null,
   "source": [
    "class Node(object):\n",
    "    def __init__(self, val, prev=None, next=None):\n",
    "        self.val = val\n",
    "        self.prev = prev\n",
    "        self.next = next\n",
    "    \n",
    "class LinkedList(object):\n",
    "    def __init__(self, homepage):\n",
    "        self.head = self.current = Node(val = homepage)\n",
    "    def visit(self, url):\n",
    "        self.current.next = Node(val = url, prev = self.current)\n",
    "        self.current = self.current.next\n",
    "    def forward(self, steps):\n",
    "        while steps > 0 and self.current.next != None:\n",
    "            self.current = self.current.next\n",
    "            steps -= 1\n",
    "        return self.current.val\n",
    "    def back(self, steps):\n",
    "        while steps > 0 and self.current.prev != None:\n",
    "            self.current = self.current.prev\n",
    "            steps -=1\n",
    "        return self.current.val\n",
    "    "
   ]
  },
  {
   "metadata": {},
   "cell_type": "markdown",
   "source": [
    "### Stack 1. 괄호 유효성 체크 문제\n",
    "- 괄호 문제"
   ]
  },
  {
   "metadata": {},
   "cell_type": "code",
   "outputs": [],
   "execution_count": null,
   "source": [
    "import sys\n",
    "input = sys.stdin.readline\n",
    "\n",
    "strings = input().rstrip()\n",
    "stack = []\n",
    "flag = True\n",
    "\n",
    "for s in strings:\n",
    "    if s == '(':\n",
    "        stack.append(')')\n",
    "    elif s == '{':\n",
    "        stack.append('}')\n",
    "    elif s == '[':\n",
    "        stack.append(']')\n",
    "    elif not stack or stack.pop() != s:\n",
    "        flag = False\n",
    "        break\n",
    "\n",
    "if not stack: flag = False\n",
    "\n",
    "print('Yes' if flag else 'No')"
   ]
  },
  {
   "metadata": {},
   "cell_type": "markdown",
   "source": [
    "## Stack 2. 특정 조건 검사\n",
    "- 온도 문제 "
   ]
  },
  {
   "metadata": {},
   "cell_type": "code",
   "outputs": [],
   "execution_count": null,
   "source": [
    "import sys\n",
    "input = sys.stdin.readline\n",
    "\n",
    "temperatures = input()\n",
    "stack = []\n",
    "answers = [0] * len(temperatures)\n",
    "\n",
    "for cur_day, cur_temp in enumerate(temperatures):\n",
    "    while stack and stack[-1][1] < cur_temp:\n",
    "        prev_day, _ = stack.pop()\n",
    "        answers[prev_day] = cur_day - prev_day\n",
    "    stack.append((cur_day, cur_temp))\n",
    "\n",
    "print(answers)"
   ]
  },
  {
   "metadata": {},
   "cell_type": "markdown",
   "source": [
    "### Hash Table 1. Two sum\n",
    "- python에서는 dictionary 로 구현되어 있고, 내부적으로는 array list(open addressing)로 구현됨\n",
    "- 시간복잡도 상에서 유리한 이유? 특정한 키가 해시테이블에 존재하는지 확인하는 로직 -> O(1)"
   ]
  },
  {
   "metadata": {},
   "cell_type": "code",
   "outputs": [],
   "execution_count": null,
   "source": [
    "def two_sum(nums, target):\n",
    "    hashTable = {}\n",
    "    for i in range(len(nums)):\n",
    "        needed_number = target - nums[i]\n",
    "        if nums[i] in hashTable:\n",
    "            return True\n",
    "        else:\n",
    "            hashTable[nums[i]] = i\n",
    "    return False\n",
    "            "
   ]
  },
  {
   "metadata": {},
   "cell_type": "markdown",
   "source": [
    "### Hash Table 2. Longest Consecutive Sequence\n",
    "- 정렬되어 있지 않은 정수형 배열 nums가 주어졌다. nums 원소를 가지고 만들 수 있는 가장 긴 연속된 수의 갯수는 몇개인지 반환하시오.\n",
    "- 키 조회 O(1) 를 이용한 풀이법\n",
    "- 시작하는 숫자가 아니면 반복하지 않기에 최악의 경우에도 3N번 실행 -> O(N)"
   ]
  },
  {
   "metadata": {},
   "cell_type": "code",
   "outputs": [],
   "execution_count": null,
   "source": [
    "def longestConsecutive(nums):\n",
    "    longest = 0\n",
    "    nums_set = set()\n",
    "    for n in nums:  # O(N)\n",
    "        nums_set.add(n)\n",
    "    for n in nums:  # O(2N) = O(N)\n",
    "        if not n-1 in nums_set:\n",
    "            cnt = 1\n",
    "            target = n + 1\n",
    "            while target in nums_set:\n",
    "                target += 1\n",
    "                cnt += 1\n",
    "            longest = max(longest, cnt)\n",
    "    return longest\n",
    "                "
   ]
  },
  {
   "metadata": {},
   "cell_type": "markdown",
   "source": [
    "### Tree\n",
    "- 서로 연결된 Node의 계층적 자료구, root와 부모 자식간 subtree로 구성\n",
    "- Linked list로 구현\n",
    "\n",
    "### Tree 관련 개념\n",
    "- node : 트리를 구성하는 클래스\n",
    "- edge : 노드간 연결된 선\n",
    "- root node : 트리는 항상 루트에서 시작\n",
    "- leaf node : 더이상 뻗어갈 수 없는 말단 노드\n",
    "- child : 자식, parent : 부모, sibling : 형제\n",
    "- degree : 각 노드의 자식 노드 수, 모든 노드의 차수가 n 이하라면, n진 트리\n",
    "- ancestor : 위쪽으로 간선을 따라가며 만나는 모든 노드\n",
    "- descendant : 아래쪽으로 간선을 따라가며 만나는 모든 노드\n",
    "- level : root에서 떨어진 거리\n",
    "- height : root node에서 가장 멀리있는 노드까지의 거리(간선의 수)\n",
    "\n",
    "* Complete Binary Tree : 마지막 레벨의 노드를 제외하고, 모든 노드의 차수가 2개, 마지막 레벨은 왼쪽부터 채워짐"
   ]
  },
  {
   "metadata": {
    "ExecuteTime": {
     "end_time": "2024-12-05T13:09:01.202894Z",
     "start_time": "2024-12-05T13:09:01.196107Z"
    }
   },
   "cell_type": "code",
   "source": [
    "class Node(object):\n",
    "    def __init__(self, value=0, left=None, right=None):\n",
    "        self.value = value\n",
    "        self.left = left\n",
    "        self.right = right\n",
    "\n",
    "class BinaryTree(object):\n",
    "    def __init__(self):\n",
    "        self.root = None\n",
    "        \n",
    "binaryTree = BinaryTree()\n",
    "binaryTree.root = Node(value=1)\n",
    "binaryTree.root.left = Node(value= 2)\n",
    "binaryTree.root.right = Node(value= 3)\n",
    "binaryTree.root.left.left = Node(value= 4)\n",
    "binaryTree.root.left.right = Node(value= 5)\n",
    "binaryTree.root.right.right = Node(value= 6)"
   ],
   "outputs": [],
   "execution_count": 1
  },
  {
   "metadata": {},
   "cell_type": "markdown",
   "source": [
    "### Traveral(Search)\n",
    "- 트리의 각 노드를 방문하는 과정. 모든 노드를 한 번씩 방문해야 하므로, 완전 탐색이라 불림\n",
    "- BFS/DEF Search \n",
    "\n",
    "### BFS(Breadth First Search)\n",
    "- linked list + queue\n",
    "- 너비우선 탐색\n",
    "- 같은 레벨의 노드부터 탐색 진행"
   ]
  },
  {
   "metadata": {},
   "cell_type": "code",
   "outputs": [],
   "execution_count": null,
   "source": [
    "from collections import deque\n",
    "\n",
    "def bfs(root):\n",
    "    visited = []\n",
    "    if root is None:\n",
    "        return []\n",
    "    queue = deque()\n",
    "    queue.append(root)\n",
    "    while queue:\n",
    "        cur_node = queue.popleft()\n",
    "        visited.append(cur_node.value)\n",
    "        if cur_node.left:\n",
    "            queue.append(cur_node.left)\n",
    "        if cur_node.right:\n",
    "            queue.append(cur_node.right)\n",
    "    return visited\n",
    "\n",
    "bfs(binaryTree)"
   ]
  },
  {
   "metadata": {},
   "cell_type": "markdown",
   "source": "### DFS - linked list"
  }
 ],
 "metadata": {
  "kernelspec": {
   "display_name": "Python 3",
   "language": "python",
   "name": "python3"
  },
  "language_info": {
   "codemirror_mode": {
    "name": "ipython",
    "version": 3
   },
   "file_extension": ".py",
   "mimetype": "text/x-python",
   "name": "python",
   "nbconvert_exporter": "python",
   "pygments_lexer": "ipython3",
   "version": "3.9.13"
  },
  "orig_nbformat": 4
 },
 "nbformat": 4,
 "nbformat_minor": 2
}
