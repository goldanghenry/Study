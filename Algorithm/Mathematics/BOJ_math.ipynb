{
 "cells": [
  {
   "cell_type": "markdown",
   "metadata": {},
   "source": [
    "### 셀프 넘버\n",
    "- silver 5\n",
    "- https://www.acmicpc.net/problem/4673\n",
    "---\n",
    "셀프 넘버는 1949년 인도 수학자 D.R. Kaprekar가 이름 붙였다. 양의 정수 n에 대해서 d(n)을 n과 n의 각 자리수를 더하는 함수라고 정의하자. 예를 들어, d(75) = 75+7+5 = 87이다.\n",
    "\n",
    "양의 정수 n이 주어졌을 때, 이 수를 시작해서 n, d(n), d(d(n)), d(d(d(n))), ...과 같은 무한 수열을 만들 수 있다. \n",
    "\n",
    "예를 들어, 33으로 시작한다면 다음 수는 33 + 3 + 3 = 39이고, 그 다음 수는 39 + 3 + 9 = 51, 다음 수는 51 + 5 + 1 = 57이다. 이런식으로 다음과 같은 수열을 만들 수 있다.\n",
    "\n",
    "33, 39, 51, 57, 69, 84, 96, 111, 114, 120, 123, 129, 141, ...\n",
    "\n",
    "n을 d(n)의 생성자라고 한다. 위의 수열에서 33은 39의 생성자이고, 39는 51의 생성자, 51은 57의 생성자이다. 생성자가 한 개보다 많은 경우도 있다. 예를 들어, 101은 생성자가 2개(91과 100) 있다. \n",
    "\n",
    "생성자가 없는 숫자를 셀프 넘버라고 한다. 100보다 작은 셀프 넘버는 총 13개가 있다. 1, 3, 5, 7, 9, 20, 31, 42, 53, 64, 75, 86, 97\n",
    "\n",
    "10000보다 작거나 같은 셀프 넘버를 한 줄에 하나씩 출력하는 프로그램을 작성하시오."
   ]
  },
  {
   "cell_type": "code",
   "execution_count": null,
   "metadata": {},
   "outputs": [],
   "source": [
    "# True : 셀프넘버\n",
    "# False : 생성자 존재\n",
    "# 메모이제이션 -> 1부터 10000\n",
    "# 무한 수열 생성시 cur이 이미 false면 그 뒤의 생성되는 수열도 모두 false기에 break\n",
    "\n",
    "num_list = [True]*10001\n",
    "\n",
    "for i in range(1,10001):  # 생성자 i로 만들 수 있는 모든 수\n",
    "    n = i\n",
    "    if num_list[n]==False: continue # 이미 처리한 수열이라면\n",
    "    while True:    # 무한 수열 생성\n",
    "            n = sum(map(int,[n]+list(str(n))))  # 수열의 다음 수 생성\n",
    "            if n > 10000 or num_list[n]==False: # 이미 처리한 수열이라면 break\n",
    "                break        \n",
    "            else: num_list[n] = False\n",
    "\n",
    "for i in range(1,10001):\n",
    "      if num_list[i]: print(i)"
   ]
  },
  {
   "cell_type": "markdown",
   "metadata": {},
   "source": [
    "### 그룹단어 체커\n",
    "- silver 5\n",
    "- https://www.acmicpc.net/problem/1316\n",
    "---\n",
    "그룹 단어란 단어에 존재하는 모든 문자에 대해서, 각 문자가 연속해서 나타나는 경우만을 말한다. 예를 들면, ccazzzzbb는 c, a, z, b가 모두 연속해서 나타나고, kin도 k, i, n이 연속해서 나타나기 때문에 그룹 단어이지만, aabbbccb는 b가 떨어져서 나타나기 때문에 그룹 단어가 아니다.\n",
    "\n",
    "단어 N개를 입력으로 받아 그룹 단어의 개수를 출력하는 프로그램을 작성하시오."
   ]
  },
  {
   "cell_type": "code",
   "execution_count": null,
   "metadata": {},
   "outputs": [
    {
     "name": "stdout",
     "output_type": "stream",
     "text": [
      "2\n"
     ]
    }
   ],
   "source": [
    "# 이미 나온 문자가 뒤에 나온다면 그룹단어x\n",
    "# 단어가 등장하면 stack에 추가, 만약 이번 단어가 top과 다르고 이미 스택에 있다면 break\n",
    "# flag\n",
    "import sys\n",
    "#input = sys.stdin.readline\n",
    "\n",
    "cnt = 0\n",
    "for _ in range(int(input().rstrip())):\n",
    "    stack = []\n",
    "    flag = True\n",
    "    for chr in input().rstrip():\n",
    "        if stack and stack[-1]!=chr and chr in stack:\n",
    "            flag = False\n",
    "            break\n",
    "        else:\n",
    "            stack.append(chr)\n",
    "    if flag: cnt+=1\n",
    "\n",
    "print(cnt)"
   ]
  },
  {
   "cell_type": "markdown",
   "metadata": {},
   "source": [
    "### 분수 찾기\n",
    "- silver 5\n",
    "- https://www.acmicpc.net/problem/1193\n",
    "---\n",
    "이와 같이 나열된 분수들을 1/1 → 1/2 → 2/1 → 3/1 → 2/2 → … 과 같은 지그재그 순서로 차례대로 1번, 2번, 3번, 4번, 5번, … 분수라고 하자.\n",
    "\n",
    "X가 주어졌을 때, X번째 분수를 구하는 프로그램을 작성하시오."
   ]
  },
  {
   "cell_type": "code",
   "execution_count": null,
   "metadata": {},
   "outputs": [
    {
     "name": "stdout",
     "output_type": "stream",
     "text": [
      "2/4\n"
     ]
    }
   ],
   "source": [
    "# 방법1) 시뮬레이션 -> 시간 초과\n",
    "# 윗벽에 닿으면(분자==1) -> 왼쪽으로 한 칸 이동(분모+1) -> 대각선 아래로 이동(분자+1, 분모-1)\n",
    "# -> 왼벽에 닿으면(분모==1) -> 아래로 한 칸 이동(분자+1) -> 대각선 위로 이동(분자-1, 분모+1)\n",
    "num,denom = 1,1   # 분자, 분모\n",
    "next_dir = 'U'\n",
    "for _ in range(int(input())-1):\n",
    "    if num==1 and next_dir=='U': \n",
    "        denom+=1\n",
    "        next_dir = 'D'\n",
    "    elif denom==1 and next_dir=='D':\n",
    "        num+=1\n",
    "        next_dir = 'U'\n",
    "    elif next_dir == 'D':\n",
    "        num+=1\n",
    "        denom-=1\n",
    "    elif next_dir =='U':\n",
    "        num-=1\n",
    "        denom+=1\n",
    "\n",
    "print(f'{num}/{denom}')\n"
   ]
  },
  {
   "cell_type": "code",
   "execution_count": null,
   "metadata": {},
   "outputs": [
    {
     "name": "stdout",
     "output_type": "stream",
     "text": [
      "2/2\n"
     ]
    }
   ],
   "source": [
    "# 방법2) 규칙 발견\n",
    "n=int(input())\n",
    "i=1\n",
    "sum=0\n",
    "while True:\n",
    "    sum+=i\n",
    "    if sum>=n : break\n",
    "    i+=1\n",
    "k=sum-n\n",
    "if i%2==0: print(f'{i-k}/{1+k}')\n",
    "else: print(f'{1+k}/{i-k}')"
   ]
  },
  {
   "cell_type": "markdown",
   "metadata": {},
   "source": [
    "### 소트인사이드\n",
    "- https://www.acmicpc.net/problem/1427\n",
    "- silver 5\n",
    "---\n",
    "배열을 정렬하는 것은 쉽다. 수가 주어지면, 그 수의 각 자리수를 내림차순으로 정렬해보자."
   ]
  },
  {
   "cell_type": "code",
   "execution_count": null,
   "metadata": {},
   "outputs": [
    {
     "name": "stdout",
     "output_type": "stream",
     "text": [
      "99999999998\n"
     ]
    }
   ],
   "source": [
    "print(''.join(sorted(input(), reverse=True)))"
   ]
  },
  {
   "cell_type": "markdown",
   "metadata": {},
   "source": [
    "### 다리 놓기\n",
    "- silver 5\n",
    "- https://www.acmicpc.net/problem/1010\n",
    "---\n",
    "재원이는 한 도시의 시장이 되었다. 이 도시에는 도시를 동쪽과 서쪽으로 나누는 큰 일직선 모양의 강이 흐르고 있다. 하지만 재원이는 다리가 없어서 시민들이 강을 건너는데 큰 불편을 겪고 있음을 알고 다리를 짓기로 결심하였다. 강 주변에서 다리를 짓기에 적합한 곳을 사이트라고 한다. 재원이는 강 주변을 면밀히 조사해 본 결과 강의 서쪽에는 N개의 사이트가 있고 동쪽에는 M개의 사이트가 있다는 것을 알았다. (N ≤ M)\n",
    "\n",
    "재원이는 서쪽의 사이트와 동쪽의 사이트를 다리로 연결하려고 한다. (이때 한 사이트에는 최대 한 개의 다리만 연결될 수 있다.) 재원이는 다리를 최대한 많이 지으려고 하기 때문에 서쪽의 사이트 개수만큼 (N개) 다리를 지으려고 한다. 다리끼리는 서로 겹쳐질 수 없다고 할 때 다리를 지을 수 있는 경우의 수를 구하는 프로그램을 작성하라."
   ]
  },
  {
   "cell_type": "code",
   "execution_count": null,
   "metadata": {},
   "outputs": [
    {
     "name": "stdout",
     "output_type": "stream",
     "text": [
      "67863915\n"
     ]
    }
   ],
   "source": [
    "# 방법 1) 시간초과 판정\n",
    "from itertools import combinations\n",
    "# import sys\n",
    "#input = sys.stdin.readline\n",
    "\n",
    "for i in range(int(input().rstrip())):\n",
    "    N,M = map(int, input().split())\n",
    "    print(len(list(combinations(range(M),N))))"
   ]
  },
  {
   "cell_type": "code",
   "execution_count": null,
   "metadata": {},
   "outputs": [
    {
     "name": "stdout",
     "output_type": "stream",
     "text": [
      "5\n"
     ]
    }
   ],
   "source": [
    "# 방법 2) 단순 개수를 구할때는 math\n",
    "import math\n",
    "# import sys\n",
    "#input = sys.stdin.readline\n",
    "\n",
    "for i in range(int(input().rstrip())):\n",
    "    N,M = map(int, input().split())\n",
    "    print(math.comb(M,N))"
   ]
  },
  {
   "cell_type": "markdown",
   "metadata": {},
   "source": [
    "### 숫자 카드\n",
    "- silver 5\n",
    "- https://www.acmicpc.net/problem/10815\n",
    "---\n",
    "숫자 카드는 정수 하나가 적혀져 있는 카드이다. 상근이는 숫자 카드 N개를 가지고 있다. 정수 M개가 주어졌을 때, 이 수가 적혀있는 숫자 카드를 상근이가 가지고 있는지 아닌지를 구하는 프로그램을 작성하시오.\n",
    "\n",
    "첫째 줄에 입력으로 주어진 M개의 수에 대해서, 각 수가 적힌 숫자 카드를 상근이가 가지고 있으면 1을, 아니면 0을 공백으로 구분해 출력한다."
   ]
  },
  {
   "cell_type": "code",
   "execution_count": null,
   "metadata": {},
   "outputs": [
    {
     "name": "stdout",
     "output_type": "stream",
     "text": [
      "{1: 1, 2: 1, 3: 1, 4: 1, 5: 1}\n",
      "1 1 0 "
     ]
    }
   ],
   "source": [
    "# 방법 1) 딕셔너리 -> 이진 탐색보다 빠름\n",
    "import sys\n",
    "input = sys.stdin.readline\n",
    "\n",
    "N = input()\n",
    "card_set = { n:1 for n in map(int,input().split())}   # 가지고 있는 카드 세트\n",
    "M = input()\n",
    "for i in map(int,input().split()):\n",
    "    try: print(card_set[i], end=' ')\n",
    "    except: print(0, end=' ')"
   ]
  },
  {
   "cell_type": "code",
   "execution_count": null,
   "metadata": {},
   "outputs": [],
   "source": [
    "# 방법 2) 이진 탐색\n",
    "import sys\n",
    "\n",
    "n = int(input())\n",
    "card = list(map(int, sys.stdin.readline().split()))\n",
    "m = int(input())\n",
    "check = list(map(int, sys.stdin.readline().split()))\n",
    "\n",
    "card.sort()\n",
    "\n",
    "def binary_search(array, target, start, end):\n",
    "    while start <= end:\n",
    "        mid = (start + end) // 2\n",
    "\n",
    "        if array[mid] == target:\n",
    "            return mid\n",
    "        elif array[mid] > target:\n",
    "            end = mid - 1\n",
    "        else:\n",
    "            start = mid + 1\n",
    "    return None\n",
    "\n",
    "\n",
    "for i in range(m):\n",
    "    if binary_search(card, check[i], 0, n - 1) is not None:\n",
    "        print(1, end=' ')\n",
    "    else:\n",
    "        print(0, end=' ')"
   ]
  },
  {
   "cell_type": "markdown",
   "metadata": {},
   "source": [
    "### 색종이\n",
    "- silver 5\n",
    "- https://www.acmicpc.net/problem/2563\n",
    "---\n",
    "가로, 세로의 크기가 각각 100인 정사각형 모양의 흰색 도화지가 있다. 이 도화지 위에 가로, 세로의 크기가 각각 10인 정사각형 모양의 검은색 색종이를 색종이의 변과 도화지의 변이 평행하도록 붙인다. 이러한 방식으로 색종이를 한 장 또는 여러 장 붙인 후 색종이가 붙은 검은 영역의 넓이를 구하는 프로그램을 작성하시오.\n",
    "\n",
    "첫째 줄에 색종이의 수가 주어진다. 이어 둘째 줄부터 한 줄에 하나씩 색종이를 붙인 위치가 주어진다. 색종이를 붙인 위치는 두 개의 자연수로 주어지는데 첫 번째 자연수는 색종이의 왼쪽 변과 도화지의 왼쪽 변 사이의 거리이고, 두 번째 자연수는 색종이의 아래쪽 변과 도화지의 아래쪽 변 사이의 거리이다. 색종이의 수는 100 이하이며, 색종이가 도화지 밖으로 나가는 경우는 없다"
   ]
  },
  {
   "cell_type": "code",
   "execution_count": null,
   "metadata": {},
   "outputs": [
    {
     "name": "stdout",
     "output_type": "stream",
     "text": [
      "260\n"
     ]
    }
   ],
   "source": [
    "# 1만개 포인트\n",
    "import sys\n",
    "input = sys.stdin.readline\n",
    "\n",
    "result = 0\n",
    "paper = [[ 0 for _ in range(100)] for _ in range(100)]\n",
    "for _ in range(int(input().rstrip())):\n",
    "    y,x = map(int,input().split())\n",
    "    for i in range(y,y+10):\n",
    "        for j in range(x,x+10):\n",
    "            if not paper[i][j]:\n",
    "                result +=1\n",
    "                paper[i][j]=1\n",
    "\n",
    "print(result)"
   ]
  },
  {
   "cell_type": "markdown",
   "metadata": {},
   "source": [
    "### 방 번호\n",
    "- silver 5\n",
    "- https://www.acmicpc.net/problem/1475\n",
    "---\n",
    "다솜이는 은진이의 옆집에 새로 이사왔다. 다솜이는 자기 방 번호를 예쁜 플라스틱 숫자로 문에 붙이려고 한다.\n",
    "\n",
    "다솜이의 옆집에서는 플라스틱 숫자를 한 세트로 판다. 한 세트에는 0번부터 9번까지 숫자가 하나씩 들어있다. 다솜이의 방 번호가 주어졌을 때, 필요한 세트의 개수의 최솟값을 출력하시오. (6은 9를 뒤집어서 이용할 수 있고, 9는 6을 뒤집어서 이용할 수 있다.)"
   ]
  },
  {
   "cell_type": "code",
   "execution_count": null,
   "metadata": {},
   "outputs": [
    {
     "name": "stdout",
     "output_type": "stream",
     "text": [
      "3\n"
     ]
    }
   ],
   "source": [
    "num_list = [0]*10\n",
    "\n",
    "for n in input():\n",
    "    num_list[int(n)]+=1\n",
    "\n",
    "num_list[6] = round((num_list[6] + num_list[9])/2+0.1)\n",
    "print(max(num_list[:9]))"
   ]
  },
  {
   "cell_type": "markdown",
   "metadata": {},
   "source": [
    "### 날짜 계산\n",
    "- silver 5\n",
    "- https://www.acmicpc.net/problem/1476\n",
    "---\n",
    "준규가 사는 나라는 우리가 사용하는 연도와 다른 방식을 이용한다. 준규가 사는 나라에서는 수 3개를 이용해서 연도를 나타낸다. 각각의 수는 지구, 태양, 그리고 달을 나타낸다.\n",
    "\n",
    "지구를 나타내는 수를 E, 태양을 나타내는 수를 S, 달을 나타내는 수를 M이라고 했을 때, 이 세 수는 서로 다른 범위를 가진다. (1 ≤ E ≤ 15, 1 ≤ S ≤ 28, 1 ≤ M ≤ 19)\n",
    "\n",
    "우리가 알고있는 1년은 준규가 살고있는 나라에서는 1 1 1로 나타낼 수 있다. 1년이 지날 때마다, 세 수는 모두 1씩 증가한다. 만약, 어떤 수가 범위를 넘어가는 경우에는 1이 된다.\n",
    "\n",
    "예를 들어, 15년은 15 15 15로 나타낼 수 있다. 하지만, 1년이 지나서 16년이 되면 16 16 16이 아니라 1 16 16이 된다. 이유는 1 ≤ E ≤ 15 라서 범위를 넘어가기 때문이다.\n",
    "\n",
    "E, S, M이 주어졌고, 1년이 준규가 사는 나라에서 1 1 1일때, 준규가 사는 나라에서 E S M이 우리가 알고 있는 연도로 몇 년인지 구하는 프로그램을 작성하시오."
   ]
  },
  {
   "cell_type": "code",
   "execution_count": null,
   "metadata": {},
   "outputs": [
    {
     "name": "stdout",
     "output_type": "stream",
     "text": [
      "7980\n"
     ]
    }
   ],
   "source": [
    "# 방법 1) 시뮬레이션\n",
    "E,S,M = map(int,input().split())\n",
    "i,j,k=1,1,1\n",
    "count = 1\n",
    "\n",
    "while E!=i or S!=j or M!=k:\n",
    "    i+=1\n",
    "    j+=1\n",
    "    k+=1\n",
    "    if i % 16 ==0: i=1\n",
    "    if j % 29 ==0: j=1\n",
    "    if k % 20 ==0: k=1\n",
    "    count+=1\n",
    "\n",
    "print(count)"
   ]
  },
  {
   "cell_type": "markdown",
   "metadata": {},
   "source": [
    "### 집합\n",
    "- silver 5\n",
    "- https://www.acmicpc.net/problem/11723\n",
    "---\n",
    "비어있는 공집합 S가 주어졌을 때, 아래 연산을 수행하는 프로그램을 작성하시오.\n",
    "\n",
    "add x: S에 x를 추가한다. (1 ≤ x ≤ 20) S에 x가 이미 있는 경우에는 연산을 무시한다.\n",
    "remove x: S에서 x를 제거한다. (1 ≤ x ≤ 20) S에 x가 없는 경우에는 연산을 무시한다.\n",
    "check x: S에 x가 있으면 1을, 없으면 0을 출력한다. (1 ≤ x ≤ 20)\n",
    "toggle x: S에 x가 있으면 x를 제거하고, 없으면 x를 추가한다. (1 ≤ x ≤ 20)\n",
    "all: S를 {1, 2, ..., 20} 으로 바꾼다.\n",
    "empty: S를 공집합으로 바꾼다."
   ]
  },
  {
   "cell_type": "code",
   "execution_count": null,
   "metadata": {},
   "outputs": [],
   "source": [
    "# 방법 1) 집합 연산\n",
    "import sys\n",
    "\n",
    "S = set()\n",
    "all_set = set(range(1,21))\n",
    "\n",
    "for _ in range(int(sys.stdin.readline().rstrip())):\n",
    "    input_cmd = sys.stdin.readline().rstrip()\n",
    "    if input_cmd == 'all': \n",
    "        S= all_set\n",
    "    elif input_cmd == 'empty': \n",
    "        S = set()\n",
    "    else:\n",
    "        cmd , num = input_cmd.split()\n",
    "        num = int(num)\n",
    "        if cmd == 'add': S.add(num)\n",
    "        elif cmd== 'remove': \n",
    "            S.discard(num)\n",
    "        elif cmd=='check': \n",
    "            print(1 if num in S else 0)\n",
    "        elif cmd=='toggle':\n",
    "            if num in S: S.discard(num)\n",
    "            else: S.add(num)"
   ]
  },
  {
   "cell_type": "code",
   "execution_count": null,
   "metadata": {},
   "outputs": [],
   "source": [
    "# 방법 2) 비트 연산\n",
    "import sys\n",
    "\n",
    "input = sys.stdin.readline\n",
    "\n",
    "M = int(input())\n",
    "S = 0\n",
    "\n",
    "for _ in range(M):\n",
    "    op = input().split()\n",
    "    \n",
    "    if op[0] == 'add':\n",
    "        S |= (1 << int(op[1]))\n",
    "    elif op[0] == 'remove':\n",
    "        S &= ~(1 << int(op[1]))\n",
    "    elif op[0] == 'check':\n",
    "        res = (S & (1 << int(op[1]))) >> int(op[1])\n",
    "        print(res)\n",
    "    elif op[0] == 'toggle':\n",
    "        S ^= (1 << int(op[1]))\n",
    "    elif op[0] == 'all':\n",
    "        S = (1 << 21) - 1\n",
    "    elif op[0] == 'empty':\n",
    "        S = 0"
   ]
  },
  {
   "cell_type": "markdown",
   "metadata": {},
   "source": [
    "### 막대기\n",
    "- silver 5\n",
    "- https://www.acmicpc.net/problem/1094\n",
    "---\n",
    "지민이는 길이가 64cm인 막대를 가지고 있다. 어느 날, 그는 길이가 Xcm인 막대가 가지고 싶어졌다. 지민이는 원래 가지고 있던 막대를 더 작은 막대로 자른다음에, 풀로 붙여서 길이가 Xcm인 막대를 만들려고 한다.\n",
    "\n",
    "막대를 자르는 가장 쉬운 방법은 절반으로 자르는 것이다. 지민이는 아래와 같은 과정을 거쳐서 막대를 자르려고 한다.\n",
    "\n",
    "지민이가 가지고 있는 막대의 길이를 모두 더한다. 처음에는 64cm 막대 하나만 가지고 있다. 이때, 합이 X보다 크다면, 아래와 같은 과정을 반복한다.\n",
    "가지고 있는 막대 중 길이가 가장 짧은 것을 절반으로 자른다.\n",
    "만약, 위에서 자른 막대의 절반 중 하나를 버리고 남아있는 막대의 길이의 합이 X보다 크거나 같다면, 위에서 자른 막대의 절반 중 하나를 버린다.\n",
    "이제, 남아있는 모든 막대를 풀로 붙여서 Xcm를 만든다.\n",
    "X가 주어졌을 때, 위의 과정을 거친다면, 몇 개의 막대를 풀로 붙여서 Xcm를 만들 수 있는지 구하는 프로그램을 작성하시오. "
   ]
  },
  {
   "cell_type": "code",
   "execution_count": 7,
   "metadata": {},
   "outputs": [
    {
     "name": "stdout",
     "output_type": "stream",
     "text": [
      "[64]\n",
      "32\n",
      "2\n",
      "[32, 32]\n",
      "16\n",
      "1\n",
      "2\n"
     ]
    }
   ],
   "source": [
    "# 가지고 있는 막대 중 길이가 가장 짧은 것 -> 항상 stack의 top에 위치\n",
    "X = int(input())\n",
    "Jimin = [64]\n",
    "\n",
    "while sum(Jimin)!=X:\n",
    "    minimum = (Jimin.pop())//2\n",
    "    if minimum+sum(Jimin) >= X:\n",
    "        Jimin.append(minimum)\n",
    "    else:\n",
    "        Jimin+=[minimum,minimum]\n",
    "\n",
    "print(len(Jimin))\n"
   ]
  },
  {
   "cell_type": "markdown",
   "metadata": {},
   "source": [
    "### 재귀함수가 뭔가요?\n",
    "- silver 5\n",
    "- https://www.acmicpc.net/problem/17478\n",
    "---\n",
    "평소에 질문을 잘 받아주기로 유명한 중앙대학교의 JH 교수님은 학생들로부터 재귀함수가 무엇인지에 대하여 많은 질문을 받아왔다.\n",
    "\n",
    "매번 질문을 잘 받아주셨던 JH 교수님이지만 그는 중앙대학교가 자신과 맞는가에 대한 고민을 항상 해왔다.\n",
    "\n",
    "중앙대학교와 자신의 길이 맞지 않다고 생각한 JH 교수님은 결국 중앙대학교를 떠나기로 결정하였다.\n",
    "\n",
    "떠나기 전까지도 제자들을 생각하셨던 JH 교수님은 재귀함수가 무엇인지 물어보는 학생들을 위한 작은 선물로 자동 응답 챗봇을 준비하기로 했다.\n",
    "\n",
    "JH 교수님이 만들 챗봇의 응답을 출력하는 프로그램을 만들어보자."
   ]
  },
  {
   "cell_type": "code",
   "execution_count": 13,
   "metadata": {},
   "outputs": [
    {
     "name": "stdout",
     "output_type": "stream",
     "text": [
      "어느 한 컴퓨터공학과 학생이 유명한 교수님을 찾아가 물었다.\n",
      "\"재귀함수가 뭔가요?\"\n",
      "\"잘 들어보게. 옛날옛날 한 산 꼭대기에 이세상 모든 지식을 통달한 선인이 있었어.\n",
      "마을 사람들은 모두 그 선인에게 수많은 질문을 했고, 모두 지혜롭게 대답해 주었지.\n",
      "그의 답은 대부분 옳았다고 하네. 그런데 어느 날, 그 선인에게 한 선비가 찾아와서 물었어.\"\n",
      "____\"재귀함수가 뭔가요?\"\n",
      "____\"잘 들어보게. 옛날옛날 한 산 꼭대기에 이세상 모든 지식을 통달한 선인이 있었어.\n",
      "____마을 사람들은 모두 그 선인에게 수많은 질문을 했고, 모두 지혜롭게 대답해 주었지.\n",
      "____그의 답은 대부분 옳았다고 하네. 그런데 어느 날, 그 선인에게 한 선비가 찾아와서 물었어.\"\n",
      "________\"재귀함수가 뭔가요?\"\n",
      "________\"재귀함수는 자기 자신을 호출하는 함수라네\"\n",
      "________라고 답변하였지.\n",
      "____라고 답변하였지.\n",
      "라고 답변하였지.\n"
     ]
    }
   ],
   "source": [
    "def recursive_bot(n,i):\n",
    "    if n==i: print('어느 한 컴퓨터공학과 학생이 유명한 교수님을 찾아가 물었다.')\n",
    "    print('____'*(i-n)+'\"재귀함수가 뭔가요?\"')\n",
    "    if n == 0:\n",
    "        print('____'*(i-n)+'\"재귀함수는 자기 자신을 호출하는 함수라네\"')\n",
    "        print('____'*(i-n)+'라고 답변하였지.')\n",
    "        return\n",
    "    else:\n",
    "        print('____'*(i-n)+'\"잘 들어보게. 옛날옛날 한 산 꼭대기에 이세상 모든 지식을 통달한 선인이 있었어.')\n",
    "        print('____'*(i-n)+'마을 사람들은 모두 그 선인에게 수많은 질문을 했고, 모두 지혜롭게 대답해 주었지.')\n",
    "        print('____'*(i-n)+'그의 답은 대부분 옳았다고 하네. 그런데 어느 날, 그 선인에게 한 선비가 찾아와서 물었어.\"')\n",
    "        recursive_bot(n-1,i)\n",
    "        print('____'*(i-n)+'라고 답변하였지.')\n",
    "\n",
    "N = int(input())\n",
    "recursive_bot(N,N)"
   ]
  },
  {
   "cell_type": "markdown",
   "metadata": {},
   "source": [
    "### 돌 게임\n",
    "- silver 5\n",
    "- https://www.acmicpc.net/problem/9655\n",
    "---\n",
    "돌 게임은 두 명이서 즐기는 재밌는 게임이다.\n",
    "\n",
    "탁자 위에 돌 N개가 있다. 상근이와 창영이는 턴을 번갈아가면서 돌을 가져가며, 돌은 1개 또는 3개 가져갈 수 있다. 마지막 돌을 가져가는 사람이 게임을 이기게 된다.\n",
    "\n",
    "두 사람이 완벽하게 게임을 했을 때, 이기는 사람을 구하는 프로그램을 작성하시오. 게임은 상근이가 먼저 시작한다."
   ]
  },
  {
   "cell_type": "code",
   "execution_count": 1,
   "metadata": {},
   "outputs": [
    {
     "name": "stdout",
     "output_type": "stream",
     "text": [
      "SK\n"
     ]
    }
   ],
   "source": [
    "# 번갈아가며 1 or 3개씩 가져간다\n",
    "# 마지막 돌을 가져가는 사람이 이김\n",
    "# 상근이부터 시작\n",
    "# n = 1 -> 상근(1) -> 상근 승\n",
    "# n = 2 -> 상근(1) 창영(1) -> 창영 승\n",
    "# n = 3 -> 상근(3) -> 상근 승\n",
    "# n = 4 -> 상근(3) -> 창영(1) -> 창영 승\n",
    "# n = 5 -> 상근(1) -> 창영(1) -> 상근 승\n",
    "# n = 6 -> 상근(1) -> 창영(1) -> 상근(1) -> 창영(3) -> 창영 승\n",
    "\n",
    "N = int(input())\n",
    "\n",
    "if N%2==0: print('CY')\n",
    "else: print('SK')"
   ]
  },
  {
   "cell_type": "markdown",
   "metadata": {},
   "source": [
    "### 뒤집기\n",
    "- silver 5\n",
    "- https://www.acmicpc.net/problem/1439\n",
    "---\n",
    "다솜이는 0과 1로만 이루어진 문자열 S를 가지고 있다. 다솜이는 이 문자열 S에 있는 모든 숫자를 전부 같게 만들려고 한다. 다솜이가 할 수 있는 행동은 S에서 연속된 하나 이상의 숫자를 잡고 모두 뒤집는 것이다. 뒤집는 것은 1을 0으로, 0을 1로 바꾸는 것을 의미한다.\n",
    "\n",
    "예를 들어 S=0001100 일 때,\n",
    "\n",
    "전체를 뒤집으면 1110011이 된다.\n",
    "4번째 문자부터 5번째 문자까지 뒤집으면 1111111이 되어서 2번 만에 모두 같은 숫자로 만들 수 있다.\n",
    "하지만, 처음부터 4번째 문자부터 5번째 문자까지 문자를 뒤집으면 한 번에 0000000이 되어서 1번 만에 모두 같은 숫자로 만들 수 있다.\n",
    "\n",
    "문자열 S가 주어졌을 때, 다솜이가 해야하는 행동의 최소 횟수를 출력하시오."
   ]
  },
  {
   "cell_type": "code",
   "execution_count": 10,
   "metadata": {},
   "outputs": [
    {
     "data": {
      "text/plain": [
       "'-0b10000'"
      ]
     },
     "execution_count": 10,
     "metadata": {},
     "output_type": "execute_result"
    }
   ],
   "source": [
    "# 모든 숫자를 같게\n",
    "# 구간을 나눠 스위칭 가능\n",
    "# 비트 연산자\n",
    "s = input()\n",
    "count = 0\n",
    "pre =''\n",
    "for num in s:\n",
    "    if pre != num:\n",
    "        pre = num\n",
    "        count+=1\n",
    "print(count//2)"
   ]
  },
  {
   "cell_type": "markdown",
   "metadata": {},
   "source": [
    "### K번째 수\n",
    "- silver 5\n",
    "- https://www.acmicpc.net/problem/11004\n",
    "---\n",
    "수 N개 A1, A2, ..., AN이 주어진다. A를 오름차순 정렬했을 때, 앞에서부터 K번째 있는 수를 구하는 프로그램을 작성하시오."
   ]
  },
  {
   "cell_type": "code",
   "execution_count": 1,
   "metadata": {},
   "outputs": [
    {
     "name": "stdout",
     "output_type": "stream",
     "text": [
      "2\n"
     ]
    }
   ],
   "source": [
    "# 방법 1)\n",
    "import sys\n",
    "\n",
    "input = sys.stdin.readline\n",
    "N,K = map(int,input().split())\n",
    "print(sorted(list(map(int,input().split())))[K-1])"
   ]
  }
 ],
 "metadata": {
  "kernelspec": {
   "display_name": "Python 3",
   "language": "python",
   "name": "python3"
  },
  "language_info": {
   "codemirror_mode": {
    "name": "ipython",
    "version": 3
   },
   "file_extension": ".py",
   "mimetype": "text/x-python",
   "name": "python",
   "nbconvert_exporter": "python",
   "pygments_lexer": "ipython3",
   "version": "3.9.12"
  },
  "orig_nbformat": 4
 },
 "nbformat": 4,
 "nbformat_minor": 2
}
