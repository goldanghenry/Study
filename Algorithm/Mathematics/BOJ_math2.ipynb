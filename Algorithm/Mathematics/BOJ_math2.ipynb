{
 "cells": [
  {
   "cell_type": "markdown",
   "metadata": {},
   "source": [
    "### 중복 빼고 정렬하기\n",
    "- silver 5\n",
    "- https://www.acmicpc.net/problem/10867"
   ]
  },
  {
   "cell_type": "code",
   "execution_count": 2,
   "metadata": {},
   "outputs": [
    {
     "name": "stdout",
     "output_type": "stream",
     "text": [
      "1 2 3 4\n"
     ]
    }
   ],
   "source": [
    "# N 개의 정수 -> 오름차순 정렬 -> 같은 정수는 한번만\n",
    "N = input()\n",
    "print(*sorted(set(map(int,input().split()))))"
   ]
  },
  {
   "cell_type": "markdown",
   "metadata": {},
   "source": [
    "### 점수 계산\n",
    "- silver 5\n",
    "- https://www.acmicpc.net/problem/2822"
   ]
  },
  {
   "cell_type": "code",
   "execution_count": 3,
   "metadata": {},
   "outputs": [
    {
     "name": "stdout",
     "output_type": "stream",
     "text": [
      "261\n",
      "8 6 5 4 3\n"
     ]
    }
   ],
   "source": [
    "import sys\n",
    "\n",
    "result_score = [[i+1, int(sys.stdin.readline().rstrip())] for i in range(8)]\n",
    "total_score = 0\n",
    "rank = []\n",
    "for x in sorted(result_score,key=lambda x:x[1], reverse=True)[:5]:\n",
    "    rank.append(x[0])\n",
    "    total_score += x[1]\n",
    "    \n",
    "print(total_score)    \n",
    "print(*sorted(rank))"
   ]
  },
  {
   "cell_type": "markdown",
   "metadata": {},
   "source": [
    "### 카드1\n",
    "- silver 5\n",
    "- https://www.acmicpc.net/problem/2161"
   ]
  },
  {
   "cell_type": "code",
   "execution_count": 7,
   "metadata": {},
   "outputs": [
    {
     "name": "stdout",
     "output_type": "stream",
     "text": [
      "deque([1, 2, 3, 4, 5, 6, 7])\n",
      "1 3 5 7 4 2 6 "
     ]
    }
   ],
   "source": [
    "from collections import deque\n",
    "n = int(input())\n",
    "queue = deque(list(range(1,n+1)))\n",
    "for _ in range(n-1):\n",
    "    # 카드 버리기\n",
    "    print(queue.popleft(), end=' ')\n",
    "    # 카드 아래로\n",
    "    top = queue.popleft()\n",
    "    queue.append(top)\n",
    "print(queue[0], end=' ')"
   ]
  },
  {
   "cell_type": "markdown",
   "metadata": {},
   "source": [
    "### 듣보잡\n",
    "- silver 4\n",
    "- https://www.acmicpc.net/problem/1764\n",
    "- 김진영이 듣도 못한 사람의 명단과, 보도 못한 사람의 명단이 주어질 때, 듣도 보도 못한 사람의 명단을 구하는 프로그램을 작성하시오."
   ]
  },
  {
   "cell_type": "code",
   "execution_count": null,
   "metadata": {},
   "outputs": [
    {
     "name": "stdout",
     "output_type": "stream",
     "text": [
      "2\n",
      "ba\n",
      "oh\n"
     ]
    }
   ],
   "source": [
    "import sys\n",
    "input = sys.stdin.readline\n",
    "n,m = map(int,input().split())\n",
    "N= {input().strip() for _ in range(n)}\n",
    "M= {input().strip() for _ in range(m)}\n",
    "\n",
    "NM = N.intersection(M)\n",
    "\n",
    "print(len(NM))\n",
    "print(\"\\n\".join(sorted(NM)))"
   ]
  },
  {
   "cell_type": "markdown",
   "metadata": {},
   "source": [
    "### 대칭차집합\n",
    "- silver 4\n",
    "- https://www.acmicpc.net/problem/1269\n"
   ]
  },
  {
   "cell_type": "code",
   "execution_count": null,
   "metadata": {},
   "outputs": [
    {
     "name": "stdout",
     "output_type": "stream",
     "text": [
      "4\n"
     ]
    }
   ],
   "source": [
    "import sys\n",
    "input = sys.stdin.readline\n",
    "\n",
    "n = input()\n",
    "A = set(map(int,input().split()))\n",
    "B = set(map(int,input().split()))\n",
    "\n",
    "a = A.difference(B)\n",
    "b = B.difference(A)\n",
    "\n",
    "print(len(a.union(b)))"
   ]
  }
 ],
 "metadata": {
  "kernelspec": {
   "display_name": "base",
   "language": "python",
   "name": "python3"
  },
  "language_info": {
   "codemirror_mode": {
    "name": "ipython",
    "version": 3
   },
   "file_extension": ".py",
   "mimetype": "text/x-python",
   "name": "python",
   "nbconvert_exporter": "python",
   "pygments_lexer": "ipython3",
   "version": "3.9.18"
  },
  "orig_nbformat": 4
 },
 "nbformat": 4,
 "nbformat_minor": 2
}
