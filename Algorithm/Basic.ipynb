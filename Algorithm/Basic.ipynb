{
 "cells": [
  {
   "attachments": {},
   "cell_type": "markdown",
   "metadata": {},
   "source": [
    "# Basic"
   ]
  },
  {
   "attachments": {},
   "cell_type": "markdown",
   "metadata": {},
   "source": [
    "## Count Sort 계수 정렬\n",
    "* 계수 정렬\n",
    "\n",
    ": 특정한 조건이 부합할 때만 사용할 수 있지만, 매우 빠른 정렬 알고리즘.\n",
    "\n",
    "1) 모든 데이터가 양의 정수인 상황 가정\n",
    "2) 데이터의 개수가N, 데이터 중 최대값이 K<br>\n",
    " ->최악의 경우라도 O(N+K)를 보장\n",
    "\n",
    "* 조건<br>\n",
    ": 데이터의 크기 범위가 제한되어 정수 형태로 표현할 수 있을 때만 사용가능\n",
    "\n",
    "일반적으로 가장 큰 데이터와 가장 작은 데이터의 차이가 1,000,000을 넘지 않을 때 효과적으로 사용할 수 있다.\n",
    "\n",
    "ex 0 이상 100 이하인 성적 데이터를 정렬할 때 계수 정렬이 효과적<br>\n",
    "-> 모든 범위를 담을 수 있는 크기의 리스트(배열)를 선언해야하기 때문<br>\n",
    "-> 초기화<br>\n",
    "-> 비교 기반의정렬 알고리즘(선택, 삽입, 퀵)이 아님<br>\n",
    "별도의 리스트를 선언하고 그 안에 정렬에 대한 정보를 담는다\n",
    "\n",
    "* 계수정렬의 시간 복잡도<br>\n",
    "\n",
    "-> O(N+K) : 리스트에서 적절한 인덱스의 값을 1씩 증가, 추후에 리스트의 각 인덱스에 해당하는 값들 확인할 때, 데이터의 최댓값의 크기만큼 반복한다.<br>\n",
    "-> 데이터의 범위만 한정되어 있다면 효과적으로 사용할 수 있고 항상 빠르게 동작한다\n",
    "-> 현존하는 정렬 알고리즘 중에서 기수 정렬(Radix Sort)과 더불어 가장 빠르다.<br>\n",
    "기수 정렬은 계수 정렬에 비해 동작은 느리지만, 처리할 수 있는 정수의 크기는 더 크다<br>(알고리즘 원리나 소스 코드는 더 복잡)"
   ]
  },
  {
   "cell_type": "code",
   "execution_count": 2,
   "metadata": {},
   "outputs": [
    {
     "name": "stdout",
     "output_type": "stream",
     "text": [
      "0 0 1 1 2 2 3 5 5 6 7 8 9 9 "
     ]
    }
   ],
   "source": [
    "# 모든 원소의 값이 0보다 크거나 같다고 가정\n",
    "array =  [ 7, 5, 9, 0, 3, 1, 6, 2, 9, 1, 8, 0, 5, 2 ]\n",
    "# 모든 범위를 포함하는 리스트 선언(모든 값은 0으로 초기화)\n",
    "count = [0] * (max(array)+1)\n",
    "\n",
    "for i in range(len(array)):\n",
    "    count[array[i]] += 1    # 각 데이터에 해당하는 인덱스의 값 증가\n",
    "\n",
    "for i in range(len(count)): # 리스트에 기록된 정렬 정보 확인\n",
    "    for j in range(count[i]):\n",
    "        print(i, end=' ')   # 띄어쓰기를 구분으로 등장한 횟부만큼 인덱스 출력"
   ]
  }
 ],
 "metadata": {
  "kernelspec": {
   "display_name": "base",
   "language": "python",
   "name": "python3"
  },
  "language_info": {
   "codemirror_mode": {
    "name": "ipython",
    "version": 3
   },
   "file_extension": ".py",
   "mimetype": "text/x-python",
   "name": "python",
   "nbconvert_exporter": "python",
   "pygments_lexer": "ipython3",
   "version": "3.9.13"
  },
  "orig_nbformat": 4
 },
 "nbformat": 4,
 "nbformat_minor": 2
}
