{
 "cells": [
  {
   "attachments": {},
   "cell_type": "markdown",
   "metadata": {},
   "source": [
    "## 주요 라이브러리"
   ]
  },
  {
   "attachments": {},
   "cell_type": "markdown",
   "metadata": {},
   "source": [
    "### itertools\n",
    "- 파이썬에서 반복되는 형태의 데이터를 처리하는 기능을 제공하는 라이브러리(순열, 조합)\n",
    "<br>\n",
    "-permutations, combinations -> 순열, 조합 + 중복x <br>\n",
    "-product, combinations_with_replacement -> 순열, 조합 + 중복"
   ]
  },
  {
   "cell_type": "code",
   "execution_count": 7,
   "metadata": {},
   "outputs": [
    {
     "name": "stdout",
     "output_type": "stream",
     "text": [
      "[('a', 'b'), ('a', 'c'), ('b', 'a'), ('b', 'c'), ('c', 'a'), ('c', 'b')]\n"
     ]
    }
   ],
   "source": [
    "# permutations() - 순열\n",
    "# : 리스트와 같은 iterable 객체에서 r개의 데이터를 뽑아 일렬로 나열하는 모든 경우\n",
    "# 리스트로 변환해 사용\n",
    "\n",
    "from itertools import permutations\n",
    "\n",
    "data = ['a', 'b','c']\n",
    "result = list(permutations(data, 2))\n",
    "print(result)"
   ]
  },
  {
   "cell_type": "code",
   "execution_count": 6,
   "metadata": {},
   "outputs": [
    {
     "name": "stdout",
     "output_type": "stream",
     "text": [
      "[('a', 'b'), ('a', 'c'), ('b', 'c')]\n"
     ]
    }
   ],
   "source": [
    "# combinations() - 조합\n",
    "# : 리스트와 같은 iterable 객체에서 r개의 데이터를 뽑아 순서를 고려하지 않고 나열하는 모든 경우\n",
    "\n",
    "from itertools import combinations\n",
    "\n",
    "result2 = list(combinations(data, 2))\n",
    "print(result2)"
   ]
  },
  {
   "cell_type": "code",
   "execution_count": 10,
   "metadata": {},
   "outputs": [
    {
     "name": "stdout",
     "output_type": "stream",
     "text": [
      "[('a', 'a'), ('a', 'b'), ('a', 'c'), ('b', 'a'), ('b', 'b'), ('b', 'c'), ('c', 'a'), ('c', 'b'), ('c', 'c')]\n"
     ]
    }
   ],
   "source": [
    "# product() : 순열 + 중복\n",
    "# repeat = 뽑고자 하는 수\n",
    "\n",
    "from itertools import product\n",
    "\n",
    "result3 = list(product(data, repeat=2))\n",
    "print(result3)"
   ]
  },
  {
   "cell_type": "code",
   "execution_count": 12,
   "metadata": {},
   "outputs": [
    {
     "name": "stdout",
     "output_type": "stream",
     "text": [
      "[('a', 'a'), ('a', 'b'), ('a', 'c'), ('b', 'b'), ('b', 'c'), ('c', 'c')]\n"
     ]
    }
   ],
   "source": [
    "# combinations_with_replacement() : 조합 + 중복\n",
    "\n",
    "from itertools import combinations_with_replacement\n",
    "\n",
    "result4 = list(combinations_with_replacement(data, 2))\n",
    "print(result4)\n"
   ]
  },
  {
   "attachments": {},
   "cell_type": "markdown",
   "metadata": {},
   "source": [
    "### heapq\n",
    "- 힙의 기능을 제공하는 라이브러리 -> 우선순위 큐 구현을 위함\n",
    "- 우선순위 큐 : 우선순위를 가진 트리구조\n",
    "- 파이썬의 힙 : min heap으로 구성 -> max heap의 경우 부호를 반대로 넣었다가 빼고나서 부호를 다시 반대로\n",
    "- 단순히 원소를 힙에 넣었다 빼는 것만으로도 시간 복잡도 O(NlongN) 오름차순 정렬<br>\n",
    "heapq.heappush(), heapq.heappop()"
   ]
  },
  {
   "cell_type": "code",
   "execution_count": 13,
   "metadata": {},
   "outputs": [
    {
     "name": "stdout",
     "output_type": "stream",
     "text": [
      "[0, 1, 2, 3, 4, 5, 5, 6, 7, 8, 9]\n"
     ]
    }
   ],
   "source": [
    "# heap sort를 heapq로 구현하는 예제\n",
    "# heap은 중복 원소 가능\n",
    "import heapq\n",
    "\n",
    "def heapsort(iterable):\n",
    "    h = []\n",
    "    result = []\n",
    "\n",
    "    for i in iterable:  # 트리에 오름차순으로 push - O(NlogN)\n",
    "        heapq.heappush(h, i)\n",
    "        # heapq.heappush(h, -i) -> max heap의 경우\n",
    "\n",
    "    for _ in range(len(h)):\n",
    "        result.append(heapq.heappop(h))\n",
    "        # result.append(-heapq.heappop(h))\n",
    "\n",
    "    return result\n",
    "\n",
    "data = heapsort([1,3,5,7,9,2,4,6,8,0,5])\n",
    "print(data)    "
   ]
  },
  {
   "attachments": {},
   "cell_type": "markdown",
   "metadata": {},
   "source": [
    "## bisect\n",
    "- 이진 탐색(Binary Search) 기능을 제공하는 라이브러리\n",
    "- <u>정렬된 배열</u>에서 특정한 원소를 찾아야 할 때 매우 효과적\n",
    "<br>bisect_left(a,x) : 리스트 a에 데이터 x를 삽입할 가장 왼쪽 인덱스\n",
    "<br>bisect_right(a,x) : 리스트 a에 데이터 x를 삽입할 가장 오른쪽 인덱스<br>"
   ]
  },
  {
   "cell_type": "code",
   "execution_count": 15,
   "metadata": {},
   "outputs": [
    {
     "name": "stdout",
     "output_type": "stream",
     "text": [
      "4\n",
      "2\n"
     ]
    }
   ],
   "source": [
    "from bisect import bisect_left, bisect_right\n",
    "\n",
    "a = [1,2,4,4,8]\n",
    "x = 4\n",
    "\n",
    "print(bisect_right(a,4))    # 4를 넣을 가장 오른쪽 인덱스\n",
    "print(bisect_left(a,4))"
   ]
  },
  {
   "cell_type": "code",
   "execution_count": 16,
   "metadata": {},
   "outputs": [
    {
     "name": "stdout",
     "output_type": "stream",
     "text": [
      "2\n",
      "6\n"
     ]
    }
   ],
   "source": [
    "# 값의 범위가 [left_value, right_value]인 데이터의 개수 반환\n",
    "def count_by_range(a, left_value, right_value):\n",
    "    right_index = bisect_right(a, right_value)\n",
    "    left_index = bisect_left(a, left_value)\n",
    "    return right_index - left_index\n",
    "\n",
    "a = [1,2,3,3,3,3,4,4,8,9]\n",
    "print(count_by_range(a,4,4,))\n",
    "print(count_by_range(a,-1,3))"
   ]
  },
  {
   "attachments": {},
   "cell_type": "markdown",
   "metadata": {},
   "source": [
    "### collections\n",
    "- 덱(deque), 카운터(Counter) 등의 유용한 자료구조를 포함하고 있는 라이브러리\n",
    "- 보통 deque를 사용해 큐를 표현\n",
    "<br>list의 경우 append, pop은 가장 뒤쪽 원소를 기준으로 수행\n",
    "<br> deque는 가장 앞 또는 가장 뒤 모두 O(1)\n",
    "<br>- popleft(), appendleft(x)"
   ]
  },
  {
   "cell_type": "code",
   "execution_count": 19,
   "metadata": {},
   "outputs": [
    {
     "name": "stdout",
     "output_type": "stream",
     "text": [
      "deque([1, 2, 3, 4, 5])\n",
      "[1, 2, 3, 4, 5]\n"
     ]
    }
   ],
   "source": [
    "from collections import deque\n",
    "\n",
    "data = deque([2,3,4])\n",
    "data.appendleft(1)\n",
    "data.append(5)\n",
    "\n",
    "print(data)\n",
    "print(list(data))"
   ]
  },
  {
   "cell_type": "code",
   "execution_count": 22,
   "metadata": {},
   "outputs": [
    {
     "name": "stdout",
     "output_type": "stream",
     "text": [
      "3\n",
      "{'red': 2, 'blue': 3, 'green': 1}\n"
     ]
    }
   ],
   "source": [
    "# 등장 횟수를 세는 기능 - iterable 객체 가능\n",
    "from collections import Counter\n",
    "\n",
    "counter = Counter(['red','blue', 'red', 'green', 'blue', 'blue'])\n",
    "print(counter['blue'])\n",
    "print(dict(counter))"
   ]
  },
  {
   "attachments": {},
   "cell_type": "markdown",
   "metadata": {},
   "source": [
    "### math"
   ]
  },
  {
   "cell_type": "code",
   "execution_count": 24,
   "metadata": {},
   "outputs": [
    {
     "name": "stdout",
     "output_type": "stream",
     "text": [
      "120\n",
      "7\n",
      "3.141592653589793\n",
      "2.718281828459045\n"
     ]
    }
   ],
   "source": [
    "import math\n",
    "\n",
    "print(math.factorial(5))\n",
    "print(math.gcd(21,14))\n",
    "print(math.pi)\n",
    "print(math.e)"
   ]
  },
  {
   "attachments": {},
   "cell_type": "markdown",
   "metadata": {},
   "source": [
    "## 알고리즘"
   ]
  },
  {
   "attachments": {},
   "cell_type": "markdown",
   "metadata": {},
   "source": [
    "### 소수의 판별"
   ]
  },
  {
   "cell_type": "code",
   "execution_count": 25,
   "metadata": {},
   "outputs": [
    {
     "name": "stdout",
     "output_type": "stream",
     "text": [
      "True\n"
     ]
    }
   ],
   "source": [
    "# (1) 가장 간단한 방법\n",
    "def is_prime_number(x):\n",
    "    for i in range(2,x):\n",
    "        if x%i==0:\n",
    "            return False\n",
    "    return True\n",
    "\n",
    "print(is_prime_number(7))"
   ]
  },
  {
   "cell_type": "code",
   "execution_count": 26,
   "metadata": {},
   "outputs": [
    {
     "name": "stdout",
     "output_type": "stream",
     "text": [
      "True\n"
     ]
    }
   ],
   "source": [
    "# (2) 약수의 특징을 이용 - sqrt(x)\n",
    "def is_prime_number2(x):\n",
    "    for i in range(2, int(x**0.5)+1):\n",
    "        if x%i==0:\n",
    "            return False\n",
    "    return True\n",
    "\n",
    "print(is_prime_number2(7))"
   ]
  },
  {
   "cell_type": "code",
   "execution_count": 27,
   "metadata": {},
   "outputs": [
    {
     "name": "stdout",
     "output_type": "stream",
     "text": [
      "2 3 5 7 11 13 17 19 23 29 31 37 41 43 47 53 59 61 67 71 73 79 83 89 97 101 103 107 109 113 127 131 137 139 149 151 157 163 167 173 179 181 191 193 197 199 211 223 227 229 233 239 241 251 257 263 269 271 277 281 283 293 307 311 313 317 331 337 347 349 353 359 367 373 379 383 389 397 401 409 419 421 431 433 439 443 449 457 461 463 467 479 487 491 499 503 509 521 523 541 547 557 563 569 571 577 587 593 599 601 607 613 617 619 631 641 643 647 653 659 661 673 677 683 691 701 709 719 727 733 739 743 751 757 761 769 773 787 797 809 811 821 823 827 829 839 853 857 859 863 877 881 883 887 907 911 919 929 937 941 947 953 967 971 977 983 991 997 "
     ]
    }
   ],
   "source": [
    "# (3) 에라토스테네스의 체\n",
    "# 여러 개의 수가 소수인지 아닌지를 판별할 때 사용하는 대표적인 알고리즘\n",
    "# N보다 작거나 같은 모든 소수를 찾을 때 사용\n",
    "\n",
    "# i부터 N까지의 모든 소수 출력\n",
    "n = 1000    # 2~1000까지의 모든 수에 대해 소수 판별\n",
    "array = [True for i in range(n+1)]      # 모든 수가 소수(True)로 초기화\n",
    "\n",
    "# 에라토스테네스 알고리즘\n",
    "for i in range(2, int(n**0.5)+1):\n",
    "    if array[i] == True:\n",
    "        j = 2\n",
    "        while i * j <= n:\n",
    "            array[i*j] = False\n",
    "            j+=1\n",
    "\n",
    "# 출력\n",
    "for i in range(2,n+1):\n",
    "    if array[i]:\n",
    "        print(i,end=' ')"
   ]
  },
  {
   "attachments": {},
   "cell_type": "markdown",
   "metadata": {},
   "source": [
    "### 투 포인터\n",
    "- 리스트에 순차적으로 접근해야 할 때 2개의 점의 위치를 기록하면서 처리하는 알고리즘<br>\n",
    "- 한 리스트 내에서 특정한 합<br><br>\n",
    "ex) 한 반에 학생이 40명이 있을 때, 모든 학생을 번호 순서대로 일렬로 세운 뒤, 학생들을 순차적으로 지목해야할 경우, 2,3,4,5,6,7 이라고 부르기 보다는 2번부터 7번까지의 학생이라고 부를 수 있다. 리스트에 담긴 데이터에 순차적으로 접근해야할 때는 '시작점'과 '끝'점 2개의 점으로 접근할 데이터의 범위를 표현할 수 있다."
   ]
  },
  {
   "cell_type": "code",
   "execution_count": 28,
   "metadata": {},
   "outputs": [
    {
     "name": "stdout",
     "output_type": "stream",
     "text": [
      "3\n"
     ]
    }
   ],
   "source": [
    "# 양의 정수로만 구성된 리스트가 주어졌을 때, 그 부분 연속 수열 중에서\n",
    "# '특정한 합'을 갖는 수열의 개수를 출력하는 문제\n",
    "# (1) 시작점(start), 끝점(end) -> index 0\n",
    "# (2) 현재 부분합이 M과 같다면 count+=1\n",
    "# (3) 현재 부분합이 M보다 작다면 end+=1\n",
    "# (4) 현재 부분합이 M보다 크거나 같다면 start+=1\n",
    "# (5) 모든 경우에 대하여 (2)~(4) 반복\n",
    "\n",
    "n = 5   # 데이터의 개수\n",
    "m = 5   # 찾고자 하는 부분 합\n",
    "data = [1,2,3,2,5]\n",
    "\n",
    "count = 0\n",
    "interval_sum = 0\n",
    "end = 0\n",
    "\n",
    "# start를 차례대로 증가시키며 반복\n",
    "for start in range(n):\n",
    "    # end를 가능한 만큼 이동시키기\n",
    "    while interval_sum < m and end < n:\n",
    "        interval_sum += data[end]\n",
    "        end += 1\n",
    "    # 부분합이 n일 때 카운트 증가\n",
    "    if interval_sum == m:\n",
    "        count +=1\n",
    "    interval_sum -= data[start]\n",
    "\n",
    "print(count)\n"
   ]
  },
  {
   "cell_type": "code",
   "execution_count": 31,
   "metadata": {},
   "outputs": [
    {
     "name": "stdout",
     "output_type": "stream",
     "text": [
      "[1, 2, 3, 4, 5, 6, 8]\n"
     ]
    }
   ],
   "source": [
    "# 정렬되어 있는 두 리스트의 합집합\n",
    "# 2개의 포인터를 이용해 각 리스트에서 처리되지 않은 워소 중 가장 작은 원소를 가리키면 된다.\n",
    "# (1) 정렬된 리스트 A와 B를 입력받는다.\n",
    "# (2) 리스트 A에서 처리되지 않은 원소 중 가장 작은 원소를 i가 가리키도록 한다.\n",
    "# (3) 리스트 B에서 처리되지 않은원소 중 가장 작은 원소가 j가 가리키도록 한다.\n",
    "# (4) A[i]와 B[j] 중에서 더 작은 원소를 결과 리스트에 담는다.\n",
    "# (5) 리스트 A와 B에서 더 이상 처리할 원소가 없을 때까지 (2)~(4)번의 과정을 반복한다.\n",
    "\n",
    "# 정렬된 리스트 A와 B의 데이터 개수가 각각 N, M이라고 할 때, 이 알고리즘의 시간 복잡도 : O(N+M)\n",
    "\n",
    "# 사전에 정렬된 리스트 A와 B\n",
    "n,m = 3, 4\n",
    "a = [1,3,5]\n",
    "b = [2,4,6,8]\n",
    "\n",
    "# 리스트 A와 B의 모든 원소를 담을 수 있는 크기의 결과 리스트 초기화\n",
    "result = [0] * (n+m)\n",
    "i,j,k = 0,0,0\n",
    "\n",
    "# 모든 원소가 결과 리스트에 담길 때까지 반복\n",
    "while i < n or j < m:\n",
    "    # 리스트 B의 모든 원소가 처리되었거나, 리스트 A의 원소가 더 작을 때\n",
    "    if j >= m or (i < n and a[i] <= b[j]):\n",
    "        result[k]=a[i]\n",
    "        i+=1\n",
    "    else:\n",
    "        result[k] = b[j]\n",
    "        j+=1\n",
    "    k+=1\n",
    "\n",
    "print(result)\n"
   ]
  },
  {
   "attachments": {},
   "cell_type": "markdown",
   "metadata": {},
   "source": [
    "### 구간 합\n",
    ": 연속적으로 나열된 N개의 수가 있을 때, 특정 구간의 모든 수를 합한 값을 구하는 문제\n",
    "- 만약 M개의 쿼리 각각, 매번 합을 계산한다면 이 알고리즘은 O(NM)의 시간 복잡도를 가진다.<br>\n",
    "왜냐하면 M개의 쿼리가 수행될 때마다 전체 리스트의 구간 합을 모두 계산하라고 할 수도 있기 때문\n",
    "<br>\n",
    "-> 여러번 사용될 만한 정보는 미리 구해 저장해 놓을수록 유리하다. 쿼리는 M개지만, N개의 수는 한 번 주어진 뒤에 변경되지 않는다.<br>\n",
    "-> N개의 수에 대해서 어떠한 처리를 수행한 뒤에 나중에 M개의 쿼리가 각각 주어질 때마다 빠르게 구간합을 도출할 수 있도록 하자.\n",
    "<br>\n",
    "-> 구간합 계산을 위해 가장 많이 사용되는 기법 : 접두사 합(Prefix Sum)<br>\n",
    "-> 각 쿼리에 대해 구간 합을 빠르게 계산하기 위해서는 N개의 수의 위치 각각에 대하여 접두사 합을 미리 구해 놓으면 된다.<br>\n",
    "<br>\n",
    "** 접두사 합 : 리스트의 맨 앞부터 특정 위치까지의 합을 구해 놓은 것\n"
   ]
  },
  {
   "cell_type": "code",
   "execution_count": 32,
   "metadata": {},
   "outputs": [
    {
     "name": "stdout",
     "output_type": "stream",
     "text": [
      "70\n"
     ]
    }
   ],
   "source": [
    "# 구간 합 빠르게 계산하기 알고리즘\n",
    "# (1) N개의 수에 대하여 접두사 합(Prefix Sum)을 계산해 배열 P에 저장\n",
    "# (2) 매 M개의 쿼리 정보 [L,R]을 확인할 때, 구간 합은 P[R] - P[L-1]\n",
    "\n",
    "# 데이터의 개수 N과 전체 데이터 선언\n",
    "n = 5\n",
    "data = [10,20,30,40,50]\n",
    "\n",
    "# 접두사 합(Prefix Sum) 배열 계산\n",
    "sum_value = 0\n",
    "prefix_sum = [0]\n",
    "for i in data:\n",
    "    sum_value +=i\n",
    "    prefix_sum.append(sum_value)\n",
    "\n",
    "# 구간 합 계산  (3 ~ 4번째)\n",
    "left = 3\n",
    "right = 4\n",
    "print(prefix_sum[right]-prefix_sum[left-1])"
   ]
  },
  {
   "attachments": {},
   "cell_type": "markdown",
   "metadata": {},
   "source": [
    "### 재귀 함수 Recursive Function\n",
    ": 내부 구조는 스택구조와 동일, 가장 마지막에 호출한 함수가 먼저 수행을 끝내야 그 앞의 함수 호출이 종료된다.\n"
   ]
  },
  {
   "cell_type": "code",
   "execution_count": 35,
   "metadata": {},
   "outputs": [
    {
     "name": "stdout",
     "output_type": "stream",
     "text": [
      "1 번째 재귀함수 호출\n",
      "2 번째 재귀함수 호출\n",
      "3 번째 재귀함수 호출\n",
      "4 번째 재귀함수 호출\n",
      "5 번째 재귀함수 호출\n",
      "6 번째 재귀함수 호출\n",
      "7 번째 재귀함수 호출\n",
      "8 번째 재귀함수 호출\n",
      "9 번째 재귀함수 호출\n",
      "--------------\n",
      "9 번째 재귀함수 종료\n",
      "8 번째 재귀함수 종료\n",
      "7 번째 재귀함수 종료\n",
      "6 번째 재귀함수 종료\n",
      "5 번째 재귀함수 종료\n",
      "4 번째 재귀함수 종료\n",
      "3 번째 재귀함수 종료\n",
      "2 번째 재귀함수 종료\n",
      "1 번째 재귀함수 종료\n"
     ]
    }
   ],
   "source": [
    "# 간단한 재귀함수\n",
    "def recursive_function(i):\n",
    "    if i== 10:\n",
    "        print('--------------')\n",
    "        return\n",
    "    print(i,'번째 재귀함수 호출')\n",
    "    recursive_function(i+1)\n",
    "    print(i,'번째 재귀함수 종료')\n",
    "\n",
    "recursive_function(1)"
   ]
  },
  {
   "cell_type": "code",
   "execution_count": null,
   "metadata": {},
   "outputs": [],
   "source": [
    "# 반복적으로 구현한 n!\n",
    "def factorial_iterative(n):\n",
    "    sum = 0\n",
    "    for i in range(2,n+1):\n",
    "        sum *= i\n",
    "\n",
    "# 재귀적으로 구현한 n!\n",
    "def factorial_recursive(n):\n",
    "    if n <= 1:\n",
    "        return 1\n",
    "    return n * factorial_recursive(n-1)"
   ]
  },
  {
   "attachments": {},
   "cell_type": "markdown",
   "metadata": {},
   "source": [
    "## 자료구조 기초"
   ]
  },
  {
   "attachments": {},
   "cell_type": "markdown",
   "metadata": {},
   "source": [
    "### 탐색 Search\n",
    ": 많은 양의 데이터 중에서 원하는 데이터를 찾는 과정<br>\n",
    "-> 그래프, 트리 등의 자료구조 안에서 탐색하는 문제<br>\n",
    "-> 대표적인 탐색 문제 : DFS, BFS 꼴"
   ]
  },
  {
   "attachments": {},
   "cell_type": "markdown",
   "metadata": {},
   "source": [
    "### 자료구조 Data Structure\n",
    ": 데이터를 표현하고 관리하고 처리하기 위한 구조<br>\n",
    "-> 삽입(Push)<br>\n",
    "-> 삭제(Pop)<br>\n",
    "-> 오버플로 : 특정한 자료구조가 수용할 수 있는 데이터의 크기를 가득 찬 상태에서 삽입 연산을 수행할 때<br>\n",
    "-> 언더플로 : 데이터가 없는 상태에서 삭제 연산을 수행할 때<br>"
   ]
  },
  {
   "attachments": {},
   "cell_type": "markdown",
   "metadata": {},
   "source": [
    "### 스택 Stack\n",
    ": 박스 쌓기, 아래에서 위로 차곡차곡 쌓는다. 아래 박스를 치우기 위해서는 위의 박스를 치워야 한다.<br>\n",
    "-> 선입후출<br>\n",
    "기본 리스트에서 append(), pop()"
   ]
  },
  {
   "attachments": {},
   "cell_type": "markdown",
   "metadata": {},
   "source": [
    "### 큐 Queue\n",
    ": 대기 줄, 놀이공원에 입장하기 위해 줄을 설 때, 먼저 온 사람이 먼저 들어가게 된다. 공정한 자료구조<br>\n",
    "-> 선입선출<br>\n",
    "-> 일자로 뚫린 터널<br>\n",
    "-> collections 의 deque 자료구조를 활용<br>\n",
    ": 스택과 큐의 장점을 모두 채택한 것. 데이터를 넣고 빼는 속도가 리스트 자료형에 비해 효율적"
   ]
  }
 ],
 "metadata": {
  "kernelspec": {
   "display_name": "Python 3",
   "language": "python",
   "name": "python3"
  },
  "language_info": {
   "codemirror_mode": {
    "name": "ipython",
    "version": 3
   },
   "file_extension": ".py",
   "mimetype": "text/x-python",
   "name": "python",
   "nbconvert_exporter": "python",
   "pygments_lexer": "ipython3",
   "version": "3.9.7"
  },
  "orig_nbformat": 4
 },
 "nbformat": 4,
 "nbformat_minor": 2
}
