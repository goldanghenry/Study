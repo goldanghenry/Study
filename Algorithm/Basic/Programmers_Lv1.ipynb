{
 "cells": [
  {
   "attachments": {},
   "cell_type": "markdown",
   "metadata": {},
   "source": [
    "## Programmers Lv.0\n",
    "- 조금 어려웠던 문제만"
   ]
  },
  {
   "attachments": {},
   "cell_type": "markdown",
   "metadata": {},
   "source": [
    "### 숨어있는 숫자의 덧셈 (1)\n",
    "- https://school.programmers.co.kr/learn/courses/30/lessons/120851\n",
    "- 문자열 my_string이 매개변수로 주어집니다. my_string안의 모든 자연수들의 합을 return하도록 solution 함수를 완성해주세요."
   ]
  },
  {
   "cell_type": "code",
   "execution_count": null,
   "metadata": {},
   "outputs": [],
   "source": [
    "def solution(my_string):\n",
    "    answer = 0\n",
    "    for i in list(my_string):\n",
    "        try:\n",
    "            answer += int(i)\n",
    "        except:\n",
    "            continue\n",
    "    return answer"
   ]
  },
  {
   "attachments": {},
   "cell_type": "markdown",
   "metadata": {},
   "source": [
    "### 문자열안에 문자열\n",
    "- https://school.programmers.co.kr/learn/courses/30/lessons/120908\n",
    "- 문자열 str1, str2가 매개변수로 주어집니다. str1 안에 str2가 있다면 1을 없다면 2를 return하도록 solution 함수를 완성해주세요."
   ]
  },
  {
   "cell_type": "code",
   "execution_count": null,
   "metadata": {},
   "outputs": [],
   "source": [
    "def solution(str1, str2):\n",
    "    # str2가 있을 수 있는 위치의 index 조사\n",
    "    idx =[]\n",
    "    for i in range(len(str1)):\n",
    "        if str2[0] == str1[i]:\n",
    "            idx.append(i)\n",
    "    \n",
    "    # 조사 결과가 없는 경우\n",
    "    if len(idx) == 0: return 2\n",
    "    \n",
    "    # idx 하나씩 조사\n",
    "    check = 2\n",
    "    for i in idx:\n",
    "        if len(str1[i:]) < len(str2):   # out of range\n",
    "            continue\n",
    "        else:\n",
    "            for j in range(len(str2)):\n",
    "                if str1[i+j] == str2[j]:\n",
    "                    check = 1\n",
    "                else:\n",
    "                    check = 2\n",
    "                    break\n",
    "            if check==1: return 1\n",
    "    return check"
   ]
  },
  {
   "cell_type": "code",
   "execution_count": null,
   "metadata": {},
   "outputs": [],
   "source": [
    "def solution(str1, str2):\n",
    "    return 1 if str2 in str1 else 2"
   ]
  },
  {
   "attachments": {},
   "cell_type": "markdown",
   "metadata": {},
   "source": [
    "### 모음 제거\n",
    "- https://school.programmers.co.kr/learn/courses/30/lessons/120849\n",
    "- 영어에선 a, e, i, o, u 다섯 가지 알파벳을 모음으로 분류합니다. 문자열 my_string이 매개변수로 주어질 때 모음을 제거한 문자열을 return하도록 solution 함수를 완성해주세요."
   ]
  },
  {
   "cell_type": "code",
   "execution_count": null,
   "metadata": {},
   "outputs": [],
   "source": [
    "def solution(my_string):\n",
    "    vowel = ['a','e','i','o','u']\n",
    "    answer = []\n",
    "    for s in my_string:\n",
    "        if s not in vowel :\n",
    "            answer.append(s)\n",
    "    return ''.join(answer)"
   ]
  },
  {
   "cell_type": "code",
   "execution_count": null,
   "metadata": {},
   "outputs": [],
   "source": [
    "def solution(my_string):\n",
    "    return \"\".join([i for i in my_string if not(i in \"aeiou\")])"
   ]
  },
  {
   "cell_type": "code",
   "execution_count": 12,
   "metadata": {},
   "outputs": [
    {
     "name": "stdout",
     "output_type": "stream",
     "text": [
      "97\n",
      "90\n",
      "`\n"
     ]
    }
   ],
   "source": [
    "print(ord('a'))\n",
    "print(ord('Z'))\n",
    "print(chr(96))\n",
    "\n",
    "'a'.lower()"
   ]
  },
  {
   "cell_type": "code",
   "execution_count": 16,
   "metadata": {},
   "outputs": [
    {
     "name": "stdout",
     "output_type": "stream",
     "text": [
      "3\n",
      "*\n",
      "**\n",
      "***\n"
     ]
    }
   ],
   "source": [
    "n = int(input())\n",
    "print(n)\n",
    "for i in range(n):\n",
    "    for j in range(i+1):\n",
    "        print('*', end='')\n",
    "    print()"
   ]
  },
  {
   "cell_type": "code",
   "execution_count": 22,
   "metadata": {},
   "outputs": [],
   "source": [
    "def solution(board):\n",
    "    n = len(board)\n",
    "    pin = [[0 for i in range(n)] for j in range(n)]\n",
    "    \n",
    "    for i in board:\n",
    "        for j in board[i]:\n",
    "            if board[i][j] == 1:\n",
    "                # 좌상\n",
    "                if i-1 > -1 and j-1 > -1:\n",
    "                    pin[i-1][j-1]=1\n",
    "                # 상\n",
    "                if i-1 > -1:\n",
    "                    pin[i-1][j]=1\n",
    "                # 우상\n",
    "                if i-1 > -1 and j+1 < n:\n",
    "                    pin[i-1][j+1]=1\n",
    "                # 좌\n",
    "                if j-1 > -1:\n",
    "                    pin[i][j-1]=1\n",
    "                # 우\n",
    "                if j+1 < n:\n",
    "                    pin[i][j+1]=1\n",
    "                # 좌하\n",
    "                if i+1 < n and j-1 > -1:\n",
    "                    pin[i+1][j-1]=1\n",
    "                # 하\n",
    "                if i+1 < n:\n",
    "                    pin[i+1][j]=1\n",
    "                # 우하\n",
    "                if i+1 < n and j+1 < n:\n",
    "                    pin[i+1][j+1]=1\n",
    "                    \n",
    "    answer = 0\n",
    "    for i in pin:\n",
    "        for j in pin[i]:\n",
    "            if pin[i][j]==1:\n",
    "                answer+=1\n",
    "    return answer"
   ]
  },
  {
   "cell_type": "code",
   "execution_count": 36,
   "metadata": {},
   "outputs": [],
   "source": [
    "def solution(board):\n",
    "    n = len(board)\n",
    "    pin = [[0 for i in range(n)] for j in range(n)]\n",
    "    dx = [-1, -1, -1, 0, 0, 0, 1, 1, 1]\n",
    "    dy = [-1, 0, 1, -1, 0, 1, -1, 0, 1]\n",
    "\n",
    "    for i in range(n):\n",
    "        for j in range(n):\n",
    "            if board[i][j] == 0: \n",
    "                continue\n",
    "            for k in range(9):\n",
    "                nx = i+dx[k]\n",
    "                ny = j+dy[k]\n",
    "                if nx < 0 or nx > n or ny < 0 or ny > n:\n",
    "                    continue\n",
    "                else:\n",
    "                    pin[nx][ny] = 1\n",
    "    answer = 0\n",
    "    for i in range(n):\n",
    "        for j in range(n):\n",
    "            if pin[i][j]==0:\n",
    "                answer+=1\n",
    "    return answer"
   ]
  },
  {
   "cell_type": "code",
   "execution_count": 39,
   "metadata": {},
   "outputs": [
    {
     "ename": "IndexError",
     "evalue": "list assignment index out of range",
     "output_type": "error",
     "traceback": [
      "\u001b[1;31m---------------------------------------------------------------------------\u001b[0m",
      "\u001b[1;31mIndexError\u001b[0m                                Traceback (most recent call last)",
      "Cell \u001b[1;32mIn [39], line 2\u001b[0m\n\u001b[0;32m      1\u001b[0m board \u001b[39m=\u001b[39m [[\u001b[39m1\u001b[39m, \u001b[39m1\u001b[39m, \u001b[39m1\u001b[39m, \u001b[39m1\u001b[39m, \u001b[39m1\u001b[39m, \u001b[39m1\u001b[39m], [\u001b[39m1\u001b[39m, \u001b[39m1\u001b[39m, \u001b[39m1\u001b[39m, \u001b[39m1\u001b[39m, \u001b[39m1\u001b[39m, \u001b[39m1\u001b[39m], [\u001b[39m1\u001b[39m, \u001b[39m1\u001b[39m, \u001b[39m1\u001b[39m, \u001b[39m1\u001b[39m, \u001b[39m1\u001b[39m, \u001b[39m1\u001b[39m], [\u001b[39m1\u001b[39m, \u001b[39m1\u001b[39m, \u001b[39m1\u001b[39m, \u001b[39m1\u001b[39m, \u001b[39m1\u001b[39m, \u001b[39m1\u001b[39m], [\u001b[39m1\u001b[39m, \u001b[39m1\u001b[39m, \u001b[39m1\u001b[39m, \u001b[39m1\u001b[39m, \u001b[39m1\u001b[39m, \u001b[39m1\u001b[39m], [\u001b[39m1\u001b[39m, \u001b[39m1\u001b[39m, \u001b[39m1\u001b[39m, \u001b[39m1\u001b[39m, \u001b[39m1\u001b[39m, \u001b[39m1\u001b[39m]]\n\u001b[1;32m----> 2\u001b[0m \u001b[39mprint\u001b[39m(solution(board))\n",
      "Cell \u001b[1;32mIn [36], line 17\u001b[0m, in \u001b[0;36msolution\u001b[1;34m(board)\u001b[0m\n\u001b[0;32m     15\u001b[0m                 \u001b[39mcontinue\u001b[39;00m\n\u001b[0;32m     16\u001b[0m             \u001b[39melse\u001b[39;00m:\n\u001b[1;32m---> 17\u001b[0m                 pin[nx][ny] \u001b[39m=\u001b[39m \u001b[39m1\u001b[39m\n\u001b[0;32m     18\u001b[0m answer \u001b[39m=\u001b[39m \u001b[39m0\u001b[39m\n\u001b[0;32m     19\u001b[0m \u001b[39mfor\u001b[39;00m i \u001b[39min\u001b[39;00m \u001b[39mrange\u001b[39m(n):\n",
      "\u001b[1;31mIndexError\u001b[0m: list assignment index out of range"
     ]
    }
   ],
   "source": [
    "board = [[1, 1, 1, 1, 1, 1], [1, 1, 1, 1, 1, 1], [1, 1, 1, 1, 1, 1], [1, 1, 1, 1, 1, 1], [1, 1, 1, 1, 1, 1], [1, 1, 1, 1, 1, 1]]\n",
    "print(solution(board))"
   ]
  }
 ],
 "metadata": {
  "kernelspec": {
   "display_name": "Python 3",
   "language": "python",
   "name": "python3"
  },
  "language_info": {
   "codemirror_mode": {
    "name": "ipython",
    "version": 3
   },
   "file_extension": ".py",
   "mimetype": "text/x-python",
   "name": "python",
   "nbconvert_exporter": "python",
   "pygments_lexer": "ipython3",
   "version": "3.10.6"
  },
  "orig_nbformat": 4,
  "vscode": {
   "interpreter": {
    "hash": "20c9d94bea3bcd43e69d1e5f02ce962985699c48de0c68502218d203d4c4e41a"
   }
  }
 },
 "nbformat": 4,
 "nbformat_minor": 2
}
