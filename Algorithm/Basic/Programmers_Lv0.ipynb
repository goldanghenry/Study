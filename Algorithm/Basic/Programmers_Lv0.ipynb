{
 "cells": [
  {
   "attachments": {},
   "cell_type": "markdown",
   "metadata": {},
   "source": [
    "## Programmers Lv.0\n",
    "- 조금 어려웠던 문제만"
   ]
  },
  {
   "attachments": {},
   "cell_type": "markdown",
   "metadata": {},
   "source": [
    "### 숨어있는 숫자의 덧셈 (1)\n",
    "- https://school.programmers.co.kr/learn/courses/30/lessons/120851\n",
    "- 문자열 my_string이 매개변수로 주어집니다. my_string안의 모든 자연수들의 합을 return하도록 solution 함수를 완성해주세요."
   ]
  },
  {
   "cell_type": "code",
   "execution_count": null,
   "metadata": {},
   "outputs": [],
   "source": [
    "def solution(my_string):\n",
    "    answer = 0\n",
    "    for i in list(my_string):\n",
    "        try:\n",
    "            answer += int(i)\n",
    "        except:\n",
    "            continue\n",
    "    return answer"
   ]
  },
  {
   "attachments": {},
   "cell_type": "markdown",
   "metadata": {},
   "source": [
    "### 문자열안에 문자열\n",
    "- https://school.programmers.co.kr/learn/courses/30/lessons/120908\n",
    "- 문자열 str1, str2가 매개변수로 주어집니다. str1 안에 str2가 있다면 1을 없다면 2를 return하도록 solution 함수를 완성해주세요."
   ]
  },
  {
   "cell_type": "code",
   "execution_count": null,
   "metadata": {},
   "outputs": [],
   "source": [
    "def solution(str1, str2):\n",
    "    # str2가 있을 수 있는 위치의 index 조사\n",
    "    idx =[]\n",
    "    for i in range(len(str1)):\n",
    "        if str2[0] == str1[i]:\n",
    "            idx.append(i)\n",
    "    \n",
    "    # 조사 결과가 없는 경우\n",
    "    if len(idx) == 0: return 2\n",
    "    \n",
    "    # idx 하나씩 조사\n",
    "    check = 2\n",
    "    for i in idx:\n",
    "        if len(str1[i:]) < len(str2):   # out of range\n",
    "            continue\n",
    "        else:\n",
    "            for j in range(len(str2)):\n",
    "                if str1[i+j] == str2[j]:\n",
    "                    check = 1\n",
    "                else:\n",
    "                    check = 2\n",
    "                    break\n",
    "            if check==1: return 1\n",
    "    return check"
   ]
  },
  {
   "cell_type": "code",
   "execution_count": null,
   "metadata": {},
   "outputs": [],
   "source": [
    "def solution(str1, str2):\n",
    "    return 1 if str2 in str1 else 2"
   ]
  },
  {
   "attachments": {},
   "cell_type": "markdown",
   "metadata": {},
   "source": [
    "### 모음 제거\n",
    "- https://school.programmers.co.kr/learn/courses/30/lessons/120849\n",
    "- 영어에선 a, e, i, o, u 다섯 가지 알파벳을 모음으로 분류합니다. 문자열 my_string이 매개변수로 주어질 때 모음을 제거한 문자열을 return하도록 solution 함수를 완성해주세요."
   ]
  },
  {
   "cell_type": "code",
   "execution_count": null,
   "metadata": {},
   "outputs": [],
   "source": [
    "def solution(my_string):\n",
    "    vowel = ['a','e','i','o','u']\n",
    "    answer = []\n",
    "    for s in my_string:\n",
    "        if s not in vowel :\n",
    "            answer.append(s)\n",
    "    return ''.join(answer)"
   ]
  },
  {
   "cell_type": "code",
   "execution_count": null,
   "metadata": {},
   "outputs": [],
   "source": [
    "def solution(my_string):\n",
    "    return \"\".join([i for i in my_string if not(i in \"aeiou\")])"
   ]
  },
  {
   "cell_type": "code",
   "execution_count": 12,
   "metadata": {},
   "outputs": [
    {
     "name": "stdout",
     "output_type": "stream",
     "text": [
      "97\n",
      "90\n",
      "`\n"
     ]
    }
   ],
   "source": [
    "print(ord('a'))\n",
    "print(ord('Z'))\n",
    "print(chr(96))\n",
    "\n",
    "'a'.lower()"
   ]
  },
  {
   "cell_type": "code",
   "execution_count": 16,
   "metadata": {},
   "outputs": [
    {
     "name": "stdout",
     "output_type": "stream",
     "text": [
      "3\n",
      "*\n",
      "**\n",
      "***\n"
     ]
    }
   ],
   "source": [
    "n = int(input())\n",
    "print(n)\n",
    "for i in range(n):\n",
    "    for j in range(i+1):\n",
    "        print('*', end='')\n",
    "    print()"
   ]
  },
  {
   "attachments": {},
   "cell_type": "markdown",
   "metadata": {},
   "source": [
    "### 안전지대\n",
    "- https://school.programmers.co.kr/learn/courses/30/lessons/120866\n",
    "- 다음 그림과 같이 지뢰가 있는 지역과 지뢰에 인접한 위, 아래, 좌, 우 대각선 칸을 모두 위험지역으로 분류합니다.\n",
    "지뢰는 2차원 배열 board에 1로 표시되어 있고 board에는 지뢰가 매설 된 지역 1과, 지뢰가 없는 지역 0만 존재합니다.\n",
    "지뢰가 매설된 지역의 지도 board가 매개변수로 주어질 때, 안전한 지역의 칸 수를 return하도록 solution 함수를 완성해주세요."
   ]
  },
  {
   "cell_type": "code",
   "execution_count": null,
   "metadata": {},
   "outputs": [],
   "source": [
    "def solution(board):\n",
    "    n = len(board)\n",
    "    pin = [[0 for i in range(n)] for j in range(n)]\n",
    "    dx = [-1, -1, -1, 0, 0, 0, 1, 1, 1]\n",
    "    dy = [-1, 0, 1, -1, 0, 1, -1, 0, 1]\n",
    "\n",
    "    for i in range(n):\n",
    "        for j in range(n):\n",
    "            if board[i][j] == 0: \n",
    "                continue\n",
    "            for k in range(9):\n",
    "                nx = i+dx[k]\n",
    "                ny = j+dy[k]\n",
    "                if nx < 0 or nx >= n or ny < 0 or ny >= n:\n",
    "                    continue\n",
    "                else:\n",
    "                    pin[nx][ny] = 1\n",
    "                    \n",
    "    answer = 0\n",
    "    for i in range(n):\n",
    "        for j in range(n):\n",
    "            if pin[i][j]==0:\n",
    "                answer+=1\n",
    "    return answer"
   ]
  },
  {
   "attachments": {},
   "cell_type": "markdown",
   "metadata": {},
   "source": [
    "### 모스부호\n",
    "- https://school.programmers.co.kr/learn/courses/30/lessons/120838\n",
    "- 머쓱이는 친구에게 모스부호를 이용한 편지를 받았습니다. 그냥은 읽을 수 없어 이를 해독하는 프로그램을 만들려고 합니다. 문자열 letter가 매개변수로 주어질 때, letter를 영어 소문자로 바꾼 문자열을 return 하도록 solution 함수를 완성해보세요.\n",
    "모스부호는 다음과 같습니다."
   ]
  },
  {
   "cell_type": "code",
   "execution_count": 1,
   "metadata": {},
   "outputs": [
    {
     "name": "stdout",
     "output_type": "stream",
     "text": [
      "['....', '.', '.-..', '.-..', '---']\n"
     ]
    }
   ],
   "source": [
    "def solution(letter):\n",
    "    morse = { \n",
    "        '.-':'a','-...':'b','-.-.':'c','-..':'d','.':'e','..-.':'f',\n",
    "        '--.':'g','....':'h','..':'i','.---':'j','-.-':'k','.-..':'l',\n",
    "        '--':'m','-.':'n','---':'o','.--.':'p','--.-':'q','.-.':'r',\n",
    "        '...':'s','-':'t','..-':'u','...-':'v','.--':'w','-..-':'x',\n",
    "        '-.--':'y','--..':'z'\n",
    "    }\n",
    "    li = letter.split()\n",
    "    \n",
    "    answer = \"\"\n",
    "    for l in li:\n",
    "        answer+=morse[l]\n",
    "        \n",
    "    return answer"
   ]
  },
  {
   "cell_type": "code",
   "execution_count": 8,
   "metadata": {},
   "outputs": [
    {
     "name": "stdout",
     "output_type": "stream",
     "text": [
      "9\n",
      "19\n",
      "29\n",
      "39\n",
      "49\n"
     ]
    },
    {
     "data": {
      "text/plain": [
       "5"
      ]
     },
     "execution_count": 8,
     "metadata": {},
     "output_type": "execute_result"
    }
   ],
   "source": [
    "def solution(i, j, k):\n",
    "    answer = 0\n",
    "    for r in range(i,j+1):\n",
    "        if str(k) in str(r):\n",
    "            answer +=1\n",
    "            print(r)\n",
    "    return answer\n",
    "solution(1,50,9)"
   ]
  },
  {
   "attachments": {},
   "cell_type": "markdown",
   "metadata": {},
   "source": [
    "### 한 번만 등장한 문자\n",
    "- https://school.programmers.co.kr/learn/courses/30/lessons/120896\n",
    "- 문자열 s가 매개변수로 주어집니다. s에서 한 번만 등장하는 문자를 사전 순으로 정렬한 문자열을 return 하도록 solution 함수를 완성해보세요. 한 번만 등장하는 문자가 없을 경우 빈 문자열을 return 합니다."
   ]
  },
  {
   "cell_type": "code",
   "execution_count": 15,
   "metadata": {},
   "outputs": [
    {
     "name": "stdout",
     "output_type": "stream",
     "text": [
      "[0, 0, 0, 0, 0, 0, 0, 0, 0, 0, 0, 0, 0, 0, 0, 0, 0, 0, 0, 0, 0, 0, 0, 0, 0, 0]\n",
      "[3, 2, 3, 1, 0, 0, 0, 0, 0, 0, 0, 0, 0, 0, 0, 0, 0, 0, 0, 0, 0, 0, 0, 0, 0, 0]\n"
     ]
    },
    {
     "data": {
      "text/plain": [
       "['d']"
      ]
     },
     "execution_count": 15,
     "metadata": {},
     "output_type": "execute_result"
    }
   ],
   "source": [
    "def solution(s):\n",
    "    count = [0 for _ in range(26)] # 리스트 초기화\n",
    "    for i in s: # 순차적으로 방문하며 알파벳->index에 카운트\n",
    "        count[ord(i)-97]+=1\n",
    "    return ''.join([chr(i+97) for i in range(26) if count[i]==1])   "
   ]
  },
  {
   "cell_type": "code",
   "execution_count": null,
   "metadata": {},
   "outputs": [],
   "source": [
    "# 다른 사람 풀이\n",
    "\n",
    "def solution(s):\n",
    "    answer = \"\".join(sorted([ ch for ch in s if s.count(ch) == 1]))\n",
    "    return answer"
   ]
  },
  {
   "attachments": {},
   "cell_type": "markdown",
   "metadata": {},
   "source": [
    "### 숨어있는 숫자의 덧셈 (2)\n",
    "- https://school.programmers.co.kr/learn/courses/30/lessons/120864\n",
    "- 문자열 my_string이 매개변수로 주어집니다. my_string은 소문자, 대문자, 자연수로만 구성되어있습니다. my_string안의 자연수들의 합을 return하도록 solution 함수를 완성해주세요\n",
    "- 연속된 수는 하나의 숫자로 간주합니다."
   ]
  },
  {
   "cell_type": "code",
   "execution_count": 10,
   "metadata": {},
   "outputs": [
    {
     "name": "stdout",
     "output_type": "stream",
     "text": [
      "a    []\n",
      "A    []\n",
      "b    []\n",
      "1    [1]\n",
      "B    [1]\n",
      "2    [1, 2]\n",
      "c    [1, 2]\n",
      "C    [1, 2]\n",
      "3   3 [1, 2]\n",
      "4    [1, 2, 34]\n",
      "o    [1, 2, 34]\n",
      "O    [1, 2, 34]\n",
      "p    [1, 2, 34]\n",
      "1   1 [1, 2, 34, 1]\n",
      "38\n"
     ]
    }
   ],
   "source": [
    "def solution(my_string):\n",
    "    digit = ['0','1','2','3','4','5','6','7','8','9']\n",
    "    answer = []\n",
    "    n = len(my_string)  # n \n",
    "    temp = \"\"\n",
    "    for i in range(n): # 0~9\n",
    "        print(my_string[i], end='   ')\n",
    "        if i == n-1 :   # i == 9\n",
    "            if my_string[i] in digit:\n",
    "                temp+=my_string[i]\n",
    "                answer.append(int(temp))\n",
    "                print(temp, answer)\n",
    "                return sum(answer)\n",
    "            else:\n",
    "                print(temp, answer)\n",
    "                return sum(answer)\n",
    "        \n",
    "        elif my_string[i] in digit: # 숫자면\n",
    "            temp+=my_string[i]\n",
    "            if my_string[i+1] not in digit: # \n",
    "                answer.append(int(temp))\n",
    "                temp=\"\"\n",
    "        print(temp, answer)\n",
    "\n",
    "print(solution(\"aAb1B2cC34oOp1\"))"
   ]
  },
  {
   "cell_type": "code",
   "execution_count": null,
   "metadata": {},
   "outputs": [],
   "source": [
    "\n",
    "# 다른 사람 풀이\n",
    "def solution(my_string):\n",
    "    s = ''.join(i if i.isdigit() else ' ' for i in my_string)\n",
    "    return sum(int(i) for i in s.split())"
   ]
  },
  {
   "attachments": {},
   "cell_type": "markdown",
   "metadata": {},
   "source": [
    "### 공 던지기\n",
    "- https://school.programmers.co.kr/learn/courses/30/lessons/120843\n",
    "- 머쓱이는 친구들과 동그랗게 서서 공 던지기 게임을 하고 있습니다. 공은 1번부터 던지며 오른쪽으로 한 명을 건너뛰고 그다음 사람에게만 던질 수 있습니다. 친구들의 번호가 들어있는 정수 배열 numbers와 정수 K가 주어질 때, k번째로 공을 던지는 사람의 번호는 무엇인지 return 하도록 solution 함수를 완성해보세요. &nbsp; <hr>\n",
    "< 조건 > \n",
    "- 2 < numbers의 길이 < 100\n",
    "- 0 < k < 1,000\n",
    "- numbers의 첫 번째와 마지막 번호는 실제로 바로 옆에 있습니다.\n",
    "- numbers는 1부터 시작하며 번호는 순서대로 올라갑니다."
   ]
  },
  {
   "cell_type": "code",
   "execution_count": 51,
   "metadata": {},
   "outputs": [
    {
     "name": "stdout",
     "output_type": "stream",
     "text": [
      "[1, 2, 3, 4, 5, 6]\n",
      "1 0\n",
      "2 2\n",
      "3 4\n",
      "4 0\n",
      "5 2\n"
     ]
    }
   ],
   "source": [
    "def solution(numbers, k):\n",
    "    k-=1\n",
    "    if k*2 >= len(numbers):\n",
    "        return k*2%len(numbers)\n",
    "    else:\n",
    "        return k*2"
   ]
  },
  {
   "cell_type": "code",
   "execution_count": null,
   "metadata": {},
   "outputs": [],
   "source": [
    "# 다른사람 풀이\n",
    "def solution(numbers, k):\n",
    "    return 2 * (k - 1) % numbers[-1] + 1"
   ]
  },
  {
   "attachments": {},
   "cell_type": "markdown",
   "metadata": {},
   "source": [
    "### 구슬을 나누는 경우의 수\n",
    "- https://school.programmers.co.kr/learn/courses/30/lessons/120840\n",
    "- 머쓱이는 구슬을 친구들에게 나누어주려고 합니다. 구슬은 모두 다르게 생겼습니다. 머쓱이가 갖고 있는 구슬의 개수 balls와 친구들에게 나누어 줄 구슬 개수 share이 매개변수로 주어질 때, balls개의 구슬 중 share개의 구슬을 고르는 가능한 모든 경우의 수를 return 하는 solution 함수를 완성해주세요."
   ]
  },
  {
   "cell_type": "code",
   "execution_count": null,
   "metadata": {},
   "outputs": [],
   "source": [
    "# 조합을 구하는 파이썬 내장함수가 있지만 (from itertools import combination) 이 함수는 리스트 조합의 결과를 반환하기에\n",
    "# 단순 개수를 구하는 문제에서는 시간 초과!\n",
    "import operator as op\n",
    "from functools import reduce\n",
    "\n",
    "def solution(balls, share):\n",
    "    share = min(share, balls-share)\n",
    "    numerator = reduce(op.mul, range(balls, balls-share, -1), 1)\n",
    "    denominator = reduce(op.mul, range(1, share+1), 1)\n",
    "    return numerator // denominator"
   ]
  },
  {
   "cell_type": "code",
   "execution_count": null,
   "metadata": {},
   "outputs": [],
   "source": [
    "# 다른 사람 풀이..\n",
    "import math\n",
    "def solution(balls, share):\n",
    "    return math.comb(balls, share)"
   ]
  },
  {
   "attachments": {},
   "cell_type": "markdown",
   "metadata": {},
   "source": [
    "### 캐릭터의 좌표\n",
    "- https://school.programmers.co.kr/learn/courses/30/lessons/120861\n",
    "- 머쓱이는 RPG게임을 하고 있습니다. 게임에는 up, down, left, right 방향키가 있으며 각 키를 누르면 위, 아래, 왼쪽, 오른쪽으로 한 칸씩 이동합니다. 예를 들어 [0,0]에서 up을 누른다면 캐릭터의 좌표는 [0, 1], down을 누른다면 [0, -1], left를 누른다면 [-1, 0], right를 누른다면 [1, 0]입니다. 머쓱이가 입력한 방향키의 배열 keyinput와 맵의 크기 board이 매개변수로 주어집니다. 캐릭터는 항상 [0,0]에서 시작할 때 키 입력이 모두 끝난 뒤에 캐릭터의 좌표 [x, y]를 return하도록 solution 함수를 완성해주세요.\n",
    "\n",
    "[0, 0]은 board의 정 중앙에 위치합니다. 예를 들어 board의 가로 크기가 9라면 캐릭터는 왼쪽으로 최대 [-4, 0]까지 오른쪽으로 최대 [4, 0]까지 이동할 수 있습니다."
   ]
  },
  {
   "cell_type": "code",
   "execution_count": null,
   "metadata": {},
   "outputs": [],
   "source": [
    "def solution(keyinput, board):\n",
    "    user = [0,0]\n",
    "    keyDict = {\"up\":0, \"down\":1, \"left\":2, \"right\":3}\n",
    "    dx = [0,0,-1,1]\n",
    "    dy= [1,-1,0,0]\n",
    "    x_size = board[0]//2\n",
    "    y_size = board[1]//2\n",
    "    for key in keyinput:\n",
    "        move = keyDict[key]\n",
    "        if move > 1: # x축 이동\n",
    "            if dx[move]+user[0] <= x_size and dx[move]+user[0] >= -x_size:\n",
    "                user[0] += dx[move]\n",
    "        else:   # y축 이동\n",
    "            if dy[move]+user[1] <= y_size and dy[move]+user[1] >= -y_size:\n",
    "                user[1] += dy[move]\n",
    "    return user"
   ]
  },
  {
   "cell_type": "code",
   "execution_count": null,
   "metadata": {},
   "outputs": [],
   "source": [
    "# 다른사람 풀이\n",
    "def solution(keyinput, board):\n",
    "    x_lim,y_lim = board[0]//2,board[1]//2\n",
    "    move = {'left':(-1,0),'right':(1,0),'up':(0,1),'down':(0,-1)}\n",
    "    x,y = 0,0\n",
    "    for k in keyinput:\n",
    "        dx,dy = move[k]                         # 튜플 형식으로 동시에 받기\n",
    "        if abs(x+dx)>x_lim or abs(y+dy)>y_lim:  # 절댓값을 사용해 범위 검사\n",
    "            continue\n",
    "        else:\n",
    "            x,y = x+dx,y+dy\n",
    "\n",
    "    return [x,y]"
   ]
  },
  {
   "attachments": {},
   "cell_type": "markdown",
   "metadata": {},
   "source": [
    "### 유한소수 판별하기\n",
    "- https://school.programmers.co.kr/learn/courses/30/lessons/120878"
   ]
  },
  {
   "cell_type": "code",
   "execution_count": null,
   "metadata": {},
   "outputs": [],
   "source": [
    "import math\n",
    "\n",
    "def solution(a, b):\n",
    "    # 약분\n",
    "    gcd = math.gcd(a,b)\n",
    "    a //= gcd\n",
    "    b //= gcd\n",
    "\n",
    "    # 정수인 경우\n",
    "    if a%b==0: return 1\n",
    "\n",
    "    # 유한소수 판별\n",
    "    answer = set()    \n",
    "    for i in range(2,b+1):\n",
    "        while(b%i==0):\n",
    "            answer.add(i)\n",
    "            b//=i\n",
    "    \n",
    "    # 부분집합\n",
    "    if answer and answer.issubset({2,5}): return 1\n",
    "    else: return 2"
   ]
  },
  {
   "cell_type": "code",
   "execution_count": null,
   "metadata": {},
   "outputs": [],
   "source": [
    "# 다른사람 풀이\n",
    "# set으로 하지 않고 풀었다. \n",
    "# 정수인 경우를 미리 체크하는 내 풀이가 시간 복잡도에서는 유리\n",
    "from math import gcd\n",
    "def solution(a, b):\n",
    "    b //= gcd(a,b)\n",
    "    while b%2==0:\n",
    "        b//=2\n",
    "    while b%5==0:\n",
    "        b//=5\n",
    "    return 1 if b==1 else 2 "
   ]
  },
  {
   "attachments": {},
   "cell_type": "markdown",
   "metadata": {},
   "source": [
    "### 종이자르기\n",
    "- https://school.programmers.co.kr/learn/courses/30/lessons/120922\n",
    "- 머쓱이는 큰 종이를 1 x 1 크기로 자르려고 합니다. 예를 들어 2 x 2 크기의 종이를 1 x 1 크기로 자르려면 최소 가위질 세 번이 필요합니다."
   ]
  },
  {
   "cell_type": "code",
   "execution_count": null,
   "metadata": {},
   "outputs": [],
   "source": [
    "def solution(M, N):\n",
    "    return M*N-1"
   ]
  },
  {
   "cell_type": "code",
   "execution_count": null,
   "metadata": {},
   "outputs": [],
   "source": [
    "def get_cut_cnt_dfs(width, height):\n",
    "    width, height = min(width, height), max(width, height)\n",
    "\n",
    "    if width == 1 and height == 1:\n",
    "        return 0\n",
    "\n",
    "    return 1 + get_cut_cnt_dfs(width, height//2) + get_cut_cnt_dfs(width, height-height//2)\n",
    "\n",
    "def solution(M, N):\n",
    "    return get_cut_cnt_dfs(M, N)"
   ]
  },
  {
   "attachments": {},
   "cell_type": "markdown",
   "metadata": {},
   "source": [
    " ### 등수 매기기\n",
    " - https://school.programmers.co.kr/learn/courses/30/lessons/120882\n",
    " - 영어 점수와 수학 점수의 평균 점수를 기준으로 학생들의 등수를 매기려고 합니다. 영어 점수와 수학 점수를 담은 2차원 정수 배열 score가 주어질 때, 영어 점수와 수학 점수의 평균을 기준으로 매긴 등수를 담은 배열을 return하도록 solution 함수를 완성해주세요."
   ]
  },
  {
   "cell_type": "code",
   "execution_count": 6,
   "metadata": {},
   "outputs": [
    {
     "name": "stdout",
     "output_type": "stream",
     "text": [
      "[1, 2, 4, 3]\n"
     ]
    }
   ],
   "source": [
    "def solution(score):\n",
    "    temp = []\n",
    "    for i in score:\n",
    "        temp.append(sum(i)/2)\n",
    "    answer = sorted(temp, reverse=True)\n",
    "    return [answer.index(sum(i)/2)+1 for i in score]\n",
    "\n",
    "score = [[80, 70], [90, 50], [40, 70], [50, 80]]\n",
    "print(solution(score))"
   ]
  },
  {
   "cell_type": "code",
   "execution_count": null,
   "metadata": {},
   "outputs": [],
   "source": [
    "# 다른사람 풀이\n",
    "# 평균이기에 그냥 sum()만 수행\n",
    "def solution(score):\n",
    "    a = sorted([sum(i) for i in score], reverse = True)\n",
    "    return [a.index(sum(i))+1 for i in score]"
   ]
  },
  {
   "attachments": {},
   "cell_type": "markdown",
   "metadata": {},
   "source": [
    "### 저주의 숫자 3\n",
    "- https://school.programmers.co.kr/learn/courses/30/lessons/120871\n",
    "- 3x 마을 사람들은 3을 저주의 숫자라고 생각하기 때문에 3의 배수와 숫자 3을 사용하지 않습니다. 3x 마을 사람들의 숫자는 다음과 같습니다."
   ]
  },
  {
   "cell_type": "code",
   "execution_count": 51,
   "metadata": {},
   "outputs": [
    {
     "name": "stdout",
     "output_type": "stream",
     "text": [
      "25\n"
     ]
    }
   ],
   "source": [
    "def solution(n):\n",
    "    count = 0\n",
    "    answer = []\n",
    "    for i in range(1,1000):\n",
    "        if i%3 != 0 and \"3\" not in str(i):\n",
    "            answer.append(i)\n",
    "            count +=1\n",
    "            if count >= n : break\n",
    "    return answer[-1]\n",
    "\n",
    "n = 15\n",
    "print(solution(n))"
   ]
  },
  {
   "cell_type": "code",
   "execution_count": null,
   "metadata": {},
   "outputs": [],
   "source": [
    "# 다른 사람 풀이\n",
    "# 더 직관적\n",
    "def solution(n):\n",
    "    answer = 0\n",
    "    for _ in range(n):\n",
    "        answer += 1\n",
    "        while answer % 3 == 0 or '3' in str(answer):\n",
    "            answer += 1\n",
    "    return answer"
   ]
  },
  {
   "attachments": {},
   "cell_type": "markdown",
   "metadata": {},
   "source": [
    "### 다항식 더하기\n",
    "- https://school.programmers.co.kr/learn/courses/30/lessons/120863\n",
    "- 한 개 이상의 항의 합으로 이루어진 식을 다항식이라고 합니다. 다항식을 계산할 때는 동류항끼리 계산해 정리합니다. 덧셈으로 이루어진 다항식 polynomial이 매개변수로 주어질 때, 동류항끼리 더한 결괏값을 문자열로 return 하도록 solution 함수를 완성해보세요. 같은 식이라면 가장 짧은 수식을 return 합니다."
   ]
  },
  {
   "cell_type": "code",
   "execution_count": 53,
   "metadata": {},
   "outputs": [
    {
     "name": "stdout",
     "output_type": "stream",
     "text": [
      "3x\n"
     ]
    }
   ],
   "source": [
    "polynomial = \"x + x + x\"\n",
    "\n",
    "def solution(polynomial):\n",
    "    a = polynomial.split()\n",
    "    x = 0\n",
    "    c = 0\n",
    "    for i in a:\n",
    "        if i == '+': continue\n",
    "        if len(i)>1 and i[-1]=='x': x+=int(i[:-1])\n",
    "        elif i[-1]=='x': x+=1\n",
    "        else: c+=int(i)\n",
    "    if x > 1:\n",
    "        if c: return f'{x}x + {c}'\n",
    "        else: return f'{x}x'\n",
    "    elif x == 1:\n",
    "        if c: return f'x + {c}'\n",
    "        else: return f'x'\n",
    "    else:\n",
    "        return f'{c}'\n",
    "\n",
    "\n",
    "print(solution(polynomial))"
   ]
  },
  {
   "cell_type": "code",
   "execution_count": null,
   "metadata": {},
   "outputs": [],
   "source": [
    "# 다른 사람 풀이\n",
    "# split(' + ')이 더 좋은듯\n",
    "def solution(polynomial):\n",
    "    xnum = 0\n",
    "    const = 0\n",
    "    for c in polynomial.split(' + '):\n",
    "        if c.isdigit():\n",
    "            const+=int(c)\n",
    "        else:\n",
    "            xnum = xnum+1 if c=='x' else xnum+int(c[:-1])\n",
    "    if xnum == 0:\n",
    "        return str(const)\n",
    "    elif xnum==1:\n",
    "        return 'x + '+str(const) if const!=0 else 'x'\n",
    "    else:\n",
    "        return f'{xnum}x + {const}' if const!=0 else f'{xnum}x'"
   ]
  }
 ],
 "metadata": {
  "kernelspec": {
   "display_name": "Python 3",
   "language": "python",
   "name": "python3"
  },
  "language_info": {
   "codemirror_mode": {
    "name": "ipython",
    "version": 3
   },
   "file_extension": ".py",
   "mimetype": "text/x-python",
   "name": "python",
   "nbconvert_exporter": "python",
   "pygments_lexer": "ipython3",
   "version": "3.10.6"
  },
  "orig_nbformat": 4,
  "vscode": {
   "interpreter": {
    "hash": "20c9d94bea3bcd43e69d1e5f02ce962985699c48de0c68502218d203d4c4e41a"
   }
  }
 },
 "nbformat": 4,
 "nbformat_minor": 2
}
