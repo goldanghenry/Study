{
 "cells": [
  {
   "cell_type": "markdown",
   "metadata": {},
   "source": [
    "# Sotring"
   ]
  },
  {
   "cell_type": "markdown",
   "metadata": {},
   "source": [
    "### 올림픽\n",
    "- Silver 5\n",
    "- https://www.acmicpc.net/problem/8979\n",
    "---\n",
    "- 올림픽에서 특정 나라의 순위를 출력하라.\n",
    "- 나라별 순위\n",
    "1. 금메달이 더 많은 나라\n",
    "2. 은메달이 더 많은 나라\n",
    "3. 동메달이 더 많은 나라\n",
    "\n",
    "- 등수 : (자신보다 잘한 나라 수) + 1, 모든 메달의 수가 같다면 동률"
   ]
  },
  {
   "cell_type": "code",
   "execution_count": 4,
   "metadata": {},
   "outputs": [
    {
     "name": "stdout",
     "output_type": "stream",
     "text": [
      "2\n"
     ]
    }
   ],
   "source": [
    "import sys\n",
    "\n",
    "#input = sys.stdin.readline\n",
    "\n",
    "# 국가의 수, 알고싶은 국가\n",
    "N, K = map(int,input().split())   \n",
    "\n",
    "# input & 금,은,동 내림차순 정렬\n",
    "result = sorted([list(map(int,input().split())) for _ in range(N)], key= lambda x:(-x[1],-x[2],-x[3]))\n",
    "\n",
    "# 동률 카운트, 이전 점수 초기화\n",
    "cnt, pre = 0,[]  \n",
    "\n",
    "# 점수 출력\n",
    "for idx, score in enumerate(result):\n",
    "    nation = score[0]   # 국가 이름\n",
    "    cur = score[1:]     # 점수\n",
    "    \n",
    "    # 이전 나라와 동률일 경우 cnt+1\n",
    "    if pre == cur: cnt += 1\n",
    "    else: cnt = 0\n",
    "    \n",
    "    # K 출력\n",
    "    if K == nation: print(idx-cnt+1); break\n",
    "    pre = cur"
   ]
  },
  {
   "cell_type": "markdown",
   "metadata": {},
   "source": [
    "### 수 정렬하기4\n",
    "- Silver 5\n",
    "- https://www.acmicpc.net/problem/11931\n",
    "---\n",
    "N개의 수가 주어졌을 때, 이를 내림차순으로 정렬하는 프로그램을 작성하시오."
   ]
  },
  {
   "cell_type": "code",
   "execution_count": 3,
   "metadata": {},
   "outputs": [
    {
     "name": "stdout",
     "output_type": "stream",
     "text": [
      "5\n",
      "4\n",
      "3\n",
      "2\n",
      "1\n"
     ]
    }
   ],
   "source": [
    "# 방법1) quick sort -> 메모리 초과 판정\n",
    "import sys\n",
    "\n",
    "# quick sort 함수 정의 - descending order\n",
    "def quick_sort(arr):\n",
    "    if len(arr) <= 1:   # 리스트에 하나의 원소만 있다면 \n",
    "        return arr\n",
    "    \n",
    "    pivot = arr[0]  # 기준\n",
    "    tail = arr[1:]  # 나머지 리스트\n",
    "    \n",
    "    left_side = [ x for x in tail if x> pivot]     # pivot보다 큰 부분\n",
    "    right_side = [ x for x in tail if x <= pivot]    # pibot보다 작은 부분\n",
    "    \n",
    "    return  quick_sort(left_side) + [pivot] + quick_sort(right_side)\n",
    "\n",
    "# input = sys.stdin.readline\n",
    "\n",
    "for i in quick_sort([int(input().rstrip()) for _ in range(int(input().rstrip()))]):\n",
    "    print(i)\n",
    "\n"
   ]
  },
  {
   "cell_type": "code",
   "execution_count": 7,
   "metadata": {},
   "outputs": [
    {
     "name": "stdout",
     "output_type": "stream",
     "text": [
      "[4, 4, 3, 2, 2]\n"
     ]
    }
   ],
   "source": [
    "# 방법2) 시간 초과\n",
    "import sys\n",
    "\n",
    "# input = sys.stdin.readline\n",
    "\n",
    "def quick_sort2(arr, start, end):\n",
    "    if start >= end:    # 원소가 1개인 경우 종료\n",
    "        return\n",
    "    pivot = start       # 첫번째 원소 피봇\n",
    "    left = start+1      # 두번째 원소부터 시작\n",
    "    right = end         # 서브 리스트의 마지막 인덱스\n",
    "    while left <= right:    # 중단 조건\n",
    "        while left <= end and arr[left] >= arr[pivot]:  # 피봇보다 작은 원소를 찾을 때까지\n",
    "            left +=1\n",
    "        while right > start and arr[right] <= arr[pivot]:   # 피봇보다 큰 원소를 찾을 때까지\n",
    "            right -=1\n",
    "        if left > right:\n",
    "            arr[right], arr[pivot] = arr[pivot], arr[right]\n",
    "        else:\n",
    "            arr[left], arr[right] = arr[right], arr[left]\n",
    "    \n",
    "    quick_sort2(arr, start, right -1)\n",
    "    quick_sort2(arr,right+1, end)\n",
    "\n",
    "n = int(input().rstrip())\n",
    "sensors = [int(input().rstrip()) for _ in range(n)]\n",
    "    \n",
    "quick_sort2(sensors, 0, n-1)\n",
    "print(sensors)"
   ]
  },
  {
   "cell_type": "code",
   "execution_count": null,
   "metadata": {},
   "outputs": [],
   "source": [
    "# 방법3) 파이썬 내장 라이브러리\n",
    "import sys\n",
    "\n",
    "input = sys.stdin.readline\n",
    "\n",
    "n = int(input().rstrip())\n",
    "sensors = sorted([ int(input().rstrip()) for _ in range(n)], reverse= True)\n",
    "\n",
    "print(*sensors, sep='\\n')"
   ]
  },
  {
   "cell_type": "markdown",
   "metadata": {},
   "source": [
    "### 생일\n",
    "- silver 5\n",
    "- https://www.acmicpc.net/problem/5635\n",
    "---\n",
    "어떤 반에 있는 학생들의 생일이 주어졌을 때, 가장 나이가 적은 사람과 가장 많은 사람을 구하는 프로그램을 작성하시오."
   ]
  },
  {
   "cell_type": "code",
   "execution_count": null,
   "metadata": {},
   "outputs": [],
   "source": [
    "import sys\n",
    "\n",
    "#input = sys.stdin.readline\n",
    "\n",
    "n = int(input().rstrip())\n",
    "st_list = []\n",
    "\n",
    "for _ in range(n):\n",
    "    name, dd, mm, yy = input().split()\n",
    "    st_list.append([name]+list(map(int,[dd,mm,yy])))\n",
    "\n",
    "st_list.sort(key=lambda x:(x[3],x[2],x[1]))\n",
    "print(st_list[n-1][0])\n",
    "print(st_list[0][0])"
   ]
  },
  {
   "cell_type": "markdown",
   "metadata": {},
   "source": [
    "### 스네이크버드\n",
    "- silver 5\n",
    "- https://www.acmicpc.net/problem/16435\n",
    "---\n",
    "스네이크버드는 뱀과 새의 모습을 닮은 귀여운 생물체입니다. \n",
    "\n",
    "스네이크버드의 주요 먹이는 과일이며 과일 하나를 먹으면 길이가 1만큼 늘어납니다.\n",
    "\n",
    "과일들은 지상으로부터 일정 높이를 두고 떨어져 있으며 i (1 ≤ i ≤ N) 번째 과일의 높이는 hi입니다. \n",
    "\n",
    "스네이크버드는 자신의 길이보다 작거나 같은 높이에 있는 과일들을 먹을 수 있습니다.\n",
    "\n",
    "스네이크버드의 처음 길이가 L일때 과일들을 먹어 늘릴 수 있는 최대 길이를 구하세요."
   ]
  },
  {
   "cell_type": "code",
   "execution_count": 10,
   "metadata": {},
   "outputs": [
    {
     "name": "stdout",
     "output_type": "stream",
     "text": [
      "10\n"
     ]
    }
   ],
   "source": [
    "import sys\n",
    "# input = sys.stdin.readline\n",
    "\n",
    "N,L = map(int, input().split())\n",
    "fruits = list(map(int, input().split()))\n",
    "fruits.sort()\n",
    "for fruit in fruits:\n",
    "    if L >= fruit:\n",
    "        L+=1\n",
    "print(L)"
   ]
  },
  {
   "cell_type": "markdown",
   "metadata": {},
   "source": [
    "### 두 용액\n",
    "- gold 5\n",
    "- https://www.acmicpc.net/problem/2470\n",
    "---\n",
    "KOI 부설 과학연구소에서는 많은 종류의 산성 용액과 알칼리성 용액을 보유하고 있다. 각 용액에는 그 용액의 특성을 나타내는 하나의 정수가 주어져있다. 산성 용액의 특성값은 1부터 1,000,000,000까지의 양의 정수로 나타내고, 알칼리성 용액의 특성값은 -1부터 -1,000,000,000까지의 음의 정수로 나타낸다.\n",
    "\n",
    "같은 양의 두 용액을 혼합한 용액의 특성값은 혼합에 사용된 각 용액의 특성값의 합으로 정의한다. 이 연구소에서는 같은 양의 두 용액을 혼합하여 특성값이 0에 가장 가까운 용액을 만들려고 한다.\n",
    "\n",
    "예를 들어, 주어진 용액들의 특성값이 [-2, 4, -99, -1, 98]인 경우에는 특성값이 -99인 용액과 특성값이 98인 용액을 혼합하면 특성값이 -1인 용액을 만들 수 있고, 이 용액이 특성값이 0에 가장 가까운 용액이다. 참고로, 두 종류의 알칼리성 용액만으로나 혹은 두 종류의 산성 용액만으로 특성값이 0에 가장 가까운 혼합 용액을 만드는 경우도 존재할 수 있다.\n",
    "\n",
    "산성 용액과 알칼리성 용액의 특성값이 주어졌을 때, 이 중 두 개의 서로 다른 용액을 혼합하여 특성값이 0에 가장 가까운 용액을 만들어내는 두 용액을 찾는 프로그램을 작성하시오."
   ]
  },
  {
   "cell_type": "code",
   "execution_count": 13,
   "metadata": {},
   "outputs": [
    {
     "name": "stdout",
     "output_type": "stream",
     "text": [
      "-99 98\n"
     ]
    }
   ],
   "source": [
    "# strategy\n",
    "# 오름차순 정렬\n",
    "# 투 포인터를 이용해 0보다 작다면 왼쪽 포인터 +1, 0보다 크다면 오른쪽 포인터 -1\n",
    "# 두 용액의 합이 0이거나, 포인터가 교차되면 종료\n",
    "import sys\n",
    "\n",
    "# input = sys.stdin.readline\n",
    "\n",
    "end = int(input().rstrip())-1\n",
    "sensors = sorted(list(map(int, input().split())))\n",
    "start = 0\n",
    "alkali, acid = 0, 0\n",
    "mini = sys.maxsize   # 양의 무한대\n",
    "\n",
    "while(start<end):   # 종료 조건 1\n",
    "    interval_sum = sensors[start]+sensors[end]  # 혼합 용액\n",
    "    \n",
    "    # 용액 혼합\n",
    "    if(mini > abs(interval_sum)):        \n",
    "        mini = abs(interval_sum)\n",
    "        alkali, acid = sensors[start], sensors[end]\n",
    "        \n",
    "        if interval_sum == 0:           # 종료 조건 2\n",
    "            break\n",
    "    \n",
    "    # 포인터 이동\n",
    "    if interval_sum < 0 :\n",
    "        start+=1\n",
    "    else:\n",
    "        end -=1\n",
    "    \n",
    "print(alkali, acid)"
   ]
  },
  {
   "cell_type": "markdown",
   "metadata": {},
   "source": [
    "### 강의실 배정\n",
    "- gold 5\n",
    "- https://www.acmicpc.net/problem/11000\n",
    "---\n",
    "수강신청의 마스터 김종혜 선생님에게 새로운 과제가 주어졌다. \n",
    "\n",
    "김종혜 선생님한테는 Si에 시작해서 Ti에 끝나는 N개의 수업이 주어지는데, 최소의 강의실을 사용해서 모든 수업을 가능하게 해야 한다. \n",
    "\n",
    "참고로, 수업이 끝난 직후에 다음 수업을 시작할 수 있다. (즉, Ti ≤ Sj 일 경우 i 수업과 j 수업은 같이 들을 수 있다.)\n",
    "\n",
    "수강신청 대충한 게 찔리면, 선생님을 도와드리자!"
   ]
  },
  {
   "cell_type": "code",
   "execution_count": 18,
   "metadata": {},
   "outputs": [
    {
     "name": "stdout",
     "output_type": "stream",
     "text": [
      "1 [6]\n",
      "1 [3, 6]\n",
      "2 [3, 6]\n",
      "2 [6]\n",
      "2 [4, 6]\n",
      "3 [4, 6]\n",
      "3 [6]\n",
      "3 [5, 6]\n",
      "2\n"
     ]
    }
   ],
   "source": [
    "# strategy\n",
    "# 1. 과목의 시작시간 순으로 정렬한다\n",
    "# 2. heap의 상단에는 가장 빨리 끝나는 과목의 종료 시간\n",
    "# 3. 시작할 수 있다면, 그 과목을 제거후 새로운 과목의 종료 시간을 heappush\n",
    "# 4. 시작할 수 없다면, 새로운 과목 종료 시간 heappush\n",
    "# priority queue(heap) 사용 -> 종료 시간이 빠른 순으로 비교 가능\n",
    "\n",
    "import sys\n",
    "import heapq\n",
    "\n",
    "# input = sys.stdin.readline\n",
    "\n",
    "n = int(input().rstrip())\n",
    "schedule = sorted([ list(map(int,input().split())) for _ in range(n) ], key=lambda x:(x[0],x[1]))\n",
    "\n",
    "heap = [ schedule[0][1]]    # 현재 과목의 종료시간\n",
    "for i in range(1, n):\n",
    "    if heap[0] <= schedule[i][0]:   # 가장빨리 종료되는 과목 <= 새로운 과목 시작시간 -> 동일한 강의실에서 수업 가능\n",
    "        heapq.heappop(heap)         # heap에서 제거\n",
    "    heapq.heappush(heap, schedule[i][1])\n",
    "\n",
    "print(len(heap))"
   ]
  },
  {
   "cell_type": "markdown",
   "metadata": {},
   "source": [
    "### 센서\n",
    "- gold 5\n",
    "- https://www.acmicpc.net/problem/2212\n",
    "---\n",
    "한국도로공사는 고속도로의 유비쿼터스화를 위해 고속도로 위에 N개의 센서를 설치하였다. 문제는 이 센서들이 수집한 자료들을 모으고 분석할 몇 개의 집중국을 세우는 일인데, 예산상의 문제로, 고속도로 위에 최대 K개의 집중국을 세울 수 있다고 한다.\n",
    "\n",
    "각 집중국은 센서의 수신 가능 영역을 조절할 수 있다. 집중국의 수신 가능 영역은 고속도로 상에서 연결된 구간으로 나타나게 된다. N개의 센서가 적어도 하나의 집중국과는 통신이 가능해야 하며, 집중국의 유지비 문제로 인해 각 집중국의 수신 가능 영역의 길이의 합을 최소화해야 한다.\n",
    "\n",
    "편의를 위해 고속도로는 평면상의 직선이라고 가정하고, 센서들은 이 직선 위의 한 기점인 원점으로부터의 정수 거리의 위치에 놓여 있다고 하자. 따라서, 각 센서의 좌표는 정수 하나로 표현된다. 이 상황에서 각 집중국의 수신 가능영역의 거리의 합의 최솟값을 구하는 프로그램을 작성하시오. 단, 집중국의 수신 가능영역의 길이는 0 이상이며 모든 센서의 좌표가 다를 필요는 없다."
   ]
  },
  {
   "cell_type": "code",
   "execution_count": 9,
   "metadata": {},
   "outputs": [
    {
     "name": "stdout",
     "output_type": "stream",
     "text": [
      "[3, 6, 7, 8, 10, 12, 14, 15, 18, 20]\n",
      "[3, 3, 2, 2, 2, 2, 1, 1, 1]\n",
      "7\n"
     ]
    }
   ],
   "source": [
    "# strategy\n",
    "# - k개의 집중국으로 모든 센서를 커버할 수 있어야 한다.\n",
    "# - 각 집중국의 커버 범위의 합이 최솟값이 되도록 해야 한다.(graedy)\n",
    "# - k-1개만큼 거리를 건너 뛸 수 있는데, 센서가 가장 먼 거리부터 건너 뛰는 것이 이득이다.\n",
    "\n",
    "# design\n",
    "# 1) 집중국 개수(k) <= 센서 개수(n) : 모두 배정할 수 있으므로 거리 합은 0\n",
    "# 2) 센서 좌표 오름차순 정렬\n",
    "# 3) 센서간 거리 차이 배열 diff_arr 생성\n",
    "# 4) diff_arr 내림차순\n",
    "# 5) sum(diff_arr[ k-1:]) 출력\n",
    "import sys\n",
    "\n",
    "input = sys.stdin.readline\n",
    "\n",
    "n = int(input())    # 센서 개수\n",
    "k = int(input())    # 집중국 개수\n",
    "\n",
    "# 1) 집중국 개수(k) <= 센서 개수(n) : 모두 배정할 수 있으므로 거리 합은 0\n",
    "if k >= n : print(0); sys.exit()\n",
    "else:\n",
    "    # 2) 센서 좌표 입력 및 오름차순 정렬\n",
    "    sensors = sorted(map(int,input().split()))\n",
    "    # 3) 센서간 거리 차이 배열 diff_arr 생성\n",
    "    diff_distances = []\n",
    "    for i in range(1, n):\n",
    "       diff_distances.append(sensors[i]-sensors[i-1])\n",
    "    # 4) diff_arr 내림차순\n",
    "    diff_distances.sort(reverse=True)\n",
    "    # 5) 결과 출력\n",
    "    print(sum(diff_distances[k-1:]))"
   ]
  },
  {
   "cell_type": "markdown",
   "metadata": {},
   "source": [
    "### 선 긋기\n",
    "- gold 5\n",
    "- https://www.acmicpc.net/problem/2170\n",
    "---\n",
    "매우 큰 도화지에 자를 대고 선을 그으려고 한다. 선을 그을 때에는 자의 한 점에서 다른 한 점까지 긋게 된다. 선을 그을 때에는 이미 선이 있는 위치에 겹쳐서 그릴 수도 있는데, 여러 번 그은 곳과 한 번 그은 곳의 차이를 구별할 수 없다고 하자.\n",
    "\n",
    "이와 같은 식으로 선을 그었을 때, 그려진 선(들)의 총 길이를 구하는 프로그램을 작성하시오. 선이 여러 번 그려진 곳은 한 번씩만 계산한다."
   ]
  },
  {
   "cell_type": "code",
   "execution_count": 20,
   "metadata": {},
   "outputs": [
    {
     "name": "stdout",
     "output_type": "stream",
     "text": [
      "5\n"
     ]
    }
   ],
   "source": [
    "# strategy\n",
    "# 1. 시작점 기준 오름차순\n",
    "# 2. 앞 선의 끝(pre_end)과 다음 선의 시작(cur_start), 끝(cur_end)을 비교하며 3가지 케이스로 선의 길이 산출\n",
    "#   case 1) pre_end >= cur_end : 이전 선에 완전히 포함되는 경우  -> next loop\n",
    "#   case 2) cur_start <= pre_end < cur_end : 선이 겹치는 경우  -> 이전 선의 끝 점을 현재 선의 끝점으로 업데이트\n",
    "#   case 3) pre_end < cur_start : 두 선이 완전히 분리되는 경우  -> 이전 선의 길이를 결과에 추가\n",
    "# 3. 마지막 선의 길이 추가 및 result 출력\n",
    "\n",
    "import sys\n",
    "\n",
    "#input = sys.stdin.readline\n",
    "n = int(input())\n",
    "\n",
    "# 1. 시작점 기준 오름차순 정렬\n",
    "lines = sorted([ tuple(map(int, input().split())) for _ in range(n) ], key= lambda x:x[0])\n",
    "\n",
    "# 변수 초기화\n",
    "result = 0\n",
    "pre_start = lines[0][0]\n",
    "pre_end = lines[0][1]\n",
    "\n",
    "# 2. 앞 선의 끝(pre_end)과 다음 선의 시작(cur_start), 끝(cur_end)을 비교하며 3가지 케이스로 선의 길이 산출\n",
    "for i in range(1,n):\n",
    "    cur_start = lines[i][0]\n",
    "    cur_end = lines[i][1]\n",
    "        \n",
    "    if pre_end >= cur_end:                  # case 1) 이전 선에 완전히 포함되는 경우\n",
    "        continue\n",
    "    elif cur_start <= pre_end < cur_end:    # case 2) 선이 겹치는 경우\n",
    "        pre_end = cur_end\n",
    "    elif pre_end < cur_start :              # case 3) 두 선이 완전히 분리되는 경우\n",
    "        result += pre_end-pre_start         \n",
    "        pre_start = cur_start\n",
    "        pre_end = cur_end\n",
    "\n",
    "# 3. 결과에 마지막 선의 길이 추가\n",
    "result += pre_end - pre_start\n",
    "\n",
    "print(result)"
   ]
  },
  {
   "cell_type": "markdown",
   "metadata": {},
   "source": [
    "### 배\n",
    "- gold 5\n",
    "- https://www.acmicpc.net/problem/1092\n",
    "---\n",
    "지민이는 항구에서 일한다. 그리고 화물을 배에 실어야 한다. 모든 화물은 박스에 안에 넣어져 있다. 항구에는 크레인이 N대 있고, 1분에 박스를 하나씩 배에 실을 수 있다. 모든 크레인은 동시에 움직인다.\n",
    "\n",
    "각 크레인은 무게 제한이 있다. 이 무게 제한보다 무거운 박스는 크레인으로 움직일 수 없다. 모든 박스를 배로 옮기는데 드는 시간의 최솟값을 구하는 프로그램을 작성하시오."
   ]
  },
  {
   "cell_type": "code",
   "execution_count": 13,
   "metadata": {},
   "outputs": [
    {
     "name": "stdout",
     "output_type": "stream",
     "text": [
      "2\n"
     ]
    }
   ],
   "source": [
    "# strategy\n",
    "# 1) 크레인과 박스를 내림차순 정렬해 무거운 박스부터 옮길 수 있도록 한다\n",
    "# 2) 3중 loop 구조로 조기 종료 조건을 설정한다\n",
    "\n",
    "\n",
    "import sys\n",
    "# input = sys.stdin.readline\n",
    "\n",
    "# 데이터 입력 및 내림차순 정렬\n",
    "n = int(input())    # 크레인 수\n",
    "cranes = sorted(map(int,input().split()), reverse=True) # 크레인 무게 제한\n",
    "m = int(input())    # 박스 수\n",
    "boxes = sorted(map(int,input().split()), reverse=True)  # 박스 무게 제한\n",
    "\n",
    "cnt = 0\n",
    "\n",
    "# 옮길 수 없는 경우\n",
    "if boxes[0] > cranes[0]:\n",
    "    cnt = -1\n",
    "else:\n",
    "    while boxes:    # 남은 박스가 없으면 종료\n",
    "        for crane in cranes:\n",
    "            if boxes and crane < boxes[-1]: # 가장 작은 박스보다 크레인이 작으면 다음 루프\n",
    "                break\n",
    "            for box in boxes:\n",
    "                if crane >= box:\n",
    "                    boxes.remove(box)\n",
    "                    break\n",
    "        cnt +=1\n",
    "print(cnt)"
   ]
  },
  {
   "cell_type": "markdown",
   "metadata": {},
   "source": [
    "### 수 고르기\n",
    "- Gold 5\n",
    "- https://www.acmicpc.net/problem/2230\n",
    "---\n",
    "N개의 정수로 이루어진 수열 A[1], A[2], …, A[N]이 있다. 이 수열에서 두 수를 골랐을 때(같은 수일 수도 있다), 그 차이가 M 이상이면서 제일 작은 경우를 구하는 프로그램을 작성하시오.\n",
    "\n",
    "예를 들어 수열이 {1, 2, 3, 4, 5}라고 하자. 만약 M = 3일 경우, 1 4, 1 5, 2 5를 골랐을 때 그 차이가 M 이상이 된다. 이 중에서 차이가 가장 작은 경우는 1 4나 2 5를 골랐을 때의 3이 된다."
   ]
  },
  {
   "cell_type": "code",
   "execution_count": 15,
   "metadata": {},
   "outputs": [
    {
     "name": "stdout",
     "output_type": "stream",
     "text": [
      "4\n"
     ]
    }
   ],
   "source": [
    "# strategy\n",
    "# 투 포인터(left = 0, right = 1)\n",
    "# 1) 오름차순 정렬\n",
    "# 2) diff = right - left\n",
    "# 3) while( right or left ) > n\n",
    "# 2) 3가지 경우의 수\n",
    "#   1. diff == M : 목표 도달 -> 종료\n",
    "#   2. diff < M : 두 값의 차이를 늘리기 위해 right+1\n",
    "#   3. diff > M : 두 값의 차이를 줄이기 위해 left+1\n",
    "\n",
    "import sys\n",
    "# input = sys.stdin.readline\n",
    "\n",
    "# 데이터 입력\n",
    "n,m = map(int,input().split())\n",
    "numbers = sorted([int(input().rstrip()) for _ in range(n)])\n",
    "\n",
    "left, right = 0, 1\n",
    "ans = sys.maxsize\n",
    "\n",
    "# 포인터가 겹쳐지거나, 우측 포인터가 n보다 커지면 종료\n",
    "while left <= right and right <n :\n",
    "    diff = numbers[right]-numbers[left]\n",
    "    \n",
    "    if diff < m:\n",
    "        right+=1\n",
    "    else:\n",
    "        ans = min(ans, diff)\n",
    "        left +=1\n",
    "        if ans == m: break\n",
    "\n",
    "print(ans)"
   ]
  },
  {
   "cell_type": "markdown",
   "metadata": {},
   "source": [
    "### 행복 유치원\n",
    "- gold 5\n",
    "- https://www.acmicpc.net/problem/13164\n",
    "---\n",
    "행복 유치원 원장인 태양이는 어느 날 N명의 원생들을 키 순서대로 일렬로 줄 세우고, 총 K개의 조로 나누려고 한다. 각 조에는 원생이 적어도 한 명 있어야 하며, 같은 조에 속한 원생들은 서로 인접해 있어야 한다. 조별로 인원수가 같을 필요는 없다.\n",
    "\n",
    "이렇게 나뉘어진 조들은 각자 단체 티셔츠를 맞추려고 한다. 조마다 티셔츠를 맞추는 비용은 조에서 가장 키가 큰 원생과 가장 키가 작은 원생의 키 차이만큼 든다. 최대한 비용을 아끼고 싶어 하는 태양이는 K개의 조에 대해 티셔츠 만드는 비용의 합을 최소로 하고 싶어한다. 태양이를 도와 최소의 비용을 구하자."
   ]
  },
  {
   "cell_type": "code",
   "execution_count": 12,
   "metadata": {},
   "outputs": [
    {
     "name": "stdout",
     "output_type": "stream",
     "text": [
      "3\n"
     ]
    }
   ],
   "source": [
    "# strategy\n",
    "# 키 차이가 크면 비용이 많이 들고, 혼자 그룹일 때는 비용이 발생하지 않는다\n",
    "# 옆사람과의 키 차이를 저장한 뒤, 차이가 큰 순부터 N-K개만큼 제외\n",
    "# 제외되지 않은 키 차이들을 전부 더함 -> 비용\n",
    "\n",
    "import sys\n",
    "input = sys.stdin.readline\n",
    "\n",
    "N, K = map(int,input().split())\n",
    "arr = list(map(int,input().split()))\n",
    "\n",
    "cost = []\n",
    "for i in range(1,N):\n",
    "    cost.append(arr[i]-arr[i-1])\n",
    "cost.sort()\n",
    "\n",
    "print(sum(cost[:N-K]))\n"
   ]
  },
  {
   "cell_type": "markdown",
   "metadata": {},
   "source": [
    "### 나는야 포켓몬 마스터 이다솜\n",
    "- silver 4\n",
    "- https://www.acmicpc.net/problem/1620\n",
    "---\n",
    "첫째 줄에는 도감에 수록되어 있는 포켓몬의 개수 N이랑 내가 맞춰야 하는 문제의 개수 M이 주어져. N과 M은 1보다 크거나 같고, 100,000보다 작거나 같은 자연수인데, 자연수가 뭔지는 알지? 모르면 물어봐도 괜찮아. 나는 언제든지 질문에 답해줄 준비가 되어있어.\n",
    "\n",
    "둘째 줄부터 N개의 줄에 포켓몬의 번호가 1번인 포켓몬부터 N번에 해당하는 포켓몬까지 한 줄에 하나씩 입력으로 들어와. 포켓몬의 이름은 모두 영어로만 이루어져있고, 또, 음... 첫 글자만 대문자이고, 나머지 문자는 소문자로만 이루어져 있어. 아참! 일부 포켓몬은 마지막 문자만 대문자일 수도 있어. 포켓몬 이름의 최대 길이는 20, 최소 길이는 2야. 그 다음 줄부터 총 M개의 줄에 내가 맞춰야하는 문제가 입력으로 들어와. 문제가 알파벳으로만 들어오면 포켓몬 번호를 말해야 하고, 숫자로만 들어오면, 포켓몬 번호에 해당하는 문자를 출력해야해. 입력으로 들어오는 숫자는 반드시 1보다 크거나 같고, N보다 작거나 같고, 입력으로 들어오는 문자는 반드시 도감에 있는 포켓몬의 이름만 주어져. 그럼 화이팅!!!"
   ]
  },
  {
   "cell_type": "code",
   "execution_count": 23,
   "metadata": {},
   "outputs": [
    {
     "name": "stdout",
     "output_type": "stream",
     "text": [
      "a\n",
      "1\n",
      "e\n"
     ]
    }
   ],
   "source": [
    "import sys\n",
    "\n",
    "def input():\n",
    "    return sys.stdin.readline().rstrip()\n",
    "\n",
    "N,M = map(int,input().split())\n",
    "pokemon_name, pokemon_id = {},{}\n",
    "\n",
    "for i in range(1,N+1):\n",
    "    pokemon = input()\n",
    "    pokemon_id[i] = pokemon\n",
    "    pokemon_name[pokemon] = i\n",
    "\n",
    "for _ in range(M):\n",
    "    q = input()\n",
    "    if q.isdigit():\n",
    "        print(pokemon_id[int(q)])\n",
    "    else:\n",
    "        print(pokemon_name[q])"
   ]
  }
 ],
 "metadata": {
  "kernelspec": {
   "display_name": "base",
   "language": "python",
   "name": "python3"
  },
  "language_info": {
   "codemirror_mode": {
    "name": "ipython",
    "version": 3
   },
   "file_extension": ".py",
   "mimetype": "text/x-python",
   "name": "python",
   "nbconvert_exporter": "python",
   "pygments_lexer": "ipython3",
   "version": "3.9.18"
  }
 },
 "nbformat": 4,
 "nbformat_minor": 2
}
