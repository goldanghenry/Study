{
 "cells": [
  {
   "cell_type": "markdown",
   "metadata": {},
   "source": [
    "# Sotring"
   ]
  },
  {
   "cell_type": "markdown",
   "metadata": {},
   "source": [
    "### 올림픽\n",
    "- Silver 5\n",
    "- https://www.acmicpc.net/problem/8979\n",
    "---\n",
    "- 나라별 순위\n",
    "1. 금메달이 더 많은 나라\n",
    "2. 은메달이 더 많은 나라\n",
    "3. 동메달이 더 많은 나라\n",
    "\n",
    "- 등수 : (자신보다 잘한 나라 수) + 1, 모든 메달의 수가 같다면 동률"
   ]
  },
  {
   "cell_type": "code",
   "execution_count": 4,
   "metadata": {},
   "outputs": [
    {
     "name": "stdout",
     "output_type": "stream",
     "text": [
      "2\n"
     ]
    }
   ],
   "source": [
    "import sys\n",
    "\n",
    "#input = sys.stdin.readline\n",
    "\n",
    "# 국가의 수, 알고싶은 국가\n",
    "N, K = map(int,input().split())   \n",
    "\n",
    "# input & 금,은,동 내림차순 정렬\n",
    "result = sorted([list(map(int,input().split())) for _ in range(N)], key= lambda x:(-x[1],-x[2],-x[3]))\n",
    "\n",
    "# 동률 카운트, 이전 점수 초기화\n",
    "cnt, pre = 0,[]  \n",
    "\n",
    "# 점수 출력\n",
    "for idx, score in enumerate(result):\n",
    "    nation = score[0]   # 국가 이름\n",
    "    cur = score[1:]     # 점수\n",
    "    \n",
    "    # 이전 나라와 동률일 경우 cnt+1\n",
    "    if pre == cur: cnt += 1\n",
    "    else: cnt = 0\n",
    "    \n",
    "    # K 출력\n",
    "    if K == nation: print(idx-cnt+1); break\n",
    "    pre = cur"
   ]
  }
 ],
 "metadata": {
  "kernelspec": {
   "display_name": "base",
   "language": "python",
   "name": "python3"
  },
  "language_info": {
   "codemirror_mode": {
    "name": "ipython",
    "version": 3
   },
   "file_extension": ".py",
   "mimetype": "text/x-python",
   "name": "python",
   "nbconvert_exporter": "python",
   "pygments_lexer": "ipython3",
   "version": "3.9.18"
  }
 },
 "nbformat": 4,
 "nbformat_minor": 2
}
