{
 "cells": [
  {
   "cell_type": "markdown",
   "metadata": {},
   "source": [
    "# Sotring"
   ]
  },
  {
   "cell_type": "markdown",
   "metadata": {},
   "source": [
    "### 올림픽\n",
    "- Silver 5\n",
    "- https://www.acmicpc.net/problem/8979\n",
    "---\n",
    "- 올림픽에서 특정 나라의 순위를 출력하라.\n",
    "- 나라별 순위\n",
    "1. 금메달이 더 많은 나라\n",
    "2. 은메달이 더 많은 나라\n",
    "3. 동메달이 더 많은 나라\n",
    "\n",
    "- 등수 : (자신보다 잘한 나라 수) + 1, 모든 메달의 수가 같다면 동률"
   ]
  },
  {
   "cell_type": "code",
   "execution_count": 4,
   "metadata": {},
   "outputs": [
    {
     "name": "stdout",
     "output_type": "stream",
     "text": [
      "2\n"
     ]
    }
   ],
   "source": [
    "import sys\n",
    "\n",
    "#input = sys.stdin.readline\n",
    "\n",
    "# 국가의 수, 알고싶은 국가\n",
    "N, K = map(int,input().split())   \n",
    "\n",
    "# input & 금,은,동 내림차순 정렬\n",
    "result = sorted([list(map(int,input().split())) for _ in range(N)], key= lambda x:(-x[1],-x[2],-x[3]))\n",
    "\n",
    "# 동률 카운트, 이전 점수 초기화\n",
    "cnt, pre = 0,[]  \n",
    "\n",
    "# 점수 출력\n",
    "for idx, score in enumerate(result):\n",
    "    nation = score[0]   # 국가 이름\n",
    "    cur = score[1:]     # 점수\n",
    "    \n",
    "    # 이전 나라와 동률일 경우 cnt+1\n",
    "    if pre == cur: cnt += 1\n",
    "    else: cnt = 0\n",
    "    \n",
    "    # K 출력\n",
    "    if K == nation: print(idx-cnt+1); break\n",
    "    pre = cur"
   ]
  },
  {
   "cell_type": "markdown",
   "metadata": {},
   "source": [
    "### 수 정렬하기4\n",
    "- Silver 5\n",
    "- https://www.acmicpc.net/problem/11931\n",
    "---\n",
    "N개의 수가 주어졌을 때, 이를 내림차순으로 정렬하는 프로그램을 작성하시오."
   ]
  },
  {
   "cell_type": "code",
   "execution_count": 3,
   "metadata": {},
   "outputs": [
    {
     "name": "stdout",
     "output_type": "stream",
     "text": [
      "5\n",
      "4\n",
      "3\n",
      "2\n",
      "1\n"
     ]
    }
   ],
   "source": [
    "# 방법1) quick sort -> 메모리 초과 판정\n",
    "import sys\n",
    "\n",
    "# quick sort 함수 정의 - descending order\n",
    "def quick_sort(arr):\n",
    "    if len(arr) <= 1:   # 리스트에 하나의 원소만 있다면 \n",
    "        return arr\n",
    "    \n",
    "    pivot = arr[0]  # 기준\n",
    "    tail = arr[1:]  # 나머지 리스트\n",
    "    \n",
    "    left_side = [ x for x in tail if x> pivot]     # pivot보다 큰 부분\n",
    "    right_side = [ x for x in tail if x <= pivot]    # pibot보다 작은 부분\n",
    "    \n",
    "    return  quick_sort(left_side) + [pivot] + quick_sort(right_side)\n",
    "\n",
    "# input = sys.stdin.readline\n",
    "\n",
    "for i in quick_sort([int(input().rstrip()) for _ in range(int(input().rstrip()))]):\n",
    "    print(i)\n",
    "\n"
   ]
  },
  {
   "cell_type": "code",
   "execution_count": 7,
   "metadata": {},
   "outputs": [
    {
     "name": "stdout",
     "output_type": "stream",
     "text": [
      "[4, 4, 3, 2, 2]\n"
     ]
    }
   ],
   "source": [
    "# 방법2) 시간 초과\n",
    "import sys\n",
    "\n",
    "# input = sys.stdin.readline\n",
    "\n",
    "def quick_sort2(arr, start, end):\n",
    "    if start >= end:    # 원소가 1개인 경우 종료\n",
    "        return\n",
    "    pivot = start       # 첫번째 원소 피봇\n",
    "    left = start+1      # 두번째 원소부터 시작\n",
    "    right = end         # 서브 리스트의 마지막 인덱스\n",
    "    while left <= right:    # 중단 조건\n",
    "        while left <= end and arr[left] >= arr[pivot]:  # 피봇보다 작은 원소를 찾을 때까지\n",
    "            left +=1\n",
    "        while right > start and arr[right] <= arr[pivot]:   # 피봇보다 큰 원소를 찾을 때까지\n",
    "            right -=1\n",
    "        if left > right:\n",
    "            arr[right], arr[pivot] = arr[pivot], arr[right]\n",
    "        else:\n",
    "            arr[left], arr[right] = arr[right], arr[left]\n",
    "    \n",
    "    quick_sort2(arr, start, right -1)\n",
    "    quick_sort2(arr,right+1, end)\n",
    "\n",
    "n = int(input().rstrip())\n",
    "arr = [int(input().rstrip()) for _ in range(n)]\n",
    "    \n",
    "quick_sort2(arr, 0, n-1)\n",
    "print(arr)"
   ]
  },
  {
   "cell_type": "code",
   "execution_count": null,
   "metadata": {},
   "outputs": [],
   "source": [
    "# 방법3) 파이썬 내장 라이브러리\n",
    "import sys\n",
    "\n",
    "input = sys.stdin.readline\n",
    "\n",
    "n = int(input().rstrip())\n",
    "arr = sorted([ int(input().rstrip()) for _ in range(n)], reverse= True)\n",
    "\n",
    "print(*arr, sep='\\n')"
   ]
  },
  {
   "cell_type": "markdown",
   "metadata": {},
   "source": [
    "### 생일\n",
    "- silver 5\n",
    "- https://www.acmicpc.net/problem/5635\n",
    "---\n",
    "어떤 반에 있는 학생들의 생일이 주어졌을 때, 가장 나이가 적은 사람과 가장 많은 사람을 구하는 프로그램을 작성하시오."
   ]
  },
  {
   "cell_type": "code",
   "execution_count": null,
   "metadata": {},
   "outputs": [],
   "source": [
    "import sys\n",
    "\n",
    "#input = sys.stdin.readline\n",
    "\n",
    "n = int(input().rstrip())\n",
    "st_list = []\n",
    "\n",
    "for _ in range(n):\n",
    "    name, dd, mm, yy = input().split()\n",
    "    st_list.append([name]+list(map(int,[dd,mm,yy])))\n",
    "\n",
    "st_list.sort(key=lambda x:(x[3],x[2],x[1]))\n",
    "print(st_list[n-1][0])\n",
    "print(st_list[0][0])"
   ]
  }
 ],
 "metadata": {
  "kernelspec": {
   "display_name": "base",
   "language": "python",
   "name": "python3"
  },
  "language_info": {
   "codemirror_mode": {
    "name": "ipython",
    "version": 3
   },
   "file_extension": ".py",
   "mimetype": "text/x-python",
   "name": "python",
   "nbconvert_exporter": "python",
   "pygments_lexer": "ipython3",
   "version": "3.9.18"
  }
 },
 "nbformat": 4,
 "nbformat_minor": 2
}
