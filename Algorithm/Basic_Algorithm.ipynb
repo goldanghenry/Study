{
 "cells": [
  {
   "attachments": {},
   "cell_type": "markdown",
   "metadata": {},
   "source": [
    "# Basic Algorithm\n",
    "1) Sort\n",
    "2) Search\n",
    "3) Prime Number\n",
    "4) Two points\n",
    "5) BFS/DFS\n",
    "6) dijkstra\n",
    "7) Dynamic Programming"
   ]
  },
  {
   "attachments": {},
   "cell_type": "markdown",
   "metadata": {},
   "source": [
    "## 1. Sort"
   ]
  },
  {
   "attachments": {},
   "cell_type": "markdown",
   "metadata": {},
   "source": [
    "### 1) Selection Sort\n",
    "\n",
    "* 선택정렬\n",
    "\n",
    ": 데이터가 무작위로 여러 개 있을 때, 이 중에서 가장 작은 데이터를 선택해 맨 앞에 있는 데이터와 바꾸고, 그 다음 작은 데이터를 선택해 두 번째 데이터와 바꾸는 과정을 반복\n",
    "\n",
    "- 시간 복잡도 : O(N^2) : 퀵 정렬이나 기본 정렬 라이브러리에 비해 비효율적!"
   ]
  },
  {
   "cell_type": "code",
   "execution_count": 3,
   "metadata": {},
   "outputs": [
    {
     "name": "stdout",
     "output_type": "stream",
     "text": [
      "[0, 1, 2, 3, 5, 6, 7, 8, 4, 9]\n"
     ]
    }
   ],
   "source": [
    "array = [7,5,9,0,3,1,6,2,4,8]\n",
    "\n",
    "for i in range(len(array)):\n",
    "    min_index = i\n",
    "    for j in range(i+1,len(array)):\n",
    "        if array[min_index] > array[j]:\n",
    "            min_index = j\n",
    "        array[i],array[min_index]=array[min_index],array[i]\n",
    "\n",
    "print(array)"
   ]
  },
  {
   "attachments": {},
   "cell_type": "markdown",
   "metadata": {},
   "source": [
    "### 2) Insertion Sort\n",
    "\n",
    "* 삽입정렬 - O(n^2)\n",
    ": 특정한 데이터를 적절한 위치에 '삽입'\n",
    "- 데이터가 거의 정렬되어 있을 때 퀵 정렬보다 훨씬 효율적<br>\n",
    "-> 첫번째 데이터는 정렬되어 있다고 판단"
   ]
  },
  {
   "cell_type": "code",
   "execution_count": null,
   "metadata": {},
   "outputs": [],
   "source": [
    "array = [7,5,9,0,3,1,6,4,4,4,2,4,8]\n",
    "\n",
    "for i in range(1, len(array)):\n",
    "    for j in range(i, 0, -1):   # 인덱스 i부터 1까지 감소하며 반복\n",
    "        if array[j] < array[j-1]: # 앞의 원소보다 작다면 왼쪽으로 이동\n",
    "            array[j],array[j-1]=array[j-1],array[j]\n",
    "        else:   # 자신보다 작다면 멈춤\n",
    "            break\n",
    "\n",
    "print(array)"
   ]
  },
  {
   "attachments": {},
   "cell_type": "markdown",
   "metadata": {},
   "source": [
    "### 3) Count Sort\n",
    "* 계수 정렬 - O(N+K)\n",
    "\n",
    ": 특정한 조건이 부합할 때만 사용할 수 있지만, 매우 빠른 정렬 알고리즘.\n",
    "\n",
    "1) 모든 데이터가 양의 정수인 상황 가정\n",
    "2) 데이터의 개수가N, 데이터 중 최대값이 K<br>\n",
    " ->최악의 경우라도 O(N+K)를 보장\n",
    "\n",
    "* 조건<br>\n",
    ": 데이터의 크기 범위가 제한되어 정수 형태로 표현할 수 있을 때만 사용가능\n",
    "\n",
    "일반적으로 가장 큰 데이터와 가장 작은 데이터의 차이가 1,000,000을 넘지 않을 때 효과적으로 사용할 수 있다.\n",
    "\n",
    "ex 0 이상 100 이하인 성적 데이터를 정렬할 때 계수 정렬이 효과적<br>\n",
    "-> 모든 범위를 담을 수 있는 크기의 리스트(배열)를 선언해야하기 때문<br>\n",
    "-> 초기화<br>\n",
    "-> 비교 기반의정렬 알고리즘(선택, 삽입, 퀵)이 아님<br>\n",
    "별도의 리스트를 선언하고 그 안에 정렬에 대한 정보를 담는다\n",
    "\n",
    "* 계수정렬의 시간 복잡도<br>\n",
    "\n",
    "-> O(N+K) : 리스트에서 적절한 인덱스의 값을 1씩 증가, 추후에 리스트의 각 인덱스에 해당하는 값들 확인할 때, 데이터의 최댓값의 크기만큼 반복한다.<br>\n",
    "-> 데이터의 범위만 한정되어 있다면 효과적으로 사용할 수 있고 항상 빠르게 동작한다\n",
    "-> 현존하는 정렬 알고리즘 중에서 기수 정렬(Radix Sort)과 더불어 가장 빠르다.<br>\n",
    "기수 정렬은 계수 정렬에 비해 동작은 느리지만, 처리할 수 있는 정수의 크기는 더 크다<br>(알고리즘 원리나 소스 코드는 더 복잡)"
   ]
  },
  {
   "cell_type": "code",
   "execution_count": 1,
   "metadata": {},
   "outputs": [
    {
     "name": "stdout",
     "output_type": "stream",
     "text": [
      "[0, 0, 1, 1, 2, 2, 3, 5, 5, 6, 7, 8, 9, 9]\n"
     ]
    }
   ],
   "source": [
    "# 모든 원소의 값이 0보다 크거나 같다고 가정\n",
    "array =  [ 7, 5, 9, 0, 3, 1, 6, 2, 9, 1, 8, 0, 5, 2 ]\n",
    "# 모든 범위를 포함하는 리스트 선언(모든 값은 0으로 초기화)\n",
    "count = [0] * (max(array)+1)\n",
    "sorted_arr = []\n",
    "for i in range(len(array)):\n",
    "    count[array[i]] += 1    # 각 데이터에 해당하는 인덱스의 값 증가\n",
    "\n",
    "for i in range(len(count)): # 리스트에 기록된 정렬 정보 확인\n",
    "    for j in range(count[i]):\n",
    "        sorted_arr.append(i)   # 띄어쓰기를 구분으로 등장한 횟수만큼 인덱스 출력\n",
    "print(sorted_arr)"
   ]
  },
  {
   "attachments": {},
   "cell_type": "markdown",
   "metadata": {},
   "source": [
    "### 4) Quick Sort\n",
    "* 퀵 정렬 O(NlogN)\n",
    "\n",
    ": 기준 데이터(pivot)를 설정하고 그 기준보다 큰 데이터와 작은 데이터의 위치를 바꾼다.\n",
    "<br>\n",
    "-> 이미 정렬되어 있는 경우 매우 느리게 동작 <-> 삽입 정렬\n",
    "\n",
    "<br>\n",
    "1) 호어 분할법(Hoare partition) : 리스트에서 첫 번째 데이터를 pivot으로 설정<br>\n",
    "2) 왼쪽(피벗 다음)에서 피벗보다 큰 데이터를 찾고, 오른쪽에서 피벗보다 작은 데이터를 찾아 위치 교환<br>\n",
    "3) 만약, 엇갈린다면 피벗과 작은 수의 위치를 교환, 피벗을 기준으로 좌우 분할(divide)<br>\n",
    "4) 각 파티션 별로 위의 동작 반복(재귀 함수 형태로 구현)\n",
    "5) 종료조건 : 리스트의 원소가 1개일 때"
   ]
  },
  {
   "cell_type": "code",
   "execution_count": 15,
   "metadata": {},
   "outputs": [
    {
     "name": "stdout",
     "output_type": "stream",
     "text": [
      "[0, 1, 2, 3, 4, 5, 6, 7, 8, 9]\n"
     ]
    }
   ],
   "source": [
    "# 방법 1) 직관적인 형태의 퀵 정렬\n",
    "def quick_sort(array, start, end):\n",
    "    if start >= end:    # 원소가 1개인 경우 종료\n",
    "        return\n",
    "    pivot = start       # 호어 분할밥, 피벗의 첫 번째 원소\n",
    "    left = start + 1\n",
    "    right = end\n",
    "    while left <= right:\n",
    "        # 피벗보다 큰 데이터를 찾을 때까지 반복\n",
    "        while left <= end and array[left] <= array[pivot]:\n",
    "            left += 1\n",
    "        # 피벗보다 작은 데이터를 찾을 때까지 반복\n",
    "        while right > start and array[right] >= array[pivot]:\n",
    "            right -= 1\n",
    "        if left > right:        # 엇갈렸다면 작은 데이터와 피벗을 교체\n",
    "            array[right],array[pivot] = array[pivot], array[right]\n",
    "        else:                   # 엇갈리지 않았다면 작은 데이터와 큰 데이터를 교체\n",
    "            array[left], array[right] = array[right], array[left]\n",
    "\n",
    "    # 분할 이후 왼쪽 부분과 오른쪽 부분에서 각각 정렬 수행\n",
    "    quick_sort(array, start, right-1)\n",
    "    quick_sort(array, right+1, end)\n",
    "\n",
    "array = [ 5, 7, 9, 0, 3, 1, 6, 2, 4, 8 ]\n",
    "quick_sort(array, 0, len(array)-1)\n",
    "print(array)"
   ]
  },
  {
   "cell_type": "code",
   "execution_count": 16,
   "metadata": {},
   "outputs": [
    {
     "name": "stdout",
     "output_type": "stream",
     "text": [
      "[0, 1, 2, 3, 4, 5, 6, 7, 8, 9]\n"
     ]
    }
   ],
   "source": [
    "# 방법 2) 파이썬의 장점을 살린 퀵 정렬\n",
    "def quick_sort_py(array):\n",
    "    if len(array) <= 1:     # 리스트에 하나의 원소만 있다면 종료\n",
    "        return array\n",
    "    \n",
    "    pivot = array[0]\n",
    "    tail = array[1:]\n",
    "\n",
    "    left_side = [ x for x in tail if x <= pivot]    # 분할된 왼쪽, 피벗보다 작거나 같은 원소\n",
    "    right_side = [ x for x in tail if x > pivot]    # 분할된 오른쪽, 피벗보다 큰 원소\n",
    "\n",
    "    # 분할된 이후 왼쪽 부분과 오른쪽 부분에서 각각 정렬을 수행하고, 전체 리스트를 반환\n",
    "    return quick_sort_py(left_side)+[pivot]+quick_sort_py(right_side)\n",
    "\n",
    "print(quick_sort_py(array))\n",
    "\n",
    "## 파이썬의 기본 정렬 라이브러리 sorted()는 퀵 정렬과 동작 방식이 비슷한 병합 정렬을 기반으로 만들어졌다."
   ]
  },
  {
   "attachments": {},
   "cell_type": "markdown",
   "metadata": {},
   "source": [
    "## 2. Search"
   ]
  },
  {
   "attachments": {},
   "cell_type": "markdown",
   "metadata": {},
   "source": [
    "### 1) Sequential Serach\n",
    "\n",
    "* 순차탐색 - O(N)\n",
    "\n",
    ": 리스트 안에 있는 특정한 데이터를 찾기 위해 아펭서부터 데이터를 하나씩 차레대로 확인하는 방법"
   ]
  },
  {
   "cell_type": "code",
   "execution_count": null,
   "metadata": {},
   "outputs": [],
   "source": [
    "def sequential_search(n, target, array):\n",
    "    # 각 원소를 하나씩 확인\n",
    "    for i in range(n):\n",
    "        # 현재의 원소가 찾고자 하는 원소와 동일한 경우\n",
    "        if array[i] == target:\n",
    "            return i"
   ]
  },
  {
   "attachments": {},
   "cell_type": "markdown",
   "metadata": {},
   "source": [
    "### 2) Binary Search\n",
    "* 이진 탐색 - O(logN)\n",
    "\n",
    ": 찾으려는 데이터와 중간점 위치에 있는 데이터를 반복적으로 비교해서 원하는 데이터를 찾는 알고리즘\n",
    "\n",
    "1) 내부 데이터가 오름차순 정렬되어 있어야만 사용 가능\n",
    "2) 탐색 범위를 절반씩 좁혀가며 데이터를 탐색한다.\n",
    "3) 위치를 나타내는 변수 3개를 사용(시작점, 중간점, 끝점)\n",
    "\n",
    "-> 중복된 데이터가 있을 시 가운데에 가까운 데이터의 인덱스 반환"
   ]
  },
  {
   "cell_type": "code",
   "execution_count": null,
   "metadata": {},
   "outputs": [],
   "source": [
    "# 방법 1) 재귀 함수로 구현한 이진 탐색\n",
    "def binary_search(array, target, start, end):\n",
    "    if start > end:\n",
    "        return None\n",
    "    \n",
    "    mid = (start+end)//2        # 중간점\n",
    "    if array[mid] == target:    # 찾은 경우 중간점 인덱스 반환\n",
    "        return mid\n",
    "    elif array[mid] > target:   # 중간점보다 target이 앞에 있음\n",
    "        return binary_search(array, target, start, mid-1)\n",
    "    else:                       # 중간점보다 target이 뒤에 있음\n",
    "        return binary_search(array, target, mid+1, end)"
   ]
  },
  {
   "cell_type": "code",
   "execution_count": 8,
   "metadata": {},
   "outputs": [],
   "source": [
    "# 방법 2) 반복문으로 구현한 이진 탐색\n",
    "def binary_search_iter(array,target, start, end):\n",
    "    while start <= end:\n",
    "        mid = (start+end)//2\n",
    "        if array[mid]==target:      # 발견한 경우\n",
    "            return mid\n",
    "        elif array[mid] > target:   # 타겟이 앞에 있는 경우\n",
    "            end = mid-1\n",
    "        else:\n",
    "            start = mid+1\n",
    "    return None"
   ]
  },
  {
   "cell_type": "code",
   "execution_count": null,
   "metadata": {},
   "outputs": [],
   "source": [
    "# test\n",
    "# n : 원소의 개수\n",
    "# target : 찾고자하는 문자열\n",
    "n, target = list(map(int,input().split()))\n",
    "array = list(map(int, input().split()))\n",
    "\n",
    "# 이진 탐색 수행\n",
    "result = binary_search(array, target, 0, n-1)\n",
    "if result == None:\n",
    "    print(\"찾으려는 원소가 존재하지 않습니다.\")\n",
    "else:\n",
    "    print(result+1)"
   ]
  },
  {
   "cell_type": "code",
   "execution_count": null,
   "metadata": {},
   "outputs": [],
   "source": [
    "# 방법 3) library\n",
    "from bisect import bisect_left, bisect_right\n",
    "\n",
    "a = [1,2,4,4,8]\n",
    "x = 4\n",
    "\n",
    "print(bisect_right(a,4))    # 4를 넣을 가장 오른쪽 인덱스\n",
    "print(bisect_left(a,4))"
   ]
  },
  {
   "cell_type": "code",
   "execution_count": null,
   "metadata": {},
   "outputs": [],
   "source": [
    "# 값의 범위가 [left_value, right_value]인 데이터의 개수 반환\n",
    "def count_by_range(a, left_value, right_value):\n",
    "    right_index = bisect_right(a, right_value)\n",
    "    left_index = bisect_left(a, left_value)\n",
    "    return right_index - left_index\n",
    "\n",
    "a = [1,2,3,3,3,3,4,4,8,9]\n",
    "print(count_by_range(a,4,4,))\n",
    "print(count_by_range(a,-1,3))"
   ]
  },
  {
   "attachments": {},
   "cell_type": "markdown",
   "metadata": {},
   "source": [
    "## 3. Prime Number"
   ]
  },
  {
   "attachments": {},
   "cell_type": "markdown",
   "metadata": {},
   "source": [
    "### 1) 가장 단순한 방법\n",
    "- 약수의 특징 -> sqrt(x)까지 순차비교"
   ]
  },
  {
   "cell_type": "code",
   "execution_count": null,
   "metadata": {},
   "outputs": [],
   "source": [
    "def is_prime_number(x):\n",
    "    for i in range(2,int(x**0.5)+1):\n",
    "        if x%i==0:\n",
    "            return False\n",
    "    return True"
   ]
  },
  {
   "attachments": {},
   "cell_type": "markdown",
   "metadata": {},
   "source": [
    "### 2) 에라토스테네스의 채\n",
    ": 여러 개의 수가 소수인지 아닌지를 판별할 때 사용하는 대표적인 알고리즘\n",
    "\n",
    "- N보다 작거나 같은 모든 소수를 찾을 때 사용\n",
    "1) N크기의 리스트를 모두 True로 초기화\n",
    "2) 2부터 sqrt(n)까지 모든 배수 False 처리"
   ]
  },
  {
   "cell_type": "code",
   "execution_count": 5,
   "metadata": {},
   "outputs": [
    {
     "name": "stdout",
     "output_type": "stream",
     "text": [
      "2 3 5 7 11 13 17 19 23 29 31 37 41 43 47 53 59 61 67 71 73 79 83 89 97 "
     ]
    }
   ],
   "source": [
    "n = 100\n",
    "array = [True for i in range(n+1)]  # 모든 수가 소수(True)로 초기화\n",
    "\n",
    "for i in range(2, int(n**0.5)+1):\n",
    "    if array[i] == True:\n",
    "        j = 2\n",
    "        while i * j <= n:\n",
    "            array[i*j]= False       # 배수를 모두 False 처리\n",
    "            j+=1\n",
    "\n",
    "for i in range(2, n+1):\n",
    "    if array[i]:\n",
    "        print(i, end=' ')"
   ]
  },
  {
   "attachments": {},
   "cell_type": "markdown",
   "metadata": {},
   "source": [
    "## 4. Two Points\n",
    "- 리스트에 순차적으로 접근해야 할 때 2개의 점의 위치를 기록하면서 처리하는 알고리즘<br>\n",
    "- 한 리스트 내에서 특정한 합<br><br>\n",
    "ex) 한 반에 학생이 40명이 있을 때, 모든 학생을 번호 순서대로 일렬로 세운 뒤, 학생들을 순차적으로 지목해야할 경우, 2,3,4,5,6,7 이라고 부르기 보다는 2번부터 7번까지의 학생이라고 부를 수 있다. 리스트에 담긴 데이터에 순차적으로 접근해야할 때는 '시작점'과 '끝'점 2개의 점으로 접근할 데이터의 범위를 표현할 수 있다."
   ]
  },
  {
   "attachments": {},
   "cell_type": "markdown",
   "metadata": {},
   "source": [
    "### 1) 특정한 합을 갖는 수열의 개수\n",
    "- 양의 정수로만 구성된 리스트\n",
    "1) 시작점(start), 끝점(end) -> index 0\n",
    "2) 현재 부분합이 M과 같다면 count+=1\n",
    "3) 현재 부분합이 M보다 작다면 end+=1\n",
    "4) 현재 부분합이 M보다 크거나 같다면 start+=1\n",
    "5) 모든 경우에 대하여 (2)~(4) 반복"
   ]
  },
  {
   "cell_type": "code",
   "execution_count": null,
   "metadata": {},
   "outputs": [],
   "source": [
    "n = 5   # 데이터의 개수\n",
    "m = 5   # 찾고자 하는 부분 합\n",
    "data = [1,2,3,2,5]\n",
    "count = 0\n",
    "interval_sum = 0    # 부분합\n",
    "end = 0\n",
    "\n",
    "# start를 차례대로 증가시키며 반복\n",
    "for start in range(n):\n",
    "    # end를 가능한 만큼 이동시키기\n",
    "    while interval_sum < m and end < n:\n",
    "        interval_sum += data[end]\n",
    "        end += 1\n",
    "    # 부분합이 n일 때 카운트 증가\n",
    "    if interval_sum == m:\n",
    "        count +=1\n",
    "    interval_sum -= data[start]\n",
    "\n",
    "print(count)"
   ]
  },
  {
   "attachments": {},
   "cell_type": "markdown",
   "metadata": {},
   "source": [
    "### 2) 정렬된 두 리스트의 합집합\n",
    "- 2개의 포인터를 이용해 각 리스트에서 처리되지 않은 원소 중 가장 작은 원소를 가리키면 된다.\n",
    "1) 정렬된 리스트 A와 B를 입력받는다.\n",
    "2) 리스트 A에서 처리되지 않은 원소 중 가장 작은 원소를 i가 가리키도록 한다.\n",
    "3) 리스트 B에서 처리되지 않은원소 중 가장 작은 원소가 j가 가리키도록 한다.\n",
    "4) A[i]와 B[j] 중에서 더 작은 원소를 결과 리스트에 담는다.\n",
    "5) 리스트 A와 B에서 더 이상 처리할 원소가 없을 때까지 (2)~(4)번의 과정을 반복한다."
   ]
  },
  {
   "cell_type": "code",
   "execution_count": null,
   "metadata": {},
   "outputs": [
    {
     "name": "stdout",
     "output_type": "stream",
     "text": [
      "[1, 2, 3, 4, 5, 6, 8]\n"
     ]
    }
   ],
   "source": [
    "# 정렬된 리스트 A와 B의 데이터 개수가 각각 N, M이라고 할 때, 이 알고리즘의 시간 복잡도 : O(N+M)\n",
    "\n",
    "# 사전에 정렬된 리스트 A와 B\n",
    "n,m = 3, 4\n",
    "a = [1,3,5]\n",
    "b = [2,4,6,8]\n",
    "\n",
    "# 리스트 A와 B의 모든 원소를 담을 수 있는 크기의 결과 리스트 초기화\n",
    "result = [0] * (n+m)\n",
    "i,j,k = 0,0,0\n",
    "\n",
    "# 모든 원소가 결과 리스트에 담길 때까지 반복\n",
    "while i < n or j < m:\n",
    "    # 리스트 B의 모든 원소가 처리되었거나, 리스트 A의 원소가 더 작을 때\n",
    "    if j >= m or (i < n and a[i] <= b[j]):\n",
    "        result[k]=a[i]\n",
    "        i+=1\n",
    "    else:\n",
    "        result[k] = b[j]\n",
    "        j+=1\n",
    "    k+=1\n",
    "\n",
    "print(result)"
   ]
  },
  {
   "attachments": {},
   "cell_type": "markdown",
   "metadata": {},
   "source": [
    "### 3) Prefix Sum\n",
    ": 연속적으로 나열된 N개의 수가 있을 때, 특정 구간의 모든 수를 합한 값을 구하는 문제\n",
    "- 만약 M개의 쿼리 각각, 매번 합을 계산한다면 이 알고리즘은 O(NM)의 시간 복잡도를 가진다.<br>\n",
    "왜냐하면 M개의 쿼리가 수행될 때마다 전체 리스트의 구간 합을 모두 계산하라고 할 수도 있기 때문\n",
    "<br>\n",
    "-> 여러번 사용될 만한 정보는 미리 구해 저장해 놓을수록 유리하다. 쿼리는 M개지만, N개의 수는 한 번 주어진 뒤에 변경되지 않는다.<br>\n",
    "-> N개의 수에 대해서 어떠한 처리를 수행한 뒤에 나중에 M개의 쿼리가 각각 주어질 때마다 빠르게 구간합을 도출할 수 있도록 하자.\n",
    "<br>\n",
    "-> 구간합 계산을 위해 가장 많이 사용되는 기법 : 접두사 합(Prefix Sum)<br>\n",
    "-> 각 쿼리에 대해 구간 합을 빠르게 계산하기 위해서는 N개의 수의 위치 각각에 대하여 접두사 합을 미리 구해 놓으면 된다.<br>\n",
    "<br>\n",
    "** 접두사 합 : 리스트의 맨 앞부터 특정 위치까지의 합을 구해 놓은 것\n"
   ]
  },
  {
   "cell_type": "code",
   "execution_count": null,
   "metadata": {},
   "outputs": [
    {
     "name": "stdout",
     "output_type": "stream",
     "text": [
      "70\n"
     ]
    }
   ],
   "source": [
    "# 구간 합 빠르게 계산하기 알고리즘\n",
    "# (1) N개의 수에 대하여 접두사 합(Prefix Sum)을 계산해 배열 P에 저장\n",
    "# (2) 매 M개의 쿼리 정보 [L,R]을 확인할 때, 구간 합은 P[R] - P[L-1]\n",
    "\n",
    "# 데이터의 개수 N과 전체 데이터 선언\n",
    "n = 5\n",
    "data = [10,20,30,40,50]\n",
    "\n",
    "# 접두사 합(Prefix Sum) 배열 계산\n",
    "sum_value = 0\n",
    "prefix_sum = [0]\n",
    "for i in data:\n",
    "    sum_value +=i\n",
    "    prefix_sum.append(sum_value)\n",
    "\n",
    "# 구간 합 계산  (3 ~ 4번째)\n",
    "left = 3\n",
    "right = 4\n",
    "print(prefix_sum[right]-prefix_sum[left-1])"
   ]
  },
  {
   "metadata": {},
   "cell_type": "markdown",
   "source": [
    "### 4) Two sum\n",
    "- 정수가 저장된 배열 nums이 주어졌을 때, nums의 원소중 두 숫자를 더해서 target이 될 수 있으면 True, 불가능하면 False를 반환하세요. 같은 원소를 두 번 사용할 수 없습니다."
   ]
  },
  {
   "metadata": {},
   "cell_type": "code",
   "outputs": [],
   "execution_count": null,
   "source": [
    "def twoSum(nums, target):\n",
    "    nums.sort() # O(NlogN)\n",
    "    l, r = 0, len(nums)-1\n",
    "    \n",
    "    while l < r:    # O(N)\n",
    "        if target < nums[l]+nums[r]: r -= 1\n",
    "        elif target > nums[l]+nums[r]: l -= 1\n",
    "        else: return True\n",
    "    return False\n",
    "    "
   ]
  },
  {
   "attachments": {},
   "cell_type": "markdown",
   "metadata": {},
   "source": [
    "## 5. BFS/DFS"
   ]
  },
  {
   "cell_type": "markdown",
   "metadata": {},
   "source": [
    "# 그래프\n",
    "\n",
    "그래프 G(V,E)는 어떤 자료나 개념을 표현하는 정점(vertex)들의 집합 V와 이들을 연결하는 간선(edge)들의 집합 E로 구성된 자료구조\n",
    "\n",
    "트리는 계층형(위에서 아래로의 방향) \n",
    "그래프는 어떤 노드들이랑도 연결이 가능하다.\n",
    "\n",
    "그래프 안에 트리가 속해져있다고 보면 됨. (트리는 그래프의 부분집합)\n",
    "\n",
    "## 그래프의 종류\n",
    "1. 방향 그래프 vs 무향 그래프(코테에 가장 많이 등장)\n",
    "    - 방향 그래프: 방향이 정해져 있는 그래프\n",
    "    - 무향 그래프: 방향이 없이 모든 간선이 양 방향으로 연결되어 있는 그래프 \n",
    "2. 다중 그래프 vs 단순 그래프\n",
    "    - 다중 그래프: A랑 B를 연결하는 간선이 여러 개 있을 수 있는 그래프\n",
    "    - 단순 그래프: A랑 B를 연결하는 간선이 단 하나인 그래프\n",
    "3. 가중치 그래프 => 다익스트라"
   ]
  },
  {
   "cell_type": "code",
   "execution_count": null,
   "metadata": {},
   "outputs": [],
   "source": [
    "# 너비 우선탐색 bfs\n",
    "\n",
    "graph = {\n",
    "    'A': ['B', 'D', 'E'],\n",
    "    'B': ['A', 'C', 'D'],\n",
    "    'C': ['B'],\n",
    "    'D': ['A', 'B'],\n",
    "    'E': ['A']\n",
    "}\n",
    "\n",
    "from collections import deque\n",
    "\n",
    "def bfs(graph, start_v):\n",
    "    visited = [start_v]\n",
    "\n",
    "    q = deque()\n",
    "    q.append(start_v)\n",
    "\n",
    "    while q:\n",
    "        cur_v = q.popleft()\n",
    "\n",
    "        for v in graph[cur_v]:\n",
    "            if v not in visited:\n",
    "                q.append(v)\n",
    "                visited.append(v)\n",
    "    return visited"
   ]
  },
  {
   "cell_type": "code",
   "execution_count": null,
   "metadata": {},
   "outputs": [],
   "source": [
    "# dfs\n",
    "graph = {\n",
    "    'A': ['B', 'D', 'E'],\n",
    "    'B': ['A', 'C', 'D'],\n",
    "    'C': ['B'],\n",
    "    'D': ['A', 'B'],\n",
    "    'E': ['A']\n",
    "}\n",
    "visited = []\n",
    "# graph, 와 visited 를 전역변수 느낌으로 함수 밖으로 빼줘서 언제든 접근 가능하게 했다.\n",
    "\n",
    "# cur_v 와 연결된 모든 노드를 탐방할거다! 라는 의미의 함수이다. \n",
    "def dfs(cur_v):\n",
    "    visited.append(cur_v)\n",
    "    for v in graph[cur_v]:\n",
    "        if v not in visited:\n",
    "            dfs(v)\n",
    "\n",
    "dfs('A')"
   ]
  },
  {
   "attachments": {},
   "cell_type": "markdown",
   "metadata": {},
   "source": [
    "### 1) BFS\n",
    "- 넓이 우선 탐색"
   ]
  },
  {
   "cell_type": "code",
   "execution_count": 1,
   "metadata": {},
   "outputs": [],
   "source": [
    "# 큐(Queue) 구현을 위해 deque 라이브러리 사용\n",
    "from collections import deque\n",
    "\n",
    "def bfs(graph, start, visited):\n",
    "    queue = deque()\n",
    "    queue.append(start)\n",
    "    \n",
    "    # 현재 노드를 방문처리\n",
    "    visited[start] = True\n",
    "\n",
    "    while queue:    # 큐가 빌 때까지\n",
    "        # 큐에서 하나의 원소를 뽑아 출력\n",
    "        v = queue.popleft()\n",
    "        print(v, end=' ')\n",
    "\n",
    "        # 해당 원소와 연결된, 아직 방문하지 않은 원소들을 큐에 삽입\n",
    "        for i in graph[v]:\n",
    "            if not visited[i]:  # 방문하지 않았다면(False)\n",
    "                queue.append(i)\n",
    "                visited[i]=True # 방문처리 -> 넓이 우선 탐색"
   ]
  },
  {
   "cell_type": "code",
   "execution_count": 2,
   "metadata": {},
   "outputs": [
    {
     "name": "stdout",
     "output_type": "stream",
     "text": [
      "1 2 3 8 7 4 5 6 "
     ]
    }
   ],
   "source": [
    "# 각 노드가 연결된 정보를 리스트 자료형으로 표현(2차원 리스트)\n",
    "graph = [\n",
    "    [],     # 인덱스 1번부터 시작\n",
    "    [2,3,8],\n",
    "    [1,7],\n",
    "    [1,4,5],\n",
    "    [3,5],\n",
    "    [3,4],\n",
    "    [7],\n",
    "    [2,6,8],\n",
    "    [1,7]\n",
    "]\n",
    "\n",
    "# 각 노드가 방문된 정보를 리스트 자료형으로 표현(1차원 리스트)\n",
    "visited = [False] * 9\n",
    "\n",
    "# 정의된 BFS 함수 호출\n",
    "bfs(graph, 1, visited)"
   ]
  },
  {
   "attachments": {},
   "cell_type": "markdown",
   "metadata": {},
   "source": [
    "### 2) DFS\n",
    "- 깊이 우선 탐색, 그래프에서 깊은 부분을 우선적으로 탐색하는 알고리즘."
   ]
  },
  {
   "cell_type": "code",
   "execution_count": 7,
   "metadata": {},
   "outputs": [],
   "source": [
    "def dfs(graph, v, visited):\n",
    "    # 현재 노드를 방문 처리\n",
    "   visited[v] = True\n",
    "   print(v, end=' ')\n",
    "   \n",
    "    # 현재 노드와 연결된 다른 노드를 재귀적으로 방문\n",
    "   for i in graph[v]:\n",
    "       if not visited[i]:\n",
    "           dfs(graph,i,visited)"
   ]
  },
  {
   "cell_type": "code",
   "execution_count": 8,
   "metadata": {},
   "outputs": [
    {
     "name": "stdout",
     "output_type": "stream",
     "text": [
      "1 2 7 6 8 3 4 5 "
     ]
    }
   ],
   "source": [
    "# 각 노드가 연결된 정보를 리스트 자료형으로 표현(2차원 리스트)\n",
    "graph = [\n",
    "    [],\n",
    "    [2,3,8],\n",
    "    [1,7],\n",
    "    [1,4,5],\n",
    "    [3,5],\n",
    "    [3,4],\n",
    "    [7],\n",
    "    [2,6,8],\n",
    "    [1,7]\n",
    "]\n",
    "\n",
    "# 각 노드가 방문된 정보를 리스트 자료형으로 표현(1차원 리스트)\n",
    "visited = [False] * 9\n",
    "\n",
    "# 정의된 DFS 함수 호출\n",
    "dfs(graph, 1, visited)"
   ]
  },
  {
   "attachments": {},
   "cell_type": "markdown",
   "metadata": {},
   "source": [
    "## 6. Dijkstra\n",
    ": 하나의 정점에서 다른 모든 정점으로 가는 최단 경로를 구하는 알고리즘(Shortest Path Problem)"
   ]
  },
  {
   "attachments": {},
   "cell_type": "markdown",
   "metadata": {},
   "source": [
    "### 1) 간단한 다익스트라 알고리즘\n",
    "- 시간복잡도 : O(V^2)\n",
    "1) 각 노드에 대한 최단 거리를 담은 1차원 리스트를 선언한다\n",
    "2) 단계마다 '방문하지 않은 노드 중에서 최단 거리가 가장 짧은 노드를 선택'하기 위해 매 단계마다 1차원 리스트의 모든 원소를 확인(순차 탐색) 한다."
   ]
  },
  {
   "cell_type": "code",
   "execution_count": null,
   "metadata": {},
   "outputs": [],
   "source": [
    "import sys\n",
    "# 입력되는 데이터의 수가 많다는 가정하에 치환하여 사용\n",
    "input = sys.std.readline\n",
    "INF = int(1e9)  # 10억\n",
    "\n",
    "# 노드의 개수, 간선의 개수를 입력 받기\n",
    "n, m = map(int, input().split())\n",
    "# 시작 노드 번호를 입력받기\n",
    "start = int(input())\n",
    "# 각 노드에 연결되어 있는 노드에 대한 정보를 담는 리스트 만들기\n",
    "graph = [[] for i in range(n+1)]\n",
    "# 방문한 적이 있는지 체크하는 목적의 리스트를 만들기\n",
    "visited = [False] * (n+1)\n",
    "# 최단 거리 테이블을 모두 무한으로 초기화\n",
    "distance = [INF] * (n+1)\n",
    "\n",
    "# 모든 간선 정보를 입력받기\n",
    "for _ in range(m):\n",
    "    a,b,c = map(int, input().split())\n",
    "    # a번 노드에서 b번 노드로 가는 비용이 c라는 의미\n",
    "    graph[a].append((b,c))\n",
    "\n",
    "# 방문하지 않은 노드 중에서, 가장 최단 거리가 짧은 노드의 번호를 반환\n",
    "def get_smallest_node():\n",
    "    min_value = INF\n",
    "    index = 0 # 가장 최단 거리가 짧은 노드(인덱스)\n",
    "    for i in range(1, n+1):\n",
    "        if distance[i] < min_value and not visited[i]:\n",
    "            min_value = distance[i]\n",
    "            index = i\n",
    "    return index\n",
    "\n",
    "def dijkstra(start):\n",
    "    # 시작 노드에 대해서 초기화\n",
    "    distance[start] = 0\n",
    "    visited[start] = True\n",
    "    for j in graph[start]:\n",
    "        distance[j[0]] = j[1]\n",
    "    # 시작 노드를 제외한 전체 n-1개의 노드에 대해 반복\n",
    "    for i in range(n-1):\n",
    "        # 현재 최단거리가 가장 짧은 노드를 꺼내서, 방문 처리\n",
    "        now = get_smallest_node()\n",
    "        visited[now] =True\n",
    "        # 현재 노드와 연결된 다른 노드를 확인\n",
    "        for j in graph[now]:\n",
    "            cost = distance[now] + j[1]\n",
    "            # 현재 노드를 거쳐서 다른 노드로 이동하는 거리가 더 짧은 경우\n",
    "            if cost < distance[j[0]]:\n",
    "                distance[j[0]] = cost\n",
    "\n",
    "# 다익스트라 알고리즘 수행\n",
    "dijkstra(start)\n",
    "\n",
    "# 모든 노드로 가기 위한 최단 거리를 출력\n",
    "for i in range(1,n+1):\n",
    "    # 도달할 수 없는 경우, 무한(INFINITY)이라고 출력\n",
    "    if distance[i] == INF:\n",
    "        print(\"INFINITY\")\n",
    "    # 도달할 수 있는 경우를 출력\n",
    "    else:\n",
    "        print(distance[i])"
   ]
  },
  {
   "attachments": {},
   "cell_type": "markdown",
   "metadata": {},
   "source": [
    "## 7. Dynamic Programming\n",
    ": 큰 문제를 작게 나누고, 같은 문제라면 한 번씩만 풀어 문제를 효율적으로 해결하는 알고리즘 기법\n",
    "\n",
    "- 사용조건\n",
    "1) 큰 문제를 작은 문제로 나눌 수 있다\n",
    "2) 작은 문제에서 구한 정답은 그것을 포함하는 큰 문제에서도 동일하다\n",
    "\n",
    "\n",
    "- 탑다운(메모이제이션) : 하향식 / 보텀업(DP 테이블) : 상향식<br><br>\n",
    "**메모이제이션 : 이전에 계산된 결과를 일시적으로 기록해놓은 넓은 개념<br><br>\n",
    "-> 보통 배열이나 리스트로 하지만 때에 따라 사전 자료형을 이용하기도 한다. 사전 형은 수열처럼 연속적이지 않은 경우 유용함. a_n을 게산할 때, a_0 ~ a_n-1이 아닌 일부만 필요할 때 효과적<br><br>\n",
    "->주어진 문제가 다이나믹 프로그래밍 유형임을 먼저 파악하기. 특정한 문제를 완전 탐색 알고리즘으로 접근했을 때 시간이 매우 오래 걸리면 다이나믹 프로그래밍을 적용할 수 있는지, 부분 문제들의 중복 여부를 확인<br><br>\n",
    "-> 단순히 재귀 함수로 비효율적인 프로그램 작성 뒤 작은 문제에서 구한 답이 큰 문제에서 그대로 사용될 수 있으면, 즉 메모이제이션을 할 수 있다면 적용<br><br>\n",
    "-> 가능하다면 재귀 함수를 이용하는 탑다운 방식보다는 보텀업 방식으로 구현하는 것을 권장. 시스템 상에서 재귀 함수의 스택 크기가 한정되어 있을 수 있기 때문<br>\n"
   ]
  },
  {
   "attachments": {},
   "cell_type": "markdown",
   "metadata": {},
   "source": [
    "### 1) 피보나치 수열"
   ]
  },
  {
   "cell_type": "code",
   "execution_count": null,
   "metadata": {},
   "outputs": [],
   "source": [
    "# 방법 1) Top-Down\n",
    "# 한 번 계산된 결과를 메모이제이션(Memoization)하기 위한 리스트 초기화\n",
    "d = [0] * 100\n",
    "\n",
    "# 피보나치 함수(Fibonacci Function)을 재귀함수로 구현(탑다운 다이나믹 프로그래밍)\n",
    "def fibo(x):\n",
    "    # 종료조건(1 혹은 2일 때 1을 반환)\n",
    "    if x == 1 or x == 2:\n",
    "        return 1\n",
    "    # 이미 계산한 적 있는 문제라면 그대로 반환\n",
    "    if d[x] != 0:\n",
    "        return d[x]\n",
    "    # 아직 계산하지 않은 문제라면 점화식에 따라서 피보나치 결과 반환\n",
    "    d[x] = fibo(x-1) + fibo(x-2)\n",
    "    return d[x]\n",
    "\n",
    "print(fibo(99))"
   ]
  },
  {
   "cell_type": "code",
   "execution_count": null,
   "metadata": {},
   "outputs": [],
   "source": [
    "# 방법2) Bottom-Up\n",
    "# 단순히 반복문을 이용하여 소스코드를 작성하는 경우 작은 문제부터 차근차근 답을 도출\n",
    "d = [0] * 100\n",
    "# 첫 번째, 두 번째 피보나치 수는 1\n",
    "d[1] = 1\n",
    "d[2] = 1\n",
    "n = 99\n",
    "\n",
    "# 피보나치 함수(Fibonacci Function) 반복문으로 구현\n",
    "for i in range(3,n+1):\n",
    "    d[i] = d[i-1] + d[i-2]\n",
    "\n",
    "print(d[n])"
   ]
  }
 ],
 "metadata": {
  "kernelspec": {
   "display_name": "base",
   "language": "python",
   "name": "python3"
  },
  "language_info": {
   "codemirror_mode": {
    "name": "ipython",
    "version": 3
   },
   "file_extension": ".py",
   "mimetype": "text/x-python",
   "name": "python",
   "nbconvert_exporter": "python",
   "pygments_lexer": "ipython3",
   "version": "3.9.18"
  },
  "orig_nbformat": 4
 },
 "nbformat": 4,
 "nbformat_minor": 2
}
