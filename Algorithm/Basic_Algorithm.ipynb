{
 "cells": [
  {
   "attachments": {},
   "cell_type": "markdown",
   "metadata": {},
   "source": [
    "# Basic"
   ]
  },
  {
   "attachments": {},
   "cell_type": "markdown",
   "metadata": {},
   "source": [
    "## Count Sort\n",
    "* 계수 정렬\n",
    "\n",
    ": 특정한 조건이 부합할 때만 사용할 수 있지만, 매우 빠른 정렬 알고리즘.\n",
    "\n",
    "1) 모든 데이터가 양의 정수인 상황 가정\n",
    "2) 데이터의 개수가N, 데이터 중 최대값이 K<br>\n",
    " ->최악의 경우라도 O(N+K)를 보장\n",
    "\n",
    "* 조건<br>\n",
    ": 데이터의 크기 범위가 제한되어 정수 형태로 표현할 수 있을 때만 사용가능\n",
    "\n",
    "일반적으로 가장 큰 데이터와 가장 작은 데이터의 차이가 1,000,000을 넘지 않을 때 효과적으로 사용할 수 있다.\n",
    "\n",
    "ex 0 이상 100 이하인 성적 데이터를 정렬할 때 계수 정렬이 효과적<br>\n",
    "-> 모든 범위를 담을 수 있는 크기의 리스트(배열)를 선언해야하기 때문<br>\n",
    "-> 초기화<br>\n",
    "-> 비교 기반의정렬 알고리즘(선택, 삽입, 퀵)이 아님<br>\n",
    "별도의 리스트를 선언하고 그 안에 정렬에 대한 정보를 담는다\n",
    "\n",
    "* 계수정렬의 시간 복잡도<br>\n",
    "\n",
    "-> O(N+K) : 리스트에서 적절한 인덱스의 값을 1씩 증가, 추후에 리스트의 각 인덱스에 해당하는 값들 확인할 때, 데이터의 최댓값의 크기만큼 반복한다.<br>\n",
    "-> 데이터의 범위만 한정되어 있다면 효과적으로 사용할 수 있고 항상 빠르게 동작한다\n",
    "-> 현존하는 정렬 알고리즘 중에서 기수 정렬(Radix Sort)과 더불어 가장 빠르다.<br>\n",
    "기수 정렬은 계수 정렬에 비해 동작은 느리지만, 처리할 수 있는 정수의 크기는 더 크다<br>(알고리즘 원리나 소스 코드는 더 복잡)"
   ]
  },
  {
   "cell_type": "code",
   "execution_count": 1,
   "metadata": {},
   "outputs": [
    {
     "name": "stdout",
     "output_type": "stream",
     "text": [
      "[0, 0, 1, 1, 2, 2, 3, 5, 5, 6, 7, 8, 9, 9]\n"
     ]
    }
   ],
   "source": [
    "# 모든 원소의 값이 0보다 크거나 같다고 가정\n",
    "array =  [ 7, 5, 9, 0, 3, 1, 6, 2, 9, 1, 8, 0, 5, 2 ]\n",
    "# 모든 범위를 포함하는 리스트 선언(모든 값은 0으로 초기화)\n",
    "count = [0] * (max(array)+1)\n",
    "sorted_arr = []\n",
    "for i in range(len(array)):\n",
    "    count[array[i]] += 1    # 각 데이터에 해당하는 인덱스의 값 증가\n",
    "\n",
    "for i in range(len(count)): # 리스트에 기록된 정렬 정보 확인\n",
    "    for j in range(count[i]):\n",
    "        sorted_arr.append(i)   # 띄어쓰기를 구분으로 등장한 횟수만큼 인덱스 출력\n",
    "print(sorted_arr)"
   ]
  },
  {
   "attachments": {},
   "cell_type": "markdown",
   "metadata": {},
   "source": [
    "## Quick Sort\n",
    "* 퀵 정렬 O(NlogN)\n",
    ": 기준 데이터(pivot)를 설정하고 그 기준보다 큰 데이터와 작은 데이터의 위치를 바꾼다.\n",
    "<br>\n",
    "-> 이미 정렬되어 있는 경우 매우 느리게 동작 <-> 삽입 정렬\n",
    "\n",
    "<br>\n",
    "1) 호어 분할법(Hoare partition) : 리스트에서 첫 번째 데이터를 pivot으로 설정<br>\n",
    "2) 왼쪽(피벗 다음)에서 피벗보다 큰 데이터를 찾고, 오른쪽에서 피벗보다 작은 데이터를 찾아 위치 교환<br>\n",
    "3) 만약, 엇갈린다면 피벗과 작은 수의 위치를 교환, 피벗을 기준으로 좌우 분할(divide)<br>\n",
    "4) 각 파티션 별로 위의 동작 반복(재귀 함수 형태로 구현)\n",
    "5) 종료조건 : 리스트의 원소가 1개일 때"
   ]
  },
  {
   "cell_type": "code",
   "execution_count": 15,
   "metadata": {},
   "outputs": [
    {
     "name": "stdout",
     "output_type": "stream",
     "text": [
      "[0, 1, 2, 3, 4, 5, 6, 7, 8, 9]\n"
     ]
    }
   ],
   "source": [
    "# 방법 1) 직관적인 형태의 퀵 정렬\n",
    "def quick_sort(array, start, end):\n",
    "    if start >= end:    # 원소가 1개인 경우 종료\n",
    "        return\n",
    "    pivot = start       # 호어 분할밥, 피벗의 첫 번째 원소\n",
    "    left = start + 1\n",
    "    right = end\n",
    "    while left <= right:\n",
    "        # 피벗보다 큰 데이터를 찾을 때까지 반복\n",
    "        while left <= end and array[left] <= array[pivot]:\n",
    "            left += 1\n",
    "        # 피벗보다 작은 데이터를 찾을 때까지 반복\n",
    "        while right > start and array[right] >= array[pivot]:\n",
    "            right -= 1\n",
    "        if left > right:        # 엇갈렸다면 작은 데이터와 피벗을 교체\n",
    "            array[right],array[pivot] = array[pivot], array[right]\n",
    "        else:                   # 엇갈리지 않았다면 작은 데이터와 큰 데이터를 교체\n",
    "            array[left], array[right] = array[right], array[left]\n",
    "\n",
    "    # 분할 이후 왼쪽 부분과 오른쪽 부분에서 각각 정렬 수행\n",
    "    quick_sort(array, start, right-1)\n",
    "    quick_sort(array, right+1, end)\n",
    "\n",
    "array = [ 5, 7, 9, 0, 3, 1, 6, 2, 4, 8 ]\n",
    "quick_sort(array, 0, len(array)-1)\n",
    "print(array)"
   ]
  },
  {
   "cell_type": "code",
   "execution_count": 16,
   "metadata": {},
   "outputs": [
    {
     "name": "stdout",
     "output_type": "stream",
     "text": [
      "[0, 1, 2, 3, 4, 5, 6, 7, 8, 9]\n"
     ]
    }
   ],
   "source": [
    "# 방법 2) 파이썬의 장점을 살린 퀵 정렬\n",
    "def quick_sort_py(array):\n",
    "    if len(array) <= 1:     # 리스트에 하나의 원소만 있다면 종료\n",
    "        return array\n",
    "    \n",
    "    pivot = array[0]\n",
    "    tail = array[1:]\n",
    "\n",
    "    left_side = [ x for x in tail if x <= pivot]    # 분할된 왼쪽, 피벗보다 작거나 같은 원소\n",
    "    right_side = [ x for x in tail if x > pivot]    # 분할된 오른쪽, 피벗보다 큰 원소\n",
    "\n",
    "    # 분할된 이후 왼쪽 부분과 오른쪽 부분에서 각각 정렬을 수행하고, 전체 리스트를 반환\n",
    "    return quick_sort_py(left_side)+[pivot]+quick_sort_py(right_side)\n",
    "\n",
    "print(quick_sort_py(array))"
   ]
  },
  {
   "attachments": {},
   "cell_type": "markdown",
   "metadata": {},
   "source": [
    "## Binary Search\n",
    "* 이진 탐색\n",
    "\n",
    ": 찾으려는 데이터와 중간점 위치에 있는 데이터를 반복적으로 비교해서 원하는 데이터를 찾는 알고리즘\n",
    "\n",
    "1) 내부 데이터가 정렬되어 있어야만 사용 가능\n",
    "2) 탐색 범위를 절반씩 좁혀가며 데이터를 탐색한다.\n",
    "3) 위치를 나타내는 변수 3개를 사용(시작점, 중간점, 끝점)\n",
    "\n",
    "-> 중복된 데이터가 있을 시 가운데에 가까운 데이터의 인덱스 반환"
   ]
  },
  {
   "cell_type": "code",
   "execution_count": null,
   "metadata": {},
   "outputs": [],
   "source": [
    "# 방법 1) 재귀 함수로 구현한 이진 탐색\n",
    "def binary_search(array, target, start, end):\n",
    "    if start > end:\n",
    "        return None\n",
    "    \n",
    "    mid = (start+end)//2        # 중간점\n",
    "    if array[mid] == target:    # 찾은 경우 중간점 인덱스 반환\n",
    "        return mid\n",
    "    elif array[mid] > target:   # 중간점보다 target이 앞에 있음\n",
    "        return binary_search(array, target, start, mid-1)\n",
    "    else:                       # 중간점보다 target이 뒤에 있음\n",
    "        return binary_search(array, target, mid+1, end)"
   ]
  },
  {
   "cell_type": "code",
   "execution_count": 8,
   "metadata": {},
   "outputs": [],
   "source": [
    "# 방법 2) 반복문으로 구현한 이진 탐색\n",
    "def binary_search_iter(array,target, start, end):\n",
    "    while start <= end:\n",
    "        mid = (start+end)//2\n",
    "        if array[mid]==target:      # 발견한 경우\n",
    "            return mid\n",
    "        elif array[mid] > target:   # 타겟이 앞에 있는 경우\n",
    "            end = mid-1\n",
    "        else:\n",
    "            start = mid+1\n",
    "    return None"
   ]
  },
  {
   "cell_type": "code",
   "execution_count": null,
   "metadata": {},
   "outputs": [],
   "source": [
    "# test\n",
    "# n : 원소의 개수\n",
    "# target : 찾고자하는 문자열\n",
    "n, target = list(map(int,input().split()))\n",
    "array = list(map(int, input().split()))\n",
    "\n",
    "# 이진 탐색 수행\n",
    "result = binary_search(array, target, 0, n-1)\n",
    "if result == None:\n",
    "    print(\"찾으려는 원소가 존재하지 않습니다.\")\n",
    "else:\n",
    "    print(result+1)"
   ]
  }
 ],
 "metadata": {
  "kernelspec": {
   "display_name": "base",
   "language": "python",
   "name": "python3"
  },
  "language_info": {
   "codemirror_mode": {
    "name": "ipython",
    "version": 3
   },
   "file_extension": ".py",
   "mimetype": "text/x-python",
   "name": "python",
   "nbconvert_exporter": "python",
   "pygments_lexer": "ipython3",
   "version": "3.9.13"
  },
  "orig_nbformat": 4
 },
 "nbformat": 4,
 "nbformat_minor": 2
}
