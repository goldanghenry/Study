{
 "cells": [
  {
   "attachments": {},
   "cell_type": "markdown",
   "metadata": {},
   "source": [
    "## 양궁대회\n",
    "- 2022 KAKAO BLIND RECRUITMENT\n",
    "- https://school.programmers.co.kr/learn/courses/30/lessons/92342?language=python3"
   ]
  },
  {
   "cell_type": "code",
   "execution_count": 7,
   "metadata": {},
   "outputs": [
    {
     "name": "stdout",
     "output_type": "stream",
     "text": [
      "[0, 2, 2, 2, 1, 1, 1, 1, 1, 1, 1] 13\n"
     ]
    },
    {
     "data": {
      "text/plain": [
       "[]"
      ]
     },
     "execution_count": 7,
     "metadata": {},
     "output_type": "execute_result"
    }
   ],
   "source": [
    "# 가장 큰 점수 차이\n",
    "# 우승할 수 없는 경우 -1\n",
    "\n",
    "def solution(n, info):\n",
    "    li = [i+1 if i/n<0.3 else 0 for i in info ]\n",
    "    print(li, sum(li))\n",
    "\n",
    "    \n",
    "\n",
    "    \n",
    "\n",
    "\n",
    "\n",
    "\n",
    "\n",
    "    answer = []\n",
    "    return answer\n",
    "\n",
    "\n",
    "n = 5\n",
    "info = [2,1,1,1,0,0,0,0,0,0,0]\n",
    "solution(n, info)"
   ]
  },
  {
   "cell_type": "code",
   "execution_count": null,
   "metadata": {},
   "outputs": [],
   "source": [
    "print(/n)"
   ]
  }
 ],
 "metadata": {
  "kernelspec": {
   "display_name": "Python 3",
   "language": "python",
   "name": "python3"
  },
  "language_info": {
   "codemirror_mode": {
    "name": "ipython",
    "version": 3
   },
   "file_extension": ".py",
   "mimetype": "text/x-python",
   "name": "python",
   "nbconvert_exporter": "python",
   "pygments_lexer": "ipython3",
   "version": "3.9.7"
  },
  "orig_nbformat": 4
 },
 "nbformat": 4,
 "nbformat_minor": 2
}
