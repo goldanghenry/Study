{
 "cells": [
  {
   "attachments": {},
   "cell_type": "markdown",
   "metadata": {},
   "source": [
    "# 이것이 코딩 테스트다 _ 나동빈\n",
    "- 교재 수록 문제"
   ]
  },
  {
   "attachments": {},
   "cell_type": "markdown",
   "metadata": {},
   "source": [
    "### 당장 좋은 것만 선택하는 greedy\n",
    "\n",
    "- 탐욕greedy : '현재 상황에서 지금 당장 좋은 것만 고르는 방법'<br>\n",
    "-> 사전에 외우고 있지 않아도 풀 수 있을 가능성이 높은 문제 유형<br>\n",
    "-> 많은 유형을 접해보고, 문제를 풀며 훈련해야 한다.<br>\n",
    "-> 창의력(아이디어)를 요구"
   ]
  },
  {
   "attachments": {},
   "cell_type": "markdown",
   "metadata": {},
   "source": [
    "### 거스름돈\n",
    "---\n",
    "- 손님에게 거슬러 줘야 할 돈이 N원일 때, 거슬러 줘야 할 동전의 최소 개수를 구하라.(단 n은 10의 배수)"
   ]
  },
  {
   "cell_type": "code",
   "execution_count": null,
   "metadata": {},
   "outputs": [],
   "source": [
    "# 동전의 최소 개수 -> 가장 큰 화폐 단위의 돈부터\n",
    "# O(k), k: 화폐 종류 \n",
    "# 알고리즘의 정당성\n",
    "# : 가지고 있는 동전 중에서 큰 단위가 항상 작은 단위의 배수 -> 작은 단위의 동전들을 종합해 다른 해가 나올 수 없다.\n",
    "n = 1260\n",
    "count = 0\n",
    "\n",
    "# 큰 단위의 화폐부터 차례대로 확인\n",
    "coin_types = [500, 100, 50, 10]\n",
    "\n",
    "for coin in coin_types:\n",
    "    count += n//coin\n",
    "    n %= coin\n",
    "\n",
    "print(count)"
   ]
  },
  {
   "attachments": {},
   "cell_type": "markdown",
   "metadata": {},
   "source": [
    "### 큰 수의 법칙\n",
    "- 2019 국가 교육기관 코딩 테스트\n",
    "---\n",
    "다양한 수로 이루어진 배열이 있을 때, 주어진 수들을 M번 더하여 가장 큰 수를 만드는 방법<br>\n",
    "단, 배열의 특정한 인덱스(번호)에 해당하는 수가 연속해서 K번을 초과하여 더해질 수 없는 것<br>\n",
    "  ex) [2, 4, 5, 4, 6] , M=8, K=3 -> 큰 수의 법칙 : 6 + 6 + 6 + 5 + 6 + 6 + 6 + 5 = 46 \n",
    "\t\n",
    "단, 서로 다른 인덱스에 해당하는 수가 같은 경우에 서로 다른 것으로 간주<br>\n",
    "\tex) [3, 4, 3, 4, 3], M=7, K=2 -> 큰 수의 법칙 : 4 + 4 + 4 + 4 + 4 + 4 + 4 = 28\n",
    "  <br><br>\n",
    "배열의 크기N, 숫자가 더해지는 횟수M, 그리고 K가 주어질 때 동빈이의 큰 수의 법칙에 따른 결과를 출력하시오."
   ]
  },
  {
   "cell_type": "code",
   "execution_count": 3,
   "metadata": {},
   "outputs": [
    {
     "name": "stdout",
     "output_type": "stream",
     "text": [
      "46\n"
     ]
    }
   ],
   "source": [
    "# 내가 푼 방법\n",
    "# 가장 큰 수를 K번 더하고, 두번 째로 큰 수를 한번 더하는 연산 반복\n",
    "N,M,K = map(int,input().split())\n",
    "arr = sorted(list(map(int,input().split())),reverse=True)\n",
    "\n",
    "max_num, next_num = arr[0],arr[1]\n",
    "x = M//(K+1)\n",
    "y = M%(K+1)\n",
    "\n",
    "result = (max_num*K+next_num)*x + (max_num)*y\n",
    "print(result)"
   ]
  },
  {
   "cell_type": "code",
   "execution_count": 4,
   "metadata": {},
   "outputs": [
    {
     "name": "stdout",
     "output_type": "stream",
     "text": [
      "46\n"
     ]
    }
   ],
   "source": [
    "# 풀이 1) 단순하게 푸는 방법\n",
    "# M의 크기가 커질 때 시간초과 판정\n",
    "result = 0\n",
    "while True:\n",
    "    for i in range(K):  # 가장 큰 수를 K번 더하기\n",
    "        if M==0: break\n",
    "        result += max_num\n",
    "        M -= 1\n",
    "    if M==0: break\n",
    "    result += next_num\n",
    "    M-=1\n",
    "\n",
    "print(result)"
   ]
  },
  {
   "cell_type": "code",
   "execution_count": null,
   "metadata": {},
   "outputs": [],
   "source": [
    "# 풀이 2) 수열의 특성\n",
    "# 내 풀이와 유사\n",
    "count = int(M/K+1) * K\n",
    "count += M % (K+1)\n",
    "\n",
    "result = 0\n",
    "result += (count)*max_num\n",
    "result += (M-count)*next_num\n",
    "\n",
    "print(result)"
   ]
  },
  {
   "attachments": {},
   "cell_type": "markdown",
   "metadata": {},
   "source": [
    "### 숫자 카드 게임\n",
    "- 2019 국가 교육기관 코딩 테스트\n",
    "---\n",
    "숫자 카드 게임은 여러 개의 카드 중에서 가장 높은 숫자가 쓰인 카드 한 장을 뽑는 게임이다.\n",
    "\n",
    "단, 게임의 룰을 지키며 카드를 뽑아야 하고 룰은 다음과 같다.\n",
    "1) 숫자가 쓰인 카드들이 N x M 형태로 놓여 있다. 이때 N은 행의 개수를 의미하며, M은 열의 개수를 의미한다.\n",
    "2) 먼저 뽑고자 하는 카드가 포함되어 있는 행을 선택한다.\n",
    "3) 그 다음 선택된 행에 포함된 카드들 중 가장 숫자가 낮은 카드를 뽑아야 한다.\n",
    "4) 따라서 처음에 카드를 골라낼 행을 선택할 때, 이후에 해당 행에서 가장 숫자가 낮은 카드를 뽑을 것을 고려하여 \n",
    "   최종적으로 가장 높은 숫자의 카드를 뽑을 수 있도록 전략을 세워야 한다."
   ]
  },
  {
   "cell_type": "code",
   "execution_count": 3,
   "metadata": {},
   "outputs": [
    {
     "name": "stdout",
     "output_type": "stream",
     "text": [
      "2\n"
     ]
    }
   ],
   "source": [
    "# 내가 푼 방법\n",
    "# 교재 풀이와 동일\n",
    "N,M = map(int,input().split())\n",
    "answer = -1\n",
    "\n",
    "for _ in range(N):\n",
    "    card = list(map(int, input().split()))\n",
    "    mini = min(card)\n",
    "    answer = max(mini,answer)\n",
    "\n",
    "print(answer)"
   ]
  },
  {
   "attachments": {},
   "cell_type": "markdown",
   "metadata": {},
   "source": [
    "### 1이 될 때까지\n",
    "- 2018 E 기업 알고리즘 대회\n",
    "---\n",
    "어떠한 수 N이 1이 될 때까지 다음의 두 과정 중 하나를 반복적으로 선택하여 수행하려고 한다.<br>\n",
    "(단, 두번째 연산은 N이 K로 나누어떨어질 때만 선택할 수 있다.)\n",
    "1) N에서 1을 뺀다\n",
    "2) N을 K로 나눈다\n",
    "\n",
    "N,K가 주어질 때, N이 1이 될 때까지 수행해야하는 최소 횟수를 구하시오."
   ]
  },
  {
   "cell_type": "code",
   "execution_count": 11,
   "metadata": {},
   "outputs": [
    {
     "name": "stdout",
     "output_type": "stream",
     "text": [
      "6\n"
     ]
    }
   ],
   "source": [
    "# 내가 푼 방법\n",
    "# 최대한 많이 나누기 \n",
    "# -> N이 K의 배수가 된 순간부터는 계속 나누기 진행\n",
    "N,K = map(int, input().split())\n",
    "result = 0\n",
    "\n",
    "while True:\n",
    "    result += N%K   # 나눗셈 가능할 때까지 1씩 빼주는 부분\n",
    "    N -= N%K\n",
    "    if N < K: break\n",
    "    N//=K           # 나눈셈 진행\n",
    "    result+=1\n",
    "\n",
    "result += (N-1)     # 최종 나눗셈 후 1이 아니라면 result에 더하기\n",
    "print(result)"
   ]
  },
  {
   "attachments": {},
   "cell_type": "markdown",
   "metadata": {},
   "source": [
    "### 두 배열의 원소 교체\n",
    "- 국제 알고리즘 대회\n",
    "---\n",
    "동빈이는 두 개의 배열 A와 B를 가지고 있다. 두 배열은 N개의 원소로 구성되어 있으며, \n",
    "배열의 원소는 모두 자연수이다. 동빈이는 최대 K번의 바꿔치기 연산을 수행할 수 있는데,\n",
    "바꿔치기 연산이란 배열 A에 있는 원소 하나와 배열 B에 있는 원소 하나를 골라서 두 원소를 서로 바꾸는 것을 말한다.\n",
    "동빈이의 최종 목표는 배열 A의 모든 원소의 합이 최대가 되도록 하는 것이다.\n",
    "\n",
    "N과 K, 그리고 배열 A와 B의 정보가 주어졌을 때, 최대 K번의 바꿔치기 연산을 수행하여 만들 수 있는\n",
    "배열 A의 모든 원소의 합이 최댓값을 출력하는 프로그램을 작성하시오."
   ]
  },
  {
   "cell_type": "code",
   "execution_count": null,
   "metadata": {},
   "outputs": [],
   "source": [
    "N, K = input().split()\n",
    "\n",
    "A = list(map(int, input().split()))\n",
    "B = list(map(int, input().split()))\n",
    "\n",
    "A.sort()\n",
    "B.sort(reverse=True)\n",
    "\n",
    "for i in range(int(K)):\n",
    "    if A[i] < B[i]: A[i], B[i] = B[i], A[i]\n",
    "    else : break\n",
    "\n",
    "print(sum(A))"
   ]
  },
  {
   "attachments": {},
   "cell_type": "markdown",
   "metadata": {},
   "source": [
    "### 성적이 낮은 순서로 학생 출력하기\n",
    "- D 기업 프로그래밍 콘테스트 예선\n",
    "---\n",
    "N명의 학생 정보가 있다. 학생 정보는 학생의 이름과 학생의 성적으로 구분된다. \n",
    "각 학생의 이름과 성적 정보가 주어졌을 때 성적이 낮은 순서대로 학생의 이름을 출력하는 프로그램을\n",
    "작성하시오."
   ]
  },
  {
   "cell_type": "code",
   "execution_count": null,
   "metadata": {},
   "outputs": [],
   "source": [
    "n = int(input())\n",
    "\n",
    "L =[]\n",
    "for i in range(n):\n",
    "   input_data = input().split()\n",
    "   L.append((input_data[0],int(input_data[1])))\n",
    "\n",
    "def setting(data):\n",
    "    return data[1]\n",
    "\n",
    "L.sort(key=setting)\n",
    "\n",
    "for i in L:\n",
    "    print(i[0], end=' ')"
   ]
  },
  {
   "attachments": {},
   "cell_type": "markdown",
   "metadata": {},
   "source": [
    "### 떡볶이 떡 만들기\n",
    "- 2초, 128 MB\n",
    "---\n",
    "오늘은 떡볶이 떡을 만드는 날이다. 동빈이네 떡볶이 떡은 재밌게도 떡볶이 떡의 길이가 일정하지 않다.\n",
    "대신에 한 봉지 안에 들어가는 떡의 총 길이는 절단기로 잘라서 맞춰준다.\n",
    "절단기에 높이(H)를 지정하면 줄지어진 떡을 한 번에 절단한다.\n",
    "높이가 H보다 긴 떡은 H 위의 부분이 잘릴 것이고, 낮은 떡은 잘리지 않는다.\n",
    "\n",
    "예를 들어 높이가 19, 14, 10, 17cm인 떡이 나란히 있고 절단기 높이를 15cm로 지정하면 \n",
    "자른 뒤 떡의 높이는 15, 14, 10, 15cm 이고 잘린 떡의 길이는 4, 0, 0, 2cm로 손님은 6 cm를 가져간다.\n",
    "\n",
    "손님이 왔을 때 요청한 총 길이가 M일때, 적어도 M 만큼의 떡을 얻기 위해 절단기에 설정할 수 있는\n",
    "높이의 최대값을 구하는 프로그램을 작성하시오."
   ]
  },
  {
   "cell_type": "code",
   "execution_count": null,
   "metadata": {},
   "outputs": [],
   "source": [
    "# 입력조건( 1<= N <=1,000,000, 1<=M<=2,000,000,000 )\n",
    "n,m = map(int,input().split())\n",
    "rice = list(map(int,input().split()))\n",
    "\n",
    "# 이진 탐색을 위한 시작점, 끝점 설정\n",
    "start = 0\n",
    "end = max(rice)\n",
    "\n",
    "# 이진탐색을 통한 높이 H 찾기\n",
    "result = 0\n",
    "while start <= end:\n",
    "    total = 0\n",
    "    mid = (start+end)//2\n",
    "    # 절단기로 잘라보기\n",
    "    for i in rice:\n",
    "        if mid < i: total += i - mid\n",
    "    # 적게 자른 경우\n",
    "    if total < m:\n",
    "        end = mid + 1\n",
    "    # 많이 자른 경우\n",
    "    else:\n",
    "        result = mid\n",
    "        start = mid-1\n",
    "\n",
    "print(result)"
   ]
  },
  {
   "attachments": {},
   "cell_type": "markdown",
   "metadata": {},
   "source": [
    "### 부품 찾기\n",
    "---\n",
    "동빈이네 전자 매장에는 부품이 N개 있다. 각 부품은 정수 형태의 고유한 번호가 있다. \n",
    "어느 날 손님이 M개 종류의 부품을 대량으로 구매하겠다며 당일 날 견적서를 요청했다.\n",
    "동빈이는 때를 놓치지 않고 손님이 문의한 부품 M개 종류를 모두 확인해서 견적서를 작성해야한다.\n",
    "이때 가게 안에 부품이 모두 있는지 확인하는 프로그램을 작성해보자."
   ]
  },
  {
   "cell_type": "code",
   "execution_count": null,
   "metadata": {},
   "outputs": [],
   "source": [
    "# 퀵 정렬 메서드 정의\n",
    "def quick_sort(array, start, end):\n",
    "    if start >= end : return\n",
    "    pivot = start\n",
    "    left = start +1\n",
    "    right = end\n",
    "\n",
    "    while left <= right:\n",
    "        while left <= end and array[left] <= array[pivot]:\n",
    "            left += 1\n",
    "        while right > start and array[right] >= array[pivot]:\n",
    "            right -= 1\n",
    "        if left > right:\n",
    "            array[right], array[pivot] = array[pivot], array[right]\n",
    "        else:\n",
    "            array[right], array[left] = array[left], array[right]\n",
    "    quick_sort(array, start, right-1)\n",
    "    quick_sort(array, right+1, end)\n",
    "\n",
    "# binary search 메서드 정의\n",
    "def binary_search(array, target, start, end):\n",
    "    if start > end:\n",
    "        return None\n",
    "    mid = (start + end)//2\n",
    "    if array[mid] == target:\n",
    "        return mid\n",
    "    elif array[mid] > target:\n",
    "        return binary_search(array,target,start,mid-1)\n",
    "    else:\n",
    "        return binary_search(array, target, mid+1, end)\n",
    "\n",
    "# 입력 1) 보유 부품(1<= N <=1,000,000)\n",
    "N = int(input())                        \n",
    "S = list(map(int,input().split()))\n",
    "\n",
    "# 입력 2) 손님 요청(1<= M <= 100,000)\n",
    "M = int(input())    \n",
    "C = list(map(int, input().split()))\n",
    "\n",
    "# 보유 부품 리스트 오름차순 퀵 정렬\n",
    "quick_sort(S, 0, N-1)\n",
    "\n",
    "# 요청 부품 확인 후 메세지 출력하기\n",
    "for i in C:\n",
    "    result = binary_search(S, i, 0, N-1)\n",
    "    if result != None: print(\"yes\", end=' ')\n",
    "    else: print('no', end=' ')"
   ]
  }
 ],
 "metadata": {
  "kernelspec": {
   "display_name": "base",
   "language": "python",
   "name": "python3"
  },
  "language_info": {
   "codemirror_mode": {
    "name": "ipython",
    "version": 3
   },
   "file_extension": ".py",
   "mimetype": "text/x-python",
   "name": "python",
   "nbconvert_exporter": "python",
   "pygments_lexer": "ipython3",
   "version": "3.9.13"
  },
  "orig_nbformat": 4
 },
 "nbformat": 4,
 "nbformat_minor": 2
}
