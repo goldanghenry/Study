{
 "cells": [
  {
   "attachments": {},
   "cell_type": "markdown",
   "metadata": {},
   "source": [
    "# 이것이 코딩 테스트다 _ 나동빈\n",
    "- 교재 수록 문제"
   ]
  },
  {
   "attachments": {},
   "cell_type": "markdown",
   "metadata": {},
   "source": [
    "### 당장 좋은 것만 선택하는 그리디\n",
    "\n",
    "- 탐욕greedy : '현재 상황에서 지금 당장 좋은 것만 고르는 방법'<br>\n",
    "-> 사전에 외우고 있지 않아도 풀 수 있을 가능성이 높은 문제 유형<br>\n",
    "-> 많은 유형을 접해보고, 문제를 풀며 훈련해야 한다.<br>\n",
    "-> 창의력(아이디어)를 요구"
   ]
  },
  {
   "attachments": {},
   "cell_type": "markdown",
   "metadata": {},
   "source": [
    "### 거스름돈\n",
    "- 손님에게 거슬러 줘야 할 돈이 N원일 때, 거슬러 줘야 할 동전의 최소 개수를 구하라.(단 n은 10의 배수)"
   ]
  },
  {
   "cell_type": "code",
   "execution_count": null,
   "metadata": {},
   "outputs": [],
   "source": [
    "# 동전의 최소 개수 -> 가장 큰 화폐 단위의 돈부터\n",
    "n = 1260\n",
    "count = 0\n",
    "\n",
    "# 큰 단위의 화폐부터 차례대로 확인\n",
    "coin_types = [500, 100, 50, 10]\n",
    "\n",
    "for coin in coin_types:\n",
    "    count += n//coin\n",
    "    n %= coin\n",
    "\n",
    "print(count)"
   ]
  }
 ],
 "metadata": {
  "language_info": {
   "name": "python"
  },
  "orig_nbformat": 4
 },
 "nbformat": 4,
 "nbformat_minor": 2
}
