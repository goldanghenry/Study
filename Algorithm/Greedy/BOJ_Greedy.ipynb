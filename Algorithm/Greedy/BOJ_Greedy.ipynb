{
 "cells": [
  {
   "attachments": {},
   "cell_type": "markdown",
   "metadata": {},
   "source": [
    "# 백준"
   ]
  },
  {
   "attachments": {},
   "cell_type": "markdown",
   "metadata": {},
   "source": [
    "### 큰 수(무한대) 더하기\n",
    "- bronze 5\n",
    "- https://www.acmicpc.net/problem/10757\n",
    "---\n",
    "두 정수 A와 B를 입력받은 다음, A+B를 출력하는 프로그램을 작성하시오.<br>\n",
    "입력 조건 : 0 < A,B < 10^10000(INF)"
   ]
  },
  {
   "cell_type": "code",
   "execution_count": null,
   "metadata": {},
   "outputs": [],
   "source": [
    "A,B = input().split()\n",
    "\n",
    "# 앞에 '0'을 채워 자릿수 맞추기\n",
    "if len(A) > len(B): B = '0'* (len(A)-len(B)) + B\n",
    "elif len(A) < len(B): A = '0'* (len(B)-len(A)) + A\n",
    "\n",
    "# 덧셈 알고리즘\n",
    "R =[]\n",
    "\n",
    "carry = 0\n",
    "for i in range(1, len(A)+1):\n",
    "    t= int(A[-i]) + int(B[-i])       # 1의 자리부터 더하기\n",
    "    if carry == 1:                   # 올림수(carry)\n",
    "        t += 1\n",
    "        carry = 0\n",
    "    if t > 9: \n",
    "        R.append(t-10)\n",
    "        carry +=1\n",
    "        if i == len(A): R.append(1)  # 루프 마지막 carry 발생시 제일 앞에 1을 추가\n",
    "    else: R.append(t)\n",
    "\n",
    "# 1의 자리부터 출력하기 위해 순서 뒤집기\n",
    "R.reverse()                          \n",
    "\n",
    "# 출력\n",
    "for i in R:\n",
    "    print(i, end='')\n",
    "print()"
   ]
  },
  {
   "attachments": {},
   "cell_type": "markdown",
   "metadata": {},
   "source": [
    "### ACM 호텔\n",
    "- bronze 3\n",
    "- https://www.acmicpc.net/problem/10250\n",
    "---\n",
    "여러분이 작성할 프로그램은 초기에 모든 방이 비어있다고 가정하에 이 정책에 따라 N 번째로 도착한 손님에게 배정될 방 번호를 계산하는 프로그램이다. 첫 번째 손님은 101 호, 두 번째 손님은 201 호 등과 같이 배정한다. 그림 1 의 경우를 예로 들면, H = 6이므로 10 번째 손님은 402 호에 배정해야 한다."
   ]
  },
  {
   "cell_type": "code",
   "execution_count": null,
   "metadata": {},
   "outputs": [
    {
     "name": "stdout",
     "output_type": "stream",
     "text": [
      "402\n",
      "1203\n"
     ]
    }
   ],
   "source": [
    "import sys\n",
    "import math\n",
    "\n",
    "input = sys.stdin.readline\n",
    "for _ in range(int(input().rstrip())):\n",
    "    H, W, N = map(int,input().split())      # 호텔의 높이, 너비, n번째 손님의 방\n",
    "    floor = str(math.ceil(N/H))\n",
    "    floor = '0'+floor if len(floor)==1 else floor\n",
    "    ho =  H if N%H==0 else N%H\n",
    "    print(str(ho)+floor)"
   ]
  },
  {
   "attachments": {},
   "cell_type": "markdown",
   "metadata": {},
   "source": [
    "### 소수 찾기\n",
    "- bronze 2\n",
    "- https://www.acmicpc.net/problem/1978\n",
    "---\n",
    "주어진 수 N개 중에서 소수가 몇 개인지 찾아서 출력하는 프로그램을 작성하시오."
   ]
  },
  {
   "cell_type": "code",
   "execution_count": 4,
   "metadata": {},
   "outputs": [
    {
     "name": "stdout",
     "output_type": "stream",
     "text": [
      "3\n"
     ]
    }
   ],
   "source": [
    "import sys\n",
    "input = sys.stdin.readline\n",
    "\n",
    "n = int(input().rstrip())\n",
    "num_lst = list(map(int,input().split()))\n",
    "\n",
    "m = max(num_lst)\n",
    "array = [False, False]+[True]*(m-1)\n",
    "\n",
    "for i in range(2,int(m**0.5)+1):\n",
    "    if array[i]:\n",
    "        j = 2\n",
    "        while i*j <= m:\n",
    "            array[i*j]=False\n",
    "            j+=1\n",
    "\n",
    "cnt = 0\n",
    "for num in num_lst:\n",
    "    if array[num]: cnt+=1\n",
    "print(cnt)"
   ]
  },
  {
   "attachments": {},
   "cell_type": "markdown",
   "metadata": {},
   "source": [
    "### 최대공약수와 최소공배수\n",
    "- bronze 1\n",
    "- https://www.acmicpc.net/problem/2609\n",
    "---\n",
    "두 개의 자연수를 입력받아 최대 공약수와 최소 공배수를 출력하는 프로그램을 작성하시오."
   ]
  },
  {
   "cell_type": "code",
   "execution_count": 6,
   "metadata": {},
   "outputs": [
    {
     "name": "stdout",
     "output_type": "stream",
     "text": [
      "6\n",
      "72\n"
     ]
    }
   ],
   "source": [
    "import math\n",
    "\n",
    "n,m = map(int,input().split())\n",
    "print(math.gcd(n,m))\n",
    "print(math.lcm(n,m))\n"
   ]
  },
  {
   "attachments": {},
   "cell_type": "markdown",
   "metadata": {},
   "source": [
    "### 펠린드롬수\n",
    "- bronze 1\n",
    "- https://www.acmicpc.net/problem/1259\n",
    "---\n",
    "어떤 단어를 뒤에서부터 읽어도 똑같다면 그 단어를 팰린드롬이라고 한다. 'radar', 'sees'는 팰린드롬이다.\n",
    "\n",
    "수도 팰린드롬으로 취급할 수 있다. 수의 숫자들을 뒤에서부터 읽어도 같다면 그 수는 팰린드롬수다. 121, 12421 등은 팰린드롬수다. 123, 1231은 뒤에서부터 읽으면 다르므로 팰린드롬수가 아니다. 또한 10도 팰린드롬수가 아닌데, 앞에 무의미한 0이 올 수 있다면 010이 되어 팰린드롬수로 취급할 수도 있지만, 특별히 이번 문제에서는 무의미한 0이 앞에 올 수 없다고 하자."
   ]
  },
  {
   "cell_type": "code",
   "execution_count": null,
   "metadata": {},
   "outputs": [],
   "source": [
    "import sys\n",
    "input = sys.stdin.readline\n",
    "while True:\n",
    "    num = input().rstrip()\n",
    "    if num == '0': break\n",
    "    if num == num[::-1]:\n",
    "        print('yes')\n",
    "    else:\n",
    "        print('no')"
   ]
  },
  {
   "attachments": {},
   "cell_type": "markdown",
   "metadata": {},
   "source": [
    "### 수 정렬하기 2\n",
    "- silver 5\n",
    "- https://www.acmicpc.net/problem/2751\n",
    "---\n",
    "N개의 수가 주어졌을 때, 이를 오름차순으로 정렬하는 프로그램을 작성하시오."
   ]
  },
  {
   "cell_type": "code",
   "execution_count": 12,
   "metadata": {},
   "outputs": [
    {
     "name": "stdout",
     "output_type": "stream",
     "text": [
      "1\n",
      "2\n",
      "3\n",
      "4\n"
     ]
    }
   ],
   "source": [
    "# 방법1) insertion sort -> 시간 초과 판정\n",
    "import sys\n",
    "input = sys.stdin.readline\n",
    "N = int(input().rstrip())\n",
    "array = [input().rstrip()]\n",
    "for _ in range(N-1):\n",
    "    array.append(input().rstrip())\n",
    "    for j in range(len(array)-1, 0, -1):   # 인덱스 -1부터 1까지 감소하며 반복\n",
    "        if array[j] < array[j-1]:        # 앞의 원소보다 작다면 왼쪽으로 이동\n",
    "            array[j],array[j-1]=array[j-1],array[j]\n",
    "        else:\n",
    "            break\n",
    "for n in array:\n",
    "    print(n)"
   ]
  },
  {
   "cell_type": "code",
   "execution_count": null,
   "metadata": {},
   "outputs": [],
   "source": [
    "# 방법2) sorted 내장 함수\n",
    "import sys\n",
    "input = sys.stdin.readline\n",
    "array = [int(input().rstrip()) for _ in range(int(input().rstrip()))]\n",
    "for a in sorted(array): print(a)"
   ]
  },
  {
   "attachments": {},
   "cell_type": "markdown",
   "metadata": {},
   "source": [
    "### 단어 정렬\n",
    "- silver 5\n",
    "- https://www.acmicpc.net/problem/1181\n",
    "---\n",
    "알파벳 소문자로 이루어진 N개의 단어가 들어오면 아래와 같은 조건에 따라 정렬하는 프로그램을 작성하시오.\n",
    "\n",
    "길이가 짧은 것부터\n",
    "길이가 같으면 사전 순으로\n",
    "단, 중복된 단어는 하나만 남기고 제거해야 한다."
   ]
  },
  {
   "cell_type": "code",
   "execution_count": 9,
   "metadata": {},
   "outputs": [
    {
     "name": "stdout",
     "output_type": "stream",
     "text": [
      "i\n",
      "im\n",
      "it\n",
      "no\n",
      "but\n",
      "more\n",
      "wait\n",
      "wont\n",
      "yours\n",
      "cannot\n",
      "hesitate\n"
     ]
    }
   ],
   "source": [
    "import sys\n",
    "input = sys.stdin.readline\n",
    "\n",
    "lst = sorted(list(set([input().rstrip() for _ in range(int(input().rstrip()))])), key= lambda x: (len(x), x))\n",
    "for w in lst:\n",
    "    print(w)\n"
   ]
  },
  {
   "attachments": {},
   "cell_type": "markdown",
   "metadata": {},
   "source": [
    "### 영화감독 숌\n",
    "- silver 5\n",
    "- https://www.acmicpc.net/problem/1436\n",
    "---\n",
    "666은 종말을 나타내는 수라고 한다. 따라서, 많은 블록버스터 영화에서는 666이 들어간 제목을 많이 사용한다. 영화감독 숌은 세상의 종말 이라는 시리즈 영화의 감독이다. 조지 루카스는 스타워즈를 만들 때, 스타워즈 1, 스타워즈 2, 스타워즈 3, 스타워즈 4, 스타워즈 5, 스타워즈 6과 같이 이름을 지었고, 피터 잭슨은 반지의 제왕을 만들 때, 반지의 제왕 1, 반지의 제왕 2, 반지의 제왕 3과 같이 영화 제목을 지었다. 하지만 숌은 자신이 조지 루카스와 피터 잭슨을 뛰어넘는다는 것을 보여주기 위해서 영화 제목을 좀 다르게 만들기로 했다.\n",
    "\n",
    "종말의 수란 어떤 수에 6이 적어도 3개 이상 연속으로 들어가는 수를 말한다. 제일 작은 종말의 수는 666이고, 그 다음으로 큰 수는 1666, 2666, 3666, .... 이다. 따라서, 숌은 첫 번째 영화의 제목은 \"세상의 종말 666\", 두 번째 영화의 제목은 \"세상의 종말 1666\"와 같이 이름을 지을 것이다. 일반화해서 생각하면, N번째 영화의 제목은 세상의 종말 (N번째로 작은 종말의 수) 와 같다.\n",
    "\n",
    "숌이 만든 N번째 영화의 제목에 들어간 수를 출력하는 프로그램을 작성하시오. 숌은 이 시리즈를 항상 차례대로 만들고, 다른 영화는 만들지 않는다."
   ]
  },
  {
   "cell_type": "code",
   "execution_count": 27,
   "metadata": {},
   "outputs": [
    {
     "name": "stdout",
     "output_type": "stream",
     "text": [
      "166699\n"
     ]
    }
   ],
   "source": [
    "n = int(input().rstrip())\n",
    "cur = 0\n",
    "num = 666\n",
    "while True:\n",
    "    if n == cur:\n",
    "        print(num-1)\n",
    "        break\n",
    "    if str(num).count('666') >= 1:\n",
    "        cur+=1\n",
    "        num+=1\n",
    "    else:\n",
    "        num+=1"
   ]
  },
  {
   "attachments": {},
   "cell_type": "markdown",
   "metadata": {},
   "source": [
    "### 팩토리얼 0의 개수\n",
    "- silver 5\n",
    "- https://www.acmicpc.net/problem/1676\n",
    "---\n",
    "N!에서 뒤에서부터 처음 0이 아닌 숫자가 나올 때까지 0의 개수를 구하는 프로그램을 작성하시오."
   ]
  },
  {
   "cell_type": "code",
   "execution_count": 3,
   "metadata": {},
   "outputs": [
    {
     "name": "stdout",
     "output_type": "stream",
     "text": [
      "0\n"
     ]
    }
   ],
   "source": [
    "import sys\n",
    "from math import factorial\n",
    "\n",
    "cnt = 0\n",
    "for s in str(factorial(int(sys.stdin.readline().rstrip())))[::-1]:\n",
    "    if s=='0': cnt+=1\n",
    "    else: print(cnt); break"
   ]
  },
  {
   "attachments": {},
   "cell_type": "markdown",
   "metadata": {},
   "source": [
    "### 수 찾기\n",
    "- silver 4\n",
    "- https://www.acmicpc.net/problem/1920\n",
    "---\n",
    "N개의 정수 A[1], A[2], …, A[N]이 주어져 있을 때, 이 안에 X라는 정수가 존재하는지 알아내는 프로그램을 작성하시오."
   ]
  },
  {
   "cell_type": "code",
   "execution_count": 2,
   "metadata": {},
   "outputs": [
    {
     "name": "stdout",
     "output_type": "stream",
     "text": [
      "1\n",
      "1\n",
      "0\n",
      "1\n",
      "0\n"
     ]
    }
   ],
   "source": [
    "# 방법 1) 계수 정렬 활용 --> 메모리 초과 판정\n",
    "import sys\n",
    "input = sys.stdin.readline\n",
    "\n",
    "N = int(input().rstrip())\n",
    "array = list(map(int,input().split()))\n",
    "max_num = max(array)\n",
    "count = [0] * (max_num+1)\n",
    "\n",
    "for i in range(len(array)): count[array[i]] += 1\n",
    "\n",
    "M = int(input().rstrip())\n",
    "for m in map(int,input().split()):\n",
    "    if m <= max_num and count[m]:\n",
    "        print('1')\n",
    "    else:\n",
    "        print('0')"
   ]
  },
  {
   "cell_type": "code",
   "execution_count": null,
   "metadata": {},
   "outputs": [],
   "source": [
    "# 방법 2) 단순 검색 --> 시간 초과 판정\n",
    "import sys\n",
    "input = sys.stdin.readline\n",
    "\n",
    "N = int(input().rstrip())\n",
    "array = list(map(int,input().split()))\n",
    "\n",
    "M = int(input().rstrip())\n",
    "for m in map(int,input().split()):\n",
    "    if m in array:\n",
    "        print('1')\n",
    "    else:\n",
    "        print('0')"
   ]
  },
  {
   "cell_type": "code",
   "execution_count": null,
   "metadata": {},
   "outputs": [],
   "source": [
    "# 방법 3) 이진탐색\n",
    "import sys\n",
    "input = sys.stdin.readline\n",
    "\n",
    "N = int(input().rstrip())\n",
    "array = list(map(int,input().split()))\n",
    "array.sort()\n",
    "\n",
    "def binary_search(target):\n",
    "    left = 0\n",
    "    right = N-1\n",
    "\n",
    "    while left <= right:\n",
    "        mid = (left+right)//2\n",
    "        if target==array[mid]: return True\n",
    "        if target < array[mid]: right=mid-1\n",
    "        else: left = mid+1\n",
    "\n",
    "M = int(input().rstrip())\n",
    "for m in map(int,input().split()):\n",
    "    if binary_search(m): print('1')\n",
    "    else: print('0')"
   ]
  },
  {
   "attachments": {},
   "cell_type": "markdown",
   "metadata": {},
   "source": [
    "### 체스판 다시 칠하기\n",
    "- silver 4\n",
    "- https://www.acmicpc.net/problem/1018\n",
    "---\n",
    "체스판은 검은색과 흰색이 번갈아서 칠해져 있어야 한다. 구체적으로, 각 칸이 검은색과 흰색 중 하나로 색칠되어 있고, 변을 공유하는 두 개의 사각형은 다른 색으로 칠해져 있어야 한다. 따라서 이 정의를 따르면 체스판을 색칠하는 경우는 두 가지뿐이다. 하나는 맨 왼쪽 위 칸이 흰색인 경우, 하나는 검은색인 경우이다.\n",
    "\n",
    "보드가 체스판처럼 칠해져 있다는 보장이 없어서, 지민이는 8×8 크기의 체스판으로 잘라낸 후에 몇 개의 정사각형을 다시 칠해야겠다고 생각했다. 당연히 8*8 크기는 아무데서나 골라도 된다. 지민이가 다시 칠해야 하는 정사각형의 최소 개수를 구하는 프로그램을 작성하시오."
   ]
  },
  {
   "cell_type": "code",
   "execution_count": null,
   "metadata": {},
   "outputs": [],
   "source": [
    "# 브루트 포스\n",
    "import sys\n",
    "input = sys.stdin.readline\n",
    "\n",
    "N,M = map(int,input().split())\n",
    "board = []\n",
    "result = []\n",
    "\n",
    "for _ in range(N):\n",
    "    board.append(input().rstrip())\n",
    "\n",
    "# white & black\n",
    "for i in range(N-7):\n",
    "    for j in range(M-7):\n",
    "        draw1 = 0\n",
    "        draw2 = 0\n",
    "        for a in range(i,i+8):\n",
    "            for b in range(j,j+8):\n",
    "                if (a+b)%2 == 0:    # 시작점이 검은색 or 흰색\n",
    "                    if board[a][b] !='B': draw1 +=1\n",
    "                    if board[a][b] !='W': draw2 +=1\n",
    "                else:\n",
    "                    if board[a][b] !='W': draw1 +=1\n",
    "                    if board[a][b] !='B': draw2 +=1\n",
    "        result.append(draw1)\n",
    "        result.append(draw2)\n",
    "\n",
    "print(min(result))"
   ]
  },
  {
   "attachments": {},
   "cell_type": "markdown",
   "metadata": {},
   "source": [
    "### 카드2\n",
    "- silver 4\n",
    "- https://www.acmicpc.net/problem/2164\n",
    "---\n",
    "N장의 카드가 있다. 각각의 카드는 차례로 1부터 N까지의 번호가 붙어 있으며, 1번 카드가 제일 위에, N번 카드가 제일 아래인 상태로 순서대로 카드가 놓여 있다.\n",
    "\n",
    "이제 다음과 같은 동작을 카드가 한 장 남을 때까지 반복하게 된다. 우선, 제일 위에 있는 카드를 바닥에 버린다. 그 다음, 제일 위에 있는 카드를 제일 아래에 있는 카드 밑으로 옮긴다.\n",
    "\n",
    "예를 들어 N=4인 경우를 생각해 보자. 카드는 제일 위에서부터 1234 의 순서로 놓여있다. 1을 버리면 234가 남는다. 여기서 2를 제일 아래로 옮기면 342가 된다. 3을 버리면 42가 되고, 4를 밑으로 옮기면 24가 된다. 마지막으로 2를 버리고 나면, 남는 카드는 4가 된다.\n",
    "\n",
    "N이 주어졌을 때, 제일 마지막에 남게 되는 카드를 구하는 프로그램을 작성하시오."
   ]
  },
  {
   "cell_type": "code",
   "execution_count": 7,
   "metadata": {},
   "outputs": [
    {
     "name": "stdout",
     "output_type": "stream",
     "text": [
      "deque([1, 2, 3, 4, 5, 6])\n",
      "4\n"
     ]
    }
   ],
   "source": [
    "# 한번 루프를 돌 때 홀수는 버리고 짝수는 append()\n",
    "from collections import deque\n",
    "N = int(input())\n",
    "array = deque(range(1,N+1))\n",
    "cnt,flag = N,1\n",
    "\n",
    "while True:\n",
    "    if cnt==1: break\n",
    "    p = array.popleft()\n",
    "    if flag: \n",
    "        flag = 0\n",
    "        cnt-=1\n",
    "        continue\n",
    "    else:\n",
    "        flag=1\n",
    "        array.append(p)\n",
    "print(array[0])"
   ]
  },
  {
   "attachments": {},
   "cell_type": "markdown",
   "metadata": {},
   "source": [
    "### 소수 구하기\n",
    "- silver 3\n",
    "- https://www.acmicpc.net/problem/1929\n",
    "---\n",
    "M이상 N이하의 소수를 모두 출력하는 프로그램을 작성하시오."
   ]
  },
  {
   "cell_type": "code",
   "execution_count": 34,
   "metadata": {},
   "outputs": [],
   "source": [
    "# 에라토스테네스의 체 소수 판별 알고리즘\n",
    "M,N = map(int,input().split())\n",
    "# 0과 1은 소수가 아니다\n",
    "array = [False,False]+[True]*(N-1)      \n",
    "# 2부터 제곱근+1까지 시행\n",
    "for i in range(2,int(N**0.5)+1):\n",
    "    if array[i]:\n",
    "        j = 2\n",
    "        while i * j <= N:\n",
    "            array[i*j]=False    #   배수 모두 False처리\n",
    "            j+=1\n",
    "\n",
    "for i in range(M,N+1):  # M부터 N까지 소수 출력\n",
    "    if array[i]:\n",
    "        print(i)"
   ]
  },
  {
   "attachments": {},
   "cell_type": "markdown",
   "metadata": {},
   "source": [
    "### 프린터 큐\n",
    "- silver 3\n",
    "- https://www.acmicpc.net/problem/1966\n",
    "---\n",
    "여러분도 알다시피 여러분의 프린터 기기는 여러분이 인쇄하고자 하는 문서를 인쇄 명령을 받은 ‘순서대로’, 즉 먼저 요청된 것을 먼저 인쇄한다. 여러 개의 문서가 쌓인다면 Queue 자료구조에 쌓여서 FIFO - First In First Out - 에 따라 인쇄가 되게 된다. 하지만 상근이는 새로운 프린터기 내부 소프트웨어를 개발하였는데, 이 프린터기는 다음과 같은 조건에 따라 인쇄를 하게 된다.\n",
    "\n",
    "현재 Queue의 가장 앞에 있는 문서의 ‘중요도’를 확인한다.\n",
    "나머지 문서들 중 현재 문서보다 중요도가 높은 문서가 하나라도 있다면, 이 문서를 인쇄하지 않고 Queue의 가장 뒤에 재배치 한다. 그렇지 않다면 바로 인쇄를 한다.\n",
    "예를 들어 Queue에 4개의 문서(A B C D)가 있고, 중요도가 2 1 4 3 라면 C를 인쇄하고, 다음으로 D를 인쇄하고 A, B를 인쇄하게 된다.\n",
    "\n",
    "여러분이 할 일은, 현재 Queue에 있는 문서의 수와 중요도가 주어졌을 때, 어떤 한 문서가 몇 번째로 인쇄되는지 알아내는 것이다. 예를 들어 위의 예에서 C문서는 1번째로, A문서는 3번째로 인쇄되게 된다."
   ]
  },
  {
   "cell_type": "code",
   "execution_count": 3,
   "metadata": {},
   "outputs": [
    {
     "name": "stdout",
     "output_type": "stream",
     "text": [
      "deque([[0, 1], [1, 1], [2, 9], [3, 1], [4, 1], [5, 1]])\n",
      "[1, 1, 1, 1, 1, 9]\n",
      "5\n"
     ]
    }
   ],
   "source": [
    "# 큐 + 시뮬레이션\n",
    "# 중요도가 같은 여러 개의 문서가 있는 경우,\n",
    "# 몇 번째로 인쇄되는지 체크하기 위해 index도 함께 저장\n",
    "# 문서들 중 중요도가 가장 높은 문서인지 확인하기 위해 정렬\n",
    "import sys\n",
    "input = sys.stdin.readline\n",
    "\n",
    "from collections import deque\n",
    "for _ in range(int(input().rstrip())):\n",
    "    n,m = map(int,input().split())\n",
    "    lst = list(map(int,input().split()))\n",
    "    queue = deque([i,k] for i, k in enumerate(lst))\n",
    "    lst.sort()\n",
    "    cnt = 0\n",
    "    while True:\n",
    "        p = queue.popleft()\n",
    "        if p[0]==m and p[1]==lst[-1]:\n",
    "            cnt+=1\n",
    "            break\n",
    "        elif p[1]==lst[-1]:\n",
    "            lst.pop()\n",
    "            cnt+=1\n",
    "        else:\n",
    "            queue.append(p)\n",
    "    print(cnt)"
   ]
  },
  {
   "attachments": {},
   "cell_type": "markdown",
   "metadata": {},
   "source": [
    "### 랜선 자르기\n",
    "- silver 2\n",
    "- https://www.acmicpc.net/problem/1654\n",
    "---\n",
    "집에서 시간을 보내던 오영식은 박성원의 부름을 받고 급히 달려왔다. 박성원이 캠프 때 쓸 N개의 랜선을 만들어야 하는데 너무 바빠서 영식이에게 도움을 청했다.\n",
    "\n",
    "이미 오영식은 자체적으로 K개의 랜선을 가지고 있다. 그러나 K개의 랜선은 길이가 제각각이다. 박성원은 랜선을 모두 N개의 같은 길이의 랜선으로 만들고 싶었기 때문에 K개의 랜선을 잘라서 만들어야 한다. 예를 들어 300cm 짜리 랜선에서 140cm 짜리 랜선을 두 개 잘라내면 20cm는 버려야 한다. (이미 자른 랜선은 붙일 수 없다.)\n",
    "\n",
    "편의를 위해 랜선을 자르거나 만들 때 손실되는 길이는 없다고 가정하며, 기존의 K개의 랜선으로 N개의 랜선을 만들 수 없는 경우는 없다고 가정하자. 그리고 자를 때는 항상 센티미터 단위로 정수길이만큼 자른다고 가정하자. N개보다 많이 만드는 것도 N개를 만드는 것에 포함된다. 이때 만들 수 있는 최대 랜선의 길이를 구하는 프로그램을 작성하시오."
   ]
  },
  {
   "cell_type": "code",
   "execution_count": 44,
   "metadata": {},
   "outputs": [
    {
     "name": "stdout",
     "output_type": "stream",
     "text": [
      "200\n"
     ]
    }
   ],
   "source": [
    "# 1) 순차탐색 -> 시간 초과\n",
    "# 2) 이진탐색\n",
    "import sys\n",
    "\n",
    "K, N = map(int, sys.stdin.readline().split())\n",
    "K_lst = [int(sys.stdin.readline().rstrip()) for _ in range(K)]\n",
    "start,end = 1,sum(K_lst)//N     # 균등하다는 가정, 최대 길이 = 총합/N\n",
    "\n",
    "while start <= end:\n",
    "    mid = (start+end)//2\n",
    "    if sum(map(lambda x:x//mid, K_lst)) >= N:\n",
    "        start = mid+1\n",
    "    else:\n",
    "        end = mid-1\n",
    "print(end)"
   ]
  }
 ],
 "metadata": {
  "kernelspec": {
   "display_name": "base",
   "language": "python",
   "name": "python3"
  },
  "language_info": {
   "codemirror_mode": {
    "name": "ipython",
    "version": 3
   },
   "file_extension": ".py",
   "mimetype": "text/x-python",
   "name": "python",
   "nbconvert_exporter": "python",
   "pygments_lexer": "ipython3",
   "version": "3.9.13"
  },
  "orig_nbformat": 4
 },
 "nbformat": 4,
 "nbformat_minor": 2
}
