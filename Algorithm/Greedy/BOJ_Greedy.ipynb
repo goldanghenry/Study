{
 "cells": [
  {
   "attachments": {},
   "cell_type": "markdown",
   "metadata": {},
   "source": [
    "# 백준"
   ]
  },
  {
   "attachments": {},
   "cell_type": "markdown",
   "metadata": {},
   "source": [
    "### 큰 수(무한대) 더하기\n",
    "- bronze 5\n",
    "- https://www.acmicpc.net/problem/10757\n",
    "---\n",
    "두 정수 A와 B를 입력받은 다음, A+B를 출력하는 프로그램을 작성하시오.<br>\n",
    "입력 조건 : 0 < A,B < 10^10000(INF)"
   ]
  },
  {
   "cell_type": "code",
   "execution_count": null,
   "metadata": {},
   "outputs": [],
   "source": [
    "A,B = input().split()\n",
    "\n",
    "# 앞에 '0'을 채워 자릿수 맞추기\n",
    "if len(A) > len(B): B = '0'* (len(A)-len(B)) + B\n",
    "elif len(A) < len(B): A = '0'* (len(B)-len(A)) + A\n",
    "\n",
    "# 덧셈 알고리즘\n",
    "R =[]\n",
    "\n",
    "carry = 0\n",
    "for i in range(1, len(A)+1):\n",
    "    t= int(A[-i]) + int(B[-i])       # 1의 자리부터 더하기\n",
    "    if carry == 1:                   # 올림수(carry)\n",
    "        t += 1\n",
    "        carry = 0\n",
    "    if t > 9: \n",
    "        R.append(t-10)\n",
    "        carry +=1\n",
    "        if i == len(A): R.append(1)  # 루프 마지막 carry 발생시 제일 앞에 1을 추가\n",
    "    else: R.append(t)\n",
    "\n",
    "# 1의 자리부터 출력하기 위해 순서 뒤집기\n",
    "R.reverse()                          \n",
    "\n",
    "# 출력\n",
    "for i in R:\n",
    "    print(i, end='')\n",
    "print()"
   ]
  },
  {
   "attachments": {},
   "cell_type": "markdown",
   "metadata": {},
   "source": [
    "### ACM 호텔\n",
    "- bronze 3\n",
    "- https://www.acmicpc.net/problem/10250\n",
    "---\n",
    "여러분이 작성할 프로그램은 초기에 모든 방이 비어있다고 가정하에 이 정책에 따라 N 번째로 도착한 손님에게 배정될 방 번호를 계산하는 프로그램이다. 첫 번째 손님은 101 호, 두 번째 손님은 201 호 등과 같이 배정한다. 그림 1 의 경우를 예로 들면, H = 6이므로 10 번째 손님은 402 호에 배정해야 한다."
   ]
  },
  {
   "cell_type": "code",
   "execution_count": null,
   "metadata": {},
   "outputs": [
    {
     "name": "stdout",
     "output_type": "stream",
     "text": [
      "402\n",
      "1203\n"
     ]
    }
   ],
   "source": [
    "import sys\n",
    "import math\n",
    "\n",
    "input = sys.stdin.readline\n",
    "for _ in range(int(input().rstrip())):\n",
    "    H, W, N = map(int,input().split())      # 호텔의 높이, 너비, n번째 손님의 방\n",
    "    floor = str(math.ceil(N/H))\n",
    "    floor = '0'+floor if len(floor)==1 else floor\n",
    "    ho =  H if N%H==0 else N%H\n",
    "    print(str(ho)+floor)"
   ]
  },
  {
   "attachments": {},
   "cell_type": "markdown",
   "metadata": {},
   "source": [
    "### 펠린드롭수"
   ]
  },
  {
   "cell_type": "code",
   "execution_count": null,
   "metadata": {},
   "outputs": [],
   "source": [
    "import sys\n",
    "input = sys.stdin.readline\n",
    "while True:\n",
    "    num = input().rstrip()\n",
    "    if num == '0': break\n",
    "    if num == num[::-1]:\n",
    "        print('yes')\n",
    "    else:\n",
    "        print('no')"
   ]
  },
  {
   "attachments": {},
   "cell_type": "markdown",
   "metadata": {},
   "source": [
    "### 체스판 다시 칠하기\n",
    "- silver 4\n",
    "- https://www.acmicpc.net/problem/1018\n",
    "---\n",
    "체스판은 검은색과 흰색이 번갈아서 칠해져 있어야 한다. 구체적으로, 각 칸이 검은색과 흰색 중 하나로 색칠되어 있고, 변을 공유하는 두 개의 사각형은 다른 색으로 칠해져 있어야 한다. 따라서 이 정의를 따르면 체스판을 색칠하는 경우는 두 가지뿐이다. 하나는 맨 왼쪽 위 칸이 흰색인 경우, 하나는 검은색인 경우이다.\n",
    "\n",
    "보드가 체스판처럼 칠해져 있다는 보장이 없어서, 지민이는 8×8 크기의 체스판으로 잘라낸 후에 몇 개의 정사각형을 다시 칠해야겠다고 생각했다. 당연히 8*8 크기는 아무데서나 골라도 된다. 지민이가 다시 칠해야 하는 정사각형의 최소 개수를 구하는 프로그램을 작성하시오."
   ]
  },
  {
   "cell_type": "code",
   "execution_count": 6,
   "metadata": {},
   "outputs": [
    {
     "name": "stdout",
     "output_type": "stream",
     "text": [
      "[[0, 0, 0, 0, 0, 0], [0, 0, 0, 0, 0, 0], [0, 0, 0, 0, 0, 0]]\n"
     ]
    }
   ],
   "source": [
    "# 방법 1) 완전 탐색으로 체크하기\n",
    "\n",
    "N,M = map(int,input().split())\n",
    "# 카운트 맵 리셋\n",
    "# 10x13 -> 3x6\n",
    "cnt_map = [[0 for _ in range(M-7)] for _ in range(N-7)]\n",
    "\n",
    "print(cnt_map)"
   ]
  }
 ],
 "metadata": {
  "kernelspec": {
   "display_name": "base",
   "language": "python",
   "name": "python3"
  },
  "language_info": {
   "codemirror_mode": {
    "name": "ipython",
    "version": 3
   },
   "file_extension": ".py",
   "mimetype": "text/x-python",
   "name": "python",
   "nbconvert_exporter": "python",
   "pygments_lexer": "ipython3",
   "version": "3.9.12"
  },
  "orig_nbformat": 4
 },
 "nbformat": 4,
 "nbformat_minor": 2
}
