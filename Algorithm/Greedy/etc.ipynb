{
 "cells": [
  {
   "attachments": {},
   "cell_type": "markdown",
   "metadata": {},
   "source": [
    "### 십자 뒤집기\n",
    "- https://codeup.kr/problem.php?id=6096"
   ]
  },
  {
   "cell_type": "code",
   "execution_count": null,
   "metadata": {},
   "outputs": [],
   "source": [
    "# 바둑판 배열 초기화\n",
    "d = [[ 0 for j in range(19)] for i in range(19)]\n",
    "\n",
    "# 입력\n",
    "for i in range(19):\n",
    "    a = input().split()\n",
    "    for j in range(19):\n",
    "        d[i][j] = int(a[j])\n",
    "\n",
    "# 뒤집기 횟수\n",
    "n = int(input())\n",
    "\n",
    "# 십자 뒤집기 좌표 입력\n",
    "for i in range(n):\n",
    "    x,y = input().split()\n",
    "    for j in range(19):\n",
    "        if d[int(x)-1][j] == 0: d[int(x)-1][j]=1\n",
    "        else: d[int(x)-1][j] =0\n",
    "    for j in range(19):\n",
    "        if d[j][int(y)-1] == 0: d[j][int(y)-1]=1\n",
    "        else: d[j][int(y)-1] = 0\n",
    "\n",
    "\n",
    "# 바둑판 출력\n",
    "for i in range(19):\n",
    "    for j in range(19):\n",
    "        if j == 18: print(d[i][j])\n",
    "        else: print(d[i][j], end=' ')"
   ]
  },
  {
   "attachments": {},
   "cell_type": "markdown",
   "metadata": {},
   "source": [
    "### 설탕과자 뽑기\n",
    "- https://codeup.kr/problem.php?id=6097"
   ]
  },
  {
   "cell_type": "code",
   "execution_count": null,
   "metadata": {},
   "outputs": [],
   "source": [
    "# 격자판의 세로(h), 가로(w) 입력\n",
    "h,w = input().split()\n",
    "h = int(h)\n",
    "w = int(w)\n",
    "\n",
    "# 격자판 그리기, 0으로 초기화\n",
    "dd = [[0 for j in range(w)] for i in range(h)]\n",
    "\n",
    "# 놓을 수 있는 막대의 개수(n)\n",
    "n = int(input())\n",
    "\n",
    "# 알고리즘\n",
    "for k in range(n):\n",
    "    # 각 막대의 길이(l), 방향(d), 좌표(x,y)입력  // d=0:가로 / d=1:세로\n",
    "    l,d,x,y = input().split()\n",
    "    l = int(l)\n",
    "    x = int(x)-1\n",
    "    y = int(y)-1\n",
    "\n",
    "    # 막대 놓기\n",
    "    if d == '0':    # 가로\n",
    "        for i in range(y, y+l):\n",
    "            dd[x][i] = 1\n",
    "    else:           # 세로\n",
    "        for i in range(x,x+l):\n",
    "            dd[i][y] = 1\n",
    "\n",
    "# 격자판 결과 출력\n",
    "for i in range(h):\n",
    "    for j in range(w):\n",
    "        if j == int(w)-1: print(dd[i][j])\n",
    "        else: print(dd[i][j], end=' ')"
   ]
  }
 ],
 "metadata": {
  "language_info": {
   "name": "python"
  },
  "orig_nbformat": 4
 },
 "nbformat": 4,
 "nbformat_minor": 2
}
