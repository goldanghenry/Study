{
 "cells": [
  {
   "metadata": {},
   "cell_type": "markdown",
   "source": "# 코딩 테스트 테크니컬 python tip"
  },
  {
   "metadata": {},
   "cell_type": "markdown",
   "source": [
    "## 직접 input 받을 때\n",
    "일반적으로 list, map 활용"
   ]
  },
  {
   "metadata": {},
   "cell_type": "code",
   "outputs": [],
   "execution_count": null,
   "source": [
    "# 공백을 기준으로 구분된 데이터를 입력 받을 때\n",
    "data = list(map(int, input().split()))\n",
    "\n",
    "# 공백을 기준으로 구분된 데이터가 많지 않을 때\n",
    "a,b,c = map(int, input().split())\n",
    "\n",
    "# 빠른 입력을 위해 시스템 입출력 함수로 바인딩\n",
    "import sys\n",
    "input = sys.stdin.readline\n",
    "print = sys.stdout.write\n",
    "\n",
    "# realine의 경우, 개행문자 '\\n' 까지 읽어들이기 때문에, .rstrip() 으로 제거\n",
    "n = input().rstrip()\n",
    "\n",
    "# stdout 의 경우, 출력 방식 변경\n",
    "print(\"%s\\n\" % \"123\") # 123\n",
    "print(\"%s\\n\" % (\"12\" + \"3\"))  # 123\n",
    "print(\"%d + %d = %d\\n\" % (1, 2, 1+2))   # 1 + 2 = 3\n"
   ]
  },
  {
   "metadata": {},
   "cell_type": "markdown",
   "source": "## 문자열 아스키코드, 대소 문자"
  },
  {
   "metadata": {
    "ExecuteTime": {
     "end_time": "2024-11-28T15:13:00.079300Z",
     "start_time": "2024-11-28T15:13:00.071538Z"
    }
   },
   "cell_type": "code",
   "source": [
    "import string\n",
    "string.ascii_lowercase  # 소문자\n",
    "string.ascii_uppercase  # 대문자\n",
    "string.ascii_letters    # 소문자+대문자\n",
    "string.digits           # 숫자 0-9\n",
    "\n",
    "# 대소문자 체크\n",
    "print(str.isalpha('a'))\n",
    "print(str.isupper('a'))\n",
    "print(str.islower('a'))\n",
    "\n",
    "# 정렬\n",
    "s = '가나다라'\n",
    "n = 7\n",
    "\n",
    "s.ljust(n)  # 좌측 정렬\n",
    "s.rjust(n)  # 우측 정렬\n",
    "s.center(n) # 가운데 정렬"
   ],
   "outputs": [
    {
     "name": "stdout",
     "output_type": "stream",
     "text": [
      "True\n",
      "False\n",
      "True\n"
     ]
    },
    {
     "data": {
      "text/plain": [
       "'  가나다라 '"
      ]
     },
     "execution_count": 5,
     "metadata": {},
     "output_type": "execute_result"
    }
   ],
   "execution_count": 5
  },
  {
   "metadata": {},
   "cell_type": "markdown",
   "source": "## zip 활용, 2차원 배열, 열과 행 뒤집기"
  },
  {
   "metadata": {
    "ExecuteTime": {
     "end_time": "2024-11-28T15:16:04.711398Z",
     "start_time": "2024-11-28T15:16:04.706421Z"
    }
   },
   "cell_type": "code",
   "source": [
    "my_list = [[1,2,3], [4,5,6], [7,8,9]]\n",
    "new_list = [[],[],[]]\n",
    "print(my_list)\n",
    "\n",
    "# 가장 직관적인 방법\n",
    "for i in range(len(my_list)):\n",
    "    for j in range(len(my_list[i])):\n",
    "        new_list[i].append(my_list[i][j])\n",
    "\n",
    "# zip 이용\n",
    "# *my_list 언팩 -> [1,2,3] [4,5,6] [7,8,9] \n",
    "# -> zip 을 사용해 0번쨰 index 부터 하나씩 꺼내기\n",
    "# -> map(list, ) 를 통해 원소를 리스트로 묶기\n",
    "new_list2 = list(map(list, zip(*my_list)))"
   ],
   "outputs": [
    {
     "name": "stdout",
     "output_type": "stream",
     "text": [
      "[[1, 2, 3], [4, 5, 6], [7, 8, 9]]\n"
     ]
    }
   ],
   "execution_count": 8
  },
  {
   "metadata": {},
   "cell_type": "markdown",
   "source": "## 리스트에서 문자 개수 카운트"
  },
  {
   "metadata": {
    "ExecuteTime": {
     "end_time": "2024-11-28T16:24:31.645419Z",
     "start_time": "2024-11-28T16:24:31.639204Z"
    }
   },
   "cell_type": "code",
   "source": [
    "import collections\n",
    "\n",
    "my_list.count([1,2,3])"
   ],
   "outputs": [
    {
     "data": {
      "text/plain": [
       "1"
      ]
     },
     "execution_count": 9,
     "metadata": {},
     "output_type": "execute_result"
    }
   ],
   "execution_count": 9
  },
  {
   "metadata": {},
   "cell_type": "markdown",
   "source": "## 순열과 조합"
  },
  {
   "metadata": {
    "ExecuteTime": {
     "end_time": "2024-11-28T16:42:33.131719Z",
     "start_time": "2024-11-28T16:42:33.124386Z"
    }
   },
   "cell_type": "code",
   "source": [
    "# 순열\n",
    "from itertools import permutations\n",
    "items = list(map(str, range(1,6)))\n",
    "print('permutations')\n",
    "print(list(permutations(items, 2)))\n",
    "print('------------------------------------')\n",
    "\n",
    "# 조합\n",
    "from itertools import combinations\n",
    "print('combinations')\n",
    "print(list(combinations(items, 2)))\n",
    "print('------------------------------------')\n",
    "# 곱집합\n",
    "from itertools import product\n",
    "print('cartesian product')\n",
    "iterable1 = 'ABCD'\n",
    "iterable2 = 'xy'\n",
    "iterable3 = '1234'\n",
    "print(list(product(iterable1, iterable2, iterable3)))\n"
   ],
   "outputs": [
    {
     "name": "stdout",
     "output_type": "stream",
     "text": [
      "permutations\n",
      "[('1', '2'), ('1', '3'), ('1', '4'), ('1', '5'), ('2', '1'), ('2', '3'), ('2', '4'), ('2', '5'), ('3', '1'), ('3', '2'), ('3', '4'), ('3', '5'), ('4', '1'), ('4', '2'), ('4', '3'), ('4', '5'), ('5', '1'), ('5', '2'), ('5', '3'), ('5', '4')]\n",
      "------------------------------------\n",
      "combinations\n",
      "[('1', '2'), ('1', '3'), ('1', '4'), ('1', '5'), ('2', '3'), ('2', '4'), ('2', '5'), ('3', '4'), ('3', '5'), ('4', '5')]\n",
      "------------------------------------\n",
      "cartesian product\n",
      "[('A', 'x', '1'), ('A', 'x', '2'), ('A', 'x', '3'), ('A', 'x', '4'), ('A', 'y', '1'), ('A', 'y', '2'), ('A', 'y', '3'), ('A', 'y', '4'), ('B', 'x', '1'), ('B', 'x', '2'), ('B', 'x', '3'), ('B', 'x', '4'), ('B', 'y', '1'), ('B', 'y', '2'), ('B', 'y', '3'), ('B', 'y', '4'), ('C', 'x', '1'), ('C', 'x', '2'), ('C', 'x', '3'), ('C', 'x', '4'), ('C', 'y', '1'), ('C', 'y', '2'), ('C', 'y', '3'), ('C', 'y', '4'), ('D', 'x', '1'), ('D', 'x', '2'), ('D', 'x', '3'), ('D', 'x', '4'), ('D', 'y', '1'), ('D', 'y', '2'), ('D', 'y', '3'), ('D', 'y', '4')]\n"
     ]
    }
   ],
   "execution_count": 16
  }
 ],
 "metadata": {
  "kernelspec": {
   "display_name": "base",
   "language": "python",
   "name": "python3"
  },
  "language_info": {
   "codemirror_mode": {
    "name": "ipython",
    "version": 3
   },
   "file_extension": ".py",
   "mimetype": "text/x-python",
   "name": "python",
   "nbconvert_exporter": "python",
   "pygments_lexer": "ipython3",
   "version": "3.9.18"
  }
 },
 "nbformat": 4,
 "nbformat_minor": 2
}
