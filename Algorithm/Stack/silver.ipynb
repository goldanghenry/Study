{
 "cells": [
  {
   "attachments": {},
   "cell_type": "markdown",
   "metadata": {},
   "source": [
    "## 백준"
   ]
  },
  {
   "attachments": {},
   "cell_type": "markdown",
   "metadata": {},
   "source": [
    "### 막대기\n",
    "- bronze 2\n",
    "- https://www.acmicpc.net/problem/17608\n",
    "---\n",
    "아래 그림처럼 높이만 다르고 (같은 높이의 막대기가 있을 수 있음) 모양이 같은 막대기를 일렬로 세운 후, 왼쪽부터 차례로 번호를 붙인다. 각 막대기의 높이는 그림에서 보인 것처럼 순서대로 6, 9, 7, 6, 4, 6 이다. 일렬로 세워진 막대기를 오른쪽에서 보면 보이는 막대기가 있고 보이지 않는 막대기가 있다. 즉, 지금 보이는 막대기보다 뒤에 있고 높이가 높은 것이 보이게 된다. 예를 들어, 그림과 같은 경우엔 3개(6번, 3번, 2번)의 막대기가 보인다.\n",
    "\n",
    "N개의 막대기에 대한 높이 정보가 주어질 때, 오른쪽에서 보아서 몇 개가 보이는지를 알아내는 프로그램을 작성하려고 한다."
   ]
  },
  {
   "cell_type": "code",
   "execution_count": 9,
   "metadata": {},
   "outputs": [],
   "source": [
    "import sys\n",
    "input=sys.stdin.readline\n",
    "N = int(input())\n",
    "\n",
    "stic_lst = [int(input()) for _ in range(N)]\n",
    "\n",
    "max_height = 0\n",
    "count = 0\n",
    "for s in stic_lst[::-1]:\n",
    "    if max_height==0 or max_height < s:\n",
    "        max_height = s\n",
    "        count+=1\n",
    "print(count)\n"
   ]
  },
  {
   "attachments": {},
   "cell_type": "markdown",
   "metadata": {},
   "source": [
    "### 단어순서 뒤집기\n",
    "- bronze 1\n",
    "- https://www.acmicpc.net/problem/12605\n",
    "---\n",
    "스페이스로 띄어쓰기 된 단어들의 리스트가 주어질때, 단어들을 반대 순서로 뒤집어라. 각 라인은 w개의 영단어로 이루어져 있으며, 총 L개의 알파벳을 가진다. 각 행은 알파벳과 스페이스로만 이루어져 있다. 단어 사이에는 하나의 스페이스만 들어간다."
   ]
  },
  {
   "cell_type": "code",
   "execution_count": 3,
   "metadata": {},
   "outputs": [
    {
     "name": "stdout",
     "output_type": "stream",
     "text": [
      "Case #1: test a is this\n",
      "Case #2: foobar\n",
      "Case #3: base your all\n"
     ]
    }
   ],
   "source": [
    "import sys\n",
    "\n",
    "def solution(strings):\n",
    "    for idx, string in enumerate(strings):\n",
    "        string = \" \".join(string[::-1])\n",
    "        print(f'Case #{idx+1}: {string}')\n",
    "\n",
    "input=sys.stdin.readline\n",
    "n = int(input())\n",
    "strings = [input().split() for _ in range(n)]\n",
    "\n",
    "solution(strings)"
   ]
  },
  {
   "attachments": {},
   "cell_type": "markdown",
   "metadata": {},
   "source": [
    "# Daily Temperatures\n",
    "\n",
    "매일의 온도를 나타내는 int형 배열 temperatures가 주어진다. answer 배열의 원소 answer[i]는 i번째 날의 온도보다 더 따뜻해지기까지 며칠을 기다려야 하는지 나타낸다. 만약 더 따뜻해지는 날이 없다면 answer[i] == 0 이다. answer 배열을 반환하는 함수를 구현하시오.\n",
    "\n",
    "제약조건\n",
    "1 <= temperatures.length <= 10^5\n",
    "30 <= temperatures[i] <= 100\n",
    "\n",
    "input\n",
    "temperatures = [73, 74, 75, 71, 69, 72, 76, 73]\n",
    "\n",
    "output\n",
    "[1, 1, 4, 2, 1, 1, 0, 0]\n",
    "\n"
   ]
  },
  {
   "cell_type": "code",
   "execution_count": null,
   "metadata": {},
   "outputs": [
    {
     "data": {
      "text/plain": [
       "[1, 1, 4, 2, 1, 1, 0, 0]"
      ]
     },
     "metadata": {},
     "output_type": "display_data"
    }
   ],
   "source": [
    "def solution(temperatures):\n",
    "    answer = [0]*len(temperatures)\n",
    "    stack = []\n",
    "\n",
    "    for idx, temp in enumerate(temperatures):\n",
    "        while stack and stack[-1][1] < temp:\n",
    "            pre_idx, _ = stack.pop()\n",
    "            answer[pre_idx] = idx - pre_idx\n",
    "\n",
    "        stack.append((idx,temp))\n",
    "    return answer\n",
    "\n",
    "temperatures = [73, 74, 75, 71, 69, 72, 76, 73]\n",
    "solution(temperatures)"
   ]
  }
 ],
 "metadata": {
  "kernelspec": {
   "display_name": "Python 3",
   "language": "python",
   "name": "python3"
  },
  "language_info": {
   "codemirror_mode": {
    "name": "ipython",
    "version": 3
   },
   "file_extension": ".py",
   "mimetype": "text/x-python",
   "name": "python",
   "nbconvert_exporter": "python",
   "pygments_lexer": "ipython3",
   "version": "3.10.6"
  },
  "orig_nbformat": 4
 },
 "nbformat": 4,
 "nbformat_minor": 2
}
