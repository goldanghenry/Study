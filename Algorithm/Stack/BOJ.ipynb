{
 "cells": [
  {
   "attachments": {},
   "cell_type": "markdown",
   "metadata": {},
   "source": [
    "# 백준"
   ]
  },
  {
   "attachments": {},
   "cell_type": "markdown",
   "metadata": {},
   "source": [
    "### 막대기\n",
    "- bronze 2\n",
    "- https://www.acmicpc.net/problem/17608\n",
    "---\n",
    "아래 그림처럼 높이만 다르고 (같은 높이의 막대기가 있을 수 있음) 모양이 같은 막대기를 일렬로 세운 후, 왼쪽부터 차례로 번호를 붙인다. 각 막대기의 높이는 그림에서 보인 것처럼 순서대로 6, 9, 7, 6, 4, 6 이다. 일렬로 세워진 막대기를 오른쪽에서 보면 보이는 막대기가 있고 보이지 않는 막대기가 있다. 즉, 지금 보이는 막대기보다 뒤에 있고 높이가 높은 것이 보이게 된다. 예를 들어, 그림과 같은 경우엔 3개(6번, 3번, 2번)의 막대기가 보인다.\n",
    "\n",
    "N개의 막대기에 대한 높이 정보가 주어질 때, 오른쪽에서 보아서 몇 개가 보이는지를 알아내는 프로그램을 작성하려고 한다."
   ]
  },
  {
   "cell_type": "code",
   "execution_count": 9,
   "metadata": {},
   "outputs": [],
   "source": [
    "import sys\n",
    "input=sys.stdin.readline\n",
    "N = int(input())\n",
    "\n",
    "stic_lst = [int(input()) for _ in range(N)]\n",
    "\n",
    "max_height = 0\n",
    "count = 0\n",
    "for s in stic_lst[::-1]:\n",
    "    if max_height==0 or max_height < s:\n",
    "        max_height = s\n",
    "        count+=1\n",
    "print(count)\n"
   ]
  },
  {
   "attachments": {},
   "cell_type": "markdown",
   "metadata": {},
   "source": [
    "### 단어순서 뒤집기\n",
    "- bronze 1\n",
    "- https://www.acmicpc.net/problem/12605\n",
    "---\n",
    "스페이스로 띄어쓰기 된 단어들의 리스트가 주어질때, 단어들을 반대 순서로 뒤집어라. 각 라인은 w개의 영단어로 이루어져 있으며, 총 L개의 알파벳을 가진다. 각 행은 알파벳과 스페이스로만 이루어져 있다. 단어 사이에는 하나의 스페이스만 들어간다."
   ]
  },
  {
   "cell_type": "code",
   "execution_count": 3,
   "metadata": {},
   "outputs": [
    {
     "name": "stdout",
     "output_type": "stream",
     "text": [
      "Case #1: test a is this\n",
      "Case #2: foobar\n",
      "Case #3: base your all\n"
     ]
    }
   ],
   "source": [
    "import sys\n",
    "\n",
    "def solution(strings):\n",
    "    for idx, string in enumerate(strings):\n",
    "        string = \" \".join(string[::-1])\n",
    "        print(f'Case #{idx+1}: {string}')\n",
    "\n",
    "input=sys.stdin.readline\n",
    "n = int(input())\n",
    "strings = [input().split() for _ in range(n)]\n",
    "\n",
    "solution(strings)"
   ]
  },
  {
   "attachments": {},
   "cell_type": "markdown",
   "metadata": {},
   "source": [
    "### Daily Temperatures\n",
    "\n",
    "매일의 온도를 나타내는 int형 배열 temperatures가 주어진다. answer 배열의 원소 answer[i]는 i번째 날의 온도보다 더 따뜻해지기까지 며칠을 기다려야 하는지 나타낸다. 만약 더 따뜻해지는 날이 없다면 answer[i] == 0 이다. answer 배열을 반환하는 함수를 구현하시오.\n",
    "\n",
    "제약조건\n",
    "1 <= temperatures.length <= 10^5\n",
    "30 <= temperatures[i] <= 100\n",
    "\n",
    "input\n",
    "temperatures = [73, 74, 75, 71, 69, 72, 76, 73]\n",
    "\n",
    "output\n",
    "[1, 1, 4, 2, 1, 1, 0, 0]\n",
    "\n"
   ]
  },
  {
   "cell_type": "code",
   "execution_count": null,
   "metadata": {},
   "outputs": [
    {
     "data": {
      "text/plain": [
       "[1, 1, 4, 2, 1, 1, 0, 0]"
      ]
     },
     "metadata": {},
     "output_type": "display_data"
    }
   ],
   "source": [
    "def solution(temperatures):\n",
    "    answer = [0]*len(temperatures)\n",
    "    stack = []\n",
    "\n",
    "    for idx, temp in enumerate(temperatures):\n",
    "        while stack and stack[-1][1] < temp:\n",
    "            pre_idx, _ = stack.pop()\n",
    "            answer[pre_idx] = idx - pre_idx\n",
    "\n",
    "        stack.append((idx,temp))\n",
    "    return answer\n",
    "\n",
    "temperatures = [73, 74, 75, 71, 69, 72, 76, 73]\n",
    "solution(temperatures)"
   ]
  },
  {
   "attachments": {},
   "cell_type": "markdown",
   "metadata": {},
   "source": [
    "### 괄호\n",
    "- silver 4\n",
    "- https://www.acmicpc.net/problem/9012\n",
    "---\n",
    "괄호 문자열(Parenthesis String, PS)은 두 개의 괄호 기호인 ‘(’ 와 ‘)’ 만으로 구성되어 있는 문자열이다. 그 중에서 괄호의 모양이 바르게 구성된 문자열을 올바른 괄호 문자열(Valid PS, VPS)이라고 부른다. 한 쌍의 괄호 기호로 된 “( )” 문자열은 기본 VPS 이라고 부른다. 만일 x 가 VPS 라면 이것을 하나의 괄호에 넣은 새로운 문자열 “(x)”도 VPS 가 된다. 그리고 두 VPS x 와 y를 접합(concatenation)시킨 새로운 문자열 xy도 VPS 가 된다. 예를 들어 “(())()”와 “((()))” 는 VPS 이지만 “(()(”, “(())()))” , 그리고 “(()” 는 모두 VPS 가 아닌 문자열이다. \n",
    "\n",
    "여러분은 입력으로 주어진 괄호 문자열이 VPS 인지 아닌지를 판단해서 그 결과를 YES 와 NO 로 나타내어야 한다. "
   ]
  },
  {
   "cell_type": "code",
   "execution_count": 2,
   "metadata": {},
   "outputs": [
    {
     "name": "stdout",
     "output_type": "stream",
     "text": [
      "No\n",
      "No\n",
      "YES\n",
      "No\n",
      "YES\n",
      "No\n"
     ]
    }
   ],
   "source": [
    "import sys\n",
    "input = sys.stdin.readline\n",
    "n = int(input())\n",
    "\n",
    "for _ in range(n):\n",
    "    stack = []\n",
    "    s = input()\n",
    "    check = True\n",
    "\n",
    "    for ch in s:\n",
    "        if ch == '(':\n",
    "            stack.append(ch)\n",
    "        if ch == ')':\n",
    "            if stack:\n",
    "                stack.pop()\n",
    "            else:\n",
    "                check = False\n",
    "                break\n",
    "    if not stack and check:\n",
    "        print('YES')\n",
    "    else:\n",
    "        print('NO')"
   ]
  },
  {
   "attachments": {},
   "cell_type": "markdown",
   "metadata": {},
   "source": [
    "### 기술 연계마스터 임스\n",
    "- Silver 5\n",
    "- https://www.acmicpc.net/problem/25497\n",
    "---\n",
    "임스는 연계 기술을 사용하는 게임을 플레이 중에 있다. 연계 기술은 사전 기술과 본 기술의 두 개의 개별 기술을 순서대로 사용해야만 정상적으로 사용 가능한 기술을 말한다.\n",
    "\n",
    "하나의 사전 기술은 하나의 본 기술과만 연계해서 사용할 수 있으며, 연계할 사전 기술 없이 본 기술을 사용했을 경우에는 게임의 스크립트가 꼬여서 이후 사용하는 기술들이 정상적으로 발동되지 않는다. 그렇지만 반드시 사전 기술을 사용한 직후에 본 기술을 사용할 필요는 없으며, 중간에 다른 기술을 사용하여도 연계는 정상적으로 이루어진다.\n",
    "\n",
    "임스가 사용할 수 있는 기술에는 \n",
    "$1$~\n",
    "$9$, \n",
    "$L$, \n",
    "$R$, \n",
    "$S$, \n",
    "$K$가 있다. \n",
    "$1$~\n",
    "$9$는 연계 없이 사용할 수 있는 기술이고, \n",
    "$L$은 \n",
    "$R$의 사전 기술, \n",
    "$S$은 \n",
    "$K$의 사전 기술이다.\n",
    "\n",
    "임스가 정해진 순서대로 \n",
    "$N$개의 기술을 사용할 때, 기술이 몇 번이나 정상적으로 발동하는지를 구해보자.\n",
    "\n",
    "단, 연계 기술은 사전 기술과 본 기술 모두 정상적으로 발동되었을 때만 하나의 기술이 발동된 것으로 친다."
   ]
  },
  {
   "cell_type": "code",
   "execution_count": 5,
   "metadata": {},
   "outputs": [
    {
     "data": {
      "text/plain": [
       "1"
      ]
     },
     "execution_count": 5,
     "metadata": {},
     "output_type": "execute_result"
    }
   ],
   "source": [
    "def solution():\n",
    "    #input = sys.stdin.readline\n",
    "    n = int(input())\n",
    "    typing_lst = input()\n",
    "    stack_L = []\n",
    "    stack_S = []\n",
    "    count = 0\n",
    "    for t in typing_lst:\n",
    "        if t=='L': stack_L.append(t)\n",
    "        elif t=='S': stack_S.append(t)\n",
    "        \n",
    "        elif t=='R':\n",
    "            if not stack_L: break\n",
    "            else: stack_L.pop(); count+=1\n",
    "        elif t=='K':\n",
    "            if not stack_S: break\n",
    "            else: stack_S.pop(); count+=1\n",
    "        else:\n",
    "            count+=1\n",
    "        \n",
    "    return count\n",
    "\n",
    "print(solution())"
   ]
  }
 ],
 "metadata": {
  "kernelspec": {
   "display_name": "Python 3",
   "language": "python",
   "name": "python3"
  },
  "language_info": {
   "codemirror_mode": {
    "name": "ipython",
    "version": 3
   },
   "file_extension": ".py",
   "mimetype": "text/x-python",
   "name": "python",
   "nbconvert_exporter": "python",
   "pygments_lexer": "ipython3",
   "version": "3.9.12"
  },
  "orig_nbformat": 4
 },
 "nbformat": 4,
 "nbformat_minor": 2
}
