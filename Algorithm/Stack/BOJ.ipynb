{
 "cells": [
  {
   "attachments": {},
   "cell_type": "markdown",
   "metadata": {},
   "source": [
    "# 백준"
   ]
  },
  {
   "attachments": {},
   "cell_type": "markdown",
   "metadata": {},
   "source": [
    "### 막대기\n",
    "- Bronze 2\n",
    "- https://www.acmicpc.net/problem/17608\n",
    "---\n",
    "아래 그림처럼 높이만 다르고 (같은 높이의 막대기가 있을 수 있음) 모양이 같은 막대기를 일렬로 세운 후, 왼쪽부터 차례로 번호를 붙인다. 각 막대기의 높이는 그림에서 보인 것처럼 순서대로 6, 9, 7, 6, 4, 6 이다. 일렬로 세워진 막대기를 오른쪽에서 보면 보이는 막대기가 있고 보이지 않는 막대기가 있다. 즉, 지금 보이는 막대기보다 뒤에 있고 높이가 높은 것이 보이게 된다. 예를 들어, 그림과 같은 경우엔 3개(6번, 3번, 2번)의 막대기가 보인다.\n",
    "\n",
    "N개의 막대기에 대한 높이 정보가 주어질 때, 오른쪽에서 보아서 몇 개가 보이는지를 알아내는 프로그램을 작성하려고 한다."
   ]
  },
  {
   "cell_type": "code",
   "execution_count": 9,
   "metadata": {},
   "outputs": [],
   "source": [
    "import sys\n",
    "input=sys.stdin.readline\n",
    "N = int(input())\n",
    "\n",
    "stic_lst = [int(input()) for _ in range(N)]\n",
    "\n",
    "max_height = 0\n",
    "count = 0\n",
    "for s in stic_lst[::-1]:\n",
    "    if max_height==0 or max_height < s:\n",
    "        max_height = s\n",
    "        count+=1\n",
    "print(count)\n"
   ]
  },
  {
   "attachments": {},
   "cell_type": "markdown",
   "metadata": {},
   "source": [
    "### 단어순서 뒤집기\n",
    "- Bronze 1\n",
    "- https://www.acmicpc.net/problem/12605\n",
    "---\n",
    "스페이스로 띄어쓰기 된 단어들의 리스트가 주어질때, 단어들을 반대 순서로 뒤집어라. 각 라인은 w개의 영단어로 이루어져 있으며, 총 L개의 알파벳을 가진다. 각 행은 알파벳과 스페이스로만 이루어져 있다. 단어 사이에는 하나의 스페이스만 들어간다."
   ]
  },
  {
   "cell_type": "code",
   "execution_count": 3,
   "metadata": {},
   "outputs": [
    {
     "name": "stdout",
     "output_type": "stream",
     "text": [
      "Case #1: test a is this\n",
      "Case #2: foobar\n",
      "Case #3: base your all\n"
     ]
    }
   ],
   "source": [
    "import sys\n",
    "\n",
    "def solution(strings):\n",
    "    for idx, string in enumerate(strings):\n",
    "        string = \" \".join(string[::-1])\n",
    "        print(f'Case #{idx+1}: {string}')\n",
    "\n",
    "input=sys.stdin.readline\n",
    "n = int(input())\n",
    "strings = [input().split() for _ in range(n)]\n",
    "\n",
    "solution(strings)"
   ]
  },
  {
   "attachments": {},
   "cell_type": "markdown",
   "metadata": {},
   "source": [
    "### 괄호\n",
    "- Silver 4\n",
    "- https://www.acmicpc.net/problem/9012\n",
    "---\n",
    "괄호 문자열(Parenthesis String, PS)은 두 개의 괄호 기호인 ‘(’ 와 ‘)’ 만으로 구성되어 있는 문자열이다. 그 중에서 괄호의 모양이 바르게 구성된 문자열을 올바른 괄호 문자열(Valid PS, VPS)이라고 부른다. 한 쌍의 괄호 기호로 된 “( )” 문자열은 기본 VPS 이라고 부른다. 만일 x 가 VPS 라면 이것을 하나의 괄호에 넣은 새로운 문자열 “(x)”도 VPS 가 된다. 그리고 두 VPS x 와 y를 접합(concatenation)시킨 새로운 문자열 xy도 VPS 가 된다. 예를 들어 “(())()”와 “((()))” 는 VPS 이지만 “(()(”, “(())()))” , 그리고 “(()” 는 모두 VPS 가 아닌 문자열이다. \n",
    "\n",
    "여러분은 입력으로 주어진 괄호 문자열이 VPS 인지 아닌지를 판단해서 그 결과를 YES 와 NO 로 나타내어야 한다. "
   ]
  },
  {
   "cell_type": "code",
   "execution_count": 2,
   "metadata": {},
   "outputs": [
    {
     "name": "stdout",
     "output_type": "stream",
     "text": [
      "No\n",
      "No\n",
      "YES\n",
      "No\n",
      "YES\n",
      "No\n"
     ]
    }
   ],
   "source": [
    "import sys\n",
    "input = sys.stdin.readline\n",
    "n = int(input())\n",
    "\n",
    "for _ in range(n):\n",
    "    stack = []\n",
    "    s = input()\n",
    "    check = True\n",
    "\n",
    "    for ch in s:\n",
    "        if ch == '(':\n",
    "            stack.append(ch)\n",
    "        if ch == ')':\n",
    "            if stack:\n",
    "                stack.pop()\n",
    "            else:\n",
    "                check = False\n",
    "                break\n",
    "    if not stack and check:\n",
    "        print('YES')\n",
    "    else:\n",
    "        print('NO')"
   ]
  },
  {
   "attachments": {},
   "cell_type": "markdown",
   "metadata": {},
   "source": [
    "### 기술 연계마스터 임스\n",
    "- Silver 5\n",
    "- https://www.acmicpc.net/problem/25497\n",
    "---\n",
    "임스는 연계 기술을 사용하는 게임을 플레이 중에 있다. 연계 기술은 사전 기술과 본 기술의 두 개의 개별 기술을 순서대로 사용해야만 정상적으로 사용 가능한 기술을 말한다.\n",
    "\n",
    "하나의 사전 기술은 하나의 본 기술과만 연계해서 사용할 수 있으며, 연계할 사전 기술 없이 본 기술을 사용했을 경우에는 게임의 스크립트가 꼬여서 이후 사용하는 기술들이 정상적으로 발동되지 않는다. 그렇지만 반드시 사전 기술을 사용한 직후에 본 기술을 사용할 필요는 없으며, 중간에 다른 기술을 사용하여도 연계는 정상적으로 이루어진다.\n",
    "\n",
    "임스가 사용할 수 있는 기술에는 \n",
    "$1$~\n",
    "$9$, \n",
    "$L$, \n",
    "$R$, \n",
    "$S$, \n",
    "$K$가 있다. \n",
    "$1$~\n",
    "$9$는 연계 없이 사용할 수 있는 기술이고, \n",
    "$L$은 \n",
    "$R$의 사전 기술, \n",
    "$S$은 \n",
    "$K$의 사전 기술이다.\n",
    "\n",
    "임스가 정해진 순서대로 \n",
    "$N$개의 기술을 사용할 때, 기술이 몇 번이나 정상적으로 발동하는지를 구해보자.\n",
    "\n",
    "단, 연계 기술은 사전 기술과 본 기술 모두 정상적으로 발동되었을 때만 하나의 기술이 발동된 것으로 친다."
   ]
  },
  {
   "cell_type": "code",
   "execution_count": 5,
   "metadata": {},
   "outputs": [
    {
     "data": {
      "text/plain": [
       "1"
      ]
     },
     "execution_count": 5,
     "metadata": {},
     "output_type": "execute_result"
    }
   ],
   "source": [
    "def solution():\n",
    "    #input = sys.stdin.readline\n",
    "    n = int(input())\n",
    "    typing_lst = input()\n",
    "    stack_L = []\n",
    "    stack_S = []\n",
    "    count = 0\n",
    "    for t in typing_lst:\n",
    "        if t=='L': stack_L.append(t)\n",
    "        elif t=='S': stack_S.append(t)\n",
    "        \n",
    "        elif t=='R':\n",
    "            if not stack_L: break\n",
    "            else: stack_L.pop(); count+=1\n",
    "        elif t=='K':\n",
    "            if not stack_S: break\n",
    "            else: stack_S.pop(); count+=1\n",
    "        else:\n",
    "            count+=1\n",
    "        \n",
    "    return count\n",
    "\n",
    "print(solution())"
   ]
  },
  {
   "attachments": {},
   "cell_type": "markdown",
   "metadata": {},
   "source": [
    "### 스택\n",
    "- Silver 4\n",
    "- https://www.acmicpc.net/problem/10828\n",
    "---\n",
    "정수를 저장하는 스택을 구현한 다음, 입력으로 주어지는 명령을 처리하는 프로그램을 작성하시오.\n",
    "\n",
    "명령은 총 다섯 가지이다.\n",
    "\n",
    "push X: 정수 X를 스택에 넣는 연산이다.\n",
    "pop: 스택에서 가장 위에 있는 정수를 빼고, 그 수를 출력한다. 만약 스택에 들어있는 정수가 없는 경우에는 -1을 출력한다.\n",
    "size: 스택에 들어있는 정수의 개수를 출력한다.\n",
    "empty: 스택이 비어있으면 1, 아니면 0을 출력한다.\n",
    "top: 스택의 가장 위에 있는 정수를 출력한다. 만약 스택에 들어있는 정수가 없는 경우에는 -1을 출력한다."
   ]
  },
  {
   "cell_type": "code",
   "execution_count": 11,
   "metadata": {},
   "outputs": [
    {
     "name": "stdout",
     "output_type": "stream",
     "text": [
      "-1\n",
      "-1\n",
      "123\n",
      "123\n",
      "-1\n",
      "-1\n"
     ]
    }
   ],
   "source": [
    "import sys\n",
    "class Stack:\n",
    "    def __init__(self):\n",
    "        self.stack=[]\n",
    "\n",
    "    def push(self, item):\n",
    "        self.stack.append(item)\n",
    "\n",
    "    def pop(self):\n",
    "        return self.stack.pop() if not self.empty() else -1\n",
    "    \n",
    "    def size(self):\n",
    "        return len(self.stack)\n",
    "    \n",
    "    def empty(self):\n",
    "        return 0 if self.stack else 1\n",
    "    \n",
    "    def top(self):\n",
    "        return self.stack[-1] if not self.empty() else -1\n",
    "        \n",
    "def solution():\n",
    "    input = sys.stdin.readline\n",
    "    N = int(input())\n",
    "    stack = Stack()\n",
    "    for _ in range(N):\n",
    "        cmd = input()\n",
    "        if cmd[:2]=='pu': stack.push(int(cmd.split()[1]))\n",
    "        elif cmd[:2]=='po': print(stack.pop())\n",
    "        elif cmd[0]=='t': print(stack.top())\n",
    "        elif cmd[0]=='s': print(stack.size())\n",
    "        elif cmd[0]=='e': print(stack.empty())\n",
    "    \n",
    "solution()"
   ]
  },
  {
   "attachments": {},
   "cell_type": "markdown",
   "metadata": {},
   "source": [
    "### 제로\n",
    "- Silver 4\n",
    "- https://www.acmicpc.net/problem/10773\n",
    "---\n",
    "나코더 기장 재민이는 동아리 회식을 준비하기 위해서 장부를 관리하는 중이다.\n",
    "\n",
    "재현이는 재민이를 도와서 돈을 관리하는 중인데, 애석하게도 항상 정신없는 재현이는 돈을 실수로 잘못 부르는 사고를 치기 일쑤였다.\n",
    "\n",
    "재현이는 잘못된 수를 부를 때마다 0을 외쳐서, 가장 최근에 재민이가 쓴 수를 지우게 시킨다.\n",
    "\n",
    "재민이는 이렇게 모든 수를 받아 적은 후 그 수의 합을 알고 싶어 한다. 재민이를 도와주자!"
   ]
  },
  {
   "cell_type": "code",
   "execution_count": 3,
   "metadata": {},
   "outputs": [
    {
     "name": "stdout",
     "output_type": "stream",
     "text": [
      "7\n"
     ]
    }
   ],
   "source": [
    "import sys\n",
    "\n",
    "#input = sys.stdin.readline\n",
    "N = int(input())\n",
    "stack = []\n",
    "for _ in range(N):\n",
    "    item = int(input())\n",
    "    if item:\n",
    "        stack.append(item)\n",
    "    else:\n",
    "        stack.pop()\n",
    "\n",
    "print(sum(stack))"
   ]
  },
  {
   "attachments": {},
   "cell_type": "markdown",
   "metadata": {},
   "source": [
    "#### 균형잡힌 세상\n",
    "- Silver 4\n",
    "- https://www.acmicpc.net/problem/4949\n",
    "---\n",
    "세계는 균형이 잘 잡혀있어야 한다. 양과 음, 빛과 어둠 그리고 왼쪽 괄호와 오른쪽 괄호처럼 말이다.\n",
    "\n",
    "정민이의 임무는 어떤 문자열이 주어졌을 때, 괄호들의 균형이 잘 맞춰져 있는지 판단하는 프로그램을 짜는 것이다.\n",
    "\n",
    "문자열에 포함되는 괄호는 소괄호(\"()\") 와 대괄호(\"[]\")로 2종류이고, 문자열이 균형을 이루는 조건은 아래와 같다.\n",
    "\n",
    "모든 왼쪽 소괄호(\"(\")는 오른쪽 소괄호(\")\")와만 짝을 이뤄야 한다.\n",
    "모든 왼쪽 대괄호(\"[\")는 오른쪽 대괄호(\"]\")와만 짝을 이뤄야 한다.\n",
    "모든 오른쪽 괄호들은 자신과 짝을 이룰 수 있는 왼쪽 괄호가 존재한다.\n",
    "모든 괄호들의 짝은 1:1 매칭만 가능하다. 즉, 괄호 하나가 둘 이상의 괄호와 짝지어지지 않는다.\n",
    "짝을 이루는 두 괄호가 있을 때, 그 사이에 있는 문자열도 균형이 잡혀야 한다.\n",
    "정민이를 도와 문자열이 주어졌을 때 균형잡힌 문자열인지 아닌지를 판단해보자."
   ]
  },
  {
   "cell_type": "code",
   "execution_count": 10,
   "metadata": {},
   "outputs": [
    {
     "name": "stdout",
     "output_type": "stream",
     "text": [
      "yes\n",
      "yes\n",
      "no\n",
      "no\n",
      "no\n",
      "yes\n",
      "yes\n"
     ]
    }
   ],
   "source": [
    "while True:\n",
    "    statement = input()\n",
    "    if statement == '.': break\n",
    "    stack = []\n",
    "    for word in statement:\n",
    "        if word == '(' or word == '[':\n",
    "            stack.append(word)\n",
    "        elif word ==')':\n",
    "            if stack and stack[-1]=='(':\n",
    "                stack.pop()\n",
    "            else:\n",
    "                stack.append(word)\n",
    "                break\n",
    "        elif word ==']':\n",
    "            if stack and stack[-1]=='[':\n",
    "                stack.pop()\n",
    "            else:\n",
    "                stack.append(word)\n",
    "                break\n",
    "\n",
    "    if stack:\n",
    "        print('no')\n",
    "    else:\n",
    "        print('yes')\n",
    "        "
   ]
  },
  {
   "attachments": {},
   "cell_type": "markdown",
   "metadata": {},
   "source": [
    "### 좋은 단어\n",
    "- Silver 4\n",
    "- https://www.acmicpc.net/problem/3986\n",
    "---\n",
    "이번 계절학기에 심리학 개론을 수강 중인 평석이는 오늘 자정까지 보고서를 제출해야 한다. 보고서 작성이 너무 지루했던 평석이는 노트북에 엎드려서 꾸벅꾸벅 졸다가 제출 마감 1시간 전에 깨고 말았다. 안타깝게도 자는 동안 키보드가 잘못 눌려서 보고서의 모든 글자가 A와 B로 바뀌어 버렸다! 그래서 평석이는 보고서 작성을 때려치우고 보고서에서 '좋은 단어'나 세보기로 마음 먹었다.\n",
    "\n",
    "평석이는 단어 위로 아치형 곡선을 그어 같은 글자끼리(A는 A끼리, B는 B끼리) 쌍을 짓기로 하였다. 만약 선끼리 교차하지 않으면서 각 글자를 정확히 한 개의 다른 위치에 있는 같은 글자와 짝 지을수 있다면, 그 단어는 '좋은 단어'이다. 평석이가 '좋은 단어' 개수를 세는 것을 도와주자."
   ]
  },
  {
   "cell_type": "code",
   "execution_count": 37,
   "metadata": {},
   "outputs": [
    {
     "name": "stdout",
     "output_type": "stream",
     "text": [
      "1\n"
     ]
    }
   ],
   "source": [
    "# 문제를 잘 읽자....\n",
    "N = int(input())\n",
    "count = 0 \n",
    "for _ in range(N):\n",
    "    statement = input()\n",
    "    stack = []\n",
    "    for word in statement:\n",
    "        if not stack:\n",
    "            stack.append(word)\n",
    "        else:\n",
    "            if stack[-1]==word:\n",
    "                stack.pop()\n",
    "            else:\n",
    "                stack.append(word)\n",
    "    if not stack: count+=1\n",
    "print(count)    "
   ]
  },
  {
   "attachments": {},
   "cell_type": "markdown",
   "metadata": {},
   "source": [
    "### 단어 뒤집기 2\n",
    "- silver 3\n",
    "- https://www.acmicpc.net/problem/17413\n",
    "---\n",
    "문자열 S가 주어졌을 때, 이 문자열에서 단어만 뒤집으려고 한다.\n",
    "\n",
    "먼저, 문자열 S는 아래와과 같은 규칙을 지킨다.\n",
    "\n",
    "알파벳 소문자('a'-'z'), 숫자('0'-'9'), 공백(' '), 특수 문자('<', '>')로만 이루어져 있다.\n",
    "문자열의 시작과 끝은 공백이 아니다.\n",
    "'<'와 '>'가 문자열에 있는 경우 번갈아가면서 등장하며, '<'이 먼저 등장한다. 또, 두 문자의 개수는 같다.\n",
    "태그는 '<'로 시작해서 '>'로 끝나는 길이가 3 이상인 부분 문자열이고, '<'와 '>' 사이에는 알파벳 소문자와 공백만 있다. 단어는 알파벳 소문자와 숫자로 이루어진 부분 문자열이고, 연속하는 두 단어는 공백 하나로 구분한다. 태그는 단어가 아니며, 태그와 단어 사이에는 공백이 없다"
   ]
  },
  {
   "cell_type": "code",
   "execution_count": 27,
   "metadata": {},
   "outputs": [
    {
     "name": "stdout",
     "output_type": "stream",
     "text": [
      "<   space   >ecaps ecaps ecaps<    spa   c e>\n"
     ]
    }
   ],
   "source": [
    "string = input()\n",
    "tag_stack = 0\n",
    "word_stack = ''\n",
    "answer = ''\n",
    "for s in string:\n",
    "    if s == '<':\n",
    "        if word_stack:\n",
    "            answer+= word_stack[::-1]\n",
    "            word_stack=''\n",
    "        answer+=s\n",
    "        tag_stack+=1\n",
    "    elif s == '>':\n",
    "        answer+=s\n",
    "        tag_stack-=1\n",
    "    elif not tag_stack:\n",
    "        if s == ' ' and word_stack:\n",
    "            answer+= word_stack[::-1]+' '\n",
    "            word_stack=''\n",
    "        else: word_stack+=s\n",
    "    else: answer+=s\n",
    "if word_stack: answer+=word_stack[::-1]\n",
    "print(answer)"
   ]
  },
  {
   "attachments": {},
   "cell_type": "markdown",
   "metadata": {},
   "source": [
    "### 후위 표기식2\n",
    "- silver 3\n",
    "- https://www.acmicpc.net/problem/1935\n",
    "---\n",
    "첫째 줄에 피연산자의 개수(1 ≤ N ≤ 26) 가 주어진다. 그리고 둘째 줄에는 후위 표기식이 주어진다. (여기서 피연산자는 A~Z의 영대문자이며, A부터 순서대로 N개의 영대문자만이 사용되며, 길이는 100을 넘지 않는다) 그리고 셋째 줄부터 N+2번째 줄까지는 각 피연산자에 대응하는 값이 주어진다. 3번째 줄에는 A에 해당하는 값, 4번째 줄에는 B에 해당하는값 , 5번째 줄에는 C ...이 주어진다, 그리고 피연산자에 대응 하는 값은 100보다 작거나 같은 자연수이다.\n",
    "\n",
    "후위 표기식을 앞에서부터 계산했을 때, 식의 결과와 중간 결과가 -20억보다 크거나 같고, 20억보다 작거나 같은 입력만 주어진다."
   ]
  },
  {
   "attachments": {},
   "cell_type": "markdown",
   "metadata": {},
   "source": [
    "<br>***후위표기식 -> 중위표기식<br>\n",
    "1. 피연산자는 스택에 push\n",
    "2. 연산자를 만나면 연산자의 연산에 필요한 만큼의 피연산자를 스택에서 pop하여 연산하고, 연산 결과를 다시 스택에 push 합니다. 저는 이때 연산 결과를 치환해서 스택에 push합니다. 참고로, 덧셈 연산자가 결과를 갖기 위해서는 두개의 피연산자가 필요합니다. ex) 1 + 3 .  ex) 4 + //연산자1, 피연산자1 수식은 계산 불가입니다.\n",
    "3. 수식이 끝나면(수식의 모든 문자를 훑으면, 마지막 스택을 pop해서 출력합니다."
   ]
  },
  {
   "cell_type": "code",
   "execution_count": 42,
   "metadata": {},
   "outputs": [
    {
     "name": "stdout",
     "output_type": "stream",
     "text": [
      "3.00\n"
     ]
    }
   ],
   "source": [
    "n = int(input())\n",
    "dic_f={chr(key):0 for key in range(ord(\"A\"),ord(\"A\")+n)}\n",
    "postfix = input()\n",
    "for key in dic_f.keys():\n",
    "    dic_f[key]= int(input())\n",
    "\n",
    "stack = []\n",
    "for p in postfix:\n",
    "    if p.isalpha():\n",
    "        stack.append(dic_f[p])\n",
    "    else:\n",
    "        b = stack.pop()\n",
    "        a = stack.pop()\n",
    "        if p=='+':\n",
    "            stack.append(a+b)\n",
    "        elif p=='-':\n",
    "            stack.append(a-b)\n",
    "        elif p=='*':\n",
    "            stack.append(a*b)\n",
    "        else:\n",
    "            stack.append(a/b)\n",
    "prefix = '{:.2f}'.format(round(stack[-1],2))\n",
    "print(prefix)"
   ]
  },
  {
   "attachments": {},
   "cell_type": "markdown",
   "metadata": {},
   "source": [
    "### 후위 표기식\n",
    "- gold 2\n",
    "- https://www.acmicpc.net/problem/1918\n",
    "---\n",
    "중위 표기식이 주어졌을 때 후위 표기식으로 고치는 프로그램을 작성하시오\n",
    "\n",
    "<br>***중위표기식 -> 후위표기식<br>\n",
    "1. 중위 표기식에서 연산자, 피연산자 간 연산의 우선순위를 괄호로 묶습니다. (예를들어, 우선순위는 덧셈보다 곱셈이 우선순위가 높습니다.) 이를 괄호로 묶는 형태가 가장 중요합니다.\n",
    "2. 수식에서 후위표기법으로 변환을 시작하는데, 수식의 맨 왼쪽 부터 차례대로 연산자 or 피연산자를 읽어갑니다. 이때 왼쪽 괄호 '('를 만나면 무시하고 다음 피연산자를 읽습니다.\n",
    "3. 연산자를 만나면 스택에 push합니다. ( 후위 표기법으로 표시하기 위해 생략해선 안될 중요한 과정입니다.)\n",
    "4. 오른쪽 괄호 \"), }, ]\"를 만나면 스택의 top element를 pop해서 출력합니다. \n",
    "5. 수식을 왼쪽에서 오른쪽까지 전부 읽어들이면, 끝나면 스택이 공백이 될 때까지 pop해서 출력합니다.\n",
    "<br>"
   ]
  },
  {
   "cell_type": "code",
   "execution_count": 63,
   "metadata": {},
   "outputs": [
    {
     "name": "stdout",
     "output_type": "stream",
     "text": [
      "ABC*+DE/-\n"
     ]
    }
   ],
   "source": [
    "# prefix expression 입력받기\n",
    "expression = input()\n",
    "stack=[]\n",
    "postfix = ''\n",
    "\n",
    "# 우선순위 정의\n",
    "precedence = {'+':1,'-':1,'*':2,'/':2}\n",
    "\n",
    "for p in expression:\n",
    "    if p.isalpha(): # 알파벳이라면 그대로 추가\n",
    "        postfix+=p\n",
    "    elif p=='(':    # 괄호처리\n",
    "        stack.append(p)\n",
    "    elif p==')':    \n",
    "        while stack and stack[-1] != '(':   # 스택에 괄호 내용이 있다면\n",
    "            postfix+= stack.pop()           \n",
    "        if stack and stack[-1] =='(':\n",
    "            stack.pop()\n",
    "    # 연산자 처리\n",
    "    # stack top()의 우선순위가 p보다 작거나 같을 때까지 pop\n",
    "    elif p in precedence.keys():\n",
    "        while stack and stack[-1] != '(' and precedence[p] <= precedence[stack[-1]]:\n",
    "            postfix+= stack.pop()\n",
    "        stack.append(p)\n",
    "\n",
    "while stack:\n",
    "    postfix += stack.pop()\n",
    "\n",
    "print(postfix)"
   ]
  },
  {
   "attachments": {},
   "cell_type": "markdown",
   "metadata": {},
   "source": [
    "### 도키도키 간식드리미\n",
    "- silver 3\n",
    "- https://www.acmicpc.net/problem/12789\n",
    "---\n",
    "인하대학교 학생회에서는 중간, 기말고사 때마다 시험 공부에 지친 학우들을 위해 간식을 나눠주는 간식 드리미 행사를 실시한다. 승환이는 시험 기간이 될 때마다 간식을 받을 생각에 두근두근 설레서 시험 공부에 집중을 못 한다. 이번 중간고사에서도 역시 승환이는 설레는 가슴을 안고 간식을 받기 위해 미리 공지된 장소에 시간 맞춰 도착했다. 그런데 이게 무슨 날벼락인가! 그 곳에는 이미 모든 학생들이 모여있었고, 승환이는 마지막 번호표를 받게 되었다. 설상가상으로 몇몇 양심에 털이 난 학생들이 새치기를 거듭한 끝에 대기열의 순서마저 엉망이 되고 말았다. 간식을 나눠주고 있던 인규는 학우들의 터져 나오는 불만에 번호표 순서로만 간식을 줄 수 있다고 말했다. \n",
    "\n",
    "그제야 학생들이 순서대로 줄을 서려고 했지만 공간이 너무 협소해서 마음대로 이동할 수 없었다. 다행히도 대기열의 왼쪽에는 1열로 설 수 있는 공간이 존재하여 이 공간을 잘 이용하면 모두가 순서대로 간식을 받을 수 있을지도 모른다. 자칫 간식을 못 받게 될지도 모른다는 위기감을 느낀 승환이는 자신의 컴퓨터 알고리즘적 지식을 활용해 과연 모든 사람들이 순서대로 간식을 받을 수 있는지 확인하는 프로그램을 만들기로 했다. 만약 불가능 하다면 승환이는 이번 중간고사를 망치게 될 것 이고 가능하다면 힘을 얻어 중간고사를 잘 볼 수 있을지도 모른다.\n",
    "\n",
    "사람들은 현재 1열로 줄을 서있고, 맨 앞의 사람만 이동이 가능하다. 인규는 번호표 순서대로만 통과할 수 있는 라인을 만들어 두었다. 이 라인과 대기열의 맨 앞 사람 사이에는 한 사람씩 1열이 들어갈 수 있는 공간이 있다. 현재 대기열의 사람들은 이 공간으로 올 수 있지만 반대는 불가능하다. 승환이를 도와 프로그램을 완성하라."
   ]
  },
  {
   "cell_type": "code",
   "execution_count": 68,
   "metadata": {},
   "outputs": [
    {
     "name": "stdout",
     "output_type": "stream",
     "text": [
      "Nice\n"
     ]
    }
   ],
   "source": [
    "# T자형 공간\n",
    "n = int(input())\n",
    "lines = list(map(int, input().split()))\n",
    "stack = []\n",
    "next_num = 1\n",
    "\n",
    "for li in lines:\n",
    "    if li==next_num: next_num+=1\n",
    "    elif stack[-1]==next_num:\n",
    "        stack.pop()\n",
    "        next_num+=1\n",
    "    else: stack.append(li)\n",
    "    \n",
    "while stack and stack[-1] == next_num:\n",
    "    stack.pop()\n",
    "    next_num+=1\n",
    "\n",
    "print('Sad') if stack else print('Nice')"
   ]
  }
 ],
 "metadata": {
  "kernelspec": {
   "display_name": "Python 3",
   "language": "python",
   "name": "python3"
  },
  "language_info": {
   "codemirror_mode": {
    "name": "ipython",
    "version": 3
   },
   "file_extension": ".py",
   "mimetype": "text/x-python",
   "name": "python",
   "nbconvert_exporter": "python",
   "pygments_lexer": "ipython3",
   "version": "3.9.13"
  },
  "orig_nbformat": 4
 },
 "nbformat": 4,
 "nbformat_minor": 2
}
