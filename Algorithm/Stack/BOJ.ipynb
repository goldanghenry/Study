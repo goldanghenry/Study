{
 "cells": [
  {
   "attachments": {},
   "cell_type": "markdown",
   "metadata": {},
   "source": [
    "# 백준"
   ]
  },
  {
   "attachments": {},
   "cell_type": "markdown",
   "metadata": {},
   "source": [
    "### 막대기\n",
    "- Bronze 2\n",
    "- https://www.acmicpc.net/problem/17608\n",
    "---\n",
    "아래 그림처럼 높이만 다르고 (같은 높이의 막대기가 있을 수 있음) 모양이 같은 막대기를 일렬로 세운 후, 왼쪽부터 차례로 번호를 붙인다. 각 막대기의 높이는 그림에서 보인 것처럼 순서대로 6, 9, 7, 6, 4, 6 이다. 일렬로 세워진 막대기를 오른쪽에서 보면 보이는 막대기가 있고 보이지 않는 막대기가 있다. 즉, 지금 보이는 막대기보다 뒤에 있고 높이가 높은 것이 보이게 된다. 예를 들어, 그림과 같은 경우엔 3개(6번, 3번, 2번)의 막대기가 보인다.\n",
    "\n",
    "N개의 막대기에 대한 높이 정보가 주어질 때, 오른쪽에서 보아서 몇 개가 보이는지를 알아내는 프로그램을 작성하려고 한다."
   ]
  },
  {
   "cell_type": "code",
   "execution_count": 9,
   "metadata": {},
   "outputs": [],
   "source": [
    "import sys\n",
    "input=sys.stdin.readline\n",
    "N = int(input())\n",
    "\n",
    "stic_lst = [int(input()) for _ in range(N)]\n",
    "\n",
    "max_height = 0\n",
    "count = 0\n",
    "for s in stic_lst[::-1]:\n",
    "    if max_height==0 or max_height < s:\n",
    "        max_height = s\n",
    "        count+=1\n",
    "print(count)\n"
   ]
  },
  {
   "attachments": {},
   "cell_type": "markdown",
   "metadata": {},
   "source": [
    "### 단어순서 뒤집기\n",
    "- Bronze 1\n",
    "- https://www.acmicpc.net/problem/12605\n",
    "---\n",
    "스페이스로 띄어쓰기 된 단어들의 리스트가 주어질때, 단어들을 반대 순서로 뒤집어라. 각 라인은 w개의 영단어로 이루어져 있으며, 총 L개의 알파벳을 가진다. 각 행은 알파벳과 스페이스로만 이루어져 있다. 단어 사이에는 하나의 스페이스만 들어간다."
   ]
  },
  {
   "cell_type": "code",
   "execution_count": 3,
   "metadata": {},
   "outputs": [
    {
     "name": "stdout",
     "output_type": "stream",
     "text": [
      "Case #1: test a is this\n",
      "Case #2: foobar\n",
      "Case #3: base your all\n"
     ]
    }
   ],
   "source": [
    "import sys\n",
    "\n",
    "def solution(strings):\n",
    "    for idx, string in enumerate(strings):\n",
    "        string = \" \".join(string[::-1])\n",
    "        print(f'Case #{idx+1}: {string}')\n",
    "\n",
    "input=sys.stdin.readline\n",
    "n = int(input())\n",
    "strings = [input().split() for _ in range(n)]\n",
    "\n",
    "solution(strings)"
   ]
  },
  {
   "attachments": {},
   "cell_type": "markdown",
   "metadata": {},
   "source": [
    "### 괄호\n",
    "- Silver 4\n",
    "- https://www.acmicpc.net/problem/9012\n",
    "---\n",
    "괄호 문자열(Parenthesis String, PS)은 두 개의 괄호 기호인 ‘(’ 와 ‘)’ 만으로 구성되어 있는 문자열이다. 그 중에서 괄호의 모양이 바르게 구성된 문자열을 올바른 괄호 문자열(Valid PS, VPS)이라고 부른다. 한 쌍의 괄호 기호로 된 “( )” 문자열은 기본 VPS 이라고 부른다. 만일 x 가 VPS 라면 이것을 하나의 괄호에 넣은 새로운 문자열 “(x)”도 VPS 가 된다. 그리고 두 VPS x 와 y를 접합(concatenation)시킨 새로운 문자열 xy도 VPS 가 된다. 예를 들어 “(())()”와 “((()))” 는 VPS 이지만 “(()(”, “(())()))” , 그리고 “(()” 는 모두 VPS 가 아닌 문자열이다. \n",
    "\n",
    "여러분은 입력으로 주어진 괄호 문자열이 VPS 인지 아닌지를 판단해서 그 결과를 YES 와 NO 로 나타내어야 한다. "
   ]
  },
  {
   "cell_type": "code",
   "execution_count": 2,
   "metadata": {},
   "outputs": [
    {
     "name": "stdout",
     "output_type": "stream",
     "text": [
      "No\n",
      "No\n",
      "YES\n",
      "No\n",
      "YES\n",
      "No\n"
     ]
    }
   ],
   "source": [
    "import sys\n",
    "input = sys.stdin.readline\n",
    "n = int(input())\n",
    "\n",
    "for _ in range(n):\n",
    "    stack = []\n",
    "    s = input()\n",
    "    check = True\n",
    "\n",
    "    for ch in s:\n",
    "        if ch == '(':\n",
    "            stack.append(ch)\n",
    "        if ch == ')':\n",
    "            if stack:\n",
    "                stack.pop()\n",
    "            else:\n",
    "                check = False\n",
    "                break\n",
    "    if not stack and check:\n",
    "        print('YES')\n",
    "    else:\n",
    "        print('NO')"
   ]
  },
  {
   "attachments": {},
   "cell_type": "markdown",
   "metadata": {},
   "source": [
    "### 기술 연계마스터 임스\n",
    "- Silver 5\n",
    "- https://www.acmicpc.net/problem/25497\n",
    "---\n",
    "임스는 연계 기술을 사용하는 게임을 플레이 중에 있다. 연계 기술은 사전 기술과 본 기술의 두 개의 개별 기술을 순서대로 사용해야만 정상적으로 사용 가능한 기술을 말한다.\n",
    "\n",
    "하나의 사전 기술은 하나의 본 기술과만 연계해서 사용할 수 있으며, 연계할 사전 기술 없이 본 기술을 사용했을 경우에는 게임의 스크립트가 꼬여서 이후 사용하는 기술들이 정상적으로 발동되지 않는다. 그렇지만 반드시 사전 기술을 사용한 직후에 본 기술을 사용할 필요는 없으며, 중간에 다른 기술을 사용하여도 연계는 정상적으로 이루어진다.\n",
    "\n",
    "임스가 사용할 수 있는 기술에는 \n",
    "$1$~\n",
    "$9$, \n",
    "$L$, \n",
    "$R$, \n",
    "$S$, \n",
    "$K$가 있다. \n",
    "$1$~\n",
    "$9$는 연계 없이 사용할 수 있는 기술이고, \n",
    "$L$은 \n",
    "$R$의 사전 기술, \n",
    "$S$은 \n",
    "$K$의 사전 기술이다.\n",
    "\n",
    "임스가 정해진 순서대로 \n",
    "$N$개의 기술을 사용할 때, 기술이 몇 번이나 정상적으로 발동하는지를 구해보자.\n",
    "\n",
    "단, 연계 기술은 사전 기술과 본 기술 모두 정상적으로 발동되었을 때만 하나의 기술이 발동된 것으로 친다."
   ]
  },
  {
   "cell_type": "code",
   "execution_count": 5,
   "metadata": {},
   "outputs": [
    {
     "data": {
      "text/plain": [
       "1"
      ]
     },
     "execution_count": 5,
     "metadata": {},
     "output_type": "execute_result"
    }
   ],
   "source": [
    "def solution():\n",
    "    #input = sys.stdin.readline\n",
    "    n = int(input())\n",
    "    typing_lst = input()\n",
    "    stack_L = []\n",
    "    stack_S = []\n",
    "    count = 0\n",
    "    for t in typing_lst:\n",
    "        if t=='L': stack_L.append(t)\n",
    "        elif t=='S': stack_S.append(t)\n",
    "        \n",
    "        elif t=='R':\n",
    "            if not stack_L: break\n",
    "            else: stack_L.pop(); count+=1\n",
    "        elif t=='K':\n",
    "            if not stack_S: break\n",
    "            else: stack_S.pop(); count+=1\n",
    "        else:\n",
    "            count+=1\n",
    "        \n",
    "    return count\n",
    "\n",
    "print(solution())"
   ]
  },
  {
   "attachments": {},
   "cell_type": "markdown",
   "metadata": {},
   "source": [
    "### 스택\n",
    "- Silver 4\n",
    "- https://www.acmicpc.net/problem/10828\n",
    "---\n",
    "정수를 저장하는 스택을 구현한 다음, 입력으로 주어지는 명령을 처리하는 프로그램을 작성하시오.\n",
    "\n",
    "명령은 총 다섯 가지이다.\n",
    "\n",
    "push X: 정수 X를 스택에 넣는 연산이다.\n",
    "pop: 스택에서 가장 위에 있는 정수를 빼고, 그 수를 출력한다. 만약 스택에 들어있는 정수가 없는 경우에는 -1을 출력한다.\n",
    "size: 스택에 들어있는 정수의 개수를 출력한다.\n",
    "empty: 스택이 비어있으면 1, 아니면 0을 출력한다.\n",
    "top: 스택의 가장 위에 있는 정수를 출력한다. 만약 스택에 들어있는 정수가 없는 경우에는 -1을 출력한다."
   ]
  },
  {
   "cell_type": "code",
   "execution_count": 11,
   "metadata": {},
   "outputs": [
    {
     "name": "stdout",
     "output_type": "stream",
     "text": [
      "-1\n",
      "-1\n",
      "123\n",
      "123\n",
      "-1\n",
      "-1\n"
     ]
    }
   ],
   "source": [
    "import sys\n",
    "class Stack:\n",
    "    def __init__(self):\n",
    "        self.stack=[]\n",
    "\n",
    "    def push(self, item):\n",
    "        self.stack.append(item)\n",
    "\n",
    "    def pop(self):\n",
    "        return self.stack.pop() if not self.empty() else -1\n",
    "    \n",
    "    def size(self):\n",
    "        return len(self.stack)\n",
    "    \n",
    "    def empty(self):\n",
    "        return 0 if self.stack else 1\n",
    "    \n",
    "    def top(self):\n",
    "        return self.stack[-1] if not self.empty() else -1\n",
    "        \n",
    "def solution():\n",
    "    input = sys.stdin.readline\n",
    "    N = int(input())\n",
    "    stack = Stack()\n",
    "    for _ in range(N):\n",
    "        cmd = input()\n",
    "        if cmd[:2]=='pu': stack.push(int(cmd.split()[1]))\n",
    "        elif cmd[:2]=='po': print(stack.pop())\n",
    "        elif cmd[0]=='t': print(stack.top())\n",
    "        elif cmd[0]=='s': print(stack.size())\n",
    "        elif cmd[0]=='e': print(stack.empty())\n",
    "    \n",
    "solution()"
   ]
  },
  {
   "attachments": {},
   "cell_type": "markdown",
   "metadata": {},
   "source": [
    "### 제로\n",
    "- Silver 4\n",
    "- https://www.acmicpc.net/problem/10773\n",
    "---\n",
    "나코더 기장 재민이는 동아리 회식을 준비하기 위해서 장부를 관리하는 중이다.\n",
    "\n",
    "재현이는 재민이를 도와서 돈을 관리하는 중인데, 애석하게도 항상 정신없는 재현이는 돈을 실수로 잘못 부르는 사고를 치기 일쑤였다.\n",
    "\n",
    "재현이는 잘못된 수를 부를 때마다 0을 외쳐서, 가장 최근에 재민이가 쓴 수를 지우게 시킨다.\n",
    "\n",
    "재민이는 이렇게 모든 수를 받아 적은 후 그 수의 합을 알고 싶어 한다. 재민이를 도와주자!"
   ]
  },
  {
   "cell_type": "code",
   "execution_count": 3,
   "metadata": {},
   "outputs": [
    {
     "name": "stdout",
     "output_type": "stream",
     "text": [
      "7\n"
     ]
    }
   ],
   "source": [
    "import sys\n",
    "\n",
    "#input = sys.stdin.readline\n",
    "N = int(input())\n",
    "stack = []\n",
    "for _ in range(N):\n",
    "    item = int(input())\n",
    "    if item:\n",
    "        stack.append(item)\n",
    "    else:\n",
    "        stack.pop()\n",
    "\n",
    "print(sum(stack))"
   ]
  },
  {
   "attachments": {},
   "cell_type": "markdown",
   "metadata": {},
   "source": [
    "#### 균형잡힌 세상\n",
    "- Silver 4\n",
    "- https://www.acmicpc.net/problem/4949\n",
    "---\n",
    "세계는 균형이 잘 잡혀있어야 한다. 양과 음, 빛과 어둠 그리고 왼쪽 괄호와 오른쪽 괄호처럼 말이다.\n",
    "\n",
    "정민이의 임무는 어떤 문자열이 주어졌을 때, 괄호들의 균형이 잘 맞춰져 있는지 판단하는 프로그램을 짜는 것이다.\n",
    "\n",
    "문자열에 포함되는 괄호는 소괄호(\"()\") 와 대괄호(\"[]\")로 2종류이고, 문자열이 균형을 이루는 조건은 아래와 같다.\n",
    "\n",
    "모든 왼쪽 소괄호(\"(\")는 오른쪽 소괄호(\")\")와만 짝을 이뤄야 한다.\n",
    "모든 왼쪽 대괄호(\"[\")는 오른쪽 대괄호(\"]\")와만 짝을 이뤄야 한다.\n",
    "모든 오른쪽 괄호들은 자신과 짝을 이룰 수 있는 왼쪽 괄호가 존재한다.\n",
    "모든 괄호들의 짝은 1:1 매칭만 가능하다. 즉, 괄호 하나가 둘 이상의 괄호와 짝지어지지 않는다.\n",
    "짝을 이루는 두 괄호가 있을 때, 그 사이에 있는 문자열도 균형이 잡혀야 한다.\n",
    "정민이를 도와 문자열이 주어졌을 때 균형잡힌 문자열인지 아닌지를 판단해보자."
   ]
  },
  {
   "cell_type": "code",
   "execution_count": 10,
   "metadata": {},
   "outputs": [
    {
     "name": "stdout",
     "output_type": "stream",
     "text": [
      "yes\n",
      "yes\n",
      "no\n",
      "no\n",
      "no\n",
      "yes\n",
      "yes\n"
     ]
    }
   ],
   "source": [
    "while True:\n",
    "    statement = input()\n",
    "    if statement == '.': break\n",
    "    stack = []\n",
    "    for word in statement:\n",
    "        if word == '(' or word == '[':\n",
    "            stack.append(word)\n",
    "        elif word ==')':\n",
    "            if stack and stack[-1]=='(':\n",
    "                stack.pop()\n",
    "            else:\n",
    "                stack.append(word)\n",
    "                break\n",
    "        elif word ==']':\n",
    "            if stack and stack[-1]=='[':\n",
    "                stack.pop()\n",
    "            else:\n",
    "                stack.append(word)\n",
    "                break\n",
    "\n",
    "    if stack:\n",
    "        print('no')\n",
    "    else:\n",
    "        print('yes')\n",
    "        "
   ]
  }
 ],
 "metadata": {
  "kernelspec": {
   "display_name": "Python 3",
   "language": "python",
   "name": "python3"
  },
  "language_info": {
   "codemirror_mode": {
    "name": "ipython",
    "version": 3
   },
   "file_extension": ".py",
   "mimetype": "text/x-python",
   "name": "python",
   "nbconvert_exporter": "python",
   "pygments_lexer": "ipython3",
   "version": "3.9.12"
  },
  "orig_nbformat": 4
 },
 "nbformat": 4,
 "nbformat_minor": 2
}
