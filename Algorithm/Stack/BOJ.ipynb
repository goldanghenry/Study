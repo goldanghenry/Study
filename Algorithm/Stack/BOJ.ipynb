{
 "cells": [
  {
   "attachments": {},
   "cell_type": "markdown",
   "metadata": {},
   "source": [
    "# 백준"
   ]
  },
  {
   "attachments": {},
   "cell_type": "markdown",
   "metadata": {},
   "source": [
    "### 막대기\n",
    "- Bronze 2\n",
    "- https://www.acmicpc.net/problem/17608\n",
    "---\n",
    "아래 그림처럼 높이만 다르고 (같은 높이의 막대기가 있을 수 있음) 모양이 같은 막대기를 일렬로 세운 후, 왼쪽부터 차례로 번호를 붙인다. 각 막대기의 높이는 그림에서 보인 것처럼 순서대로 6, 9, 7, 6, 4, 6 이다. 일렬로 세워진 막대기를 오른쪽에서 보면 보이는 막대기가 있고 보이지 않는 막대기가 있다. 즉, 지금 보이는 막대기보다 뒤에 있고 높이가 높은 것이 보이게 된다. 예를 들어, 그림과 같은 경우엔 3개(6번, 3번, 2번)의 막대기가 보인다.\n",
    "\n",
    "N개의 막대기에 대한 높이 정보가 주어질 때, 오른쪽에서 보아서 몇 개가 보이는지를 알아내는 프로그램을 작성하려고 한다."
   ]
  },
  {
   "cell_type": "code",
   "execution_count": 9,
   "metadata": {},
   "outputs": [],
   "source": [
    "import sys\n",
    "input=sys.stdin.readline\n",
    "N = int(input())\n",
    "\n",
    "stic_lst = [int(input()) for _ in range(N)]\n",
    "\n",
    "max_height = 0\n",
    "count = 0\n",
    "for s in stic_lst[::-1]:\n",
    "    if max_height==0 or max_height < s:\n",
    "        max_height = s\n",
    "        count+=1\n",
    "print(count)\n"
   ]
  },
  {
   "attachments": {},
   "cell_type": "markdown",
   "metadata": {},
   "source": [
    "### 단어순서 뒤집기\n",
    "- Bronze 1\n",
    "- https://www.acmicpc.net/problem/12605\n",
    "---\n",
    "스페이스로 띄어쓰기 된 단어들의 리스트가 주어질때, 단어들을 반대 순서로 뒤집어라. 각 라인은 w개의 영단어로 이루어져 있으며, 총 L개의 알파벳을 가진다. 각 행은 알파벳과 스페이스로만 이루어져 있다. 단어 사이에는 하나의 스페이스만 들어간다."
   ]
  },
  {
   "cell_type": "code",
   "execution_count": 3,
   "metadata": {},
   "outputs": [
    {
     "name": "stdout",
     "output_type": "stream",
     "text": [
      "Case #1: test a is this\n",
      "Case #2: foobar\n",
      "Case #3: base your all\n"
     ]
    }
   ],
   "source": [
    "import sys\n",
    "\n",
    "def solution(strings):\n",
    "    for idx, string in enumerate(strings):\n",
    "        string = \" \".join(string[::-1])\n",
    "        print(f'Case #{idx+1}: {string}')\n",
    "\n",
    "input=sys.stdin.readline\n",
    "n = int(input())\n",
    "strings = [input().split() for _ in range(n)]\n",
    "\n",
    "solution(strings)"
   ]
  },
  {
   "attachments": {},
   "cell_type": "markdown",
   "metadata": {},
   "source": [
    "### 괄호\n",
    "- Silver 4\n",
    "- https://www.acmicpc.net/problem/9012\n",
    "---\n",
    "괄호 문자열(Parenthesis String, PS)은 두 개의 괄호 기호인 ‘(’ 와 ‘)’ 만으로 구성되어 있는 문자열이다. 그 중에서 괄호의 모양이 바르게 구성된 문자열을 올바른 괄호 문자열(Valid PS, VPS)이라고 부른다. 한 쌍의 괄호 기호로 된 “( )” 문자열은 기본 VPS 이라고 부른다. 만일 x 가 VPS 라면 이것을 하나의 괄호에 넣은 새로운 문자열 “(x)”도 VPS 가 된다. 그리고 두 VPS x 와 y를 접합(concatenation)시킨 새로운 문자열 xy도 VPS 가 된다. 예를 들어 “(())()”와 “((()))” 는 VPS 이지만 “(()(”, “(())()))” , 그리고 “(()” 는 모두 VPS 가 아닌 문자열이다. \n",
    "\n",
    "여러분은 입력으로 주어진 괄호 문자열이 VPS 인지 아닌지를 판단해서 그 결과를 YES 와 NO 로 나타내어야 한다. "
   ]
  },
  {
   "cell_type": "code",
   "execution_count": 2,
   "metadata": {},
   "outputs": [
    {
     "name": "stdout",
     "output_type": "stream",
     "text": [
      "No\n",
      "No\n",
      "YES\n",
      "No\n",
      "YES\n",
      "No\n"
     ]
    }
   ],
   "source": [
    "import sys\n",
    "input = sys.stdin.readline\n",
    "n = int(input())\n",
    "\n",
    "for _ in range(n):\n",
    "    stack = []\n",
    "    s = input()\n",
    "    check = True\n",
    "\n",
    "    for ch in s:\n",
    "        if ch == '(':\n",
    "            stack.append(ch)\n",
    "        if ch == ')':\n",
    "            if stack:\n",
    "                stack.pop()\n",
    "            else:\n",
    "                check = False\n",
    "                break\n",
    "    if not stack and check:\n",
    "        print('YES')\n",
    "    else:\n",
    "        print('NO')"
   ]
  },
  {
   "attachments": {},
   "cell_type": "markdown",
   "metadata": {},
   "source": [
    "### 기술 연계마스터 임스\n",
    "- Silver 5\n",
    "- https://www.acmicpc.net/problem/25497\n",
    "---\n",
    "임스는 연계 기술을 사용하는 게임을 플레이 중에 있다. 연계 기술은 사전 기술과 본 기술의 두 개의 개별 기술을 순서대로 사용해야만 정상적으로 사용 가능한 기술을 말한다.\n",
    "\n",
    "하나의 사전 기술은 하나의 본 기술과만 연계해서 사용할 수 있으며, 연계할 사전 기술 없이 본 기술을 사용했을 경우에는 게임의 스크립트가 꼬여서 이후 사용하는 기술들이 정상적으로 발동되지 않는다. 그렇지만 반드시 사전 기술을 사용한 직후에 본 기술을 사용할 필요는 없으며, 중간에 다른 기술을 사용하여도 연계는 정상적으로 이루어진다.\n",
    "\n",
    "임스가 사용할 수 있는 기술에는 \n",
    "$1$~\n",
    "$9$, \n",
    "$L$, \n",
    "$R$, \n",
    "$S$, \n",
    "$K$가 있다. \n",
    "$1$~\n",
    "$9$는 연계 없이 사용할 수 있는 기술이고, \n",
    "$L$은 \n",
    "$R$의 사전 기술, \n",
    "$S$은 \n",
    "$K$의 사전 기술이다.\n",
    "\n",
    "임스가 정해진 순서대로 \n",
    "$N$개의 기술을 사용할 때, 기술이 몇 번이나 정상적으로 발동하는지를 구해보자.\n",
    "\n",
    "단, 연계 기술은 사전 기술과 본 기술 모두 정상적으로 발동되었을 때만 하나의 기술이 발동된 것으로 친다."
   ]
  },
  {
   "cell_type": "code",
   "execution_count": 5,
   "metadata": {},
   "outputs": [
    {
     "data": {
      "text/plain": [
       "1"
      ]
     },
     "execution_count": 5,
     "metadata": {},
     "output_type": "execute_result"
    }
   ],
   "source": [
    "def solution():\n",
    "    #input = sys.stdin.readline\n",
    "    n = int(input())\n",
    "    typing_lst = input()\n",
    "    stack_L = []\n",
    "    stack_S = []\n",
    "    count = 0\n",
    "    for t in typing_lst:\n",
    "        if t=='L': stack_L.append(t)\n",
    "        elif t=='S': stack_S.append(t)\n",
    "        \n",
    "        elif t=='R':\n",
    "            if not stack_L: break\n",
    "            else: stack_L.pop(); count+=1\n",
    "        elif t=='K':\n",
    "            if not stack_S: break\n",
    "            else: stack_S.pop(); count+=1\n",
    "        else:\n",
    "            count+=1\n",
    "        \n",
    "    return count\n",
    "\n",
    "print(solution())"
   ]
  },
  {
   "attachments": {},
   "cell_type": "markdown",
   "metadata": {},
   "source": [
    "### 스택\n",
    "- Silver 4\n",
    "- https://www.acmicpc.net/problem/10828\n",
    "---\n",
    "정수를 저장하는 스택을 구현한 다음, 입력으로 주어지는 명령을 처리하는 프로그램을 작성하시오.\n",
    "\n",
    "명령은 총 다섯 가지이다.\n",
    "\n",
    "push X: 정수 X를 스택에 넣는 연산이다.\n",
    "pop: 스택에서 가장 위에 있는 정수를 빼고, 그 수를 출력한다. 만약 스택에 들어있는 정수가 없는 경우에는 -1을 출력한다.\n",
    "size: 스택에 들어있는 정수의 개수를 출력한다.\n",
    "empty: 스택이 비어있으면 1, 아니면 0을 출력한다.\n",
    "top: 스택의 가장 위에 있는 정수를 출력한다. 만약 스택에 들어있는 정수가 없는 경우에는 -1을 출력한다."
   ]
  },
  {
   "cell_type": "code",
   "execution_count": 11,
   "metadata": {},
   "outputs": [
    {
     "name": "stdout",
     "output_type": "stream",
     "text": [
      "-1\n",
      "-1\n",
      "123\n",
      "123\n",
      "-1\n",
      "-1\n"
     ]
    }
   ],
   "source": [
    "import sys\n",
    "class Stack:\n",
    "    def __init__(self):\n",
    "        self.stack=[]\n",
    "\n",
    "    def push(self, item):\n",
    "        self.stack.append(item)\n",
    "\n",
    "    def pop(self):\n",
    "        return self.stack.pop() if not self.empty() else -1\n",
    "    \n",
    "    def size(self):\n",
    "        return len(self.stack)\n",
    "    \n",
    "    def empty(self):\n",
    "        return 0 if self.stack else 1\n",
    "    \n",
    "    def top(self):\n",
    "        return self.stack[-1] if not self.empty() else -1\n",
    "        \n",
    "def solution():\n",
    "    input = sys.stdin.readline\n",
    "    N = int(input())\n",
    "    stack = Stack()\n",
    "    for _ in range(N):\n",
    "        cmd = input()\n",
    "        if cmd[:2]=='pu': stack.push(int(cmd.split()[1]))\n",
    "        elif cmd[:2]=='po': print(stack.pop())\n",
    "        elif cmd[0]=='t': print(stack.top())\n",
    "        elif cmd[0]=='s': print(stack.size())\n",
    "        elif cmd[0]=='e': print(stack.empty())\n",
    "    \n",
    "solution()"
   ]
  },
  {
   "attachments": {},
   "cell_type": "markdown",
   "metadata": {},
   "source": [
    "### 스택2\n",
    "- silver 4\n",
    "- https://www.acmicpc.net/problem/28278\n",
    "---\n",
    "정수를 저장하는 스택을 구현한 다음, 입력으로 주어지는 명령을 처리하는 프로그램을 작성하시오.\n",
    "\n",
    "명령은 총 다섯 가지이다.\n",
    "\n",
    "1 X: 정수 X를 스택에 넣는다. (1 ≤ X ≤ 100,000)<br>\n",
    "2: 스택에 정수가 있다면 맨 위의 정수를 빼고 출력한다. 없다면 -1을 대신 출력한다.<br>\n",
    "3: 스택에 들어있는 정수의 개수를 출력한다.<br>\n",
    "4: 스택이 비어있으면 1, 아니면 0을 출력한다.<br>\n",
    "5: 스택에 정수가 있다면 맨 위의 정수를 출력한다. 없다면 -1을 대신 출력한다."
   ]
  },
  {
   "cell_type": "code",
   "execution_count": 19,
   "metadata": {},
   "outputs": [
    {
     "name": "stdout",
     "output_type": "stream",
     "text": [
      "1\n",
      "2\n",
      "5\n",
      "3\n",
      "3\n",
      "-1\n",
      "-1\n"
     ]
    }
   ],
   "source": [
    "import sys\n",
    "input = sys.stdin.readline\n",
    "n = int(input().rstrip())\n",
    "stack = []\n",
    "for _ in range(n):\n",
    "    cmd = input().split()\n",
    "    if cmd[0]=='1': stack.append(int(cmd[-1]))\n",
    "    elif cmd[0]=='2': print(stack.pop()) if stack else print('-1')\n",
    "    elif cmd[0]=='3': print(len(stack))\n",
    "    elif cmd[0]=='4': print('0') if stack else print('1')\n",
    "    else: print(stack[-1]) if stack else print('-1')"
   ]
  },
  {
   "attachments": {},
   "cell_type": "markdown",
   "metadata": {},
   "source": [
    "### 제로\n",
    "- Silver 4\n",
    "- https://www.acmicpc.net/problem/10773\n",
    "---\n",
    "나코더 기장 재민이는 동아리 회식을 준비하기 위해서 장부를 관리하는 중이다.\n",
    "\n",
    "재현이는 재민이를 도와서 돈을 관리하는 중인데, 애석하게도 항상 정신없는 재현이는 돈을 실수로 잘못 부르는 사고를 치기 일쑤였다.\n",
    "\n",
    "재현이는 잘못된 수를 부를 때마다 0을 외쳐서, 가장 최근에 재민이가 쓴 수를 지우게 시킨다.\n",
    "\n",
    "재민이는 이렇게 모든 수를 받아 적은 후 그 수의 합을 알고 싶어 한다. 재민이를 도와주자!"
   ]
  },
  {
   "cell_type": "code",
   "execution_count": 3,
   "metadata": {},
   "outputs": [
    {
     "name": "stdout",
     "output_type": "stream",
     "text": [
      "7\n"
     ]
    }
   ],
   "source": [
    "import sys\n",
    "\n",
    "#input = sys.stdin.readline\n",
    "N = int(input())\n",
    "stack = []\n",
    "for _ in range(N):\n",
    "    item = int(input())\n",
    "    if item:\n",
    "        stack.append(item)\n",
    "    else:\n",
    "        stack.pop()\n",
    "\n",
    "print(sum(stack))"
   ]
  },
  {
   "attachments": {},
   "cell_type": "markdown",
   "metadata": {},
   "source": [
    "#### 균형잡힌 세상\n",
    "- Silver 4\n",
    "- https://www.acmicpc.net/problem/4949\n",
    "---\n",
    "세계는 균형이 잘 잡혀있어야 한다. 양과 음, 빛과 어둠 그리고 왼쪽 괄호와 오른쪽 괄호처럼 말이다.\n",
    "\n",
    "정민이의 임무는 어떤 문자열이 주어졌을 때, 괄호들의 균형이 잘 맞춰져 있는지 판단하는 프로그램을 짜는 것이다.\n",
    "\n",
    "문자열에 포함되는 괄호는 소괄호(\"()\") 와 대괄호(\"[]\")로 2종류이고, 문자열이 균형을 이루는 조건은 아래와 같다.\n",
    "\n",
    "모든 왼쪽 소괄호(\"(\")는 오른쪽 소괄호(\")\")와만 짝을 이뤄야 한다.\n",
    "모든 왼쪽 대괄호(\"[\")는 오른쪽 대괄호(\"]\")와만 짝을 이뤄야 한다.\n",
    "모든 오른쪽 괄호들은 자신과 짝을 이룰 수 있는 왼쪽 괄호가 존재한다.\n",
    "모든 괄호들의 짝은 1:1 매칭만 가능하다. 즉, 괄호 하나가 둘 이상의 괄호와 짝지어지지 않는다.\n",
    "짝을 이루는 두 괄호가 있을 때, 그 사이에 있는 문자열도 균형이 잡혀야 한다.\n",
    "정민이를 도와 문자열이 주어졌을 때 균형잡힌 문자열인지 아닌지를 판단해보자."
   ]
  },
  {
   "cell_type": "code",
   "execution_count": 10,
   "metadata": {},
   "outputs": [
    {
     "name": "stdout",
     "output_type": "stream",
     "text": [
      "yes\n",
      "yes\n",
      "no\n",
      "no\n",
      "no\n",
      "yes\n",
      "yes\n"
     ]
    }
   ],
   "source": [
    "while True:\n",
    "    statement = input()\n",
    "    if statement == '.': break\n",
    "    stack = []\n",
    "    for word in statement:\n",
    "        if word == '(' or word == '[':\n",
    "            stack.append(word)\n",
    "        elif word ==')':\n",
    "            if stack and stack[-1]=='(':\n",
    "                stack.pop()\n",
    "            else:\n",
    "                stack.append(word)\n",
    "                break\n",
    "        elif word ==']':\n",
    "            if stack and stack[-1]=='[':\n",
    "                stack.pop()\n",
    "            else:\n",
    "                stack.append(word)\n",
    "                break\n",
    "\n",
    "    if stack:\n",
    "        print('no')\n",
    "    else:\n",
    "        print('yes')\n",
    "        "
   ]
  },
  {
   "attachments": {},
   "cell_type": "markdown",
   "metadata": {},
   "source": [
    "### 좋은 단어\n",
    "- Silver 4\n",
    "- https://www.acmicpc.net/problem/3986\n",
    "---\n",
    "이번 계절학기에 심리학 개론을 수강 중인 평석이는 오늘 자정까지 보고서를 제출해야 한다. 보고서 작성이 너무 지루했던 평석이는 노트북에 엎드려서 꾸벅꾸벅 졸다가 제출 마감 1시간 전에 깨고 말았다. 안타깝게도 자는 동안 키보드가 잘못 눌려서 보고서의 모든 글자가 A와 B로 바뀌어 버렸다! 그래서 평석이는 보고서 작성을 때려치우고 보고서에서 '좋은 단어'나 세보기로 마음 먹었다.\n",
    "\n",
    "평석이는 단어 위로 아치형 곡선을 그어 같은 글자끼리(A는 A끼리, B는 B끼리) 쌍을 짓기로 하였다. 만약 선끼리 교차하지 않으면서 각 글자를 정확히 한 개의 다른 위치에 있는 같은 글자와 짝 지을수 있다면, 그 단어는 '좋은 단어'이다. 평석이가 '좋은 단어' 개수를 세는 것을 도와주자."
   ]
  },
  {
   "cell_type": "code",
   "execution_count": 37,
   "metadata": {},
   "outputs": [
    {
     "name": "stdout",
     "output_type": "stream",
     "text": [
      "1\n"
     ]
    }
   ],
   "source": [
    "# 문제를 잘 읽자....\n",
    "N = int(input())\n",
    "count = 0 \n",
    "for _ in range(N):\n",
    "    statement = input()\n",
    "    stack = []\n",
    "    for word in statement:\n",
    "        if not stack:\n",
    "            stack.append(word)\n",
    "        else:\n",
    "            if stack[-1]==word:\n",
    "                stack.pop()\n",
    "            else:\n",
    "                stack.append(word)\n",
    "    if not stack: count+=1\n",
    "print(count)    "
   ]
  },
  {
   "attachments": {},
   "cell_type": "markdown",
   "metadata": {},
   "source": [
    "### 단어 뒤집기 2\n",
    "- silver 3\n",
    "- https://www.acmicpc.net/problem/17413\n",
    "---\n",
    "문자열 S가 주어졌을 때, 이 문자열에서 단어만 뒤집으려고 한다.\n",
    "\n",
    "먼저, 문자열 S는 아래와과 같은 규칙을 지킨다.\n",
    "\n",
    "알파벳 소문자('a'-'z'), 숫자('0'-'9'), 공백(' '), 특수 문자('<', '>')로만 이루어져 있다.\n",
    "문자열의 시작과 끝은 공백이 아니다.\n",
    "'<'와 '>'가 문자열에 있는 경우 번갈아가면서 등장하며, '<'이 먼저 등장한다. 또, 두 문자의 개수는 같다.\n",
    "태그는 '<'로 시작해서 '>'로 끝나는 길이가 3 이상인 부분 문자열이고, '<'와 '>' 사이에는 알파벳 소문자와 공백만 있다. 단어는 알파벳 소문자와 숫자로 이루어진 부분 문자열이고, 연속하는 두 단어는 공백 하나로 구분한다. 태그는 단어가 아니며, 태그와 단어 사이에는 공백이 없다"
   ]
  },
  {
   "cell_type": "code",
   "execution_count": 27,
   "metadata": {},
   "outputs": [
    {
     "name": "stdout",
     "output_type": "stream",
     "text": [
      "<   space   >ecaps ecaps ecaps<    spa   c e>\n"
     ]
    }
   ],
   "source": [
    "string = input()\n",
    "tag_stack = 0\n",
    "word_stack = ''\n",
    "answer = ''\n",
    "for s in string:\n",
    "    if s == '<':\n",
    "        if word_stack:\n",
    "            answer+= word_stack[::-1]\n",
    "            word_stack=''\n",
    "        answer+=s\n",
    "        tag_stack+=1\n",
    "    elif s == '>':\n",
    "        answer+=s\n",
    "        tag_stack-=1\n",
    "    elif not tag_stack:\n",
    "        if s == ' ' and word_stack:\n",
    "            answer+= word_stack[::-1]+' '\n",
    "            word_stack=''\n",
    "        else: word_stack+=s\n",
    "    else: answer+=s\n",
    "if word_stack: answer+=word_stack[::-1]\n",
    "print(answer)"
   ]
  },
  {
   "attachments": {},
   "cell_type": "markdown",
   "metadata": {},
   "source": [
    "### 후위 표기식2\n",
    "- silver 3\n",
    "- https://www.acmicpc.net/problem/1935\n",
    "---\n",
    "첫째 줄에 피연산자의 개수(1 ≤ N ≤ 26) 가 주어진다. 그리고 둘째 줄에는 후위 표기식이 주어진다. (여기서 피연산자는 A~Z의 영대문자이며, A부터 순서대로 N개의 영대문자만이 사용되며, 길이는 100을 넘지 않는다) 그리고 셋째 줄부터 N+2번째 줄까지는 각 피연산자에 대응하는 값이 주어진다. 3번째 줄에는 A에 해당하는 값, 4번째 줄에는 B에 해당하는값 , 5번째 줄에는 C ...이 주어진다, 그리고 피연산자에 대응 하는 값은 100보다 작거나 같은 자연수이다.\n",
    "\n",
    "후위 표기식을 앞에서부터 계산했을 때, 식의 결과와 중간 결과가 -20억보다 크거나 같고, 20억보다 작거나 같은 입력만 주어진다."
   ]
  },
  {
   "attachments": {},
   "cell_type": "markdown",
   "metadata": {},
   "source": [
    "<br>***후위표기식 -> 중위표기식<br>\n",
    "1. 피연산자는 스택에 push\n",
    "2. 연산자를 만나면 연산자의 연산에 필요한 만큼의 피연산자를 스택에서 pop하여 연산하고, 연산 결과를 다시 스택에 push 합니다. 저는 이때 연산 결과를 치환해서 스택에 push합니다. 참고로, 덧셈 연산자가 결과를 갖기 위해서는 두개의 피연산자가 필요합니다. ex) 1 + 3 .  ex) 4 + //연산자1, 피연산자1 수식은 계산 불가입니다.\n",
    "3. 수식이 끝나면(수식의 모든 문자를 훑으면, 마지막 스택을 pop해서 출력합니다."
   ]
  },
  {
   "cell_type": "code",
   "execution_count": 42,
   "metadata": {},
   "outputs": [
    {
     "name": "stdout",
     "output_type": "stream",
     "text": [
      "3.00\n"
     ]
    }
   ],
   "source": [
    "n = int(input())\n",
    "dic_f={chr(key):0 for key in range(ord(\"A\"),ord(\"A\")+n)}\n",
    "postfix = input()\n",
    "for key in dic_f.keys():\n",
    "    dic_f[key]= int(input())\n",
    "\n",
    "stack = []\n",
    "for p in postfix:\n",
    "    if p.isalpha():\n",
    "        stack.append(dic_f[p])\n",
    "    else:\n",
    "        b = stack.pop()\n",
    "        a = stack.pop()\n",
    "        if p=='+':\n",
    "            stack.append(a+b)\n",
    "        elif p=='-':\n",
    "            stack.append(a-b)\n",
    "        elif p=='*':\n",
    "            stack.append(a*b)\n",
    "        else:\n",
    "            stack.append(a/b)\n",
    "prefix = '{:.2f}'.format(round(stack[-1],2))\n",
    "print(prefix)"
   ]
  },
  {
   "attachments": {},
   "cell_type": "markdown",
   "metadata": {},
   "source": [
    "### 도키도키 간식드리미\n",
    "- silver 3\n",
    "- https://www.acmicpc.net/problem/12789\n",
    "---\n",
    "인하대학교 학생회에서는 중간, 기말고사 때마다 시험 공부에 지친 학우들을 위해 간식을 나눠주는 간식 드리미 행사를 실시한다. 승환이는 시험 기간이 될 때마다 간식을 받을 생각에 두근두근 설레서 시험 공부에 집중을 못 한다. 이번 중간고사에서도 역시 승환이는 설레는 가슴을 안고 간식을 받기 위해 미리 공지된 장소에 시간 맞춰 도착했다. 그런데 이게 무슨 날벼락인가! 그 곳에는 이미 모든 학생들이 모여있었고, 승환이는 마지막 번호표를 받게 되었다. 설상가상으로 몇몇 양심에 털이 난 학생들이 새치기를 거듭한 끝에 대기열의 순서마저 엉망이 되고 말았다. 간식을 나눠주고 있던 인규는 학우들의 터져 나오는 불만에 번호표 순서로만 간식을 줄 수 있다고 말했다. \n",
    "\n",
    "그제야 학생들이 순서대로 줄을 서려고 했지만 공간이 너무 협소해서 마음대로 이동할 수 없었다. 다행히도 대기열의 왼쪽에는 1열로 설 수 있는 공간이 존재하여 이 공간을 잘 이용하면 모두가 순서대로 간식을 받을 수 있을지도 모른다. 자칫 간식을 못 받게 될지도 모른다는 위기감을 느낀 승환이는 자신의 컴퓨터 알고리즘적 지식을 활용해 과연 모든 사람들이 순서대로 간식을 받을 수 있는지 확인하는 프로그램을 만들기로 했다. 만약 불가능 하다면 승환이는 이번 중간고사를 망치게 될 것 이고 가능하다면 힘을 얻어 중간고사를 잘 볼 수 있을지도 모른다.\n",
    "\n",
    "사람들은 현재 1열로 줄을 서있고, 맨 앞의 사람만 이동이 가능하다. 인규는 번호표 순서대로만 통과할 수 있는 라인을 만들어 두었다. 이 라인과 대기열의 맨 앞 사람 사이에는 한 사람씩 1열이 들어갈 수 있는 공간이 있다. 현재 대기열의 사람들은 이 공간으로 올 수 있지만 반대는 불가능하다. 승환이를 도와 프로그램을 완성하라."
   ]
  },
  {
   "cell_type": "code",
   "execution_count": null,
   "metadata": {},
   "outputs": [
    {
     "name": "stdout",
     "output_type": "stream",
     "text": [
      "[3, 4]\n",
      "deque([])\n",
      "3 4\n",
      "Sad\n"
     ]
    }
   ],
   "source": [
    "# T자형 공간\n",
    "# 한번 스택열로 들어온 사람은 다시 대기열로 갈 수 없다.\n",
    "# 대기열의 가장 앞에 있는 사람이 해당 번호가 아니라면 일단 스택에 넣고,\n",
    "# while문을 통해 스택에서 가능한 경우를 모두 꺼낸다.\n",
    "# 위의 방법으로 반복시 대기열은 항상 비게되므로 while문의 break 조건으로 사용한다.\n",
    "# 사람의 수인 n과 현재 순서인 i를 비교해 n == i-1 이면 모두 간식을 받은 것으로 'Nice'를 출력한다.\n",
    "\n",
    "from collections import deque\n",
    "\n",
    "n = int(input())\n",
    "lines = deque(list(map(int, input().split())))\n",
    "stack = []\n",
    "atom = 1\n",
    "\n",
    "while True:\n",
    "    # 대기열의 앞 사람이 해당 번호인 경우\n",
    "    if lines[0]==atom:\n",
    "        lines.popleft()\n",
    "        atom+=1\n",
    "    else:   # 아닌 경우 스택에 넣기\n",
    "        stack.append(lines[0])\n",
    "        lines.popleft()\n",
    "    while stack and stack[-1]==atom:\n",
    "        stack.pop()\n",
    "        atom+=1\n",
    "    if not lines: break\n",
    "\n",
    "print('Nice') if atom-1==n else print('Sad')\n"
   ]
  },
  {
   "attachments": {},
   "cell_type": "markdown",
   "metadata": {},
   "source": [
    "### 괄호 끼워넣기\n",
    "- silver 3\n",
    "- https://www.acmicpc.net/problem/11899\n",
    "---\n",
    "승현이가 망가뜨리고 사용 가능한 올바르지 않은 괄호열이 주어질 때, 올바른 괄호열으로 만들기 위해 앞과 뒤에 붙여야 할 괄호의 최소 개수를 구하는 프로그램을 작성하세요."
   ]
  },
  {
   "cell_type": "code",
   "execution_count": null,
   "metadata": {},
   "outputs": [
    {
     "name": "stdout",
     "output_type": "stream",
     "text": [
      ") []\n",
      "( [')']\n",
      "( [')', '(']\n",
      ") [')', '(', '(']\n",
      "( [')', '(']\n",
      "( [')', '(', '(']\n",
      ") [')', '(', '(', '(']\n",
      ") [')', '(', '(']\n",
      ") [')', '(']\n",
      "1\n"
     ]
    }
   ],
   "source": [
    "# 단 하나는 올바른 괄호\n",
    "# 앞뒤에 적절하게 괄호를 붙여 올바른 괄호 만들기\n",
    "# -> 앞은 '('가 필요 뒤는 ')'가 필요\n",
    "\n",
    "brackets = input()\n",
    "stack = []\n",
    "\n",
    "for brac in brackets:\n",
    "    if stack and brac == ')' and stack[-1]=='(':\n",
    "        stack.pop()\n",
    "    else:   # 스택이 비었다면 push\n",
    "        stack.append(brac)\n",
    "\n",
    "print(len(stack))"
   ]
  },
  {
   "attachments": {},
   "cell_type": "markdown",
   "metadata": {},
   "source": [
    "### 과제는 끝나지 않아!\n",
    "- silver 3\n",
    "- https://www.acmicpc.net/problem/17952\n",
    "---\n",
    "성애는 이번 학기에 전공을 정말 많이 듣는다. 이로 인해 거의 매일을 과제를 하면서 보내고 있다. 그런데도 과제가 줄어들 기미가 보이지 않는데, 바로 분단위로 과제가 추가되고 있기 때문이다. 다행히 과제 제출 기한은 학기가 끝날 때까지이다. 너무나도 많은 과제를 하다가 미쳐버린 성애는 아래와 같은 규칙으로 과제를 해 나가고 있다.\n",
    "\n",
    "1. 과제는 가장 최근에 나온 순서대로 한다. 또한 과제를 받으면 바로 시작한다.\n",
    "2. 과제를 하던 도중 새로운 과제가 나온다면, 하던 과제를 중단하고 새로운 과제를 진행한다.\n",
    "3. 새로운 과제가 끝났다면, 이전에 하던 과제를 이전에 하던 부분부터 이어서 한다. (성애는 기억력이 좋기 때문에 아무리 긴 시간이 지나도 본인이 하던 부분을 기억할 수 있다.)\n",
    "\n",
    "성애는 과제를 받자마자 이 과제가 몇 분이 걸릴지 정확하게 알 수 있고, 성애가 제출한 과제는 무조건 만점을 받는다.\n",
    "\n",
    "성애는 이번 학기에 자기가 받을 과제 점수를 예상해보고 싶다. 하지만 과제 점수를 예상하는 지금도 과제가 추가되고 있기에 여유를 부릴 수가 없다. 여러분이 성애가 받을 과제 점수를 구해주자!\n",
    "\n",
    "* 입력<br>\n",
    "\n",
    "첫째 줄에 이번 학기가 몇 분인지를 나타내는 정수 N이 주어진다. (1 ≤ N ≤ 1,000,000)\n",
    "\n",
    "두번째 줄부터 N줄 동안은 학기가 시작하고 N분째에 주어진 과제의 정보가 아래의 두 경우 중 하나로 주어진다.\n",
    "\n",
    "1 A T: 과제의 만점은 A점이고, 성애가 이 과제를 해결하는데 T분이 걸린다. A와 T는 모두 정수이다. (1 ≤ A ≤ 100, 1 ≤ T ≤ 1,000,000)\n",
    "0: 해당 시점에는 과제가 주어지지 않았다."
   ]
  },
  {
   "cell_type": "code",
   "execution_count": null,
   "metadata": {},
   "outputs": [
    {
     "name": "stdout",
     "output_type": "stream",
     "text": [
      "1\n",
      "1\n",
      "120\n"
     ]
    }
   ],
   "source": [
    "n = int(input())\n",
    "total_score = 0\n",
    "stack = []\n",
    "\n",
    "for _ in range(n):\n",
    "    report = input()\n",
    "    if len(report)==1:          # 0이 들어오는 경우\n",
    "        if stack:               # stack에 중단된 과제가 있으면\n",
    "            A,T = stack.pop()   # 꺼내기\n",
    "        else: continue          # stack에 중단된 과제가 없다면 continue\n",
    "    else:\n",
    "        atom, A, T = map(int,report.split())   # 1이 들어오는 경우\n",
    "    if T-1==0:                  # 해당 과제를 이번 시점에 해결할 수 있는 경우\n",
    "        total_score+=A\n",
    "    else:\n",
    "        stack.append([A,T-1])   # 해당 과제를 이번 시점에 해결하지 못한 경우\n",
    "    \n",
    "print(total_score)"
   ]
  },
  {
   "attachments": {},
   "cell_type": "markdown",
   "metadata": {},
   "source": [
    "### 천재 수학자 성필\n",
    "- silver 3\n",
    "- https://www.acmicpc.net/problem/15815\n",
    "---\n",
    "평행 세계의 성필은 숫자와 연산자를 만든 당대 최고의 수학자이다. 그리고 놀랍게도 이 숫자와 연산자는 현재 우리가 사용하는 것과 같다. 하지만 수식은 연산자가 피연산자 가운데 위치하는 우리와는 다르게 연산자가 피연산자 뒤에 위치한다고 한다.\n",
    "\n",
    "우리 세계의 식을 성필의 식으로 바꾸는 방법을 간단히 설명하자면 이렇다. 우선 주어진 식을 연산자의 우선순위에 따라 괄호로 묶어준다. 그런 다음에 괄호 안의 연산자를 괄호의 오른쪽으로 옮겨주면 된다.\n",
    "\n",
    "예를 들어 a+b*c는 (a+(b*c))의 식과 같게 된다. 그다음에 안에 있는 괄호의 연산자 *를 괄호 밖으로 꺼내게 되면 a+bc*가 된다. 마지막으로 또 +를 괄호의 오른쪽으로 고치면 abc*+가 되게 된다.\n",
    "\n",
    "천재 수학자 성필은 자신이 만든 이런 간단한 식조차 1초 안에 계산하지 못하는 사람들을 위하여 답을 구해주는 프로그램을 개발하려고 했지만 아쉽게도 성필의 세계에는 프로그래밍 언어가 없다. 프로그래밍을 할 수 있는 우리가 성필을 위해 평행세계의 식을 계산하는 프로그램을 만들어주자."
   ]
  },
  {
   "cell_type": "code",
   "execution_count": null,
   "metadata": {},
   "outputs": [
    {
     "name": "stdout",
     "output_type": "stream",
     "text": [
      "7\n"
     ]
    }
   ],
   "source": [
    "import sys\n",
    "input = sys.stdin.readline\n",
    "\n",
    "# postfix -> prefix\n",
    "postfix = input()\n",
    "stack = []\n",
    "\n",
    "for p in postfix:\n",
    "    if p.isnumeric():\n",
    "        stack.append(int(p))\n",
    "    else:\n",
    "        b = stack.pop()\n",
    "        a = stack.pop()\n",
    "        if p == '+':    stack.append(a+b)\n",
    "        elif p ==\"-\":   stack.append(a-b)\n",
    "        elif p ==\"*\":   stack.append(a*b)\n",
    "        else:   stack.append(a/b)\n",
    "print(int(stack[-1]))"
   ]
  },
  {
   "attachments": {},
   "cell_type": "markdown",
   "metadata": {},
   "source": [
    "### queuestack\n",
    "- silver 3\n",
    "- https://www.acmicpc.net/problem/24511\n",
    "---\n",
    "한가롭게 방학에 놀고 있던 도현이는 갑자기 재밌는 자료구조를 생각해냈다. 그 자료구조의 이름은 queuestack이다.\n",
    "\n",
    "queuestack의 구조는 다음과 같다. \n",
    "$1$번, \n",
    "$2$번, ... , \n",
    "$N$번의 자료구조(queue 혹은 stack)가 나열되어있으며, 각각의 자료구조에는 한 개의 원소가 들어있다.\n",
    "\n",
    "queuestack의 작동은 다음과 같다.\n",
    "\n",
    " \n",
    "1. $x_0$을 입력받는다.\n",
    "2. $x_0$을 $1$번 자료구조에 삽입한 뒤 $1$번 자료구조에서 원소를 pop한다. 그때 pop된 원소를 $x_1$이라 한다.\n",
    "3. $x_1$을 $2$번 자료구조에 삽입한 뒤 $2$번 자료구조에서 원소를 pop한다. 그때 pop된 원소를 $x_2$이라 한다.\n",
    "...\n",
    "4. $x_{N-1}$을 $N$번 자료구조에 삽입한 뒤 $N$번 자료구조에서 원소를 pop한다. 그때 pop된 원소를 $x_N$이라 한다.\n",
    "5. $x_N$을 리턴한다.\n",
    "\n",
    "도현이는 길이 $M$의 수열 $C$를 가져와서 수열의 원소를 앞에서부터 차례대로 queuestack에 삽입할 것이다. 이전에 삽입한 결과는 남아 있다. (예제 \n",
    "$1$ 참고)\n",
    "\n",
    "queuestack에 넣을 원소들이 주어졌을 때, 해당 원소를 넣은 리턴값을 출력하는 프로그램을 작성해보자."
   ]
  },
  {
   "cell_type": "code",
   "execution_count": null,
   "metadata": {},
   "outputs": [
    {
     "name": "stdout",
     "output_type": "stream",
     "text": [
      "4 1 2\n"
     ]
    }
   ],
   "source": [
    "# 전략\n",
    "# 자료구조의 크기는 1 -> stack의 경우 FILO으로 입력값은 항상 다음 자료구조로 넘어간다.(pass)\n",
    "# stack은 넣을 필요가 없으므로, queue만 원소를 넣고, deque를 이용해서 구현\n",
    "# popleft() 대신 list slicing\n",
    "import sys\n",
    "input = sys.stdin.readline\n",
    "queuestack = []\n",
    "\n",
    "# input data\n",
    "n = int(input().rstrip())\n",
    "is_stack = list(map(int,input().split()))[::-1]\n",
    "temp_lst = input().split()[::-1]\n",
    "\n",
    "# 자료구조가 queue인 원소만 삽입\n",
    "for atom,li in enumerate(temp_lst):\n",
    "    if not is_stack[atom]: \n",
    "        queuestack.append(li)\n",
    "\n",
    "# 리스트 병합으로 한번에 삽입\n",
    "m = int(input().rstrip())\n",
    "queuestack+=input().split()\n",
    "\n",
    "# 반복으로 popleft하기보다 슬라이싱\n",
    "print(' '.join(queuestack[:m]))\n",
    "\n",
    "# 메모리 : 143240 kb, 시간: 192 ms\n",
    "# 오류 났던 부분\n",
    "# queue를 사용하지 않기 위해 temp_lst를 reverse 했지만, is_stack은 하지 않음\n",
    "# slicing -> m 으로 해야하지만, n으로 함"
   ]
  },
  {
   "attachments": {},
   "cell_type": "markdown",
   "metadata": {},
   "source": [
    "### I LOVE JavaScript\n",
    "- silver 3\n",
    "- https://www.acmicpc.net/problem/27969\n",
    "---\n",
    "ASON은 대괄호([ ]) 안에 객체에 대한 정보를 표기하는 방법이다. ASON 객체는 다음과 같이 표기한다.\n",
    "\n",
    "[ (원소) (원소) (원소) ... (원소) ]\n",
    "\n",
    "이때 (원소)로 허용되는 것은 양의 정수 자료형의 표기, 문자열 자료형의 표기 또는 다른 ASON 객체의 표기이다. 원소와 원소 사이, 원소와 대괄호 사이에는 하나의 스페이스 문자(' ')가 반드시 들어가 있어야 하며, 기타 모든 공백 문자는 허용하지 않는다. 또한 어떤 원소도 포함하지 않는 빈 ASON 객체가 있을 수 있는데, 이 객체는 [ ]로 표기한다. 대괄호 사이에 하나의 스페이스 문자가 들어가 있음에 유의하시오.\n",
    "\n",
    "빈 ASON 객체는 어떤 다른 원소도 소유하지 않으므로 \n",
    "$8$byte만큼의 용량을 차지한다. ASON 객체의 유효한 표기가 주어지면, 그 객체의 용량을 계산하는 프로그램을 작성하시오."
   ]
  },
  {
   "cell_type": "code",
   "execution_count": null,
   "metadata": {},
   "outputs": [
    {
     "name": "stdout",
     "output_type": "stream",
     "text": [
      "[] 0\n",
      "['['] 0\n",
      "['[', '['] 0\n",
      "['[', '[', '['] 0\n",
      "['[', '[', '[', '['] 0\n",
      "['[', '[', '[', '[', '['] 0\n",
      "['[', '[', '[', '[', '[', '['] 0\n",
      "['[', '[', '[', '[', '[', '[', '['] 0\n",
      "['[', '[', '[', '[', '[', '[', '[', 'aGCu'] 0\n",
      "['[', '[', '[', '[', '[', '['] 24\n",
      "['[', '[', '[', '[', '['] 32\n",
      "['[', '[', '[', '['] 40\n",
      "['[', '[', '['] 48\n",
      "['[', '['] 56\n",
      "['['] 64\n",
      "['[', '998244353998'] 64\n",
      "[] 80\n"
     ]
    }
   ],
   "source": [
    "### ASON객체 용량 계산법\n",
    "# 해당 객체가 소유한 모든 원소 용량의 합 + 8bytes\n",
    "# 양수 - 8byte\n",
    "# 문자열 - 길이 + 12byte\n",
    "# 객체 - 8byte\n",
    "\n",
    "import sys\n",
    "input = sys.stdin.readline\n",
    "\n",
    "ason_lst = input().split()\n",
    "capacity = 0\n",
    "stack = []\n",
    "for ason in ason_lst:\n",
    "    if ason==']':\n",
    "        temp_c = 8\n",
    "        t = stack.pop()\n",
    "        while t!='[':\n",
    "            if t.isalpha():\n",
    "                temp_c+=len(t)+12\n",
    "            else:\n",
    "                temp_c+=8\n",
    "            t = stack.pop()\n",
    "        capacity += temp_c\n",
    "    else:\n",
    "        stack.append(ason)\n",
    "\n",
    "print(capacity)"
   ]
  },
  {
   "attachments": {},
   "cell_type": "markdown",
   "metadata": {},
   "source": [
    "### 스택 수열\n",
    "- silver 2\n",
    "- https://www.acmicpc.net/problem/1874\n",
    "---\n",
    "1부터 n까지의 수를 스택에 넣었다가 뽑아 늘어놓음으로써, 하나의 수열을 만들 수 있다. 이때, 스택에 push하는 순서는 반드시 오름차순을 지키도록 한다고 하자. 임의의 수열이 주어졌을 때 스택을 이용해 그 수열을 만들 수 있는지 없는지, 있다면 어떤 순서로 push와 pop 연산을 수행해야 하는지를 알아낼 수 있다. 이를 계산하는 프로그램을 작성하라."
   ]
  },
  {
   "cell_type": "code",
   "execution_count": null,
   "metadata": {},
   "outputs": [
    {
     "name": "stdout",
     "output_type": "stream",
     "text": [
      "NO\n"
     ]
    }
   ],
   "source": [
    "#n = int(input())\n",
    "# push -> while(stack[-1] == cur -> pop())\n",
    "import sys\n",
    "\n",
    "input = sys.stdin.readline\n",
    "n = int(input().rstrip())\n",
    "num_lst = []\n",
    "for _ in range(n):\n",
    "    num_lst.append(int(input().rstrip()))\n",
    "stack = []\n",
    "cur = 0\n",
    "cmd_lst = \"\"\n",
    "\n",
    "for atom in range(1,n+1):\n",
    "    stack.append(atom)\n",
    "    cmd_lst += '+'\n",
    "    while stack and stack[-1] == num_lst[cur]:\n",
    "        stack.pop()\n",
    "        cur+=1\n",
    "        cmd_lst +='-'\n",
    "\n",
    "if stack : print('NO')\n",
    "else:\n",
    "    for cmd in cmd_lst:\n",
    "        print(cmd)"
   ]
  },
  {
   "attachments": {},
   "cell_type": "markdown",
   "metadata": {},
   "source": [
    "### 에디터\n",
    "- silver 2\n",
    "- https://www.acmicpc.net/problem/1406\n",
    "---\n",
    "한 줄로 된 간단한 에디터를 구현하려고 한다. 이 편집기는 영어 소문자만을 기록할 수 있는 편집기로, 최대 600,000글자까지 입력할 수 있다.\n",
    "\n",
    "이 편집기에는 '커서'라는 것이 있는데, 커서는 문장의 맨 앞(첫 번째 문자의 왼쪽), 문장의 맨 뒤(마지막 문자의 오른쪽), 또는 문장 중간 임의의 곳(모든 연속된 두 문자 사이)에 위치할 수 있다. 즉 길이가 L인 문자열이 현재 편집기에 입력되어 있으면, 커서가 위치할 수 있는 곳은 L+1가지 경우가 있다.\n",
    "\n",
    "이 편집기가 지원하는 명령어는 다음과 같다.\n",
    "\n",
    "L\t커서를 왼쪽으로 한 칸 옮김 (커서가 문장의 맨 앞이면 무시됨)<br>\n",
    "D\t커서를 오른쪽으로 한 칸 옮김 (커서가 문장의 맨 뒤이면 무시됨)<br>\n",
    "B\t커서 왼쪽에 있는 문자를 삭제함 (커서가 문장의 맨 앞이면 무시됨) <br>\n",
    "->삭제로 인해 커서는 한 칸 왼쪽으로 이동한 것처럼 나타나지만, 실제로 커서의 오른쪽에 있던 문자는 그대로임<br>\n",
    "P $\t$라는 문자를 커서 왼쪽에 추가함<br><br>\n",
    "초기에 편집기에 입력되어 있는 문자열이 주어지고, 그 이후 입력한 명령어가 차례로 주어졌을 때, 모든 명령어를 수행하고 난 후 편집기에 입력되어 있는 문자열을 구하는 프로그램을 작성하시오. 단, 명령어가 수행되기 전에 커서는 문장의 맨 뒤에 위치하고 있다고 한다."
   ]
  },
  {
   "cell_type": "code",
   "execution_count": 2,
   "metadata": {},
   "outputs": [
    {
     "name": "stdout",
     "output_type": "stream",
     "text": [
      "yxabc\n"
     ]
    }
   ],
   "source": [
    "# insert, remove -> O(n)으로 시간초과 판정\n",
    "# cursor 대신 stack 2개를 사용\n",
    "# st1 (cursor) st2\n",
    "# st2는 append를 사용했기 때문에 reversed\n",
    "\n",
    "import sys\n",
    "input = sys.stdin.readline\n",
    "\n",
    "st1 = list(input().rstrip())\n",
    "st2 = []\n",
    "\n",
    "for _ in range(int(input().rstrip())):\n",
    "    cmd = input().split()\n",
    "    if cmd[0] == 'L' and st1: st2.append(st1.pop())\n",
    "    elif cmd[0] == 'D' and st2: st1.append(st2.pop())\n",
    "    elif cmd[0] == 'B' and st1: st1.pop()\n",
    "    elif cmd[0] == 'P': st1.append(cmd[-1])\n",
    "\n",
    "print(''.join(st1+st2[::-1]))"
   ]
  },
  {
   "attachments": {},
   "cell_type": "markdown",
   "metadata": {},
   "source": [
    "### 쇠막대기\n",
    "- silver 2\n",
    "- https://www.acmicpc.net/problem/10799\n",
    "---\n",
    "여러 개의 쇠막대기를 레이저로 절단하려고 한다. 효율적인 작업을 위해서 쇠막대기를 아래에서 위로 겹쳐 놓고, 레이저를 위에서 수직으로 발사하여 쇠막대기들을 자른다. 쇠막대기와 레이저의 배치는 다음 조건을 만족한다.\n",
    "\n",
    "쇠막대기는 자신보다 긴 쇠막대기 위에만 놓일 수 있다. - 쇠막대기를 다른 쇠막대기 위에 놓는 경우 완전히 포함되도록 놓되, 끝점은 겹치지 않도록 놓는다.\n",
    "각 쇠막대기를 자르는 레이저는 적어도 하나 존재한다.\n",
    "레이저는 어떤 쇠막대기의 양 끝점과도 겹치지 않는다.\n",
    "아래 그림은 위 조건을 만족하는 예를 보여준다. 수평으로 그려진 굵은 실선은 쇠막대기이고, 점은 레이저의 위치, 수직으로 그려진 점선 화살표는 레이저의 발사 방향이다.\n",
    "\n",
    "\n",
    "\n",
    "이러한 레이저와 쇠막대기의 배치는 다음과 같이 괄호를 이용하여 왼쪽부터 순서대로 표현할 수 있다.\n",
    "\n",
    "레이저는 여는 괄호와 닫는 괄호의 인접한 쌍 ‘( ) ’ 으로 표현된다. 또한, 모든 ‘( ) ’는 반드시 레이저를 표현한다.\n",
    "쇠막대기의 왼쪽 끝은 여는 괄호 ‘ ( ’ 로, 오른쪽 끝은 닫힌 괄호 ‘) ’ 로 표현된다.\n",
    "위 예의 괄호 표현은 그림 위에 주어져 있다.\n",
    "\n",
    "쇠막대기는 레이저에 의해 몇 개의 조각으로 잘려지는데, 위 예에서 가장 위에 있는 두 개의 쇠막대기는 각각 3개와 2개의 조각으로 잘려지고, 이와 같은 방식으로 주어진 쇠막대기들은 총 17개의 조각으로 잘려진다.\n",
    "\n",
    "쇠막대기와 레이저의 배치를 나타내는 괄호 표현이 주어졌을 때, 잘려진 쇠막대기 조각의 총 개수를 구하는 프로그램을 작성하시오."
   ]
  },
  {
   "cell_type": "code",
   "execution_count": null,
   "metadata": {},
   "outputs": [],
   "source": [
    "# '(' -> push\n",
    "# ')' -> 레이저라면 stack의 길이 + or 막대기의 끝이라면 +1\n",
    "import sys\n",
    "\n",
    "input=sys.stdin.readline\n",
    "bar_lst = input().rstrip()\n",
    "stack = []\n",
    "cnt,laser = 0,0\n",
    "\n",
    "for bar in bar_lst:\n",
    "    if bar==')':\n",
    "        stack.pop()\n",
    "        if laser: cnt+=1\n",
    "        else:\n",
    "            cnt+=len(stack)\n",
    "            laser=1\n",
    "    else:\n",
    "        stack.append(bar)\n",
    "        laser = 0\n",
    "\n",
    "print(cnt)"
   ]
  },
  {
   "attachments": {},
   "cell_type": "markdown",
   "metadata": {},
   "source": [
    "### 키로거\n",
    "- silver 2\n",
    "- https://www.acmicpc.net/problem/5397\n",
    "---\n",
    "창영이는 강산이의 비밀번호를 훔치기 위해서 강산이가 사용하는 컴퓨터에 키로거를 설치했다. 며칠을 기다린 끝에 창영이는 강산이가 비밀번호 창에 입력하는 글자를 얻어냈다.\n",
    "\n",
    "키로거는 사용자가 키보드를 누른 명령을 모두 기록한다. 따라서, 강산이가 비밀번호를 입력할 때, 화살표나 백스페이스를 입력해도 정확한 비밀번호를 알아낼 수 있다. \n",
    "\n",
    "강산이가 비밀번호 창에서 입력한 키가 주어졌을 때, 강산이의 비밀번호를 알아내는 프로그램을 작성하시오. 강산이는 키보드로 입력한 키는 알파벳 대문자, 소문자, 숫자, 백스페이스, 화살표이다."
   ]
  },
  {
   "cell_type": "code",
   "execution_count": 4,
   "metadata": {},
   "outputs": [
    {
     "name": "stdout",
     "output_type": "stream",
     "text": [
      "ThIsIsS3Cr3t\n"
     ]
    }
   ],
   "source": [
    "# stack + cursor + stack\n",
    "import sys\n",
    "input = sys.stdin.readline\n",
    "\n",
    "for _ in range(int(input().rstrip())):\n",
    "    st1, st2 = [], []\n",
    "    typing_str = input()\n",
    "    for cmd in typing_str:\n",
    "        if cmd =='<' and st1:\n",
    "            st2.append(st1.pop())\n",
    "        elif cmd =='>' and st2:\n",
    "            st1.append(st2.pop())\n",
    "        elif cmd == '-' and st1:\n",
    "            st1.pop()\n",
    "        elif cmd.isalpha() or cmd.isnumeric():\n",
    "            st1.append(cmd)\n",
    "    print(''.join(st1+st2[::-1]))"
   ]
  },
  {
   "attachments": {},
   "cell_type": "markdown",
   "metadata": {},
   "source": [
    "### 창고 다각형\n",
    "- silver 2\n",
    "- https://www.acmicpc.net/problem/2304\n",
    "---\n",
    "N 개의 막대 기둥이 일렬로 세워져 있다. 기둥들의 폭은 모두 1 m이며 높이는 다를 수 있다. 이 기둥들을 이용하여 양철로 된 창고를 제작하려고 한다. 창고에는 모든 기둥이 들어간다. 이 창고의 지붕을 다음과 같이 만든다.\n",
    "\n",
    "1. 지붕은 수평 부분과 수직 부분으로 구성되며, 모두 연결되어야 한다.\n",
    "2. 지붕의 수평 부분은 반드시 어떤 기둥의 윗면과 닿아야 한다.\n",
    "3. 지붕의 수직 부분은 반드시 어떤 기둥의 옆면과 닿아야 한다.\n",
    "4. 지붕의 가장자리는 땅에 닿아야 한다.\n",
    "5. 비가 올 때 물이 고이지 않도록 지붕의 어떤 부분도 오목하게 들어간 부분이 없어야 한다.<br><br>\n",
    "그림 1은 창고를 옆에서 본 모습을 그린 것이다. 이 그림에서 굵은 선으로 표시된 부분이 지붕에 해당되고, 지붕과 땅으로 둘러싸인 다각형이 창고를 옆에서 본 모습이다. 이 다각형을 창고 다각형이라고 하자.\n",
    "\n",
    "창고 주인은 창고 다각형의 면적이 가장 작은 창고를 만들기를 원한다.\n",
    "기둥들의 위치와 높이가 주어질 때, 가장 작은 창고 다각형의 면적을 구하는 프로그램을 작성하시오."
   ]
  },
  {
   "cell_type": "code",
   "execution_count": 3,
   "metadata": {},
   "outputs": [
    {
     "name": "stdout",
     "output_type": "stream",
     "text": [
      "40\n"
     ]
    }
   ],
   "source": [
    "# 정점을 찾아 왼쪽 오른쪽 각각 계산\n",
    "import sys\n",
    "\n",
    "input = sys.stdin.readline\n",
    "n = int(input().rstrip())\n",
    "\n",
    "pillar_lst = [list(map(int,input().split())) for _ in range(n)]\n",
    "pillar_lst.sort()\n",
    "\n",
    "top_x,top_y = max(pillar_lst, key=lambda x:x[1])\n",
    "\n",
    "def calculate_area(pillar_lst):\n",
    "    area=0\n",
    "    pre_x,pre_y = pillar_lst[0]\n",
    "    \n",
    "    for x,y in pillar_lst[1:]:\n",
    "        if x == top_x: \n",
    "            area += abs(x-pre_x)*pre_y\n",
    "            return area\n",
    "        elif y > pre_y :\n",
    "            area += abs(x-pre_x)*pre_y\n",
    "            pre_x,pre_y = x,y\n",
    "    return area\n",
    "\n",
    "print(top_y+calculate_area(pillar_lst)+calculate_area(list(reversed(pillar_lst))))"
   ]
  },
  {
   "attachments": {},
   "cell_type": "markdown",
   "metadata": {},
   "source": [
    "### 화학식량\n",
    "- silver 2\n",
    "- https://www.acmicpc.net/problem/2257\n",
    "---\n",
    "물의 화학식을 보고 물은 두 개의 수소 원자와 한 개의 산소 원자로 이루어졌음을 알 수 있다. 또한 아세트산의 화학식처럼 한 종류의 알파벳이 화학식에 여러 번 나타날 수도 있다. 실제 화학식 또한 이렇게 사용되는데, 이는 분자의 결합 구조를 나타내기 위함이다.\n",
    "\n",
    "종종 화학식에는 괄호가 사용되기도 하는데 괄호로 묶인 원자들은 하나의 새로운 원자와 같은 작용을 한다. 따라서 CH(CO2H)(CO2H)(CO2H) 분자는 CH(CO2H)3와 같이 나타낼 수 있다. 괄호 안에 아무런 알파벳도 없는 경우도 있을 수 있는데, 이런 경우는 괄호가 없는 경우와 마찬가지라고 생각하면 된다.\n",
    "\n",
    "이러한 화학식을 보고 우리는 화학식량을 계산할 수 있는데, 화학식량이란 그 화학식에 포함되어 있는 모든 원자들의 질량의 합을 말한다. 수소 원자 하나의 질량은 1, 탄소 원자 하나의 질량은 12, 산소 원자 하나의 질량은 16이다. 물은 두 개의 수소 원자와 한 개의 산소 원자로 이루어져 있으므로 물의 화학식량은 18이다.\n",
    "\n",
    "화학식이 주어졌을 때, 이 화학식의 화학식량을 계산하는 프로그램을 작성하시오. 화학식은 수소, 탄소, 산소만을 포함하고 있는 것만이 입력으로 주어진다."
   ]
  },
  {
   "cell_type": "code",
   "execution_count": 18,
   "metadata": {},
   "outputs": [
    {
     "name": "stdout",
     "output_type": "stream",
     "text": [
      "222\n"
     ]
    }
   ],
   "source": [
    "# 닫는 괄호가 나오면 괄호 내부를 pop해서 계산해 숫자만 push\n",
    "# 문자 -> push(숫자)\n",
    "# 숫자 -> stack[-1] *= 숫자\n",
    "import sys\n",
    "\n",
    "input = sys.stdin.readline\n",
    "weight = {'H':1,'C':12,'O':16}\n",
    "stack = []\n",
    "\n",
    "for atom in input().rstrip():\n",
    "    if atom == \"(\": stack.append(atom)\n",
    "    elif atom == \")\":\n",
    "        num = 0\n",
    "        while True:\n",
    "            k = stack.pop()\n",
    "            if k == \"(\": break\n",
    "            num += k\n",
    "        stack.append(num)\n",
    "    elif atom in weight: stack.append(weight[atom])\n",
    "    else: stack[-1] *= int(atom)\n",
    "\n",
    "print(sum(stack))"
   ]
  },
  {
   "attachments": {},
   "cell_type": "markdown",
   "metadata": {},
   "source": [
    "### 알파벳 블록\n",
    "- silver 2\n",
    "- https://www.acmicpc.net/problem/27497\n",
    "---\n",
    "스타는 알파벳 블록을 일렬로 조립하여 문자열을 만드는 게임을 만들었다. 각 블록에는 문자 하나가 적혀 있으며 게임에는 각각 다음 기능을 수행하는 세 개의 버튼이 있다.\n",
    "\n",
    "문자열 맨 뒤에 블록 추가\n",
    "문자열 맨 앞에 블록 추가\n",
    "문자열을 구성하는 블록 중 가장 나중에 추가된 블록 제거\n",
    "게임은 처음에 빈 문자열로 시작하며 빈 문자열일 때 문자열을 구성하는 블록 중 가장 나중에 추가된 블록을 제거하는 버튼을 누를 경우 아무런 동작도 하지 않는다. 버튼을 누른 횟수와 누른 버튼이 순서대로 주어질 때 완성된 문자열을 구하여라."
   ]
  },
  {
   "cell_type": "code",
   "execution_count": 7,
   "metadata": {},
   "outputs": [
    {
     "data": {
      "text/plain": [
       "'0'"
      ]
     },
     "execution_count": 7,
     "metadata": {},
     "output_type": "execute_result"
    }
   ],
   "source": [
    "# deque을 이용해 앞,뒤로 추가\n",
    "# 마지막에 추가한 문자열을 식별하기 위해 stack 사용\n",
    "from collections import deque\n",
    "import sys\n",
    "\n",
    "input = sys.stdin.readline\n",
    "st1 = deque()\n",
    "st2 = []\n",
    "\n",
    "for _ in range(int(input().rstrip())):\n",
    "    cmd = input().split()\n",
    "    if cmd[0] == '1':\n",
    "        st1.append(cmd[1])\n",
    "        st2.append(0)\n",
    "    elif cmd[0] == '2':\n",
    "        st1.appendleft(cmd[1])\n",
    "        st2.append(1)\n",
    "    else:\n",
    "        if st1:\n",
    "            st1.popleft() if st2.pop() else st1.pop()\n",
    "print(''.join(st1)) if st1 else print('0')"
   ]
  },
  {
   "attachments": {},
   "cell_type": "markdown",
   "metadata": {},
   "source": [
    "### 이상한 하노이 탑\n",
    "- silver 2\n",
    "- https://www.acmicpc.net/problem/15500\n",
    "---\n",
    "승민이는 기존 하노이 탑 문제를 약간 변형한 이상한 하노이 탑 문제를 만들었다.\n",
    "\n",
    "이상한 하노이 탑 문제와 기존 하노이 탑 문제와 다른 점이 2가지가 있는데 하나는 \"쌓아 놓은 원판은 항상 위의 것이 아래의 것보다 작아야 한다.(중간 과정 역시 그래야함)\" 라는 조건이 삭제되었다는 점이고 또 다른 하나는 첫 번째 장대에 원판들이 반경 상관없이 무작위로 배치되어 있다는 점이다.\n",
    "\n",
    "승민이는 이 문제를 진수에게 주었고 원판을 옮긴 횟수가 12345보다 같거나 작으면 피자를 사주기로 하였다. 진수를 도와 피자를 먹게 해주자!"
   ]
  },
  {
   "cell_type": "code",
   "execution_count": 2,
   "metadata": {},
   "outputs": [
    {
     "name": "stdout",
     "output_type": "stream",
     "text": [
      "4\n",
      "1 2\n",
      "1 3\n",
      "1 3\n",
      "2 3\n"
     ]
    }
   ],
   "source": [
    "# 일반적인 하노이 탑 규칙x\n",
    "# 간단하게 구현 가능, 2개의 스택 사용\n",
    "import sys\n",
    "input = sys.stdin.readline\n",
    "\n",
    "n = int(input().rstrip())\n",
    "st1 = list(map(int,input().split()))\n",
    "st2, result= [], []\n",
    "\n",
    "while n>0 :\n",
    "    while st1:\n",
    "        if st1[-1]==n:\n",
    "            result.append(1)\n",
    "            st1.pop()\n",
    "            n-=1\n",
    "        else:\n",
    "            result.append(2)\n",
    "            st2.append(st1.pop())\n",
    "    while st2:\n",
    "        if st2[-1]==n:\n",
    "            result.append(3)\n",
    "            st2.pop()\n",
    "            n-=1\n",
    "        else:\n",
    "            result.append(4)\n",
    "            st1.append(st2.pop())\n",
    "\n",
    "print(result.__len__())\n",
    "for r in result:\n",
    "    if r==1:   print('1 3')\n",
    "    elif r==2: print('1 2')\n",
    "    elif r==3: print('2 3')\n",
    "    else: print('2 1')\n",
    "    "
   ]
  },
  {
   "attachments": {},
   "cell_type": "markdown",
   "metadata": {},
   "source": [
    "### 원숭이 매달기\n",
    "- silver 2\n",
    "- https://www.acmicpc.net/problem/2716\n",
    "---\n",
    "깊은 아마존 정글에 거대한 나무들에서 갈색 원숭이들이 매우 좋아하는 무화과가 열리고, 이 나무에는 향나무노린재들이 서식하고 있다.\n",
    "\n",
    "나무 꼭대기에 도달하기 위해서 원숭이들은 매우 조심스럽게 나무에 올라가는 길을 찾아야한다. 거대한 나무는 부서지기 쉬운 덩굴들이 있는데 이 덩굴들은 시소의 원리와 비슷하다. 덩굴의 무게가 불균형 하면 그 덩굴은 끊어지며 그 원숭이들은 땅으로 떨어져버린다. 원숭이들은 서로 협력하여 덩굴의 균형을 유지한다면 그들은 모두 무화과가 열리고 향나무노린재들이 서식하는 나무 꼭대기에 도달할 수 있다는 것을 발견했다.\n",
    "\n",
    "덩굴은 두개의 덩굴로 나눠질 수 있는데 덩굴이 끊어지지 않기 위해서는 나눠진 두 덩굴은 같은 수의 원숭이들이 매달려 있어야한다. 덩굴의 나눠지는 지점을 \"[]\"로 정의 내리면 덩굴의 구조를 꺾쇠괄호로 표시할 수 있다. 또한 덩굴의 깊이는 25를 넘지 않는다.\n",
    "\n",
    "원숭이들은 덩굴의 균형을 유지하면서 나무꼭대기에 도달할 수 있는 최소 원숭이 수를 알고 싶다. 나무 꼭대기에 도달하기 위해서 최소 한 마리 원숭이가 필요하다."
   ]
  },
  {
   "cell_type": "code",
   "execution_count": 6,
   "metadata": {},
   "outputs": [
    {
     "name": "stdout",
     "output_type": "stream",
     "text": [
      "2\n",
      "1\n",
      "8\n"
     ]
    }
   ],
   "source": [
    "# 덩굴이 나눠지는 지점 [] 당 2개\n",
    "# 가장 깊은 지점 = [] == [1,1] \n",
    "# -> 괄호를 벗어나며 괄호 안의 값중 큰 값*2\n",
    "# [[][]] -> [2,2] -> 4\n",
    "# [a,b] -> push(max(a,b)*2)\n",
    "\n",
    "for _ in range(int(input().rstrip())):\n",
    "    stack = []\n",
    "    test = input()\n",
    "    if not test: print(1)\n",
    "    else: \n",
    "        for t in test:\n",
    "            if t=='[': stack.append(t)\n",
    "            elif t==']':\n",
    "                tmp = [1]\n",
    "                k = stack.pop()\n",
    "                while k!='[':\n",
    "                    tmp.append(int(k))\n",
    "                    k = stack.pop()\n",
    "                stack.append(max(tmp)*2)\n",
    "        print(stack[-1])"
   ]
  },
  {
   "attachments": {},
   "cell_type": "markdown",
   "metadata": {},
   "source": [
    "### 외계인의 기타 연주\n",
    "- silver 1\n",
    "- https://www.acmicpc.net/problem/2841\n",
    "---\n",
    "상근이의 상상의 친구 외계인은 손가락을 수십억개 가지고 있다. 어느 날 외계인은 기타가 치고 싶었고, 인터넷에서 간단한 멜로디를 검색했다. 이제 이 기타를 치려고 한다.\n",
    "\n",
    "보통 기타는 1번 줄부터 6번 줄까지 총 6개의 줄이 있고, 각 줄은 P개의 프렛으로 나누어져 있다. 프렛의 번호도 1번부터 P번까지 나누어져 있다.\n",
    "\n",
    "멜로디는 음의 연속이고, 각 음은 줄에서 해당하는 프렛을 누르고 줄을 튕기면 연주할 수 있다. 예를 들면, 4번 줄의 8번 프렛을 누르고 튕길 수 있다. 만약, 어떤 줄의 프렛을 여러 개 누르고 있다면, 가장 높은 프렛의 음이 발생한다.\n",
    "\n",
    "예를 들어, 3번 줄의 5번 프렛을 이미 누르고 있다고 하자. 이때, 7번 프렛을 누른 음을 연주하려면, 5번 프렛을 누르는 손을 떼지 않고 다른 손가락으로 7번 프렛을 누르고 줄을 튕기면 된다. 여기서 2번 프렛의 음을 연주하려고 한다면, 5번과 7번을 누르던 손가락을 뗀 다음에 2번 프렛을 누르고 연주해야 한다.\n",
    "\n",
    "이렇게 손가락으로 프렛을 한 번 누르거나 떼는 것을 손가락을 한 번 움직였다고 한다. 어떤 멜로디가 주어졌을 때, 손가락의 가장 적게 움직이는 회수를 구하는 프로그램을 작성하시오."
   ]
  },
  {
   "cell_type": "code",
   "execution_count": 15,
   "metadata": {},
   "outputs": [
    {
     "name": "stdout",
     "output_type": "stream",
     "text": [
      "1 5 {'1': [5]}\n",
      "2 3 {'1': [5], '2': [3]}\n",
      "2 5 {'1': [5], '2': [3, 5]} 3\n",
      "2 7 {'1': [5], '2': [3, 5, 7]} 4\n",
      "2 4 {'1': [5], '2': [3, 5, 7]} 4\n",
      "2 4 {'1': [5], '2': [3, 5]} 5\n",
      "2 4 {'1': [5], '2': [3]} 6\n",
      "1 5 {'1': [5], '2': [3, 4]} 7\n",
      "1 3 {'1': [5], '2': [3, 4]} 7\n",
      "1 3 {'1': [], '2': [3, 4]} 8\n",
      "9\n"
     ]
    }
   ],
   "source": [
    "# while 현재 fret이 스택 top의 fret보다 작거나 같을 때까지 pop()\n",
    "# 사용하는 줄만 스택 생성-> 딕셔너리 추가 -> 리소스 절약\n",
    "import sys\n",
    "input = sys.stdin.readline\n",
    "\n",
    "N,P = input().split()   # N: 멜로디 수, P: fret의 수\n",
    "stack = {}              # dictionary stack\n",
    "move = 0                # finger movement\n",
    "\n",
    "for _ in range(int(N)):    \n",
    "    line, fret = input().split()\n",
    "    fret = int(fret)\n",
    "\n",
    "    # 누른 적이 없는 새로운 줄이라면\n",
    "    if not line in stack.keys():\n",
    "        stack[line] = [fret]    # 딕셔너리에 line 추가\n",
    "        move+=1\n",
    "    # 기존의 줄이라면\n",
    "    else:\n",
    "        if fret > stack[line][-1]:    \n",
    "            stack[line].append(fret)\n",
    "            move+=1\n",
    "        elif fret == stack[line][-1]:\n",
    "            continue\n",
    "        else:    # fret < stack[line][-1]\n",
    "            # fret보다 작거나 같을 때까지 반복\n",
    "            while stack[line] and stack[line][-1] > fret:\n",
    "                stack[line].pop()\n",
    "                move+=1\n",
    "            # 스택이 비었거나, 현재 fret보다 작다면 추가\n",
    "            if not stack[line] or stack[line][-1]<fret: \n",
    "                stack[line].append(fret)\n",
    "                move+=1\n",
    "\n",
    "print(move)"
   ]
  },
  {
   "cell_type": "markdown",
   "metadata": {},
   "source": [
    "### 안정적인 문자열\n",
    "- silver 1\n",
    "- https://www.acmicpc.net/problem/4889\n",
    "---\n",
    "여는 괄호와 닫는 괄호만으로 이루어진 문자열이 주어진다. 여기서 안정적인 문자열을 만들기 위한 최소 연산의 수를 구하려고 한다. 안정적인 문자열의 정의란 다음과 같다.\n",
    "\n",
    "빈 문자열은 안정적이다.\n",
    "S가 안정적이라면, {S}도 안정적인 문자열이다.\n",
    "S와 T가 안정적이라면, ST(두 문자열의 연결)도 안정적이다.\n",
    "{}, {}{}, {{}{}}는 안정적인 문자열이지만, }{, {{}{, {}{는 안정적인 문자열이 아니다.\n",
    "\n",
    "문자열에 행할 수 있는 연산은 여는 괄호를 닫는 괄호로 바꾸거나, 닫는 괄호를 여는 괄호로 바꾸는 것 2가지이다."
   ]
  },
  {
   "cell_type": "code",
   "execution_count": 7,
   "metadata": {},
   "outputs": [
    {
     "name": "stdout",
     "output_type": "stream",
     "text": [
      "1. 2\n"
     ]
    }
   ],
   "source": [
    "import sys\n",
    "input = sys.stdin.readline\n",
    "\n",
    "result = []\t\t\t# 연산 횟수를 저장할 리스트\n",
    "while True:\n",
    "    brackets = input().rstrip()\t# 한 줄씩 읽어오기\n",
    "    if '-' in brackets: break\t# 무한루프 종료 조건 설정\n",
    "\n",
    "    stack = []\t\t\t\t\t# 스택 초기화\n",
    "    cnt = 0\t\t\t\t\t\t# 연산횟수 초기화\n",
    "    for bracket in brackets:\t\n",
    "        if bracket == '{':\t\t# 여는 괄호가 나왔을 경우\n",
    "            stack.append('{')\n",
    "        elif stack:\t\t\t\t# 스택에 원소가 존재하고 닫는 괄호가 나올 경우\n",
    "            stack.pop()\n",
    "        else:\t\t\t\t\t# 스택이 비었고, 닫는 괄호가 나올 경우\n",
    "            cnt+=1\n",
    "            stack.append('{')\n",
    "            \n",
    "    cnt+= len(stack)//2    \t\t# 스택에 남은 여는 괄호 처리\n",
    "    result.append(cnt)\t\t\t# 최종 연산횟수 저장\n",
    "\n",
    "# 정답 형식에 맞게 출력\n",
    "for idx, num in enumerate(result):\n",
    "    print(f'{idx+1}. {num}')"
   ]
  },
  {
   "cell_type": "markdown",
   "metadata": {},
   "source": [
    "### 북극곰은 괄호를 찢어\n",
    "- https://www.acmicpc.net/problem/25918\n",
    "---\n",
    "극지 연구소에서 연구 중인 협이는 새로운 북극곰의 특성을 발견했다. 그것은 바로 북극곰이 \n",
    "$O$와 \n",
    "$X$를 보면 \n",
    "$()$와 \n",
    "$)($로 찢어버린다는 것이다.\n",
    "\n",
    "협이는 이러한 북극곰의 특성을 이용하여 길이 \n",
    "$N$의 괄호 문자열 \n",
    "$S$를 만들고자 한다. 북극곰은 낮에 활동을 하기 때문에 낮에 돌아다니는 것은 위험하다. 때문에 협이는 매일 밤마다 활동할 수 있다. 밤에 협이는 문자열이 있으면 그 위에 \n",
    "$O$ 또는 \n",
    "$X$를 원하는 만큼 놓을 수 있다. 그러면 낮에 북극곰이 와서 문자들을 모두 찢어 놓는다.\n",
    "\n",
    "예를 들어 이미 문자열 \n",
    "$()()$가 있다고 생각해보자. 밤에 문자를 \n",
    "$(O)X(O)$ 다음과 같이 놓아둔다면 하루가 지나 \n",
    "$(()))((())$ 와 같은 문자열이 된다.\n",
    "\n",
    "이때 원하는 문자열을 만들려면 최소 며칠이 걸리는지 계산해보자."
   ]
  },
  {
   "cell_type": "code",
   "execution_count": 10,
   "metadata": {},
   "outputs": [
    {
     "name": "stdout",
     "output_type": "stream",
     "text": [
      "-1\n"
     ]
    }
   ],
   "source": [
    "# 시간초과 판정\n",
    "# O -> () / x -> )(\n",
    "# 길이 N의 괄호문자열 S\n",
    "# 밤에만 활동 가능\n",
    "# ox는 겹쳐지지x 괄호 안에 괄호가 있는 경우\n",
    "import sys\n",
    "input = sys.stdin.readline\n",
    "input()\n",
    "s = input().rstrip()\n",
    "cnt = 0\n",
    "while True:\n",
    "    if s == '': break\n",
    "    if s.find('()') == -1 and s.find(')(')==-1:\n",
    "        cnt=-1\n",
    "        break\n",
    "    s = s.replace('()','').replace(')(','')\n",
    "    cnt+=1\n",
    "\n",
    "print(cnt)          "
   ]
  },
  {
   "cell_type": "code",
   "execution_count": 4,
   "metadata": {},
   "outputs": [
    {
     "name": "stdout",
     "output_type": "stream",
     "text": [
      "-1\n"
     ]
    }
   ],
   "source": [
    "# 같은 괄호 push\n",
    "# 다른 괄호 pop\n",
    "n = input()\n",
    "s = input().rstrip()\n",
    "stack = []\n",
    "days = 0\n",
    "for c in s:\n",
    "    if not stack or stack[-1]==c:   # 스택이 비었거나, 같은 괄호\n",
    "        stack.append(c)\n",
    "    else:\n",
    "        stack.pop()\n",
    "    days = max(days, len(stack))\n",
    "\n",
    "if not stack: print(days)\n",
    "else: print(-1)"
   ]
  },
  {
   "cell_type": "markdown",
   "metadata": {},
   "source": [
    "### 목차 세기\n",
    "- https://www.acmicpc.net/problem/25956\n",
    "---\n",
    "목차는 여러 제목으로 이루어져 있다. 또한, 제목은 여러 개의 하위 제목을 가질 수 있다. 하위 제목 또한 자기 자신의 하위 제목을 가질 수 있다. 이러한 관계를 목차에 나타내기 위해, 제목 앞의 들여쓰기를 이용해 먼저 제목의 레벨을 구분한다. 공백이 없으면 \n",
    "$1$레벨, 공백이 \n",
    "$2$칸 있으면 \n",
    "$2$레벨, \n",
    "$4$칸 있으면 \n",
    "$3$레벨과 같은 식이다. 즉, 제목의 레벨이 \n",
    "$l$이라면 공백의 수 \n",
    "$s$는 \n",
    "$s = 2 \\times (l - 1)$이다.\n",
    "\n",
    "목차에 나타낸 제목들은 다음과 같은 관계를 갖는다.\n",
    "\n",
    "레벨이 \n",
    "$l$인 제목은 레벨이 \n",
    "$(l - 1)$인 자기보다 위에 있는 제목 중 가장 아래에 있는 제목이 자신의 상위 제목이다. (\n",
    "$l > 1$) 또한 해당 상위 제목은 이 제목을 하위 제목으로 갖는다.\n",
    "레벨이 \n",
    "$l$인 제목과 그 제목의 상위 제목 사이에는 레벨이 \n",
    "$(l - 1)$보다 작은 제목이 있어서는 안 된다.\n",
    " \n",
    "$1$레벨 제목은 자신의 상위 제목이 없다.\n",
    " \n",
    "$2$레벨 이상의 제목은 반드시 자신의 상위 제목이 있어야 한다.\n",
    "\n",
    "목차가 주어졌을 때, 각 제목의 하위 제목이 몇 개인지 각각 세어 출력하시오. 편의를 위해, 입력으로는 각 목차의 레벨만이 위에서부터 순서대로 주어진다."
   ]
  },
  {
   "cell_type": "code",
   "execution_count": 13,
   "metadata": {},
   "outputs": [
    {
     "name": "stdout",
     "output_type": "stream",
     "text": [
      "1\n",
      "2\n",
      "0\n",
      "0\n",
      "2\n",
      "0\n",
      "0\n",
      "0\n"
     ]
    }
   ],
   "source": [
    "# list 받고\n",
    "# 역순으로 돌리고\n",
    "# 하나씩 반복하며 print()\n",
    "import sys\n",
    "# input = sys.stdin.readline\n",
    "N = int(input().rstrip())\n",
    "title_lst = [ int(input().rstrip()) for _ in range(N)]\n",
    "\n",
    "ans = [0]*N\n",
    "stack = []\n",
    "pre = title_lst[-1]\n",
    "\n",
    "for idx, num in enumerate(title_lst[::-1]):\n",
    "    if pre-num >= 2 or title_lst[0]!=1: \n",
    "        ans.append(-1)\n",
    "        break\n",
    "    while stack and stack[-1]-1==num:\n",
    "        ans[N-idx-1]+=1\n",
    "        stack.pop()\n",
    "    stack.append(num)\n",
    "    pre = num\n",
    "\n",
    "if ans[-1] != -1: \n",
    "    for cnt in ans: print(cnt)\n",
    "else:\n",
    "    print(-1)"
   ]
  },
  {
   "attachments": {},
   "cell_type": "markdown",
   "metadata": {},
   "source": [
    "### 후위 표기식\n",
    "- gold 2\n",
    "- https://www.acmicpc.net/problem/1918\n",
    "---\n",
    "중위 표기식이 주어졌을 때 후위 표기식으로 고치는 프로그램을 작성하시오\n",
    "\n",
    "<br>***중위표기식 -> 후위표기식<br>\n",
    "1. 중위 표기식에서 연산자, 피연산자 간 연산의 우선순위를 괄호로 묶습니다. (예를들어, 우선순위는 덧셈보다 곱셈이 우선순위가 높습니다.) 이를 괄호로 묶는 형태가 가장 중요합니다.\n",
    "2. 수식에서 후위표기법으로 변환을 시작하는데, 수식의 맨 왼쪽 부터 차례대로 연산자 or 피연산자를 읽어갑니다. 이때 왼쪽 괄호 '('를 만나면 무시하고 다음 피연산자를 읽습니다.\n",
    "3. 연산자를 만나면 스택에 push합니다. ( 후위 표기법으로 표시하기 위해 생략해선 안될 중요한 과정입니다.)\n",
    "4. 오른쪽 괄호 \"), }, ]\"를 만나면 스택의 top element를 pop해서 출력합니다. \n",
    "5. 수식을 왼쪽에서 오른쪽까지 전부 읽어들이면, 끝나면 스택이 공백이 될 때까지 pop해서 출력합니다.\n",
    "<br>"
   ]
  },
  {
   "cell_type": "code",
   "execution_count": null,
   "metadata": {},
   "outputs": [
    {
     "name": "stdout",
     "output_type": "stream",
     "text": [
      "ABC*+DE/-\n"
     ]
    }
   ],
   "source": [
    "# prefix expression 입력받기\n",
    "expression = input()\n",
    "stack=[]\n",
    "postfix = ''\n",
    "\n",
    "# 우선순위 정의\n",
    "precedence = {'+':1,'-':1,'*':2,'/':2}\n",
    "\n",
    "for p in expression:\n",
    "    if p.isalpha(): # 알파벳이라면 그대로 추가\n",
    "        postfix+=p\n",
    "    elif p=='(':    # 괄호처리\n",
    "        stack.append(p)\n",
    "    elif p==')':    \n",
    "        while stack and stack[-1] != '(':   # 스택에 괄호 내용이 있다면\n",
    "            postfix+= stack.pop()           \n",
    "        if stack and stack[-1] =='(':\n",
    "            stack.pop()\n",
    "    # 연산자 처리\n",
    "    # stack top()의 우선순위가 p보다 작거나 같을 때까지 pop\n",
    "    elif p in precedence.keys():\n",
    "        while stack and stack[-1] != '(' and precedence[p] <= precedence[stack[-1]]:\n",
    "            postfix+= stack.pop()\n",
    "        stack.append(p)\n",
    "\n",
    "while stack:\n",
    "    postfix += stack.pop()\n",
    "\n",
    "print(postfix)"
   ]
  }
 ],
 "metadata": {
  "kernelspec": {
   "display_name": "Python 3",
   "language": "python",
   "name": "python3"
  },
  "language_info": {
   "codemirror_mode": {
    "name": "ipython",
    "version": 3
   },
   "file_extension": ".py",
   "mimetype": "text/x-python",
   "name": "python",
   "nbconvert_exporter": "python",
   "pygments_lexer": "ipython3",
   "version": "3.9.12"
  },
  "orig_nbformat": 4
 },
 "nbformat": 4,
 "nbformat_minor": 2
}
