{
 "cells": [
  {
   "attachments": {},
   "cell_type": "markdown",
   "metadata": {},
   "source": [
    "### Daily Temperatures\n",
    "\n",
    "매일의 온도를 나타내는 int형 배열 temperatures가 주어진다. answer 배열의 원소 answer[i]는 i번째 날의 온도보다 더 따뜻해지기까지 며칠을 기다려야 하는지 나타낸다. 만약 더 따뜻해지는 날이 없다면 answer[i] == 0 이다. answer 배열을 반환하는 함수를 구현하시오.\n",
    "\n",
    "제약조건\n",
    "1 <= temperatures.length <= 10^5\n",
    "30 <= temperatures[i] <= 100\n",
    "\n",
    "input\n",
    "temperatures = [73, 74, 75, 71, 69, 72, 76, 73]\n",
    "\n",
    "output\n",
    "[1, 1, 4, 2, 1, 1, 0, 0]\n",
    "\n"
   ]
  },
  {
   "cell_type": "code",
   "execution_count": null,
   "metadata": {},
   "outputs": [
    {
     "data": {
      "text/plain": [
       "[1, 1, 4, 2, 1, 1, 0, 0]"
      ]
     },
     "metadata": {},
     "output_type": "display_data"
    }
   ],
   "source": [
    "def solution(temperatures):\n",
    "    answer = [0]*len(temperatures)\n",
    "    stack = []\n",
    "\n",
    "    for idx, temp in enumerate(temperatures):\n",
    "        while stack and stack[-1][1] < temp:\n",
    "            pre_idx, _ = stack.pop()\n",
    "            answer[pre_idx] = idx - pre_idx\n",
    "\n",
    "        stack.append((idx,temp))\n",
    "    return answer\n",
    "\n",
    "temperatures = [73, 74, 75, 71, 69, 72, 76, 73]\n",
    "solution(temperatures)"
   ]
  }
 ],
 "metadata": {
  "language_info": {
   "name": "python"
  },
  "orig_nbformat": 4
 },
 "nbformat": 4,
 "nbformat_minor": 2
}
