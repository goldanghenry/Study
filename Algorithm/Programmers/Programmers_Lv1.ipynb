{
 "cells": [
  {
   "attachments": {},
   "cell_type": "markdown",
   "metadata": {},
   "source": [
    "## Programmers Lv.1"
   ]
  },
  {
   "cell_type": "markdown",
   "metadata": {},
   "source": [
    "### 시저 암호\n",
    "- https://school.programmers.co.kr/learn/courses/30/lessons/12926\n",
    "- 어떤 문장의 각 알파벳을 일정한 거리만큼 밀어서 다른 알파벳으로 바꾸는 암호화 방식을 시저 암호라고 합니다. 예를 들어 \"AB\"는 1만큼 밀면 \"BC\"가 되고, 3만큼 밀면 \"DE\"가 됩니다. \"z\"는 1만큼 밀면 \"a\"가 됩니다. 문자열 s와 거리 n을 입력받아 s를 n만큼 민 암호문을 만드는 함수, solution을 완성해 보세요."
   ]
  },
  {
   "cell_type": "code",
   "execution_count": null,
   "metadata": {},
   "outputs": [],
   "source": [
    "def solution(s, n):\n",
    "    answer = []\n",
    "    for i in s:\n",
    "        if i.isupper():\n",
    "            answer.append(chr((ord(i)+n-65)%26+65))\n",
    "        elif i.islower():\n",
    "            answer.append(chr((ord(i)+n-97)%26+97))\n",
    "        else:\n",
    "            answer.append(' ')\n",
    "\n",
    "    return ''.join(answer)"
   ]
  },
  {
   "attachments": {},
   "cell_type": "markdown",
   "metadata": {},
   "source": [
    "### 3진법 뒤집기\n",
    "- https://school.programmers.co.kr/learn/courses/30/lessons/68935\n",
    "- 자연수 n이 매개변수로 주어집니다. n을 3진법 상에서 앞뒤로 뒤집은 후, 이를 다시 10진법으로 표현한 수를 return 하도록 solution 함수를 완성해주세요."
   ]
  },
  {
   "cell_type": "code",
   "execution_count": null,
   "metadata": {},
   "outputs": [],
   "source": [
    "def solution(n):\n",
    "    temp = \"\"\n",
    "    answer = 0\n",
    "    \n",
    "    # 10진법 -> 3진법\n",
    "    while n>=3:\n",
    "        temp+= str(n%3)\n",
    "        n = n//3\n",
    "    temp+= str(n%3)\n",
    "    \n",
    "    # 3진법 -> 10진법\n",
    "    temp = temp[::-1]\n",
    "    for i,t in enumerate(temp):\n",
    "        answer += int(t)*3**i\n",
    "    \n",
    "    return answer"
   ]
  },
  {
   "cell_type": "code",
   "execution_count": null,
   "metadata": {},
   "outputs": [],
   "source": [
    "# 다른사람 풀이\n",
    "# int(string, base) 사용\n",
    "def solution(n):\n",
    "    tmp = ''\n",
    "    while n:\n",
    "        tmp += str(n % 3)\n",
    "        n = n // 3\n",
    "\n",
    "    answer = int(tmp, 3)\n",
    "    return answer"
   ]
  },
  {
   "attachments": {},
   "cell_type": "markdown",
   "metadata": {},
   "source": [
    "### 이상한 문자 만들기\n",
    "- https://school.programmers.co.kr/learn/courses/30/lessons/12930\n",
    "- 문자열 s는 한 개 이상의 단어로 구성되어 있습니다. 각 단어는 하나 이상의 공백문자로 구분되어 있습니다. 각 단어의 짝수번째 알파벳은 대문자로, 홀수번째 알파벳은 소문자로 바꾼 문자열을 리턴하는 함수, solution을 완성하세요."
   ]
  },
  {
   "cell_type": "code",
   "execution_count": 16,
   "metadata": {},
   "outputs": [
    {
     "name": "stdout",
     "output_type": "stream",
     "text": [
      "Tr KkY HeLlO WoRlD  WoRlD W    KkKkKkKk Qq Aa\n"
     ]
    }
   ],
   "source": [
    "# 주의할 점 : 공백이 하나 이상이기 때문에 string.split()을 사용하면 안 된다.\n",
    "def solution(s):\n",
    "    answer = \"\"\n",
    "    count = 0\n",
    "    for st in s:\n",
    "        if st == \" \": \n",
    "            answer += \" \"\n",
    "            count = 0\n",
    "        elif count %2==0:\n",
    "            answer += st.upper()\n",
    "            count +=1\n",
    "        else:\n",
    "            answer += st.lower()\n",
    "            count +=1\n",
    "    return answer\n",
    "\n",
    "s = \"Tr kky hello world  world w    KKKKKKKK qq AA\"\n",
    "print(solution(s))"
   ]
  },
  {
   "attachments": {},
   "cell_type": "markdown",
   "metadata": {},
   "source": [
    "### 예산\n",
    "- https://school.programmers.co.kr/learn/courses/30/lessons/12982\n",
    "- S사에서는 각 부서에 필요한 물품을 지원해 주기 위해 부서별로 물품을 구매하는데 필요한 금액을 조사했습니다. 그러나, 전체 예산이 정해져 있기 때문에 모든 부서의 물품을 구매해 줄 수는 없습니다. 그래서 최대한 많은 부서의 물품을 구매해 줄 수 있도록 하려고 합니다.\n",
    "\n",
    "물품을 구매해 줄 때는 각 부서가 신청한 금액만큼을 모두 지원해 줘야 합니다. 예를 들어 1,000원을 신청한 부서에는 정확히 1,000원을 지원해야 하며, 1,000원보다 적은 금액을 지원해 줄 수는 없습니다.\n",
    "\n",
    "부서별로 신청한 금액이 들어있는 배열 d와 예산 budget이 매개변수로 주어질 때, 최대 몇 개의 부서에 물품을 지원할 수 있는지 return 하도록 solution 함수를 완성해주세요."
   ]
  },
  {
   "cell_type": "code",
   "execution_count": 25,
   "metadata": {},
   "outputs": [
    {
     "name": "stdout",
     "output_type": "stream",
     "text": [
      "1\n"
     ]
    }
   ],
   "source": [
    "# 처음에는 itertools의 combinations를 사용했지만, 시간초과 판정을 받았다.\n",
    "# 예산에 딱 맞출 필요가 없기 때문에(적기만 하면 되기에) 오름차순 정렬 후 더하는 방식으로 해결\n",
    "def solution(d, budget):\n",
    "    d.sort()\n",
    "    for i in range(len(d),0,-1):\n",
    "        if budget >= sum(d[0:i]):\n",
    "            return i\n",
    "    else:\n",
    "        return 0\n"
   ]
  },
  {
   "attachments": {},
   "cell_type": "markdown",
   "metadata": {},
   "source": [
    "### 비밀지도\n",
    "- https://school.programmers.co.kr/learn/courses/30/lessons/17681\n",
    "- 2018 KAKAO BLIND RECRUITMENT\n",
    "- 네오는 평소 프로도가 비상금을 숨겨놓는 장소를 알려줄 비밀지도를 손에 넣었다. 그런데 이 비밀지도는 숫자로 암호화되어 있어 위치를 확인하기 위해서는 암호를 해독해야 한다. 다행히 지도 암호를 해독할 방법을 적어놓은 메모도 함께 발견했다.\n",
    "\n",
    "지도는 한 변의 길이가 n인 정사각형 배열 형태로, 각 칸은 \"공백\"(\" \") 또는 \"벽\"(\"#\") 두 종류로 이루어져 있다.\n",
    "전체 지도는 두 장의 지도를 겹쳐서 얻을 수 있다. 각각 \"지도 1\"과 \"지도 2\"라고 하자. 지도 1 또는 지도 2 중 어느 하나라도 벽인 부분은 전체 지도에서도 벽이다. 지도 1과 지도 2에서 모두 공백인 부분은 전체 지도에서도 공백이다.\n",
    "\"지도 1\"과 \"지도 2\"는 각각 정수 배열로 암호화되어 있다.\n",
    "암호화된 배열은 지도의 각 가로줄에서 벽 부분을 1, 공백 부분을 0으로 부호화했을 때 얻어지는 이진수에 해당하는 값의 배열이다."
   ]
  },
  {
   "cell_type": "code",
   "execution_count": 70,
   "metadata": {},
   "outputs": [
    {
     "data": {
      "text/plain": [
       "['#####', '# # #', '### #', '#  ##', '#####']"
      ]
     },
     "execution_count": 70,
     "metadata": {},
     "output_type": "execute_result"
    }
   ],
   "source": [
    "# 지도 : n x n 배열, 공백 또는 #벽\n",
    "# 두 장의 지도를 겹쳐서 얻을 수 있다 \n",
    "def solution(n, arr1, arr2):\n",
    "    answer = []\n",
    "    for i in range(n) :\n",
    "        temp1 = bin(arr1[i])[2:]\n",
    "        temp1 = \"0\"*(n-len(temp1)) +temp1\n",
    "        temp2 = bin(arr2[i])[2:]\n",
    "        temp2 = \"0\"*(n-len(temp2)) + temp2\n",
    "        temp = \"\"\n",
    "        for j in range(n):\n",
    "            if temp1[j]==\"1\" or temp2[j]==\"1\":\n",
    "                temp+=\"#\"\n",
    "            else:\n",
    "                temp+=\" \"\n",
    "        answer.append(temp)\n",
    "    return answer\n",
    "\n",
    "n = 5\n",
    "arr1 = [9, 20, 28, 18, 11]\n",
    "arr2 = [30, 1, 21, 17, 28]\n",
    "solution(n, arr1, arr2)"
   ]
  },
  {
   "cell_type": "code",
   "execution_count": null,
   "metadata": {},
   "outputs": [],
   "source": [
    "# 다른사람 코드\n",
    "# range 대신 zip 사용\n",
    "# bin(i|j) -> 하나로 통합\n",
    "# rjust -> 앞부분 0으로 채우기\n",
    "# replace -> 동시에 변환\n",
    "def solution(n, arr1, arr2):\n",
    "    answer = []\n",
    "    for i,j in zip(arr1,arr2):\n",
    "        a12 = str(bin(i|j)[2:])\n",
    "        a12=a12.rjust(n,'0')\n",
    "        a12=a12.replace('1','#')\n",
    "        a12=a12.replace('0',' ')\n",
    "        answer.append(a12)\n",
    "    return answer"
   ]
  },
  {
   "cell_type": "code",
   "execution_count": 10,
   "metadata": {},
   "outputs": [
    {
     "data": {
      "text/plain": [
       "3"
      ]
     },
     "execution_count": 10,
     "metadata": {},
     "output_type": "execute_result"
    }
   ],
   "source": [
    "def solution(t, p):\n",
    "    answer = 0\n",
    "    n = len(p)\n",
    "    for j in [ t[i:i+n] for i in range(0,len(t)-n+1)]:\n",
    "        if int(j) <= int(p) :\n",
    "            answer +=1\n",
    "    return answer\n",
    "\n",
    "t = \"10203\"\n",
    "p = \"15\"\n",
    "solution(t, p)"
   ]
  },
  {
   "attachments": {},
   "cell_type": "markdown",
   "metadata": {},
   "source": [
    "### 콜라 문제\n",
    "- https://school.programmers.co.kr/learn/courses/30/lessons/132267\n",
    "---\n",
    "오래전 유행했던 콜라 문제가 있습니다. 콜라 문제의 지문은 다음과 같습니다.\n",
    "\n",
    "정답은 아무에게도 말하지 마세요.\n",
    "\n",
    "콜라 빈 병 2개를 가져다주면 콜라 1병을 주는 마트가 있다. 빈 병 20개를 가져다주면 몇 병을 받을 수 있는가?\n",
    "\n",
    "단, 보유 중인 빈 병이 2개 미만이면, 콜라를 받을 수 없다.\n",
    "\n",
    "문제를 풀던 상빈이는 콜라 문제의 완벽한 해답을 찾았습니다. 상빈이가 푼 방법은 아래 그림과 같습니다. 우선 콜라 빈 병 20병을 가져가서 10병을 받습니다. 받은 10병을 모두 마신 뒤, 가져가서 5병을 받습니다. 5병 중 4병을 모두 마신 뒤 가져가서 2병을 받고, 또 2병을 모두 마신 뒤 가져가서 1병을 받습니다. 받은 1병과 5병을 받았을 때 남은 1병을 모두 마신 뒤 가져가면 1병을 또 받을 수 있습니다. 이 경우 상빈이는 총 10 + 5 + 2 + 1 + 1 = 19병의 콜라를 받을 수 있습니다.\n",
    "\n",
    "이 문제는 빈 병 a개를 가져다주면 콜라 b병을 주는 마트가 있을 때, 빈 병 n개를 가져다주면 몇 병을 받을 수 있는지 계산하는 문제입니다. "
   ]
  },
  {
   "cell_type": "code",
   "execution_count": 2,
   "metadata": {},
   "outputs": [
    {
     "name": "stdout",
     "output_type": "stream",
     "text": [
      "빈병 수 21 콜라 받은 수 12 남은 빈병 수 13\n",
      "빈병 수 13 콜라 받은 수 6 남은 빈병 수 9\n",
      "빈병 수 9 콜라 받은 수 3 남은 빈병 수 7\n",
      "빈병 수 7 콜라 받은 수 3 남은 빈병 수 5\n",
      "빈병 수 5 콜라 받은 수 3 남은 빈병 수 3\n",
      "27\n"
     ]
    }
   ],
   "source": [
    "import sys\n",
    "sys.setrecursionlimit(10000)    # 재귀가 너무 깊어서 런타임 오류 -> 이럴 경우 사용 또는 반복문으로 구현\n",
    "# 빈병 제출 가능 수, 콜라 받는 수, 남은 빈병 수\n",
    "def solution(bottle, cola, re_bottle):\n",
    "    if re_bottle < bottle:  # 남은 빈병 수가 빈병 제출 가능 수보다 작을 때 종료\n",
    "        return 0\n",
    "    a = cola * (re_bottle//bottle)   # 콜라 = b개 * 남은 빈병 // a개\n",
    "    re = re_bottle%bottle          # 빈병 제출 후 남은 빈병\n",
    "    return a + solution(bottle, cola, a + re)\n",
    "\n",
    "a = 5\n",
    "b = 3\n",
    "n = 21\n",
    "print(solution(a,b,n))"
   ]
  },
  {
   "attachments": {},
   "cell_type": "markdown",
   "metadata": {},
   "source": [
    "### 푸드파이트 대회\n",
    "- https://school.programmers.co.kr/learn/courses/30/lessons/134240 <br>\n",
    "---\n",
    "수웅이는 매달 주어진 음식을 빨리 먹는 푸드 파이트 대회를 개최합니다. 이 대회에서 선수들은 1대 1로 대결하며, 매 대결마다 음식의 종류와 양이 바뀝니다. 대결은 준비된 음식들을 일렬로 배치한 뒤, 한 선수는 제일 왼쪽에 있는 음식부터 오른쪽으로, 다른 선수는 제일 오른쪽에 있는 음식부터 왼쪽으로 순서대로 먹는 방식으로 진행됩니다. 중앙에는 물을 배치하고, 물을 먼저 먹는 선수가 승리하게 됩니다.\n",
    "\n",
    "이때, 대회의 공정성을 위해 두 선수가 먹는 음식의 종류와 양이 같아야 하며, 음식을 먹는 순서도 같아야 합니다. 또한, 이번 대회부터는 칼로리가 낮은 음식을 먼저 먹을 수 있게 배치하여 선수들이 음식을 더 잘 먹을 수 있게 하려고 합니다. 이번 대회를 위해 수웅이는 음식을 주문했는데, 대회의 조건을 고려하지 않고 음식을 주문하여 몇 개의 음식은 대회에 사용하지 못하게 되었습니다.\n",
    "\n",
    "예를 들어, 3가지의 음식이 준비되어 있으며, 칼로리가 적은 순서대로 1번 음식을 3개, 2번 음식을 4개, 3번 음식을 6개 준비했으며, 물을 편의상 0번 음식이라고 칭한다면, 두 선수는 1번 음식 1개, 2번 음식 2개, 3번 음식 3개씩을 먹게 되므로 음식의 배치는 \"1223330333221\"이 됩니다. 따라서 1번 음식 1개는 대회에 사용하지 못합니다.\n",
    "\n",
    "수웅이가 준비한 음식의 양을 칼로리가 적은 순서대로 나타내는 정수 배열 food가 주어졌을 때, 대회를 위한 음식의 배치를 나타내는 문자열을 return 하는 solution 함수를 완성해주세요."
   ]
  },
  {
   "cell_type": "code",
   "execution_count": 21,
   "metadata": {},
   "outputs": [
    {
     "name": "stdout",
     "output_type": "stream",
     "text": [
      "1223330333221\n"
     ]
    }
   ],
   "source": [
    "# 1열로 배치, 왼쪽 - 물 - 오른쪽\n",
    "# 칼로리가 낮은 음식부터 배치\n",
    "# 0은 물\n",
    "def solution(food):\n",
    "    answer = \"\"\n",
    "    for i in range(1,len(food)):\n",
    "        if food[i]<2: continue\n",
    "        answer+=str(i)*(food[i]//2)\n",
    "    answer += \"0\"+answer[::-1]\n",
    "    return answer\n",
    "\n",
    "food = [1, 3, 4, 6]\n",
    "print(solution(food))"
   ]
  },
  {
   "attachments": {},
   "cell_type": "markdown",
   "metadata": {},
   "source": [
    "### 가장 가까운 글자\n",
    "- https://school.programmers.co.kr/learn/courses/30/lessons/142086\n",
    "---\n",
    "문자열 s가 주어졌을 때, s의 각 위치마다 자신보다 앞에 나왔으면서, 자신과 가장 가까운 곳에 있는 같은 글자가 어디 있는지 알고 싶습니다.\n",
    "예를 들어, s=\"banana\"라고 할 때,  각 글자들을 왼쪽부터 오른쪽으로 읽어 나가면서 다음과 같이 진행할 수 있습니다.\n",
    "\n",
    "b는 처음 나왔기 때문에 자신의 앞에 같은 글자가 없습니다. 이는 -1로 표현합니다.\n",
    "a는 처음 나왔기 때문에 자신의 앞에 같은 글자가 없습니다. 이는 -1로 표현합니다.\n",
    "n은 처음 나왔기 때문에 자신의 앞에 같은 글자가 없습니다. 이는 -1로 표현합니다.\n",
    "a는 자신보다 두 칸 앞에 a가 있습니다. 이는 2로 표현합니다.\n",
    "n도 자신보다 두 칸 앞에 n이 있습니다. 이는 2로 표현합니다.\n",
    "a는 자신보다 두 칸, 네 칸 앞에 a가 있습니다. 이 중 가까운 것은 두 칸 앞이고, 이는 2로 표현합니다.\n",
    "따라서 최종 결과물은 [-1, -1, -1, 2, 2, 2]가 됩니다.\n",
    "\n",
    "문자열 s이 주어질 때, 위와 같이 정의된 연산을 수행하는 함수 solution을 완성해주세요."
   ]
  },
  {
   "cell_type": "code",
   "execution_count": 32,
   "metadata": {},
   "outputs": [
    {
     "name": "stdout",
     "output_type": "stream",
     "text": [
      "[-1, -1, 1, -1, -1, -1]\n"
     ]
    }
   ],
   "source": [
    "def solution(s):\n",
    "    answer = []\n",
    "    alph_list = [ -1 for _ in range(26)]    # 마지막 인덱스 기록\n",
    "    for i, n in enumerate(s):\n",
    "        if alph_list[ord(n)-97] != -1:\n",
    "            answer.append(i-alph_list[ord(n)-97])\n",
    "        else:\n",
    "            answer.append(-1)\n",
    "        alph_list[ord(n)-97] = i\n",
    "    return answer\n",
    "\n",
    "s = \"foobar\"\n",
    "print(solution(s))"
   ]
  },
  {
   "cell_type": "code",
   "execution_count": 29,
   "metadata": {},
   "outputs": [
    {
     "name": "stdout",
     "output_type": "stream",
     "text": [
      "97\n"
     ]
    }
   ],
   "source": [
    "print(ord(\"a\"))"
   ]
  },
  {
   "attachments": {},
   "cell_type": "markdown",
   "metadata": {},
   "source": [
    "### 폰켓몬\n",
    "- https://school.programmers.co.kr/learn/courses/30/lessons/1845\n",
    "---\n",
    "당신은 폰켓몬을 잡기 위한 오랜 여행 끝에, 홍 박사님의 연구실에 도착했습니다. 홍 박사님은 당신에게 자신의 연구실에 있는 총 N 마리의 폰켓몬 중에서 N/2마리를 가져가도 좋다고 했습니다.\n",
    "홍 박사님 연구실의 폰켓몬은 종류에 따라 번호를 붙여 구분합니다. 따라서 같은 종류의 폰켓몬은 같은 번호를 가지고 있습니다. 예를 들어 연구실에 총 4마리의 폰켓몬이 있고, 각 폰켓몬의 종류 번호가 [3번, 1번, 2번, 3번]이라면 이는 3번 폰켓몬 두 마리, 1번 폰켓몬 한 마리, 2번 폰켓몬 한 마리가 있음을 나타냅니다. 이때, 4마리의 폰켓몬 중 2마리를 고르는 방법은 다음과 같이 6가지가 있습니다.\n",
    "\n",
    "첫 번째(3번), 두 번째(1번) 폰켓몬을 선택\n",
    "첫 번째(3번), 세 번째(2번) 폰켓몬을 선택\n",
    "첫 번째(3번), 네 번째(3번) 폰켓몬을 선택\n",
    "두 번째(1번), 세 번째(2번) 폰켓몬을 선택\n",
    "두 번째(1번), 네 번째(3번) 폰켓몬을 선택\n",
    "세 번째(2번), 네 번째(3번) 폰켓몬을 선택\n",
    "이때, 첫 번째(3번) 폰켓몬과 네 번째(3번) 폰켓몬을 선택하는 방법은 한 종류(3번 폰켓몬 두 마리)의 폰켓몬만 가질 수 있지만, 다른 방법들은 모두 두 종류의 폰켓몬을 가질 수 있습니다. 따라서 위 예시에서 가질 수 있는 폰켓몬 종류 수의 최댓값은 2가 됩니다.\n",
    "당신은 최대한 다양한 종류의 폰켓몬을 가지길 원하기 때문에, 최대한 많은 종류의 폰켓몬을 포함해서 N/2마리를 선택하려 합니다. N마리 폰켓몬의 종류 번호가 담긴 배열 nums가 매개변수로 주어질 때, N/2마리의 폰켓몬을 선택하는 방법 중, 가장 많은 종류의 폰켓몬을 선택하는 방법을 찾아, 그때의 폰켓몬 종류 번호의 개수를 return 하도록 solution 함수를 완성해주세요."
   ]
  },
  {
   "cell_type": "code",
   "execution_count": 17,
   "metadata": {},
   "outputs": [
    {
     "name": "stdout",
     "output_type": "stream",
     "text": [
      "2\n"
     ]
    }
   ],
   "source": [
    "# N 마리 폰켓몬 중 N/2 가져가라\n",
    "# 같은 종류 - 같은 번호\n",
    "# 가질 수 있는 폰켓몬 최댓값\n",
    "from collections import Counter\n",
    "\n",
    "def solution(nums):\n",
    "    n = len(nums)//2\n",
    "    k = len(list(Counter(nums).values()))\n",
    "    if n <= k:\n",
    "        return n\n",
    "    else:\n",
    "        return k\n",
    "\n",
    "nums = [3,3,3,2,2,2]\n",
    "print(solution(nums))"
   ]
  },
  {
   "cell_type": "code",
   "execution_count": null,
   "metadata": {},
   "outputs": [],
   "source": [
    "def solution(ls):\n",
    "    return min(len(ls)/2, len(set(ls)))"
   ]
  },
  {
   "attachments": {},
   "cell_type": "markdown",
   "metadata": {},
   "source": [
    "### 모의고사\n",
    "- https://school.programmers.co.kr/learn/courses/30/lessons/42840\n",
    "---\n",
    "수포자는 수학을 포기한 사람의 준말입니다. 수포자 삼인방은 모의고사에 수학 문제를 전부 찍으려 합니다. 수포자는 1번 문제부터 마지막 문제까지 다음과 같이 찍습니다.\n",
    "\n",
    "1번 수포자가 찍는 방식: 1, 2, 3, 4, 5, 1, 2, 3, 4, 5, ...\n",
    "2번 수포자가 찍는 방식: 2, 1, 2, 3, 2, 4, 2, 5, 2, 1, 2, 3, 2, 4, 2, 5, ...\n",
    "3번 수포자가 찍는 방식: 3, 3, 1, 1, 2, 2, 4, 4, 5, 5, 3, 3, 1, 1, 2, 2, 4, 4, 5, 5, ...\n",
    "\n",
    "1번 문제부터 마지막 문제까지의 정답이 순서대로 들은 배열 answers가 주어졌을 때, 가장 많은 문제를 맞힌 사람이 누구인지 배열에 담아 return 하도록 solution 함수를 작성해주세요."
   ]
  },
  {
   "cell_type": "code",
   "execution_count": 8,
   "metadata": {},
   "outputs": [
    {
     "name": "stdout",
     "output_type": "stream",
     "text": [
      "[1]\n"
     ]
    }
   ],
   "source": [
    "def solution(answer):\n",
    "    n = len(answer)\n",
    "\n",
    "    # 리스트 생성\n",
    "    su1 = [1,2,3,4,5]\n",
    "    su1 = su1*(n//5)+su1[:n%5]\n",
    "    su2 = [2,1,2,3,2,4,2,5]\n",
    "    su2 = su2*(n//8)+su2[:n%8]\n",
    "    su3 = [3,3,1,1,2,2,4,4,5,5]\n",
    "    su3 = su3*(n//10)+su3[:n%10]\n",
    "    \n",
    "    # 카운트 및 정렬\n",
    "    c = [[1,0],[2,0],[3,0]]\n",
    "    for i in range(n):\n",
    "        t = answer[i]\n",
    "        if su1[i] == t: c[0][1]+=1\n",
    "        if su2[i] == t: c[1][1]+=1\n",
    "        if su3[i] == t: c[2][1]+=1\n",
    "    \n",
    "    # 출력\n",
    "    c.sort(key=lambda x:x[1], reverse=True)\n",
    "    if c[0][1]==c[1][1]:\n",
    "        if c[1][1]==c[2][1]: return([1,2,3])\n",
    "        else: return([c[0][0],c[1][0]])\n",
    "    else: return([c[0][0]])"
   ]
  },
  {
   "cell_type": "code",
   "execution_count": null,
   "metadata": {},
   "outputs": [],
   "source": [
    "# 다른 사람 풀이\n",
    "# 배열을 생성하지 않고 인덱스로 계산함\n",
    "# 스코어 랭킹을 매길 때 enumerate와 max를 사용\n",
    "def solution(answers):\n",
    "    pattern1 = [1,2,3,4,5]\n",
    "    pattern2 = [2,1,2,3,2,4,2,5]\n",
    "    pattern3 = [3,3,1,1,2,2,4,4,5,5]\n",
    "    score = [0, 0, 0]\n",
    "    result = []\n",
    "\n",
    "    for idx, answer in enumerate(answers):\n",
    "        if answer == pattern1[idx%len(pattern1)]:\n",
    "            score[0] += 1\n",
    "        if answer == pattern2[idx%len(pattern2)]:\n",
    "            score[1] += 1\n",
    "        if answer == pattern3[idx%len(pattern3)]:\n",
    "            score[2] += 1\n",
    "\n",
    "    for idx, s in enumerate(score):\n",
    "        if s == max(score):\n",
    "            result.append(idx+1)\n",
    "\n",
    "    return result"
   ]
  },
  {
   "attachments": {},
   "cell_type": "markdown",
   "metadata": {},
   "source": [
    "### 소수 만들기\n",
    "- https://school.programmers.co.kr/learn/courses/30/lessons/12977\n",
    "---\n",
    "주어진 숫자 중 3개의 수를 더했을 때 소수가 되는 경우의 개수를 구하려고 합니다. 숫자들이 들어있는 배열 nums가 매개변수로 주어질 때, nums에 있는 숫자들 중 서로 다른 3개를 골라 더했을 때 소수가 되는 경우의 개수를 return 하도록 solution 함수를 완성해주세요."
   ]
  },
  {
   "cell_type": "code",
   "execution_count": 22,
   "metadata": {},
   "outputs": [
    {
     "name": "stdout",
     "output_type": "stream",
     "text": [
      "1\n"
     ]
    }
   ],
   "source": [
    "from itertools import combinations\n",
    "def solution(nums):\n",
    "    answer = 0\n",
    "    \n",
    "    for a in list(combinations(nums,3)):\n",
    "        a = sum(a)\n",
    "        if a%2==0: continue\n",
    "        for i in range(3,int(a**0.5)+1):\n",
    "            if a%i==0:\n",
    "                break\n",
    "        else:\n",
    "            answer +=1\n",
    "    return answer\n",
    "\n",
    "nums = [1,2,3,4]\n",
    "print(solution(nums))"
   ]
  },
  {
   "attachments": {},
   "cell_type": "markdown",
   "metadata": {},
   "source": [
    "### 실패율\n",
    "- 2019 KAKAO BLIND RECRUITMENT\n",
    "- https://school.programmers.co.kr/learn/courses/30/lessons/42889\n",
    "---\n",
    "슈퍼 게임 개발자 오렐리는 큰 고민에 빠졌다. 그녀가 만든 프랜즈 오천성이 대성공을 거뒀지만, 요즘 신규 사용자의 수가 급감한 것이다. 원인은 신규 사용자와 기존 사용자 사이에 스테이지 차이가 너무 큰 것이 문제였다.\n",
    "\n",
    "이 문제를 어떻게 할까 고민 한 그녀는 동적으로 게임 시간을 늘려서 난이도를 조절하기로 했다. 역시 슈퍼 개발자라 대부분의 로직은 쉽게 구현했지만, 실패율을 구하는 부분에서 위기에 빠지고 말았다. 오렐리를 위해 실패율을 구하는 코드를 완성하라.\n",
    "\n",
    "실패율은 다음과 같이 정의한다.\n",
    "스테이지에 도달했으나 아직 클리어하지 못한 플레이어의 수 / 스테이지에 도달한 플레이어 수\n",
    "전체 스테이지의 개수 N, 게임을 이용하는 사용자가 현재 멈춰있는 스테이지의 번호가 담긴 배열 stages가 매개변수로 주어질 때, 실패율이 높은 스테이지부터 내림차순으로 스테이지의 번호가 담겨있는 배열을 return 하도록 solution 함수를 완성하라."
   ]
  },
  {
   "cell_type": "code",
   "execution_count": 63,
   "metadata": {},
   "outputs": [
    {
     "name": "stdout",
     "output_type": "stream",
     "text": [
      "[4, 1, 2, 3, 5]\n"
     ]
    }
   ],
   "source": [
    "def solution(N, stages):\n",
    "    answer = {}\n",
    "    stage = [0]*(N+2)\n",
    "    \n",
    "    # 스테이지별 인원 계산\n",
    "    for s in stages:\n",
    "        stage[s]+=1\n",
    "    \n",
    "    # 실패율 계산\n",
    "    for i in range(1,N+1):\n",
    "        s = sum(stage[i:])\n",
    "        if s:\n",
    "            answer[i] =stage[i]/s\n",
    "        else:\n",
    "            answer[i] = 0\n",
    "    \n",
    "    # 정렬 및 출력\n",
    "    answer = sorted(answer.items(), key=lambda x:(-x[1],x[0]))\n",
    "    return [ i[0] for i in answer]\n",
    "\n",
    "N = 5\n",
    "stages = [4,4,4]\n",
    "print(solution(N,stages))\n",
    "\n"
   ]
  },
  {
   "attachments": {},
   "cell_type": "markdown",
   "metadata": {},
   "source": [
    "### 과일장수\n",
    "- https://school.programmers.co.kr/learn/courses/30/lessons/135808\n",
    "---\n",
    "과일 장수가 사과 상자를 포장하고 있습니다. 사과는 상태에 따라 1점부터 k점까지의 점수로 분류하며, k점이 최상품의 사과이고 1점이 최하품의 사과입니다. 사과 한 상자의 가격은 다음과 같이 결정됩니다.\n",
    "\n",
    "한 상자에 사과를 m개씩 담아 포장합니다.\n",
    "상자에 담긴 사과 중 가장 낮은 점수가 p (1 ≤ p ≤ k)점인 경우, 사과 한 상자의 가격은 p * m 입니다.\n",
    "과일 장수가 가능한 많은 사과를 팔았을 때, 얻을 수 있는 최대 이익을 계산하고자 합니다.(사과는 상자 단위로만 판매하며, 남는 사과는 버립니다)\n",
    "\n",
    "예를 들어, k = 3, m = 4, 사과 7개의 점수가 [1, 2, 3, 1, 2, 3, 1]이라면, 다음과 같이 [2, 3, 2, 3]으로 구성된 사과 상자 1개를 만들어 판매하여 최대 이익을 얻을 수 있습니다.\n",
    "\n",
    "(최저 사과 점수) x (한 상자에 담긴 사과 개수) x (상자의 개수) = 2 x 4 x 1 = 8\n",
    "사과의 최대 점수 k, 한 상자에 들어가는 사과의 수 m, 사과들의 점수 score가 주어졌을 때, 과일 장수가 얻을 수 있는 최대 이익을 return하는 solution 함수를 완성해주세요."
   ]
  },
  {
   "cell_type": "code",
   "execution_count": 81,
   "metadata": {},
   "outputs": [
    {
     "name": "stdout",
     "output_type": "stream",
     "text": [
      "33\n"
     ]
    }
   ],
   "source": [
    "# 1~k 점\n",
    "# 한 상자에 m개\n",
    "# 상자 가격 = p(가장 낮은 점수) x m\n",
    "# 얻을 수 있는 최대 이익?\n",
    "# -> 내림차순 후 상자 넣기, 2번째 상자\n",
    "def solution(k,m,score):\n",
    "    score.sort(reverse=True)\n",
    "    return sum([score[m*i-1]*m for i in range(1,len(score)//m+1)])\n",
    "\n",
    "k,m = 4,3\n",
    "score = [4, 1, 2, 2, 4, 4, 4, 4, 1, 2, 4, 2]\n",
    "print(solution(k,m,score))"
   ]
  },
  {
   "attachments": {},
   "cell_type": "markdown",
   "metadata": {},
   "source": [
    "### 명예의 전당\n",
    "- https://school.programmers.co.kr/learn/courses/30/lessons/138477\n",
    "---\n",
    "\"명예의 전당\"이라는 TV 프로그램에서는 매일 1명의 가수가 노래를 부르고, 시청자들의 문자 투표수로 가수에게 점수를 부여합니다. 매일 출연한 가수의 점수가 지금까지 출연 가수들의 점수 중 상위 k번째 이내이면 해당 가수의 점수를 명예의 전당이라는 목록에 올려 기념합니다. 즉 프로그램 시작 이후 초기에 k일까지는 모든 출연 가수의 점수가 명예의 전당에 오르게 됩니다. k일 다음부터는 출연 가수의 점수가 기존의 명예의 전당 목록의 k번째 순위의 가수 점수보다 더 높으면, 출연 가수의 점수가 명예의 전당에 오르게 되고 기존의 k번째 순위의 점수는 명예의 전당에서 내려오게 됩니다.\n",
    "\n",
    "이 프로그램에서는 매일 \"명예의 전당\"의 최하위 점수를 발표합니다. 예를 들어, k = 3이고, 7일 동안 진행된 가수의 점수가 [10, 100, 20, 150, 1, 100, 200]이라면, 명예의 전당에서 발표된 점수는 아래의 그림과 같이 [10, 10, 10, 20, 20, 100, 100]입니다.\n",
    "\n",
    "명예의 전당 목록의 점수의 개수 k, 1일부터 마지막 날까지 출연한 가수들의 점수인 score가 주어졌을 때, 매일 발표된 명예의 전당의 최하위 점수를 return하는 solution 함수를 완성해주세요."
   ]
  },
  {
   "cell_type": "code",
   "execution_count": 120,
   "metadata": {},
   "outputs": [
    {
     "name": "stdout",
     "output_type": "stream",
     "text": [
      "[0, 0, 0, 0, 20, 40, 70, 70, 150, 300]\n"
     ]
    }
   ],
   "source": [
    "import heapq\n",
    "\n",
    "def solution(k,score):\n",
    "    answer = []\n",
    "    honorList = []\n",
    "    for i in range(len(score)):\n",
    "        if i<=k-1:\n",
    "            heapq.heappush(honorList,score[i])\n",
    "        elif honorList[0] < score[i]:     \n",
    "            heapq.heappop(honorList)\n",
    "            heapq.heappush(honorList,score[i])\n",
    "        answer.append(honorList[0])\n",
    "    return answer\n",
    "k = 4\n",
    "score = [0, 300, 40, 300, 20, 70, 150, 50, 500, 1000]\n",
    "print(solution(k,score))"
   ]
  },
  {
   "attachments": {},
   "cell_type": "markdown",
   "metadata": {},
   "source": [
    "### 다트 게임\n",
    "- 2018 KAKAO BLIND RECRUITMENT\n",
    "- https://school.programmers.co.kr/learn/courses/30/lessons/17682\n",
    "---\n",
    "카카오톡 게임별의 하반기 신규 서비스로 다트 게임을 출시하기로 했다. 다트 게임은 다트판에 다트를 세 차례 던져 그 점수의 합계로 실력을 겨루는 게임으로, 모두가 간단히 즐길 수 있다.\n",
    "갓 입사한 무지는 코딩 실력을 인정받아 게임의 핵심 부분인 점수 계산 로직을 맡게 되었다. 다트 게임의 점수 계산 로직은 아래와 같다.\n",
    "\n",
    "1. 다트 게임은 총 3번의 기회로 구성된다.\n",
    "2. 각 기회마다 얻을 수 있는 점수는 0점에서 10점까지이다.\n",
    "3. 점수와 함께 Single(S), Double(D), Triple(T) 영역이 존재하고 각 영역 당첨 시 점수에서 1제곱, 2제곱, 3제곱 (점수1 , 점수2 , 점수3 )으로 계산된다.\n",
    "4. 옵션으로 스타상(*) , 아차상(#)이 존재하며 스타상(*) 당첨 시 해당 점수와 바로 전에 얻은 점수를 각 2배로 만든다. 아차상(#) 당첨 시 해당 점수는 마이너스된다.\n",
    "5. 스타상(*)은 첫 번째 기회에서도 나올 수 있다. 이 경우 첫 번째 스타상(*)의 점수만 2배가 된다. (예제 4번 참고)\n",
    "6. 스타상(*)의 효과는 다른 스타상(*)의 효과와 중첩될 수 있다. 이 경우 중첩된 스타상(*) 점수는 4배가 된다. (예제 4번 참고)\n",
    "7. 스타상(*)의 효과는 아차상(#)의 효과와 중첩될 수 있다. 이 경우 중첩된 아차상(#)의 점수는 -2배가 된다. (예제 5번 참고)\n",
    "8. Single(S), Double(D), Triple(T)은 점수마다 하나씩 존재한다.\n",
    "9. 스타상(*), 아차상(#)은 점수마다 둘 중 하나만 존재할 수 있으며, 존재하지 않을 수도 있다.<br><br>\n",
    "0~10의 정수와 문자 S, D, T, *, #로 구성된 문자열이 입력될 시 총점수를 반환하는 함수를 작성하라."
   ]
  },
  {
   "cell_type": "code",
   "execution_count": 140,
   "metadata": {},
   "outputs": [
    {
     "data": {
      "text/plain": [
       "204"
      ]
     },
     "execution_count": 140,
     "metadata": {},
     "output_type": "execute_result"
    }
   ],
   "source": [
    "def solution(dart):\n",
    "    answer = [0]\n",
    "    pre = 0\n",
    "    digit = 0\n",
    "    idx = 0\n",
    "    for i,s in enumerate(dart):\n",
    "        if s.isdigit() and dart[i+1].isdigit(): digit = 10; idx+=1\n",
    "        elif s.isdigit() and digit<10: digit = int(s); idx+=1\n",
    "        elif s==\"S\": pre = digit; answer.append(pre); digit=0\n",
    "        elif s==\"D\": pre = digit**2; answer.append(pre); digit=0\n",
    "        elif s==\"T\": pre = digit**3; answer.append(pre); digit=0\n",
    "        elif s==\"*\": answer[idx-1] *=2; answer[idx] *=2\n",
    "        elif s==\"#\": answer[idx] -=pre*2\n",
    "    return sum(answer)\n",
    "\n",
    "dartResult = \"10D4S10D\"\n",
    "solution(dartResult)"
   ]
  },
  {
   "cell_type": "code",
   "execution_count": null,
   "metadata": {},
   "outputs": [],
   "source": [
    "# 다른사람 풀이"
   ]
  }
 ],
 "metadata": {
  "kernelspec": {
   "display_name": "Python 3",
   "language": "python",
   "name": "python3"
  },
  "language_info": {
   "codemirror_mode": {
    "name": "ipython",
    "version": 3
   },
   "file_extension": ".py",
   "mimetype": "text/x-python",
   "name": "python",
   "nbconvert_exporter": "python",
   "pygments_lexer": "ipython3",
   "version": "3.9.13"
  },
  "orig_nbformat": 4
 },
 "nbformat": 4,
 "nbformat_minor": 2
}
