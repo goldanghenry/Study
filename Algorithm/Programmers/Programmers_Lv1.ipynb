{
 "cells": [
  {
   "attachments": {},
   "cell_type": "markdown",
   "metadata": {},
   "source": [
    "## Programmers Lv.1"
   ]
  },
  {
   "attachments": {},
   "cell_type": "markdown",
   "metadata": {},
   "source": [
    "### 시저 암호\n",
    "- https://school.programmers.co.kr/learn/courses/30/lessons/12926\n",
    "- 어떤 문장의 각 알파벳을 일정한 거리만큼 밀어서 다른 알파벳으로 바꾸는 암호화 방식을 시저 암호라고 합니다. 예를 들어 \"AB\"는 1만큼 밀면 \"BC\"가 되고, 3만큼 밀면 \"DE\"가 됩니다. \"z\"는 1만큼 밀면 \"a\"가 됩니다. 문자열 s와 거리 n을 입력받아 s를 n만큼 민 암호문을 만드는 함수, solution을 완성해 보세요."
   ]
  },
  {
   "cell_type": "code",
   "execution_count": null,
   "metadata": {},
   "outputs": [],
   "source": [
    "def solution(s, n):\n",
    "    answer = []\n",
    "    for i in s:\n",
    "        if i.isupper():\n",
    "            answer.append(chr((ord(i)+n-65)%26+65))\n",
    "        elif i.islower():\n",
    "            answer.append(chr((ord(i)+n-97)%26+97))\n",
    "        else:\n",
    "            answer.append(' ')\n",
    "\n",
    "    return ''.join(answer)"
   ]
  },
  {
   "attachments": {},
   "cell_type": "markdown",
   "metadata": {},
   "source": [
    "### 3진법 뒤집기\n",
    "- https://school.programmers.co.kr/learn/courses/30/lessons/68935\n",
    "- 자연수 n이 매개변수로 주어집니다. n을 3진법 상에서 앞뒤로 뒤집은 후, 이를 다시 10진법으로 표현한 수를 return 하도록 solution 함수를 완성해주세요."
   ]
  },
  {
   "cell_type": "code",
   "execution_count": null,
   "metadata": {},
   "outputs": [],
   "source": [
    "def solution(n):\n",
    "    temp = \"\"\n",
    "    answer = 0\n",
    "    \n",
    "    # 10진법 -> 3진법\n",
    "    while n>=3:\n",
    "        temp+= str(n%3)\n",
    "        n = n//3\n",
    "    temp+= str(n%3)\n",
    "    \n",
    "    # 3진법 -> 10진법\n",
    "    temp = temp[::-1]\n",
    "    for i,t in enumerate(temp):\n",
    "        answer += int(t)*3**i\n",
    "    \n",
    "    return answer"
   ]
  },
  {
   "cell_type": "code",
   "execution_count": null,
   "metadata": {},
   "outputs": [],
   "source": [
    "# 다른사람 풀이\n",
    "# int(string, base) 사용\n",
    "def solution(n):\n",
    "    tmp = ''\n",
    "    while n:\n",
    "        tmp += str(n % 3)\n",
    "        n = n // 3\n",
    "\n",
    "    answer = int(tmp, 3)\n",
    "    return answer"
   ]
  },
  {
   "attachments": {},
   "cell_type": "markdown",
   "metadata": {},
   "source": [
    "### 이상한 문자 만들기\n",
    "- https://school.programmers.co.kr/learn/courses/30/lessons/12930\n",
    "- 문자열 s는 한 개 이상의 단어로 구성되어 있습니다. 각 단어는 하나 이상의 공백문자로 구분되어 있습니다. 각 단어의 짝수번째 알파벳은 대문자로, 홀수번째 알파벳은 소문자로 바꾼 문자열을 리턴하는 함수, solution을 완성하세요."
   ]
  },
  {
   "cell_type": "code",
   "execution_count": 16,
   "metadata": {},
   "outputs": [
    {
     "name": "stdout",
     "output_type": "stream",
     "text": [
      "Tr KkY HeLlO WoRlD  WoRlD W    KkKkKkKk Qq Aa\n"
     ]
    }
   ],
   "source": [
    "# 주의할 점 : 공백이 하나 이상이기 때문에 string.split()을 사용하면 안 된다.\n",
    "def solution(s):\n",
    "    answer = \"\"\n",
    "    count = 0\n",
    "    for st in s:\n",
    "        if st == \" \": \n",
    "            answer += \" \"\n",
    "            count = 0\n",
    "        elif count %2==0:\n",
    "            answer += st.upper()\n",
    "            count +=1\n",
    "        else:\n",
    "            answer += st.lower()\n",
    "            count +=1\n",
    "    return answer\n",
    "\n",
    "s = \"Tr kky hello world  world w    KKKKKKKK qq AA\"\n",
    "print(solution(s))"
   ]
  },
  {
   "attachments": {},
   "cell_type": "markdown",
   "metadata": {},
   "source": [
    "### 예산\n",
    "- https://school.programmers.co.kr/learn/courses/30/lessons/12982\n",
    "- S사에서는 각 부서에 필요한 물품을 지원해 주기 위해 부서별로 물품을 구매하는데 필요한 금액을 조사했습니다. 그러나, 전체 예산이 정해져 있기 때문에 모든 부서의 물품을 구매해 줄 수는 없습니다. 그래서 최대한 많은 부서의 물품을 구매해 줄 수 있도록 하려고 합니다.\n",
    "\n",
    "물품을 구매해 줄 때는 각 부서가 신청한 금액만큼을 모두 지원해 줘야 합니다. 예를 들어 1,000원을 신청한 부서에는 정확히 1,000원을 지원해야 하며, 1,000원보다 적은 금액을 지원해 줄 수는 없습니다.\n",
    "\n",
    "부서별로 신청한 금액이 들어있는 배열 d와 예산 budget이 매개변수로 주어질 때, 최대 몇 개의 부서에 물품을 지원할 수 있는지 return 하도록 solution 함수를 완성해주세요."
   ]
  },
  {
   "cell_type": "code",
   "execution_count": 25,
   "metadata": {},
   "outputs": [
    {
     "name": "stdout",
     "output_type": "stream",
     "text": [
      "1\n"
     ]
    }
   ],
   "source": [
    "# 처음에는 itertools의 combinations를 사용했지만, 시간초과 판정을 받았다.\n",
    "# 예산에 딱 맞출 필요가 없기 때문에(적기만 하면 되기에) 오름차순 정렬 후 더하는 방식으로 해결\n",
    "def solution(d, budget):\n",
    "    d.sort()\n",
    "    for i in range(len(d),0,-1):\n",
    "        if budget >= sum(d[0:i]):\n",
    "            return i\n",
    "    else:\n",
    "        return 0\n"
   ]
  },
  {
   "cell_type": "code",
   "execution_count": null,
   "metadata": {},
   "outputs": [],
   "source": [
    "# 다른사람 코드\n",
    "# range 대신 zip 사용\n",
    "# bin(i|j) -> 하나로 통합\n",
    "# rjust -> 앞부분 0으로 채우기\n",
    "# replace -> 동시에 변환\n",
    "def solution(n, arr1, arr2):\n",
    "    answer = []\n",
    "    for i,j in zip(arr1,arr2):\n",
    "        a12 = str(bin(i|j)[2:])\n",
    "        a12=a12.rjust(n,'0')\n",
    "        a12=a12.replace('1','#')\n",
    "        a12=a12.replace('0',' ')\n",
    "        answer.append(a12)\n",
    "    return answer"
   ]
  },
  {
   "cell_type": "code",
   "execution_count": 10,
   "metadata": {},
   "outputs": [
    {
     "data": {
      "text/plain": [
       "3"
      ]
     },
     "execution_count": 10,
     "metadata": {},
     "output_type": "execute_result"
    }
   ],
   "source": [
    "def solution(t, p):\n",
    "    answer = 0\n",
    "    n = len(p)\n",
    "    for j in [ t[i:i+n] for i in range(0,len(t)-n+1)]:\n",
    "        if int(j) <= int(p) :\n",
    "            answer +=1\n",
    "    return answer\n",
    "\n",
    "t = \"10203\"\n",
    "p = \"15\"\n",
    "solution(t, p)"
   ]
  },
  {
   "attachments": {},
   "cell_type": "markdown",
   "metadata": {},
   "source": [
    "### 콜라 문제\n",
    "- https://school.programmers.co.kr/learn/courses/30/lessons/132267\n",
    "---\n",
    "오래전 유행했던 콜라 문제가 있습니다. 콜라 문제의 지문은 다음과 같습니다.\n",
    "\n",
    "정답은 아무에게도 말하지 마세요.\n",
    "\n",
    "콜라 빈 병 2개를 가져다주면 콜라 1병을 주는 마트가 있다. 빈 병 20개를 가져다주면 몇 병을 받을 수 있는가?\n",
    "\n",
    "단, 보유 중인 빈 병이 2개 미만이면, 콜라를 받을 수 없다.\n",
    "\n",
    "문제를 풀던 상빈이는 콜라 문제의 완벽한 해답을 찾았습니다. 상빈이가 푼 방법은 아래 그림과 같습니다. 우선 콜라 빈 병 20병을 가져가서 10병을 받습니다. 받은 10병을 모두 마신 뒤, 가져가서 5병을 받습니다. 5병 중 4병을 모두 마신 뒤 가져가서 2병을 받고, 또 2병을 모두 마신 뒤 가져가서 1병을 받습니다. 받은 1병과 5병을 받았을 때 남은 1병을 모두 마신 뒤 가져가면 1병을 또 받을 수 있습니다. 이 경우 상빈이는 총 10 + 5 + 2 + 1 + 1 = 19병의 콜라를 받을 수 있습니다.\n",
    "\n",
    "이 문제는 빈 병 a개를 가져다주면 콜라 b병을 주는 마트가 있을 때, 빈 병 n개를 가져다주면 몇 병을 받을 수 있는지 계산하는 문제입니다. "
   ]
  },
  {
   "cell_type": "code",
   "execution_count": 2,
   "metadata": {},
   "outputs": [
    {
     "name": "stdout",
     "output_type": "stream",
     "text": [
      "빈병 수 21 콜라 받은 수 12 남은 빈병 수 13\n",
      "빈병 수 13 콜라 받은 수 6 남은 빈병 수 9\n",
      "빈병 수 9 콜라 받은 수 3 남은 빈병 수 7\n",
      "빈병 수 7 콜라 받은 수 3 남은 빈병 수 5\n",
      "빈병 수 5 콜라 받은 수 3 남은 빈병 수 3\n",
      "27\n"
     ]
    }
   ],
   "source": [
    "import sys\n",
    "sys.setrecursionlimit(10000)    # 재귀가 너무 깊어서 런타임 오류 -> 이럴 경우 사용 또는 반복문으로 구현\n",
    "# 빈병 제출 가능 수, 콜라 받는 수, 남은 빈병 수\n",
    "def solution(bottle, cola, re_bottle):\n",
    "    if re_bottle < bottle:  # 남은 빈병 수가 빈병 제출 가능 수보다 작을 때 종료\n",
    "        return 0\n",
    "    a = cola * (re_bottle//bottle)   # 콜라 = b개 * 남은 빈병 // a개\n",
    "    re = re_bottle%bottle          # 빈병 제출 후 남은 빈병\n",
    "    return a + solution(bottle, cola, a + re)\n",
    "\n",
    "a = 5\n",
    "b = 3\n",
    "n = 21\n",
    "print(solution(a,b,n))"
   ]
  },
  {
   "attachments": {},
   "cell_type": "markdown",
   "metadata": {},
   "source": [
    "### 푸드파이트 대회\n",
    "- https://school.programmers.co.kr/learn/courses/30/lessons/134240 <br>\n",
    "---\n",
    "수웅이는 매달 주어진 음식을 빨리 먹는 푸드 파이트 대회를 개최합니다. 이 대회에서 선수들은 1대 1로 대결하며, 매 대결마다 음식의 종류와 양이 바뀝니다. 대결은 준비된 음식들을 일렬로 배치한 뒤, 한 선수는 제일 왼쪽에 있는 음식부터 오른쪽으로, 다른 선수는 제일 오른쪽에 있는 음식부터 왼쪽으로 순서대로 먹는 방식으로 진행됩니다. 중앙에는 물을 배치하고, 물을 먼저 먹는 선수가 승리하게 됩니다.\n",
    "\n",
    "이때, 대회의 공정성을 위해 두 선수가 먹는 음식의 종류와 양이 같아야 하며, 음식을 먹는 순서도 같아야 합니다. 또한, 이번 대회부터는 칼로리가 낮은 음식을 먼저 먹을 수 있게 배치하여 선수들이 음식을 더 잘 먹을 수 있게 하려고 합니다. 이번 대회를 위해 수웅이는 음식을 주문했는데, 대회의 조건을 고려하지 않고 음식을 주문하여 몇 개의 음식은 대회에 사용하지 못하게 되었습니다.\n",
    "\n",
    "예를 들어, 3가지의 음식이 준비되어 있으며, 칼로리가 적은 순서대로 1번 음식을 3개, 2번 음식을 4개, 3번 음식을 6개 준비했으며, 물을 편의상 0번 음식이라고 칭한다면, 두 선수는 1번 음식 1개, 2번 음식 2개, 3번 음식 3개씩을 먹게 되므로 음식의 배치는 \"1223330333221\"이 됩니다. 따라서 1번 음식 1개는 대회에 사용하지 못합니다.\n",
    "\n",
    "수웅이가 준비한 음식의 양을 칼로리가 적은 순서대로 나타내는 정수 배열 food가 주어졌을 때, 대회를 위한 음식의 배치를 나타내는 문자열을 return 하는 solution 함수를 완성해주세요."
   ]
  },
  {
   "cell_type": "code",
   "execution_count": 21,
   "metadata": {},
   "outputs": [
    {
     "name": "stdout",
     "output_type": "stream",
     "text": [
      "1223330333221\n"
     ]
    }
   ],
   "source": [
    "# 1열로 배치, 왼쪽 - 물 - 오른쪽\n",
    "# 칼로리가 낮은 음식부터 배치\n",
    "# 0은 물\n",
    "def solution(food):\n",
    "    answer = \"\"\n",
    "    for i in range(1,len(food)):\n",
    "        if food[i]<2: continue\n",
    "        answer+=str(i)*(food[i]//2)\n",
    "    answer += \"0\"+answer[::-1]\n",
    "    return answer\n",
    "\n",
    "food = [1, 3, 4, 6]\n",
    "print(solution(food))"
   ]
  },
  {
   "attachments": {},
   "cell_type": "markdown",
   "metadata": {},
   "source": [
    "### 가장 가까운 글자\n",
    "- https://school.programmers.co.kr/learn/courses/30/lessons/142086\n",
    "---\n",
    "문자열 s가 주어졌을 때, s의 각 위치마다 자신보다 앞에 나왔으면서, 자신과 가장 가까운 곳에 있는 같은 글자가 어디 있는지 알고 싶습니다.\n",
    "예를 들어, s=\"banana\"라고 할 때,  각 글자들을 왼쪽부터 오른쪽으로 읽어 나가면서 다음과 같이 진행할 수 있습니다.\n",
    "\n",
    "b는 처음 나왔기 때문에 자신의 앞에 같은 글자가 없습니다. 이는 -1로 표현합니다.\n",
    "a는 처음 나왔기 때문에 자신의 앞에 같은 글자가 없습니다. 이는 -1로 표현합니다.\n",
    "n은 처음 나왔기 때문에 자신의 앞에 같은 글자가 없습니다. 이는 -1로 표현합니다.\n",
    "a는 자신보다 두 칸 앞에 a가 있습니다. 이는 2로 표현합니다.\n",
    "n도 자신보다 두 칸 앞에 n이 있습니다. 이는 2로 표현합니다.\n",
    "a는 자신보다 두 칸, 네 칸 앞에 a가 있습니다. 이 중 가까운 것은 두 칸 앞이고, 이는 2로 표현합니다.\n",
    "따라서 최종 결과물은 [-1, -1, -1, 2, 2, 2]가 됩니다.\n",
    "\n",
    "문자열 s이 주어질 때, 위와 같이 정의된 연산을 수행하는 함수 solution을 완성해주세요."
   ]
  },
  {
   "cell_type": "code",
   "execution_count": 32,
   "metadata": {},
   "outputs": [
    {
     "name": "stdout",
     "output_type": "stream",
     "text": [
      "[-1, -1, 1, -1, -1, -1]\n"
     ]
    }
   ],
   "source": [
    "def solution(s):\n",
    "    answer = []\n",
    "    alph_list = [ -1 for _ in range(26)]    # 마지막 인덱스 기록\n",
    "    for i, n in enumerate(s):\n",
    "        if alph_list[ord(n)-97] != -1:\n",
    "            answer.append(i-alph_list[ord(n)-97])\n",
    "        else:\n",
    "            answer.append(-1)\n",
    "        alph_list[ord(n)-97] = i\n",
    "    return answer\n",
    "\n",
    "s = \"foobar\"\n",
    "print(solution(s))"
   ]
  },
  {
   "cell_type": "code",
   "execution_count": 29,
   "metadata": {},
   "outputs": [
    {
     "name": "stdout",
     "output_type": "stream",
     "text": [
      "97\n"
     ]
    }
   ],
   "source": [
    "print(ord(\"a\"))"
   ]
  },
  {
   "attachments": {},
   "cell_type": "markdown",
   "metadata": {},
   "source": [
    "### 폰켓몬\n",
    "- https://school.programmers.co.kr/learn/courses/30/lessons/1845\n",
    "---\n",
    "당신은 폰켓몬을 잡기 위한 오랜 여행 끝에, 홍 박사님의 연구실에 도착했습니다. 홍 박사님은 당신에게 자신의 연구실에 있는 총 N 마리의 폰켓몬 중에서 N/2마리를 가져가도 좋다고 했습니다.\n",
    "홍 박사님 연구실의 폰켓몬은 종류에 따라 번호를 붙여 구분합니다. 따라서 같은 종류의 폰켓몬은 같은 번호를 가지고 있습니다. 예를 들어 연구실에 총 4마리의 폰켓몬이 있고, 각 폰켓몬의 종류 번호가 [3번, 1번, 2번, 3번]이라면 이는 3번 폰켓몬 두 마리, 1번 폰켓몬 한 마리, 2번 폰켓몬 한 마리가 있음을 나타냅니다. 이때, 4마리의 폰켓몬 중 2마리를 고르는 방법은 다음과 같이 6가지가 있습니다.\n",
    "\n",
    "첫 번째(3번), 두 번째(1번) 폰켓몬을 선택\n",
    "첫 번째(3번), 세 번째(2번) 폰켓몬을 선택\n",
    "첫 번째(3번), 네 번째(3번) 폰켓몬을 선택\n",
    "두 번째(1번), 세 번째(2번) 폰켓몬을 선택\n",
    "두 번째(1번), 네 번째(3번) 폰켓몬을 선택\n",
    "세 번째(2번), 네 번째(3번) 폰켓몬을 선택\n",
    "이때, 첫 번째(3번) 폰켓몬과 네 번째(3번) 폰켓몬을 선택하는 방법은 한 종류(3번 폰켓몬 두 마리)의 폰켓몬만 가질 수 있지만, 다른 방법들은 모두 두 종류의 폰켓몬을 가질 수 있습니다. 따라서 위 예시에서 가질 수 있는 폰켓몬 종류 수의 최댓값은 2가 됩니다.\n",
    "당신은 최대한 다양한 종류의 폰켓몬을 가지길 원하기 때문에, 최대한 많은 종류의 폰켓몬을 포함해서 N/2마리를 선택하려 합니다. N마리 폰켓몬의 종류 번호가 담긴 배열 nums가 매개변수로 주어질 때, N/2마리의 폰켓몬을 선택하는 방법 중, 가장 많은 종류의 폰켓몬을 선택하는 방법을 찾아, 그때의 폰켓몬 종류 번호의 개수를 return 하도록 solution 함수를 완성해주세요."
   ]
  },
  {
   "cell_type": "code",
   "execution_count": 17,
   "metadata": {},
   "outputs": [
    {
     "name": "stdout",
     "output_type": "stream",
     "text": [
      "2\n"
     ]
    }
   ],
   "source": [
    "# N 마리 폰켓몬 중 N/2 가져가라\n",
    "# 같은 종류 - 같은 번호\n",
    "# 가질 수 있는 폰켓몬 최댓값\n",
    "from collections import Counter\n",
    "\n",
    "def solution(nums):\n",
    "    n = len(nums)//2\n",
    "    k = len(list(Counter(nums).values()))\n",
    "    if n <= k:\n",
    "        return n\n",
    "    else:\n",
    "        return k\n",
    "\n",
    "nums = [3,3,3,2,2,2]\n",
    "print(solution(nums))"
   ]
  },
  {
   "cell_type": "code",
   "execution_count": null,
   "metadata": {},
   "outputs": [],
   "source": [
    "def solution(ls):\n",
    "    return min(len(ls)/2, len(set(ls)))"
   ]
  },
  {
   "attachments": {},
   "cell_type": "markdown",
   "metadata": {},
   "source": [
    "### 모의고사\n",
    "- https://school.programmers.co.kr/learn/courses/30/lessons/42840\n",
    "---\n",
    "수포자는 수학을 포기한 사람의 준말입니다. 수포자 삼인방은 모의고사에 수학 문제를 전부 찍으려 합니다. 수포자는 1번 문제부터 마지막 문제까지 다음과 같이 찍습니다.\n",
    "\n",
    "1번 수포자가 찍는 방식: 1, 2, 3, 4, 5, 1, 2, 3, 4, 5, ...\n",
    "2번 수포자가 찍는 방식: 2, 1, 2, 3, 2, 4, 2, 5, 2, 1, 2, 3, 2, 4, 2, 5, ...\n",
    "3번 수포자가 찍는 방식: 3, 3, 1, 1, 2, 2, 4, 4, 5, 5, 3, 3, 1, 1, 2, 2, 4, 4, 5, 5, ...\n",
    "\n",
    "1번 문제부터 마지막 문제까지의 정답이 순서대로 들은 배열 answers가 주어졌을 때, 가장 많은 문제를 맞힌 사람이 누구인지 배열에 담아 return 하도록 solution 함수를 작성해주세요."
   ]
  },
  {
   "cell_type": "code",
   "execution_count": 8,
   "metadata": {},
   "outputs": [
    {
     "name": "stdout",
     "output_type": "stream",
     "text": [
      "[1]\n"
     ]
    }
   ],
   "source": [
    "def solution(answer):\n",
    "    n = len(answer)\n",
    "\n",
    "    # 리스트 생성\n",
    "    su1 = [1,2,3,4,5]\n",
    "    su1 = su1*(n//5)+su1[:n%5]\n",
    "    su2 = [2,1,2,3,2,4,2,5]\n",
    "    su2 = su2*(n//8)+su2[:n%8]\n",
    "    su3 = [3,3,1,1,2,2,4,4,5,5]\n",
    "    su3 = su3*(n//10)+su3[:n%10]\n",
    "    \n",
    "    # 카운트 및 정렬\n",
    "    c = [[1,0],[2,0],[3,0]]\n",
    "    for i in range(n):\n",
    "        t = answer[i]\n",
    "        if su1[i] == t: c[0][1]+=1\n",
    "        if su2[i] == t: c[1][1]+=1\n",
    "        if su3[i] == t: c[2][1]+=1\n",
    "    \n",
    "    # 출력\n",
    "    c.sort(key=lambda x:x[1], reverse=True)\n",
    "    if c[0][1]==c[1][1]:\n",
    "        if c[1][1]==c[2][1]: return([1,2,3])\n",
    "        else: return([c[0][0],c[1][0]])\n",
    "    else: return([c[0][0]])"
   ]
  },
  {
   "cell_type": "code",
   "execution_count": null,
   "metadata": {},
   "outputs": [],
   "source": [
    "# 다른 사람 풀이\n",
    "# 배열을 생성하지 않고 인덱스로 계산함\n",
    "# 스코어 랭킹을 매길 때 enumerate와 max를 사용\n",
    "def solution(answers):\n",
    "    pattern1 = [1,2,3,4,5]\n",
    "    pattern2 = [2,1,2,3,2,4,2,5]\n",
    "    pattern3 = [3,3,1,1,2,2,4,4,5,5]\n",
    "    score = [0, 0, 0]\n",
    "    result = []\n",
    "\n",
    "    for idx, answer in enumerate(answers):\n",
    "        if answer == pattern1[idx%len(pattern1)]:\n",
    "            score[0] += 1\n",
    "        if answer == pattern2[idx%len(pattern2)]:\n",
    "            score[1] += 1\n",
    "        if answer == pattern3[idx%len(pattern3)]:\n",
    "            score[2] += 1\n",
    "\n",
    "    for idx, s in enumerate(score):\n",
    "        if s == max(score):\n",
    "            result.append(idx+1)\n",
    "\n",
    "    return result"
   ]
  },
  {
   "attachments": {},
   "cell_type": "markdown",
   "metadata": {},
   "source": [
    "### 소수 만들기\n",
    "- https://school.programmers.co.kr/learn/courses/30/lessons/12977\n",
    "---\n",
    "주어진 숫자 중 3개의 수를 더했을 때 소수가 되는 경우의 개수를 구하려고 합니다. 숫자들이 들어있는 배열 nums가 매개변수로 주어질 때, nums에 있는 숫자들 중 서로 다른 3개를 골라 더했을 때 소수가 되는 경우의 개수를 return 하도록 solution 함수를 완성해주세요."
   ]
  },
  {
   "cell_type": "code",
   "execution_count": 22,
   "metadata": {},
   "outputs": [
    {
     "name": "stdout",
     "output_type": "stream",
     "text": [
      "1\n"
     ]
    }
   ],
   "source": [
    "from itertools import combinations\n",
    "def solution(nums):\n",
    "    answer = 0\n",
    "    \n",
    "    for a in list(combinations(nums,3)):\n",
    "        a = sum(a)\n",
    "        if a%2==0: continue\n",
    "        for i in range(3,int(a**0.5)+1):\n",
    "            if a%i==0:\n",
    "                break\n",
    "        else:\n",
    "            answer +=1\n",
    "    return answer\n",
    "\n",
    "nums = [1,2,3,4]\n",
    "print(solution(nums))"
   ]
  },
  {
   "attachments": {},
   "cell_type": "markdown",
   "metadata": {},
   "source": [
    "### 과일장수\n",
    "- https://school.programmers.co.kr/learn/courses/30/lessons/135808\n",
    "---\n",
    "과일 장수가 사과 상자를 포장하고 있습니다. 사과는 상태에 따라 1점부터 k점까지의 점수로 분류하며, k점이 최상품의 사과이고 1점이 최하품의 사과입니다. 사과 한 상자의 가격은 다음과 같이 결정됩니다.\n",
    "\n",
    "한 상자에 사과를 m개씩 담아 포장합니다.\n",
    "상자에 담긴 사과 중 가장 낮은 점수가 p (1 ≤ p ≤ k)점인 경우, 사과 한 상자의 가격은 p * m 입니다.\n",
    "과일 장수가 가능한 많은 사과를 팔았을 때, 얻을 수 있는 최대 이익을 계산하고자 합니다.(사과는 상자 단위로만 판매하며, 남는 사과는 버립니다)\n",
    "\n",
    "예를 들어, k = 3, m = 4, 사과 7개의 점수가 [1, 2, 3, 1, 2, 3, 1]이라면, 다음과 같이 [2, 3, 2, 3]으로 구성된 사과 상자 1개를 만들어 판매하여 최대 이익을 얻을 수 있습니다.\n",
    "\n",
    "(최저 사과 점수) x (한 상자에 담긴 사과 개수) x (상자의 개수) = 2 x 4 x 1 = 8\n",
    "사과의 최대 점수 k, 한 상자에 들어가는 사과의 수 m, 사과들의 점수 score가 주어졌을 때, 과일 장수가 얻을 수 있는 최대 이익을 return하는 solution 함수를 완성해주세요."
   ]
  },
  {
   "cell_type": "code",
   "execution_count": 81,
   "metadata": {},
   "outputs": [
    {
     "name": "stdout",
     "output_type": "stream",
     "text": [
      "33\n"
     ]
    }
   ],
   "source": [
    "# 1~k 점\n",
    "# 한 상자에 m개\n",
    "# 상자 가격 = p(가장 낮은 점수) x m\n",
    "# 얻을 수 있는 최대 이익?\n",
    "# -> 내림차순 후 상자 넣기, 2번째 상자\n",
    "def solution(k,m,score):\n",
    "    score.sort(reverse=True)\n",
    "    return sum([score[m*i-1]*m for i in range(1,len(score)//m+1)])\n",
    "\n",
    "k,m = 4,3\n",
    "score = [4, 1, 2, 2, 4, 4, 4, 4, 1, 2, 4, 2]\n",
    "print(solution(k,m,score))"
   ]
  },
  {
   "attachments": {},
   "cell_type": "markdown",
   "metadata": {},
   "source": [
    "### 명예의 전당\n",
    "- https://school.programmers.co.kr/learn/courses/30/lessons/138477\n",
    "---\n",
    "\"명예의 전당\"이라는 TV 프로그램에서는 매일 1명의 가수가 노래를 부르고, 시청자들의 문자 투표수로 가수에게 점수를 부여합니다. 매일 출연한 가수의 점수가 지금까지 출연 가수들의 점수 중 상위 k번째 이내이면 해당 가수의 점수를 명예의 전당이라는 목록에 올려 기념합니다. 즉 프로그램 시작 이후 초기에 k일까지는 모든 출연 가수의 점수가 명예의 전당에 오르게 됩니다. k일 다음부터는 출연 가수의 점수가 기존의 명예의 전당 목록의 k번째 순위의 가수 점수보다 더 높으면, 출연 가수의 점수가 명예의 전당에 오르게 되고 기존의 k번째 순위의 점수는 명예의 전당에서 내려오게 됩니다.\n",
    "\n",
    "이 프로그램에서는 매일 \"명예의 전당\"의 최하위 점수를 발표합니다. 예를 들어, k = 3이고, 7일 동안 진행된 가수의 점수가 [10, 100, 20, 150, 1, 100, 200]이라면, 명예의 전당에서 발표된 점수는 아래의 그림과 같이 [10, 10, 10, 20, 20, 100, 100]입니다.\n",
    "\n",
    "명예의 전당 목록의 점수의 개수 k, 1일부터 마지막 날까지 출연한 가수들의 점수인 score가 주어졌을 때, 매일 발표된 명예의 전당의 최하위 점수를 return하는 solution 함수를 완성해주세요."
   ]
  },
  {
   "cell_type": "code",
   "execution_count": 120,
   "metadata": {},
   "outputs": [
    {
     "name": "stdout",
     "output_type": "stream",
     "text": [
      "[0, 0, 0, 0, 20, 40, 70, 70, 150, 300]\n"
     ]
    }
   ],
   "source": [
    "import heapq\n",
    "\n",
    "def solution(k,score):\n",
    "    answer = []\n",
    "    honorList = []\n",
    "    for i in range(len(score)):\n",
    "        if i<=k-1:\n",
    "            heapq.heappush(honorList,score[i])\n",
    "        elif honorList[0] < score[i]:     \n",
    "            heapq.heappop(honorList)\n",
    "            heapq.heappush(honorList,score[i])\n",
    "        answer.append(honorList[0])\n",
    "    return answer\n",
    "k = 4\n",
    "score = [0, 300, 40, 300, 20, 70, 150, 50, 500, 1000]\n",
    "print(solution(k,score))"
   ]
  },
  {
   "attachments": {},
   "cell_type": "markdown",
   "metadata": {},
   "source": [
    "### 로또의 최고 순위와 최저 순위\n",
    "- 2021 Dev-Matching: 웹 백엔드 개발\n",
    "- https://school.programmers.co.kr/learn/courses/30/lessons/77484\n",
    "---\n",
    "로또를 구매한 민우는 당첨 번호 발표일을 학수고대하고 있었습니다. 하지만, 민우의 동생이 로또에 낙서를 하여, 일부 번호를 알아볼 수 없게 되었습니다. 당첨 번호 발표 후, 민우는 자신이 구매했던 로또로 당첨이 가능했던 최고 순위와 최저 순위를 알아보고 싶어 졌습니다.\n",
    "알아볼 수 없는 번호를 0으로 표기하기로 하고, 민우가 구매한 로또 번호 6개가 44, 1, 0, 0, 31 25라고 가정해보겠습니다. 당첨 번호 6개가 31, 10, 45, 1, 6, 19라면, 당첨 가능한 최고 순위와 최저 순위의 한 예는 아래와 같습니다.\n",
    "\n",
    "순서와 상관없이, 구매한 로또에 당첨 번호와 일치하는 번호가 있으면 맞힌 걸로 인정됩니다.\n",
    "알아볼 수 없는 두 개의 번호를 각각 10, 6이라고 가정하면 3등에 당첨될 수 있습니다.\n",
    "3등을 만드는 다른 방법들도 존재합니다. 하지만, 2등 이상으로 만드는 것은 불가능합니다.\n",
    "알아볼 수 없는 두 개의 번호를 각각 11, 7이라고 가정하면 5등에 당첨될 수 있습니다.\n",
    "5등을 만드는 다른 방법들도 존재합니다. 하지만, 6등(낙첨)으로 만드는 것은 불가능합니다.\n",
    "민우가 구매한 로또 번호를 담은 배열 lottos, 당첨 번호를 담은 배열 win_nums가 매개변수로 주어집니다. 이때, 당첨 가능한 최고 순위와 최저 순위를 차례대로 배열에 담아서 return 하도록 solution 함수를 완성해주세요."
   ]
  },
  {
   "cell_type": "code",
   "execution_count": 11,
   "metadata": {},
   "outputs": [
    {
     "name": "stdout",
     "output_type": "stream",
     "text": [
      "[1, 6]\n"
     ]
    }
   ],
   "source": [
    "# 맞춘 것은 몇개인가\n",
    "# 0의 개수는 몇개인가\n",
    "# 최고 순위 : 맞춘 것 + 0의 개수\n",
    "# 최저 순위 : 맞춘 것\n",
    "\n",
    "def solution(lottos, win_nums):\n",
    "    idx = [6,5,4,3,2,1]\n",
    "    zero = lottos.count(0)\n",
    "    count = 0\n",
    "    for n in lottos:\n",
    "        if n in win_nums:\n",
    "            count+=1\n",
    "    if count != 0:\n",
    "        return [idx.index(count+zero)+1, idx.index(count)+1 ]\n",
    "    elif count+zero!=0:\n",
    "        return [idx.index(count+zero)+1,6]\n",
    "    else:\n",
    "        return [6,6]\n",
    "\n",
    "lottos =[0, 0, 0, 0, 0, 0]\n",
    "win_nums = [38, 19, 20, 40, 15, 25]\n",
    "print(solution(lottos, win_nums))"
   ]
  },
  {
   "cell_type": "code",
   "execution_count": null,
   "metadata": {},
   "outputs": [],
   "source": [
    "# 다른 사람 풀이\n",
    "# 랭크 부분이 깔끔하다\n",
    "def solution(lottos, win_nums):\n",
    "\n",
    "    rank=[6,6,5,4,3,2,1]\n",
    "\n",
    "    cnt_0 = lottos.count(0)\n",
    "    ans = 0\n",
    "    for x in win_nums:\n",
    "        if x in lottos:\n",
    "            ans += 1\n",
    "    return rank[cnt_0 + ans],rank[ans]"
   ]
  },
  {
   "attachments": {},
   "cell_type": "markdown",
   "metadata": {},
   "source": [
    "### 기사단원의 무기\n",
    "- https://school.programmers.co.kr/learn/courses/30/lessons/136798\n",
    "---\n",
    "숫자나라 기사단의 각 기사에게는 1번부터 number까지 번호가 지정되어 있습니다. 기사들은 무기점에서 무기를 구매하려고 합니다.\n",
    "\n",
    "각 기사는 자신의 기사 번호의 약수 개수에 해당하는 공격력을 가진 무기를 구매하려 합니다. 단, 이웃나라와의 협약에 의해 공격력의 제한수치를 정하고, 제한수치보다 큰 공격력을 가진 무기를 구매해야 하는 기사는 협약기관에서 정한 공격력을 가지는 무기를 구매해야 합니다.\n",
    "\n",
    "예를 들어, 15번으로 지정된 기사단원은 15의 약수가 1, 3, 5, 15로 4개 이므로, 공격력이 4인 무기를 구매합니다. 만약, 이웃나라와의 협약으로 정해진 공격력의 제한수치가 3이고 제한수치를 초과한 기사가 사용할 무기의 공격력이 2라면, 15번으로 지정된 기사단원은 무기점에서 공격력이 2인 무기를 구매합니다. 무기를 만들 때, 무기의 공격력 1당 1kg의 철이 필요합니다. 그래서 무기점에서 무기를 모두 만들기 위해 필요한 철의 무게를 미리 계산하려 합니다.\n",
    "\n",
    "기사단원의 수를 나타내는 정수 number와 이웃나라와 협약으로 정해진 공격력의 제한수치를 나타내는 정수 limit와 제한수치를 초과한 기사가 사용할 무기의 공격력을 나타내는 정수 power가 주어졌을 때, 무기점의 주인이 무기를 모두 만들기 위해 필요한 철의 무게를 return 하는 solution 함수를 완성하시오."
   ]
  },
  {
   "cell_type": "code",
   "execution_count": 4,
   "metadata": {},
   "outputs": [
    {
     "name": "stdout",
     "output_type": "stream",
     "text": [
      "[1, 2, 2, 3, 2, 4, 2, 4, 3, 4]\n",
      "21\n"
     ]
    }
   ],
   "source": [
    "# 기사 1~number\n",
    "# 약수의 개수 - 공격력 -> 제한수치 이상 : 협약 공격력 무기\n",
    "# 공격력 1 당 1kg의 철\n",
    "def solution(number, limit, power):\n",
    "    answer = 0\n",
    "    plst = [0]*(number+1)\n",
    "    # 메모이제이션 -> 시간복잡도(nlogn)\n",
    "    for i in range(1,number+1):\n",
    "        for j in range(1,(number)//i+1):\n",
    "            plst[i*j]+=1\n",
    "    for p in plst:\n",
    "        if p>limit:\n",
    "            answer+=power\n",
    "        else:\n",
    "            answer+=p\n",
    "    return answer\n",
    "\n",
    "number = 10  # 기사 단원의 수\n",
    "limit = 3   # 공격력 제한 수치\n",
    "power = 2   # 사용가능 공격력\n",
    "\n",
    "print(solution(number, limit, power))"
   ]
  },
  {
   "attachments": {},
   "cell_type": "markdown",
   "metadata": {},
   "source": [
    "### 체육복 빌리기\n",
    "- https://school.programmers.co.kr/learn/courses/30/lessons/42862\n",
    "---\n",
    "점심시간에 도둑이 들어, 일부 학생이 체육복을 도난당했습니다. 다행히 여벌 체육복이 있는 학생이 이들에게 체육복을 빌려주려 합니다. 학생들의 번호는 체격 순으로 매겨져 있어, 바로 앞번호의 학생이나 바로 뒷번호의 학생에게만 체육복을 빌려줄 수 있습니다. 예를 들어, 4번 학생은 3번 학생이나 5번 학생에게만 체육복을 빌려줄 수 있습니다. 체육복이 없으면 수업을 들을 수 없기 때문에 체육복을 적절히 빌려 최대한 많은 학생이 체육수업을 들어야 합니다.\n",
    "\n",
    "전체 학생의 수 n, 체육복을 도난당한 학생들의 번호가 담긴 배열 lost, 여벌의 체육복을 가져온 학생들의 번호가 담긴 배열 reserve가 매개변수로 주어질 때, 체육수업을 들을 수 있는 학생의 최댓값을 return 하도록 solution 함수를 작성해주세요.\n",
    "\n",
    "여벌 체육복을 가져온 학생이 체육복을 도난당했을 수 있습니다. 이때 이 학생은 체육복을 하나만 도난당했다고 가정하며, 남은 체육복이 하나이기에 다른 학생에게는 체육복을 빌려줄 수 없습니다."
   ]
  },
  {
   "cell_type": "code",
   "execution_count": 15,
   "metadata": {},
   "outputs": [
    {
     "data": {
      "text/plain": [
       "28"
      ]
     },
     "execution_count": 15,
     "metadata": {},
     "output_type": "execute_result"
    }
   ],
   "source": [
    "# for 루프를 도는 것과 동시에 삭제시 루프가 꼬일 수 있다\n",
    "# 번거롭지만 새로운 리스트에 추가하는 방식을 사용\n",
    "def solution(n, lost, reserve):\n",
    "    # reserve 중 lost가 있는 경우 둘 다 제거\n",
    "    new_lost = []\n",
    "    for x in lost:\n",
    "        if x in reserve:    # lost의 원소 x가 reserve에 있다면\n",
    "            reserve.remove(x)\n",
    "        else:\n",
    "            new_lost.append(x)\n",
    "\n",
    "    # 학생 체육복 현상태 리스트 생성\n",
    "    st = [ True if i not in new_lost else False for i in range(0,n+2) ] # out of index\n",
    "    \n",
    "    reserve.sort()\n",
    "    # 체육복 빌려주기 시행\n",
    "    for i in reserve:\n",
    "        if not st[i-1]:\n",
    "            st[i-1]=True\n",
    "            continue\n",
    "        if not st[i+1]:\n",
    "            st[i+1]=True\n",
    "    return st[1:n+1].count(True)\n",
    "\n",
    "n = 30\n",
    "lost = [1, 2, 7, 9, 10, 11, 12, 14, 15, 16, 18, 20, 21, 24, 25, 27]\n",
    "reserve = [1, 2, 3, 4, 5, 6, 7, 8, 9, 10, 11, 12, 13, 14, 15, 16, 17, 20, 22, 23, 24, 25, 26, 27, 28]\n",
    "\n",
    "result = 6\n",
    "solution(n, lost, reserve)"
   ]
  },
  {
   "attachments": {},
   "cell_type": "markdown",
   "metadata": {},
   "source": [
    "### 숫자 짝궁\n",
    "- https://school.programmers.co.kr/learn/courses/30/lessons/131128\n",
    "---\n",
    "두 정수 X, Y의 임의의 자리에서 공통으로 나타나는 정수 k(0 ≤ k ≤ 9)들을 이용하여 만들 수 있는 가장 큰 정수를 두 수의 짝꿍이라 합니다(단, 공통으로 나타나는 정수 중 서로 짝지을 수 있는 숫자만 사용합니다). X, Y의 짝꿍이 존재하지 않으면, 짝꿍은 -1입니다. X, Y의 짝꿍이 0으로만 구성되어 있다면, 짝꿍은 0입니다.\n",
    "\n",
    "예를 들어, X = 3403이고 Y = 13203이라면, X와 Y의 짝꿍은 X와 Y에서 공통으로 나타나는 3, 0, 3으로 만들 수 있는 가장 큰 정수인 330입니다. 다른 예시로 X = 5525이고 Y = 1255이면 X와 Y의 짝꿍은 X와 Y에서 공통으로 나타나는 2, 5, 5로 만들 수 있는 가장 큰 정수인 552입니다(X에는 5가 3개, Y에는 5가 2개 나타나므로 남는 5 한 개는 짝 지을 수 없습니다.)\n",
    "두 정수 X, Y가 주어졌을 때, X, Y의 짝꿍을 return하는 solution 함수를 완성해주세요."
   ]
  },
  {
   "cell_type": "code",
   "execution_count": null,
   "metadata": {},
   "outputs": [
    {
     "data": {
      "text/plain": [
       "'321'"
      ]
     },
     "metadata": {},
     "output_type": "display_data"
    }
   ],
   "source": [
    "# 숫자가 큰 경우 : O(n)\n",
    "def solution(X,Y):\n",
    "    # 초기화\n",
    "    x_lst = [0]*10\n",
    "    y_lst = [0]*10\n",
    "    answer = \"\"\n",
    "    zero = 0\n",
    "\n",
    "    # 카운트\n",
    "    for i in X: x_lst[int(i)]+=1\n",
    "    for i in Y: y_lst[int(i)]+=1\n",
    "    for i in range(9,0,-1):\n",
    "        answer+= str(i)*min(x_lst[i],y_lst[i])\n",
    "\n",
    "    # 0 처리\n",
    "    zero = min(x_lst[0],y_lst[0])\n",
    "    if len(answer)==0 and zero==0: return '-1'\n",
    "    elif len(answer)==0: return '0'\n",
    "    return answer+'0'*zero\n",
    "\n",
    "X =\"12321\"\n",
    "Y =\"42531\"\n",
    "solution(X,Y)"
   ]
  },
  {
   "cell_type": "code",
   "execution_count": null,
   "metadata": {},
   "outputs": [],
   "source": [
    "# 다른사람 풀이\n",
    "# if len(answer)==0 and zero==0: return '-1' 보다는 if answer == '' 이게 더 좋은듯\n",
    "# for문마다 count 보다는 순차적으로 플러스하는게 시간복잡도 유리할 듯\n",
    "\n",
    "def solution(X, Y):\n",
    "    answer = ''\n",
    "\n",
    "    for i in range(9,-1,-1) :\n",
    "        answer += (str(i) * min(X.count(str(i)), Y.count(str(i))))\n",
    "\n",
    "    if answer == '' :\n",
    "        return '-1'\n",
    "    elif len(answer) == answer.count('0'):\n",
    "        return '0'\n",
    "    else :\n",
    "        return answer"
   ]
  },
  {
   "attachments": {},
   "cell_type": "markdown",
   "metadata": {},
   "source": [
    "### 카드뭉치\n",
    "- https://school.programmers.co.kr/learn/courses/30/lessons/159994\n",
    "---\n",
    "코니는 영어 단어가 적힌 카드 뭉치 두 개를 선물로 받았습니다. 코니는 다음과 같은 규칙으로 카드에 적힌 단어들을 사용해 원하는 순서의 단어 배열을 만들 수 있는지 알고 싶습니다.\n",
    "\n",
    "원하는 카드 뭉치에서 카드를 순서대로 한 장씩 사용합니다.\n",
    "\n",
    "한 번 사용한 카드는 다시 사용할 수 없습니다.\n",
    "\n",
    "카드를 사용하지 않고 다음 카드로 넘어갈 수 없습니다.\n",
    "\n",
    "기존에 주어진 카드 뭉치의 단어 순서는 바꿀 수 없습니다.\n",
    "\n",
    "예를 들어 첫 번째 카드 뭉치에 순서대로 [\"i\", \"drink\", \"water\"], 두 번째 카드 뭉치에 순서대로 [\"want\", \"to\"]가 적혀있을 때 [\"i\", \"want\", \"to\", \"drink\", \"water\"] 순서의 단어 배열을 만들려고 한다면 첫 번째 카드 뭉치에서 \"i\"를 사용한 후 두 번째 카드 뭉치에서 \"want\"와 \"to\"를 사용하고 첫 번째 카드뭉치에 \"drink\"와 \"water\"를 차례대로 사용하면 원하는 순서의 단어 배열을 만들 수 있습니다.\n",
    "\n",
    "문자열로 이루어진 배열 cards1, cards2와 원하는 단어 배열 goal이 매개변수로 주어질 때, cards1과 cards2에 적힌 단어들로 goal를 만들 있다면 \"Yes\"를, 만들 수 없다면 \"No\"를 return하는 solution 함수를 완성해주세요."
   ]
  },
  {
   "cell_type": "code",
   "execution_count": null,
   "metadata": {},
   "outputs": [
    {
     "name": "stdout",
     "output_type": "stream",
     "text": [
      "Yes\n"
     ]
    }
   ],
   "source": [
    "# 순서대로 한 장씩, 한번만 사용\n",
    "# 사용해야 다음 카드 가능, 덱의 순서는 바꿀 수 없음\n",
    "def solution(cards1, cards2, goal):\n",
    "    # out of index\n",
    "    cards1.append('#')\n",
    "    cards2.append('#')\n",
    "    i,j = 0,0\n",
    "\n",
    "    for g in goal:\n",
    "        if cards1[i]==g: i+=1; continue\n",
    "        elif cards2[j]==g: j+=1; continue\n",
    "        else: return 'No'\n",
    "    return 'Yes'\n",
    "\n",
    "cards1 = [\"i\", \"drink\", \"water\"]\n",
    "cards2 = [\"want\", \"to\"]\n",
    "goal = [\"i\", \"want\", \"to\", \"drink\", \"water\"]\n",
    "print(solution(cards1, cards2, goal))"
   ]
  },
  {
   "attachments": {},
   "cell_type": "markdown",
   "metadata": {},
   "source": [
    "### 완주하지 못한 선수\n",
    "- https://school.programmers.co.kr/learn/courses/30/lessons/42576\n",
    "---\n",
    "수많은 마라톤 선수들이 마라톤에 참여하였습니다. 단 한 명의 선수를 제외하고는 모든 선수가 마라톤을 완주하였습니다.\n",
    "\n",
    "마라톤에 참여한 선수들의 이름이 담긴 배열 participant와 완주한 선수들의 이름이 담긴 배열 completion이 주어질 때, 완주하지 못한 선수의 이름을 return 하도록 solution 함수를 작성해주세요.\n",
    "\n",
    "제한사항\n",
    "마라톤 경기에 참여한 선수의 수는 1명 이상 100,000명 이하입니다.\n",
    "\n",
    "completion의 길이는 participant의 길이보다 1 작습니다.\n",
    "\n",
    "참가자의 이름은 1개 이상 20개 이하의 알파벳 소문자로 이루어져 있습니다.\n",
    "\n",
    "참가자 중에는 동명이인이 있을 수 있습니다."
   ]
  },
  {
   "cell_type": "code",
   "execution_count": null,
   "metadata": {},
   "outputs": [],
   "source": [
    "# 1. 시간 초과 판정\n",
    "def solution(participant, completion):\n",
    "    for p in participant:\n",
    "        if p in completion:\n",
    "            completion.remove(p)\n",
    "        else:\n",
    "            return p\n",
    "    return completion[0]"
   ]
  },
  {
   "cell_type": "code",
   "execution_count": null,
   "metadata": {},
   "outputs": [],
   "source": [
    "# 2. 소팅해서 비교\n",
    "def solution(participant, completion):\n",
    "    participant.sort()\n",
    "    completion.sort()\n",
    "    n = participant\n",
    "    for i in range(n-1):\n",
    "        if participant[i] != completion[i]:\n",
    "            return participant[i]\n",
    "    else:\n",
    "        return participant[-1]"
   ]
  },
  {
   "attachments": {},
   "cell_type": "markdown",
   "metadata": {},
   "source": [
    "### 옹알이(2)\n",
    "- https://school.programmers.co.kr/learn/courses/30/lessons/133499\n",
    "---\n",
    "머쓱이는 태어난 지 11개월 된 조카를 돌보고 있습니다. 조카는 아직 \"aya\", \"ye\", \"woo\", \"ma\" 네 가지 발음과 네 가지 발음을 조합해서 만들 수 있는 발음밖에 하지 못하고 연속해서 같은 발음을 하는 것을 어려워합니다. 문자열 배열 babbling이 매개변수로 주어질 때, 머쓱이의 조카가 발음할 수 있는 단어의 개수를 return하도록 solution 함수를 완성해주세요."
   ]
  },
  {
   "cell_type": "code",
   "execution_count": 1,
   "metadata": {},
   "outputs": [
    {
     "name": "stdout",
     "output_type": "stream",
     "text": [
      "2\n"
     ]
    }
   ],
   "source": [
    "def solution(babbling):\n",
    "    pn = [\"aya\", \"ye\", \"woo\", \"ma\"] # 가능한 발음\n",
    "    countAnswer = 0                 # 정답 카운트\n",
    "    \n",
    "    for word in babbling:           # 단어 하나씩 순회\n",
    "        word = 'x'+word+'x'         # out of index\n",
    "        breakWord = 1               # 변환 가능한 단어가 있는가? 1: 없다 0: 있다\n",
    "        while True:\n",
    "            for p in pn:\n",
    "                i = word.find(p)            # 변환할 단어의 위치, index() 대신 find() 사용\n",
    "                countWord = pn.index(p)     # 연속해서 발음할 수 없도록 \n",
    "                if i != -1 and word[i-1] != str(countWord) and word[i+len(p)] != str(countWord):   # 앞뒤 체크\n",
    "                    breakWord=0             # 0: 변환 가능한 단어가 있다\n",
    "                    word = word.replace(p,str(countWord),1) # 1개씩 변환\n",
    "            if breakWord: break \n",
    "            breakWord=1\n",
    "            if word[1:-1].isdigit(): countAnswer +=1; break # 모두 변환 됐다면 카운트 후 다음 단어\n",
    "    return countAnswer\n",
    "\n",
    "babbling = [\"ayaye\", \"uuu\", \"yeye\", \"yemawoo\", \"ayaayaa\"]\n",
    "print(solution(babbling))"
   ]
  },
  {
   "attachments": {},
   "cell_type": "markdown",
   "metadata": {},
   "source": [
    "### 추억점수\n",
    "- https://school.programmers.co.kr/learn/courses/30/lessons/176963\n",
    "---\n",
    "사진들을 보며 추억에 젖어 있던 루는 사진별로 추억 점수를 매길려고 합니다. 사진 속에 나오는 인물의 그리움 점수를 모두 합산한 값이 해당 사진의 추억 점수가 됩니다. 예를 들어 사진 속 인물의 이름이 [\"may\", \"kein\", \"kain\"]이고 각 인물의 그리움 점수가 [5점, 10점, 1점]일 때 해당 사진의 추억 점수는 16(5 + 10 + 1)점이 됩니다. 다른 사진 속 인물의 이름이 [\"kali\", \"mari\", \"don\", \"tony\"]이고 [\"kali\", \"mari\", \"don\"]의 그리움 점수가 각각 [11점, 1점, 55점]]이고, \"tony\"는 그리움 점수가 없을 때, 이 사진의 추억 점수는 3명의 그리움 점수를 합한 67(11 + 1 + 55)점입니다.\n",
    "\n",
    "그리워하는 사람의 이름을 담은 문자열 배열 name, 각 사람별 그리움 점수를 담은 정수 배열 yearning, 각 사진에 찍힌 인물의 이름을 담은 이차원 문자열 배열 photo가 매개변수로 주어질 때, 사진들의 추억 점수를 photo에 주어진 순서대로 배열에 담아 return하는 solution 함수를 완성해주세요."
   ]
  },
  {
   "cell_type": "code",
   "execution_count": 3,
   "metadata": {},
   "outputs": [
    {
     "name": "stdout",
     "output_type": "stream",
     "text": [
      "[19, 15, 6]\n"
     ]
    }
   ],
   "source": [
    "# 인물의 그리움 점수 합 = 해당 사진의 추억 점수\n",
    "def solution(name, yearning, photo):\n",
    "    score = {}\n",
    "    for n,y in zip(name, yearning):\n",
    "        score[n]=y\n",
    "\n",
    "    answer = []\n",
    "    for p in photo:\n",
    "        tmp_sum = 0\n",
    "        for person in p:\n",
    "            if person in score.keys():\n",
    "                tmp_sum += score[person]\n",
    "        answer.append(tmp_sum)\n",
    "\n",
    "    return answer\n",
    "\n",
    "name = [\"may\", \"kein\", \"kain\", \"radi\"]\n",
    "yearning = [5, 10, 1, 3]\n",
    "photo = [[\"may\", \"kein\", \"kain\", \"radi\"],[\"may\", \"kein\", \"brin\", \"deny\"], [\"kon\", \"kain\", \"may\", \"coni\"]]\n",
    "print(solution(name, yearning, photo))\n"
   ]
  },
  {
   "attachments": {},
   "cell_type": "markdown",
   "metadata": {},
   "source": [
    "### 문자열 나누기\n",
    "- https://school.programmers.co.kr/learn/courses/30/lessons/140108\n",
    "---\n",
    "문자열 s가 입력되었을 때 다음 규칙을 따라서 이 문자열을 여러 문자열로 분해하려고 합니다.\n",
    "\n",
    "먼저 첫 글자를 읽습니다. 이 글자를 x라고 합시다.\n",
    "이제 이 문자열을 왼쪽에서 오른쪽으로 읽어나가면서, x와 x가 아닌 다른 글자들이 나온 횟수를 각각 셉니다. 처음으로 두 횟수가 같아지는 순간 멈추고, 지금까지 읽은 문자열을 분리합니다.\n",
    "s에서 분리한 문자열을 빼고 남은 부분에 대해서 이 과정을 반복합니다. 남은 부분이 없다면 종료합니다.\n",
    "만약 두 횟수가 다른 상태에서 더 이상 읽을 글자가 없다면, 역시 지금까지 읽은 문자열을 분리하고, 종료합니다.\n",
    "문자열 s가 매개변수로 주어질 때, 위 과정과 같이 문자열들로 분해하고, 분해한 문자열의 개수를 return 하는 함수 solution을 완성하세요."
   ]
  },
  {
   "cell_type": "code",
   "execution_count": 16,
   "metadata": {},
   "outputs": [
    {
     "name": "stdout",
     "output_type": "stream",
     "text": [
      "3\n"
     ]
    }
   ],
   "source": [
    "def solution(s):\n",
    "    answer, cnt_x, cnt_else = 0,0,0\n",
    "    x = \"\"\n",
    "\n",
    "    for t in s:\n",
    "        if len(x)==0: x=t; cnt_x+=1\n",
    "        elif x == t: cnt_x +=1\n",
    "        elif x != t: cnt_else +=1\n",
    "        if cnt_x == cnt_else:\n",
    "            x, cnt_x, cnt_else=\"\",0,0\n",
    "            answer+=1\n",
    "    return answer+1 if x else answer\n",
    "\n",
    "s =\"aaabbaccccabba\"\n",
    "print(solution(s))"
   ]
  },
  {
   "attachments": {},
   "cell_type": "markdown",
   "metadata": {},
   "source": [
    "### 대충만든 자판\n",
    "- https://school.programmers.co.kr/learn/courses/30/lessons/160586\n",
    "---\n",
    "휴대폰의 자판은 컴퓨터 키보드 자판과는 다르게 하나의 키에 여러 개의 문자가 할당될 수 있습니다. 키 하나에 여러 문자가 할당된 경우, 동일한 키를 연속해서 빠르게 누르면 할당된 순서대로 문자가 바뀝니다.\n",
    "\n",
    "예를 들어, 1번 키에 \"A\", \"B\", \"C\" 순서대로 문자가 할당되어 있다면 1번 키를 한 번 누르면 \"A\", 두 번 누르면 \"B\", 세 번 누르면 \"C\"가 되는 식입니다.\n",
    "\n",
    "같은 규칙을 적용해 아무렇게나 만든 휴대폰 자판이 있습니다. 이 휴대폰 자판은 키의 개수가 1개부터 최대 100개까지 있을 수 있으며, 특정 키를 눌렀을 때 입력되는 문자들도 무작위로 배열되어 있습니다. 또, 같은 문자가 자판 전체에 여러 번 할당된 경우도 있고, 키 하나에 같은 문자가 여러 번 할당된 경우도 있습니다. 심지어 아예 할당되지 않은 경우도 있습니다. 따라서 몇몇 문자열은 작성할 수 없을 수도 있습니다.\n",
    "\n",
    "이 휴대폰 자판을 이용해 특정 문자열을 작성할 때, 키를 최소 몇 번 눌러야 그 문자열을 작성할 수 있는지 알아보고자 합니다.\n",
    "\n",
    "1번 키부터 차례대로 할당된 문자들이 순서대로 담긴 문자열배열 keymap과 입력하려는 문자열들이 담긴 문자열 배열 targets가 주어질 때, 각 문자열을 작성하기 위해 키를 최소 몇 번씩 눌러야 하는지 순서대로 배열에 담아 return 하는 solution 함수를 완성해 주세요.\n",
    "\n",
    "단, 목표 문자열을 작성할 수 없을 때는 -1을 저장합니다."
   ]
  },
  {
   "cell_type": "code",
   "execution_count": 13,
   "metadata": {},
   "outputs": [
    {
     "name": "stdout",
     "output_type": "stream",
     "text": [
      "[9, 4]\n"
     ]
    }
   ],
   "source": [
    "def solution(keymap, targets):\n",
    "    answer = []\n",
    "\n",
    "    # keymap_dic에 해당 문자를 출력하기 위한 최소 횟수 기록\n",
    "    keymap_dic = {}\n",
    "    for key in keymap:\n",
    "        for i,k in enumerate(key):\n",
    "            if (k not in keymap_dic.keys()) or (k in keymap_dic.keys() and keymap_dic[k] > i):  # 업데이트\n",
    "                keymap_dic[k] = i+1\n",
    "    \n",
    "    # 계산\n",
    "    for target in targets:\n",
    "        temp = 0\n",
    "        for k in target:\n",
    "            if k not in keymap_dic.keys():\n",
    "                temp = -1\n",
    "                break\n",
    "            temp += keymap_dic[k]\n",
    "        answer.append(temp)\n",
    "    return answer\n",
    "\t\t\n",
    "keymap = [\"ABACD\", \"BCEFD\"]\t\n",
    "targets = [\"ABCD\",\"AABB\"]\n",
    "print(solution(keymap, targets))"
   ]
  },
  {
   "attachments": {},
   "cell_type": "markdown",
   "metadata": {},
   "source": [
    "### 공원 산책\n",
    "- https://school.programmers.co.kr/learn/courses/30/lessons/172928\n",
    "---\n",
    "지나다니는 길을 'O', 장애물을 'X'로 나타낸 직사각형 격자 모양의 공원에서 로봇 강아지가 산책을 하려합니다. 산책은 로봇 강아지에 미리 입력된 명령에 따라 진행하며, 명령은 다음과 같은 형식으로 주어집니다.\n",
    "\n",
    "[\"방향 거리\", \"방향 거리\" … ]\n",
    "예를 들어 \"E 5\"는 로봇 강아지가 현재 위치에서 동쪽으로 5칸 이동했다는 의미입니다. 로봇 강아지는 명령을 수행하기 전에 다음 두 가지를 먼저 확인합니다.\n",
    "\n",
    "주어진 방향으로 이동할 때 공원을 벗어나는지 확인합니다.\n",
    "주어진 방향으로 이동 중 장애물을 만나는지 확인합니다.\n",
    "위 두 가지중 어느 하나라도 해당된다면, 로봇 강아지는 해당 명령을 무시하고 다음 명령을 수행합니다.\n",
    "공원의 가로 길이가 W, 세로 길이가 H라고 할 때, 공원의 좌측 상단의 좌표는 (0, 0), 우측 하단의 좌표는 (H - 1, W - 1) 입니다.\n",
    "\n",
    "공원을 나타내는 문자열 배열 park, 로봇 강아지가 수행할 명령이 담긴 문자열 배열 routes가 매개변수로 주어질 때, 로봇 강아지가 모든 명령을 수행 후 놓인 위치를 [세로 방향 좌표, 가로 방향 좌표] 순으로 배열에 담아 return 하도록 solution 함수를 완성해주세요."
   ]
  },
  {
   "cell_type": "code",
   "execution_count": 42,
   "metadata": {},
   "outputs": [
    {
     "name": "stdout",
     "output_type": "stream",
     "text": [
      "SOO\n",
      "OXX\n",
      "OOO\n",
      "----------\n",
      "[0, 1]\n"
     ]
    }
   ],
   "source": [
    "def solution(park, routes):\n",
    "    # 방향 정의(x,y)\n",
    "    move_dic = {'E':[0,1],'W':[0,-1],'S':[1,0],'N':[-1,0]}\n",
    "    H,W = len(park)-1,len(park[0])-1\n",
    "\n",
    "    # 출발위치 찾기\n",
    "    robot = [0,0]\n",
    "    for i,x in enumerate(park):\n",
    "        if 'S' not in x: continue   # 해당 행에 S가 없는 경우 skip\n",
    "        for j,y in enumerate(x):\n",
    "            if 'S'==y:\n",
    "                robot=[i,j]         # 초기화\n",
    "                park[i]= park[i].replace('S','O')   # 이동가능으로 변경\n",
    "                break\n",
    "                \n",
    "    # 무빙\n",
    "    for route in routes:\n",
    "        cur = robot                 # 명령 시작 위치 저장\n",
    "        direction, walks = route.split(\" \")\n",
    "        for _ in range(int(walks)):\n",
    "            # 다음 스텝\n",
    "            x,y = cur[0]+move_dic[direction][0],cur[1]+move_dic[direction][1]\n",
    "            # 이동이 어려운 경우\n",
    "            if (x>H or x<0 or y>W or y<0) or ('X' == park[x][y]):\n",
    "                cur = robot # 해당 명령 시행 전으로 초기화\n",
    "                break\n",
    "            else:\n",
    "                cur=[x,y]\n",
    "        robot=cur\n",
    "    return robot\n",
    "park, routes = [\"SOO\",\"OXX\",\"OOO\"],\t[\"E 2\",\"S 2\",\"W 1\"]\n",
    "for i in park:\n",
    "    print(i)\n",
    "print('----------')    \n",
    "print(solution(park, routes))"
   ]
  },
  {
   "cell_type": "code",
   "execution_count": null,
   "metadata": {},
   "outputs": [],
   "source": [
    "# 다른 사람 풀이\n",
    "# class로 푼 것이 인상적이다.\n",
    "class Dog:\n",
    "    def __init__(self, x, y):\n",
    "        self.x = x\n",
    "        self.y = y\n",
    "        self.g = {\"N\": (-1, 0), \"W\": (0, -1), \"E\": (0, 1), \"S\": (1, 0)}\n",
    "\n",
    "    def move(self, park, direction, distance):\n",
    "        i, j = self.g[direction]\n",
    "        x, y = self.x + (i * distance), self.y + (j * distance)\n",
    "        if x < 0 or y < 0 or x >= len(park) or y >= len(park[0]):\n",
    "            return park\n",
    "        elif \"X\" in park[x][min(self.y, y) : max(self.y, y) + 1] or \"X\" in [\n",
    "            row[y] for row in park[min(self.x, x) : max(self.x, x)]\n",
    "        ]:\n",
    "            return park\n",
    "        park[self.x][self.y] = \"O\"\n",
    "        park[x][y] = \"S\"\n",
    "        self.x = x\n",
    "        self.y = y\n",
    "        return park\n",
    "\n",
    "    @classmethod\n",
    "    def detect_start_dogs_location(self, park):\n",
    "        for i, row in enumerate(park):\n",
    "            for j, item in enumerate(row):\n",
    "                if item == \"S\":\n",
    "                    return i, j\n",
    "\n",
    "\n",
    "def solution(park, routes):\n",
    "    park = [list(row) for row in park]\n",
    "    x, y = Dog.detect_start_dogs_location(park)\n",
    "\n",
    "    dog = Dog(x, y)\n",
    "\n",
    "    for route in routes:\n",
    "        direction, distance = route.split()     # 공백이기에 그냥 split()\n",
    "        park = dog.move(park, direction, int(distance))\n",
    "\n",
    "    return [dog.x, dog.y]\n"
   ]
  },
  {
   "attachments": {},
   "cell_type": "markdown",
   "metadata": {},
   "source": [
    "### 둘만의 암호\n",
    "- https://school.programmers.co.kr/learn/courses/30/lessons/155652\n",
    "---\n",
    "두 문자열 s와 skip, 그리고 자연수 index가 주어질 때, 다음 규칙에 따라 문자열을 만들려 합니다. 암호의 규칙은 다음과 같습니다.\n",
    "\n",
    "문자열 s의 각 알파벳을 index만큼 뒤의 알파벳으로 바꿔줍니다.<br>\n",
    "index만큼의 뒤의 알파벳이 z를 넘어갈 경우 다시 a로 돌아갑니다.<br>\n",
    "skip에 있는 알파벳은 제외하고 건너뜁니다.<br>\n",
    "\n",
    "예를 들어 s = \"aukks\", skip = \"wbqd\", index = 5일 때, <br>\n",
    "a에서 5만큼 뒤에 있는 알파벳은 f지만 [b, c, d, e, f]에서 'b'와 'd'는 skip에 포함되므로 세지 않습니다. <br>\n",
    "따라서 'b', 'd'를 제외하고 'a'에서 5만큼 뒤에 있는 알파벳은 [c, e, f, g, h] 순서에 의해 'h'가 됩니다. <br>\n",
    "나머지 \"ukks\" 또한 위 규칙대로 바꾸면 \"appy\"가 되며 결과는 \"happy\"가 됩니다.<br><br>\n",
    "\n",
    "두 문자열 s와 skip, 그리고 자연수 index가 매개변수로 주어질 때 위 규칙대로 s를 변환한 결과를 return하도록 solution 함수를 완성해주세요."
   ]
  },
  {
   "cell_type": "code",
   "execution_count": 82,
   "metadata": {},
   "outputs": [
    {
     "name": "stdout",
     "output_type": "stream",
     "text": [
      "bcdef\n"
     ]
    }
   ],
   "source": [
    "def decryption(key,skip,index):\n",
    "    key_lst = [chr(s) for s in range(97,97+26)] # a:97, 알파벳 26개\n",
    "    idx = ord(key)-97\n",
    "    for _ in range(index):\n",
    "        idx+=1\n",
    "        while chr(idx%26+97) in skip:           # idx는 key_lst의 범위기에 %26 & chr 변환을 위해 +97\n",
    "            idx+=1\n",
    "    while chr(idx%26+97) in skip:               # index가 0인 경우\n",
    "            idx+=1\n",
    "    return key_lst[idx%26]\n",
    "\n",
    "def solution(s, skip, index):\n",
    "    return \"\".join([ decryption(key,skip,index) for key in s ])\n",
    "\n",
    "s, skip, index, result =\"ybcde\", \"az\", 1, \"bcdef\"\n",
    "print(solution(s, skip, index))"
   ]
  },
  {
   "cell_type": "code",
   "execution_count": null,
   "metadata": {},
   "outputs": [],
   "source": [
    "# 다른 사람 코드\n",
    "# ascii code 사용\n",
    "# set을 이용해서 skip를 빼줌\n",
    "# list comprehension으로 딕셔너리 생성 ... 대박\n",
    "from string import ascii_lowercase\n",
    "\n",
    "def solution(s, skip, index):\n",
    "    result = ''\n",
    "\n",
    "    a_to_z = set(ascii_lowercase)\n",
    "    a_to_z -= set(skip)\n",
    "    a_to_z = sorted(a_to_z)\n",
    "    l = len(a_to_z)\n",
    "\n",
    "    dic_alpha = {alpha:idx for idx, alpha in enumerate(a_to_z)}\n",
    "    for i in s:\n",
    "        result += a_to_z[(dic_alpha[i] + index) % l]\n",
    "\n",
    "    return result"
   ]
  },
  {
   "attachments": {},
   "cell_type": "markdown",
   "metadata": {},
   "source": [
    "### 햄버거 만들기\n",
    "- https://school.programmers.co.kr/learn/courses/30/lessons/133502\n",
    "---\n",
    "햄버거 가게에서 일을 하는 상수는 햄버거를 포장하는 일을 합니다. 함께 일을 하는 다른 직원들이 햄버거에 들어갈 재료를 조리해 주면 조리된 순서대로 상수의 앞에 아래서부터 위로 쌓이게 되고, 상수는 순서에 맞게 쌓여서 완성된 햄버거를 따로 옮겨 포장을 하게 됩니다. 상수가 일하는 가게는 정해진 순서(아래서부터, 빵 – 야채 – 고기 - 빵)로 쌓인 햄버거만 포장을 합니다. 상수는 손이 굉장히 빠르기 때문에 상수가 포장하는 동안 속 재료가 추가적으로 들어오는 일은 없으며, 재료의 높이는 무시하여 재료가 높이 쌓여서 일이 힘들어지는 경우는 없습니다.\n",
    "\n",
    "예를 들어, 상수의 앞에 쌓이는 재료의 순서가 [야채, 빵, 빵, 야채, 고기, 빵, 야채, 고기, 빵]일 때, 상수는 여섯 번째 재료가 쌓였을 때, 세 번째 재료부터 여섯 번째 재료를 이용하여 햄버거를 포장하고, 아홉 번째 재료가 쌓였을 때, 두 번째 재료와 일곱 번째 재료부터 아홉 번째 재료를 이용하여 햄버거를 포장합니다. 즉, 2개의 햄버거를 포장하게 됩니다.\n",
    "\n",
    "상수에게 전해지는 재료의 정보를 나타내는 정수 배열 ingredient가 주어졌을 때, 상수가 포장하는 햄버거의 개수를 return 하도록 solution 함수를 완성하시오."
   ]
  },
  {
   "cell_type": "code",
   "execution_count": 29,
   "metadata": {},
   "outputs": [
    {
     "name": "stdout",
     "output_type": "stream",
     "text": [
      "[1, 2, 3, 1, 2, 3, 1, 2, 3, 1, 2, 3, 1, 2, 3, 1, 2, 3, 1]\n",
      "[2, 3, 1, 2, 3, 1, 2, 3, 1, 2, 3, 1, 2, 3, 1]\n",
      "[3, 1, 2, 3, 1, 2, 3, 1, 2, 3, 1]\n",
      "[1, 2, 3, 1, 2, 3, 1]\n",
      "[2, 3, 1]\n",
      "4\n"
     ]
    }
   ],
   "source": [
    "# 1) : 시간 초과 판정\n",
    "def search(data_set,count):\n",
    "    print(data_set)\n",
    "    set_lst = []\n",
    "    start = -1\n",
    "    \n",
    "    for i, data in enumerate(data_set):\n",
    "        if data==1:\n",
    "            start = i\n",
    "            break\n",
    "\n",
    "    if start == -1:\n",
    "        return count\n",
    "    \n",
    "    for i,data in enumerate(data_set[start:]):  # '1'부터 순회\n",
    "        set_len = len(set_lst)\n",
    "        if data ==1 and set_len==3: set_lst.append(i) ; break\n",
    "        elif data == 1: set_lst=[i]\n",
    "        elif data == 2 and set_len==1: set_lst.append(i)\n",
    "        elif data == 3 and set_len==2: set_lst.append(i)\n",
    "        else: set_lst = []\n",
    "\n",
    "    if len(set_lst) == 4:               # 하나의 set을 찾은 경우\n",
    "        del data_set[set_lst[0]:set_lst[0]+4]\n",
    "        return search(data_set,count+1) # 재귀 호출\n",
    "    else:\n",
    "        return count\n",
    "\n",
    "def solution(ingredient):\n",
    "    return search(ingredient,0)\n",
    "\n",
    "ingredient, result =  [1,2,3,1, 2,3, 1,2,3,1, 2,3, 1,2,3,1 ,2,3,1], 5\n",
    "print(solution(ingredient))"
   ]
  },
  {
   "cell_type": "code",
   "execution_count": 38,
   "metadata": {},
   "outputs": [
    {
     "name": "stdout",
     "output_type": "stream",
     "text": [
      "12231 0\n",
      "0\n"
     ]
    }
   ],
   "source": [
    "# 2) : string\n",
    "def search(str_ingredient,count):\n",
    "    print(str_ingredient, count)\n",
    "    if '1231' in str_ingredient:\n",
    "        str_ingredient = str_ingredient.replace('1231','',1)\n",
    "        return search(str_ingredient,count+1) # 재귀 호출\n",
    "    else:\n",
    "        return count\n",
    "\n",
    "def solution(ingredient):\n",
    "    str_ingredient = ''.join(map(str, ingredient))\n",
    "    return search(str_ingredient,0)\n",
    "\n",
    "ingredient, result =  [1, 2, 2, 3, 1] , 0\n",
    "print(solution(ingredient))"
   ]
  },
  {
   "cell_type": "code",
   "execution_count": null,
   "metadata": {},
   "outputs": [],
   "source": [
    "# 3)\n",
    "def solution(ingredient):\n",
    "    answer = 0\n",
    "    index = 0\n",
    "    while index < len(ingredient)-3:                  \n",
    "        if ingredient[index] == 1:                    \n",
    "            if ingredient[index:index+4] == [1,2,3,1]:\n",
    "                del ingredient[index:index+4]         \n",
    "                index = index-3                       \n",
    "                answer += 1                           \n",
    "                continue                              \n",
    "        index += 1                                    \n",
    "    return answer"
   ]
  },
  {
   "attachments": {},
   "cell_type": "markdown",
   "metadata": {},
   "source": [
    "### 달리기 경주\n",
    "- https://school.programmers.co.kr/learn/courses/30/lessons/178871\n",
    "---\n",
    "얀에서는 매년 달리기 경주가 열립니다. 해설진들은 선수들이 자기 바로 앞의 선수를 추월할 때 추월한 선수의 이름을 부릅니다. 예를 들어 1등부터 3등까지 \"mumu\", \"soe\", \"poe\" 선수들이 순서대로 달리고 있을 때, 해설진이 \"soe\"선수를 불렀다면 2등인 \"soe\" 선수가 1등인 \"mumu\" 선수를 추월했다는 것입니다. 즉 \"soe\" 선수가 1등, \"mumu\" 선수가 2등으로 바뀝니다.\n",
    "\n",
    "선수들의 이름이 1등부터 현재 등수 순서대로 담긴 문자열 배열 players와 해설진이 부른 이름을 담은 문자열 배열 callings가 매개변수로 주어질 때, 경주가 끝났을 때 선수들의 이름을 1등부터 등수 순서대로 배열에 담아 return 하는 solution 함수를 완성해주세요."
   ]
  },
  {
   "cell_type": "code",
   "execution_count": 9,
   "metadata": {},
   "outputs": [
    {
     "name": "stdout",
     "output_type": "stream",
     "text": [
      "['mumu', 'kai', 'mine', 'soe', 'poe']\n",
      "0.00716 sec\n"
     ]
    }
   ],
   "source": [
    "# 1) 시간초과 판정\n",
    "# 이름을 호출할 때마다 앞의 인덱스와 스와핑\n",
    "import time\n",
    "\n",
    "def solution(players, callings):\n",
    "    for call in callings:\n",
    "        idx = players.index(call)\n",
    "        players.insert(idx-1,players.pop(idx))\n",
    "    return players\n",
    "\n",
    "players, callings, result= [\"mumu\", \"soe\", \"poe\", \"kai\", \"mine\"], [\"kai\", \"kai\", \"mine\", \"mine\"], [\"mumu\", \"kai\", \"mine\", \"soe\", \"poe\"]\n",
    "\n",
    "# 시간 측정\n",
    "start = time.time()\n",
    "print(solution(players, callings))\n",
    "end = time.time()\n",
    "print(f\"{end - start:.5f} sec\")"
   ]
  },
  {
   "cell_type": "code",
   "execution_count": 10,
   "metadata": {},
   "outputs": [
    {
     "name": "stdout",
     "output_type": "stream",
     "text": [
      "['mumu', 'kai', 'mine', 'soe', 'poe']\n",
      "0.00000 sec\n"
     ]
    }
   ],
   "source": [
    "# 2) list swap -> 시간 초과\n",
    "# index를 찾는 과정에서 시간 소요가 큰 듯\n",
    "import time\n",
    "def solution(players, callings):\n",
    "    for call in callings:\n",
    "        idx = players.index(call)\n",
    "        if idx == 0:\n",
    "            continue\n",
    "        else:\n",
    "            players[idx],players[idx-1]=players[idx-1], players[idx]\n",
    "    return players\n",
    "\n",
    "players, callings, result= [\"mumu\", \"soe\", \"poe\", \"kai\", \"mine\"], [\"kai\", \"kai\", \"mine\", \"mine\"], [\"mumu\", \"kai\", \"mine\", \"soe\", \"poe\"]\n",
    "# 시간 측정\n",
    "start = time.time()\n",
    "print(solution(players, callings))\n",
    "end = time.time()\n",
    "print(f\"{end - start:.5f} sec\")"
   ]
  },
  {
   "cell_type": "code",
   "execution_count": 14,
   "metadata": {},
   "outputs": [
    {
     "name": "stdout",
     "output_type": "stream",
     "text": [
      "['mumu', 'kai', 'mine', 'soe', 'poe']\n",
      "0.00000 sec\n"
     ]
    }
   ],
   "source": [
    "# 3) 사전 자료형으로 인덱스 저장 및 조회\n",
    "import time\n",
    "def solution(players, callings):\n",
    "    # 양방향 조회를 위한 dic (name->idx / idx->name)\n",
    "    players_name_dic = {player:idx for idx,player in enumerate(players)}\n",
    "    players_idx_dic = {idx:player for idx,player in enumerate(players)}\n",
    "\n",
    "    for name in callings: \n",
    "        idx = players_name_dic[name]    # 호출 선수 위치 조회\n",
    "        if idx == 0:    # 제일 앞 선수\n",
    "            continue\n",
    "        else:\n",
    "            pre_name = players_idx_dic[idx-1]   # 앞 선수 이름 조회\n",
    "            pre_idx = players_name_dic[pre_name]# 앞 선수 idx 조회\n",
    "\n",
    "            # swap\n",
    "            players_name_dic[pre_name], players_name_dic[name] = players_name_dic[name], players_name_dic[pre_name]\n",
    "            players_idx_dic[idx], players_idx_dic[pre_idx] = players_idx_dic[pre_idx], players_idx_dic[idx]\n",
    "    \n",
    "    # 값 기준으로 오름차순 정렬 후 출력\n",
    "    return [player[0] for  player in sorted(players_name_dic.items(), key=lambda x:x[1])]\n",
    "\n",
    "players, callings, result= [\"mumu\", \"soe\", \"poe\", \"kai\", \"mine\"], [\"kai\", \"kai\", \"mine\", \"mine\"], [\"mumu\", \"kai\", \"mine\", \"soe\", \"poe\"]\n",
    "# 시간 측정\n",
    "start = time.time()\n",
    "print(solution(players, callings))\n",
    "end = time.time()\n",
    "print(f\"{end - start:.5f} sec\")"
   ]
  },
  {
   "attachments": {},
   "cell_type": "markdown",
   "metadata": {},
   "source": [
    "### 바탕화면 정리\n",
    "- https://school.programmers.co.kr/learn/courses/30/lessons/161990"
   ]
  },
  {
   "cell_type": "code",
   "execution_count": 23,
   "metadata": {},
   "outputs": [
    {
     "name": "stdout",
     "output_type": "stream",
     "text": [
      "[0, 0, 7, 9]\n",
      ".##...##.\n",
      "#..#.#..#\n",
      "#...#...#\n",
      ".#.....#.\n",
      "..#...#..\n",
      "...#.#...\n",
      "....#....\n"
     ]
    }
   ],
   "source": [
    "def solution(wallpaper):\n",
    "    left_up_row = left_up_col = 51\n",
    "    right_down_row = right_down_col = -1\n",
    "    for i,row in enumerate(wallpaper):\n",
    "        for j,point in enumerate(row):\n",
    "            if point == '#':\n",
    "                if i <= left_up_row: left_up_row = i\n",
    "                if j <= left_up_col: left_up_col = j\n",
    "                if i >= right_down_row: right_down_row = i\n",
    "                if j >= right_down_col: right_down_col = j\n",
    "\n",
    "    return [left_up_row,left_up_col,right_down_row+1,right_down_col+1]\n",
    "\n",
    "wallpaper = [\".##...##.\", \"#..#.#..#\", \"#...#...#\", \".#.....#.\", \"..#...#..\", \"...#.#...\", \"....#....\"]\n",
    "print(solution(wallpaper))\n",
    "for icon in wallpaper:\n",
    "    print(icon)"
   ]
  },
  {
   "attachments": {},
   "cell_type": "markdown",
   "metadata": {},
   "source": []
  },
  {
   "cell_type": "code",
   "execution_count": 19,
   "metadata": {},
   "outputs": [
    {
     "name": "stdout",
     "output_type": "stream",
     "text": [
      "0\n",
      "1\n"
     ]
    }
   ],
   "source": []
  }
 ],
 "metadata": {
  "kernelspec": {
   "display_name": "Python 3",
   "language": "python",
   "name": "python3"
  },
  "language_info": {
   "codemirror_mode": {
    "name": "ipython",
    "version": 3
   },
   "file_extension": ".py",
   "mimetype": "text/x-python",
   "name": "python",
   "nbconvert_exporter": "python",
   "pygments_lexer": "ipython3",
   "version": "3.9.12"
  },
  "orig_nbformat": 4
 },
 "nbformat": 4,
 "nbformat_minor": 2
}
