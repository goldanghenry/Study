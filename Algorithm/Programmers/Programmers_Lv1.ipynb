{
 "cells": [
  {
   "attachments": {},
   "cell_type": "markdown",
   "metadata": {},
   "source": [
    "## Programmers Lv.1"
   ]
  },
  {
   "cell_type": "markdown",
   "metadata": {},
   "source": [
    "### 시저 암호\n",
    "- https://school.programmers.co.kr/learn/courses/30/lessons/12926\n",
    "- 어떤 문장의 각 알파벳을 일정한 거리만큼 밀어서 다른 알파벳으로 바꾸는 암호화 방식을 시저 암호라고 합니다. 예를 들어 \"AB\"는 1만큼 밀면 \"BC\"가 되고, 3만큼 밀면 \"DE\"가 됩니다. \"z\"는 1만큼 밀면 \"a\"가 됩니다. 문자열 s와 거리 n을 입력받아 s를 n만큼 민 암호문을 만드는 함수, solution을 완성해 보세요."
   ]
  },
  {
   "cell_type": "code",
   "execution_count": null,
   "metadata": {},
   "outputs": [],
   "source": [
    "def solution(s, n):\n",
    "    answer = []\n",
    "    for i in s:\n",
    "        if i.isupper():\n",
    "            answer.append(chr((ord(i)+n-65)%26+65))\n",
    "        elif i.islower():\n",
    "            answer.append(chr((ord(i)+n-97)%26+97))\n",
    "        else:\n",
    "            answer.append(' ')\n",
    "\n",
    "    return ''.join(answer)"
   ]
  },
  {
   "attachments": {},
   "cell_type": "markdown",
   "metadata": {},
   "source": [
    "### 3진법 뒤집기\n",
    "- https://school.programmers.co.kr/learn/courses/30/lessons/68935\n",
    "- 자연수 n이 매개변수로 주어집니다. n을 3진법 상에서 앞뒤로 뒤집은 후, 이를 다시 10진법으로 표현한 수를 return 하도록 solution 함수를 완성해주세요."
   ]
  },
  {
   "cell_type": "code",
   "execution_count": null,
   "metadata": {},
   "outputs": [],
   "source": [
    "def solution(n):\n",
    "    temp = \"\"\n",
    "    answer = 0\n",
    "    \n",
    "    # 10진법 -> 3진법\n",
    "    while n>=3:\n",
    "        temp+= str(n%3)\n",
    "        n = n//3\n",
    "    temp+= str(n%3)\n",
    "    \n",
    "    # 3진법 -> 10진법\n",
    "    temp = temp[::-1]\n",
    "    for i,t in enumerate(temp):\n",
    "        answer += int(t)*3**i\n",
    "    \n",
    "    return answer"
   ]
  },
  {
   "cell_type": "code",
   "execution_count": null,
   "metadata": {},
   "outputs": [],
   "source": [
    "# 다른사람 풀이\n",
    "# int(string, base) 사용\n",
    "def solution(n):\n",
    "    tmp = ''\n",
    "    while n:\n",
    "        tmp += str(n % 3)\n",
    "        n = n // 3\n",
    "\n",
    "    answer = int(tmp, 3)\n",
    "    return answer"
   ]
  },
  {
   "attachments": {},
   "cell_type": "markdown",
   "metadata": {},
   "source": [
    "### 이상한 문자 만들기\n",
    "- https://school.programmers.co.kr/learn/courses/30/lessons/12930\n",
    "- 문자열 s는 한 개 이상의 단어로 구성되어 있습니다. 각 단어는 하나 이상의 공백문자로 구분되어 있습니다. 각 단어의 짝수번째 알파벳은 대문자로, 홀수번째 알파벳은 소문자로 바꾼 문자열을 리턴하는 함수, solution을 완성하세요."
   ]
  },
  {
   "cell_type": "code",
   "execution_count": 16,
   "metadata": {},
   "outputs": [
    {
     "name": "stdout",
     "output_type": "stream",
     "text": [
      "Tr KkY HeLlO WoRlD  WoRlD W    KkKkKkKk Qq Aa\n"
     ]
    }
   ],
   "source": [
    "# 주의할 점 : 공백이 하나 이상이기 때문에 string.split()을 사용하면 안 된다.\n",
    "def solution(s):\n",
    "    answer = \"\"\n",
    "    count = 0\n",
    "    for st in s:\n",
    "        if st == \" \": \n",
    "            answer += \" \"\n",
    "            count = 0\n",
    "        elif count %2==0:\n",
    "            answer += st.upper()\n",
    "            count +=1\n",
    "        else:\n",
    "            answer += st.lower()\n",
    "            count +=1\n",
    "    return answer\n",
    "\n",
    "s = \"Tr kky hello world  world w    KKKKKKKK qq AA\"\n",
    "print(solution(s))"
   ]
  },
  {
   "attachments": {},
   "cell_type": "markdown",
   "metadata": {},
   "source": [
    "### 예산\n",
    "- https://school.programmers.co.kr/learn/courses/30/lessons/12982\n",
    "- S사에서는 각 부서에 필요한 물품을 지원해 주기 위해 부서별로 물품을 구매하는데 필요한 금액을 조사했습니다. 그러나, 전체 예산이 정해져 있기 때문에 모든 부서의 물품을 구매해 줄 수는 없습니다. 그래서 최대한 많은 부서의 물품을 구매해 줄 수 있도록 하려고 합니다.\n",
    "\n",
    "물품을 구매해 줄 때는 각 부서가 신청한 금액만큼을 모두 지원해 줘야 합니다. 예를 들어 1,000원을 신청한 부서에는 정확히 1,000원을 지원해야 하며, 1,000원보다 적은 금액을 지원해 줄 수는 없습니다.\n",
    "\n",
    "부서별로 신청한 금액이 들어있는 배열 d와 예산 budget이 매개변수로 주어질 때, 최대 몇 개의 부서에 물품을 지원할 수 있는지 return 하도록 solution 함수를 완성해주세요."
   ]
  },
  {
   "cell_type": "code",
   "execution_count": 25,
   "metadata": {},
   "outputs": [
    {
     "name": "stdout",
     "output_type": "stream",
     "text": [
      "1\n"
     ]
    }
   ],
   "source": [
    "# 처음에는 itertools의 combinations를 사용했지만, 시간초과 판정을 받았다.\n",
    "# 예산에 딱 맞출 필요가 없기 때문에(적기만 하면 되기에) 오름차순 정렬 후 더하는 방식으로 해결\n",
    "def solution(d, budget):\n",
    "    d.sort()\n",
    "    for i in range(len(d),0,-1):\n",
    "        if budget >= sum(d[0:i]):\n",
    "            return i\n",
    "    else:\n",
    "        return 0\n"
   ]
  },
  {
   "attachments": {},
   "cell_type": "markdown",
   "metadata": {},
   "source": [
    "### 비밀지도\n",
    "- https://school.programmers.co.kr/learn/courses/30/lessons/17681\n",
    "- 2018 KAKAO BLIND RECRUITMENT\n",
    "- 네오는 평소 프로도가 비상금을 숨겨놓는 장소를 알려줄 비밀지도를 손에 넣었다. 그런데 이 비밀지도는 숫자로 암호화되어 있어 위치를 확인하기 위해서는 암호를 해독해야 한다. 다행히 지도 암호를 해독할 방법을 적어놓은 메모도 함께 발견했다.\n",
    "\n",
    "지도는 한 변의 길이가 n인 정사각형 배열 형태로, 각 칸은 \"공백\"(\" \") 또는 \"벽\"(\"#\") 두 종류로 이루어져 있다.\n",
    "전체 지도는 두 장의 지도를 겹쳐서 얻을 수 있다. 각각 \"지도 1\"과 \"지도 2\"라고 하자. 지도 1 또는 지도 2 중 어느 하나라도 벽인 부분은 전체 지도에서도 벽이다. 지도 1과 지도 2에서 모두 공백인 부분은 전체 지도에서도 공백이다.\n",
    "\"지도 1\"과 \"지도 2\"는 각각 정수 배열로 암호화되어 있다.\n",
    "암호화된 배열은 지도의 각 가로줄에서 벽 부분을 1, 공백 부분을 0으로 부호화했을 때 얻어지는 이진수에 해당하는 값의 배열이다."
   ]
  },
  {
   "cell_type": "code",
   "execution_count": 70,
   "metadata": {},
   "outputs": [
    {
     "data": {
      "text/plain": [
       "['#####', '# # #', '### #', '#  ##', '#####']"
      ]
     },
     "execution_count": 70,
     "metadata": {},
     "output_type": "execute_result"
    }
   ],
   "source": [
    "# 지도 : n x n 배열, 공백 또는 #벽\n",
    "# 두 장의 지도를 겹쳐서 얻을 수 있다 \n",
    "def solution(n, arr1, arr2):\n",
    "    answer = []\n",
    "    for i in range(n) :\n",
    "        temp1 = bin(arr1[i])[2:]\n",
    "        temp1 = \"0\"*(n-len(temp1)) +temp1\n",
    "        temp2 = bin(arr2[i])[2:]\n",
    "        temp2 = \"0\"*(n-len(temp2)) + temp2\n",
    "        temp = \"\"\n",
    "        for j in range(n):\n",
    "            if temp1[j]==\"1\" or temp2[j]==\"1\":\n",
    "                temp+=\"#\"\n",
    "            else:\n",
    "                temp+=\" \"\n",
    "        answer.append(temp)\n",
    "    return answer\n",
    "\n",
    "n = 5\n",
    "arr1 = [9, 20, 28, 18, 11]\n",
    "arr2 = [30, 1, 21, 17, 28]\n",
    "solution(n, arr1, arr2)"
   ]
  },
  {
   "cell_type": "code",
   "execution_count": null,
   "metadata": {},
   "outputs": [],
   "source": [
    "# 다른사람 코드\n",
    "# range 대신 zip 사용\n",
    "# bin(i|j) -> 하나로 통합\n",
    "# rjust -> 앞부분 0으로 채우기\n",
    "# replace -> 동시에 변환\n",
    "def solution(n, arr1, arr2):\n",
    "    answer = []\n",
    "    for i,j in zip(arr1,arr2):\n",
    "        a12 = str(bin(i|j)[2:])\n",
    "        a12=a12.rjust(n,'0')\n",
    "        a12=a12.replace('1','#')\n",
    "        a12=a12.replace('0',' ')\n",
    "        answer.append(a12)\n",
    "    return answer"
   ]
  },
  {
   "cell_type": "code",
   "execution_count": 10,
   "metadata": {},
   "outputs": [
    {
     "data": {
      "text/plain": [
       "3"
      ]
     },
     "execution_count": 10,
     "metadata": {},
     "output_type": "execute_result"
    }
   ],
   "source": [
    "def solution(t, p):\n",
    "    answer = 0\n",
    "    n = len(p)\n",
    "    for j in [ t[i:i+n] for i in range(0,len(t)-n+1)]:\n",
    "        if int(j) <= int(p) :\n",
    "            answer +=1\n",
    "    return answer\n",
    "\n",
    "t = \"10203\"\n",
    "p = \"15\"\n",
    "solution(t, p)"
   ]
  },
  {
   "attachments": {},
   "cell_type": "markdown",
   "metadata": {},
   "source": [
    "### 콜라 문제\n",
    "- https://school.programmers.co.kr/learn/courses/30/lessons/132267\n",
    "---\n",
    "오래전 유행했던 콜라 문제가 있습니다. 콜라 문제의 지문은 다음과 같습니다.\n",
    "\n",
    "정답은 아무에게도 말하지 마세요.\n",
    "\n",
    "콜라 빈 병 2개를 가져다주면 콜라 1병을 주는 마트가 있다. 빈 병 20개를 가져다주면 몇 병을 받을 수 있는가?\n",
    "\n",
    "단, 보유 중인 빈 병이 2개 미만이면, 콜라를 받을 수 없다.\n",
    "\n",
    "문제를 풀던 상빈이는 콜라 문제의 완벽한 해답을 찾았습니다. 상빈이가 푼 방법은 아래 그림과 같습니다. 우선 콜라 빈 병 20병을 가져가서 10병을 받습니다. 받은 10병을 모두 마신 뒤, 가져가서 5병을 받습니다. 5병 중 4병을 모두 마신 뒤 가져가서 2병을 받고, 또 2병을 모두 마신 뒤 가져가서 1병을 받습니다. 받은 1병과 5병을 받았을 때 남은 1병을 모두 마신 뒤 가져가면 1병을 또 받을 수 있습니다. 이 경우 상빈이는 총 10 + 5 + 2 + 1 + 1 = 19병의 콜라를 받을 수 있습니다.\n",
    "\n",
    "이 문제는 빈 병 a개를 가져다주면 콜라 b병을 주는 마트가 있을 때, 빈 병 n개를 가져다주면 몇 병을 받을 수 있는지 계산하는 문제입니다. "
   ]
  },
  {
   "cell_type": "code",
   "execution_count": 2,
   "metadata": {},
   "outputs": [
    {
     "name": "stdout",
     "output_type": "stream",
     "text": [
      "빈병 수 21 콜라 받은 수 12 남은 빈병 수 13\n",
      "빈병 수 13 콜라 받은 수 6 남은 빈병 수 9\n",
      "빈병 수 9 콜라 받은 수 3 남은 빈병 수 7\n",
      "빈병 수 7 콜라 받은 수 3 남은 빈병 수 5\n",
      "빈병 수 5 콜라 받은 수 3 남은 빈병 수 3\n",
      "27\n"
     ]
    }
   ],
   "source": [
    "import sys\n",
    "sys.setrecursionlimit(10000)    # 재귀가 너무 깊어서 런타임 오류 -> 이럴 경우 사용 또는 반복문으로 구현\n",
    "# 빈병 제출 가능 수, 콜라 받는 수, 남은 빈병 수\n",
    "def solution(bottle, cola, re_bottle):\n",
    "    if re_bottle < bottle:  # 남은 빈병 수가 빈병 제출 가능 수보다 작을 때 종료\n",
    "        return 0\n",
    "    a = cola * (re_bottle//bottle)   # 콜라 = b개 * 남은 빈병 // a개\n",
    "    re = re_bottle%bottle          # 빈병 제출 후 남은 빈병\n",
    "    return a + solution(bottle, cola, a + re)\n",
    "\n",
    "a = 5\n",
    "b = 3\n",
    "n = 21\n",
    "print(solution(a,b,n))"
   ]
  },
  {
   "attachments": {},
   "cell_type": "markdown",
   "metadata": {},
   "source": [
    "### 푸드파이트 대회\n",
    "- https://school.programmers.co.kr/learn/courses/30/lessons/134240 <br>\n",
    "---\n",
    "수웅이는 매달 주어진 음식을 빨리 먹는 푸드 파이트 대회를 개최합니다. 이 대회에서 선수들은 1대 1로 대결하며, 매 대결마다 음식의 종류와 양이 바뀝니다. 대결은 준비된 음식들을 일렬로 배치한 뒤, 한 선수는 제일 왼쪽에 있는 음식부터 오른쪽으로, 다른 선수는 제일 오른쪽에 있는 음식부터 왼쪽으로 순서대로 먹는 방식으로 진행됩니다. 중앙에는 물을 배치하고, 물을 먼저 먹는 선수가 승리하게 됩니다.\n",
    "\n",
    "이때, 대회의 공정성을 위해 두 선수가 먹는 음식의 종류와 양이 같아야 하며, 음식을 먹는 순서도 같아야 합니다. 또한, 이번 대회부터는 칼로리가 낮은 음식을 먼저 먹을 수 있게 배치하여 선수들이 음식을 더 잘 먹을 수 있게 하려고 합니다. 이번 대회를 위해 수웅이는 음식을 주문했는데, 대회의 조건을 고려하지 않고 음식을 주문하여 몇 개의 음식은 대회에 사용하지 못하게 되었습니다.\n",
    "\n",
    "예를 들어, 3가지의 음식이 준비되어 있으며, 칼로리가 적은 순서대로 1번 음식을 3개, 2번 음식을 4개, 3번 음식을 6개 준비했으며, 물을 편의상 0번 음식이라고 칭한다면, 두 선수는 1번 음식 1개, 2번 음식 2개, 3번 음식 3개씩을 먹게 되므로 음식의 배치는 \"1223330333221\"이 됩니다. 따라서 1번 음식 1개는 대회에 사용하지 못합니다.\n",
    "\n",
    "수웅이가 준비한 음식의 양을 칼로리가 적은 순서대로 나타내는 정수 배열 food가 주어졌을 때, 대회를 위한 음식의 배치를 나타내는 문자열을 return 하는 solution 함수를 완성해주세요."
   ]
  },
  {
   "cell_type": "code",
   "execution_count": 21,
   "metadata": {},
   "outputs": [
    {
     "name": "stdout",
     "output_type": "stream",
     "text": [
      "1223330333221\n"
     ]
    }
   ],
   "source": [
    "# 1열로 배치, 왼쪽 - 물 - 오른쪽\n",
    "# 칼로리가 낮은 음식부터 배치\n",
    "# 0은 물\n",
    "def solution(food):\n",
    "    answer = \"\"\n",
    "    for i in range(1,len(food)):\n",
    "        if food[i]<2: continue\n",
    "        answer+=str(i)*(food[i]//2)\n",
    "    answer += \"0\"+answer[::-1]\n",
    "    return answer\n",
    "\n",
    "food = [1, 3, 4, 6]\n",
    "print(solution(food))"
   ]
  },
  {
   "attachments": {},
   "cell_type": "markdown",
   "metadata": {},
   "source": [
    "### 가장 가까운 글자\n",
    "- https://school.programmers.co.kr/learn/courses/30/lessons/142086\n",
    "---\n",
    "문자열 s가 주어졌을 때, s의 각 위치마다 자신보다 앞에 나왔으면서, 자신과 가장 가까운 곳에 있는 같은 글자가 어디 있는지 알고 싶습니다.\n",
    "예를 들어, s=\"banana\"라고 할 때,  각 글자들을 왼쪽부터 오른쪽으로 읽어 나가면서 다음과 같이 진행할 수 있습니다.\n",
    "\n",
    "b는 처음 나왔기 때문에 자신의 앞에 같은 글자가 없습니다. 이는 -1로 표현합니다.\n",
    "a는 처음 나왔기 때문에 자신의 앞에 같은 글자가 없습니다. 이는 -1로 표현합니다.\n",
    "n은 처음 나왔기 때문에 자신의 앞에 같은 글자가 없습니다. 이는 -1로 표현합니다.\n",
    "a는 자신보다 두 칸 앞에 a가 있습니다. 이는 2로 표현합니다.\n",
    "n도 자신보다 두 칸 앞에 n이 있습니다. 이는 2로 표현합니다.\n",
    "a는 자신보다 두 칸, 네 칸 앞에 a가 있습니다. 이 중 가까운 것은 두 칸 앞이고, 이는 2로 표현합니다.\n",
    "따라서 최종 결과물은 [-1, -1, -1, 2, 2, 2]가 됩니다.\n",
    "\n",
    "문자열 s이 주어질 때, 위와 같이 정의된 연산을 수행하는 함수 solution을 완성해주세요."
   ]
  },
  {
   "cell_type": "code",
   "execution_count": 32,
   "metadata": {},
   "outputs": [
    {
     "name": "stdout",
     "output_type": "stream",
     "text": [
      "[-1, -1, 1, -1, -1, -1]\n"
     ]
    }
   ],
   "source": [
    "def solution(s):\n",
    "    answer = []\n",
    "    alph_list = [ -1 for _ in range(26)]    # 마지막 인덱스 기록\n",
    "    for i, n in enumerate(s):\n",
    "        if alph_list[ord(n)-97] != -1:\n",
    "            answer.append(i-alph_list[ord(n)-97])\n",
    "        else:\n",
    "            answer.append(-1)\n",
    "        alph_list[ord(n)-97] = i\n",
    "    return answer\n",
    "\n",
    "s = \"foobar\"\n",
    "print(solution(s))"
   ]
  },
  {
   "cell_type": "code",
   "execution_count": 29,
   "metadata": {},
   "outputs": [
    {
     "name": "stdout",
     "output_type": "stream",
     "text": [
      "97\n"
     ]
    }
   ],
   "source": [
    "print(ord(\"a\"))"
   ]
  },
  {
   "attachments": {},
   "cell_type": "markdown",
   "metadata": {},
   "source": [
    "### 폰켓몬\n",
    "- https://school.programmers.co.kr/learn/courses/30/lessons/1845\n",
    "---\n",
    "당신은 폰켓몬을 잡기 위한 오랜 여행 끝에, 홍 박사님의 연구실에 도착했습니다. 홍 박사님은 당신에게 자신의 연구실에 있는 총 N 마리의 폰켓몬 중에서 N/2마리를 가져가도 좋다고 했습니다.\n",
    "홍 박사님 연구실의 폰켓몬은 종류에 따라 번호를 붙여 구분합니다. 따라서 같은 종류의 폰켓몬은 같은 번호를 가지고 있습니다. 예를 들어 연구실에 총 4마리의 폰켓몬이 있고, 각 폰켓몬의 종류 번호가 [3번, 1번, 2번, 3번]이라면 이는 3번 폰켓몬 두 마리, 1번 폰켓몬 한 마리, 2번 폰켓몬 한 마리가 있음을 나타냅니다. 이때, 4마리의 폰켓몬 중 2마리를 고르는 방법은 다음과 같이 6가지가 있습니다.\n",
    "\n",
    "첫 번째(3번), 두 번째(1번) 폰켓몬을 선택\n",
    "첫 번째(3번), 세 번째(2번) 폰켓몬을 선택\n",
    "첫 번째(3번), 네 번째(3번) 폰켓몬을 선택\n",
    "두 번째(1번), 세 번째(2번) 폰켓몬을 선택\n",
    "두 번째(1번), 네 번째(3번) 폰켓몬을 선택\n",
    "세 번째(2번), 네 번째(3번) 폰켓몬을 선택\n",
    "이때, 첫 번째(3번) 폰켓몬과 네 번째(3번) 폰켓몬을 선택하는 방법은 한 종류(3번 폰켓몬 두 마리)의 폰켓몬만 가질 수 있지만, 다른 방법들은 모두 두 종류의 폰켓몬을 가질 수 있습니다. 따라서 위 예시에서 가질 수 있는 폰켓몬 종류 수의 최댓값은 2가 됩니다.\n",
    "당신은 최대한 다양한 종류의 폰켓몬을 가지길 원하기 때문에, 최대한 많은 종류의 폰켓몬을 포함해서 N/2마리를 선택하려 합니다. N마리 폰켓몬의 종류 번호가 담긴 배열 nums가 매개변수로 주어질 때, N/2마리의 폰켓몬을 선택하는 방법 중, 가장 많은 종류의 폰켓몬을 선택하는 방법을 찾아, 그때의 폰켓몬 종류 번호의 개수를 return 하도록 solution 함수를 완성해주세요."
   ]
  },
  {
   "cell_type": "code",
   "execution_count": 17,
   "metadata": {},
   "outputs": [
    {
     "name": "stdout",
     "output_type": "stream",
     "text": [
      "2\n"
     ]
    }
   ],
   "source": [
    "# N 마리 폰켓몬 중 N/2 가져가라\n",
    "# 같은 종류 - 같은 번호\n",
    "# 가질 수 있는 폰켓몬 최댓값\n",
    "from collections import Counter\n",
    "\n",
    "def solution(nums):\n",
    "    n = len(nums)//2\n",
    "    k = len(list(Counter(nums).values()))\n",
    "    if n <= k:\n",
    "        return n\n",
    "    else:\n",
    "        return k\n",
    "\n",
    "nums = [3,3,3,2,2,2]\n",
    "print(solution(nums))"
   ]
  },
  {
   "cell_type": "code",
   "execution_count": null,
   "metadata": {},
   "outputs": [],
   "source": [
    "def solution(ls):\n",
    "    return min(len(ls)/2, len(set(ls)))"
   ]
  },
  {
   "attachments": {},
   "cell_type": "markdown",
   "metadata": {},
   "source": [
    "### 모의고사\n",
    "- https://school.programmers.co.kr/learn/courses/30/lessons/42840\n",
    "---\n",
    "수포자는 수학을 포기한 사람의 준말입니다. 수포자 삼인방은 모의고사에 수학 문제를 전부 찍으려 합니다. 수포자는 1번 문제부터 마지막 문제까지 다음과 같이 찍습니다.\n",
    "\n",
    "1번 수포자가 찍는 방식: 1, 2, 3, 4, 5, 1, 2, 3, 4, 5, ...\n",
    "2번 수포자가 찍는 방식: 2, 1, 2, 3, 2, 4, 2, 5, 2, 1, 2, 3, 2, 4, 2, 5, ...\n",
    "3번 수포자가 찍는 방식: 3, 3, 1, 1, 2, 2, 4, 4, 5, 5, 3, 3, 1, 1, 2, 2, 4, 4, 5, 5, ...\n",
    "\n",
    "1번 문제부터 마지막 문제까지의 정답이 순서대로 들은 배열 answers가 주어졌을 때, 가장 많은 문제를 맞힌 사람이 누구인지 배열에 담아 return 하도록 solution 함수를 작성해주세요."
   ]
  },
  {
   "cell_type": "code",
   "execution_count": 8,
   "metadata": {},
   "outputs": [
    {
     "name": "stdout",
     "output_type": "stream",
     "text": [
      "[1]\n"
     ]
    }
   ],
   "source": [
    "def solution(answer):\n",
    "    n = len(answer)\n",
    "\n",
    "    # 리스트 생성\n",
    "    su1 = [1,2,3,4,5]\n",
    "    su1 = su1*(n//5)+su1[:n%5]\n",
    "    su2 = [2,1,2,3,2,4,2,5]\n",
    "    su2 = su2*(n//8)+su2[:n%8]\n",
    "    su3 = [3,3,1,1,2,2,4,4,5,5]\n",
    "    su3 = su3*(n//10)+su3[:n%10]\n",
    "    \n",
    "    # 카운트 및 정렬\n",
    "    c = [[1,0],[2,0],[3,0]]\n",
    "    for i in range(n):\n",
    "        t = answer[i]\n",
    "        if su1[i] == t: c[0][1]+=1\n",
    "        if su2[i] == t: c[1][1]+=1\n",
    "        if su3[i] == t: c[2][1]+=1\n",
    "    \n",
    "    # 출력\n",
    "    c.sort(key=lambda x:x[1], reverse=True)\n",
    "    if c[0][1]==c[1][1]:\n",
    "        if c[1][1]==c[2][1]: return([1,2,3])\n",
    "        else: return([c[0][0],c[1][0]])\n",
    "    else: return([c[0][0]])"
   ]
  }
 ],
 "metadata": {
  "kernelspec": {
   "display_name": "Python 3",
   "language": "python",
   "name": "python3"
  },
  "language_info": {
   "codemirror_mode": {
    "name": "ipython",
    "version": 3
   },
   "file_extension": ".py",
   "mimetype": "text/x-python",
   "name": "python",
   "nbconvert_exporter": "python",
   "pygments_lexer": "ipython3",
   "version": "3.9.13"
  },
  "orig_nbformat": 4
 },
 "nbformat": 4,
 "nbformat_minor": 2
}
