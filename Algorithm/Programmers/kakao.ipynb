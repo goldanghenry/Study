{
 "cells": [
  {
   "attachments": {},
   "cell_type": "markdown",
   "metadata": {},
   "source": [
    "## 카카오 기출문제"
   ]
  },
  {
   "cell_type": "markdown",
   "metadata": {},
   "source": [
    "### 비밀지도\n",
    "- https://school.programmers.co.kr/learn/courses/30/lessons/17681\n",
    "- 2018 KAKAO BLIND RECRUITMENT\n",
    "- 네오는 평소 프로도가 비상금을 숨겨놓는 장소를 알려줄 비밀지도를 손에 넣었다. 그런데 이 비밀지도는 숫자로 암호화되어 있어 위치를 확인하기 위해서는 암호를 해독해야 한다. 다행히 지도 암호를 해독할 방법을 적어놓은 메모도 함께 발견했다.\n",
    "\n",
    "지도는 한 변의 길이가 n인 정사각형 배열 형태로, 각 칸은 \"공백\"(\" \") 또는 \"벽\"(\"#\") 두 종류로 이루어져 있다.\n",
    "전체 지도는 두 장의 지도를 겹쳐서 얻을 수 있다. 각각 \"지도 1\"과 \"지도 2\"라고 하자. 지도 1 또는 지도 2 중 어느 하나라도 벽인 부분은 전체 지도에서도 벽이다. 지도 1과 지도 2에서 모두 공백인 부분은 전체 지도에서도 공백이다.\n",
    "\"지도 1\"과 \"지도 2\"는 각각 정수 배열로 암호화되어 있다.\n",
    "암호화된 배열은 지도의 각 가로줄에서 벽 부분을 1, 공백 부분을 0으로 부호화했을 때 얻어지는 이진수에 해당하는 값의 배열이다."
   ]
  },
  {
   "cell_type": "code",
   "execution_count": null,
   "metadata": {},
   "outputs": [
    {
     "data": {
      "text/plain": [
       "['#####', '# # #', '### #', '#  ##', '#####']"
      ]
     },
     "metadata": {},
     "output_type": "display_data"
    }
   ],
   "source": [
    "# 지도 : n x n 배열, 공백 또는 #벽\n",
    "# 두 장의 지도를 겹쳐서 얻을 수 있다 \n",
    "def solution(n, arr1, arr2):\n",
    "    answer = []\n",
    "    for i in range(n) :\n",
    "        temp1 = bin(arr1[i])[2:]\n",
    "        temp1 = \"0\"*(n-len(temp1)) +temp1\n",
    "        temp2 = bin(arr2[i])[2:]\n",
    "        temp2 = \"0\"*(n-len(temp2)) + temp2\n",
    "        temp = \"\"\n",
    "        for j in range(n):\n",
    "            if temp1[j]==\"1\" or temp2[j]==\"1\":\n",
    "                temp+=\"#\"\n",
    "            else:\n",
    "                temp+=\" \"\n",
    "        answer.append(temp)\n",
    "    return answer\n",
    "\n",
    "n = 5\n",
    "arr1 = [9, 20, 28, 18, 11]\n",
    "arr2 = [30, 1, 21, 17, 28]\n",
    "solution(n, arr1, arr2)"
   ]
  },
  {
   "cell_type": "markdown",
   "metadata": {},
   "source": [
    "### 실패율\n",
    "- 2019 KAKAO BLIND RECRUITMENT\n",
    "- https://school.programmers.co.kr/learn/courses/30/lessons/42889\n",
    "---\n",
    "슈퍼 게임 개발자 오렐리는 큰 고민에 빠졌다. 그녀가 만든 프랜즈 오천성이 대성공을 거뒀지만, 요즘 신규 사용자의 수가 급감한 것이다. 원인은 신규 사용자와 기존 사용자 사이에 스테이지 차이가 너무 큰 것이 문제였다.\n",
    "\n",
    "이 문제를 어떻게 할까 고민 한 그녀는 동적으로 게임 시간을 늘려서 난이도를 조절하기로 했다. 역시 슈퍼 개발자라 대부분의 로직은 쉽게 구현했지만, 실패율을 구하는 부분에서 위기에 빠지고 말았다. 오렐리를 위해 실패율을 구하는 코드를 완성하라.\n",
    "\n",
    "실패율은 다음과 같이 정의한다.\n",
    "스테이지에 도달했으나 아직 클리어하지 못한 플레이어의 수 / 스테이지에 도달한 플레이어 수\n",
    "전체 스테이지의 개수 N, 게임을 이용하는 사용자가 현재 멈춰있는 스테이지의 번호가 담긴 배열 stages가 매개변수로 주어질 때, 실패율이 높은 스테이지부터 내림차순으로 스테이지의 번호가 담겨있는 배열을 return 하도록 solution 함수를 완성하라."
   ]
  },
  {
   "cell_type": "code",
   "execution_count": null,
   "metadata": {},
   "outputs": [
    {
     "name": "stdout",
     "output_type": "stream",
     "text": [
      "[4, 1, 2, 3, 5]\n"
     ]
    }
   ],
   "source": [
    "def solution(N, stages):\n",
    "    answer = {}\n",
    "    stage = [0]*(N+2)\n",
    "    \n",
    "    # 스테이지별 인원 계산\n",
    "    for s in stages:\n",
    "        stage[s]+=1\n",
    "    \n",
    "    # 실패율 계산\n",
    "    for i in range(1,N+1):\n",
    "        s = sum(stage[i:])\n",
    "        if s:\n",
    "            answer[i] =stage[i]/s\n",
    "        else:\n",
    "            answer[i] = 0\n",
    "    \n",
    "    # 정렬 및 출력\n",
    "    answer = sorted(answer.items(), key=lambda x:(-x[1],x[0]))\n",
    "    return [ i[0] for i in answer]\n",
    "\n",
    "N = 5\n",
    "stages = [4,4,4]\n",
    "print(solution(N,stages))\n",
    "\n"
   ]
  },
  {
   "cell_type": "markdown",
   "metadata": {},
   "source": [
    "### 다트 게임\n",
    "- 2018 KAKAO BLIND RECRUITMENT\n",
    "- https://school.programmers.co.kr/learn/courses/30/lessons/17682\n",
    "---\n",
    "카카오톡 게임별의 하반기 신규 서비스로 다트 게임을 출시하기로 했다. 다트 게임은 다트판에 다트를 세 차례 던져 그 점수의 합계로 실력을 겨루는 게임으로, 모두가 간단히 즐길 수 있다.\n",
    "갓 입사한 무지는 코딩 실력을 인정받아 게임의 핵심 부분인 점수 계산 로직을 맡게 되었다. 다트 게임의 점수 계산 로직은 아래와 같다.\n",
    "\n",
    "1. 다트 게임은 총 3번의 기회로 구성된다.\n",
    "2. 각 기회마다 얻을 수 있는 점수는 0점에서 10점까지이다.\n",
    "3. 점수와 함께 Single(S), Double(D), Triple(T) 영역이 존재하고 각 영역 당첨 시 점수에서 1제곱, 2제곱, 3제곱 (점수1 , 점수2 , 점수3 )으로 계산된다.\n",
    "4. 옵션으로 스타상(*) , 아차상(#)이 존재하며 스타상(*) 당첨 시 해당 점수와 바로 전에 얻은 점수를 각 2배로 만든다. 아차상(#) 당첨 시 해당 점수는 마이너스된다.\n",
    "5. 스타상(*)은 첫 번째 기회에서도 나올 수 있다. 이 경우 첫 번째 스타상(*)의 점수만 2배가 된다. (예제 4번 참고)\n",
    "6. 스타상(*)의 효과는 다른 스타상(*)의 효과와 중첩될 수 있다. 이 경우 중첩된 스타상(*) 점수는 4배가 된다. (예제 4번 참고)\n",
    "7. 스타상(*)의 효과는 아차상(#)의 효과와 중첩될 수 있다. 이 경우 중첩된 아차상(#)의 점수는 -2배가 된다. (예제 5번 참고)\n",
    "8. Single(S), Double(D), Triple(T)은 점수마다 하나씩 존재한다.\n",
    "9. 스타상(*), 아차상(#)은 점수마다 둘 중 하나만 존재할 수 있으며, 존재하지 않을 수도 있다.<br><br>\n",
    "0~10의 정수와 문자 S, D, T, *, #로 구성된 문자열이 입력될 시 총점수를 반환하는 함수를 작성하라."
   ]
  },
  {
   "cell_type": "code",
   "execution_count": null,
   "metadata": {},
   "outputs": [
    {
     "data": {
      "text/plain": [
       "204"
      ]
     },
     "metadata": {},
     "output_type": "display_data"
    }
   ],
   "source": [
    "def solution(dart):\n",
    "    answer = [0]\n",
    "    pre = 0\n",
    "    digit = 0\n",
    "    idx = 0\n",
    "    for i,s in enumerate(dart):\n",
    "        if s.isdigit() and dart[i+1].isdigit(): digit = 10; idx+=1\n",
    "        elif s.isdigit() and digit<10: digit = int(s); idx+=1\n",
    "        elif s==\"S\": pre = digit; answer.append(pre); digit=0\n",
    "        elif s==\"D\": pre = digit**2; answer.append(pre); digit=0\n",
    "        elif s==\"T\": pre = digit**3; answer.append(pre); digit=0\n",
    "        elif s==\"*\": answer[idx-1] *=2; answer[idx] *=2\n",
    "        elif s==\"#\": answer[idx] -=pre*2\n",
    "    return sum(answer)\n",
    "\n",
    "dartResult = \"10D4S10D\"\n",
    "solution(dartResult)"
   ]
  },
  {
   "cell_type": "code",
   "execution_count": null,
   "metadata": {},
   "outputs": [],
   "source": [
    "# 다른 사람 코드\n",
    "# 간결하고 좋다...\n",
    "# 연속발음 처리를 j*2로 하니 더 좋은 듯 OTL..\n",
    "def solution(babbling):\n",
    "    answer = 0\n",
    "    for i in babbling:\n",
    "        for j in ['aya','ye','woo','ma']:\n",
    "            if j*2 not in i:\n",
    "                i=i.replace(j,' ')\n",
    "        if len(i.strip())==0:\n",
    "            answer +=1\n",
    "    return answer"
   ]
  },
  {
   "cell_type": "markdown",
   "metadata": {},
   "source": [
    "### 키패드 누르기\n",
    "- 카카오 인턴십\n",
    "- https://school.programmers.co.kr/learn/courses/30/lessons/67256\n",
    "---\n",
    "이 전화 키패드에서 왼손과 오른손의 엄지손가락만을 이용해서 숫자만을 입력하려고 합니다.\n",
    "맨 처음 왼손 엄지손가락은 * 키패드에 오른손 엄지손가락은 # 키패드 위치에서 시작하며, 엄지손가락을 사용하는 규칙은 다음과 같습니다.\n",
    "\n",
    "엄지손가락은 상하좌우 4가지 방향으로만 이동할 수 있으며 키패드 이동 한 칸은 거리로 1에 해당합니다.\n",
    "\n",
    "왼쪽 열의 3개의 숫자 1, 4, 7을 입력할 때는 왼손 엄지손가락을 사용합니다.\n",
    "\n",
    "오른쪽 열의 3개의 숫자 3, 6, 9를 입력할 때는 오른손 엄지손가락을 사용합니다.\n",
    "\n",
    "가운데 열의 4개의 숫자 2, 5, 8, 0을 입력할 때는 두 엄지손가락의 현재 키패드의 위치에서 더 가까운 엄지손가락을 사용합니다.\n",
    "\n",
    "4-1. 만약 두 엄지손가락의 거리가 같다면, 오른손잡이는 오른손 엄지손가락, 왼손잡이는 왼손 엄지손가락을 사용합니다.\n",
    "\n",
    "순서대로 누를 번호가 담긴 배열 numbers, 왼손잡이인지 오른손잡이인 지를 나타내는 문자열 hand가 매개변수로 주어질 때, 각 번호를 누른 엄지손가락이 왼손인 지 오른손인 지를 나타내는 연속된 문자열 형태로 return 하도록 solution 함수를 완성해주세요."
   ]
  },
  {
   "cell_type": "code",
   "execution_count": null,
   "metadata": {},
   "outputs": [
    {
     "data": {
      "text/plain": [
       "'LRLLLRLLRRL'"
      ]
     },
     "metadata": {},
     "output_type": "display_data"
    }
   ],
   "source": [
    "answer = ''\n",
    "L_hand = '*'\n",
    "R_hand = '#'\n",
    "\n",
    "def left_hand(n):\n",
    "    global answer\n",
    "    global L_hand\n",
    "    answer+=\"L\"\n",
    "    L_hand=n\n",
    "\n",
    "def right_hand(n):\n",
    "    global answer\n",
    "    global R_hand\n",
    "    answer+=\"R\"\n",
    "    R_hand=n\n",
    "\n",
    "def solution(numbers, hand):\n",
    "    # 키패드 생성 \n",
    "    keypad = {} # dic()\n",
    "    keyString = [str(i) for i in range(1,10)] +['*','0','#']        # key\n",
    "    positionValue = [(n,m) for n in range(4) for m in range(3)]     # value\n",
    "    for i in range(12):\n",
    "        keypad[keyString[i]]=positionValue[i]\n",
    "    \n",
    "    # 번호 누르기 시행\n",
    "    for n in map(lambda x: str(x),numbers):\n",
    "        if keypad[n][1]==0:     # 좌측라인(1,4,7,*)\n",
    "            left_hand(n)\n",
    "            continue\n",
    "        elif keypad[n][1]==2:   # 우측라인(3,6,9,#)\n",
    "            right_hand(n)\n",
    "            continue\n",
    "        \n",
    "        # 가운데 라인(2,5,8,0)\n",
    "        L_dist = abs(keypad[L_hand][0]-keypad[n][0])+abs(keypad[L_hand][1]-keypad[n][1])\n",
    "        R_dist = abs(keypad[R_hand][0]-keypad[n][0])+abs(keypad[R_hand][1]-keypad[n][1])\n",
    "        \n",
    "        if L_dist < R_dist: left_hand(n)\n",
    "        elif L_dist > R_dist: right_hand(n)\n",
    "        elif hand=='left': left_hand(n)\n",
    "        else: right_hand(n)\n",
    "    return answer\n",
    "\n",
    "numbers = [1, 3, 4, 5, 8, 2, 1, 4, 5, 9, 5]\n",
    "hand = \"right\"\n",
    "solution(numbers, hand)\n",
    "\n",
    "# left_hand(), right_hand() vs solution()에서 다 하기\n",
    "# 전역변수를 쓰지 않고 간결하게 할 수 있었을까?"
   ]
  },
  {
   "cell_type": "code",
   "execution_count": null,
   "metadata": {},
   "outputs": [],
   "source": [
    "# 코드 리뷰를 통해 수정\n",
    "#  range보다 enumerate ,or zip 가독성\n",
    "# 딕셔너리 리스트 컨프리헨션\n",
    "# 정규식 사용\n",
    "import re\n",
    "\n",
    "def solution(babbling):\n",
    "    pn = [\"aya\", \"ye\", \"woo\", \"ma\"] # 가능한 발음\n",
    "    \n",
    "    # 교체하는 로직\n",
    "    for i, p in enumerate(pn): # 단어 하나씩 순회  \n",
    "        babbling = [word.replace(p, str(i)) for word in babbling]\n",
    "\n",
    "    # 검증해서 걸러내는 로직\n",
    "    filtered = [p for p in babbling \n",
    "                  if len(re.findall('([^0123]|00|11|22|33)', p)) == 0]\n",
    "\n",
    "    return len(filtered)"
   ]
  },
  {
   "attachments": {},
   "cell_type": "markdown",
   "metadata": {},
   "source": [
    "### 이모티콘 할인행사\n",
    "- 2023 KAKAO BLIND RECRUITMENT\n",
    "- https://school.programmers.co.kr/learn/courses/30/lessons/150368"
   ]
  },
  {
   "cell_type": "code",
   "execution_count": 62,
   "metadata": {},
   "outputs": [
    {
     "name": "stdout",
     "output_type": "stream",
     "text": [
      "[1, 5400]\n"
     ]
    }
   ],
   "source": [
    "# 1. 많은 가입\n",
    "# 2. 최대 판매액\n",
    "from itertools import product\n",
    "\n",
    "def get_prod_result(emoticons, users, prod):\n",
    "    new_emoticon_plus = 0\n",
    "    new_result = 0\n",
    "\n",
    "    # 유저별 이모티콘 구입 또는 가입 판별\n",
    "    for user_rate, user_price in users:\n",
    "        purchase = 0\n",
    "\n",
    "        # 이모티콘 구매액 계산\n",
    "        for emoti ,rate in zip(emoticons, prod):\n",
    "            if rate >= user_rate:                \n",
    "                purchase += emoti*(100-rate)/100\n",
    "\n",
    "        # 가입 또는 이모티콘 구입\n",
    "        if purchase >= user_price:\n",
    "            new_emoticon_plus += 1          \n",
    "        else:\n",
    "            total+=purchase\n",
    "\n",
    "    return (emoticon_plus,total)\n",
    "\n",
    "def solution(users, emoticons):\n",
    "    emoticon_plus = 0\n",
    "    result = 0\n",
    "\n",
    "    # 모든 가격 중복 순열에 대해 완전 탐색\n",
    "    for prod in product([10,20,30,40],repeat = len(emoticons)):\n",
    "        \n",
    "        # 한 경우에 대해 가입자 수와 판매액 산출\n",
    "        new_emoti, new_result = get_prod_result(emoticons, users, prod)\n",
    "\n",
    "        # 가입수가 기존 가입수보다 많은 경우\n",
    "        if emoti > emoticon_plus:\n",
    "            emoticon_plus = emoti\n",
    "            total = result\n",
    "\n",
    "        # 가입수는 같고, 판매액이 기존 판매액보다 많은 경우\n",
    "        elif emoti == emoticon_plus and result > total:\n",
    "            emoticon_plus = emoti\n",
    "            total = result\n",
    "    \n",
    "    return [emoticon_plus,int(total)]\n",
    "\n",
    "users = [[40, 10000], [25, 10000]]\n",
    "emoticons = [7000, 9000]\n",
    "print(solution(users, emoticons))\n"
   ]
  },
  {
   "cell_type": "code",
   "execution_count": 53,
   "metadata": {},
   "outputs": [
    {
     "name": "stdout",
     "output_type": "stream",
     "text": [
      "[(40, 40), (40, 30), (40, 20), (40, 10), (30, 40), (30, 30), (30, 20), (30, 10), (20, 40), (20, 30), (20, 20), (20, 10), (10, 40), (10, 30), (10, 20), (10, 10)]\n"
     ]
    }
   ],
   "source": [
    "from itertools import product\n",
    "a = [40,30,20,10]\n",
    "print(list(product(a,repeat=2)))\n"
   ]
  }
 ],
 "metadata": {
  "kernelspec": {
   "display_name": "base",
   "language": "python",
   "name": "python3"
  },
  "language_info": {
   "codemirror_mode": {
    "name": "ipython",
    "version": 3
   },
   "file_extension": ".py",
   "mimetype": "text/x-python",
   "name": "python",
   "nbconvert_exporter": "python",
   "pygments_lexer": "ipython3",
   "version": "3.9.13"
  },
  "orig_nbformat": 4
 },
 "nbformat": 4,
 "nbformat_minor": 2
}
