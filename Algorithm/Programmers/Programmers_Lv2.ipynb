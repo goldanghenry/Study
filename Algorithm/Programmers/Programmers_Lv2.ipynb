{
 "cells": [
  {
   "attachments": {},
   "cell_type": "markdown",
   "metadata": {},
   "source": [
    "## Programmers_Lv2"
   ]
  },
  {
   "attachments": {},
   "cell_type": "markdown",
   "metadata": {},
   "source": [
    "### 과제 진행하기\n",
    "- https://school.programmers.co.kr/learn/courses/30/lessons/176962\n",
    "---\n",
    "과제를 받은 루는 다음과 같은 순서대로 과제를 하려고 계획을 세웠습니다.\n",
    "\n",
    "과제는 시작하기로 한 시각이 되면 시작합니다.\n",
    "새로운 과제를 시작할 시각이 되었을 때, 기존에 진행 중이던 과제가 있다면 진행 중이던 과제를 멈추고 새로운 과제를 시작합니다.\n",
    "진행중이던 과제를 끝냈을 때, 잠시 멈춘 과제가 있다면, 멈춰둔 과제를 이어서 진행합니다.\n",
    "만약, 과제를 끝낸 시각에 새로 시작해야 되는 과제와 잠시 멈춰둔 과제가 모두 있다면, 새로 시작해야 하는 과제부터 진행합니다.\n",
    "멈춰둔 과제가 여러 개일 경우, 가장 최근에 멈춘 과제부터 시작합니다.\n",
    "과제 계획을 담은 이차원 문자열 배열 plans가 매개변수로 주어질 때, 과제를 끝낸 순서대로 이름을 배열에 담아 return 하는 solution 함수를 완성해주세요."
   ]
  },
  {
   "attachments": {},
   "cell_type": "markdown",
   "metadata": {},
   "source": [
    "시간 계산은 datetime\n",
    "시작 시간 기준으로 정렬\n",
    "메인 시간 설정\n",
    "정렬된 리스트에서 가져와 다음 순서의 시작 시간과 비교\n",
    "시작 전이라면 완료 리스트에 추가\n",
    "동일하다면 시작시간 전까지 업데이트 후 다음 순서 시작\n",
    "시간이 남는다면 중단 리스트에서 다음 순서 시작 시간 전까지 위의 작업 실행\n",
    "\n",
    "남았다면 중단 리스트에 넣기\n"
   ]
  },
  {
   "cell_type": "code",
   "execution_count": 2,
   "metadata": {},
   "outputs": [
    {
     "data": {
      "text/plain": [
       "['science', 'history', 'computer', 'music']"
      ]
     },
     "execution_count": 2,
     "metadata": {},
     "output_type": "execute_result"
    }
   ],
   "source": [
    "class plan:\n",
    "    def __init__(self, name, start, playtime):\n",
    "        self.name = name\n",
    "        self.start = 60*int(start.split(\":\")[0]) + int(start.split(\":\")[1])\n",
    "        self.playtime = int(playtime)\n",
    "        self.playing = 0\n",
    "    \n",
    "    def end(self):\n",
    "        return self.start + self.playtime\n",
    "    \n",
    "    def study(self, time=999999):\n",
    "        time = time if time < self.playtime - self.playing else self.playtime \n",
    "        self.playing += time\n",
    "        return time\n",
    "\n",
    "    def time_left(self):\n",
    "        return self.playtime - self.playing\n",
    "\n",
    "def solution(plans):\n",
    "    answer = []\n",
    "    stops = []\n",
    "    \n",
    "    plans = [plan(name, start, playtime) for name, start, playtime in plans]\n",
    "    plans = sorted(plans, key=lambda x: x.start)\n",
    "    \n",
    "    for cur, next in zip(plans[:-1], plans[1:]):\n",
    "        cur.study(next.start - cur.start)\n",
    "\n",
    "        if cur.time_left() > 0:\n",
    "            stops.append(cur)\n",
    "            continue\n",
    "\n",
    "        answer.append(cur)\n",
    "        now = cur.end()\n",
    "\n",
    "        while now < next.start and stops:\n",
    "            stop = stops.pop()\n",
    "            now += stop.study(next.start - now)\n",
    "            if stop.time_left() > 0:\n",
    "                stops.append(stop)\n",
    "                break\n",
    "            \n",
    "            answer.append(stop)\n",
    "\n",
    "    answer = answer + [next] + stops[::-1]\n",
    "    return [p.name for p in answer]\n",
    "\n",
    "\n",
    "\n",
    "plans =[[\"science\", \"12:40\", \"50\"], [\"music\", \"12:20\", \"40\"], [\"history\", \"14:00\", \"30\"], [\"computer\", \"12:30\", \"100\"]]\n",
    "solution(plans)"
   ]
  }
 ],
 "metadata": {
  "kernelspec": {
   "display_name": "base",
   "language": "python",
   "name": "python3"
  },
  "language_info": {
   "codemirror_mode": {
    "name": "ipython",
    "version": 3
   },
   "file_extension": ".py",
   "mimetype": "text/x-python",
   "name": "python",
   "nbconvert_exporter": "python",
   "pygments_lexer": "ipython3",
   "version": "3.9.12"
  },
  "orig_nbformat": 4
 },
 "nbformat": 4,
 "nbformat_minor": 2
}
