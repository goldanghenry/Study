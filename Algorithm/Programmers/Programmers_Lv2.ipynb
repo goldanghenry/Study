{
 "cells": [
  {
   "attachments": {},
   "cell_type": "markdown",
   "metadata": {},
   "source": [
    "## Programmers_Lv2"
   ]
  },
  {
   "attachments": {},
   "cell_type": "markdown",
   "metadata": {},
   "source": [
    "### 과제 진행하기\n",
    "- https://school.programmers.co.kr/learn/courses/30/lessons/176962\n",
    "---\n",
    "과제를 받은 루는 다음과 같은 순서대로 과제를 하려고 계획을 세웠습니다.\n",
    "\n",
    "과제는 시작하기로 한 시각이 되면 시작합니다.\n",
    "새로운 과제를 시작할 시각이 되었을 때, 기존에 진행 중이던 과제가 있다면 진행 중이던 과제를 멈추고 새로운 과제를 시작합니다.\n",
    "진행중이던 과제를 끝냈을 때, 잠시 멈춘 과제가 있다면, 멈춰둔 과제를 이어서 진행합니다.\n",
    "만약, 과제를 끝낸 시각에 새로 시작해야 되는 과제와 잠시 멈춰둔 과제가 모두 있다면, 새로 시작해야 하는 과제부터 진행합니다.\n",
    "멈춰둔 과제가 여러 개일 경우, 가장 최근에 멈춘 과제부터 시작합니다.\n",
    "과제 계획을 담은 이차원 문자열 배열 plans가 매개변수로 주어질 때, 과제를 끝낸 순서대로 이름을 배열에 담아 return 하는 solution 함수를 완성해주세요."
   ]
  },
  {
   "attachments": {},
   "cell_type": "markdown",
   "metadata": {},
   "source": [
    "시간 계산은 datetime\n",
    "시작 시간 기준으로 정렬\n",
    "메인 시간 설정\n",
    "정렬된 리스트에서 가져와 다음 순서의 시작 시간과 비교\n",
    "시작 전이라면 완료 리스트에 추가\n",
    "동일하다면 시작시간 전까지 업데이트 후 다음 순서 시작\n",
    "시간이 남는다면 중단 리스트에서 다음 순서 시작 시간 전까지 위의 작업 실행\n",
    "\n",
    "남았다면 중단 리스트에 넣기\n"
   ]
  },
  {
   "cell_type": "code",
   "execution_count": 105,
   "metadata": {},
   "outputs": [
    {
     "name": "stdout",
     "output_type": "stream",
     "text": [
      "[['history', 840, 30], ['science', 760, 50], ['computer', 750, 100], ['music', 740, 40]]\n",
      "cur: ['music', 740, 40] plan: [['history', 840, 30], ['science', 760, 50], ['computer', 750, 100]] pause: [] complete: []\n",
      "cur: ['computer', 750, 100] plan: [['history', 840, 30], ['science', 760, 50]] pause: [['music', 740, 30]] complete: []\n",
      "cur: ['science', 760, 50] plan: [['history', 840, 30]] pause: [['music', 740, 30], ['computer', 750, 90]] complete: []\n",
      "music\n",
      "cur: ['history', 840, 30] plan: [] pause: [['music', 740, 30], ['computer', 750, 90]] complete: ['science', 'music']\n",
      "cur: ['history', 840, 30] plan: [] pause: [['music', 740, 30], ['computer', 750, 90]] complete: ['science', 'music', 'history']\n"
     ]
    },
    {
     "data": {
      "text/plain": [
       "['science', 'music', 'history', 'music', 'computer']"
      ]
     },
     "execution_count": 105,
     "metadata": {},
     "output_type": "execute_result"
    }
   ],
   "source": [
    "def solution(plans):\n",
    "    current_task = None\n",
    "    paused_tasks = []\n",
    "    completed_tasks = []\n",
    "\n",
    "    for x in plans:\n",
    "        a,b = map(int, x[1].split(\":\"))\n",
    "        x[1] = a*60+b\n",
    "        x[2] = int(x[2])\n",
    "    plans.sort(key=lambda x:x[1],reverse=True)\n",
    "    print(plans)\n",
    "\n",
    "    current_task = plans.pop()\n",
    "    while plans:\n",
    "        print('cur:', current_task,'plan:',plans, 'pause:',paused_tasks, 'complete:', completed_tasks)\n",
    "        next_task = plans[-1]\n",
    "        tmp = current_task[1]+current_task[2]-next_task[1]\n",
    "        if tmp > 0:\n",
    "            current_task[2]=tmp\n",
    "            paused_tasks.append(current_task)\n",
    "        else:\n",
    "            completed_tasks.append(current_task[0])\n",
    "            for paused in paused_tasks:\n",
    "                if paused[2]+tmp <= 0:\n",
    "                    tmp = paused[2]+tmp\n",
    "                    completed_tasks.append(paused[0])\n",
    "                    print(paused[0])\n",
    "                else: \n",
    "                    paused[2] += tmp\n",
    "            \n",
    "                                  \n",
    "        current_task = plans.pop()\n",
    "    print('cur:', current_task,'plan:',plans, 'pause:',paused_tasks, 'complete:', completed_tasks)\n",
    "    completed_tasks.append(current_task[0])\n",
    "    print('cur:', current_task,'plan:',plans, 'pause:',paused_tasks, 'complete:', completed_tasks)\n",
    "    for pause in paused_tasks:\n",
    "        completed_tasks.append(pause[0])\n",
    "    \n",
    "    return completed_tasks\n",
    "\n",
    "\n",
    "\n",
    "plans =[[\"science\", \"12:40\", \"50\"], [\"music\", \"12:20\", \"40\"], [\"history\", \"14:00\", \"30\"], [\"computer\", \"12:30\", \"100\"]]\n",
    "solution(plans)"
   ]
  },
  {
   "cell_type": "code",
   "execution_count": 74,
   "metadata": {},
   "outputs": [
    {
     "name": "stdout",
     "output_type": "stream",
     "text": [
      "history 14:00:00 30, science 12:40:00 50, computer 12:30:00 100, music 12:20:00 40, \n",
      "music 13:00:00 00:00:00 | computer 12:30:00 100\n",
      "중단: music 13:00:00 30\n",
      "현재 시간: 12:30:00\n",
      "computer 14:10:00 00:00:00 | music 13:00:00 30\n",
      "중단: computer 14:10:00 70\n",
      "현재 시간: 13:00:00\n",
      "music 13:30:00 00:00:00 | science 12:40:00 50\n",
      "중단: music 13:30:00 50\n",
      "현재 시간: 12:40:00\n",
      "science 13:30:00 00:00:00 | music 13:30:00 50\n",
      "완료: science\n",
      "현재 시간: 13:30:00\n",
      "music 14:20:00 00:00:00 | computer 14:10:00 70\n",
      "중단: music 14:20:00 10\n",
      "현재 시간: 14:10:00\n",
      "computer 15:20:00 00:00:00 | history 14:00:00 30\n",
      "중단: computer 15:20:00 80\n",
      "현재 시간: 14:00:00\n",
      "history 14:30:00 00:00:00 | computer 15:20:00 80\n",
      "완료: history\n",
      "현재 시간: 15:20:00\n",
      "computer 16:40:00 00:00:00 | music 14:20:00 10\n",
      "중단: computer 16:40:00 140\n",
      "현재 시간: 14:20:00\n",
      "music 14:30:00 00:00:00 | computer 16:40:00 140\n",
      "완료: music\n",
      "현재 시간: 16:40:00\n",
      "완료: computer\n"
     ]
    },
    {
     "data": {
      "text/plain": [
       "['science', 'history', 'music', 'computer']"
      ]
     },
     "execution_count": 74,
     "metadata": {},
     "output_type": "execute_result"
    }
   ],
   "source": [
    "from datetime import datetime, timedelta\n",
    "\n",
    "def solution(plans):\n",
    "    # 문자열 -> datetime class\n",
    "    plans = [[x[0],datetime.strptime(x[1],\"%H:%M\"),x[2]] for x in plans]\n",
    "    plans.sort(key=lambda x:x[1],reverse=True)\n",
    "    for plan in plans:\n",
    "        print(plan[0],plan[1].time(),plan[2], end=', ')\n",
    "    print()\n",
    "    complete_lst = []\n",
    "    pause_lst = []\n",
    "    main_time = plans.pop()\n",
    "    next_start = 0\n",
    "\n",
    "    while plans or pause_lst:\n",
    "        # 1.  다음 과제 선정\n",
    "        # 1.1 새로운 과제\n",
    "        if plans and (not pause_lst or plans[-1][1]<main_time[1]):\n",
    "            next_start = plans.pop()\n",
    "        # 1.2 중단 과제 \n",
    "        else:\n",
    "            next_start = pause_lst.pop()\n",
    "        # 2. 과제 진행\n",
    "        main_time[1] += timedelta(minutes = int(main_time[2]))\n",
    "        main_time[2] = datetime.strptime(\"0\",\"%M\")\n",
    "        print(main_time[0],main_time[1].time(),main_time[2].time(),'|', next_start[0],next_start[1].time(),next_start[2])\n",
    "        # 3. 과제 완료 판별\n",
    "        if main_time[1] <= next_start[1]:   # 완료\n",
    "            complete_lst.append(main_time[0])\n",
    "            print('완료:',main_time[0])\n",
    "        else:\n",
    "            main_time[2] = (main_time[1]-next_start[1]).seconds//60\n",
    "            pause_lst.append(main_time)\n",
    "            print('중단:',main_time[0],main_time[1].time(),main_time[2])\n",
    "        main_time = next_start\n",
    "        print('현재 시간:', main_time[1].time())\n",
    "\n",
    "    if not plans:\n",
    "                print('완료:',main_time[0])\n",
    "                complete_lst.append(main_time[0])    \n",
    "\n",
    "    return complete_lst\n",
    "\n",
    "\n",
    "\n",
    "\n",
    "plans =[[\"science\", \"12:40\", \"50\"], [\"music\", \"12:20\", \"40\"], [\"history\", \"14:00\", \"30\"], [\"computer\", \"12:30\", \"100\"]]\n",
    "solution(plans)"
   ]
  },
  {
   "cell_type": "code",
   "execution_count": null,
   "metadata": {},
   "outputs": [],
   "source": [
    "\n",
    "    # while plans and paused_tasks:\n",
    "    #     if not paused_tasks:\n",
    "    #         current_task = plans.pop()\n",
    "\n",
    "\n",
    "\n",
    "    # for task in plans:\n",
    "    #     name, start, playtime = task\n",
    "    #     start_hour, start_min = map(int, start.split(\":\"))\n",
    "    #     # 과제를 시작해야 할 시간을 분 단위로 계산\n",
    "    #     start_time = start_hour * 60 + start_min\n",
    "        \n",
    "    #     # 만약 현재 진행중인 과제가 있다면 멈춰둠\n",
    "    #     if current_task:\n",
    "    #         paused_tasks.append(current_task)\n",
    "        \n",
    "    #     # 멈춰둔 과제가 있다면 가장 최근에 멈춘 과제부터 시작\n",
    "    #     if paused_tasks:\n",
    "    #         current_task = paused_tasks.pop()\n",
    "    #     # 새로운 과제를 시작해야 하면 시작\n",
    "    #     else:\n",
    "    #         current_task = [name, start_time + int(playtime)]\n",
    "    #         continue\n",
    "        \n",
    "    #     # 새로운 과제와 멈춰둔 과제가 모두 있는 경우\n",
    "    #     # 새로운 과제부터 시작해야 하므로 현재 과제를 멈춰둠\n",
    "    #     if start_time < current_task[1]:\n",
    "    #         paused_tasks.append(current_task)\n",
    "    #         current_task = [name, start_time + int(playtime)]\n",
    "    #     else:\n",
    "    #         # 현재 과제를 마친 경우 결과 리스트에 추가\n",
    "    #         result.append(current_task[0])\n",
    "    #         current_task = [name, start_time + int(playtime)]\n",
    "            \n",
    "    # # 마지막으로 진행중이던 과제를 결과 리스트에 추가\n",
    "    # result.append(current_task[0])"
   ]
  },
  {
   "cell_type": "code",
   "execution_count": 45,
   "metadata": {},
   "outputs": [
    {
     "name": "stdout",
     "output_type": "stream",
     "text": [
      "60\n"
     ]
    }
   ],
   "source": [
    "a = datetime.strptime(\"11:30\",\"%H:%M\")\n",
    "b = datetime.strptime(\"12:30\",\"%H:%M\")\n",
    "\n",
    "print((b-a).seconds//60)"
   ]
  }
 ],
 "metadata": {
  "kernelspec": {
   "display_name": "base",
   "language": "python",
   "name": "python3"
  },
  "language_info": {
   "codemirror_mode": {
    "name": "ipython",
    "version": 3
   },
   "file_extension": ".py",
   "mimetype": "text/x-python",
   "name": "python",
   "nbconvert_exporter": "python",
   "pygments_lexer": "ipython3",
   "version": "3.9.13"
  },
  "orig_nbformat": 4
 },
 "nbformat": 4,
 "nbformat_minor": 2
}
