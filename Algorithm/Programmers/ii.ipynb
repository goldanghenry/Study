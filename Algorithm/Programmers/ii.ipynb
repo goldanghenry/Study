{
 "cells": [
  {
   "cell_type": "code",
   "execution_count": 12,
   "metadata": {},
   "outputs": [
    {
     "data": {
      "text/plain": [
       "'321'"
      ]
     },
     "execution_count": 12,
     "metadata": {},
     "output_type": "execute_result"
    }
   ],
   "source": [
    "# 숫자가 큰 경우 : O(n)\n",
    "def solution(X,Y):\n",
    "    # 초기화\n",
    "    x_lst = [0]*10\n",
    "    y_lst = [0]*10\n",
    "    answer = \"\"\n",
    "    zero = 0\n",
    "\n",
    "    # 카운트\n",
    "    for i in X: x_lst[int(i)]+=1\n",
    "    for i in Y: y_lst[int(i)]+=1\n",
    "    for i in range(9,0,-1):\n",
    "        answer+= str(i)*min(x_lst[i],y_lst[i])\n",
    "\n",
    "    # 0 처리\n",
    "    zero = min(x_lst[0],y_lst[0])\n",
    "    if len(answer)==0 and zero==0: return '-1'\n",
    "    elif len(answer)==0: return '0'\n",
    "    return answer+'0'*zero\n",
    "\n",
    "X =\"12321\"\n",
    "Y =\"42531\"\n",
    "solution(X,Y)"
   ]
  },
  {
   "cell_type": "code",
   "execution_count": null,
   "metadata": {},
   "outputs": [],
   "source": [
    "# 다른사람 풀이\n",
    "# if len(answer)==0 and zero==0: return '-1' 보다는 if answer == '' 이게 더 좋은듯\n",
    "# for문마다 count 보다는 순차적으로 플러스하는게 시간복잡도 유리할 듯\n",
    "\n",
    "def solution(X, Y):\n",
    "    answer = ''\n",
    "\n",
    "    for i in range(9,-1,-1) :\n",
    "        answer += (str(i) * min(X.count(str(i)), Y.count(str(i))))\n",
    "\n",
    "    if answer == '' :\n",
    "        return '-1'\n",
    "    elif len(answer) == answer.count('0'):\n",
    "        return '0'\n",
    "    else :\n",
    "        return answer"
   ]
  },
  {
   "attachments": {},
   "cell_type": "markdown",
   "metadata": {},
   "source": [
    "### 카드뭉치\n",
    "- https://school.programmers.co.kr/learn/courses/30/lessons/159994\n",
    "---\n",
    "코니는 영어 단어가 적힌 카드 뭉치 두 개를 선물로 받았습니다. 코니는 다음과 같은 규칙으로 카드에 적힌 단어들을 사용해 원하는 순서의 단어 배열을 만들 수 있는지 알고 싶습니다.\n",
    "\n",
    "원하는 카드 뭉치에서 카드를 순서대로 한 장씩 사용합니다.\n",
    "\n",
    "한 번 사용한 카드는 다시 사용할 수 없습니다.\n",
    "\n",
    "카드를 사용하지 않고 다음 카드로 넘어갈 수 없습니다.\n",
    "\n",
    "기존에 주어진 카드 뭉치의 단어 순서는 바꿀 수 없습니다.\n",
    "\n",
    "예를 들어 첫 번째 카드 뭉치에 순서대로 [\"i\", \"drink\", \"water\"], 두 번째 카드 뭉치에 순서대로 [\"want\", \"to\"]가 적혀있을 때 [\"i\", \"want\", \"to\", \"drink\", \"water\"] 순서의 단어 배열을 만들려고 한다면 첫 번째 카드 뭉치에서 \"i\"를 사용한 후 두 번째 카드 뭉치에서 \"want\"와 \"to\"를 사용하고 첫 번째 카드뭉치에 \"drink\"와 \"water\"를 차례대로 사용하면 원하는 순서의 단어 배열을 만들 수 있습니다.\n",
    "\n",
    "문자열로 이루어진 배열 cards1, cards2와 원하는 단어 배열 goal이 매개변수로 주어질 때, cards1과 cards2에 적힌 단어들로 goal를 만들 있다면 \"Yes\"를, 만들 수 없다면 \"No\"를 return하는 solution 함수를 완성해주세요."
   ]
  },
  {
   "cell_type": "code",
   "execution_count": 14,
   "metadata": {},
   "outputs": [
    {
     "name": "stdout",
     "output_type": "stream",
     "text": [
      "Yes\n"
     ]
    }
   ],
   "source": [
    "# 순서대로 한 장씩, 한번만 사용\n",
    "# 사용해야 다음 카드 가능, 덱의 순서는 바꿀 수 없음\n",
    "def solution(cards1, cards2, goal):\n",
    "    # out of index\n",
    "    cards1.append('#')\n",
    "    cards2.append('#')\n",
    "    i,j = 0,0\n",
    "\n",
    "    for g in goal:\n",
    "        if cards1[i]==g: i+=1; continue\n",
    "        elif cards2[j]==g: j+=1; continue\n",
    "        else: return 'No'\n",
    "    return 'Yes'\n",
    "\n",
    "cards1 = [\"i\", \"drink\", \"water\"]\n",
    "cards2 = [\"want\", \"to\"]\n",
    "goal = [\"i\", \"want\", \"to\", \"drink\", \"water\"]\n",
    "print(solution(cards1, cards2, goal))"
   ]
  },
  {
   "attachments": {},
   "cell_type": "markdown",
   "metadata": {},
   "source": [
    "### 완주하지 못한 선수\n",
    "- https://school.programmers.co.kr/learn/courses/30/lessons/42576\n",
    "---\n",
    "수많은 마라톤 선수들이 마라톤에 참여하였습니다. 단 한 명의 선수를 제외하고는 모든 선수가 마라톤을 완주하였습니다.\n",
    "\n",
    "마라톤에 참여한 선수들의 이름이 담긴 배열 participant와 완주한 선수들의 이름이 담긴 배열 completion이 주어질 때, 완주하지 못한 선수의 이름을 return 하도록 solution 함수를 작성해주세요.\n",
    "\n",
    "제한사항\n",
    "마라톤 경기에 참여한 선수의 수는 1명 이상 100,000명 이하입니다.\n",
    "\n",
    "completion의 길이는 participant의 길이보다 1 작습니다.\n",
    "\n",
    "참가자의 이름은 1개 이상 20개 이하의 알파벳 소문자로 이루어져 있습니다.\n",
    "\n",
    "참가자 중에는 동명이인이 있을 수 있습니다."
   ]
  },
  {
   "cell_type": "code",
   "execution_count": null,
   "metadata": {},
   "outputs": [],
   "source": [
    "# 1. 시간 초과 판정\n",
    "def solution(participant, completion):\n",
    "    for p in participant:\n",
    "        if p in completion:\n",
    "            completion.remove(p)\n",
    "        else:\n",
    "            return p\n",
    "    return completion[0]"
   ]
  },
  {
   "cell_type": "code",
   "execution_count": 15,
   "metadata": {},
   "outputs": [],
   "source": [
    "# 2. 소팅해서 비교\n",
    "def solution(participant, completion):\n",
    "    participant.sort()\n",
    "    completion.sort()\n",
    "    n = participant\n",
    "    for i in range(n-1):\n",
    "        if participant[i] != completion[i]:\n",
    "            return participant[i]\n",
    "    else:\n",
    "        return participant[-1]"
   ]
  },
  {
   "attachments": {},
   "cell_type": "markdown",
   "metadata": {},
   "source": [
    "### 옹알이(2)\n",
    "- https://school.programmers.co.kr/learn/courses/30/lessons/133499\n",
    "---\n",
    "머쓱이는 태어난 지 11개월 된 조카를 돌보고 있습니다. 조카는 아직 \"aya\", \"ye\", \"woo\", \"ma\" 네 가지 발음과 네 가지 발음을 조합해서 만들 수 있는 발음밖에 하지 못하고 연속해서 같은 발음을 하는 것을 어려워합니다. 문자열 배열 babbling이 매개변수로 주어질 때, 머쓱이의 조카가 발음할 수 있는 단어의 개수를 return하도록 solution 함수를 완성해주세요."
   ]
  },
  {
   "cell_type": "code",
   "execution_count": 58,
   "metadata": {},
   "outputs": [
    {
     "name": "stdout",
     "output_type": "stream",
     "text": [
      "\n",
      "xayayex 0\n",
      "0 1 xayayex\n",
      "1 2 x1yex\n",
      "1 -1 x1yex\n",
      "1 -1 x1yex\n",
      "x1yex 0\n",
      "1 -1 x1yex\n",
      "1 2 x1yex\n",
      "1 -1 x1yex\n",
      "1 -1 x1yex\n",
      "\n",
      "xuuux 0\n",
      "0 -1 xuuux\n",
      "0 -1 xuuux\n",
      "0 -1 xuuux\n",
      "0 -1 xuuux\n",
      "\n",
      "xyeyex 0\n",
      "0 -1 xyeyex\n",
      "0 1 xyeyex\n",
      "1 -1 x1yex\n",
      "1 -1 x1yex\n",
      "x1yex 0\n",
      "1 -1 x1yex\n",
      "1 2 x1yex\n",
      "1 -1 x1yex\n",
      "1 -1 x1yex\n",
      "\n",
      "xyemawoox 0\n",
      "0 -1 xyemawoox\n",
      "0 1 xyemawoox\n",
      "1 4 x1mawoox\n",
      "2 2 x1ma2x\n",
      "x1ma2x 0\n",
      "2 -1 x1ma2x\n",
      "2 -1 x1ma2x\n",
      "2 -1 x1ma2x\n",
      "2 2 x1ma2x\n",
      "\n",
      "xayaayaax 0\n",
      "0 1 xayaayaax\n",
      "1 -1 x1ayaax\n",
      "1 -1 x1ayaax\n",
      "1 -1 x1ayaax\n",
      "x1ayaax 0\n",
      "1 2 x1ayaax\n",
      "1 -1 x1ayaax\n",
      "1 -1 x1ayaax\n",
      "1 -1 x1ayaax\n",
      "0\n"
     ]
    }
   ],
   "source": [
    "def solution(babbling):\n",
    "    pn = [\"aya\", \"ye\", \"woo\", \"ma\"]\n",
    "    countAnswer = 0\n",
    "    \n",
    "    for word in babbling:\n",
    "        print()\n",
    "        word = 'x'+word+'x'\n",
    "        countWord = 0\n",
    "        breakWord = 1\n",
    "        while True:\n",
    "            print(word, countAnswer)\n",
    "            # 변환 가능한 단어가 없다면 break\n",
    "            for p in pn:\n",
    "                i = word.find(p)\n",
    "                print(countWord, i, word)\n",
    "                if i != -1 and word[i-1] != str(countWord) and word[i+len(p)] != str(countWord):\n",
    "                    breakWord=0  # 0: 변환 가능한 단어가 있다\n",
    "                    countWord+=1\n",
    "                    word = word.replace(p,str(countWord),1)\n",
    "            if breakWord: break \n",
    "            breakWord=1\n",
    "            # 모두 변환 됐다면 카운트 후 다음 단어\n",
    "            if word[1:-1].isdigit(): countAnswer +=1; print(word[1:-1], countAnswer); break\n",
    "    return countAnswer\n",
    "\n",
    "babbling = [\"ayaye\", \"uuu\", \"yeye\", \"yemawoo\", \"ayaayaa\"]\n",
    "print(solution(babbling))"
   ]
  },
  {
   "cell_type": "code",
   "execution_count": 49,
   "metadata": {},
   "outputs": [
    {
     "name": "stdout",
     "output_type": "stream",
     "text": [
      "-1\n",
      "yaaya\n"
     ]
    }
   ],
   "source": [
    "a = \"kr1k\"\n",
    "print(a.find('krk'))\n",
    "\n",
    "b = \"ayaayaa\"\n",
    "print(b[1:-1])"
   ]
  }
 ],
 "metadata": {
  "kernelspec": {
   "display_name": "Python 3",
   "language": "python",
   "name": "python3"
  },
  "language_info": {
   "codemirror_mode": {
    "name": "ipython",
    "version": 3
   },
   "file_extension": ".py",
   "mimetype": "text/x-python",
   "name": "python",
   "nbconvert_exporter": "python",
   "pygments_lexer": "ipython3",
   "version": "3.10.6"
  },
  "orig_nbformat": 4
 },
 "nbformat": 4,
 "nbformat_minor": 2
}
