{
 "cells": [
  {
   "cell_type": "markdown",
   "metadata": {},
   "source": [
    "# Assignment #4. Rod Cutting\n",
    "\n",
    "Given a rod of length 𝑛 inches and a table of prices 𝑝𝑖 for 𝑖 = 1, 2, … , 𝑛, the rod-cutting problem determines the maximum revenue 𝑟𝑛 obtainable by cutting up the rod and selling the pieces. Note that if the price  𝑝𝑛 for a rod of length 𝑛 is large enough, an optimal solution may require no cutting at all.\n",
    "\n",
    "Consider the case when 𝑛 = 4. Figure 1 shows all the ways to cut up a rod of 4 inches in length, including the way with no cuts at all. We see that cutting a 4-inch rod into two 2-inch pieces (c) produces revenue  𝑝2 + 𝑝2 = 5 + 5 = 10, which is optimal."
   ]
  },
  {
   "cell_type": "markdown",
   "metadata": {},
   "source": [
    "## 1. Brute-force top down recursive approach"
   ]
  },
  {
   "cell_type": "code",
   "execution_count": 38,
   "metadata": {},
   "outputs": [
    {
     "name": "stdout",
     "output_type": "stream",
     "text": [
      "call 5\n",
      "call 4\n",
      "call 3\n",
      "call 2\n",
      "call 1\n",
      "call 0\n",
      "call 0\n",
      "call 1\n",
      "call 0\n",
      "call 0\n",
      "call 2\n",
      "call 1\n",
      "call 0\n",
      "call 0\n",
      "call 1\n",
      "call 0\n",
      "call 0\n",
      "call 3\n",
      "call 2\n",
      "call 1\n",
      "call 0\n",
      "call 0\n",
      "call 1\n",
      "call 0\n",
      "call 0\n",
      "call 2\n",
      "call 1\n",
      "call 0\n",
      "call 0\n",
      "call 1\n",
      "call 0\n",
      "call 0\n",
      "25\n"
     ]
    }
   ],
   "source": [
    "def cutRod(p, n):\n",
    "    print('call', n)\n",
    "    if n == 0:  # base case\n",
    "        return 0\n",
    "    q = float(\"-inf\")\n",
    "    for i in range(1, n+1):\n",
    "        q = max(q, p[i]+cutRod(p,n-i))\n",
    "    return q\n",
    "    \n",
    "price = [ 1, 5, 8, 9, 10, 17, 17, 20 ]\n",
    "print(cutRod(price, 5))"
   ]
  },
  {
   "cell_type": "markdown",
   "metadata": {},
   "source": [
    "## 2. Dynamic programming top down "
   ]
  },
  {
   "cell_type": "code",
   "execution_count": 37,
   "metadata": {},
   "outputs": [
    {
     "name": "stdout",
     "output_type": "stream",
     "text": [
      "call 5/[-inf, -inf, -inf, -inf, -inf, -inf]\n",
      "call 4/[-inf, -inf, -inf, -inf, -inf, -inf]\n",
      "call 3/[-inf, -inf, -inf, -inf, -inf, -inf]\n",
      "call 2/[-inf, -inf, -inf, -inf, -inf, -inf]\n",
      "call 1/[-inf, -inf, -inf, -inf, -inf, -inf]\n",
      "call 0/[-inf, -inf, -inf, -inf, -inf, -inf]\n",
      "call 0/[0, 5, -inf, -inf, -inf, -inf]\n",
      "call 1/[0, 5, 10, -inf, -inf, -inf]\n",
      "call 0/[0, 5, 10, -inf, -inf, -inf]\n",
      "call 2/[0, 5, 10, 15, -inf, -inf]\n",
      "call 1/[0, 5, 10, 15, -inf, -inf]\n",
      "call 0/[0, 5, 10, 15, -inf, -inf]\n",
      "call 3/[0, 5, 10, 15, 20, -inf]\n",
      "call 2/[0, 5, 10, 15, 20, -inf]\n",
      "call 1/[0, 5, 10, 15, 20, -inf]\n",
      "call 0/[0, 5, 10, 15, 20, -inf]\n",
      "25\n"
     ]
    }
   ],
   "source": [
    "def dpCutRod(p, n):\n",
    "    r = [ float(\"-inf\") for _ in range(n+1)]    \n",
    "    return memoCutRod(p,n,r)\n",
    "\n",
    "def memoCutRod(p, n, r):\n",
    "    print('call', n, end='/')\n",
    "    print(r)\n",
    "    \n",
    "    if r[n] >= 0: \n",
    "        return r[n]\n",
    "    if n == 0: q = 0\n",
    "    else: \n",
    "        q = float(\"-inf\")\n",
    "        for i in range(1, n+1):\n",
    "            q = max(q, p[i]+memoCutRod(p, n-i, r))    \n",
    "    r[n] = q\n",
    "    return q\n",
    "\n",
    "price = [ 1, 5, 8, 9, 10, 17, 17, 20 ]\n",
    "print(dpCutRod(price, 5))"
   ]
  },
  {
   "cell_type": "markdown",
   "metadata": {},
   "source": [
    "## 3. Execution Time Comparison\n",
    "\n",
    "measure the execution time for n =5, 10, 15, 20, 25, 30 for each. compare the two code by plotting execution times on a graph"
   ]
  },
  {
   "cell_type": "code",
   "execution_count": 36,
   "metadata": {},
   "outputs": [
    {
     "name": "stdout",
     "output_type": "stream",
     "text": [
      "    n | cutRod time|   cutRod Result | dpCutRod time | dpCutRod Result\n",
      "    5 |   0.000000|              32 |   0.000000 |              32\n",
      "   10 |   0.000000|              76 |   0.000807 |              76\n",
      "   15 |   0.015642|             120 |   0.000000 |             120\n",
      "   20 |   0.468516|             152 |   0.000000 |             152\n",
      "   25 |  15.290212|             196 |   0.000000 |             196\n",
      "   30 | 478.750946|             240 |   0.000000 |             240\n"
     ]
    }
   ],
   "source": [
    "import random\n",
    "import time\n",
    "\n",
    "random.seed(42) # set seed\n",
    "price = [ random.randint(1,30) for _ in range(31)]\n",
    "\n",
    "# Measure execution times \n",
    "n_values = [5, 10, 15, 20, 25, 30]\n",
    "times_cutRod = []\n",
    "times_dpCutRod = []\n",
    "results_cutRod = []\n",
    "results_dpCutRod = []\n",
    "\n",
    "for n in n_values:\n",
    "    # brute force\n",
    "    start_time = time.time()\n",
    "    results_cutRod.append(cutRod(price, n))\n",
    "    end_time = time.time()\n",
    "    times_cutRod.append(end_time - start_time)\n",
    "    \n",
    "    # dynamic programming - memoization\n",
    "    start_time = time.time()\n",
    "    results_dpCutRod.append(dpCutRod(price, n))\n",
    "    end_time = time.time()\n",
    "    times_dpCutRod.append(end_time - start_time)\n",
    "    \n",
    "# Print out the results\n",
    "print(f'{\"n\":>5} | {\"cutRod time\":>10}| {\"cutRod Result\":>15} | {\"dpCutRod time\":>10} | {\"dpCutRod Result\":>15}')  # header\n",
    "for i, n in enumerate(n_values):\n",
    "    print(f'{n:>5} | {times_cutRod[i]:>10.6f}| {results_cutRod[i]:>15} | {times_dpCutRod[i]:>10.6f} | {results_dpCutRod[i]:>15}')"
   ]
  },
  {
   "cell_type": "code",
   "execution_count": 39,
   "metadata": {},
   "outputs": [
    {
     "data": {
      "image/png": "[encoded data removed]",
      "text/plain": [
       "<Figure size 640x480 with 1 Axes>"
      ]
     },
     "metadata": {},
     "output_type": "display_data"
    }
   ],
   "source": [
    "import matplotlib.pyplot as plt\n",
    "\n",
    "# Plotting the results\n",
    "plt.plot(n_values, times_cutRod, label='cutRod (recursive)')\n",
    "plt.plot(n_values, times_dpCutRod, label='dpCutRod (memoization)')\n",
    "plt.xlabel('n')\n",
    "plt.ylabel('Execution time (seconds)')\n",
    "plt.title('Execution Time Comparison')\n",
    "plt.legend()\n",
    "plt.grid(True)\n",
    "plt.show()"
   ]
  }
 ],
 "metadata": {
  "kernelspec": {
   "display_name": "base",
   "language": "python",
   "name": "python3"
  },
  "language_info": {
   "codemirror_mode": {
    "name": "ipython",
    "version": 3
   },
   "file_extension": ".py",
   "mimetype": "text/x-python",
   "name": "python",
   "nbconvert_exporter": "python",
   "pygments_lexer": "ipython3",
   "version": "3.9.18"
  }
 },
 "nbformat": 4,
 "nbformat_minor": 2
}
