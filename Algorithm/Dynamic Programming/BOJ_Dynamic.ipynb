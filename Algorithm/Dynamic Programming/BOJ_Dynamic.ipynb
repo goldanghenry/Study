{
 "cells": [
  {
   "cell_type": "markdown",
   "metadata": {},
   "source": [
    "### 핸드폰 번호 궁합\n",
    "\n",
    "- https://www.acmicpc.net/problem/17202\n"
   ]
  },
  {
   "cell_type": "code",
   "execution_count": 15,
   "metadata": {},
   "outputs": [
    {
     "name": "stdout",
     "output_type": "stream",
     "text": [
      "02\n"
     ]
    }
   ],
   "source": [
    "chemistry =[]\n",
    "for a,b in zip(input(),input()):\n",
    "    chemistry +=[int(a),int(b)]\n",
    "\n",
    "len_chemi = len(chemistry)\n",
    "while len_chemi>2:\n",
    "    temp = []\n",
    "    \n",
    "    for idx in range(len_chemi-1):\n",
    "        temp.append((chemistry[idx]+chemistry[idx+1])%10)\n",
    "\n",
    "    chemistry = temp\n",
    "    len_chemi = len(chemistry)\n",
    "\n",
    "print(''.join(map(str,chemistry)))"
   ]
  },
  {
   "cell_type": "markdown",
   "metadata": {},
   "source": [
    "### 거스름돈\n",
    "- silver 5\n",
    "- https://www.acmicpc.net/problem/14916\n",
    "---\n",
    "춘향이는 편의점 카운터에서 일한다.\n",
    "\n",
    "손님이 2원짜리와 5원짜리로만 거스름돈을 달라고 한다. 2원짜리 동전과 5원짜리 동전은 무한정 많이 가지고 있다. 동전의 개수가 최소가 되도록 거슬러 주어야 한다. 거스름돈이 n인 경우, 최소 동전의 개수가 몇 개인지 알려주는 프로그램을 작성하시오.\n",
    "\n",
    "예를 들어, 거스름돈이 15원이면 5원짜리 3개를, 거스름돈이 14원이면 5원짜리 2개와 2원짜리 2개로 총 4개를, 거스름돈이 13원이면 5원짜리 1개와 2원짜리 4개로 총 5개를 주어야 동전의 개수가 최소가 된다."
   ]
  },
  {
   "cell_type": "code",
   "execution_count": 5,
   "metadata": {},
   "outputs": [
    {
     "name": "stdout",
     "output_type": "stream",
     "text": [
      "4\n",
      "2\n",
      "1\n",
      "1\n"
     ]
    }
   ],
   "source": [
    "# 동전의 개수가 최소\n",
    "money =int(input())\n",
    "\n",
    "count = 0\n",
    "while money < 0:\n",
    "    if money%5 == 0:\n",
    "        count += money//5\n",
    "        break\n",
    "    else:\n",
    "        money -= 2\n",
    "        count += 1\n",
    "\n",
    "if money < 0:\n",
    "    print(-1)\n",
    "else:\n",
    "    print(count)"
   ]
  }
 ],
 "metadata": {
  "kernelspec": {
   "display_name": "base",
   "language": "python",
   "name": "python3"
  },
  "language_info": {
   "codemirror_mode": {
    "name": "ipython",
    "version": 3
   },
   "file_extension": ".py",
   "mimetype": "text/x-python",
   "name": "python",
   "nbconvert_exporter": "python",
   "pygments_lexer": "ipython3",
   "version": "3.9.18"
  },
  "orig_nbformat": 4
 },
 "nbformat": 4,
 "nbformat_minor": 2
}
