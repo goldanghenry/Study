{
 "cells": [
  {
   "cell_type": "markdown",
   "metadata": {},
   "source": [
    "### 핸드폰 번호 궁합\n",
    "\n",
    "- https://www.acmicpc.net/problem/17202\n"
   ]
  },
  {
   "cell_type": "code",
   "execution_count": 15,
   "metadata": {},
   "outputs": [
    {
     "name": "stdout",
     "output_type": "stream",
     "text": [
      "02\n"
     ]
    }
   ],
   "source": [
    "chemistry =[]\n",
    "for a,b in zip(input(),input()):\n",
    "    chemistry +=[int(a),int(b)]\n",
    "\n",
    "len_chemi = len(chemistry)\n",
    "while len_chemi>2:\n",
    "    temp = []\n",
    "    \n",
    "    for idx in range(len_chemi-1):\n",
    "        temp.append((chemistry[idx]+chemistry[idx+1])%10)\n",
    "\n",
    "    chemistry = temp\n",
    "    len_chemi = len(chemistry)\n",
    "\n",
    "print(''.join(map(str,chemistry)))"
   ]
  },
  {
   "cell_type": "markdown",
   "metadata": {},
   "source": [
    "### 거스름돈\n",
    "- silver 5\n",
    "- https://www.acmicpc.net/problem/14916\n",
    "---\n",
    "춘향이는 편의점 카운터에서 일한다.\n",
    "\n",
    "손님이 2원짜리와 5원짜리로만 거스름돈을 달라고 한다. 2원짜리 동전과 5원짜리 동전은 무한정 많이 가지고 있다. 동전의 개수가 최소가 되도록 거슬러 주어야 한다. 거스름돈이 n인 경우, 최소 동전의 개수가 몇 개인지 알려주는 프로그램을 작성하시오.\n",
    "\n",
    "예를 들어, 거스름돈이 15원이면 5원짜리 3개를, 거스름돈이 14원이면 5원짜리 2개와 2원짜리 2개로 총 4개를, 거스름돈이 13원이면 5원짜리 1개와 2원짜리 4개로 총 5개를 주어야 동전의 개수가 최소가 된다."
   ]
  },
  {
   "cell_type": "code",
   "execution_count": 5,
   "metadata": {},
   "outputs": [
    {
     "name": "stdout",
     "output_type": "stream",
     "text": [
      "4\n",
      "2\n",
      "1\n",
      "1\n"
     ]
    }
   ],
   "source": [
    "# 동전의 개수가 최소\n",
    "money =int(input())\n",
    "\n",
    "count = 0\n",
    "while money < 0:\n",
    "    if money%5 == 0:\n",
    "        count += money//5\n",
    "        break\n",
    "    else:\n",
    "        money -= 2\n",
    "        count += 1\n",
    "\n",
    "if money < 0:\n",
    "    print(-1)\n",
    "else:\n",
    "    print(count)"
   ]
  },
  {
   "cell_type": "markdown",
   "metadata": {},
   "source": [
    "### 평범한 배낭\n",
    "- gold 5\n",
    "- https://www.acmicpc.net/problem/12865\n",
    "---\n",
    "이 문제는 아주 평범한 배낭에 관한 문제이다.\n",
    "\n",
    "한 달 후면 국가의 부름을 받게 되는 준서는 여행을 가려고 한다. 세상과의 단절을 슬퍼하며 최대한 즐기기 위한 여행이기 때문에, 가지고 다닐 배낭 또한 최대한 가치 있게 싸려고 한다.\n",
    "\n",
    "준서가 여행에 필요하다고 생각하는 N개의 물건이 있다. 각 물건은 무게 W와 가치 V를 가지는데, 해당 물건을 배낭에 넣어서 가면 준서가 V만큼 즐길 수 있다. 아직 행군을 해본 적이 없는 준서는 최대 K만큼의 무게만을 넣을 수 있는 배낭만 들고 다닐 수 있다. 준서가 최대한 즐거운 여행을 하기 위해 배낭에 넣을 수 있는 물건들의 가치의 최댓값을 알려주자.\n",
    "\n",
    "---\n",
    "첫 줄에 물품의 수 N(1 ≤ N ≤ 100)과 준서가 버틸 수 있는 무게 K(1 ≤ K ≤ 100,000)가 주어진다. 두 번째 줄부터 N개의 줄에 거쳐 각 물건의 무게 W(1 ≤ W ≤ 100,000)와 해당 물건의 가치 V(0 ≤ V ≤ 1,000)가 주어진다.\n",
    "\n",
    "입력으로 주어지는 모든 수는 정수이다.\n",
    "\n",
    "---\n",
    "한 줄에 배낭에 넣을 수 있는 물건들의 가치합의 최댓값을 출력한다."
   ]
  },
  {
   "cell_type": "code",
   "execution_count": 11,
   "metadata": {},
   "outputs": [
    {
     "name": "stdout",
     "output_type": "stream",
     "text": [
      "14\n"
     ]
    }
   ],
   "source": [
    "import sys\n",
    "\n",
    "input = sys.stdin.readline\n",
    "N, K = map(int,input().split())     # N : number of items / K : capacity of bag\n",
    "\n",
    "# init\n",
    "knapscak = [[0 for _ in range(N+1) ] for _ in range(K+1)]   # 테이블 생성 및 0으로 초기화\n",
    "stuff = [[0,0]] + [ list(map(int,input().split())) for _ in range(N)]     # 물건의 정보 : [weight, value]\n",
    "\n",
    "# bottom-up DP algorithm\n",
    "for i in range(1,K+1):\n",
    "    for j in range(1,N+1):\n",
    "        knapscak[i][j] = knapscak[i][j-1] # case 1 : optimal solution for first j items does not use item j\n",
    "        w = stuff[j][0]\n",
    "        v = stuff[j][1]\n",
    "        \n",
    "        if w <= i:\n",
    "            knapscak[i][j] = max(knapscak[i][j], knapscak[i-w][j-1]+v)  # case 2: optimal solution for first j items does use item j\n",
    "print(knapscak[K][N])"
   ]
  },
  {
   "cell_type": "markdown",
   "metadata": {},
   "source": [
    "### 평범한 배낭 2\n",
    "- platinum 4\n",
    "- https://www.acmicpc.net/problem/12920\n",
    "---\n",
    "이 문제는 아주 평범한 배낭에 관한 두 번째 문제이다.\n",
    "\n",
    "민호는 BOJ 캠프에 가기 위해 가방을 싸려고 한다. 가방에 어떠한 물건들을 넣냐에 따라 민호의 만족도가 달라진다. 집에 있는 모든 물건들을 넣으면 민호가 느낄 수 있는 만족도는 최대가 될 것이다. 하지만 민호가 들 수 있는 가방의 무게는 정해져 있어 이를 초과해 물건을 넣을수가 없다.\n",
    "\n",
    "민호가 만족도를 최대로 느낄 수 있는 경우를 찾아보자.\n",
    "\n",
    "단, 집에 동일한 물건들이 여러개가 있을 수 있기 때문에 한 물건을 두개 이상 챙기는 것도 가능하다.\n",
    "\n",
    "---\n",
    "첫 번째 줄에 N, M (1 ≤ N ≤ 100, 1 ≤ M ≤ 10,000) 이 빈칸을 구분으로 주어진다. N은 민호의 집에 있는 물건의 종류의 수이고 M은 민호가 들 수 있는 가방의 최대 무게다.\n",
    "\n",
    "두 번째 줄부터 N개의 줄에 걸쳐 민호의 집에 있는 물건의 정보가 주어진다.\n",
    "\n",
    "각각의 줄은 V, C, K (1 ≤ V ≤ M, 1 ≤ C, K ≤ 10,000, 1 ≤ V * K ≤ 10,000) 으로 이루어져 있다.\n",
    "\n",
    "V는 물건의 무게, C는 물건을 가방에 넣었을 때 올라가는 민호의 만족도, K는 물건의 개수이다.\n",
    "\n",
    "---\n",
    "최대 무게를 넘기지 않게 물건을 담았을 때 민호가 느낄 수 있는 최대 만족도를 출력한다.\n"
   ]
  },
  {
   "cell_type": "code",
   "execution_count": null,
   "metadata": {},
   "outputs": [],
   "source": [
    "import sys\n",
    "\n",
    "# input = sys.stdin.readline\n",
    "N, M = map(int,input().split())  # N : 물건의 종류 / M : 가방의 capacity\n",
    "\n",
    "dp = [ 0 for _ in range(M+1)]\n",
    "weights, values = [], []\n",
    "\n",
    "for _ in range(N):\n",
    "    v, c, k = map(int, input().split()) # v: 무게, c: 만족도, k: 물건의 개수\n",
    "\n",
    "    \n",
    "\n",
    "    \n"
   ]
  }
 ],
 "metadata": {
  "kernelspec": {
   "display_name": "base",
   "language": "python",
   "name": "python3"
  },
  "language_info": {
   "codemirror_mode": {
    "name": "ipython",
    "version": 3
   },
   "file_extension": ".py",
   "mimetype": "text/x-python",
   "name": "python",
   "nbconvert_exporter": "python",
   "pygments_lexer": "ipython3",
   "version": "3.9.18"
  },
  "orig_nbformat": 4
 },
 "nbformat": 4,
 "nbformat_minor": 2
}
