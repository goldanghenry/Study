{
 "cells": [
  {
   "attachments": {},
   "cell_type": "markdown",
   "metadata": {},
   "source": [
    "# 이것이 코딩 테스트다 _ 나동빈\n",
    "- 교재 수록 문제"
   ]
  },
  {
   "attachments": {},
   "cell_type": "markdown",
   "metadata": {},
   "source": [
    "### Implementation"
   ]
  },
  {
   "attachments": {},
   "cell_type": "markdown",
   "metadata": {},
   "source": [
    "### 게임 개발\n",
    "---\n",
    "캐릭터가 맵 안에서 움직이는 시스템을 개발 중. 캐릭터가 있는 장소는 1x1 크기의 정사각형으로 이뤄진 NxM크기의 직사각형\n",
    "각각 칸은 육지 또는 바다, 캐릭터는 동서남북 중 한 곳을 바라본다.\n",
    "맵의 각 칸은(A,B)로 나타내고, A는 북쪽으로부터 떨어진 칸의 개수, B는 서쪽으로부터 떨어진 칸의 개수\n",
    "캐릭터는 상하좌우로 움직임, 바다에는 갈 수 없다.\n",
    "\n",
    "캐릭터 이동 메뉴얼\n",
    "1) 현 위치에서 현재 방향을 기준으로 왼쪽 방향(반시계 90도)부터 차례로 갈 곳을 정한다.\n",
    "2) 캐릭터 바로 왼쪽 방향에 아직 가보지 않은 칸이 존재한다면, 왼쪽 회전 후 한칸 전진. 칸이 존재하지 않는다면 회전 후 1)로\n",
    "3) 만약 네 방향 모두 이미 가본 칸이거나 바다로 되어 있는 칸인 경우에는, 바라보는 방향을 유지한 채로 한 칸 뒤로 가고 1)단계로\n",
    "   단, 이때 뒤쪽 방향이 바다인 칸이라 뒤로 갈 수 없는 경우에는 움직임을 멈춘다.\n",
    "\n",
    "캐릭터를 메뉴얼에 따라 이동시킨 뒤에, 캐릭터가 방문한 칸의 수를 출력하는 프로그램을 만드시오."
   ]
  },
  {
   "cell_type": "code",
   "execution_count": null,
   "metadata": {},
   "outputs": [],
   "source": [
    "# N과 M을 공백으로 구분해 입력받기\n",
    "n,m = map(int, input().split())\n",
    "\n",
    "# 방문한 위치를 저장하기 위한 맵을 생성해 0을 초기화\n",
    "d = [[0]*m for _ in range(n)]\n",
    "\n",
    "# 현재 캐릭터의 x좌표, y좌표, 방향 입력받기\n",
    "x,y,direction = map(int, input().split())\n",
    "d[x][y] = 1 # 현재 좌표 방문처리\n",
    "\n",
    "# 전체 맵 정보 받기\n",
    "array = []\n",
    "for i in range(n):\n",
    "    array.append(list(map(int, input().split())))\n",
    "\n",
    "# 북,동,남,서\n",
    "dx = [-1,0,1,0]\n",
    "dy = [0,1,0,-1]\n",
    "\n",
    "# 왼쪽으로 회전\n",
    "def turn_left():\n",
    "    global direction\n",
    "    direction -= 1\n",
    "    if direction == -1:\n",
    "        direction = 3\n",
    "\n",
    "# 시뮬레이션 시작\n",
    "count = 1\n",
    "turn_time = 0\n",
    "\n",
    "while True:\n",
    "    # 왼쪽으로 회전\n",
    "    turn_left()\n",
    "    nx = x + dx[direction]\n",
    "    ny = y + dy[direction]\n",
    "\n",
    "    # 회전 후 정면에 가보지 않은 칸이 존재하는 경우 이동\n",
    "    if d[nx][ny] == 0 and array[nx][ny]==0:\n",
    "        d[nx][ny] = 1\n",
    "        x = d[nx]\n",
    "        y = d[ny]\n",
    "        count +=1\n",
    "        turn_time = 0\n",
    "        continue\n",
    "\n",
    "    # 회전한 이후 정면에 가보지 않은 칸이 없거나 바다인 경우\n",
    "    else:\n",
    "        turn_time += 1\n",
    "    \n",
    "    # 네 방향 모두 갈 수 없는 경우\n",
    "    if turn_time == 4:\n",
    "        nx = x - dx[direction]\n",
    "        ny = y - dy[direction]\n",
    "        # 뒤로 갈 수 있다면 이동\n",
    "        if array[nx][ny] == 0:\n",
    "            x = nx\n",
    "            y = ny\n",
    "        # 뒤에 바다로 막혀있다면\n",
    "        else:\n",
    "            break\n",
    "        turn_time = 0\n",
    "\n",
    "print(count)"
   ]
  }
 ],
 "metadata": {
  "language_info": {
   "name": "python"
  },
  "orig_nbformat": 4
 },
 "nbformat": 4,
 "nbformat_minor": 2
}
