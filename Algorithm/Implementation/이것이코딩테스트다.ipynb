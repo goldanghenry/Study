{
 "cells": [
  {
   "attachments": {},
   "cell_type": "markdown",
   "metadata": {},
   "source": [
    "# 이것이 코딩 테스트다 _ 나동빈\n",
    "- 교재 수록 문제"
   ]
  },
  {
   "attachments": {},
   "cell_type": "markdown",
   "metadata": {},
   "source": [
    "### 아이디어를 코드로 바구는 Implementation\n",
    "\n",
    "-> 완전탐색 : 모든 경우의 수를 주저없이 다 계산하는 해결 방법<br>\n",
    "-> 시뮬레이션 : 문제에서 제시한 알고리즘을 한 단계씩 차례대로 직접 수행<br>\n",
    "\n",
    "* 구현 시 고려해야할 메모리 제약사항\n",
    "-> 파이썬 리스트의 크기 : 1000개 -> 4kb / 100만 -> 4mb"
   ]
  },
  {
   "attachments": {},
   "cell_type": "markdown",
   "metadata": {},
   "source": [
    "### 상하좌우\n",
    "---\n",
    "여행가 A는 N x N 크기의 정사각형 공간 위에 서 있다. <br>\n",
    "이 공간은 1x1 크기의 정사각형으로 나누어져 있다. <br>\n",
    "가장 왼쪽 위 좌표는 (1,1)이며, 가장 오른쪽 아래 좌표는 (N,N)에 해당한다. <br>\n",
    "여행가 A는 상, 하, 좌, 우 방향으로 이동할 수 있으며, 시작 좌표는 항상(1,1)이다. <br>\n",
    "우리 앞에는 여행가 A가 이동할 계획이 적힌 계획서가 놓여있다."
   ]
  },
  {
   "cell_type": "code",
   "execution_count": null,
   "metadata": {},
   "outputs": [],
   "source": [
    "# 입력 // 1<=N<=100\n",
    "N = int(input())\n",
    "DR = list(input().split())\n",
    "x,y = 1,1"
   ]
  },
  {
   "cell_type": "code",
   "execution_count": null,
   "metadata": {},
   "outputs": [],
   "source": [
    "# 방법 1) 조건문으로 구현\n",
    "for i in DR:\n",
    "    if i == 'L' and y-1 != 0:\n",
    "        y -= 1\n",
    "    elif i == 'R'and y+1 != N+1:\n",
    "        y += 1\n",
    "    elif i == 'U'and x-1 != 0:\n",
    "        x -= -1\n",
    "    elif i == 'D'and y+1 != N+1:\n",
    "        x += 1\n",
    "\n",
    "# 좌표 출력\n",
    "print(x,y)"
   ]
  },
  {
   "cell_type": "code",
   "execution_count": null,
   "metadata": {},
   "outputs": [],
   "source": [
    "# 방법 2) 방향 정의\n",
    "# L, R, U, D에 따른 이동 방향\n",
    "# 가독성이 좋지만, move_types를 방향과 매칭하는 추가적인 루프가 발생한다.\n",
    "dx = [0,0,-1,1]\n",
    "dy = [-1,1,0,0]\n",
    "move_types = ['L','R','U','D']\n",
    "\n",
    "# 시뮬레이션 진행\n",
    "for plan in DR:\n",
    "    # 이동 후 좌표 구하기\n",
    "    for i in range(len(move_types)):\n",
    "        if plan == move_types[i]:\n",
    "            nx = x+dx[i]\n",
    "            ny = x+dy[i]\n",
    "    # 공간을 벗어나는 경우\n",
    "    if nx < 1 and nx > N or ny < 1 or ny > N :\n",
    "        continue\n",
    "    # 이동 수행\n",
    "    x, y = nx, ny\n",
    "\n",
    "print(x,y)"
   ]
  },
  {
   "attachments": {},
   "cell_type": "markdown",
   "metadata": {},
   "source": [
    "### 시각\n",
    "---\n",
    "정수 N이 입려고디면 00시 00분 00초부터 N시 59분 59초까지의 모든 시각 중에서3이 하나라도 포함되는 모든 경우의 수를 구하는 프로그램을 작성하시오.<br>\n",
    "예를 들어 1을 입력했을 때 다음은 3이 하나라도 포함되어 있으므로 세어야 하는 시각이다.\n"
   ]
  },
  {
   "cell_type": "code",
   "execution_count": null,
   "metadata": {},
   "outputs": [],
   "source": [
    "# 입력(0<=N<=23)\n",
    "N = int(input())\n",
    "count = 0"
   ]
  },
  {
   "cell_type": "code",
   "execution_count": null,
   "metadata": {},
   "outputs": [],
   "source": [
    "# 방법 1 : 완전 탐색(24x60x60가지 경우의 수)\n",
    "count = 0\n",
    "for i in range(N+1):\n",
    "    for j in range(60):\n",
    "        for k in range(60):\n",
    "            # 매 시각 안에 '3'이 있다면 count+1\n",
    "            if '3' in str(i)+str(j)+str(k): count += 1\n",
    "print(count)"
   ]
  },
  {
   "cell_type": "code",
   "execution_count": null,
   "metadata": {},
   "outputs": [],
   "source": [
    "# 방법 2: 규칙성을 찾아서 풀기 \n",
    "# -> 시간복잡도에서 유리하지만, 규칙을 찾는 시간이 필요함\n",
    "for i in range(N+1):\n",
    "    if i==3 or i==13 or i==23:      # 시간에 3이 들어가는 경우 모두 카운트\n",
    "        count +=3600\n",
    "    else:                           # 시간에 3이 들어가지 않는 경우 \n",
    "        count += (15*60)+(45*15)    # (분에 3이 들어가는 경우) + (분에 3이 들어가지 않고 초에만 3이 있는 경우)\n",
    "print(count)"
   ]
  },
  {
   "attachments": {},
   "cell_type": "markdown",
   "metadata": {},
   "source": [
    "### 왕실의 나이트\n",
    "---\n",
    "행복 왕국의 왕실 정원은 체스판과 같은 8 x 8 좌표 평면이다. (행:1~8, 열:a~h)<br>\n",
    "왕실 정원의 특정한 한 칸에 나이트가서 있다. <br>\n",
    "나이트는 매우 충성스러운 신하로서 매일 무술을 연마한다.<br>\n",
    "나이트는 말을 타고 있기 때문에 이동을 할 때는 L자 형태로만 이동할 수 있으며 정원 밖으로는 나갈 수 없다.<br>\n",
    "나이트는 특정한 위치에서 다음과 같은 2가지 경우로 이동할 수 있다<br>\n",
    "  1) 수평으로 두 칸 이동한 뒤에 수직으로 한 칸 이동하기\n",
    "  2) 수직으로 두 칸 이동한 뒤에 수평으로 한 칸 이동하기\n",
    "나이트의 위치가 주어졌을 때 나이트가 이동할 수 있는 경우의 수를 출력하라."
   ]
  },
  {
   "cell_type": "code",
   "execution_count": null,
   "metadata": {},
   "outputs": [],
   "source": [
    "# 나이트가 이동할 수 있는 8가지 방향 정의\n",
    "steps = [(-2,-1), (-1,-2), (1,-2),(2,-1),(2,1), (1,2),(-1,2),(-2,1)]\n",
    "\n",
    "# 8가지 방향에 대해 각 위치로 이동이 가능한지 확인\n",
    "result = 0\n",
    "for step in steps:\n",
    "    # 이동하고자 하는 위치 확인\n",
    "    next_row = y + step[0]\n",
    "    next_column = x + step[1]\n",
    "    # 해당 위치로 이동이 가능하다면 카운트 증가\n",
    "    if next_row >= 1 and next_row <=8 and next_column >=1 and next_column <=8:\n",
    "        result +=1\n",
    "print(result)"
   ]
  },
  {
   "attachments": {},
   "cell_type": "markdown",
   "metadata": {},
   "source": [
    "### 게임 개발\n",
    "---\n",
    "캐릭터가 맵 안에서 움직이는 시스템을 개발 중. 캐릭터가 있는 장소는 1x1 크기의 정사각형으로 이뤄진 NxM크기의 직사각형\n",
    "각각 칸은 육지 또는 바다, 캐릭터는 동서남북 중 한 곳을 바라본다.\n",
    "맵의 각 칸은(A,B)로 나타내고, A는 북쪽으로부터 떨어진 칸의 개수, B는 서쪽으로부터 떨어진 칸의 개수\n",
    "캐릭터는 상하좌우로 움직임, 바다에는 갈 수 없다.\n",
    "\n",
    "캐릭터 이동 메뉴얼\n",
    "1) 현 위치에서 현재 방향을 기준으로 왼쪽 방향(반시계 90도)부터 차례로 갈 곳을 정한다.\n",
    "2) 캐릭터 바로 왼쪽 방향에 아직 가보지 않은 칸이 존재한다면, 왼쪽 회전 후 한칸 전진. 칸이 존재하지 않는다면 회전 후 1)로\n",
    "3) 만약 네 방향 모두 이미 가본 칸이거나 바다로 되어 있는 칸인 경우에는, 바라보는 방향을 유지한 채로 한 칸 뒤로 가고 1)단계로\n",
    "   단, 이때 뒤쪽 방향이 바다인 칸이라 뒤로 갈 수 없는 경우에는 움직임을 멈춘다.\n",
    "\n",
    "캐릭터를 메뉴얼에 따라 이동시킨 뒤에, 캐릭터가 방문한 칸의 수를 출력하는 프로그램을 만드시오."
   ]
  },
  {
   "cell_type": "code",
   "execution_count": null,
   "metadata": {},
   "outputs": [],
   "source": [
    "# N과 M을 공백으로 구분해 입력받기\n",
    "n,m = map(int, input().split())\n",
    "\n",
    "# 방문한 위치를 저장하기 위한 맵을 생성해 0을 초기화\n",
    "d = [[0]*m for _ in range(n)]\n",
    "\n",
    "# 현재 캐릭터의 x좌표, y좌표, 방향 입력받기\n",
    "x,y,direction = map(int, input().split())\n",
    "d[x][y] = 1 # 현재 좌표 방문처리\n",
    "\n",
    "# 전체 맵 정보 받기\n",
    "array = []\n",
    "for i in range(n):\n",
    "    array.append(list(map(int, input().split())))\n",
    "\n",
    "# 북,동,남,서\n",
    "dx = [-1,0,1,0]\n",
    "dy = [0,1,0,-1]\n",
    "\n",
    "# 왼쪽으로 회전\n",
    "def turn_left():\n",
    "    global direction\n",
    "    direction -= 1\n",
    "    if direction == -1:\n",
    "        direction = 3\n",
    "\n",
    "# 시뮬레이션 시작\n",
    "count = 1\n",
    "turn_time = 0\n",
    "\n",
    "while True:\n",
    "    # 왼쪽으로 회전\n",
    "    turn_left()\n",
    "    nx = x + dx[direction]\n",
    "    ny = y + dy[direction]\n",
    "\n",
    "    # 회전 후 정면에 가보지 않은 칸이 존재하는 경우 이동\n",
    "    if d[nx][ny] == 0 and array[nx][ny]==0:\n",
    "        d[nx][ny] = 1\n",
    "        x = d[nx]\n",
    "        y = d[ny]\n",
    "        count +=1\n",
    "        turn_time = 0\n",
    "        continue\n",
    "\n",
    "    # 회전한 이후 정면에 가보지 않은 칸이 없거나 바다인 경우\n",
    "    else:\n",
    "        turn_time += 1\n",
    "    \n",
    "    # 네 방향 모두 갈 수 없는 경우\n",
    "    if turn_time == 4:\n",
    "        nx = x - dx[direction]\n",
    "        ny = y - dy[direction]\n",
    "        # 뒤로 갈 수 있다면 이동\n",
    "        if array[nx][ny] == 0:\n",
    "            x = nx\n",
    "            y = ny\n",
    "        # 뒤에 바다로 막혀있다면\n",
    "        else:\n",
    "            break\n",
    "        turn_time = 0\n",
    "\n",
    "print(count)"
   ]
  }
 ],
 "metadata": {
  "language_info": {
   "name": "python"
  },
  "orig_nbformat": 4
 },
 "nbformat": 4,
 "nbformat_minor": 2
}
