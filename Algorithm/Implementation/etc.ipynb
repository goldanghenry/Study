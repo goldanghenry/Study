{
 "cells": [
  {
   "attachments": {},
   "cell_type": "markdown",
   "metadata": {},
   "source": [
    "### 성실한 개미\n",
    "- https://codeup.kr/problem.php?id=6098\n",
    "---\n",
    "먹이까지 가장 빠른 길 찾기<br>\n",
    "입력 : 10x10, 이동가능: 0, 벽: 1, 테두리는 벽(1)<br>\n",
    "개미 이동 경로 9로 표시, 먹이는 2<br>\n",
    "먹이를 만나거나, 우측 하단까지 이동하면 먹이찾기 종료<br>\n",
    "출발 위치(2,2) -> 오른쪽으로 이동하다 벽을 만나면 아래로 이동"
   ]
  },
  {
   "cell_type": "code",
   "execution_count": null,
   "metadata": {},
   "outputs": [],
   "source": [
    "# 10x10 테이블 입력\n",
    "t = [[ 0 for j in range(10) ] for i in range(10) ]  # 0으로 초기화\n",
    "for i in range(10):\n",
    "    x = input().split()\n",
    "    for j in range(10):\n",
    "        t[i][j] = int(x[j])\n",
    "\n",
    "# 길 찾기 알고리즘\n",
    "x_axis = 0  # x축 이동 기록\n",
    "end = 0     # 종료 조건 만족시 0 -> 1\n",
    "\n",
    "for i in range(1, 9):   # 제일 아래 테두리는 검색하지 않음\n",
    "    for j in range(1, 10):\n",
    "        # 종료 조건 만족\n",
    "        if j>=x_axis and t[i][j] == 2:\n",
    "            t[i][j] = 9\n",
    "            end = 1\n",
    "            break\n",
    "        # 바로 아래 줄로 이동\n",
    "        elif j<x_axis: continue\n",
    "        # 다음 칸에 1이 있다면 x좌표 기록 후 다음 줄로 이동\n",
    "        elif t[i][j+1] == 1: \n",
    "            t[i][j] = 9\n",
    "            x_axis = j\n",
    "            break\n",
    "        else: t[i][j] = 9   # 개미가 움직인 흔적 표시\n",
    "    if end == 1: break      # 길 찾기 알고리즘 종료\n",
    "\n",
    "# 결과 출력\n",
    "for i in range(10):\n",
    "    for j in range(10):\n",
    "        if j == 9: print(t[i][j])\n",
    "        else: print(t[i][j], end=' ')"
   ]
  }
 ],
 "metadata": {
  "language_info": {
   "name": "python"
  },
  "orig_nbformat": 4
 },
 "nbformat": 4,
 "nbformat_minor": 2
}
