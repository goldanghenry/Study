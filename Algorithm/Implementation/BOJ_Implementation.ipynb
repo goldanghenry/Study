{
 "cells": [
  {
   "cell_type": "markdown",
   "metadata": {},
   "source": [
    "# 백준"
   ]
  },
  {
   "cell_type": "markdown",
   "metadata": {},
   "source": [
    "### Hashing\n",
    "- bronze 2\n",
    "- https://www.acmicpc.net/problem/15829\n",
    "---\n",
    "해시 함수란 임의의 길이의 입력을 받아서 고정된 길이의 출력을 내보내는 함수로 정의한다. 입력으로 들어오는 문자열에는 영문 소문자(a, b, ..., z)로만 구성되어있다고 가정하자. 영어에는 총 26개의 알파벳이 존재하므로 a에는 1, b에는 2, c에는 3, ..., z에는 26으로 고유한 번호를 부여할 수 있다. 결과적으로 우리는 하나의 문자열을 수열로 변환할 수 있다. 예를 들어서 문자열 \"abba\"은 수열 1, 2, 2, 1로 나타낼 수 있다. 해시 값을 계산하기 위해서 우리는 문자열 혹은 수열을 하나의 정수로 치환하려고 한다. 간단하게는 수열의 값을 모두 더할 수도 있다. 해시 함수의 정의에서 유한한 범위의 출력을 가져야 한다고 했으니까 적당히 큰 수 M으로 나눠주자. 짜잔! 해시 함수가 완성되었다. \n",
    "\n",
    "서로 다른 문자열이더라도 동일한 해시 값을 가질 수 있다. 이를 해시 충돌이라고 하는데, 좋은 해시 함수는 최대한 충돌이 적게 일어나야 한다. 어떻게 하면 순서가 달라졌을때 출력값도 달라지게 할 수 있을까? 머리를 굴리면 수열의 각 항마다 고유한 계수를 부여하면 된다는 아이디어를 생각해볼 수 있다. 가장 대표적인 방법은 항의 번호에 해당하는 만큼 특정한 숫자를 거듭제곱해서 곱해준 다음 더하는 것이 있다. "
   ]
  },
  {
   "cell_type": "code",
   "execution_count": 4,
   "metadata": {},
   "outputs": [
    {
     "name": "stdout",
     "output_type": "stream",
     "text": [
      "4739715\n"
     ]
    }
   ],
   "source": [
    "def str_to_num(a):\n",
    "    return ord(a)-96\n",
    "\n",
    "r,M = 31,1234567891\n",
    "n = input()\n",
    "result = 0\n",
    "for i,s in enumerate(input()):\n",
    "    result += str_to_num(s)* r**i\n",
    "print(result%M)"
   ]
  },
  {
   "cell_type": "markdown",
   "metadata": {},
   "source": [
    "### 덩치\n",
    "- silver 5\n",
    "- https://www.acmicpc.net/problem/7568\n",
    "---\n",
    "우리는 사람의 덩치를 키와 몸무게, 이 두 개의 값으로 표현하여 그 등수를 매겨보려고 한다. 어떤 사람의 몸무게가 x kg이고 키가 y cm라면 이 사람의 덩치는 (x, y)로 표시된다. 두 사람 A 와 B의 덩치가 각각 (x, y), (p, q)라고 할 때 x > p 그리고 y > q 이라면 우리는 A의 덩치가 B의 덩치보다 \"더 크다\"고 말한다. 예를 들어 어떤 A, B 두 사람의 덩치가 각각 (56, 177), (45, 165) 라고 한다면 A의 덩치가 B보다 큰 셈이 된다. 그런데 서로 다른 덩치끼리 크기를 정할 수 없는 경우도 있다. 예를 들어 두 사람 C와 D의 덩치가 각각 (45, 181), (55, 173)이라면 몸무게는 D가 C보다 더 무겁고, 키는 C가 더 크므로, \"덩치\"로만 볼 때 C와 D는 누구도 상대방보다 더 크다고 말할 수 없다.\n",
    "\n",
    "N명의 집단에서 각 사람의 덩치 등수는 자신보다 더 \"큰 덩치\"의 사람의 수로 정해진다. 만일 자신보다 더 큰 덩치의 사람이 k명이라면 그 사람의 덩치 등수는 k+1이 된다. 이렇게 등수를 결정하면 같은 덩치 등수를 가진 사람은 여러 명도 가능하다. 아래는 5명으로 이루어진 집단에서 각 사람의 덩치와 그 등수가 표시된 표이다."
   ]
  },
  {
   "cell_type": "code",
   "execution_count": 11,
   "metadata": {},
   "outputs": [
    {
     "name": "stdout",
     "output_type": "stream",
     "text": [
      "[56, 182, 4]\n",
      "[56, 181, 2]\n",
      "[55, 181, 0]\n",
      "[55, 179, 3]\n",
      "[54, 190, 5]\n",
      "[54, 181, 1]\n",
      "3 2 1 2 1 2\n"
     ]
    }
   ],
   "source": [
    "from sys import stdin as s\n",
    "\n",
    "arr = [tuple(map(int, s.readline().split())) for _ in range(int(s.readline()))]\n",
    "\n",
    "for cur in arr:\n",
    "    rank = 1\n",
    "    for other in arr:\n",
    "        if cur[0] < other[0] and cur[1] < other[1]: rank+=1\n",
    "    print(rank, end=' ')"
   ]
  },
  {
   "cell_type": "markdown",
   "metadata": {},
   "source": [
    "### 셀프 넘버\n",
    "- silver 5\n",
    "- https://www.acmicpc.net/problem/4673\n",
    "---\n",
    "셀프 넘버는 1949년 인도 수학자 D.R. Kaprekar가 이름 붙였다. 양의 정수 n에 대해서 d(n)을 n과 n의 각 자리수를 더하는 함수라고 정의하자. 예를 들어, d(75) = 75+7+5 = 87이다.\n",
    "\n",
    "양의 정수 n이 주어졌을 때, 이 수를 시작해서 n, d(n), d(d(n)), d(d(d(n))), ...과 같은 무한 수열을 만들 수 있다. \n",
    "\n",
    "예를 들어, 33으로 시작한다면 다음 수는 33 + 3 + 3 = 39이고, 그 다음 수는 39 + 3 + 9 = 51, 다음 수는 51 + 5 + 1 = 57이다. 이런식으로 다음과 같은 수열을 만들 수 있다.\n",
    "\n",
    "33, 39, 51, 57, 69, 84, 96, 111, 114, 120, 123, 129, 141, ...\n",
    "\n",
    "n을 d(n)의 생성자라고 한다. 위의 수열에서 33은 39의 생성자이고, 39는 51의 생성자, 51은 57의 생성자이다. 생성자가 한 개보다 많은 경우도 있다. 예를 들어, 101은 생성자가 2개(91과 100) 있다. \n",
    "\n",
    "생성자가 없는 숫자를 셀프 넘버라고 한다. 100보다 작은 셀프 넘버는 총 13개가 있다. 1, 3, 5, 7, 9, 20, 31, 42, 53, 64, 75, 86, 97\n",
    "\n",
    "10000보다 작거나 같은 셀프 넘버를 한 줄에 하나씩 출력하는 프로그램을 작성하시오."
   ]
  },
  {
   "cell_type": "code",
   "execution_count": null,
   "metadata": {},
   "outputs": [],
   "source": [
    "# True : 셀프넘버\n",
    "# False : 생성자 존재\n",
    "# 메모이제이션 -> 1부터 10000\n",
    "# 무한 수열 생성시 cur이 이미 false면 그 뒤의 생성되는 수열도 모두 false기에 break\n",
    "\n",
    "num_list = [True]*10001\n",
    "\n",
    "for i in range(1,10001):  # 생성자 i로 만들 수 있는 모든 수\n",
    "    n = i\n",
    "    if num_list[n]==False: continue # 이미 처리한 수열이라면\n",
    "    while True:    # 무한 수열 생성\n",
    "            n = sum(map(int,[n]+list(str(n))))  # 수열의 다음 수 생성\n",
    "            if n > 10000 or num_list[n]==False: # 이미 처리한 수열이라면 break\n",
    "                break        \n",
    "            else: num_list[n] = False\n",
    "\n",
    "for i in range(1,10001):\n",
    "      if num_list[i]: print(i)"
   ]
  },
  {
   "cell_type": "markdown",
   "metadata": {},
   "source": [
    "### 그룹단어 체커\n",
    "- silver 5\n",
    "- https://www.acmicpc.net/problem/1316\n",
    "---\n",
    "그룹 단어란 단어에 존재하는 모든 문자에 대해서, 각 문자가 연속해서 나타나는 경우만을 말한다. 예를 들면, ccazzzzbb는 c, a, z, b가 모두 연속해서 나타나고, kin도 k, i, n이 연속해서 나타나기 때문에 그룹 단어이지만, aabbbccb는 b가 떨어져서 나타나기 때문에 그룹 단어가 아니다.\n",
    "\n",
    "단어 N개를 입력으로 받아 그룹 단어의 개수를 출력하는 프로그램을 작성하시오."
   ]
  },
  {
   "cell_type": "code",
   "execution_count": 14,
   "metadata": {},
   "outputs": [
    {
     "name": "stdout",
     "output_type": "stream",
     "text": [
      "2\n"
     ]
    }
   ],
   "source": [
    "# 이미 나온 문자가 뒤에 나온다면 그룹단어x\n",
    "# 단어가 등장하면 stack에 추가, 만약 이번 단어가 top과 다르고 이미 스택에 있다면 break\n",
    "# flag\n",
    "import sys\n",
    "#input = sys.stdin.readline\n",
    "\n",
    "cnt = 0\n",
    "for _ in range(int(input().rstrip())):\n",
    "    stack = []\n",
    "    flag = True\n",
    "    for chr in input().rstrip():\n",
    "        if stack and stack[-1]!=chr and chr in stack:\n",
    "            flag = False\n",
    "            break\n",
    "        else:\n",
    "            stack.append(chr)\n",
    "    if flag: cnt+=1\n",
    "\n",
    "print(cnt)"
   ]
  },
  {
   "cell_type": "markdown",
   "metadata": {},
   "source": [
    "### 분수 찾기\n",
    "- silver 5\n",
    "- https://www.acmicpc.net/problem/1193\n",
    "---\n",
    "이와 같이 나열된 분수들을 1/1 → 1/2 → 2/1 → 3/1 → 2/2 → … 과 같은 지그재그 순서로 차례대로 1번, 2번, 3번, 4번, 5번, … 분수라고 하자.\n",
    "\n",
    "X가 주어졌을 때, X번째 분수를 구하는 프로그램을 작성하시오."
   ]
  },
  {
   "cell_type": "code",
   "execution_count": 35,
   "metadata": {},
   "outputs": [
    {
     "name": "stdout",
     "output_type": "stream",
     "text": [
      "2/4\n"
     ]
    }
   ],
   "source": [
    "# 방법1) 시뮬레이션 -> 시간 초과\n",
    "# 윗벽에 닿으면(분자==1) -> 왼쪽으로 한 칸 이동(분모+1) -> 대각선 아래로 이동(분자+1, 분모-1)\n",
    "# -> 왼벽에 닿으면(분모==1) -> 아래로 한 칸 이동(분자+1) -> 대각선 위로 이동(분자-1, 분모+1)\n",
    "num,denom = 1,1   # 분자, 분모\n",
    "next_dir = 'U'\n",
    "for _ in range(int(input())-1):\n",
    "    if num==1 and next_dir=='U': \n",
    "        denom+=1\n",
    "        next_dir = 'D'\n",
    "    elif denom==1 and next_dir=='D':\n",
    "        num+=1\n",
    "        next_dir = 'U'\n",
    "    elif next_dir == 'D':\n",
    "        num+=1\n",
    "        denom-=1\n",
    "    elif next_dir =='U':\n",
    "        num-=1\n",
    "        denom+=1\n",
    "\n",
    "print(f'{num}/{denom}')\n"
   ]
  },
  {
   "cell_type": "code",
   "execution_count": 40,
   "metadata": {},
   "outputs": [
    {
     "name": "stdout",
     "output_type": "stream",
     "text": [
      "2/2\n"
     ]
    }
   ],
   "source": [
    "# 방법2) 규칙 발견\n",
    "n=int(input())\n",
    "i=1\n",
    "sum=0\n",
    "while True:\n",
    "    sum+=i\n",
    "    if sum>=n : break\n",
    "    i+=1\n",
    "k=sum-n\n",
    "if i%2==0: print(f'{i-k}/{1+k}')\n",
    "else: print(f'{1+k}/{i-k}')"
   ]
  },
  {
   "cell_type": "markdown",
   "metadata": {},
   "source": [
    "### 소트인사이드\n",
    "- https://www.acmicpc.net/problem/1427\n",
    "- silver 5\n",
    "---\n",
    "배열을 정렬하는 것은 쉽다. 수가 주어지면, 그 수의 각 자리수를 내림차순으로 정렬해보자."
   ]
  },
  {
   "cell_type": "code",
   "execution_count": 3,
   "metadata": {},
   "outputs": [
    {
     "name": "stdout",
     "output_type": "stream",
     "text": [
      "99999999998\n"
     ]
    }
   ],
   "source": [
    "print(''.join(sorted(input(), reverse=True)))"
   ]
  },
  {
   "cell_type": "markdown",
   "metadata": {},
   "source": [
    "### 다리 놓기\n",
    "- silver 5\n",
    "- https://www.acmicpc.net/problem/1010\n",
    "---\n",
    "재원이는 한 도시의 시장이 되었다. 이 도시에는 도시를 동쪽과 서쪽으로 나누는 큰 일직선 모양의 강이 흐르고 있다. 하지만 재원이는 다리가 없어서 시민들이 강을 건너는데 큰 불편을 겪고 있음을 알고 다리를 짓기로 결심하였다. 강 주변에서 다리를 짓기에 적합한 곳을 사이트라고 한다. 재원이는 강 주변을 면밀히 조사해 본 결과 강의 서쪽에는 N개의 사이트가 있고 동쪽에는 M개의 사이트가 있다는 것을 알았다. (N ≤ M)\n",
    "\n",
    "재원이는 서쪽의 사이트와 동쪽의 사이트를 다리로 연결하려고 한다. (이때 한 사이트에는 최대 한 개의 다리만 연결될 수 있다.) 재원이는 다리를 최대한 많이 지으려고 하기 때문에 서쪽의 사이트 개수만큼 (N개) 다리를 지으려고 한다. 다리끼리는 서로 겹쳐질 수 없다고 할 때 다리를 지을 수 있는 경우의 수를 구하는 프로그램을 작성하라."
   ]
  },
  {
   "cell_type": "code",
   "execution_count": 14,
   "metadata": {},
   "outputs": [
    {
     "name": "stdout",
     "output_type": "stream",
     "text": [
      "67863915\n"
     ]
    }
   ],
   "source": [
    "# 방법 1) 시간초과 판정\n",
    "from itertools import combinations\n",
    "# import sys\n",
    "#input = sys.stdin.readline\n",
    "\n",
    "for i in range(int(input().rstrip())):\n",
    "    N,M = map(int, input().split())\n",
    "    print(len(list(combinations(range(M),N))))"
   ]
  },
  {
   "cell_type": "code",
   "execution_count": 17,
   "metadata": {},
   "outputs": [
    {
     "name": "stdout",
     "output_type": "stream",
     "text": [
      "5\n"
     ]
    }
   ],
   "source": [
    "# 방법 2) 단순 개수를 구할때는 math\n",
    "import math\n",
    "# import sys\n",
    "#input = sys.stdin.readline\n",
    "\n",
    "for i in range(int(input().rstrip())):\n",
    "    N,M = map(int, input().split())\n",
    "    print(math.comb(M,N))"
   ]
  },
  {
   "cell_type": "markdown",
   "metadata": {},
   "source": [
    "### 숫자 카드\n",
    "- silver 5\n",
    "- https://www.acmicpc.net/problem/10815\n",
    "---\n",
    "숫자 카드는 정수 하나가 적혀져 있는 카드이다. 상근이는 숫자 카드 N개를 가지고 있다. 정수 M개가 주어졌을 때, 이 수가 적혀있는 숫자 카드를 상근이가 가지고 있는지 아닌지를 구하는 프로그램을 작성하시오.\n",
    "\n",
    "첫째 줄에 입력으로 주어진 M개의 수에 대해서, 각 수가 적힌 숫자 카드를 상근이가 가지고 있으면 1을, 아니면 0을 공백으로 구분해 출력한다."
   ]
  },
  {
   "cell_type": "code",
   "execution_count": 20,
   "metadata": {},
   "outputs": [
    {
     "name": "stdout",
     "output_type": "stream",
     "text": [
      "{1: 1, 2: 1, 3: 1, 4: 1, 5: 1}\n",
      "1 1 0 "
     ]
    }
   ],
   "source": [
    "# 방법 1) 딕셔너리 -> 이진 탐색보다 빠름\n",
    "import sys\n",
    "input = sys.stdin.readline\n",
    "\n",
    "N = input()\n",
    "card_set = { n:1 for n in map(int,input().split())}   # 가지고 있는 카드 세트\n",
    "M = input()\n",
    "for i in map(int,input().split()):\n",
    "    try: print(card_set[i], end=' ')\n",
    "    except: print(0, end=' ')"
   ]
  },
  {
   "cell_type": "code",
   "execution_count": null,
   "metadata": {},
   "outputs": [],
   "source": [
    "# 방법 2) 이진 탐색\n",
    "import sys\n",
    "\n",
    "n = int(input())\n",
    "card = list(map(int, sys.stdin.readline().split()))\n",
    "m = int(input())\n",
    "check = list(map(int, sys.stdin.readline().split()))\n",
    "\n",
    "card.sort()\n",
    "\n",
    "def binary_search(array, target, start, end):\n",
    "    while start <= end:\n",
    "        mid = (start + end) // 2\n",
    "\n",
    "        if array[mid] == target:\n",
    "            return mid\n",
    "        elif array[mid] > target:\n",
    "            end = mid - 1\n",
    "        else:\n",
    "            start = mid + 1\n",
    "    return None\n",
    "\n",
    "\n",
    "for i in range(m):\n",
    "    if binary_search(card, check[i], 0, n - 1) is not None:\n",
    "        print(1, end=' ')\n",
    "    else:\n",
    "        print(0, end=' ')"
   ]
  },
  {
   "cell_type": "markdown",
   "metadata": {},
   "source": [
    "### 색종이\n",
    "- silver 5\n",
    "- https://www.acmicpc.net/problem/2563\n",
    "---\n",
    "가로, 세로의 크기가 각각 100인 정사각형 모양의 흰색 도화지가 있다. 이 도화지 위에 가로, 세로의 크기가 각각 10인 정사각형 모양의 검은색 색종이를 색종이의 변과 도화지의 변이 평행하도록 붙인다. 이러한 방식으로 색종이를 한 장 또는 여러 장 붙인 후 색종이가 붙은 검은 영역의 넓이를 구하는 프로그램을 작성하시오.\n",
    "\n",
    "첫째 줄에 색종이의 수가 주어진다. 이어 둘째 줄부터 한 줄에 하나씩 색종이를 붙인 위치가 주어진다. 색종이를 붙인 위치는 두 개의 자연수로 주어지는데 첫 번째 자연수는 색종이의 왼쪽 변과 도화지의 왼쪽 변 사이의 거리이고, 두 번째 자연수는 색종이의 아래쪽 변과 도화지의 아래쪽 변 사이의 거리이다. 색종이의 수는 100 이하이며, 색종이가 도화지 밖으로 나가는 경우는 없다"
   ]
  },
  {
   "cell_type": "code",
   "execution_count": 30,
   "metadata": {},
   "outputs": [
    {
     "name": "stdout",
     "output_type": "stream",
     "text": [
      "260\n"
     ]
    }
   ],
   "source": [
    "# 1만개 포인트\n",
    "import sys\n",
    "input = sys.stdin.readline\n",
    "\n",
    "result = 0\n",
    "paper = [[ 0 for _ in range(100)] for _ in range(100)]\n",
    "for _ in range(int(input().rstrip())):\n",
    "    y,x = map(int,input().split())\n",
    "    for i in range(y,y+10):\n",
    "        for j in range(x,x+10):\n",
    "            if not paper[i][j]:\n",
    "                result +=1\n",
    "                paper[i][j]=1\n",
    "\n",
    "print(result)"
   ]
  },
  {
   "cell_type": "markdown",
   "metadata": {},
   "source": [
    "### 방 번호\n",
    "- silver 5\n",
    "- https://www.acmicpc.net/problem/1475\n",
    "---\n",
    "다솜이는 은진이의 옆집에 새로 이사왔다. 다솜이는 자기 방 번호를 예쁜 플라스틱 숫자로 문에 붙이려고 한다.\n",
    "\n",
    "다솜이의 옆집에서는 플라스틱 숫자를 한 세트로 판다. 한 세트에는 0번부터 9번까지 숫자가 하나씩 들어있다. 다솜이의 방 번호가 주어졌을 때, 필요한 세트의 개수의 최솟값을 출력하시오. (6은 9를 뒤집어서 이용할 수 있고, 9는 6을 뒤집어서 이용할 수 있다.)"
   ]
  },
  {
   "cell_type": "code",
   "execution_count": 52,
   "metadata": {},
   "outputs": [
    {
     "name": "stdout",
     "output_type": "stream",
     "text": [
      "3\n"
     ]
    }
   ],
   "source": [
    "num_list = [0]*10\n",
    "\n",
    "for n in input():\n",
    "    num_list[int(n)]+=1\n",
    "\n",
    "num_list[6] = round((num_list[6] + num_list[9])/2+0.1)\n",
    "print(max(num_list[:9]))"
   ]
  },
  {
   "cell_type": "markdown",
   "metadata": {},
   "source": [
    "### solved.ac\n",
    "- silver 4\n",
    "- https://www.acmicpc.net/problem/18110\n",
    "---\n",
    "어떤 문제의 난이도는 그 문제를 푼 사람들이 제출한 난이도 의견을 바탕으로 결정한다. 난이도 의견은 그 사용자가 생각한 난이도를 의미하는 정수 하나로 주어진다. solved.ac가 사용자들의 의견을 바탕으로 난이도를 결정하는 방식은 다음과 같다.\n",
    "\n",
    "아직 아무 의견이 없다면 문제의 난이도는 0으로 결정한다.\n",
    "의견이 하나 이상 있다면, 문제의 난이도는 모든 사람의 난이도 의견의 30% 절사평균으로 결정한다.\n",
    "\n",
    "제외되는 사람의 수는 위, 아래에서 각각 반올림한다. 25명이 투표한 경우 위, 아래에서 각각 3.75명을 제외해야 하는데, 이 경우 반올림해 4명씩을 제외한다.\n",
    "\n",
    "균도 정수로 반올림된다. 절사평균이 16.7이었다면 최종 난이도는 17이 된다.\n",
    "사용자들이 어떤 문제에 제출한 난이도 의견 목록이 주어질 때, solved.ac가 결정한 문제의 난이도를 계산하는 프로그램을 작성하시오."
   ]
  },
  {
   "cell_type": "code",
   "execution_count": 23,
   "metadata": {},
   "outputs": [],
   "source": [
    "import sys\n",
    "\n",
    "def my_round(num):\n",
    "    return int(num)+1 if num-int(num)>=0.5 else int(num)\n",
    "\n",
    "input = sys.stdin.readline\n",
    "n = int(input().rstrip())   # 절삭평균\n",
    "if not n: print(0)\n",
    "else:\n",
    "    arr = sorted([int(input().rstrip()) for _ in range(n)])\n",
    "    p = my_round(n*0.15)\n",
    "    if p != 0:\n",
    "        arr = arr[p:-p]  # p ==0인 경우, []\n",
    "    print(my_round(sum(arr)/(n-2*p)))"
   ]
  },
  {
   "cell_type": "markdown",
   "metadata": {},
   "source": [
    "### 마인크래프트\n",
    "- silver 2\n",
    "- https://www.acmicpc.net/problem/18111\n",
    "---\n",
    "땅의 높이를 모두 동일하게 만드는 ‘땅 고르기’ 작업을 해야 한다. lvalue는 세로 N, 가로 M 크기의 집터를 골랐다. 집터 맨 왼쪽 위의 좌표는 (0, 0)이다. 우리의 목적은 이 집터 내의 땅의 높이를 일정하게 바꾸는 것이다. 우리는 다음과 같은 두 종류의 작업을 할 수 있다.\n",
    "\n",
    "좌표 (i, j)의 가장 위에 있는 블록을 제거하여 인벤토리에 넣는다.\n",
    "인벤토리에서 블록 하나를 꺼내어 좌표 (i, j)의 가장 위에 있는 블록 위에 놓는다.\n",
    "1번 작업은 2초가 걸리며, 2번 작업은 1초가 걸린다. 밤에는 무서운 몬스터들이 나오기 때문에 최대한 빨리 땅 고르기 작업을 마쳐야 한다. ‘땅 고르기’ 작업에 걸리는 최소 시간과 그 경우 땅의 높이를 출력하시오."
   ]
  },
  {
   "cell_type": "code",
   "execution_count": 64,
   "metadata": {},
   "outputs": [
    {
     "name": "stdout",
     "output_type": "stream",
     "text": [
      "290 170\n"
     ]
    }
   ],
   "source": [
    "import sys\n",
    "\n",
    "input= sys.stdin.readline\n",
    "INF = int(1e9)\n",
    "N,M,B = map(int,input().split())\n",
    "\n",
    "# 맵 입력받기 -> 높이만 1차원으로 저장\n",
    "dic = {}\n",
    "for _ in range(N):\n",
    "    for key in map(int,input().split()):\n",
    "        try: dic[key]+=1\n",
    "        except: dic[key]=1\n",
    "\n",
    "# 딕셔너리 -> 리스트, 높은 블럭부터 내림차순 정렬\n",
    "dic_lst = sorted(dic.items(),key=lambda x:x[0],reverse=True)\n",
    "\n",
    "result = (INF,257)\n",
    "for h in range(dic_lst[0][0],-1,-1):    # max height to 0 \n",
    "    tmp_cnt, tmp_B = 0, B\n",
    "    flag = 1\n",
    "    for key,value in dic_lst:\n",
    "        # 1번 -> 2초\n",
    "        if key > h: \n",
    "            total_h = (key-h)*value\n",
    "            tmp_cnt += total_h*2\n",
    "            tmp_B += total_h\n",
    "        # 2번 -> 1초\n",
    "        elif key < h:\n",
    "            total_h = (h-key)*value\n",
    "            if  total_h > tmp_B:   # 쌓아야하는 블럭의 수 > 인벤토리 블럭\n",
    "                flag = 0\n",
    "                break  \n",
    "            else:\n",
    "                tmp_cnt += total_h\n",
    "                tmp_B -= total_h\n",
    "    if flag and tmp_cnt < result[0]: \n",
    "        result = (tmp_cnt, h)\n",
    "\n",
    "print(*result)"
   ]
  }
 ],
 "metadata": {
  "kernelspec": {
   "display_name": "base",
   "language": "python",
   "name": "python3"
  },
  "language_info": {
   "codemirror_mode": {
    "name": "ipython",
    "version": 3
   },
   "file_extension": ".py",
   "mimetype": "text/x-python",
   "name": "python",
   "nbconvert_exporter": "python",
   "pygments_lexer": "ipython3",
   "version": "3.9.12"
  },
  "orig_nbformat": 4
 },
 "nbformat": 4,
 "nbformat_minor": 2
}
