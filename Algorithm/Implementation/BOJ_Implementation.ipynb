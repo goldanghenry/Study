{
 "cells": [
  {
   "cell_type": "markdown",
   "metadata": {},
   "source": [
    "# 백준"
   ]
  },
  {
   "cell_type": "markdown",
   "metadata": {},
   "source": [
    "### 덩치\n",
    "- silver 5\n",
    "- https://www.acmicpc.net/problem/7568\n",
    "---\n",
    "우리는 사람의 덩치를 키와 몸무게, 이 두 개의 값으로 표현하여 그 등수를 매겨보려고 한다. 어떤 사람의 몸무게가 x kg이고 키가 y cm라면 이 사람의 덩치는 (x, y)로 표시된다. 두 사람 A 와 B의 덩치가 각각 (x, y), (p, q)라고 할 때 x > p 그리고 y > q 이라면 우리는 A의 덩치가 B의 덩치보다 \"더 크다\"고 말한다. 예를 들어 어떤 A, B 두 사람의 덩치가 각각 (56, 177), (45, 165) 라고 한다면 A의 덩치가 B보다 큰 셈이 된다. 그런데 서로 다른 덩치끼리 크기를 정할 수 없는 경우도 있다. 예를 들어 두 사람 C와 D의 덩치가 각각 (45, 181), (55, 173)이라면 몸무게는 D가 C보다 더 무겁고, 키는 C가 더 크므로, \"덩치\"로만 볼 때 C와 D는 누구도 상대방보다 더 크다고 말할 수 없다.\n",
    "\n",
    "N명의 집단에서 각 사람의 덩치 등수는 자신보다 더 \"큰 덩치\"의 사람의 수로 정해진다. 만일 자신보다 더 큰 덩치의 사람이 k명이라면 그 사람의 덩치 등수는 k+1이 된다. 이렇게 등수를 결정하면 같은 덩치 등수를 가진 사람은 여러 명도 가능하다. 아래는 5명으로 이루어진 집단에서 각 사람의 덩치와 그 등수가 표시된 표이다."
   ]
  },
  {
   "cell_type": "code",
   "execution_count": null,
   "metadata": {},
   "outputs": [],
   "source": [
    "A,B = input().split()\n",
    "\n",
    "# 앞에 '0'을 채워 자릿수 맞추기\n",
    "if len(A) > len(B): B = '0'* (len(A)-len(B)) + B\n",
    "elif len(A) < len(B): A = '0'* (len(B)-len(A)) + A\n",
    "\n",
    "# 덧셈 알고리즘\n",
    "R =[]\n",
    "\n",
    "carry = 0\n",
    "for i in range(1, len(A)+1):\n",
    "    t= int(A[-i]) + int(B[-i])       # 1의 자리부터 더하기\n",
    "    if carry == 1:                   # 올림수(carry)\n",
    "        t += 1\n",
    "        carry = 0\n",
    "    if t > 9: \n",
    "        R.append(t-10)\n",
    "        carry +=1\n",
    "        if i == len(A): R.append(1)  # 루프 마지막 carry 발생시 제일 앞에 1을 추가\n",
    "    else: R.append(t)\n",
    "\n",
    "# 1의 자리부터 출력하기 위해 순서 뒤집기\n",
    "R.reverse()                          \n",
    "\n",
    "# 출력\n",
    "for i in R:\n",
    "    print(i, end='')\n",
    "print()"
   ]
  }
 ],
 "metadata": {
  "language_info": {
   "name": "python"
  },
  "orig_nbformat": 4
 },
 "nbformat": 4,
 "nbformat_minor": 2
}
