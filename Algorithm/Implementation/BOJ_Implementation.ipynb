{
 "cells": [
  {
   "cell_type": "markdown",
   "metadata": {},
   "source": [
    "# 백준"
   ]
  },
  {
   "cell_type": "markdown",
   "metadata": {},
   "source": [
    "### Hashing\n",
    "- bronze 2\n",
    "- https://www.acmicpc.net/problem/15829\n",
    "---\n",
    "해시 함수란 임의의 길이의 입력을 받아서 고정된 길이의 출력을 내보내는 함수로 정의한다. 입력으로 들어오는 문자열에는 영문 소문자(a, b, ..., z)로만 구성되어있다고 가정하자. 영어에는 총 26개의 알파벳이 존재하므로 a에는 1, b에는 2, c에는 3, ..., z에는 26으로 고유한 번호를 부여할 수 있다. 결과적으로 우리는 하나의 문자열을 수열로 변환할 수 있다. 예를 들어서 문자열 \"abba\"은 수열 1, 2, 2, 1로 나타낼 수 있다. 해시 값을 계산하기 위해서 우리는 문자열 혹은 수열을 하나의 정수로 치환하려고 한다. 간단하게는 수열의 값을 모두 더할 수도 있다. 해시 함수의 정의에서 유한한 범위의 출력을 가져야 한다고 했으니까 적당히 큰 수 M으로 나눠주자. 짜잔! 해시 함수가 완성되었다. \n",
    "\n",
    "서로 다른 문자열이더라도 동일한 해시 값을 가질 수 있다. 이를 해시 충돌이라고 하는데, 좋은 해시 함수는 최대한 충돌이 적게 일어나야 한다. 어떻게 하면 순서가 달라졌을때 출력값도 달라지게 할 수 있을까? 머리를 굴리면 수열의 각 항마다 고유한 계수를 부여하면 된다는 아이디어를 생각해볼 수 있다. 가장 대표적인 방법은 항의 번호에 해당하는 만큼 특정한 숫자를 거듭제곱해서 곱해준 다음 더하는 것이 있다. "
   ]
  },
  {
   "cell_type": "code",
   "execution_count": 4,
   "metadata": {},
   "outputs": [
    {
     "name": "stdout",
     "output_type": "stream",
     "text": [
      "4739715\n"
     ]
    }
   ],
   "source": [
    "def str_to_num(a):\n",
    "    return ord(a)-96\n",
    "\n",
    "r,M = 31,1234567891\n",
    "n = input()\n",
    "result = 0\n",
    "for i,s in enumerate(input()):\n",
    "    result += str_to_num(s)* r**i\n",
    "print(result%M)"
   ]
  },
  {
   "cell_type": "markdown",
   "metadata": {},
   "source": [
    "### 덩치\n",
    "- silver 5\n",
    "- https://www.acmicpc.net/problem/7568\n",
    "---\n",
    "우리는 사람의 덩치를 키와 몸무게, 이 두 개의 값으로 표현하여 그 등수를 매겨보려고 한다. 어떤 사람의 몸무게가 x kg이고 키가 y cm라면 이 사람의 덩치는 (x, y)로 표시된다. 두 사람 A 와 B의 덩치가 각각 (x, y), (p, q)라고 할 때 x > p 그리고 y > q 이라면 우리는 A의 덩치가 B의 덩치보다 \"더 크다\"고 말한다. 예를 들어 어떤 A, B 두 사람의 덩치가 각각 (56, 177), (45, 165) 라고 한다면 A의 덩치가 B보다 큰 셈이 된다. 그런데 서로 다른 덩치끼리 크기를 정할 수 없는 경우도 있다. 예를 들어 두 사람 C와 D의 덩치가 각각 (45, 181), (55, 173)이라면 몸무게는 D가 C보다 더 무겁고, 키는 C가 더 크므로, \"덩치\"로만 볼 때 C와 D는 누구도 상대방보다 더 크다고 말할 수 없다.\n",
    "\n",
    "N명의 집단에서 각 사람의 덩치 등수는 자신보다 더 \"큰 덩치\"의 사람의 수로 정해진다. 만일 자신보다 더 큰 덩치의 사람이 k명이라면 그 사람의 덩치 등수는 k+1이 된다. 이렇게 등수를 결정하면 같은 덩치 등수를 가진 사람은 여러 명도 가능하다. 아래는 5명으로 이루어진 집단에서 각 사람의 덩치와 그 등수가 표시된 표이다."
   ]
  },
  {
   "cell_type": "code",
   "execution_count": 11,
   "metadata": {},
   "outputs": [
    {
     "name": "stdout",
     "output_type": "stream",
     "text": [
      "[56, 182, 4]\n",
      "[56, 181, 2]\n",
      "[55, 181, 0]\n",
      "[55, 179, 3]\n",
      "[54, 190, 5]\n",
      "[54, 181, 1]\n",
      "3 2 1 2 1 2\n"
     ]
    }
   ],
   "source": [
    "from sys import stdin as s\n",
    "\n",
    "arr = [tuple(map(int, s.readline().split())) for _ in range(int(s.readline()))]\n",
    "\n",
    "for cur in arr:\n",
    "    rank = 1\n",
    "    for other in arr:\n",
    "        if cur[0] < other[0] and cur[1] < other[1]: rank+=1\n",
    "    print(rank, end=' ')"
   ]
  },
  {
   "cell_type": "markdown",
   "metadata": {},
   "source": [
    "### 셀프 넘버\n",
    "- https://www.acmicpc.net/problem/4673\n",
    "---\n",
    "셀프 넘버는 1949년 인도 수학자 D.R. Kaprekar가 이름 붙였다. 양의 정수 n에 대해서 d(n)을 n과 n의 각 자리수를 더하는 함수라고 정의하자. 예를 들어, d(75) = 75+7+5 = 87이다.\n",
    "\n",
    "양의 정수 n이 주어졌을 때, 이 수를 시작해서 n, d(n), d(d(n)), d(d(d(n))), ...과 같은 무한 수열을 만들 수 있다. \n",
    "\n",
    "예를 들어, 33으로 시작한다면 다음 수는 33 + 3 + 3 = 39이고, 그 다음 수는 39 + 3 + 9 = 51, 다음 수는 51 + 5 + 1 = 57이다. 이런식으로 다음과 같은 수열을 만들 수 있다.\n",
    "\n",
    "33, 39, 51, 57, 69, 84, 96, 111, 114, 120, 123, 129, 141, ...\n",
    "\n",
    "n을 d(n)의 생성자라고 한다. 위의 수열에서 33은 39의 생성자이고, 39는 51의 생성자, 51은 57의 생성자이다. 생성자가 한 개보다 많은 경우도 있다. 예를 들어, 101은 생성자가 2개(91과 100) 있다. \n",
    "\n",
    "생성자가 없는 숫자를 셀프 넘버라고 한다. 100보다 작은 셀프 넘버는 총 13개가 있다. 1, 3, 5, 7, 9, 20, 31, 42, 53, 64, 75, 86, 97\n",
    "\n",
    "10000보다 작거나 같은 셀프 넘버를 한 줄에 하나씩 출력하는 프로그램을 작성하시오."
   ]
  },
  {
   "cell_type": "code",
   "execution_count": null,
   "metadata": {},
   "outputs": [],
   "source": [
    "# True : 셀프넘버\n",
    "# False : 생성자 존재\n",
    "# 메모이제이션 -> 1부터 10000\n",
    "# 무한 수열 생성시 cur이 이미 false면 그 뒤의 생성되는 수열도 모두 false기에 break\n",
    "\n",
    "num_list = [True]*10001\n",
    "\n",
    "for i in range(1,10001):  # 생성자 i로 만들 수 있는 모든 수\n",
    "    n = i\n",
    "    if num_list[n]==False: continue # 이미 처리한 수열이라면\n",
    "    while True:    # 무한 수열 생성\n",
    "            n = sum(map(int,[n]+list(str(n))))  # 수열의 다음 수 생성\n",
    "            if n > 10000 or num_list[n]==False: # 이미 처리한 수열이라면 break\n",
    "                break        \n",
    "            else: num_list[n] = False\n",
    "\n",
    "for i in range(1,10001):\n",
    "      if num_list[i]: print(i)"
   ]
  },
  {
   "cell_type": "code",
   "execution_count": 5,
   "metadata": {},
   "outputs": [
    {
     "name": "stdout",
     "output_type": "stream",
     "text": [
      "2\n"
     ]
    }
   ],
   "source": [
    "n = 1\n",
    "n = sum(map(int,[n]+list(str(n))))\n",
    "print(n)"
   ]
  },
  {
   "cell_type": "markdown",
   "metadata": {},
   "source": [
    "### 그룹단어 체커\n",
    "- https://www.acmicpc.net/problem/1316\n",
    "---\n",
    "그룹 단어란 단어에 존재하는 모든 문자에 대해서, 각 문자가 연속해서 나타나는 경우만을 말한다. 예를 들면, ccazzzzbb는 c, a, z, b가 모두 연속해서 나타나고, kin도 k, i, n이 연속해서 나타나기 때문에 그룹 단어이지만, aabbbccb는 b가 떨어져서 나타나기 때문에 그룹 단어가 아니다.\n",
    "\n",
    "단어 N개를 입력으로 받아 그룹 단어의 개수를 출력하는 프로그램을 작성하시오."
   ]
  },
  {
   "cell_type": "code",
   "execution_count": 14,
   "metadata": {},
   "outputs": [
    {
     "name": "stdout",
     "output_type": "stream",
     "text": [
      "2\n"
     ]
    }
   ],
   "source": [
    "# 이미 나온 문자가 뒤에 나온다면 그룹단어x\n",
    "# 단어가 등장하면 stack에 추가, 만약 이번 단어가 top과 다르고 이미 스택에 있다면 break\n",
    "# flag\n",
    "import sys\n",
    "#input = sys.stdin.readline\n",
    "\n",
    "cnt = 0\n",
    "for _ in range(int(input().rstrip())):\n",
    "    stack = []\n",
    "    flag = True\n",
    "    for chr in input().rstrip():\n",
    "        if stack and stack[-1]!=chr and chr in stack:\n",
    "            flag = False\n",
    "            break\n",
    "        else:\n",
    "            stack.append(chr)\n",
    "    if flag: cnt+=1\n",
    "\n",
    "print(cnt)"
   ]
  },
  {
   "cell_type": "markdown",
   "metadata": {},
   "source": [
    "### 분수 찾기\n",
    "- https://www.acmicpc.net/problem/1193\n",
    "이와 같이 나열된 분수들을 1/1 → 1/2 → 2/1 → 3/1 → 2/2 → … 과 같은 지그재그 순서로 차례대로 1번, 2번, 3번, 4번, 5번, … 분수라고 하자.\n",
    "\n",
    "X가 주어졌을 때, X번째 분수를 구하는 프로그램을 작성하시오."
   ]
  },
  {
   "cell_type": "code",
   "execution_count": 35,
   "metadata": {},
   "outputs": [
    {
     "name": "stdout",
     "output_type": "stream",
     "text": [
      "2/4\n"
     ]
    }
   ],
   "source": [
    "# 방법1) 시뮬레이션 -> 시간 초과\n",
    "# 윗벽에 닿으면(분자==1) -> 왼쪽으로 한 칸 이동(분모+1) -> 대각선 아래로 이동(분자+1, 분모-1)\n",
    "# -> 왼벽에 닿으면(분모==1) -> 아래로 한 칸 이동(분자+1) -> 대각선 위로 이동(분자-1, 분모+1)\n",
    "num,denom = 1,1   # 분자, 분모\n",
    "next_dir = 'U'\n",
    "for _ in range(int(input())-1):\n",
    "    if num==1 and next_dir=='U': \n",
    "        denom+=1\n",
    "        next_dir = 'D'\n",
    "    elif denom==1 and next_dir=='D':\n",
    "        num+=1\n",
    "        next_dir = 'U'\n",
    "    elif next_dir == 'D':\n",
    "        num+=1\n",
    "        denom-=1\n",
    "    elif next_dir =='U':\n",
    "        num-=1\n",
    "        denom+=1\n",
    "\n",
    "print(f'{num}/{denom}')\n"
   ]
  },
  {
   "cell_type": "code",
   "execution_count": 40,
   "metadata": {},
   "outputs": [
    {
     "name": "stdout",
     "output_type": "stream",
     "text": [
      "2/2\n"
     ]
    }
   ],
   "source": [
    "# 방법2) 규칙 발견\n",
    "n=int(input())\n",
    "i=1\n",
    "sum=0\n",
    "while True:\n",
    "    sum+=i\n",
    "    if sum>=n : break\n",
    "    i+=1\n",
    "k=sum-n\n",
    "if i%2==0: print(f'{i-k}/{1+k}')\n",
    "else: print(f'{1+k}/{i-k}')"
   ]
  },
  {
   "cell_type": "markdown",
   "metadata": {},
   "source": [
    "### solved.ac\n",
    "- silver 4\n",
    "- https://www.acmicpc.net/problem/18110\n",
    "---\n",
    "어떤 문제의 난이도는 그 문제를 푼 사람들이 제출한 난이도 의견을 바탕으로 결정한다. 난이도 의견은 그 사용자가 생각한 난이도를 의미하는 정수 하나로 주어진다. solved.ac가 사용자들의 의견을 바탕으로 난이도를 결정하는 방식은 다음과 같다.\n",
    "\n",
    "아직 아무 의견이 없다면 문제의 난이도는 0으로 결정한다.\n",
    "의견이 하나 이상 있다면, 문제의 난이도는 모든 사람의 난이도 의견의 30% 절사평균으로 결정한다.\n",
    "\n",
    "제외되는 사람의 수는 위, 아래에서 각각 반올림한다. 25명이 투표한 경우 위, 아래에서 각각 3.75명을 제외해야 하는데, 이 경우 반올림해 4명씩을 제외한다.\n",
    "\n",
    "균도 정수로 반올림된다. 절사평균이 16.7이었다면 최종 난이도는 17이 된다.\n",
    "사용자들이 어떤 문제에 제출한 난이도 의견 목록이 주어질 때, solved.ac가 결정한 문제의 난이도를 계산하는 프로그램을 작성하시오."
   ]
  },
  {
   "cell_type": "code",
   "execution_count": 23,
   "metadata": {},
   "outputs": [],
   "source": [
    "import sys\n",
    "\n",
    "def my_round(num):\n",
    "    return int(num)+1 if num-int(num)>=0.5 else int(num)\n",
    "\n",
    "input = sys.stdin.readline\n",
    "n = int(input().rstrip())   # 절삭평균\n",
    "if not n: print(0)\n",
    "else:\n",
    "    arr = sorted([int(input().rstrip()) for _ in range(n)])\n",
    "    p = my_round(n*0.15)\n",
    "    if p != 0:\n",
    "        arr = arr[p:-p]  # p ==0인 경우, []\n",
    "    print(my_round(sum(arr)/(n-2*p)))"
   ]
  },
  {
   "cell_type": "markdown",
   "metadata": {},
   "source": [
    "### 마인크래프트\n",
    "- silver 2\n",
    "- https://www.acmicpc.net/problem/18111\n",
    "---\n",
    "땅의 높이를 모두 동일하게 만드는 ‘땅 고르기’ 작업을 해야 한다. lvalue는 세로 N, 가로 M 크기의 집터를 골랐다. 집터 맨 왼쪽 위의 좌표는 (0, 0)이다. 우리의 목적은 이 집터 내의 땅의 높이를 일정하게 바꾸는 것이다. 우리는 다음과 같은 두 종류의 작업을 할 수 있다.\n",
    "\n",
    "좌표 (i, j)의 가장 위에 있는 블록을 제거하여 인벤토리에 넣는다.\n",
    "인벤토리에서 블록 하나를 꺼내어 좌표 (i, j)의 가장 위에 있는 블록 위에 놓는다.\n",
    "1번 작업은 2초가 걸리며, 2번 작업은 1초가 걸린다. 밤에는 무서운 몬스터들이 나오기 때문에 최대한 빨리 땅 고르기 작업을 마쳐야 한다. ‘땅 고르기’ 작업에 걸리는 최소 시간과 그 경우 땅의 높이를 출력하시오."
   ]
  },
  {
   "cell_type": "code",
   "execution_count": 64,
   "metadata": {},
   "outputs": [
    {
     "name": "stdout",
     "output_type": "stream",
     "text": [
      "290 170\n"
     ]
    }
   ],
   "source": [
    "import sys\n",
    "\n",
    "input= sys.stdin.readline\n",
    "INF = int(1e9)\n",
    "N,M,B = map(int,input().split())\n",
    "\n",
    "# 맵 입력받기 -> 높이만 1차원으로 저장\n",
    "dic = {}\n",
    "for _ in range(N):\n",
    "    for key in map(int,input().split()):\n",
    "        try: dic[key]+=1\n",
    "        except: dic[key]=1\n",
    "\n",
    "# 딕셔너리 -> 리스트, 높은 블럭부터 내림차순 정렬\n",
    "dic_lst = sorted(dic.items(),key=lambda x:x[0],reverse=True)\n",
    "\n",
    "result = (INF,257)\n",
    "for h in range(dic_lst[0][0],-1,-1):    # max height to 0 \n",
    "    tmp_cnt, tmp_B = 0, B\n",
    "    flag = 1\n",
    "    for key,value in dic_lst:\n",
    "        # 1번 -> 2초\n",
    "        if key > h: \n",
    "            total_h = (key-h)*value\n",
    "            tmp_cnt += total_h*2\n",
    "            tmp_B += total_h\n",
    "        # 2번 -> 1초\n",
    "        elif key < h:\n",
    "            total_h = (h-key)*value\n",
    "            if  total_h > tmp_B:   # 쌓아야하는 블럭의 수 > 인벤토리 블럭\n",
    "                flag = 0\n",
    "                break  \n",
    "            else:\n",
    "                tmp_cnt += total_h\n",
    "                tmp_B -= total_h\n",
    "    if flag and tmp_cnt < result[0]: \n",
    "        result = (tmp_cnt, h)\n",
    "\n",
    "print(*result)"
   ]
  }
 ],
 "metadata": {
  "kernelspec": {
   "display_name": "base",
   "language": "python",
   "name": "python3"
  },
  "language_info": {
   "codemirror_mode": {
    "name": "ipython",
    "version": 3
   },
   "file_extension": ".py",
   "mimetype": "text/x-python",
   "name": "python",
   "nbconvert_exporter": "python",
   "pygments_lexer": "ipython3",
   "version": "3.9.12"
  },
  "orig_nbformat": 4
 },
 "nbformat": 4,
 "nbformat_minor": 2
}
