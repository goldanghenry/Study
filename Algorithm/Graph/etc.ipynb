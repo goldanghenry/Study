{
 "cells": [
  {
   "cell_type": "markdown",
   "metadata": {},
   "source": [
    "# Number of Islands\n",
    "* 제일 기본적인 유형이므로 완전히 외울거다. <br>\n",
    " grid는 \"1\"(land)과 \"0\"(water)으로 이루어진 지도를 표현하는 m x n 이차원 배열이다. <br>\n",
    " 이 지도에 표시된 섬들의 총 갯수를 반환하시오.<br>\n",
    " 섬이란 수평과 수직으로 땅이 연결되어 있고 주변은 물로 둘러쌓여있는 것을 말한다. <br>또한, grid의 네개의 가장자리는 모두 물로 둘러쌓여 있다고 가정하고 문제를 해결하라 <br>\n",
    "\n",
    " * 제약조건\n",
    " m == grid.length\n",
    " n == grid[i].length\n",
    " 1 <= m,n <= 300\n",
    " grid[i][j] is '0' or '1'\n",
    "\n",
    " * 제약조건을 통해 알 수 있는것: \n",
    "    - m is number of rows\n",
    "    - n is number of cols\n",
    "    - 원소의 개수가 총 9만개 일 수 있다 --> 약 10의 5승 => O(n^2) 로는 풀 수 없겠구나! \n",
    "    - 1과 0 이 아닌 숫자가 들어왔을 때를 고려하지 않아도 된다. \n",
    "\n",
    " input: grid = [\n",
    "    ['1', '1', '1', '1', '0'],\n",
    "    ['1', '1', '0', '1', '0'],\n",
    "    ['1', '1', '0', '0', '0'],\n",
    "    ['0', '0', '0', '0', '0'],\n",
    " ]\n",
    " output: 1\n",
    "\n",
    " input: grid = [\n",
    "    ['1', '1', '0', '0', '0'],\n",
    "    ['1', '1', '0', '0', '0'],\n",
    "    ['0', '0', '1', '0', '0'],\n",
    "    ['0', '0', '0', '1', '1'],\n",
    " ]\n",
    " output: 3\n",
    "\n",
    "* 문제에서 '섬이란 수평과 수직으로 연결되어 있다'는 것을 통해 어떤 것이 섬인지 잘 알아야 한다. (대각선으로 연결되어도 섬이라고 하는 문제도 있다.)"
   ]
  },
  {
   "cell_type": "code",
   "execution_count": null,
   "metadata": {},
   "outputs": [],
   "source": [
    "# bfs\n",
    "\n",
    "\n",
    "def solution(graph):\n",
    "    \n",
    "    visited = [ [False]*n for _ in m ]\n",
    "    \n",
    "    def bfs():\n",
    "        \n",
    "        return\n",
    "    \n",
    "    return"
   ]
  },
  {
   "cell_type": "code",
   "execution_count": 7,
   "metadata": {},
   "outputs": [
    {
     "name": "stdout",
     "output_type": "stream",
     "text": [
      "3\n"
     ]
    }
   ],
   "source": [
    "from collections import deque\n",
    "\n",
    "grid = [\n",
    "    ['1', '1', '0', '0', '0'],\n",
    "    ['1', '1', '0', '0', '0'],\n",
    "    ['0', '0', '1', '0', '0'],\n",
    "    ['0', '0', '0', '1', '1'],\n",
    " ]\n",
    "\n",
    "row = len(grid)\n",
    "col = len(grid[0])\n",
    "\n",
    "# 위, 아래, 좌, 우\n",
    "dx = [1,-1,0,0]\n",
    "dy = [0,0,-1,1]\n",
    "visited = [[False]*col for _ in range(row) ]\n",
    "\n",
    "def bfs(x,y):\n",
    "    queue = deque()\n",
    "    queue.append((x,y))\n",
    "    visited[x][y] = True\n",
    "    \n",
    "    while queue:\n",
    "        cur_x,cur_y = queue.popleft()\n",
    "        for i in range(4):\n",
    "            next_x,next_y = cur_x+dx[i],cur_y+dy[i]\n",
    "            if next_x >= 0 and next_x < row and next_y < col and next_y >= 0:\n",
    "                if grid[next_x][next_y] == '1' and not visited[next_x][next_y]:\n",
    "                    visited[next_x][next_y] = True\n",
    "                    queue.append((next_x,next_y))\n",
    "                \n",
    "\n",
    "cnt = 0\n",
    "for i in range(row):\n",
    "    for j in range(col):\n",
    "        if not visited[i][j] and grid[i][j] == '1':\n",
    "            cnt +=1\n",
    "            bfs(i,j)\n",
    "            \n",
    "print(cnt)"
   ]
  },
  {
   "cell_type": "code",
   "execution_count": 8,
   "metadata": {},
   "outputs": [
    {
     "name": "stdout",
     "output_type": "stream",
     "text": [
      "3\n"
     ]
    }
   ],
   "source": [
    "grid = [\n",
    "    ['1', '1', '0', '0', '0'],\n",
    "    ['1', '1', '0', '0', '0'],\n",
    "    ['0', '0', '1', '0', '0'],\n",
    "    ['0', '0', '0', '1', '1'],\n",
    " ]\n",
    "\n",
    "row = len(grid)\n",
    "col = len(grid[0])\n",
    "\n",
    "# 위, 아래, 좌, 우\n",
    "dx = [1,-1,0,0]\n",
    "dy = [0,0,-1,1]\n",
    "visited = [[False]*col for _ in range(row) ]\n",
    "\n",
    "def dfs(x,y):\n",
    "    visited[x][y] = True\n",
    "    \n",
    "    for i in range(4):\n",
    "        next_x,next_y = x+dx[i],y+dy[i]\n",
    "        if next_x >= 0 and next_x < row and next_y < col and next_y >= 0:\n",
    "                if grid[next_x][next_y] == '1' and not visited[next_x][next_y]:\n",
    "                    dfs(next_x,next_y)\n",
    "\n",
    "    \n",
    "cnt = 0\n",
    "for i in range(row):\n",
    "    for j in range(col):\n",
    "        if not visited[i][j] and grid[i][j] == '1':\n",
    "            cnt +=1\n",
    "            dfs(i,j)\n",
    "            \n",
    "print(cnt)"
   ]
  }
 ],
 "metadata": {
  "kernelspec": {
   "display_name": "base",
   "language": "python",
   "name": "python3"
  },
  "language_info": {
   "codemirror_mode": {
    "name": "ipython",
    "version": 3
   },
   "file_extension": ".py",
   "mimetype": "text/x-python",
   "name": "python",
   "nbconvert_exporter": "python",
   "pygments_lexer": "ipython3",
   "version": "3.9.18"
  }
 },
 "nbformat": 4,
 "nbformat_minor": 2
}
