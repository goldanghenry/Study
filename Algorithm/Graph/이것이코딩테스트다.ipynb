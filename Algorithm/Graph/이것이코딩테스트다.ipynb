{
 "cells": [
  {
   "attachments": {},
   "cell_type": "markdown",
   "metadata": {},
   "source": [
    "# 이것이 코딩 테스트다 _ 나동빈\n",
    "- DFS/BFS 교재 수록 문제\n",
    "- 주변 먼저 탐색이 유리할 때 -> BFS\n",
    "- 목적지 -> DFS"
   ]
  },
  {
   "attachments": {},
   "cell_type": "markdown",
   "metadata": {},
   "source": [
    "### 음료수 얼려 먹기\n",
    "---\n",
    "문제)\n",
    "N x M 크기의 얼음 틀이 있다. 구멍이 뚫려 있는 부분은 0, 칸막이가 존재하는 부분은 1로 표시.<br>\n",
    "구멍이 뚫여 있는 부분끼리 상, 하, 좌, 우로 붙이 있는 경우 서로 연결되어 있는 것으로 간주<br>\n",
    "이때 얼음 틀의 모양이 주어졌을 때 생성되는 총 아이스크림의 개수를 구하는 프로그램을 작성하시오.<br>\n",
    "\n",
    "입력조건)\n",
    "첫 번째 줄에 얼음 틀의 세로 길이 N과 가로 길이 M이 주어진다(1 <= N,M <= 1,000)<br>\n",
    "두 번째 줄 부터 N +1 번째 줄까지 얼음 틀의 형태가 주어진다."
   ]
  },
  {
   "cell_type": "code",
   "execution_count": 14,
   "metadata": {},
   "outputs": [
    {
     "name": "stdout",
     "output_type": "stream",
     "text": [
      "3\n"
     ]
    }
   ],
   "source": [
    "n,m = 4,5\n",
    "input_map = \"00110 00011 11111 00000\"\n",
    "graph = []\n",
    "for i in input_map.split():\n",
    "    graph.append(list(map(int,i)))\n",
    "\n",
    "def dfs(x,y):\n",
    "    # map을 벗어나는 경우\n",
    "    if x<=-1 or x>=n or y<=-1 or y>=m:\n",
    "        return False\n",
    "    # 방문하지 않았다면\n",
    "    if graph[x][y]==0: \n",
    "        graph[x][y]=1   # 방문처리\n",
    "        # 상,하,좌,우 탐색\n",
    "        dfs(x-1,y)\n",
    "        dfs(x,y-1)\n",
    "        dfs(x+1,y)\n",
    "        dfs(x,y+1)\n",
    "        return True\n",
    "    return False\n",
    "    \n",
    "result = 0\n",
    "for i in range(n):\n",
    "    for j in range(m):\n",
    "        if dfs(i,j)==True:\n",
    "            result +=1\n",
    "\n",
    "print(result)"
   ]
  },
  {
   "attachments": {},
   "cell_type": "markdown",
   "metadata": {},
   "source": [
    "### 미로탈출\n",
    "---\n",
    "동빈이는 N x M 크기의 직사각형 형태의 미로에 갇혀 있다. 미로에는 여러 마리의 괴물이 있어 이를 피해 탈출해야 한다. <br>동빈이의 위치는 (1,1)이고 미로의 출구는 (N,M)의 위치에 존재하며 한 번에 한 칸씩 이동할 수 있다. <br>이때 괴물이 있는 부분은 0으로, 괴물이 없는 부분은 1로 표시 미로는 반드시 탈출 할 수 있는 형태로 제시된다.<br>\n",
    "이때 동빈이가 탈출하기 위해 움직여야 하는 최소 칸의 개수를 구하시오.(시작, 마지막 칸 포함) "
   ]
  },
  {
   "cell_type": "code",
   "execution_count": 5,
   "metadata": {},
   "outputs": [
    {
     "name": "stdout",
     "output_type": "stream",
     "text": [
      "10\n"
     ]
    }
   ],
   "source": [
    "from collections import deque\n",
    "\n",
    "# 맵 정보 입력받기\n",
    "n,m = 5,6\n",
    "input_map = \"101010 111111 000001 111111 111111\"\n",
    "graph = []\n",
    "for i in input_map.split():\n",
    "    graph.append(list(map(int,i)))\n",
    "\n",
    "# 방향 정의(상,하,좌,우)\n",
    "dx = [-1,1,0,0]\n",
    "dy = [0,0,-1,1]\n",
    "\n",
    "def bfs(x,y):\n",
    "    queue = deque()     # queue\n",
    "    queue.append((x,y))\n",
    "    # 큐가 빌 때까지\n",
    "    while queue:\n",
    "        x,y = queue.popleft()\n",
    "\n",
    "        # 현재 위치에서 네 방향 확인\n",
    "        for i in range(4):\n",
    "            nx = x+dx[i]\n",
    "            ny = y+dy[i]\n",
    "            # 미로찾기 공간을 벗어나는 경우\n",
    "            if nx < 0 or nx >= n or ny < 0 or ny >= m:\n",
    "                continue\n",
    "            # 괴물을 만난 경우\n",
    "            if graph[nx][ny]==0:\n",
    "                continue\n",
    "            # 해당 노드를 처음 방문하는 경우에만 최단 거리 계산\n",
    "            if graph[nx][ny]==1:\n",
    "                graph[nx][ny]= graph[x][y]+1\n",
    "                queue.append((nx,ny))\n",
    "    return graph[n-1][m-1]\n",
    "\n",
    "print(bfs(0,0))\n"
   ]
  }
 ],
 "metadata": {
  "kernelspec": {
   "display_name": "base",
   "language": "python",
   "name": "python3"
  },
  "language_info": {
   "codemirror_mode": {
    "name": "ipython",
    "version": 3
   },
   "file_extension": ".py",
   "mimetype": "text/x-python",
   "name": "python",
   "nbconvert_exporter": "python",
   "pygments_lexer": "ipython3",
   "version": "3.9.13"
  },
  "orig_nbformat": 4
 },
 "nbformat": 4,
 "nbformat_minor": 2
}
