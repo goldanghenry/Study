{
 "cells": [
  {
   "cell_type": "markdown",
   "metadata": {},
   "source": [
    "# 백준"
   ]
  },
  {
   "cell_type": "markdown",
   "metadata": {},
   "source": [
    "### 상근이의 여행\n",
    "- silver 4\n",
    "- https://www.acmicpc.net/problem/9372\n",
    "---\n",
    "상근이는 겨울방학을 맞아 N개국을 여행하면서 자아를 찾기로 마음먹었다. \n",
    "\n",
    "하지만 상근이는 새로운 비행기를 무서워하기 때문에, 최대한 적은 종류의 비행기를 타고 국가들을 이동하려고 한다.\n",
    "\n",
    "이번 방학 동안의 비행 스케줄이 주어졌을 때, 상근이가 가장 적은 종류의 비행기를 타고 모든 국가들을 여행할 수 있도록 도와주자.\n",
    "\n",
    "상근이가 한 국가에서 다른 국가로 이동할 때 다른 국가를 거쳐 가도(심지어 이미 방문한 국가라도) 된다."
   ]
  },
  {
   "cell_type": "code",
   "execution_count": null,
   "metadata": {},
   "outputs": [],
   "source": [
    "from collections import deque\n",
    "import sys\n",
    "input = sys.stdin.readline\n",
    "\n",
    "T = int(input().rstrip())\n",
    "\n",
    "def bfs(start, plane):\n",
    "    q = deque()\n",
    "    q.append(start)\n",
    "    visited[start] = True\n",
    "    \n",
    "    while q:\n",
    "        if visited.count(True) == N:    # 모든 국가 방문시 종료\n",
    "            return plane\n",
    "        cur = q.popleft()\n",
    "        \n",
    "        for node in graph[cur]:     # 연결된 노드 방문\n",
    "            if not visited[node]:\n",
    "                q.append(node)      # 처음 방문한 노드면 큐에 추가\n",
    "                plane +=1\n",
    "                visited[node] = True\n",
    "\n",
    "for _ in range(T):\n",
    "    N,M = map(int, input().split())\n",
    "    visited = [False] * (N+1)\n",
    "    \n",
    "    graph = [ [] for _ in range(N+1) ]\n",
    "    \n",
    "    for _ in range(M):\n",
    "        a,b = map(int, input().split())\n",
    "        graph[a].append(b)\n",
    "        graph[b].append(a)\n",
    "        \n",
    "    p = bfs(1,0)\n",
    "    print(p)"
   ]
  },
  {
   "cell_type": "markdown",
   "metadata": {},
   "source": [
    "### 바다 장식\n",
    "- silver4\n",
    "- https://www.acmicpc.net/problem/1388\n",
    "---\n",
    "형택이는 건축가이다. 지금 막 형택이는 형택이의 남자 친구 기훈이의 집을 막 완성시켰다. 형택이는 기훈이 방의 바닥 장식을 디자인했고, 이제 몇 개의 나무 판자가 필요한지 궁금해졌다. 나무 판자는 크기 1의 너비를 가졌고, 양수의 길이를 가지고 있다. 기훈이 방은 직사각형 모양이고, 방 안에는 벽과 평행한 모양의 정사각형으로 나누어져 있다.\n",
    "\n",
    "이제 ‘-’와 ‘|’로 이루어진 바닥 장식 모양이 주어진다. 만약 두 개의 ‘-’가 인접해 있고, 같은 행에 있다면, 두 개는 같은 나무 판자이고, 두 개의 ‘|’가 인접해 있고, 같은 열에 있다면, 두 개는 같은 나무 판자이다.\n",
    "\n",
    "기훈이의 방 바닥을 장식하는데 필요한 나무 판자의 개수를 출력하는 프로그램을 작성하시오."
   ]
  },
  {
   "cell_type": "code",
   "execution_count": null,
   "metadata": {},
   "outputs": [],
   "source": [
    "# 특정 조건을 만족해야하는 탐색 -> DFS\n",
    "import sys\n",
    "input = sys.stdin.readline\n",
    "\n",
    "def dfs(x,y):\n",
    "    # 바닥 장식 모양이 '-' 일 때\n",
    "    if graph[x][y] == '-':\n",
    "        graph[x][y] = 1     # 해당 노드 방문처리\n",
    "        for ry in [1,-1]:   # 좌우 확인\n",
    "            Y = y+ry\n",
    "            if (Y > 0 and Y < m) and graph[x][Y] == '-':\n",
    "                dfs(x,Y)\n",
    "    \n",
    "    # 바닥 장식 모양이 '|' 일 때\n",
    "    if graph[x][y] == '|':\n",
    "        graph[x][y] = 1\n",
    "        for rx in [1,-1]:\n",
    "            X = x+rx\n",
    "            if (X > 0 and X < n) and graph[X][y] == '|':\n",
    "                dfs(X,y)\n",
    "            \n",
    "        \n",
    "\n",
    "n,m = map(int,input().split())\n",
    "graph = [ list(input()) for _ in range(n) ]\n",
    "    \n",
    "count = 0\n",
    "for i in range(n):\n",
    "    for j in range(m):\n",
    "        if graph[i][j] == '-' or graph[i][j] == '|':\n",
    "            dfs(i,j)\n",
    "            count +=1\n",
    "print(count)"
   ]
  },
  {
   "cell_type": "markdown",
   "metadata": {},
   "source": [
    "### 바이러스\n",
    "- sivler 3\n",
    "- https://www.acmicpc.net/problem/2606\n",
    "---\n",
    "신종 바이러스인 웜 바이러스는 네트워크를 통해 전파된다. 한 컴퓨터가 웜 바이러스에 걸리면 그 컴퓨터와 네트워크 상에서 연결되어 있는 모든 컴퓨터는 웜 바이러스에 걸리게 된다.\n",
    "\n",
    "예를 들어 7대의 컴퓨터가 <그림 1>과 같이 네트워크 상에서 연결되어 있다고 하자. 1번 컴퓨터가 웜 바이러스에 걸리면 웜 바이러스는 2번과 5번 컴퓨터를 거쳐 3번과 6번 컴퓨터까지 전파되어 2, 3, 5, 6 네 대의 컴퓨터는 웜 바이러스에 걸리게 된다. 하지만 4번과 7번 컴퓨터는 1번 컴퓨터와 네트워크상에서 연결되어 있지 않기 때문에 영향을 받지 않는다.\n",
    "\n",
    "\n",
    "\n",
    "어느 날 1번 컴퓨터가 웜 바이러스에 걸렸다. 컴퓨터의 수와 네트워크 상에서 서로 연결되어 있는 정보가 주어질 때, 1번 컴퓨터를 통해 웜 바이러스에 걸리게 되는 컴퓨터의 수를 출력하는 프로그램을 작성하시오."
   ]
  },
  {
   "cell_type": "code",
   "execution_count": 3,
   "metadata": {},
   "outputs": [
    {
     "name": "stdout",
     "output_type": "stream",
     "text": [
      "5\n"
     ]
    }
   ],
   "source": [
    "import sys\n",
    "#input = sys.stdin.readline\n",
    "\n",
    "def dfs(graph,node,visited):\n",
    "    visited[node] += 1    # 방문처리\n",
    "    for v in graph[node]:\n",
    "        if visited[v]==0:\n",
    "            dfs(graph, v, visited)\n",
    "    \n",
    "\n",
    "n = int(input().rstrip())  # 컴퓨터의 수\n",
    "cn = int(input().rstrip()) # 컴퓨터 쌍의 수\n",
    "\n",
    "# 그래프 생성\n",
    "graph = [ [] for _ in range(n+1)]\n",
    "visited = [0]*(n+1)\n",
    "\n",
    "for _ in range(cn):\n",
    "    a,b = map(int, input().split())\n",
    "    graph[a].append(b)\n",
    "    graph[b].append(a)\n",
    "\n",
    "dfs(graph, 1, visited)\n",
    "print(sum(visited)-1)   # 1번 컴퓨터 제외\n"
   ]
  },
  {
   "cell_type": "markdown",
   "metadata": {},
   "source": [
    "### 점프왕 쩰리(Small)\n",
    "- silver 4\n",
    "- https://www.acmicpc.net/problem/16173\n",
    "---\n",
    "‘쩰리’는 점프하는 것을 좋아하는 젤리다. 단순히 점프하는 것에 지루함을 느낀 ‘쩰리’는 새로운 점프 게임을 해보고 싶어 한다. 새로운 점프 게임의 조건은 다음과 같다.<br>\n",
    "<br>\n",
    "‘쩰리’는 가로와 세로의 칸 수가 같은 정사각형의 구역 내부에서만 움직일 수 있다. <br>‘쩰리’가 정사각형 구역의 외부로 나가는 경우엔 바닥으로 떨어져 즉시 게임에서 패배하게 된다.<br>\n",
    "‘쩰리’의 출발점은 항상 정사각형의 가장 왼쪽, 가장 위의 칸이다. 다른 출발점에서는 출발하지 않는다.<br>\n",
    "‘쩰리’가 이동 가능한 방향은 오른쪽과 아래 뿐이다. 위쪽과 왼쪽으로는 이동할 수 없다.<br>\n",
    "‘쩰리’가 가장 오른쪽, 가장 아래 칸에 도달하는 순간, 그 즉시 ‘쩰리’의 승리로 게임은 종료된다.<br>\n",
    "‘쩰리’가 한 번에 이동할 수 있는 칸의 수는, 현재 밟고 있는 칸에 쓰여 있는 수 만큼이다. 칸에 쓰여 있는 수 초과나 그 미만으로 이동할 수 없다.<br>\n",
    "새로운 게임이 맘에 든 ‘쩰리’는, 계속 게임을 진행해 마침내 최종 단계에 도달했다. <br>하지만, 게임을 진행하는 구역이 너무 넓어져버린 나머지, 이 게임에서 이길 수 있는지 없는지 가늠할 수 없어졌다. <br>‘쩰리’는 유능한 프로그래머인 당신에게 주어진 구역에서 승리할 수 있는 지 알아봐 달라고 부탁했다. ‘쩰리’를 도와 주어진 게임 구역에서 끝 점(오른쪽 맨 아래 칸)까지 도달할 수 있는지를 알아보자!"
   ]
  },
  {
   "cell_type": "code",
   "execution_count": 1,
   "metadata": {},
   "outputs": [
    {
     "name": "stdout",
     "output_type": "stream",
     "text": [
      "HaruHaru\n"
     ]
    }
   ],
   "source": [
    "from collections import deque\n",
    "import sys\n",
    "\n",
    "# input = sys.stdin.readline\n",
    "\n",
    "# input data\n",
    "N = int(input().rstrip())\n",
    "graph = [list(map(int,input().split())) for _ in range(N)]\n",
    "visited = [ [False]*N for _ in range(N) ]   # to check visitation\n",
    "\n",
    "# define direction\n",
    "dir = [[0,1],[1,0]] # below, right\n",
    "\n",
    "def bfs(x,y):\n",
    "    que = deque()\n",
    "    que.append([x,y])\n",
    "    \n",
    "    while que:\n",
    "        x,y = que.popleft()\n",
    "        steps = graph[x][y]\n",
    "        \n",
    "        if graph[x][y] == -1:\n",
    "            return 'HaruHaru'\n",
    "        \n",
    "        for dx,dy in dir:\n",
    "            nx = x + dx*steps\n",
    "            ny = y + dy*steps\n",
    "            \n",
    "            if nx >= N or ny >= N:\n",
    "                continue\n",
    "            if not visited[nx][ny]:\n",
    "                visited[nx][ny] = True\n",
    "                que.append([nx, ny])\n",
    "    else:\n",
    "        return 'Hing'\n",
    "        \n",
    "print(bfs(0,0))"
   ]
  }
 ],
 "metadata": {
  "kernelspec": {
   "display_name": "base",
   "language": "python",
   "name": "python3"
  },
  "language_info": {
   "codemirror_mode": {
    "name": "ipython",
    "version": 3
   },
   "file_extension": ".py",
   "mimetype": "text/x-python",
   "name": "python",
   "nbconvert_exporter": "python",
   "pygments_lexer": "ipython3",
   "version": "3.9.18"
  }
 },
 "nbformat": 4,
 "nbformat_minor": 2
}
