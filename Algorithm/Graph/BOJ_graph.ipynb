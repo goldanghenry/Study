{
 "cells": [
  {
   "cell_type": "markdown",
   "metadata": {},
   "source": [
    "# 백준"
   ]
  },
  {
   "cell_type": "markdown",
   "metadata": {},
   "source": [
    "### 상근이의 여행\n",
    "- silver 4\n",
    "- https://www.acmicpc.net/problem/9372\n",
    "---\n",
    "상근이는 겨울방학을 맞아 N개국을 여행하면서 자아를 찾기로 마음먹었다. \n",
    "\n",
    "하지만 상근이는 새로운 비행기를 무서워하기 때문에, 최대한 적은 종류의 비행기를 타고 국가들을 이동하려고 한다.\n",
    "\n",
    "이번 방학 동안의 비행 스케줄이 주어졌을 때, 상근이가 가장 적은 종류의 비행기를 타고 모든 국가들을 여행할 수 있도록 도와주자.\n",
    "\n",
    "상근이가 한 국가에서 다른 국가로 이동할 때 다른 국가를 거쳐 가도(심지어 이미 방문한 국가라도) 된다."
   ]
  },
  {
   "cell_type": "code",
   "execution_count": null,
   "metadata": {},
   "outputs": [],
   "source": [
    "from collections import deque\n",
    "import sys\n",
    "input = sys.stdin.readline\n",
    "\n",
    "T = int(input().rstrip())\n",
    "\n",
    "def bfs(start, plane):\n",
    "    q = deque()\n",
    "    q.append(start)\n",
    "    visited[start] = True\n",
    "    \n",
    "    while q:\n",
    "        if visited.count(True) == N:    # 모든 국가 방문시 종료\n",
    "            return plane\n",
    "        cur = q.popleft()\n",
    "        \n",
    "        for node in graph[cur]:     # 연결된 노드 방문\n",
    "            if not visited[node]:\n",
    "                q.append(node)      # 처음 방문한 노드면 큐에 추가\n",
    "                plane +=1\n",
    "                visited[node] = True\n",
    "\n",
    "for _ in range(T):\n",
    "    N,M = map(int, input().split())\n",
    "    visited = [False] * (N+1)\n",
    "    \n",
    "    graph = [ [] for _ in range(N+1) ]  # \n",
    "    \n",
    "    for _ in range(M):\n",
    "        a,b = map(int, input().split())\n",
    "        graph[a].append(b)\n",
    "        graph[b].append(a)\n",
    "        \n",
    "    p = bfs(1,0)\n",
    "    print(p)"
   ]
  }
 ],
 "metadata": {
  "kernelspec": {
   "display_name": "base",
   "language": "python",
   "name": "python3"
  },
  "language_info": {
   "codemirror_mode": {
    "name": "ipython",
    "version": 3
   },
   "file_extension": ".py",
   "mimetype": "text/x-python",
   "name": "python",
   "nbconvert_exporter": "python",
   "pygments_lexer": "ipython3",
   "version": "3.9.18"
  }
 },
 "nbformat": 4,
 "nbformat_minor": 2
}
